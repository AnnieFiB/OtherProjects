








import sys
import os
sys.path.append("../scripts")
import weather

import warnings
warnings.simplefilter(action="ignore", category=FutureWarning)
warnings.simplefilter(action="ignore", category=DeprecationWarning)


weather.main()






