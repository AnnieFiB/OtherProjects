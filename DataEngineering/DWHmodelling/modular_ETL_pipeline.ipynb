{
 "cells": [
  {
   "cell_type": "markdown",
   "id": "c7e04357-670d-49b0-8ae3-ebda9fa21a01",
   "metadata": {},
   "source": [
    "# A Modular ETL Pipeline Using Python & PostgreSQL"
   ]
  },
  {
   "cell_type": "markdown",
   "id": "528868ef-c588-4de2-8ea6-3160e2f423c3",
   "metadata": {},
   "source": [
    "## Load library and dependencies"
   ]
  },
  {
   "cell_type": "code",
   "execution_count": 1,
   "id": "00a82a33-20d8-456b-a97b-dbf50c7991d3",
   "metadata": {},
   "outputs": [
    {
     "name": "stdout",
     "output_type": "stream",
     "text": [
      "✅ Environment ready!\n"
     ]
    }
   ],
   "source": [
    "# Import dependencies\n",
    "import pandas as pd\n",
    "from IPython.display import display\n",
    "import sys\n",
    "from pathlib import Path\n",
    "#sys.path.append(str(Path.cwd().parent)) # Add parent directory\n",
    "sys.path.append(\"../../scripts\")\n",
    "from dynamic_etl_pipeline import *\n",
    "\n",
    "print(\"✅ Environment ready!\")"
   ]
  },
  {
   "cell_type": "markdown",
   "id": "d18a24d5-9b46-4084-96f6-4899091d29ef",
   "metadata": {},
   "source": [
    "## Extract (Load Raw Data)"
   ]
  },
  {
   "cell_type": "code",
   "execution_count": 7,
   "id": "83a7c8ea-1b07-4940-9e14-7705e60c59fd",
   "metadata": {
    "scrolled": true
   },
   "outputs": [
    {
     "data": {
      "application/vnd.jupyter.widget-view+json": {
       "model_id": "071b15e43ff147bf906edb590d086870",
       "version_major": 2,
       "version_minor": 0
      },
      "text/plain": [
       "Dropdown(description='Data Source:', options=('all', 'zulo_bank', 'yanki_ecom', 'sales_retailx', 'csv_ex', 'ur…"
      ]
     },
     "metadata": {},
     "output_type": "display_data"
    },
    {
     "data": {
      "application/vnd.jupyter.widget-view+json": {
       "model_id": "003b132e04804a06981e8ec72da57f71",
       "version_major": 2,
       "version_minor": 0
      },
      "text/plain": [
       "Output()"
      ]
     },
     "metadata": {},
     "output_type": "display_data"
    }
   ],
   "source": [
    "# Trigger interactive source selection\n",
    "result = select_and_load_source(ETL_CONFIG)"
   ]
  },
  {
   "cell_type": "code",
   "execution_count": 12,
   "id": "0a62aec3-ec45-4795-a655-2c158e7be08d",
   "metadata": {},
   "outputs": [
    {
     "name": "stdout",
     "output_type": "stream",
     "text": [
      "ℹ️ Using global raw_df, cfg & dataset_key for selected_source : yanki_ecom\n"
     ]
    }
   ],
   "source": [
    "print(f\"ℹ️ Using global raw_df, cfg & dataset_key for selected_source : {dataset_key}\")"
   ]
  },
  {
   "cell_type": "markdown",
   "id": "4abfc727-b658-4b3e-9722-745451c596ed",
   "metadata": {},
   "source": [
    "## Transform (Data Cleaning & Normalisation)"
   ]
  },
  {
   "cell_type": "code",
   "execution_count": 13,
   "id": "cd2ca98c-5d8e-4025-8250-487ecfae073b",
   "metadata": {
    "jupyter": {
     "source_hidden": true
    },
    "scrolled": true
   },
   "outputs": [
    {
     "data": {
      "text/plain": [
       "Order_ID               990\n",
       "Customer_ID            990\n",
       "Customer_Name          986\n",
       "Product_ID            1000\n",
       "Product_Name           628\n",
       "Brand                  968\n",
       "Category                 2\n",
       "Price                  995\n",
       "Quantity                10\n",
       "Total_Price            999\n",
       "Order_Date            1000\n",
       "Shipping_Address      1000\n",
       "City                   969\n",
       "State                   50\n",
       "Country                240\n",
       "Postal_Code            994\n",
       "Email                  999\n",
       "Phone_Number          1000\n",
       "Payment_Method           3\n",
       "Transaction_Status       2\n",
       "dtype: int64"
      ]
     },
     "execution_count": 13,
     "metadata": {},
     "output_type": "execute_result"
    }
   ],
   "source": [
    "raw_df.nunique()"
   ]
  },
  {
   "cell_type": "markdown",
   "id": "6af7c4bf-a361-4c29-9522-b6d55cc7e83a",
   "metadata": {
    "jp-MarkdownHeadingCollapsed": true
   },
   "source": [
    "### Cleaning Steps for Data Modeling & Normalization"
   ]
  },
  {
   "cell_type": "markdown",
   "id": "05329763-b3dd-4ea1-b3c9-22dac246f7fd",
   "metadata": {},
   "source": [
    "| Step                         | Action                                                                                       | Purpose                                                       |\n",
    "|------------------------------|----------------------------------------------------------------------------------------------|----------------------------------------------------------------|\n",
    "| 1. Handle Missing Values     | - Drop rows with missing `Order_ID`, `Customer_ID`                      | These are core entity identifiers; nulls would break relationships |\n",
    "|                              | - Optionally handle or impute 1 missing value in `State`                                    | Tolerable since it's likely a lookup/dimension table           |\n",
    "| 2. Ensure Correct Data Types | - Convert `Order_Date` to datetime format                                                   | Enables partitioning and relationship with a Date dimension   |\n",
    "|                              | - Ensure `Postal_Code` is treated as string if needed (for leading zeros)                   | Maintains data integrity, especially in US/UK postal codes     |\n",
    "| 3. Remove Duplicates         | - Check for and drop duplicates in `Order_ID`, `Product_ID`, `Customer_ID` combinations     | Avoids redundant relationships or many-to-many mapping noise   |\n",
    "| 4. Standardize Categorical Fields | - Lowercase and strip spaces in fields like `Category`, `Brand`, `Payment_Method`       | Ensures consistency across joins or dimensions                 |\n",
    "| 5. Verify Key Relationships  | - Ensure 1:many mappings exist: `Customer` → `Order`, `Order` → `Product`                  | For proper normalization and referential integrity             |\n",
    "| 6. Normalize Derived Fields  | - Confirm `Total_Price = Price * Quantity` or drop `Total_Price` if calculated later        | Avoid storing redundant calculations in normalized schema      |\n",
    "| 7. Split Compound Columns    | - Split `Customer_Name` into `First_Name` and `Last_Name`                       | Improves normalization (optional but good practice)            |\n",
    "| 8. Validate Contact Info     | - Basic regex or null check on `Email`, `Phone_Number`                                     | Prevent invalid records from entering DB                       |\n"
   ]
  },
  {
   "cell_type": "markdown",
   "id": "63011faa-6903-4a61-8bee-20fd78c24b84",
   "metadata": {
    "jp-MarkdownHeadingCollapsed": true
   },
   "source": [
    "### **Data Modelling (Raw → OLTP → OLAP)**"
   ]
  },
  {
   "cell_type": "markdown",
   "id": "9faa1046-6070-4678-a540-b4f2a2ed7e77",
   "metadata": {},
   "source": [
    "#### **Data Model**\n",
    "*Splitting the data into normalized tables like:*  `Customers`, `Products`, `Orders`, `Location`, `Payments`"
   ]
  },
  {
   "cell_type": "markdown",
   "id": "a671e1c1-b541-4a20-aa23-3bd5b43e47bb",
   "metadata": {},
   "source": [
    "![zulobank](modeldesign/design_lucidchart_zulodb.png)\n",
    "\n",
    "![yankiecom](modeldesign/design_drawio_yankidb.png)"
   ]
  },
  {
   "cell_type": "markdown",
   "id": "252728e7-6992-4d73-9e9c-7d6fc2b374a9",
   "metadata": {},
   "source": [
    "### Clean & Normalise df to 3NF Tables"
   ]
  },
  {
   "cell_type": "code",
   "execution_count": 14,
   "id": "b6083e3b-8039-41e8-8744-75cf919e2dbe",
   "metadata": {
    "scrolled": true
   },
   "outputs": [
    {
     "name": "stdout",
     "output_type": "stream",
     "text": [
      "\n",
      "  *************************\n",
      "\n",
      "🔁 Processing yanki_ecom...\n",
      "\n",
      "🧪 Processing source: yanki_ecom\n",
      "[ensure_correct_dtypes] ✅ Converted 'Order_Date' to datetime (mixed format, normalized).\n",
      "[handle_missing_critical] Dropped 20 rows with nulls in ['Order_ID', 'Customer_ID']\n",
      "[split_compound_column] ✅ Split 'Customer_Name' into ['First_Name', 'Last_Name']\n",
      "[split_compound_column] ✅ Split 'Shipping_Address' into ['Address', 'City', 'State', 'Postal_Code']\n",
      "[validate_contact_info] Cleaned email in column 'Email'\n",
      "[validate_contact_info] Cleaned phone in column 'Phone_Number'\n",
      "[normalize_derived_fields] Created 'Total_Price' from Price * Quantity, rounded to 2dp.\n",
      "[standardize_categoricals] Standardized fields: ['Order_ID', 'Customer_ID', 'Customer_Name', 'Product_ID', 'Product_Name', 'Brand', 'Category', 'Shipping_Address', 'City', 'State', 'Country', 'Postal_Code', 'Email', 'Phone_Number', 'Payment_Method', 'Transaction_Status', 'First_Name', 'Last_Name', 'Address']\n",
      "✅ Finished processing: yanki_ecom — 1000 rows, 23 columns\n",
      "\n",
      "  *************************\n",
      "\n",
      "🔄 Pre-splitting raw data into temporary tables...\n",
      "\n",
      "🧩 Splitting and normalizing tables...\n",
      "🔍 'customer': Dropped 0 rows with nulls in ['customer_id']\n",
      "🧹 'customer': Removed 10 full duplicate rows\n",
      "✅ Created 'customer': 990 rows (from 1000)\n",
      "🔍 'product': Dropped 0 rows with nulls in ['product_id']\n",
      "🧹 'product': Removed 10 full duplicate rows\n",
      "✅ Created 'product': 990 rows (from 1000)\n",
      "🧹 'location': Removed 10 full duplicate rows\n",
      "✅ Created 'location': 990 rows (from 1000)\n",
      "🔍 'order': Dropped 0 rows with nulls in ['order_id']\n",
      "🧹 'order': Removed 10 full duplicate rows\n",
      "✅ Created 'order': 990 rows (from 1000)\n",
      "🔍 'payment': Dropped 0 rows with nulls in ['order_id']\n",
      "🧹 'payment': Removed 10 full duplicate rows\n",
      "✅ Created 'payment': 990 rows (from 1000)\n",
      "\n",
      "  *************************\n",
      "\n",
      "📅 Generating and mapping date dimension...\n",
      "ℹ️ Skipping date_dim generation. OLAP pipeline not enabled or config missing.\n",
      "\n",
      "  *************************\n",
      "\n",
      "🔑 Generating primary keys for temporary tables...\n",
      "✅ PKs generated for 'customer': ['customer_id']\n",
      "✅ PKs generated for 'product': ['product_id']\n",
      "⚠️ Generating synthetic PK 'location_id' for 'location'\n",
      "✅ PKs generated for 'location': ['location_id']\n",
      "✅ PKs generated for 'order': ['order_id']\n",
      "🧭 Copied PK from order_id → payment_id\n",
      "✅ PKs generated for 'payment': ['payment_id']\n",
      "\n",
      "  *************************\n",
      "\n",
      "🔗 Enforcing configured foreign keys and injecting missing values if needed...\n",
      "✅ Enforced 4 foreign key relationships.\n",
      "📋 Table load order resolved: ['location', 'payment', 'order', 'product', 'customer']\n",
      "\n",
      "  *************************\n",
      "✅ Normalized into 5 OLTP tables.\n",
      "\n",
      "  *************************\n",
      "ℹ️ Skipping SK generation — OLAP pipeline not enabled.\n",
      "\n",
      "  *************************\n",
      "\n",
      "🔢 Converting PKs to Int64 where applicable...\n",
      "🔢 Converted 'location.location_id' to Int64\n",
      "\n",
      "✅ OLTP transformation complete: 5 tables ready.\n",
      "\n",
      "  *************************\n"
     ]
    }
   ],
   "source": [
    "# Clean, split to normalised tables, check for missing pks and insert missing fk from config\n",
    "oltp_tables, pk_dict, fk_dict, sk_dict = transform_oltp(dataset_key, cfg, raw_df)"
   ]
  },
  {
   "cell_type": "markdown",
   "id": "71a23f7d-2808-490d-8094-2af18a4902fa",
   "metadata": {},
   "source": [
    "### Inspect OLTP tables to be created in the DB"
   ]
  },
  {
   "cell_type": "code",
   "execution_count": 15,
   "id": "02dde28a-37c6-4ac1-98bf-5bcee1e5ec26",
   "metadata": {
    "scrolled": true
   },
   "outputs": [
    {
     "name": "stdout",
     "output_type": "stream",
     "text": [
      "\n",
      "=== Database Structure ===\n",
      "Tables: ['location', 'payment', 'order', 'product', 'customer']\n",
      "\n",
      "\n",
      "\n",
      "Primary Keys: {'customer': ['customer_id'], 'product': ['product_id'], 'location': ['location_id'], 'order': ['order_id'], 'payment': ['payment_id']}\n",
      "\n",
      "\n",
      "Foreign Keys: {'order': [('customer_id', 'customer', 'customer_id'), ('product_id', 'product', 'product_id')], 'location': [('customer_id', 'customer', 'customer_id')], 'payment': [('order_id', 'order', 'order_id')]}\n",
      "\n",
      "\n",
      "Surrogate Keys: {}\n",
      "\n",
      "=== Table Details ===\n",
      "\n",
      "📊 LOCATION\n",
      "Rows: 990, Columns: 7\n",
      "\n",
      "Sample Data:\n"
     ]
    },
    {
     "data": {
      "text/html": [
       "<div>\n",
       "<style scoped>\n",
       "    .dataframe tbody tr th:only-of-type {\n",
       "        vertical-align: middle;\n",
       "    }\n",
       "\n",
       "    .dataframe tbody tr th {\n",
       "        vertical-align: top;\n",
       "    }\n",
       "\n",
       "    .dataframe thead th {\n",
       "        text-align: right;\n",
       "    }\n",
       "</style>\n",
       "<table border=\"1\" class=\"dataframe\">\n",
       "  <thead>\n",
       "    <tr style=\"text-align: right;\">\n",
       "      <th></th>\n",
       "      <th>customer_id</th>\n",
       "      <th>address</th>\n",
       "      <th>city</th>\n",
       "      <th>state</th>\n",
       "      <th>postal_code</th>\n",
       "      <th>country</th>\n",
       "      <th>location_id</th>\n",
       "    </tr>\n",
       "  </thead>\n",
       "  <tbody>\n",
       "    <tr>\n",
       "      <th>0</th>\n",
       "      <td>e0d6cb3c-c4b0-4cfe-8225-b65d094d2424</td>\n",
       "      <td>psc 2224, box 2284</td>\n",
       "      <td>apo</td>\n",
       "      <td>ap</td>\n",
       "      <td>65880</td>\n",
       "      <td>kuwait</td>\n",
       "      <td>1</td>\n",
       "    </tr>\n",
       "    <tr>\n",
       "      <th>1</th>\n",
       "      <td>fa3ca35a-5540-404b-a7eb-9001cdcbd840</td>\n",
       "      <td>83909 johnson mall</td>\n",
       "      <td>tranberg,</td>\n",
       "      <td>ms</td>\n",
       "      <td>99017</td>\n",
       "      <td>saint vincent and the grenadines</td>\n",
       "      <td>2</td>\n",
       "    </tr>\n",
       "    <tr>\n",
       "      <th>2</th>\n",
       "      <td>7ad4de53-e6d7-4cd3-99b8-13fb70fe7a34</td>\n",
       "      <td>82101 johnson flat west</td>\n",
       "      <td>ryan,</td>\n",
       "      <td>ms</td>\n",
       "      <td>29075</td>\n",
       "      <td>france</td>\n",
       "      <td>3</td>\n",
       "    </tr>\n",
       "  </tbody>\n",
       "</table>\n",
       "</div>"
      ],
      "text/plain": [
       "                            customer_id                  address       city  \\\n",
       "0  e0d6cb3c-c4b0-4cfe-8225-b65d094d2424       psc 2224, box 2284        apo   \n",
       "1  fa3ca35a-5540-404b-a7eb-9001cdcbd840       83909 johnson mall  tranberg,   \n",
       "2  7ad4de53-e6d7-4cd3-99b8-13fb70fe7a34  82101 johnson flat west      ryan,   \n",
       "\n",
       "  state postal_code                           country  location_id  \n",
       "0    ap       65880                            kuwait            1  \n",
       "1    ms       99017  saint vincent and the grenadines            2  \n",
       "2    ms       29075                            france            3  "
      ]
     },
     "metadata": {},
     "output_type": "display_data"
    },
    {
     "name": "stdout",
     "output_type": "stream",
     "text": [
      "\n",
      "Column Info:\n"
     ]
    },
    {
     "data": {
      "text/plain": [
       "customer_id    object\n",
       "address        object\n",
       "city           object\n",
       "state          object\n",
       "postal_code    object\n",
       "country        object\n",
       "location_id     Int64\n",
       "dtype: object"
      ]
     },
     "metadata": {},
     "output_type": "display_data"
    },
    {
     "name": "stdout",
     "output_type": "stream",
     "text": [
      "--------------------------------------------------\n",
      "\n",
      "📊 PAYMENT\n",
      "Rows: 990, Columns: 4\n",
      "\n",
      "Sample Data:\n"
     ]
    },
    {
     "data": {
      "text/html": [
       "<div>\n",
       "<style scoped>\n",
       "    .dataframe tbody tr th:only-of-type {\n",
       "        vertical-align: middle;\n",
       "    }\n",
       "\n",
       "    .dataframe tbody tr th {\n",
       "        vertical-align: top;\n",
       "    }\n",
       "\n",
       "    .dataframe thead th {\n",
       "        text-align: right;\n",
       "    }\n",
       "</style>\n",
       "<table border=\"1\" class=\"dataframe\">\n",
       "  <thead>\n",
       "    <tr style=\"text-align: right;\">\n",
       "      <th></th>\n",
       "      <th>order_id</th>\n",
       "      <th>payment_method</th>\n",
       "      <th>transaction_status</th>\n",
       "      <th>payment_id</th>\n",
       "    </tr>\n",
       "  </thead>\n",
       "  <tbody>\n",
       "    <tr>\n",
       "      <th>0</th>\n",
       "      <td>e32af09a-b6ab-497e-af3a-331e4d4ed6e7</td>\n",
       "      <td>debit card</td>\n",
       "      <td>completed</td>\n",
       "      <td>e32af09a-b6ab-497e-af3a-331e4d4ed6e7</td>\n",
       "    </tr>\n",
       "    <tr>\n",
       "      <th>1</th>\n",
       "      <td>86eb8859-14ab-4d4e-9267-c5826f4e0c8e</td>\n",
       "      <td>credit card</td>\n",
       "      <td>completed</td>\n",
       "      <td>86eb8859-14ab-4d4e-9267-c5826f4e0c8e</td>\n",
       "    </tr>\n",
       "    <tr>\n",
       "      <th>2</th>\n",
       "      <td>7379b560-8897-4623-92a2-523ddcdc43a1</td>\n",
       "      <td>paypal</td>\n",
       "      <td>pending</td>\n",
       "      <td>7379b560-8897-4623-92a2-523ddcdc43a1</td>\n",
       "    </tr>\n",
       "  </tbody>\n",
       "</table>\n",
       "</div>"
      ],
      "text/plain": [
       "                               order_id payment_method transaction_status  \\\n",
       "0  e32af09a-b6ab-497e-af3a-331e4d4ed6e7     debit card          completed   \n",
       "1  86eb8859-14ab-4d4e-9267-c5826f4e0c8e    credit card          completed   \n",
       "2  7379b560-8897-4623-92a2-523ddcdc43a1         paypal            pending   \n",
       "\n",
       "                             payment_id  \n",
       "0  e32af09a-b6ab-497e-af3a-331e4d4ed6e7  \n",
       "1  86eb8859-14ab-4d4e-9267-c5826f4e0c8e  \n",
       "2  7379b560-8897-4623-92a2-523ddcdc43a1  "
      ]
     },
     "metadata": {},
     "output_type": "display_data"
    },
    {
     "name": "stdout",
     "output_type": "stream",
     "text": [
      "\n",
      "Column Info:\n"
     ]
    },
    {
     "data": {
      "text/plain": [
       "order_id              object\n",
       "payment_method        object\n",
       "transaction_status    object\n",
       "payment_id            object\n",
       "dtype: object"
      ]
     },
     "metadata": {},
     "output_type": "display_data"
    },
    {
     "name": "stdout",
     "output_type": "stream",
     "text": [
      "--------------------------------------------------\n",
      "\n",
      "📊 ORDER\n",
      "Rows: 990, Columns: 6\n",
      "\n",
      "Sample Data:\n"
     ]
    },
    {
     "data": {
      "text/html": [
       "<div>\n",
       "<style scoped>\n",
       "    .dataframe tbody tr th:only-of-type {\n",
       "        vertical-align: middle;\n",
       "    }\n",
       "\n",
       "    .dataframe tbody tr th {\n",
       "        vertical-align: top;\n",
       "    }\n",
       "\n",
       "    .dataframe thead th {\n",
       "        text-align: right;\n",
       "    }\n",
       "</style>\n",
       "<table border=\"1\" class=\"dataframe\">\n",
       "  <thead>\n",
       "    <tr style=\"text-align: right;\">\n",
       "      <th></th>\n",
       "      <th>order_id</th>\n",
       "      <th>customer_id</th>\n",
       "      <th>product_id</th>\n",
       "      <th>quantity</th>\n",
       "      <th>total_price</th>\n",
       "      <th>order_date</th>\n",
       "    </tr>\n",
       "  </thead>\n",
       "  <tbody>\n",
       "    <tr>\n",
       "      <th>0</th>\n",
       "      <td>e32af09a-b6ab-497e-af3a-331e4d4ed6e7</td>\n",
       "      <td>e0d6cb3c-c4b0-4cfe-8225-b65d094d2424</td>\n",
       "      <td>2ef6e8fa-6a36-4515-b1c2-a0a700abf386</td>\n",
       "      <td>2</td>\n",
       "      <td>501.14</td>\n",
       "      <td>2020-06-03</td>\n",
       "    </tr>\n",
       "    <tr>\n",
       "      <th>1</th>\n",
       "      <td>86eb8859-14ab-4d4e-9267-c5826f4e0c8e</td>\n",
       "      <td>fa3ca35a-5540-404b-a7eb-9001cdcbd840</td>\n",
       "      <td>3ba38e01-f8e7-4af2-9246-87ef0961d4f5</td>\n",
       "      <td>6</td>\n",
       "      <td>1078.86</td>\n",
       "      <td>2020-07-31</td>\n",
       "    </tr>\n",
       "    <tr>\n",
       "      <th>2</th>\n",
       "      <td>7379b560-8897-4623-92a2-523ddcdc43a1</td>\n",
       "      <td>7ad4de53-e6d7-4cd3-99b8-13fb70fe7a34</td>\n",
       "      <td>a58c53bd-a34b-4541-b926-bec9eb84cac2</td>\n",
       "      <td>7</td>\n",
       "      <td>4203.85</td>\n",
       "      <td>2021-11-05</td>\n",
       "    </tr>\n",
       "  </tbody>\n",
       "</table>\n",
       "</div>"
      ],
      "text/plain": [
       "                               order_id                           customer_id  \\\n",
       "0  e32af09a-b6ab-497e-af3a-331e4d4ed6e7  e0d6cb3c-c4b0-4cfe-8225-b65d094d2424   \n",
       "1  86eb8859-14ab-4d4e-9267-c5826f4e0c8e  fa3ca35a-5540-404b-a7eb-9001cdcbd840   \n",
       "2  7379b560-8897-4623-92a2-523ddcdc43a1  7ad4de53-e6d7-4cd3-99b8-13fb70fe7a34   \n",
       "\n",
       "                             product_id  quantity  total_price order_date  \n",
       "0  2ef6e8fa-6a36-4515-b1c2-a0a700abf386         2       501.14 2020-06-03  \n",
       "1  3ba38e01-f8e7-4af2-9246-87ef0961d4f5         6      1078.86 2020-07-31  \n",
       "2  a58c53bd-a34b-4541-b926-bec9eb84cac2         7      4203.85 2021-11-05  "
      ]
     },
     "metadata": {},
     "output_type": "display_data"
    },
    {
     "name": "stdout",
     "output_type": "stream",
     "text": [
      "\n",
      "Column Info:\n"
     ]
    },
    {
     "data": {
      "text/plain": [
       "order_id               object\n",
       "customer_id            object\n",
       "product_id             object\n",
       "quantity                int64\n",
       "total_price           float64\n",
       "order_date     datetime64[ns]\n",
       "dtype: object"
      ]
     },
     "metadata": {},
     "output_type": "display_data"
    },
    {
     "name": "stdout",
     "output_type": "stream",
     "text": [
      "--------------------------------------------------\n",
      "\n",
      "📊 PRODUCT\n",
      "Rows: 990, Columns: 5\n",
      "\n",
      "Sample Data:\n"
     ]
    },
    {
     "data": {
      "text/html": [
       "<div>\n",
       "<style scoped>\n",
       "    .dataframe tbody tr th:only-of-type {\n",
       "        vertical-align: middle;\n",
       "    }\n",
       "\n",
       "    .dataframe tbody tr th {\n",
       "        vertical-align: top;\n",
       "    }\n",
       "\n",
       "    .dataframe thead th {\n",
       "        text-align: right;\n",
       "    }\n",
       "</style>\n",
       "<table border=\"1\" class=\"dataframe\">\n",
       "  <thead>\n",
       "    <tr style=\"text-align: right;\">\n",
       "      <th></th>\n",
       "      <th>product_id</th>\n",
       "      <th>product_name</th>\n",
       "      <th>brand</th>\n",
       "      <th>category</th>\n",
       "      <th>price</th>\n",
       "    </tr>\n",
       "  </thead>\n",
       "  <tbody>\n",
       "    <tr>\n",
       "      <th>0</th>\n",
       "      <td>2ef6e8fa-6a36-4515-b1c2-a0a700abf386</td>\n",
       "      <td>despite</td>\n",
       "      <td>lawson, stone and campos</td>\n",
       "      <td>perfume oil</td>\n",
       "      <td>250.57</td>\n",
       "    </tr>\n",
       "    <tr>\n",
       "      <th>1</th>\n",
       "      <td>3ba38e01-f8e7-4af2-9246-87ef0961d4f5</td>\n",
       "      <td>sea</td>\n",
       "      <td>washington group</td>\n",
       "      <td>perfume oil</td>\n",
       "      <td>179.81</td>\n",
       "    </tr>\n",
       "    <tr>\n",
       "      <th>2</th>\n",
       "      <td>a58c53bd-a34b-4541-b926-bec9eb84cac2</td>\n",
       "      <td>suddenly</td>\n",
       "      <td>rodgers ltd</td>\n",
       "      <td>perfume oil</td>\n",
       "      <td>600.55</td>\n",
       "    </tr>\n",
       "  </tbody>\n",
       "</table>\n",
       "</div>"
      ],
      "text/plain": [
       "                             product_id product_name  \\\n",
       "0  2ef6e8fa-6a36-4515-b1c2-a0a700abf386      despite   \n",
       "1  3ba38e01-f8e7-4af2-9246-87ef0961d4f5          sea   \n",
       "2  a58c53bd-a34b-4541-b926-bec9eb84cac2     suddenly   \n",
       "\n",
       "                      brand     category   price  \n",
       "0  lawson, stone and campos  perfume oil  250.57  \n",
       "1          washington group  perfume oil  179.81  \n",
       "2               rodgers ltd  perfume oil  600.55  "
      ]
     },
     "metadata": {},
     "output_type": "display_data"
    },
    {
     "name": "stdout",
     "output_type": "stream",
     "text": [
      "\n",
      "Column Info:\n"
     ]
    },
    {
     "data": {
      "text/plain": [
       "product_id       object\n",
       "product_name     object\n",
       "brand            object\n",
       "category         object\n",
       "price           float64\n",
       "dtype: object"
      ]
     },
     "metadata": {},
     "output_type": "display_data"
    },
    {
     "name": "stdout",
     "output_type": "stream",
     "text": [
      "--------------------------------------------------\n",
      "\n",
      "📊 CUSTOMER\n",
      "Rows: 990, Columns: 5\n",
      "\n",
      "Sample Data:\n"
     ]
    },
    {
     "data": {
      "text/html": [
       "<div>\n",
       "<style scoped>\n",
       "    .dataframe tbody tr th:only-of-type {\n",
       "        vertical-align: middle;\n",
       "    }\n",
       "\n",
       "    .dataframe tbody tr th {\n",
       "        vertical-align: top;\n",
       "    }\n",
       "\n",
       "    .dataframe thead th {\n",
       "        text-align: right;\n",
       "    }\n",
       "</style>\n",
       "<table border=\"1\" class=\"dataframe\">\n",
       "  <thead>\n",
       "    <tr style=\"text-align: right;\">\n",
       "      <th></th>\n",
       "      <th>customer_id</th>\n",
       "      <th>first_name</th>\n",
       "      <th>last_name</th>\n",
       "      <th>email</th>\n",
       "      <th>phone_number</th>\n",
       "    </tr>\n",
       "  </thead>\n",
       "  <tbody>\n",
       "    <tr>\n",
       "      <th>0</th>\n",
       "      <td>e0d6cb3c-c4b0-4cfe-8225-b65d094d2424</td>\n",
       "      <td>dominic</td>\n",
       "      <td>buchanan</td>\n",
       "      <td>margaret97@example.com</td>\n",
       "      <td>2596036134</td>\n",
       "    </tr>\n",
       "    <tr>\n",
       "      <th>1</th>\n",
       "      <td>fa3ca35a-5540-404b-a7eb-9001cdcbd840</td>\n",
       "      <td>daniel</td>\n",
       "      <td>allen</td>\n",
       "      <td>angela55@example.com</td>\n",
       "      <td>+18696594272982</td>\n",
       "    </tr>\n",
       "    <tr>\n",
       "      <th>2</th>\n",
       "      <td>7ad4de53-e6d7-4cd3-99b8-13fb70fe7a34</td>\n",
       "      <td>daniel</td>\n",
       "      <td>schmidt</td>\n",
       "      <td>wayne59@example.org</td>\n",
       "      <td>2928400975724</td>\n",
       "    </tr>\n",
       "  </tbody>\n",
       "</table>\n",
       "</div>"
      ],
      "text/plain": [
       "                            customer_id first_name last_name  \\\n",
       "0  e0d6cb3c-c4b0-4cfe-8225-b65d094d2424    dominic  buchanan   \n",
       "1  fa3ca35a-5540-404b-a7eb-9001cdcbd840     daniel     allen   \n",
       "2  7ad4de53-e6d7-4cd3-99b8-13fb70fe7a34     daniel   schmidt   \n",
       "\n",
       "                    email     phone_number  \n",
       "0  margaret97@example.com       2596036134  \n",
       "1    angela55@example.com  +18696594272982  \n",
       "2     wayne59@example.org    2928400975724  "
      ]
     },
     "metadata": {},
     "output_type": "display_data"
    },
    {
     "name": "stdout",
     "output_type": "stream",
     "text": [
      "\n",
      "Column Info:\n"
     ]
    },
    {
     "data": {
      "text/plain": [
       "customer_id     object\n",
       "first_name      object\n",
       "last_name       object\n",
       "email           object\n",
       "phone_number    object\n",
       "dtype: object"
      ]
     },
     "metadata": {},
     "output_type": "display_data"
    },
    {
     "name": "stdout",
     "output_type": "stream",
     "text": [
      "--------------------------------------------------\n"
     ]
    }
   ],
   "source": [
    "# Visualize and inspect all OLTP tables\n",
    "display_database_info(oltp_tables, pk_dict, fk_dict, sk_dict)"
   ]
  },
  {
   "cell_type": "markdown",
   "id": "b92787ea-2870-4ccf-9973-8a1a1f347767",
   "metadata": {},
   "source": [
    "### Save normalised tables to csv (optional)"
   ]
  },
  {
   "cell_type": "code",
   "execution_count": 16,
   "id": "83b814d3-7fe1-4a84-93ba-af2b2e3123c1",
   "metadata": {
    "scrolled": true
   },
   "outputs": [],
   "source": [
    "#save_tables_to_csv(tables=oltp_tables, export_dir=\"dataset/\")"
   ]
  },
  {
   "cell_type": "markdown",
   "id": "162fceb0-adc8-4ea3-8491-6b5619cb6304",
   "metadata": {},
   "source": [
    "## Load to postgreSQL"
   ]
  },
  {
   "cell_type": "markdown",
   "id": "6ca48c9d-0b3d-422f-9c9f-28b0b5fa76aa",
   "metadata": {},
   "source": [
    "### DB CONNECTION"
   ]
  },
  {
   "cell_type": "code",
   "execution_count": 17,
   "id": "e320b1dd-62ca-4183-9be4-0b6f8b4efc0b",
   "metadata": {},
   "outputs": [
    {
     "name": "stdout",
     "output_type": "stream",
     "text": [
      "[get_db_connection] ✅ Connected to 'user=postgres password=xxx dbname=yanki_ecomm host=localhost port=5432' using prefix 'YANKI_DB_'\n"
     ]
    }
   ],
   "source": [
    "conn = get_db_connection(env_prefix=\"YANKI_DB_\") # YANKI_DB_ , ZULO_DB_"
   ]
  },
  {
   "cell_type": "markdown",
   "id": "59a86d1a-da8e-4e15-8b90-87b783cc1839",
   "metadata": {},
   "source": [
    "### Run ETL Pipeline (OLTP /OLAP)"
   ]
  },
  {
   "cell_type": "code",
   "execution_count": 18,
   "id": "ffe2336d-2c91-4513-a20d-30943b187eaf",
   "metadata": {
    "jupyter": {
     "source_hidden": true
    },
    "scrolled": true
   },
   "outputs": [
    {
     "name": "stdout",
     "output_type": "stream",
     "text": [
      "\n",
      " oltp_tables exist, proceeding with schema creation\n",
      "\n",
      "  *************************\n",
      "🧱 Creating OLTP schema and tables...\n",
      "📦 Creating OLTP schema: yanki_oltp\n",
      "⏩ yanki_oltp.location exists — skipping\n",
      "⏩ yanki_oltp.payment exists — skipping\n",
      "⏩ yanki_oltp.order exists — skipping\n",
      "⏩ yanki_oltp.product exists — skipping\n",
      "⏩ yanki_oltp.customer exists — skipping\n",
      "⏩ FK exists: fk_order_customer_id_to_customer_customer_id — skipping\n",
      "⏩ FK exists: fk_order_product_id_to_product_product_id — skipping\n",
      "⏩ FK exists: fk_location_customer_id_to_customer_customer_id — skipping\n",
      "⏩ FK exists: fk_payment_order_id_to_order_order_id — skipping\n",
      "✅ OLTP schema and constraints applied.\n",
      "\n",
      "\n",
      "  *************************\n",
      "📥 Loading OLTP data into DB...\n",
      "🔁 Insert Order: ['location', 'payment', 'order', 'product', 'customer']\n",
      "[UPSERT] ✅ Inserted 990 rows into yanki_oltp.customer\n",
      "   ✅ customer (990 rows)\n",
      "[UPSERT] ✅ Inserted 990 rows into yanki_oltp.product\n",
      "   ✅ product (990 rows)\n",
      "[UPSERT] ✅ Inserted 990 rows into yanki_oltp.order\n",
      "   ✅ order (990 rows)\n",
      "[UPSERT] ✅ Inserted 990 rows into yanki_oltp.payment\n",
      "   ✅ payment (990 rows)\n",
      "[UPSERT] ✅ Inserted 990 rows into yanki_oltp.location\n",
      "   ✅ location (990 rows)\n",
      "\n",
      "  *************************\n",
      "\n",
      "  *************************\n",
      "{'start_time': '2025-04-21T20:22:31.960116', 'stages': {'oltp_schema': '✅ OLTP schema and tables created', 'oltp_data_loaded': '✅ OLTP data loaded'}, 'success': True, 'end_time': '2025-04-21T20:22:33.253675'}\n"
     ]
    }
   ],
   "source": [
    "result = run_dynamic_etl_pipeline(conn, dataset_key, raw_df, cfg, oltp_tables,pk_dict,fk_dict,sk_dict)\n",
    "print(result)"
   ]
  },
  {
   "cell_type": "code",
   "execution_count": 20,
   "id": "f84091a2-1848-4fa8-b41d-5cbfaba44033",
   "metadata": {},
   "outputs": [
    {
     "name": "stdout",
     "output_type": "stream",
     "text": [
      "✅ OLTP pipeline completed. No OLAP schema configured.\n"
     ]
    }
   ],
   "source": [
    "if result[\"success\"]:\n",
    "    if \"olap\" not in cfg:\n",
    "        print(\"✅ OLTP pipeline completed. No OLAP schema configured.\")\n",
    "    else:\n",
    "        display_olap_info(conn, cfg)\n",
    "else:\n",
    "    print(\"❌ Pipeline failed. Please fix the errors before proceeding.\")"
   ]
  },
  {
   "cell_type": "markdown",
   "id": "d97ed15b-30c8-426b-9b0e-a7c67e120fa5",
   "metadata": {
    "jp-MarkdownHeadingCollapsed": true
   },
   "source": [
    "## Export insert sql script to file"
   ]
  },
  {
   "cell_type": "code",
   "execution_count": null,
   "id": "75ddd0fc-2329-4cd5-b805-76c4212f17cb",
   "metadata": {
    "jupyter": {
     "source_hidden": true
    }
   },
   "outputs": [],
   "source": [
    "# Generate SQL script to insert to the database table (Optional)\n",
    "export_sql_script(\n",
    "    schema= \"yanki_oltp\",\n",
    "    tables= oltp_tables,\n",
    "    foreign_keys= fk_dict,\n",
    "    output_sql_path= \"sqlscript/yanki_insert.sql\"\n",
    ")"
   ]
  },
  {
   "cell_type": "markdown",
   "id": "58019d95-d410-4365-a1a6-09821b5a455c",
   "metadata": {},
   "source": [
    "## Visualise ERD"
   ]
  },
  {
   "cell_type": "code",
   "execution_count": 27,
   "id": "6b90b3a5-ec0f-456d-8ed3-a254d6f217f2",
   "metadata": {},
   "outputs": [
    {
     "name": "stdout",
     "output_type": "stream",
     "text": [
      "✅ OLTP-only model. Displaying OLTP ERD...\n"
     ]
    },
    {
     "data": {
      "image/svg+xml": [
       "<?xml version=\"1.0\" encoding=\"UTF-8\" standalone=\"no\"?>\n",
       "<!DOCTYPE svg PUBLIC \"-//W3C//DTD SVG 1.1//EN\"\n",
       " \"http://www.w3.org/Graphics/SVG/1.1/DTD/svg11.dtd\">\n",
       "<!-- Generated by graphviz version 12.2.1 (20241206.2353)\n",
       " -->\n",
       "<!-- Title: erd Pages: 1 -->\n",
       "<svg width=\"384pt\" height=\"168pt\"\n",
       " viewBox=\"0.00 0.00 383.50 167.50\" xmlns=\"http://www.w3.org/2000/svg\" xmlns:xlink=\"http://www.w3.org/1999/xlink\">\n",
       "<g id=\"graph0\" class=\"graph\" transform=\"scale(1 1) rotate(0) translate(4 163.5)\">\n",
       "<title>erd</title>\n",
       "<polygon fill=\"white\" stroke=\"none\" points=\"-4,4 -4,-163.5 379.5,-163.5 379.5,4 -4,4\"/>\n",
       "<!-- order -->\n",
       "<g id=\"node1\" class=\"node\">\n",
       "<title>order</title>\n",
       "<path fill=\"none\" stroke=\"black\" d=\"M190.38,-36C190.38,-36 160.38,-36 160.38,-36 154.38,-36 148.38,-30 148.38,-24 148.38,-24 148.38,-12 148.38,-12 148.38,-6 154.38,0 160.38,0 160.38,0 190.38,0 190.38,0 196.38,0 202.38,-6 202.38,-12 202.38,-12 202.38,-24 202.38,-24 202.38,-30 196.38,-36 190.38,-36\"/>\n",
       "<text text-anchor=\"middle\" x=\"175.38\" y=\"-12.95\" font-family=\"Times New Roman,serif\" font-size=\"14.00\">order</text>\n",
       "</g>\n",
       "<!-- order&#45;&gt;order -->\n",
       "<g id=\"edge8\" class=\"edge\">\n",
       "<title>order&#45;&gt;order</title>\n",
       "<path fill=\"none\" stroke=\"black\" stroke-dasharray=\"5,2\" d=\"M162.6,-36.15C160.63,-45.54 164.89,-54 175.38,-54 181.27,-54 185.2,-51.32 187.16,-47.31\"/>\n",
       "<polygon fill=\"black\" stroke=\"black\" points=\"190.62,-47.93 188.02,-37.66 183.64,-47.31 190.62,-47.93\"/>\n",
       "<text text-anchor=\"middle\" x=\"175.38\" y=\"-57.2\" font-family=\"Times New Roman,serif\" font-size=\"14.00\">order_id</text>\n",
       "</g>\n",
       "<!-- customer -->\n",
       "<g id=\"node2\" class=\"node\">\n",
       "<title>customer</title>\n",
       "<path fill=\"none\" stroke=\"black\" d=\"M362.88,-125C362.88,-125 320.62,-125 320.62,-125 314.62,-125 308.62,-119 308.62,-113 308.62,-113 308.62,-101 308.62,-101 308.62,-95 314.62,-89 320.62,-89 320.62,-89 362.88,-89 362.88,-89 368.88,-89 374.88,-95 374.88,-101 374.88,-101 374.88,-113 374.88,-113 374.88,-119 368.88,-125 362.88,-125\"/>\n",
       "<text text-anchor=\"middle\" x=\"341.75\" y=\"-101.95\" font-family=\"Times New Roman,serif\" font-size=\"14.00\">customer</text>\n",
       "</g>\n",
       "<!-- order&#45;&gt;customer -->\n",
       "<g id=\"edge1\" class=\"edge\">\n",
       "<title>order&#45;&gt;customer</title>\n",
       "<path fill=\"none\" stroke=\"black\" d=\"M202.78,-32.3C228.55,-46.25 268.16,-67.7 298.34,-84.04\"/>\n",
       "<polygon fill=\"black\" stroke=\"black\" points=\"296.39,-86.96 306.85,-88.65 299.72,-80.81 296.39,-86.96\"/>\n",
       "<text text-anchor=\"middle\" x=\"256.88\" y=\"-81.41\" font-family=\"Times New Roman,serif\" font-size=\"14.00\">customer_id</text>\n",
       "</g>\n",
       "<!-- product -->\n",
       "<g id=\"node3\" class=\"node\">\n",
       "<title>product</title>\n",
       "<path fill=\"none\" stroke=\"black\" d=\"M358.38,-36C358.38,-36 325.12,-36 325.12,-36 319.12,-36 313.12,-30 313.12,-24 313.12,-24 313.12,-12 313.12,-12 313.12,-6 319.12,0 325.12,0 325.12,0 358.38,0 358.38,0 364.38,0 370.38,-6 370.38,-12 370.38,-12 370.38,-24 370.38,-24 370.38,-30 364.38,-36 358.38,-36\"/>\n",
       "<text text-anchor=\"middle\" x=\"341.75\" y=\"-12.95\" font-family=\"Times New Roman,serif\" font-size=\"14.00\">product</text>\n",
       "</g>\n",
       "<!-- order&#45;&gt;product -->\n",
       "<g id=\"edge2\" class=\"edge\">\n",
       "<title>order&#45;&gt;product</title>\n",
       "<path fill=\"none\" stroke=\"black\" d=\"M202.78,-18C229.38,-18 270.74,-18 301.24,-18\"/>\n",
       "<polygon fill=\"black\" stroke=\"black\" points=\"301.24,-21.5 311.24,-18 301.24,-14.5 301.24,-21.5\"/>\n",
       "<text text-anchor=\"middle\" x=\"256.88\" y=\"-21.2\" font-family=\"Times New Roman,serif\" font-size=\"14.00\">product_id</text>\n",
       "</g>\n",
       "<!-- customer&#45;&gt;customer -->\n",
       "<g id=\"edge5\" class=\"edge\">\n",
       "<title>customer&#45;&gt;customer</title>\n",
       "<path fill=\"none\" stroke=\"black\" stroke-dasharray=\"5,2\" d=\"M326.4,-125.15C324.03,-134.54 329.15,-143 341.75,-143 348.84,-143 353.56,-140.32 355.91,-136.31\"/>\n",
       "<polygon fill=\"black\" stroke=\"black\" points=\"359.36,-136.97 356.94,-126.66 352.4,-136.23 359.36,-136.97\"/>\n",
       "<text text-anchor=\"middle\" x=\"341.75\" y=\"-146.2\" font-family=\"Times New Roman,serif\" font-size=\"14.00\">customer_id</text>\n",
       "</g>\n",
       "<!-- product&#45;&gt;product -->\n",
       "<g id=\"edge6\" class=\"edge\">\n",
       "<title>product&#45;&gt;product</title>\n",
       "<path fill=\"none\" stroke=\"black\" stroke-dasharray=\"5,2\" d=\"M326.4,-36.15C324.03,-45.54 329.15,-54 341.75,-54 348.84,-54 353.56,-51.32 355.91,-47.31\"/>\n",
       "<polygon fill=\"black\" stroke=\"black\" points=\"359.36,-47.97 356.94,-37.66 352.4,-47.23 359.36,-47.97\"/>\n",
       "<text text-anchor=\"middle\" x=\"341.75\" y=\"-57.2\" font-family=\"Times New Roman,serif\" font-size=\"14.00\">product_id</text>\n",
       "</g>\n",
       "<!-- location -->\n",
       "<g id=\"node4\" class=\"node\">\n",
       "<title>location</title>\n",
       "<path fill=\"none\" stroke=\"black\" d=\"M193.12,-125C193.12,-125 157.62,-125 157.62,-125 151.62,-125 145.62,-119 145.62,-113 145.62,-113 145.62,-101 145.62,-101 145.62,-95 151.62,-89 157.62,-89 157.62,-89 193.12,-89 193.12,-89 199.12,-89 205.12,-95 205.12,-101 205.12,-101 205.12,-113 205.12,-113 205.12,-119 199.12,-125 193.12,-125\"/>\n",
       "<text text-anchor=\"middle\" x=\"175.38\" y=\"-101.95\" font-family=\"Times New Roman,serif\" font-size=\"14.00\">location</text>\n",
       "</g>\n",
       "<!-- location&#45;&gt;customer -->\n",
       "<g id=\"edge3\" class=\"edge\">\n",
       "<title>location&#45;&gt;customer</title>\n",
       "<path fill=\"none\" stroke=\"black\" d=\"M205.38,-107C230.74,-107 267.93,-107 296.91,-107\"/>\n",
       "<polygon fill=\"black\" stroke=\"black\" points=\"296.86,-110.5 306.86,-107 296.86,-103.5 296.86,-110.5\"/>\n",
       "<text text-anchor=\"middle\" x=\"256.88\" y=\"-110.2\" font-family=\"Times New Roman,serif\" font-size=\"14.00\">customer_id</text>\n",
       "</g>\n",
       "<!-- location&#45;&gt;location -->\n",
       "<g id=\"edge7\" class=\"edge\">\n",
       "<title>location&#45;&gt;location</title>\n",
       "<path fill=\"none\" stroke=\"black\" stroke-dasharray=\"5,2\" d=\"M162.6,-125.15C160.63,-134.54 164.89,-143 175.38,-143 181.27,-143 185.2,-140.32 187.16,-136.31\"/>\n",
       "<polygon fill=\"black\" stroke=\"black\" points=\"190.62,-136.93 188.02,-126.66 183.64,-136.31 190.62,-136.93\"/>\n",
       "<text text-anchor=\"middle\" x=\"175.38\" y=\"-146.2\" font-family=\"Times New Roman,serif\" font-size=\"14.00\">location_id</text>\n",
       "</g>\n",
       "<!-- payment -->\n",
       "<g id=\"node5\" class=\"node\">\n",
       "<title>payment</title>\n",
       "<path fill=\"none\" stroke=\"black\" d=\"M51.88,-36C51.88,-36 12.62,-36 12.62,-36 6.62,-36 0.62,-30 0.62,-24 0.62,-24 0.62,-12 0.62,-12 0.62,-6 6.62,0 12.62,0 12.62,0 51.88,0 51.88,0 57.88,0 63.88,-6 63.88,-12 63.88,-12 63.88,-24 63.88,-24 63.88,-30 57.88,-36 51.88,-36\"/>\n",
       "<text text-anchor=\"middle\" x=\"32.25\" y=\"-12.95\" font-family=\"Times New Roman,serif\" font-size=\"14.00\">payment</text>\n",
       "</g>\n",
       "<!-- payment&#45;&gt;order -->\n",
       "<g id=\"edge4\" class=\"edge\">\n",
       "<title>payment&#45;&gt;order</title>\n",
       "<path fill=\"none\" stroke=\"black\" d=\"M64.22,-18C85.64,-18 114.25,-18 136.95,-18\"/>\n",
       "<polygon fill=\"black\" stroke=\"black\" points=\"136.7,-21.5 146.7,-18 136.7,-14.5 136.7,-21.5\"/>\n",
       "<text text-anchor=\"middle\" x=\"104.75\" y=\"-21.2\" font-family=\"Times New Roman,serif\" font-size=\"14.00\">order_id</text>\n",
       "</g>\n",
       "<!-- payment&#45;&gt;payment -->\n",
       "<g id=\"edge9\" class=\"edge\">\n",
       "<title>payment&#45;&gt;payment</title>\n",
       "<path fill=\"none\" stroke=\"black\" stroke-dasharray=\"5,2\" d=\"M19.13,-36.15C17.12,-45.54 21.49,-54 32.25,-54 38.3,-54 42.34,-51.32 44.35,-47.31\"/>\n",
       "<polygon fill=\"black\" stroke=\"black\" points=\"47.8,-47.94 45.23,-37.66 40.83,-47.3 47.8,-47.94\"/>\n",
       "<text text-anchor=\"middle\" x=\"32.25\" y=\"-57.2\" font-family=\"Times New Roman,serif\" font-size=\"14.00\">payment_id</text>\n",
       "</g>\n",
       "</g>\n",
       "</svg>\n"
      ],
      "text/plain": [
       "<graphviz.graphs.Digraph at 0x2cea551cd50>"
      ]
     },
     "metadata": {},
     "output_type": "display_data"
    }
   ],
   "source": [
    "if \"olap\" not in cfg:\n",
    "    print(\"✅ OLTP-only model. Displaying OLTP ERD...\")\n",
    "    complete_erd = generate_erd_graph(fk_dict, sk_dict=pk_dict, title=f\"{dataset_key} - OLTP Model\")\n",
    "    display(complete_erd)\n",
    "else:\n",
    "    print(\"📊 Displaying complete OLTP/OLAP model...\")\n",
    "    complete_erd = generate_erd_graph(\n",
    "        fk_dict={**cfg[\"oltp\"][\"foreign_keys\"], **cfg[\"olap\"][\"olap_foreign_keys\"]},\n",
    "        schema_type=\"both\",\n",
    "        sk_dict=sk_dict,\n",
    "        title=\"Complete Data Model\"\n",
    "    )\n",
    "    display(complete_erd)"
   ]
  },
  {
   "cell_type": "code",
   "execution_count": 21,
   "id": "b9bd1c56-c330-4dd7-a9b6-281c3109c42f",
   "metadata": {
    "scrolled": true
   },
   "outputs": [
    {
     "data": {
      "image/svg+xml": [
       "<?xml version=\"1.0\" encoding=\"UTF-8\" standalone=\"no\"?>\n",
       "<!DOCTYPE svg PUBLIC \"-//W3C//DTD SVG 1.1//EN\"\n",
       " \"http://www.w3.org/Graphics/SVG/1.1/DTD/svg11.dtd\">\n",
       "<!-- Generated by graphviz version 12.2.1 (20241206.2353)\n",
       " -->\n",
       "<!-- Title: erd Pages: 1 -->\n",
       "<svg width=\"384pt\" height=\"168pt\"\n",
       " viewBox=\"0.00 0.00 383.50 167.50\" xmlns=\"http://www.w3.org/2000/svg\" xmlns:xlink=\"http://www.w3.org/1999/xlink\">\n",
       "<g id=\"graph0\" class=\"graph\" transform=\"scale(1 1) rotate(0) translate(4 163.5)\">\n",
       "<title>erd</title>\n",
       "<polygon fill=\"white\" stroke=\"none\" points=\"-4,4 -4,-163.5 379.5,-163.5 379.5,4 -4,4\"/>\n",
       "<!-- order -->\n",
       "<g id=\"node1\" class=\"node\">\n",
       "<title>order</title>\n",
       "<path fill=\"none\" stroke=\"black\" d=\"M190.38,-36C190.38,-36 160.38,-36 160.38,-36 154.38,-36 148.38,-30 148.38,-24 148.38,-24 148.38,-12 148.38,-12 148.38,-6 154.38,0 160.38,0 160.38,0 190.38,0 190.38,0 196.38,0 202.38,-6 202.38,-12 202.38,-12 202.38,-24 202.38,-24 202.38,-30 196.38,-36 190.38,-36\"/>\n",
       "<text text-anchor=\"middle\" x=\"175.38\" y=\"-12.95\" font-family=\"Times New Roman,serif\" font-size=\"14.00\">order</text>\n",
       "</g>\n",
       "<!-- order&#45;&gt;order -->\n",
       "<g id=\"edge8\" class=\"edge\">\n",
       "<title>order&#45;&gt;order</title>\n",
       "<path fill=\"none\" stroke=\"black\" stroke-dasharray=\"5,2\" d=\"M162.6,-36.15C160.63,-45.54 164.89,-54 175.38,-54 181.27,-54 185.2,-51.32 187.16,-47.31\"/>\n",
       "<polygon fill=\"black\" stroke=\"black\" points=\"190.62,-47.93 188.02,-37.66 183.64,-47.31 190.62,-47.93\"/>\n",
       "<text text-anchor=\"middle\" x=\"175.38\" y=\"-57.2\" font-family=\"Times New Roman,serif\" font-size=\"14.00\">order_id</text>\n",
       "</g>\n",
       "<!-- customer -->\n",
       "<g id=\"node2\" class=\"node\">\n",
       "<title>customer</title>\n",
       "<path fill=\"none\" stroke=\"black\" d=\"M362.88,-125C362.88,-125 320.62,-125 320.62,-125 314.62,-125 308.62,-119 308.62,-113 308.62,-113 308.62,-101 308.62,-101 308.62,-95 314.62,-89 320.62,-89 320.62,-89 362.88,-89 362.88,-89 368.88,-89 374.88,-95 374.88,-101 374.88,-101 374.88,-113 374.88,-113 374.88,-119 368.88,-125 362.88,-125\"/>\n",
       "<text text-anchor=\"middle\" x=\"341.75\" y=\"-101.95\" font-family=\"Times New Roman,serif\" font-size=\"14.00\">customer</text>\n",
       "</g>\n",
       "<!-- order&#45;&gt;customer -->\n",
       "<g id=\"edge1\" class=\"edge\">\n",
       "<title>order&#45;&gt;customer</title>\n",
       "<path fill=\"none\" stroke=\"black\" d=\"M202.78,-32.3C228.55,-46.25 268.16,-67.7 298.34,-84.04\"/>\n",
       "<polygon fill=\"black\" stroke=\"black\" points=\"296.39,-86.96 306.85,-88.65 299.72,-80.81 296.39,-86.96\"/>\n",
       "<text text-anchor=\"middle\" x=\"256.88\" y=\"-81.41\" font-family=\"Times New Roman,serif\" font-size=\"14.00\">customer_id</text>\n",
       "</g>\n",
       "<!-- product -->\n",
       "<g id=\"node3\" class=\"node\">\n",
       "<title>product</title>\n",
       "<path fill=\"none\" stroke=\"black\" d=\"M358.38,-36C358.38,-36 325.12,-36 325.12,-36 319.12,-36 313.12,-30 313.12,-24 313.12,-24 313.12,-12 313.12,-12 313.12,-6 319.12,0 325.12,0 325.12,0 358.38,0 358.38,0 364.38,0 370.38,-6 370.38,-12 370.38,-12 370.38,-24 370.38,-24 370.38,-30 364.38,-36 358.38,-36\"/>\n",
       "<text text-anchor=\"middle\" x=\"341.75\" y=\"-12.95\" font-family=\"Times New Roman,serif\" font-size=\"14.00\">product</text>\n",
       "</g>\n",
       "<!-- order&#45;&gt;product -->\n",
       "<g id=\"edge2\" class=\"edge\">\n",
       "<title>order&#45;&gt;product</title>\n",
       "<path fill=\"none\" stroke=\"black\" d=\"M202.78,-18C229.38,-18 270.74,-18 301.24,-18\"/>\n",
       "<polygon fill=\"black\" stroke=\"black\" points=\"301.24,-21.5 311.24,-18 301.24,-14.5 301.24,-21.5\"/>\n",
       "<text text-anchor=\"middle\" x=\"256.88\" y=\"-21.2\" font-family=\"Times New Roman,serif\" font-size=\"14.00\">product_id</text>\n",
       "</g>\n",
       "<!-- customer&#45;&gt;customer -->\n",
       "<g id=\"edge5\" class=\"edge\">\n",
       "<title>customer&#45;&gt;customer</title>\n",
       "<path fill=\"none\" stroke=\"black\" stroke-dasharray=\"5,2\" d=\"M326.4,-125.15C324.03,-134.54 329.15,-143 341.75,-143 348.84,-143 353.56,-140.32 355.91,-136.31\"/>\n",
       "<polygon fill=\"black\" stroke=\"black\" points=\"359.36,-136.97 356.94,-126.66 352.4,-136.23 359.36,-136.97\"/>\n",
       "<text text-anchor=\"middle\" x=\"341.75\" y=\"-146.2\" font-family=\"Times New Roman,serif\" font-size=\"14.00\">customer_id</text>\n",
       "</g>\n",
       "<!-- product&#45;&gt;product -->\n",
       "<g id=\"edge6\" class=\"edge\">\n",
       "<title>product&#45;&gt;product</title>\n",
       "<path fill=\"none\" stroke=\"black\" stroke-dasharray=\"5,2\" d=\"M326.4,-36.15C324.03,-45.54 329.15,-54 341.75,-54 348.84,-54 353.56,-51.32 355.91,-47.31\"/>\n",
       "<polygon fill=\"black\" stroke=\"black\" points=\"359.36,-47.97 356.94,-37.66 352.4,-47.23 359.36,-47.97\"/>\n",
       "<text text-anchor=\"middle\" x=\"341.75\" y=\"-57.2\" font-family=\"Times New Roman,serif\" font-size=\"14.00\">product_id</text>\n",
       "</g>\n",
       "<!-- location -->\n",
       "<g id=\"node4\" class=\"node\">\n",
       "<title>location</title>\n",
       "<path fill=\"none\" stroke=\"black\" d=\"M193.12,-125C193.12,-125 157.62,-125 157.62,-125 151.62,-125 145.62,-119 145.62,-113 145.62,-113 145.62,-101 145.62,-101 145.62,-95 151.62,-89 157.62,-89 157.62,-89 193.12,-89 193.12,-89 199.12,-89 205.12,-95 205.12,-101 205.12,-101 205.12,-113 205.12,-113 205.12,-119 199.12,-125 193.12,-125\"/>\n",
       "<text text-anchor=\"middle\" x=\"175.38\" y=\"-101.95\" font-family=\"Times New Roman,serif\" font-size=\"14.00\">location</text>\n",
       "</g>\n",
       "<!-- location&#45;&gt;customer -->\n",
       "<g id=\"edge3\" class=\"edge\">\n",
       "<title>location&#45;&gt;customer</title>\n",
       "<path fill=\"none\" stroke=\"black\" d=\"M205.38,-107C230.74,-107 267.93,-107 296.91,-107\"/>\n",
       "<polygon fill=\"black\" stroke=\"black\" points=\"296.86,-110.5 306.86,-107 296.86,-103.5 296.86,-110.5\"/>\n",
       "<text text-anchor=\"middle\" x=\"256.88\" y=\"-110.2\" font-family=\"Times New Roman,serif\" font-size=\"14.00\">customer_id</text>\n",
       "</g>\n",
       "<!-- location&#45;&gt;location -->\n",
       "<g id=\"edge7\" class=\"edge\">\n",
       "<title>location&#45;&gt;location</title>\n",
       "<path fill=\"none\" stroke=\"black\" stroke-dasharray=\"5,2\" d=\"M162.6,-125.15C160.63,-134.54 164.89,-143 175.38,-143 181.27,-143 185.2,-140.32 187.16,-136.31\"/>\n",
       "<polygon fill=\"black\" stroke=\"black\" points=\"190.62,-136.93 188.02,-126.66 183.64,-136.31 190.62,-136.93\"/>\n",
       "<text text-anchor=\"middle\" x=\"175.38\" y=\"-146.2\" font-family=\"Times New Roman,serif\" font-size=\"14.00\">location_id</text>\n",
       "</g>\n",
       "<!-- payment -->\n",
       "<g id=\"node5\" class=\"node\">\n",
       "<title>payment</title>\n",
       "<path fill=\"none\" stroke=\"black\" d=\"M51.88,-36C51.88,-36 12.62,-36 12.62,-36 6.62,-36 0.62,-30 0.62,-24 0.62,-24 0.62,-12 0.62,-12 0.62,-6 6.62,0 12.62,0 12.62,0 51.88,0 51.88,0 57.88,0 63.88,-6 63.88,-12 63.88,-12 63.88,-24 63.88,-24 63.88,-30 57.88,-36 51.88,-36\"/>\n",
       "<text text-anchor=\"middle\" x=\"32.25\" y=\"-12.95\" font-family=\"Times New Roman,serif\" font-size=\"14.00\">payment</text>\n",
       "</g>\n",
       "<!-- payment&#45;&gt;order -->\n",
       "<g id=\"edge4\" class=\"edge\">\n",
       "<title>payment&#45;&gt;order</title>\n",
       "<path fill=\"none\" stroke=\"black\" d=\"M64.22,-18C85.64,-18 114.25,-18 136.95,-18\"/>\n",
       "<polygon fill=\"black\" stroke=\"black\" points=\"136.7,-21.5 146.7,-18 136.7,-14.5 136.7,-21.5\"/>\n",
       "<text text-anchor=\"middle\" x=\"104.75\" y=\"-21.2\" font-family=\"Times New Roman,serif\" font-size=\"14.00\">order_id</text>\n",
       "</g>\n",
       "<!-- payment&#45;&gt;payment -->\n",
       "<g id=\"edge9\" class=\"edge\">\n",
       "<title>payment&#45;&gt;payment</title>\n",
       "<path fill=\"none\" stroke=\"black\" stroke-dasharray=\"5,2\" d=\"M19.13,-36.15C17.12,-45.54 21.49,-54 32.25,-54 38.3,-54 42.34,-51.32 44.35,-47.31\"/>\n",
       "<polygon fill=\"black\" stroke=\"black\" points=\"47.8,-47.94 45.23,-37.66 40.83,-47.3 47.8,-47.94\"/>\n",
       "<text text-anchor=\"middle\" x=\"32.25\" y=\"-57.2\" font-family=\"Times New Roman,serif\" font-size=\"14.00\">payment_id</text>\n",
       "</g>\n",
       "</g>\n",
       "</svg>\n"
      ],
      "text/plain": [
       "<graphviz.graphs.Digraph at 0x2cea57a2650>"
      ]
     },
     "metadata": {},
     "output_type": "display_data"
    }
   ],
   "source": [
    "oltp_erd = generate_erd_graph(fk_dict, sk_dict=pk_dict, title=f\"{dataset_key} - OLTP ERD\")\n",
    "display(oltp_erd)"
   ]
  },
  {
   "cell_type": "code",
   "execution_count": 23,
   "id": "699207a4-aa1f-4e26-b338-933f0920b899",
   "metadata": {
    "scrolled": true
   },
   "outputs": [
    {
     "name": "stdout",
     "output_type": "stream",
     "text": [
      "✅ OLTP pipeline completed. No OLAP schema configured.\n"
     ]
    }
   ],
   "source": [
    "# For OLAP ERD \n",
    "if \"olap\" not in cfg:\n",
    "    print(\"✅ OLTP pipeline completed. No OLAP schema configured.\")\n",
    "else:\n",
    "    olap_erd = generate_erd_graph(cfg[\"olap_foreign_keys\"], title=f\"{dataset_key} - OLAP ERD\")\n",
    "    display(olap_erd)"
   ]
  },
  {
   "cell_type": "code",
   "execution_count": null,
   "id": "5bff600c-8f57-47ef-b672-46403a47a9e8",
   "metadata": {},
   "outputs": [],
   "source": []
  }
 ],
 "metadata": {
  "kernelspec": {
   "display_name": "Python (myenv)",
   "language": "python",
   "name": "myenv"
  },
  "language_info": {
   "codemirror_mode": {
    "name": "ipython",
    "version": 3
   },
   "file_extension": ".py",
   "mimetype": "text/x-python",
   "name": "python",
   "nbconvert_exporter": "python",
   "pygments_lexer": "ipython3",
   "version": "3.11.5"
  },
  "widgets": {
   "application/vnd.jupyter.widget-state+json": {
    "state": {},
    "version_major": 2,
    "version_minor": 0
   }
  }
 },
 "nbformat": 4,
 "nbformat_minor": 5
}
