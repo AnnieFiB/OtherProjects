{
 "cells": [
  {
   "cell_type": "markdown",
   "id": "1c3868ca-f81d-4ad4-a26b-23cd38e39ccb",
   "metadata": {},
   "source": [
    "# ZULO BANK (OLTP & OLAP) ETL PROJECT "
   ]
  },
  {
   "cell_type": "code",
   "execution_count": 1,
   "id": "00a82a33-20d8-456b-a97b-dbf50c7991d3",
   "metadata": {},
   "outputs": [
    {
     "name": "stdout",
     "output_type": "stream",
     "text": [
      "✅ Environment ready!\n"
     ]
    }
   ],
   "source": [
    "# Import dependencies\n",
    "import sys\n",
    "from pathlib import Path\n",
    "sys.path.append(str(Path.cwd().parent)) # Add parent directory\n",
    "import pandas as pd\n",
    "from db_utils import *\n",
    "from config import ETL_CONFIG\n",
    "from IPython.display import display, HTML\n",
    "import ipywidgets as widgets\n",
    "\n",
    "print(\"✅ Environment ready!\")\n"
   ]
  },
  {
   "cell_type": "code",
   "execution_count": 2,
   "id": "30f4ba58-dac5-46ce-a1fb-df7603fbd5e8",
   "metadata": {},
   "outputs": [
    {
     "name": "stdout",
     "output_type": "stream",
     "text": [
      "[get_db_connection] ✅ Connected to database 'zulobank_db' using prefix 'ZULO_DB_'\n",
      "✅ Connected to user=postgres password=xxx dbname=zulobank_db host=localhost port=5432\n"
     ]
    }
   ],
   "source": [
    "# Connect to database\n",
    "conn = get_db_connection(env_prefix=\"ZULO_DB_\")\n",
    "if not conn:\n",
    "    raise Exception(\"❌ Database connection failed\")\n",
    "print(f\"✅ Connected to {conn.dsn}\")\n"
   ]
  },
  {
   "cell_type": "code",
   "execution_count": 3,
   "id": "f2ad974c-b13c-4451-aa0b-8e35747f35d6",
   "metadata": {},
   "outputs": [
    {
     "data": {
      "application/vnd.jupyter.widget-view+json": {
       "model_id": "683b1ccbf2c345e8a16a18507be36074",
       "version_major": 2,
       "version_minor": 0
      },
      "text/plain": [
       "Dropdown(description='Data Source:', options=('all', 'zulo_gdrive', 'yanki', 'external_pricing'), value='all')"
      ]
     },
     "metadata": {},
     "output_type": "display_data"
    }
   ],
   "source": [
    "# Interactive source selector\n",
    "# Create a global variable to store selection\n",
    "global selected_source\n",
    "selected_source = None\n",
    "\n",
    "def on_source_change(change):\n",
    "    global selected_source\n",
    "    selected_source = change.new\n",
    "    print(f\"Selected source: {selected_source}\")\n",
    "\n",
    "# Create dropdown\n",
    "source_dropdown = widgets.Dropdown(\n",
    "    options=['all'] + list(ETL_CONFIG['data_sources'].keys()),\n",
    "    description='Data Source:',\n",
    "    disabled=False\n",
    ")\n",
    "source_dropdown.observe(on_source_change, names='value')\n",
    "\n",
    "display(source_dropdown)"
   ]
  },
  {
   "cell_type": "markdown",
   "id": "3adb2a63-b400-4f66-85b0-d35223221e38",
   "metadata": {},
   "source": [
    "## Extract (Data Loading)"
   ]
  },
  {
   "cell_type": "code",
   "execution_count": 2,
   "id": "b8473bdd-a551-42b6-a937-7f793ba56837",
   "metadata": {
    "jupyter": {
     "source_hidden": true
    }
   },
   "outputs": [],
   "source": [
    "# df = read_data(\"data.csv\")  # Local file\n",
    "# df = read_data(\"1DdmNsrdBRLfzBdgtvzvFHZ7ejFpLlpwW\", \"gdrive\")  # Google Drive\n",
    "# df = read_data(\"https://example.com/data.csv\")  # URL (auto-detected)\n",
    "# df.head()"
   ]
  },
  {
   "cell_type": "code",
   "execution_count": 6,
   "id": "6fcc989c-1830-44bd-82ca-880318810e7d",
   "metadata": {},
   "outputs": [
    {
     "name": "stdout",
     "output_type": "stream",
     "text": [
      "Current selection: zulo_gdrive\n",
      "Raw data shape: (1554, 18)\n"
     ]
    },
    {
     "data": {
      "text/html": [
       "<div>\n",
       "<style scoped>\n",
       "    .dataframe tbody tr th:only-of-type {\n",
       "        vertical-align: middle;\n",
       "    }\n",
       "\n",
       "    .dataframe tbody tr th {\n",
       "        vertical-align: top;\n",
       "    }\n",
       "\n",
       "    .dataframe thead th {\n",
       "        text-align: right;\n",
       "    }\n",
       "</style>\n",
       "<table border=\"1\" class=\"dataframe\">\n",
       "  <thead>\n",
       "    <tr style=\"text-align: right;\">\n",
       "      <th></th>\n",
       "      <th>TransactionID</th>\n",
       "      <th>TransactionType</th>\n",
       "      <th>Amount</th>\n",
       "      <th>TransactionDate</th>\n",
       "      <th>CustomerID</th>\n",
       "      <th>FullName</th>\n",
       "      <th>Email</th>\n",
       "      <th>Phone</th>\n",
       "      <th>AccountID</th>\n",
       "      <th>AccountType</th>\n",
       "      <th>Balance</th>\n",
       "      <th>OpeningDate</th>\n",
       "      <th>LoanID</th>\n",
       "      <th>LoanAmount</th>\n",
       "      <th>LoanType</th>\n",
       "      <th>StartDate</th>\n",
       "      <th>EndDate</th>\n",
       "      <th>InterestRate</th>\n",
       "    </tr>\n",
       "  </thead>\n",
       "  <tbody>\n",
       "    <tr>\n",
       "      <th>0</th>\n",
       "      <td>1</td>\n",
       "      <td>withdrawal</td>\n",
       "      <td>102.15</td>\n",
       "      <td>2023-04-26</td>\n",
       "      <td>85</td>\n",
       "      <td>Carol Miller</td>\n",
       "      <td>yfisher@example.org</td>\n",
       "      <td>6088279027</td>\n",
       "      <td>88</td>\n",
       "      <td>Savings</td>\n",
       "      <td>5652.16</td>\n",
       "      <td>2019-08-12</td>\n",
       "      <td>NaN</td>\n",
       "      <td>NaN</td>\n",
       "      <td>NaN</td>\n",
       "      <td>NaN</td>\n",
       "      <td>NaN</td>\n",
       "      <td>NaN</td>\n",
       "    </tr>\n",
       "    <tr>\n",
       "      <th>1</th>\n",
       "      <td>2</td>\n",
       "      <td>withdrawal</td>\n",
       "      <td>358.80</td>\n",
       "      <td>2020-06-13</td>\n",
       "      <td>91</td>\n",
       "      <td>Geoffrey Banks</td>\n",
       "      <td>gonzalesgeorge@example.net</td>\n",
       "      <td>001-546-857-6518x5359</td>\n",
       "      <td>26</td>\n",
       "      <td>Credit</td>\n",
       "      <td>2881.24</td>\n",
       "      <td>2019-05-06</td>\n",
       "      <td>44.0</td>\n",
       "      <td>32428.90</td>\n",
       "      <td>Mortgage</td>\n",
       "      <td>2021-06-24</td>\n",
       "      <td>2050-01-08 04:59:17.907588</td>\n",
       "      <td>2.12</td>\n",
       "    </tr>\n",
       "    <tr>\n",
       "      <th>2</th>\n",
       "      <td>2</td>\n",
       "      <td>withdrawal</td>\n",
       "      <td>358.80</td>\n",
       "      <td>2020-06-13</td>\n",
       "      <td>91</td>\n",
       "      <td>Geoffrey Banks</td>\n",
       "      <td>gonzalesgeorge@example.net</td>\n",
       "      <td>001-546-857-6518x5359</td>\n",
       "      <td>26</td>\n",
       "      <td>Credit</td>\n",
       "      <td>2881.24</td>\n",
       "      <td>2019-05-06</td>\n",
       "      <td>48.0</td>\n",
       "      <td>31406.77</td>\n",
       "      <td>Personal</td>\n",
       "      <td>2021-02-27</td>\n",
       "      <td>2038-10-12 04:59:17.907821</td>\n",
       "      <td>4.63</td>\n",
       "    </tr>\n",
       "  </tbody>\n",
       "</table>\n",
       "</div>"
      ],
      "text/plain": [
       "   TransactionID TransactionType  Amount TransactionDate  CustomerID  \\\n",
       "0              1      withdrawal  102.15      2023-04-26          85   \n",
       "1              2      withdrawal  358.80      2020-06-13          91   \n",
       "2              2      withdrawal  358.80      2020-06-13          91   \n",
       "\n",
       "         FullName                       Email                  Phone  \\\n",
       "0    Carol Miller         yfisher@example.org             6088279027   \n",
       "1  Geoffrey Banks  gonzalesgeorge@example.net  001-546-857-6518x5359   \n",
       "2  Geoffrey Banks  gonzalesgeorge@example.net  001-546-857-6518x5359   \n",
       "\n",
       "   AccountID AccountType  Balance OpeningDate  LoanID  LoanAmount  LoanType  \\\n",
       "0         88     Savings  5652.16  2019-08-12     NaN         NaN       NaN   \n",
       "1         26      Credit  2881.24  2019-05-06    44.0    32428.90  Mortgage   \n",
       "2         26      Credit  2881.24  2019-05-06    48.0    31406.77  Personal   \n",
       "\n",
       "    StartDate                     EndDate  InterestRate  \n",
       "0         NaN                         NaN           NaN  \n",
       "1  2021-06-24  2050-01-08 04:59:17.907588          2.12  \n",
       "2  2021-02-27  2038-10-12 04:59:17.907821          4.63  "
      ]
     },
     "metadata": {},
     "output_type": "display_data"
    }
   ],
   "source": [
    "# Get configuration\n",
    "print(f\"Current selection: {selected_source}\")\n",
    "config = ETL_CONFIG['data_sources'][selected_source]\n",
    "raw_df = read_data(config['path'], config.get('type', 'auto'))\n",
    "\n",
    "print(\"Raw data shape:\", raw_df.shape)\n",
    "display(raw_df.head(3))"
   ]
  },
  {
   "cell_type": "code",
   "execution_count": 5,
   "id": "7136f203-31c0-4a5a-97f2-02640c8c6ad2",
   "metadata": {
    "scrolled": true
   },
   "outputs": [
    {
     "name": "stdout",
     "output_type": "stream",
     "text": [
      "<class 'pandas.core.frame.DataFrame'>\n",
      "RangeIndex: 1554 entries, 0 to 1553\n",
      "Data columns (total 18 columns):\n",
      " #   Column           Non-Null Count  Dtype  \n",
      "---  ------           --------------  -----  \n",
      " 0   TransactionID    1554 non-null   int64  \n",
      " 1   TransactionType  1554 non-null   object \n",
      " 2   Amount           1554 non-null   float64\n",
      " 3   TransactionDate  1554 non-null   object \n",
      " 4   CustomerID       1554 non-null   int64  \n",
      " 5   FullName         1554 non-null   object \n",
      " 6   Email            1554 non-null   object \n",
      " 7   Phone            1554 non-null   object \n",
      " 8   AccountID        1554 non-null   int64  \n",
      " 9   AccountType      1554 non-null   object \n",
      " 10  Balance          1554 non-null   float64\n",
      " 11  OpeningDate      1554 non-null   object \n",
      " 12  LoanID           1278 non-null   float64\n",
      " 13  LoanAmount       1278 non-null   float64\n",
      " 14  LoanType         1278 non-null   object \n",
      " 15  StartDate        1278 non-null   object \n",
      " 16  EndDate          1278 non-null   object \n",
      " 17  InterestRate     1278 non-null   float64\n",
      "dtypes: float64(5), int64(3), object(10)\n",
      "memory usage: 218.7+ KB\n",
      "Index(['TransactionID', 'TransactionType', 'Amount', 'TransactionDate',\n",
      "       'CustomerID', 'FullName', 'Email', 'Phone', 'AccountID', 'AccountType',\n",
      "       'Balance', 'OpeningDate', 'LoanID', 'LoanAmount', 'LoanType',\n",
      "       'StartDate', 'EndDate', 'InterestRate'],\n",
      "      dtype='object')\n"
     ]
    }
   ],
   "source": [
    "raw_df.info()\n",
    "print(raw_df.columns)"
   ]
  },
  {
   "cell_type": "markdown",
   "id": "ac97cd4a-5175-4807-9ea6-4c0de10394b7",
   "metadata": {},
   "source": [
    "## Transform (Data Cleaning)"
   ]
  },
  {
   "cell_type": "markdown",
   "id": "6af7c4bf-a361-4c29-9522-b6d55cc7e83a",
   "metadata": {},
   "source": [
    "### **Cleaning Steps for Data Modeling & Normalization**"
   ]
  },
  {
   "cell_type": "markdown",
   "id": "802dd700-3d23-445a-b30e-8411cfc9d87b",
   "metadata": {},
   "source": [
    "*Clean df, add calculated fields: `interest` generate a `date_dim` for OLAP and map dateids for all date columns in the df*"
   ]
  },
  {
   "cell_type": "markdown",
   "id": "2c53903b-bf33-454a-a21f-4d55eefb305f",
   "metadata": {
    "jupyter": {
     "source_hidden": true
    }
   },
   "source": [
    "| Step                         | Action                                                                                   | Columns Affected                                                                 |\r\n",
    "|------------------------------|------------------------------------------------------------------------------------------|----------------------------------------------------------------------------------|\r\n",
    "| 1. Handle Missing Values     | Drop or isolate rows with missing loan data                                              | `LoanID`, `LoanAmount`, `LoanType`, `StartDate`, `EndDate`, `InterestRate`      |\r\n",
    "|                              | Drop rows with missing critical IDs                                                      | `TransactionID`, `CustomerID`, `AccountID`                                      |\r\n",
    "| 2. Convert Data Types        | Convert to datetime format                                                               | `TransactionDate`, `OpeningDate`, `StartDate`, `EndDate`                        |\r\n",
    "|                              | Ensure numeric/ID fields are proper type                                                 | `TransactionID`, `CustomerID`, `AccountID`, `LoanID`                            |\r\n",
    "|                              | Round monetary values to 2 decimal places                                                | `Amount`, `Balance`, `LoanAmount`, `InterestRate`                               |\r\n",
    "| 3. Standardize Text Fields   | Strip, lowercase, validate format                                                        | `Email`, `Phone`, `TransactionType`, `AccountType`, `LoanType`                  |\r\n",
    "| 4. Deduplicate Records       | Drop exact or near-duplicate entries                                                     | All entity-specific tables based on unique ID or composite keys                 |\r\n",
    "| 5. Normalize Derived Fields  | Recompute totals (if needed)                                                             | Not directly applicable here, but common in sales-related datasets              |\r\n",
    "| 6. Enforce Data Integrity    | Check FK relationships and referential integrity                                         | `CustomerID`, `AccountID`, `LoanID` across all related tables                   |\r\n",
    "| 7. Prepare for Normalization | Split main table into dimension/fact tables                                              | `customer_df`, `account_df`, `transaction_df`, `loan_df`                        |\r\n",
    "\n"
   ]
  },
  {
   "cell_type": "code",
   "execution_count": null,
   "id": "97ecbda2-3a5d-4417-ad9a-e80e07ef9679",
   "metadata": {},
   "outputs": [],
   "source": [
    "print(f\"🔄 Transforming {selected_source}...\")\n",
    "zolu_clean = raw_df.copy()\n",
    "\n",
    "zulo_cleaned = handle_missing_critical(zulo_cleaned, config['critical_columns'])\n",
    "print(\"✅ Critical columns validated\")\n",
    "\n",
    "zulo_cleaned[['Amount', 'Balance', 'LoanAmount', 'InterestRate']] = zulo_cleaned[['Amount', 'Balance', 'LoanAmount', 'InterestRate']].round(2)\n",
    "print(\"✅ Transaction Variables rounded to 2 dp\")\n",
    "\n",
    "zulo_cleaned = validate_contact_info(zulo_cleaned, email_col='Email', phone_col='Phone')\n",
    "print(\"✅ Contact Info validated\")\n",
    "\n",
    "zulo_cleaned = compute_interest(zulo_cleaned, principal_col='LoanAmount', rate_col='InterestRate', new_col='Interest')\n",
    "print(\"✅ Interest calculated based on interest rate and loan amount\")\n",
    "\n",
    "zulo_cleaned = standardize_categoricals(zulo_cleaned)\n",
    "print(\"✅ Categorical values validated to ensure consistency in values\")\n",
    "\n",
    "if config.get('date_columns'):\n",
    "    zulo_cleaned = ensure_correct_dtypes(zulo_cleaned, config['date_columns'])\n",
    "    print(\"✅ Date columns converted\")\n",
    "\n",
    "# 4. Apply custom transformations\n",
    "if config.get('split_columns'):\n",
    "    for col, new_cols in config['split_columns'].items():\n",
    "        zulo_cleaned = split_compound_column(zulo_cleaned, col, new_cols)\n",
    "        print(f\"✅ Split {col} into {new_cols}\")\n",
    "        \n",
    "clean_df = standardize_columns(clean_df)\n",
    "print(\"✅ Column names standardized to snake_case format\")\n",
    "\n",
    "display(clean_df.head(2))\n",
    "print(\"Transformed shape:\", clean_df.shape)\n",
    "zulo_cleaned.info()"
   ]
  },
  {
   "cell_type": "code",
   "execution_count": null,
   "id": "56e99fb7-6a4b-4df3-a028-0569ed423373",
   "metadata": {},
   "outputs": [],
   "source": []
  },
  {
   "cell_type": "markdown",
   "id": "90154e47-57bb-41db-b093-22bd99d0a046",
   "metadata": {},
   "source": []
  },
  {
   "cell_type": "code",
   "execution_count": 6,
   "id": "58ff84ee-116c-4ed7-bbc0-849e87f32883",
   "metadata": {
    "scrolled": true
   },
   "outputs": [
    {
     "name": "stdout",
     "output_type": "stream",
     "text": [
      "[handle_missing_critical] Dropped 0 rows with nulls in ['TransactionID', 'CustomerID', 'AccountID']\n",
      "[ensure_correct_dtypes] Converted 'TransactionDate' using day-first format.\n",
      "[ensure_correct_dtypes] Converted 'OpeningDate' using day-first format.\n",
      "[ensure_correct_dtypes] Converted 'StartDate' using day-first format.\n",
      "[ensure_correct_dtypes] Converted 'EndDate' using day-first format.\n",
      "[validate_contact_info] Cleaned email in column 'Email'\n",
      "[validate_contact_info] Cleaned phone in column 'Phone'\n",
      "[standardize_categoricals] Standardized fields: ['TransactionType', 'FullName', 'Email', 'Phone', 'AccountType', 'LoanType', 'FirstName', 'LastName']\n",
      "[split_compound_column] Split 'FullName' into ['FirstName', 'LastName']\n",
      "[standardize_columns_in_df] Renamed columns to snake_case.\n",
      "<class 'pandas.core.frame.DataFrame'>\n",
      "RangeIndex: 1554 entries, 0 to 1553\n",
      "Data columns (total 20 columns):\n",
      " #   Column            Non-Null Count  Dtype         \n",
      "---  ------            --------------  -----         \n",
      " 0   transaction_id    1554 non-null   int64         \n",
      " 1   transaction_type  1554 non-null   object        \n",
      " 2   amount            1554 non-null   float64       \n",
      " 3   transaction_date  1554 non-null   datetime64[ns]\n",
      " 4   customer_id       1554 non-null   int64         \n",
      " 5   full_name         1554 non-null   object        \n",
      " 6   email             1554 non-null   object        \n",
      " 7   phone             1554 non-null   object        \n",
      " 8   account_id        1554 non-null   int64         \n",
      " 9   account_type      1554 non-null   object        \n",
      " 10  balance           1554 non-null   float64       \n",
      " 11  opening_date      1554 non-null   datetime64[ns]\n",
      " 12  loan_id           1278 non-null   float64       \n",
      " 13  loan_amount       1278 non-null   float64       \n",
      " 14  loan_type         1554 non-null   object        \n",
      " 15  start_date        1278 non-null   datetime64[ns]\n",
      " 16  end_date          1278 non-null   datetime64[ns]\n",
      " 17  interest_rate     1278 non-null   float64       \n",
      " 18  first_name        1554 non-null   object        \n",
      " 19  last_name         1554 non-null   object        \n",
      "dtypes: datetime64[ns](4), float64(5), int64(3), object(8)\n",
      "memory usage: 242.9+ KB\n"
     ]
    }
   ],
   "source": [
    "#zulo_cleaned = handle_missing_critical(zulo_cleaned, ['TransactionID', 'CustomerID', 'AccountID'])\n",
    "#zulo_cleaned = drop_fully_null_columns(zulo_cleaned, ['LoanID', 'LoanAmount', 'LoanType', 'StartDate', 'EndDate', 'InterestRate'])\n",
    "#zulo_cleaned = ensure_correct_dtypes(zulo_cleaned, datetime_cols=['TransactionDate', 'OpeningDate', 'StartDate', 'EndDate'])\n",
    "\n",
    "\n",
    "\n",
    "\n"
   ]
  },
  {
   "cell_type": "code",
   "execution_count": 7,
   "id": "b85e9f69-7d14-4b3b-aa7a-a371bf580733",
   "metadata": {},
   "outputs": [],
   "source": []
  },
  {
   "cell_type": "code",
   "execution_count": 8,
   "id": "6df6a0a7-8dc5-4ffb-9e4d-c138d2ef8cc3",
   "metadata": {},
   "outputs": [
    {
     "name": "stdout",
     "output_type": "stream",
     "text": [
      "[generate_date_dim] ✅ Created date dimension with 1094 unique dates (including holidays).\n"
     ]
    }
   ],
   "source": [
    "# Creating a date dimension table\n",
    "detected_date_cols = zulo_cleaned.select_dtypes(include=['datetime64[ns]']).columns.tolist()\n",
    "date_dim = generate_date_dim(zulo_cleaned, date_columns=detected_date_cols)"
   ]
  },
  {
   "cell_type": "code",
   "execution_count": 9,
   "id": "10a24d4d-ab88-434e-8ada-cdc365fc4fd2",
   "metadata": {},
   "outputs": [
    {
     "name": "stdout",
     "output_type": "stream",
     "text": [
      "[auto_map_date_ids] ✅ Mapped 'transaction_date' to 'transaction_date_id' and cast to Int64.\n",
      "[auto_map_date_ids] ✅ Mapped 'opening_date' to 'opening_date_id' and cast to Int64.\n",
      "[auto_map_date_ids] ✅ Mapped 'start_date' to 'start_date_id' and cast to Int64.\n",
      "[auto_map_date_ids] ✅ Mapped 'end_date' to 'end_date_id' and cast to Int64.\n"
     ]
    }
   ],
   "source": [
    "# Apply date_id mapping\n",
    "zulo_cleaned = auto_map_date_ids(zulo_cleaned, date_dim)"
   ]
  },
  {
   "cell_type": "markdown",
   "id": "4b9b5672-d26e-4ce0-8bf3-d9afa95d40f1",
   "metadata": {
    "jp-MarkdownHeadingCollapsed": true
   },
   "source": [
    "### **Data Modelling**"
   ]
  },
  {
   "cell_type": "markdown",
   "id": "fdb31766-a884-44da-a607-96f6b626f2b4",
   "metadata": {},
   "source": [
    "#### **Data Model**\n",
    "*Splitting the data into normalized tables like:*  `customers`, `accounts`, `loans`, `transactions`"
   ]
  },
  {
   "cell_type": "markdown",
   "id": "024da585-d0f9-4aac-9203-cbf403fda6fc",
   "metadata": {},
   "source": [
    "![oltpmodel](oltp_db_model.png)"
   ]
  },
  {
   "cell_type": "markdown",
   "id": "ce0d0537-bd1e-4e89-bc40-9f9e0c227380",
   "metadata": {},
   "source": [
    "![olapmodel](olap_db_model.png)"
   ]
  },
  {
   "cell_type": "markdown",
   "id": "a84e4144-8914-4f8d-9039-58122e8ab989",
   "metadata": {},
   "source": [
    "### Normalise df to 3NF & Create Dimension tables"
   ]
  },
  {
   "cell_type": "markdown",
   "id": "e39bb4a0-1de6-485a-8ce5-3d4af0c19573",
   "metadata": {},
   "source": [
    "- dimension tables store descriptive attributes while Fact tables hold metrics and foreign keys to dimension tables."
   ]
  },
  {
   "cell_type": "code",
   "execution_count": 11,
   "id": "bebe38ab-8686-4faa-b8cb-c9f5db7c97e7",
   "metadata": {
    "scrolled": true
   },
   "outputs": [
    {
     "data": {
      "text/plain": [
       "transaction_id         1000\n",
       "transaction_type          2\n",
       "amount                  994\n",
       "transaction_date        779\n",
       "customer_id              87\n",
       "full_name                87\n",
       "email                    87\n",
       "phone                    87\n",
       "account_id              198\n",
       "account_type              3\n",
       "balance                 198\n",
       "opening_date            189\n",
       "loan_id                 129\n",
       "loan_amount             129\n",
       "loan_type                 4\n",
       "start_date              123\n",
       "end_date                129\n",
       "interest_rate           117\n",
       "first_name               69\n",
       "last_name                77\n",
       "transaction_date_id     779\n",
       "opening_date_id         189\n",
       "start_date_id           123\n",
       "end_date_id             129\n",
       "dtype: int64"
      ]
     },
     "execution_count": 11,
     "metadata": {},
     "output_type": "execute_result"
    }
   ],
   "source": [
    "# check unique counts to ensure accurate splits\n",
    "zulo_cleaned.nunique()"
   ]
  },
  {
   "cell_type": "code",
   "execution_count": 13,
   "id": "56a059a0-21c5-4371-ab6a-efb762b300cf",
   "metadata": {},
   "outputs": [
    {
     "name": "stdout",
     "output_type": "stream",
     "text": [
      "[split_normalized_tables] Column names normalized to lowercase.\n",
      "[split_normalized_tables]  Created table 'customers' with 87 non-null rows.\n",
      "[split_normalized_tables]  Created table 'accounts' with 198 non-null rows.\n",
      "[split_normalized_tables]  Created table 'loans' with 129 non-null rows.\n",
      "[split_normalized_tables]  Created table 'transactions' with 1000 non-null rows.\n",
      "[split_normalized_tables]  Created table 'dim_customer' with 87 non-null rows.\n",
      "[split_normalized_tables]  Created table 'dim_account' with 198 non-null rows.\n",
      "[split_normalized_tables]  Created table 'dim_transaction' with 1000 non-null rows.\n",
      "[split_normalized_tables]  Created table 'dim_loan' with 129 non-null rows.\n",
      "[split_normalized_tables]  Created table 'transaction_fact' with 1000 non-null rows.\n",
      "[split_normalized_tables]  Created table 'loan_fact' with 129 non-null rows.\n"
     ]
    }
   ],
   "source": [
    "# Define the table specifications\n",
    "table_definitions = {\n",
    "    # OLTP Normalized Tables\n",
    "    \"customers\": ['customer_id', 'first_name', 'last_name', 'email', 'phone'],\n",
    "    \"accounts\": ['account_id', 'customer_id', 'account_type', 'balance', 'opening_date', 'opening_date_id'],\n",
    "    \"loans\": [\n",
    "        'loan_id', 'customer_id', 'loan_amount', 'loan_type',\n",
    "        'start_date', 'start_date_id',\n",
    "        'end_date', 'end_date_id',\n",
    "        'interest_rate'\n",
    "    ],\n",
    "    \"transactions\": [\n",
    "        'transaction_id', 'transaction_type', 'amount',\n",
    "        'transaction_date', 'transaction_date_id', 'account_id'\n",
    "    ],\n",
    "\n",
    "    # OLAP Dimension Tables\n",
    "    \"dim_customer\": ['customer_id', 'first_name', 'last_name', 'email', 'phone'],\n",
    "    \"dim_account\": ['account_id', 'account_type', 'balance'],\n",
    "    \"dim_transaction\": ['transaction_id', 'transaction_type'],\n",
    "    \"dim_loan\": ['loan_id', 'loan_type', 'interest_rate'],\n",
    "\n",
    "    # OLAP Fact Tables\n",
    "    \"transaction_fact\": ['transaction_id', 'account_id', 'opening_date_id', 'transaction_date_id', 'amount'],\n",
    "    \"loan_fact\": ['loan_id', 'customer_id', 'start_date_id', 'end_date_id', 'loan_amount', 'interest']\n",
    "}\n",
    "\n",
    "\n",
    "normalized_tables = split_normalized_tables(zulo_cleaned, table_definitions)\n",
    "globals().update(normalized_tables) #access the tables as standalone variables\n"
   ]
  },
  {
   "cell_type": "markdown",
   "id": "e0c8eddc-dcb4-4cfa-9b6a-262fbfad33ad",
   "metadata": {
    "jp-MarkdownHeadingCollapsed": true
   },
   "source": [
    "### Save to csv (optional)"
   ]
  },
  {
   "cell_type": "code",
   "execution_count": 62,
   "id": "83b814d3-7fe1-4a84-93ba-af2b2e3123c1",
   "metadata": {
    "scrolled": true
   },
   "outputs": [],
   "source": [
    "# save_tables_to_csv(tables=normalized_tables, export_dir=\"dataset/\")"
   ]
  },
  {
   "cell_type": "markdown",
   "id": "162fceb0-adc8-4ea3-8491-6b5619cb6304",
   "metadata": {},
   "source": [
    "## LOAD"
   ]
  },
  {
   "cell_type": "code",
   "execution_count": 15,
   "id": "150c80b3-166d-4148-adc3-2bf431112a8a",
   "metadata": {},
   "outputs": [
    {
     "name": "stdout",
     "output_type": "stream",
     "text": [
      "[get_db_connection] ✅ Connected to database 'zulobank_db' using prefix 'ZULO_DB_'\n"
     ]
    }
   ],
   "source": [
    "# initiate connection to pgadmin db\n",
    "#conn = get_db_connection(\"DB_\")   \n",
    "conn = get_db_connection(\"ZULO_DB_\") \n"
   ]
  },
  {
   "cell_type": "code",
   "execution_count": 18,
   "id": "5fa97a72-f17f-4ccb-b580-7532f24bc736",
   "metadata": {
    "collapsed": true,
    "jupyter": {
     "outputs_hidden": true
    }
   },
   "outputs": [
    {
     "name": "stdout",
     "output_type": "stream",
     "text": [
      "\n",
      "🔍 **Extended Key Inference Report**\n",
      "\n",
      "📌 **Primary Keys**\n",
      "   ✔️ customers            → customer_id\n",
      "   ✔️ accounts             → account_id\n",
      "   ✔️ loans                → loan_id\n",
      "   ✔️ transactions         → transaction_id\n",
      "   ✔️ dim_customer         → customer_id\n",
      "   ✔️ dim_account          → account_id\n",
      "   ✔️ dim_transaction      → transaction_id\n",
      "   ✔️ dim_loan             → loan_id\n",
      "   ❌ transaction_fact     → No primary key detected\n",
      "   ❌ loan_fact            → No primary key detected\n",
      "\n",
      "📎 **Foreign Keys**\n",
      "   🔗 customers            → customer_id → dim_customer.customer_id\n",
      "   🔗 accounts             → account_id → dim_account.account_id\n",
      "   🔗 accounts             → customer_id → dim_customer.customer_id\n",
      "   🔗 loans                → loan_id → dim_loan.loan_id\n",
      "   🔗 loans                → customer_id → dim_customer.customer_id\n",
      "   🔗 transactions         → transaction_id → dim_transaction.transaction_id\n",
      "   🔗 transactions         → account_id → dim_account.account_id\n",
      "   ℹ️ dim_customer         → Has PK, no FKs\n",
      "   ℹ️ dim_account          → Has PK, no FKs\n",
      "   ℹ️ dim_transaction      → Has PK, no FKs\n",
      "   ℹ️ dim_loan             → Has PK, no FKs\n",
      "   🔗 transaction_fact     → transaction_id → dim_transaction.transaction_id\n",
      "   🔗 transaction_fact     → account_id → dim_account.account_id\n",
      "   🔗 loan_fact            → loan_id → dim_loan.loan_id\n",
      "   🔗 loan_fact            → customer_id → dim_customer.customer_id\n",
      "\n",
      "🧬 **Surrogate Key Candidates**\n",
      "   🧬 customers            → customer_id\n",
      "   🧬 accounts             → account_id, customer_id, opening_date_id\n",
      "   🧬 loans                → customer_id, start_date_id, end_date_id\n",
      "   🧬 transactions         → transaction_id, transaction_date_id, account_id\n",
      "   🧬 dim_customer         → customer_id\n",
      "   🧬 dim_account          → account_id\n",
      "   🧬 dim_transaction      → transaction_id\n",
      "   🧬 transaction_fact     → transaction_id, account_id, opening_date_id, transaction_date_id\n",
      "   🧬 loan_fact            → customer_id, start_date_id, end_date_id\n",
      "\n",
      "✅ **Inference Summary**\n",
      "   ➤ Total Tables: 10\n",
      "   ➤ Primary Keys: 8\n",
      "   ➤ Foreign Keys: 11\n",
      "   ➤ Surrogate Keys: 10 tables evaluated\n",
      "\n"
     ]
    }
   ],
   "source": [
    "# Infer PK & FK\n",
    "primary_keys, foreign_keys, surrogate_keys, summary = infer_keys_extended(normalized_tables)\n",
    "print(summary)"
   ]
  },
  {
   "cell_type": "code",
   "execution_count": 19,
   "id": "b9da84e3-2499-4888-ab1b-96d421065dcc",
   "metadata": {},
   "outputs": [
    {
     "name": "stdout",
     "output_type": "stream",
     "text": [
      "['dim_customer', 'dim_account', 'dim_transaction', 'dim_loan', 'customers', 'accounts', 'transactions', 'transaction_fact', 'loan_fact', 'loans']\n"
     ]
    }
   ],
   "source": [
    "# Perform a dependency-aware sort on your tables based on foreign key references:\n",
    "creation_order = topological_sort_tables(\n",
    "    tables=normalized_tables,\n",
    "    foreign_keys=foreign_keys\n",
    ")\n",
    "print(creation_order)\n"
   ]
  },
  {
   "cell_type": "code",
   "execution_count": 20,
   "id": "8def72e2-45ce-400b-b493-7dcdacd38a84",
   "metadata": {
    "collapsed": true,
    "jupyter": {
     "outputs_hidden": true
    },
    "scrolled": true
   },
   "outputs": [
    {
     "name": "stdout",
     "output_type": "stream",
     "text": [
      "[create_and_execute_schema_and_tables] 🚫 Dropping schema 'zulo' if it exists...\n",
      "[create_and_execute_schema_and_tables] ✅ Creating schema 'zulo'...\n",
      "[create_and_execute_schema_and_tables] 🚫 Dropping table 'dim_customer' if it exists...\n",
      "[create_and_execute_schema_and_tables] 🛠️ Creating table 'dim_customer'...\n",
      "[create_and_execute_schema_and_tables] ✅ Successfully created 'dim_customer'.\n",
      "[create_and_execute_schema_and_tables] 🚫 Dropping table 'dim_account' if it exists...\n",
      "[create_and_execute_schema_and_tables] 🛠️ Creating table 'dim_account'...\n",
      "[create_and_execute_schema_and_tables] ✅ Successfully created 'dim_account'.\n",
      "[create_and_execute_schema_and_tables] 🚫 Dropping table 'dim_transaction' if it exists...\n",
      "[create_and_execute_schema_and_tables] 🛠️ Creating table 'dim_transaction'...\n",
      "[create_and_execute_schema_and_tables] ✅ Successfully created 'dim_transaction'.\n",
      "[create_and_execute_schema_and_tables] 🚫 Dropping table 'dim_loan' if it exists...\n",
      "[create_and_execute_schema_and_tables] 🛠️ Creating table 'dim_loan'...\n",
      "[create_and_execute_schema_and_tables] ✅ Successfully created 'dim_loan'.\n",
      "[create_and_execute_schema_and_tables] 🚫 Dropping table 'customers' if it exists...\n",
      "[create_and_execute_schema_and_tables] 🛠️ Creating table 'customers'...\n",
      "[create_and_execute_schema_and_tables] ✅ Successfully created 'customers'.\n",
      "[create_and_execute_schema_and_tables] 🚫 Dropping table 'accounts' if it exists...\n",
      "[create_and_execute_schema_and_tables] 🛠️ Creating table 'accounts'...\n",
      "[create_and_execute_schema_and_tables] ✅ Successfully created 'accounts'.\n",
      "[create_and_execute_schema_and_tables] 🚫 Dropping table 'transactions' if it exists...\n",
      "[create_and_execute_schema_and_tables] 🛠️ Creating table 'transactions'...\n",
      "[create_and_execute_schema_and_tables] ✅ Successfully created 'transactions'.\n",
      "[create_and_execute_schema_and_tables] 🚫 Dropping table 'transaction_fact' if it exists...\n",
      "[create_and_execute_schema_and_tables] 🧬 Added surrogate key 'transaction_fact_sk' to 'transaction_fact'\n",
      "[create_and_execute_schema_and_tables] 🛠️ Creating table 'transaction_fact'...\n",
      "[create_and_execute_schema_and_tables] ✅ Successfully created 'transaction_fact'.\n",
      "[create_and_execute_schema_and_tables] 🚫 Dropping table 'loan_fact' if it exists...\n",
      "[create_and_execute_schema_and_tables] 🧬 Added surrogate key 'loan_fact_sk' to 'loan_fact'\n",
      "[create_and_execute_schema_and_tables] 🛠️ Creating table 'loan_fact'...\n",
      "[create_and_execute_schema_and_tables] ✅ Successfully created 'loan_fact'.\n",
      "[create_and_execute_schema_and_tables] 🚫 Dropping table 'loans' if it exists...\n",
      "[create_and_execute_schema_and_tables] 🛠️ Creating table 'loans'...\n",
      "[create_and_execute_schema_and_tables] ✅ Successfully created 'loans'.\n",
      "\n",
      "[create_and_execute_schema_and_tables] ✅ Schema creation process complete for 'zulo'.\n",
      "📊 Summary: 10 tables created, 0 failed.\n"
     ]
    }
   ],
   "source": [
    "# create and execute schema + tables\n",
    "create_and_execute_schema_and_tables(\n",
    "    conn=conn,\n",
    "    schema=\"zulo\",\n",
    "    tables=normalized_tables,\n",
    "    primary_keys=primary_keys,\n",
    "    foreign_keys=foreign_keys,\n",
    "    surrogate_keys=surrogate_keys\n",
    ")\n"
   ]
  },
  {
   "cell_type": "code",
   "execution_count": 21,
   "id": "5d5a7eca-7c85-461e-a94c-839899bb936e",
   "metadata": {
    "collapsed": true,
    "jupyter": {
     "outputs_hidden": true
    },
    "scrolled": true
   },
   "outputs": [
    {
     "name": "stdout",
     "output_type": "stream",
     "text": [
      "🚚 Loading 'zulo.dim_customer'...\n",
      "✅ 87 rows loaded into 'zulo.dim_customer'.\n",
      "🚚 Loading 'zulo.dim_account'...\n",
      "✅ 198 rows loaded into 'zulo.dim_account'.\n",
      "🚚 Loading 'zulo.dim_transaction'...\n",
      "✅ 1000 rows loaded into 'zulo.dim_transaction'.\n",
      "🚚 Loading 'zulo.dim_loan'...\n",
      "✅ 129 rows loaded into 'zulo.dim_loan'.\n",
      "🚚 Loading 'zulo.customers'...\n",
      "✅ 87 rows loaded into 'zulo.customers'.\n",
      "🚚 Loading 'zulo.accounts'...\n",
      "✅ 198 rows loaded into 'zulo.accounts'.\n",
      "🚚 Loading 'zulo.transactions'...\n",
      "✅ 1000 rows loaded into 'zulo.transactions'.\n",
      "🚚 Loading 'zulo.transaction_fact'...\n",
      "✅ 1000 rows loaded into 'zulo.transaction_fact'.\n",
      "🚚 Loading 'zulo.loan_fact'...\n",
      "✅ 129 rows loaded into 'zulo.loan_fact'.\n",
      "🚚 Loading 'zulo.loans'...\n",
      "✅ 129 rows loaded into 'zulo.loans'.\n",
      "\n",
      "📊 Load complete for all tables.\n"
     ]
    }
   ],
   "source": [
    "# Load data to the database table\n",
    "load_db(\n",
    "    conn=conn,\n",
    "    tables=normalized_tables,\n",
    "    foreign_keys=foreign_keys,\n",
    "    schema=\"zulo\"\n",
    ")"
   ]
  },
  {
   "cell_type": "code",
   "execution_count": 22,
   "id": "75ddd0fc-2329-4cd5-b805-76c4212f17cb",
   "metadata": {},
   "outputs": [
    {
     "name": "stdout",
     "output_type": "stream",
     "text": [
      "📝 SQL script saved to dataset/zulo_insert.sql\n"
     ]
    }
   ],
   "source": [
    "# Generate SQL script to insert to the database table (Optional)\n",
    "export_sql_script(\n",
    "    schema= \"zulo\",\n",
    "    tables= normalized_tables,\n",
    "    foreign_keys= foreign_keys,\n",
    "    output_sql_path= \"dataset/zulo_insert.sql\"\n",
    ")"
   ]
  },
  {
   "cell_type": "markdown",
   "id": "2da95151-6f71-4634-8503-524913c14bf0",
   "metadata": {},
   "source": [
    "## SCHEMA ERD "
   ]
  },
  {
   "cell_type": "markdown",
   "id": "890645c0-281d-4e18-8298-efecd482b110",
   "metadata": {},
   "source": [
    "![ERD](schemaERD.pgerd.png)"
   ]
  }
 ],
 "metadata": {
  "kernelspec": {
   "display_name": "Python (myenv)",
   "language": "python",
   "name": "myenv"
  },
  "language_info": {
   "codemirror_mode": {
    "name": "ipython",
    "version": 3
   },
   "file_extension": ".py",
   "mimetype": "text/x-python",
   "name": "python",
   "nbconvert_exporter": "python",
   "pygments_lexer": "ipython3",
   "version": "3.11.5"
  },
  "widgets": {
   "application/vnd.jupyter.widget-state+json": {
    "state": {},
    "version_major": 2,
    "version_minor": 0
   }
  }
 },
 "nbformat": 4,
 "nbformat_minor": 5
}
