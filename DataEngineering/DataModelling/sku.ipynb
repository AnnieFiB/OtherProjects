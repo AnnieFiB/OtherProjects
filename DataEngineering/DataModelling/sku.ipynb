{
 "cells": [
  {
   "cell_type": "code",
   "execution_count": 15,
   "id": "891fcde1-089a-4643-8357-c2f1b53c397a",
   "metadata": {},
   "outputs": [
    {
     "name": "stdout",
     "output_type": "stream",
     "text": [
      "The sql extension is already loaded. To reload it, use:\n",
      "  %reload_ext sql\n"
     ]
    },
    {
     "ename": "ModuleNotFoundError",
     "evalue": "No module named 'db_utils'",
     "output_type": "error",
     "traceback": [
      "\u001b[1;31m---------------------------------------------------------------------------\u001b[0m",
      "\u001b[1;31mModuleNotFoundError\u001b[0m                       Traceback (most recent call last)",
      "Cell \u001b[1;32mIn[15], line 17\u001b[0m\n\u001b[0;32m     12\u001b[0m sys\u001b[38;5;241m.\u001b[39mpath\u001b[38;5;241m.\u001b[39mappend(\u001b[38;5;28mstr\u001b[39m(Path\u001b[38;5;241m.\u001b[39mcwd() \u001b[38;5;241m/\u001b[39m \u001b[38;5;124m'\u001b[39m\u001b[38;5;124mDataModelling\u001b[39m\u001b[38;5;124m'\u001b[39m))\n\u001b[0;32m     14\u001b[0m \u001b[38;5;66;03m#sys.path.append(str(Path.cwd()))  # Add current directory (DataModelling)\u001b[39;00m\n\u001b[0;32m     15\u001b[0m \u001b[38;5;66;03m#import db_utils as db\u001b[39;00m\n\u001b[0;32m     16\u001b[0m \u001b[38;5;66;03m# Import the db_utils module as a Python file\u001b[39;00m\n\u001b[1;32m---> 17\u001b[0m \u001b[38;5;28;01mfrom\u001b[39;00m\u001b[38;5;250m \u001b[39m\u001b[38;5;21;01mdb_utils\u001b[39;00m\u001b[38;5;250m \u001b[39m\u001b[38;5;28;01mimport\u001b[39;00m \u001b[38;5;241m*\u001b[39m\n\u001b[0;32m     18\u001b[0m \u001b[38;5;28;01mimport\u001b[39;00m\u001b[38;5;250m \u001b[39m\u001b[38;5;21;01mdynamic_etl_pipeline\u001b[39;00m\u001b[38;5;250m \u001b[39m\u001b[38;5;28;01mas\u001b[39;00m\u001b[38;5;250m \u001b[39m\u001b[38;5;21;01metl\u001b[39;00m\n",
      "\u001b[1;31mModuleNotFoundError\u001b[0m: No module named 'db_utils'"
     ]
    }
   ],
   "source": [
    "# Load the SQL extension for Jupyter notebooks\n",
    "%load_ext sql\n",
    "\n",
    "# Import necessary libraries\n",
    "import sqlite3\n",
    "from sqlalchemy import create_engine\n",
    "from IPython.display import Image, display\n",
    "import pandas as pd\n",
    "import pymysql\n",
    "import os, sys \n",
    "from pathlib import Path\n",
    "sys.path.append(str(Path.cwd() / 'DataModelling'))\n",
    "\n",
    "#sys.path.append(str(Path.cwd()))  # Add current directory (DataModelling)\n",
    "#import db_utils as db\n",
    "# Import the db_utils module as a Python file\n",
    "from db_utils import *\n",
    "import dynamic_etl_pipeline as etl\n"
   ]
  },
  {
   "cell_type": "code",
   "execution_count": 3,
   "id": "7be8015d-d549-45d5-88af-9f2a09bd398b",
   "metadata": {
    "scrolled": true
   },
   "outputs": [
    {
     "name": "stdout",
     "output_type": "stream",
     "text": [
      "📦 Fetching Kaggle dataset: amirmotefaker/supply-chain-dataset\n",
      "Dataset URL: https://www.kaggle.com/datasets/amirmotefaker/supply-chain-dataset\n"
     ]
    },
    {
     "data": {
      "application/vnd.jupyter.widget-view+json": {
       "model_id": "3482ebe96ea04f71aa0820a498601954",
       "version_major": 2,
       "version_minor": 0
      },
      "text/plain": [
       "Dropdown(description='Select File:', options=('supply_chain_data.csv',), value='supply_chain_data.csv')"
      ]
     },
     "metadata": {},
     "output_type": "display_data"
    },
    {
     "data": {
      "application/vnd.jupyter.widget-view+json": {
       "model_id": "ccb84def347e4686885b24dd4c4e5d25",
       "version_major": 2,
       "version_minor": 0
      },
      "text/plain": [
       "Button(description='📥 Load Selected File', style=ButtonStyle())"
      ]
     },
     "metadata": {},
     "output_type": "display_data"
    },
    {
     "data": {
      "application/vnd.jupyter.widget-view+json": {
       "model_id": "232c96b3681941a8b0c196aae5b8878c",
       "version_major": 2,
       "version_minor": 0
      },
      "text/plain": [
       "Output()"
      ]
     },
     "metadata": {},
     "output_type": "display_data"
    },
    {
     "name": "stdout",
     "output_type": "stream",
     "text": [
      "🔄 Select a file to load individually. You can rerun to load others.\n"
     ]
    }
   ],
   "source": [
    "path = \"amirmotefaker/supply-chain-dataset\"\n",
    "sku_df = fetch_kaggle_dataset_by_path(path, temp_dir=\".temp_kaggle\")"
   ]
  },
  {
   "cell_type": "code",
   "execution_count": null,
   "id": "98440904-9779-4028-8e61-ca75c67c757a",
   "metadata": {},
   "outputs": [],
   "source": [
    "sku_df.head(3)"
   ]
  },
  {
   "cell_type": "markdown",
   "id": "ef3bb6bf-a955-46b0-9391-80eb23cf485c",
   "metadata": {},
   "source": [
    "### **Products Table**\n",
    "Stores core product details.  \n",
    "**Columns:**  \n",
    "- `product_id` (Primary Key)  \n",
    "- `product_type`  \n",
    "- `SKU`  \n",
    "- `price`  \n",
    "- `availability`  \n",
    "- `stock_levels`  \n",
    "\n",
    "### **Sales Table**  \n",
    "Tracks product sales and revenue.  \n",
    "**Columns:**  \n",
    "- `sale_id` (Primary Key)  \n",
    "- `product_id` (Foreign Key referencing Products)  \n",
    "- `number_of_products_sold`  \n",
    "- `revenue_generated`  \n",
    "- `customer_id` (Foreign Key referencing Customers)  \n",
    "\n",
    "### **Customers Table**  \n",
    "Stores demographic information.  \n",
    "**Columns:**  \n",
    "- `customer_id` (Primary Key)  \n",
    "- `customer_demographics`  \n",
    "\n",
    "### **Orders Table**  \n",
    "Tracks product orders.  \n",
    "**Columns:**  \n",
    "- `order_id` (Primary Key)  \n",
    "- `product_id` (Foreign Key referencing Products)  \n",
    "- `order_quantities`  \n",
    "- `lead_times`  \n",
    "\n",
    "### **Shipping Table**  \n",
    "Manages logistics and carriers.  \n",
    "**Columns:**  \n",
    "- `shipping_id` (Primary Key)  \n",
    "- `order_id` (Foreign Key referencing Orders)  \n",
    "- `shipping_times`  \n",
    "- `shipping_carriers`  \n",
    "- `shipping_costs`  \n",
    "- `transportation_modes`  \n",
    "- `routes`  \n",
    "\n",
    "### **Suppliers Table**  \n",
    "Stores supplier details.  \n",
    "**Columns:**  \n",
    "- `supplier_id` (Primary Key)  \n",
    "- `supplier_name`  \n",
    "- `location`  \n",
    "- `lead_time`  \n",
    "\n",
    "### **Manufacturing Table**  \n",
    "Tracks production metrics.  \n",
    "**Columns:**  \n",
    "- `manufacturing_id` (Primary Key)  \n",
    "- `supplier_id` (Foreign Key referencing Suppliers)  \n",
    "- `production_volumes`  \n",
    "- `manufacturing_lead_time`  \n",
    "- `manufacturing_costs`  \n",
    "\n",
    "### **Quality Control Table**  \n",
    "Monitors inspection results.  \n",
    "**Columns:**  \n",
    "- `inspection_id` (Primary Key)  \n",
    "- `manufacturing_id` (Foreign Key referencing Manufacturing)  \n",
    "- `inspection_results`  \n",
    "- `defect_rates`  \n",
    "\n",
    "### **Transportation Table**  \n",
    "Handles logistics-related costs.  \n",
    "**Columns:**  \n",
    "- `transportation_id` (Primary Key)  \n",
    "- `shipping_id` (Foreign Key referencing Shipping)  \n",
    "- `transportation_modes`  \n",
    "- `routes`  \n",
    "- `costs`\n",
    "Lookup table: (suuply_lookup)\n",
    "- takes in all primary keys"
   ]
  },
  {
   "cell_type": "code",
   "execution_count": null,
   "id": "d1d284b8-62f3-4959-b58b-c12d23374f84",
   "metadata": {},
   "outputs": [],
   "source": []
  }
 ],
 "metadata": {
  "kernelspec": {
   "display_name": "Python (myenv)",
   "language": "python",
   "name": "myenv"
  },
  "language_info": {
   "codemirror_mode": {
    "name": "ipython",
    "version": 3
   },
   "file_extension": ".py",
   "mimetype": "text/x-python",
   "name": "python",
   "nbconvert_exporter": "python",
   "pygments_lexer": "ipython3",
   "version": "3.11.5"
  },
  "widgets": {
   "application/vnd.jupyter.widget-state+json": {
    "state": {
     "0178683400a94e2d95e2e3c27f8e32b6": {
      "model_module": "@jupyter-widgets/base",
      "model_module_version": "2.0.0",
      "model_name": "LayoutModel",
      "state": {}
     },
     "1b64f01e903345b79ff56ee7340b2f9d": {
      "model_module": "@jupyter-widgets/base",
      "model_module_version": "2.0.0",
      "model_name": "LayoutModel",
      "state": {}
     },
     "232c96b3681941a8b0c196aae5b8878c": {
      "model_module": "@jupyter-widgets/output",
      "model_module_version": "1.0.0",
      "model_name": "OutputModel",
      "state": {
       "layout": "IPY_MODEL_ba4c9f885eba419493276fc7ea73471f",
       "outputs": [
        {
         "name": "stdout",
         "output_type": "stream",
         "text": "⚠️ No matching dataset_key found in ETL_CONFIG.\n✅ Loaded file: supply_chain_data.csv\n📊 Data shape: (100, 24)\n"
        },
        {
         "data": {
          "text/html": "<div>\n<style scoped>\n    .dataframe tbody tr th:only-of-type {\n        vertical-align: middle;\n    }\n\n    .dataframe tbody tr th {\n        vertical-align: top;\n    }\n\n    .dataframe thead th {\n        text-align: right;\n    }\n</style>\n<table border=\"1\" class=\"dataframe\">\n  <thead>\n    <tr style=\"text-align: right;\">\n      <th></th>\n      <th>Product type</th>\n      <th>SKU</th>\n      <th>Price</th>\n      <th>Availability</th>\n      <th>Number of products sold</th>\n      <th>Revenue generated</th>\n      <th>Customer demographics</th>\n      <th>Stock levels</th>\n      <th>Lead times</th>\n      <th>Order quantities</th>\n      <th>...</th>\n      <th>Location</th>\n      <th>Lead time</th>\n      <th>Production volumes</th>\n      <th>Manufacturing lead time</th>\n      <th>Manufacturing costs</th>\n      <th>Inspection results</th>\n      <th>Defect rates</th>\n      <th>Transportation modes</th>\n      <th>Routes</th>\n      <th>Costs</th>\n    </tr>\n  </thead>\n  <tbody>\n    <tr>\n      <th>0</th>\n      <td>haircare</td>\n      <td>SKU0</td>\n      <td>69.808006</td>\n      <td>55</td>\n      <td>802</td>\n      <td>8661.996792</td>\n      <td>Non-binary</td>\n      <td>58</td>\n      <td>7</td>\n      <td>96</td>\n      <td>...</td>\n      <td>Mumbai</td>\n      <td>29</td>\n      <td>215</td>\n      <td>29</td>\n      <td>46.279879</td>\n      <td>Pending</td>\n      <td>0.226410</td>\n      <td>Road</td>\n      <td>Route B</td>\n      <td>187.752075</td>\n    </tr>\n    <tr>\n      <th>1</th>\n      <td>skincare</td>\n      <td>SKU1</td>\n      <td>14.843523</td>\n      <td>95</td>\n      <td>736</td>\n      <td>7460.900065</td>\n      <td>Female</td>\n      <td>53</td>\n      <td>30</td>\n      <td>37</td>\n      <td>...</td>\n      <td>Mumbai</td>\n      <td>23</td>\n      <td>517</td>\n      <td>30</td>\n      <td>33.616769</td>\n      <td>Pending</td>\n      <td>4.854068</td>\n      <td>Road</td>\n      <td>Route B</td>\n      <td>503.065579</td>\n    </tr>\n    <tr>\n      <th>2</th>\n      <td>haircare</td>\n      <td>SKU2</td>\n      <td>11.319683</td>\n      <td>34</td>\n      <td>8</td>\n      <td>9577.749626</td>\n      <td>Unknown</td>\n      <td>1</td>\n      <td>10</td>\n      <td>88</td>\n      <td>...</td>\n      <td>Mumbai</td>\n      <td>12</td>\n      <td>971</td>\n      <td>27</td>\n      <td>30.688019</td>\n      <td>Pending</td>\n      <td>4.580593</td>\n      <td>Air</td>\n      <td>Route C</td>\n      <td>141.920282</td>\n    </tr>\n  </tbody>\n</table>\n<p>3 rows × 24 columns</p>\n</div>",
          "text/plain": "  Product type   SKU      Price  Availability  Number of products sold  \\\n0     haircare  SKU0  69.808006            55                      802   \n1     skincare  SKU1  14.843523            95                      736   \n2     haircare  SKU2  11.319683            34                        8   \n\n   Revenue generated Customer demographics  Stock levels  Lead times  \\\n0        8661.996792            Non-binary            58           7   \n1        7460.900065                Female            53          30   \n2        9577.749626               Unknown             1          10   \n\n   Order quantities  ...  Location Lead time  Production volumes  \\\n0                96  ...    Mumbai        29                 215   \n1                37  ...    Mumbai        23                 517   \n2                88  ...    Mumbai        12                 971   \n\n  Manufacturing lead time Manufacturing costs  Inspection results  \\\n0                      29           46.279879             Pending   \n1                      30           33.616769             Pending   \n2                      27           30.688019             Pending   \n\n   Defect rates  Transportation modes   Routes       Costs  \n0      0.226410                  Road  Route B  187.752075  \n1      4.854068                  Road  Route B  503.065579  \n2      4.580593                   Air  Route C  141.920282  \n\n[3 rows x 24 columns]"
         },
         "metadata": {},
         "output_type": "display_data"
        },
        {
         "name": "stdout",
         "output_type": "stream",
         "text": "<class 'pandas.core.frame.DataFrame'>\nRangeIndex: 100 entries, 0 to 99\nData columns (total 24 columns):\n #   Column                   Non-Null Count  Dtype  \n---  ------                   --------------  -----  \n 0   Product type             100 non-null    object \n 1   SKU                      100 non-null    object \n 2   Price                    100 non-null    float64\n 3   Availability             100 non-null    int64  \n 4   Number of products sold  100 non-null    int64  \n 5   Revenue generated        100 non-null    float64\n 6   Customer demographics    100 non-null    object \n 7   Stock levels             100 non-null    int64  \n 8   Lead times               100 non-null    int64  \n 9   Order quantities         100 non-null    int64  \n 10  Shipping times           100 non-null    int64  \n 11  Shipping carriers        100 non-null    object \n 12  Shipping costs           100 non-null    float64\n 13  Supplier name            100 non-null    object \n 14  Location                 100 non-null    object \n 15  Lead time                100 non-null    int64  \n 16  Production volumes       100 non-null    int64  \n 17  Manufacturing lead time  100 non-null    int64  \n 18  Manufacturing costs      100 non-null    float64\n 19  Inspection results       100 non-null    object \n 20  Defect rates             100 non-null    float64\n 21  Transportation modes     100 non-null    object \n 22  Routes                   100 non-null    object \n 23  Costs                    100 non-null    float64\ndtypes: float64(6), int64(9), object(9)\nmemory usage: 18.9+ KB\n"
        },
        {
         "data": {
          "text/plain": "None"
         },
         "metadata": {},
         "output_type": "display_data"
        },
        {
         "name": "stdout",
         "output_type": "stream",
         "text": "\n✅ You can now access `raw_df` globally.\n"
        }
       ]
      }
     },
     "27af9e1b2da84c9784d4b3ae4f1e1dde": {
      "model_module": "@jupyter-widgets/controls",
      "model_module_version": "2.0.0",
      "model_name": "ButtonStyleModel",
      "state": {
       "font_family": null,
       "font_size": null,
       "font_style": null,
       "font_variant": null,
       "font_weight": null,
       "text_color": null,
       "text_decoration": null
      }
     },
     "3482ebe96ea04f71aa0820a498601954": {
      "model_module": "@jupyter-widgets/controls",
      "model_module_version": "2.0.0",
      "model_name": "DropdownModel",
      "state": {
       "_options_labels": [
        "supply_chain_data.csv"
       ],
       "description": "Select File:",
       "index": 0,
       "layout": "IPY_MODEL_a1fa73c2ddba430b81ebc73310ec8eb9",
       "style": "IPY_MODEL_e2dbf7376fa94630a62f15998791d10d"
      }
     },
     "a1fa73c2ddba430b81ebc73310ec8eb9": {
      "model_module": "@jupyter-widgets/base",
      "model_module_version": "2.0.0",
      "model_name": "LayoutModel",
      "state": {}
     },
     "ba4c9f885eba419493276fc7ea73471f": {
      "model_module": "@jupyter-widgets/base",
      "model_module_version": "2.0.0",
      "model_name": "LayoutModel",
      "state": {}
     },
     "c5088a60f9b84676a6a798ae9197c59e": {
      "model_module": "@jupyter-widgets/output",
      "model_module_version": "1.0.0",
      "model_name": "OutputModel",
      "state": {
       "layout": "IPY_MODEL_0178683400a94e2d95e2e3c27f8e32b6",
       "outputs": [
        {
         "name": "stdout",
         "output_type": "stream",
         "text": "⚠️ No matching dataset_key found in ETL_CONFIG.\n✅ Loaded file: supply_chain_data.csv\n📊 Data shape: (100, 24)\n"
        },
        {
         "data": {
          "text/html": "<div>\n<style scoped>\n    .dataframe tbody tr th:only-of-type {\n        vertical-align: middle;\n    }\n\n    .dataframe tbody tr th {\n        vertical-align: top;\n    }\n\n    .dataframe thead th {\n        text-align: right;\n    }\n</style>\n<table border=\"1\" class=\"dataframe\">\n  <thead>\n    <tr style=\"text-align: right;\">\n      <th></th>\n      <th>Product type</th>\n      <th>SKU</th>\n      <th>Price</th>\n      <th>Availability</th>\n      <th>Number of products sold</th>\n      <th>Revenue generated</th>\n      <th>Customer demographics</th>\n      <th>Stock levels</th>\n      <th>Lead times</th>\n      <th>Order quantities</th>\n      <th>...</th>\n      <th>Location</th>\n      <th>Lead time</th>\n      <th>Production volumes</th>\n      <th>Manufacturing lead time</th>\n      <th>Manufacturing costs</th>\n      <th>Inspection results</th>\n      <th>Defect rates</th>\n      <th>Transportation modes</th>\n      <th>Routes</th>\n      <th>Costs</th>\n    </tr>\n  </thead>\n  <tbody>\n    <tr>\n      <th>0</th>\n      <td>haircare</td>\n      <td>SKU0</td>\n      <td>69.808006</td>\n      <td>55</td>\n      <td>802</td>\n      <td>8661.996792</td>\n      <td>Non-binary</td>\n      <td>58</td>\n      <td>7</td>\n      <td>96</td>\n      <td>...</td>\n      <td>Mumbai</td>\n      <td>29</td>\n      <td>215</td>\n      <td>29</td>\n      <td>46.279879</td>\n      <td>Pending</td>\n      <td>0.226410</td>\n      <td>Road</td>\n      <td>Route B</td>\n      <td>187.752075</td>\n    </tr>\n    <tr>\n      <th>1</th>\n      <td>skincare</td>\n      <td>SKU1</td>\n      <td>14.843523</td>\n      <td>95</td>\n      <td>736</td>\n      <td>7460.900065</td>\n      <td>Female</td>\n      <td>53</td>\n      <td>30</td>\n      <td>37</td>\n      <td>...</td>\n      <td>Mumbai</td>\n      <td>23</td>\n      <td>517</td>\n      <td>30</td>\n      <td>33.616769</td>\n      <td>Pending</td>\n      <td>4.854068</td>\n      <td>Road</td>\n      <td>Route B</td>\n      <td>503.065579</td>\n    </tr>\n    <tr>\n      <th>2</th>\n      <td>haircare</td>\n      <td>SKU2</td>\n      <td>11.319683</td>\n      <td>34</td>\n      <td>8</td>\n      <td>9577.749626</td>\n      <td>Unknown</td>\n      <td>1</td>\n      <td>10</td>\n      <td>88</td>\n      <td>...</td>\n      <td>Mumbai</td>\n      <td>12</td>\n      <td>971</td>\n      <td>27</td>\n      <td>30.688019</td>\n      <td>Pending</td>\n      <td>4.580593</td>\n      <td>Air</td>\n      <td>Route C</td>\n      <td>141.920282</td>\n    </tr>\n  </tbody>\n</table>\n<p>3 rows × 24 columns</p>\n</div>",
          "text/plain": "  Product type   SKU      Price  Availability  Number of products sold  \\\n0     haircare  SKU0  69.808006            55                      802   \n1     skincare  SKU1  14.843523            95                      736   \n2     haircare  SKU2  11.319683            34                        8   \n\n   Revenue generated Customer demographics  Stock levels  Lead times  \\\n0        8661.996792            Non-binary            58           7   \n1        7460.900065                Female            53          30   \n2        9577.749626               Unknown             1          10   \n\n   Order quantities  ...  Location Lead time  Production volumes  \\\n0                96  ...    Mumbai        29                 215   \n1                37  ...    Mumbai        23                 517   \n2                88  ...    Mumbai        12                 971   \n\n  Manufacturing lead time Manufacturing costs  Inspection results  \\\n0                      29           46.279879             Pending   \n1                      30           33.616769             Pending   \n2                      27           30.688019             Pending   \n\n   Defect rates  Transportation modes   Routes       Costs  \n0      0.226410                  Road  Route B  187.752075  \n1      4.854068                  Road  Route B  503.065579  \n2      4.580593                   Air  Route C  141.920282  \n\n[3 rows x 24 columns]"
         },
         "metadata": {},
         "output_type": "display_data"
        },
        {
         "name": "stdout",
         "output_type": "stream",
         "text": "<class 'pandas.core.frame.DataFrame'>\nRangeIndex: 100 entries, 0 to 99\nData columns (total 24 columns):\n #   Column                   Non-Null Count  Dtype  \n---  ------                   --------------  -----  \n 0   Product type             100 non-null    object \n 1   SKU                      100 non-null    object \n 2   Price                    100 non-null    float64\n 3   Availability             100 non-null    int64  \n 4   Number of products sold  100 non-null    int64  \n 5   Revenue generated        100 non-null    float64\n 6   Customer demographics    100 non-null    object \n 7   Stock levels             100 non-null    int64  \n 8   Lead times               100 non-null    int64  \n 9   Order quantities         100 non-null    int64  \n 10  Shipping times           100 non-null    int64  \n 11  Shipping carriers        100 non-null    object \n 12  Shipping costs           100 non-null    float64\n 13  Supplier name            100 non-null    object \n 14  Location                 100 non-null    object \n 15  Lead time                100 non-null    int64  \n 16  Production volumes       100 non-null    int64  \n 17  Manufacturing lead time  100 non-null    int64  \n 18  Manufacturing costs      100 non-null    float64\n 19  Inspection results       100 non-null    object \n 20  Defect rates             100 non-null    float64\n 21  Transportation modes     100 non-null    object \n 22  Routes                   100 non-null    object \n 23  Costs                    100 non-null    float64\ndtypes: float64(6), int64(9), object(9)\nmemory usage: 18.9+ KB\n"
        },
        {
         "data": {
          "text/plain": "None"
         },
         "metadata": {},
         "output_type": "display_data"
        },
        {
         "name": "stdout",
         "output_type": "stream",
         "text": "\n✅ You can now access `raw_df` globally.\n"
        }
       ]
      }
     },
     "ccb84def347e4686885b24dd4c4e5d25": {
      "model_module": "@jupyter-widgets/controls",
      "model_module_version": "2.0.0",
      "model_name": "ButtonModel",
      "state": {
       "description": "📥 Load Selected File",
       "layout": "IPY_MODEL_1b64f01e903345b79ff56ee7340b2f9d",
       "style": "IPY_MODEL_27af9e1b2da84c9784d4b3ae4f1e1dde",
       "tooltip": null
      }
     },
     "e0b0d302b288469fb364aa56204eab9e": {
      "model_module": "@jupyter-widgets/controls",
      "model_module_version": "2.0.0",
      "model_name": "ButtonModel",
      "state": {
       "description": "📥 Load Selected File",
       "layout": "IPY_MODEL_e31685d41c6045f29a277a5f8c549f35",
       "style": "IPY_MODEL_e6f3c3c3e1574caa9bfeb0e82130cdd8",
       "tooltip": null
      }
     },
     "e2dbf7376fa94630a62f15998791d10d": {
      "model_module": "@jupyter-widgets/controls",
      "model_module_version": "2.0.0",
      "model_name": "DescriptionStyleModel",
      "state": {
       "description_width": ""
      }
     },
     "e31685d41c6045f29a277a5f8c549f35": {
      "model_module": "@jupyter-widgets/base",
      "model_module_version": "2.0.0",
      "model_name": "LayoutModel",
      "state": {}
     },
     "e6f3c3c3e1574caa9bfeb0e82130cdd8": {
      "model_module": "@jupyter-widgets/controls",
      "model_module_version": "2.0.0",
      "model_name": "ButtonStyleModel",
      "state": {
       "font_family": null,
       "font_size": null,
       "font_style": null,
       "font_variant": null,
       "font_weight": null,
       "text_color": null,
       "text_decoration": null
      }
     },
     "ecf282c283544be1b55ec3e8840c1856": {
      "model_module": "@jupyter-widgets/controls",
      "model_module_version": "2.0.0",
      "model_name": "DescriptionStyleModel",
      "state": {
       "description_width": ""
      }
     },
     "f60038a1b3b54328b606f27afc4ccc46": {
      "model_module": "@jupyter-widgets/base",
      "model_module_version": "2.0.0",
      "model_name": "LayoutModel",
      "state": {}
     },
     "f7fc66210a7c4c65a922402f8afd8d41": {
      "model_module": "@jupyter-widgets/controls",
      "model_module_version": "2.0.0",
      "model_name": "DropdownModel",
      "state": {
       "_options_labels": [
        "supply_chain_data.csv"
       ],
       "description": "Select File:",
       "index": 0,
       "layout": "IPY_MODEL_f60038a1b3b54328b606f27afc4ccc46",
       "style": "IPY_MODEL_ecf282c283544be1b55ec3e8840c1856"
      }
     }
    },
    "version_major": 2,
    "version_minor": 0
   }
  }
 },
 "nbformat": 4,
 "nbformat_minor": 5
}
