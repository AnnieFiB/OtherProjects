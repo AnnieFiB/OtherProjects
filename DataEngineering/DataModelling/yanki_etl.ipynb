{
 "cells": [
  {
   "cell_type": "markdown",
   "id": "1c3868ca-f81d-4ad4-a26b-23cd38e39ccb",
   "metadata": {},
   "source": [
    "# YANKI E-COMMERCE ETL PROJECT "
   ]
  },
  {
   "cell_type": "markdown",
   "id": "528868ef-c588-4de2-8ea6-3160e2f423c3",
   "metadata": {},
   "source": [
    "## Load library and dependencies"
   ]
  },
  {
   "cell_type": "code",
   "execution_count": 2,
   "id": "00a82a33-20d8-456b-a97b-dbf50c7991d3",
   "metadata": {},
   "outputs": [
    {
     "name": "stdout",
     "output_type": "stream",
     "text": [
      "✅ Environment ready!\n"
     ]
    }
   ],
   "source": [
    "# Import dependencies\n",
    "import pandas as pd\n",
    "from IPython.display import display\n",
    "import sys\n",
    "from pathlib import Path\n",
    "sys.path.append(str(Path.cwd().parent)) # Add parent directory\n",
    "from dynamic_etl_pipeline import *\n",
    "\n",
    "print(\"✅ Environment ready!\")"
   ]
  },
  {
   "cell_type": "markdown",
   "id": "4487d2bc-da7e-4b62-8e8f-60df69063a66",
   "metadata": {},
   "source": [
    "## DB CONNECTION"
   ]
  },
  {
   "cell_type": "code",
   "execution_count": 3,
   "id": "e320b1dd-62ca-4183-9be4-0b6f8b4efc0b",
   "metadata": {},
   "outputs": [
    {
     "name": "stdout",
     "output_type": "stream",
     "text": [
      "[get_db_connection] ✅ Connected to 'user=postgres password=xxx dbname=yanki_ecomm host=localhost port=5432' using prefix 'YANKI_DB_'\n"
     ]
    }
   ],
   "source": [
    "# Connect to database\n",
    "conn = get_db_connection(env_prefix=\"YANKI_DB_\")\n",
    "#conn = get_db_connection(env_prefix=\"ZULO_DB_\")"
   ]
  },
  {
   "cell_type": "markdown",
   "id": "d18a24d5-9b46-4084-96f6-4899091d29ef",
   "metadata": {},
   "source": [
    "## Extract (Load Raw Data)"
   ]
  },
  {
   "cell_type": "code",
   "execution_count": 9,
   "id": "83a7c8ea-1b07-4940-9e14-7705e60c59fd",
   "metadata": {
    "scrolled": true
   },
   "outputs": [
    {
     "data": {
      "application/vnd.jupyter.widget-view+json": {
       "model_id": "ab82de38605849fb8ddd0af5c08b9011",
       "version_major": 2,
       "version_minor": 0
      },
      "text/plain": [
       "Dropdown(description='Data Source:', options=('all', 'zulo_bank', 'yanki_ecom', 'csv_ex', 'url_ex'), value='al…"
      ]
     },
     "metadata": {},
     "output_type": "display_data"
    },
    {
     "data": {
      "application/vnd.jupyter.widget-view+json": {
       "model_id": "5217ab6bde3348c383086fe440d76bab",
       "version_major": 2,
       "version_minor": 0
      },
      "text/plain": [
       "Output()"
      ]
     },
     "metadata": {},
     "output_type": "display_data"
    }
   ],
   "source": [
    "# Trigger interactive source selection\n",
    "result = select_and_load_source(ETL_CONFIG)"
   ]
  },
  {
   "cell_type": "code",
   "execution_count": 10,
   "id": "8f108b3e-a4c3-4894-be94-1ba8520ad576",
   "metadata": {},
   "outputs": [
    {
     "name": "stdout",
     "output_type": "stream",
     "text": [
      "yanki_ecom\n"
     ]
    }
   ],
   "source": [
    "# setting up parameters to be used in the etl pipeline\n",
    "raw_df = result[\"raw_df\"]\n",
    "dataset_key = result[\"selected_source\"]\n",
    "cfg = ETL_CONFIG[\"data_sources\"][dataset_key]\n",
    "\n",
    "print(dataset_key)"
   ]
  },
  {
   "cell_type": "markdown",
   "id": "4abfc727-b658-4b3e-9722-745451c596ed",
   "metadata": {},
   "source": [
    "## Transform (Data Cleaning & Normalisation)"
   ]
  },
  {
   "cell_type": "markdown",
   "id": "6af7c4bf-a361-4c29-9522-b6d55cc7e83a",
   "metadata": {
    "jp-MarkdownHeadingCollapsed": true
   },
   "source": [
    "### Cleaning Steps for Data Modeling & Normalization"
   ]
  },
  {
   "cell_type": "markdown",
   "id": "05329763-b3dd-4ea1-b3c9-22dac246f7fd",
   "metadata": {},
   "source": [
    "| Step                         | Action                                                                                       | Purpose                                                       |\n",
    "|------------------------------|----------------------------------------------------------------------------------------------|----------------------------------------------------------------|\n",
    "| 1. Handle Missing Values     | - Drop rows with missing `Order_ID`, `Customer_ID`                      | These are core entity identifiers; nulls would break relationships |\n",
    "|                              | - Optionally handle or impute 1 missing value in `State`                                    | Tolerable since it's likely a lookup/dimension table           |\n",
    "| 2. Ensure Correct Data Types | - Convert `Order_Date` to datetime format                                                   | Enables partitioning and relationship with a Date dimension   |\n",
    "|                              | - Ensure `Postal_Code` is treated as string if needed (for leading zeros)                   | Maintains data integrity, especially in US/UK postal codes     |\n",
    "| 3. Remove Duplicates         | - Check for and drop duplicates in `Order_ID`, `Product_ID`, `Customer_ID` combinations     | Avoids redundant relationships or many-to-many mapping noise   |\n",
    "| 4. Standardize Categorical Fields | - Lowercase and strip spaces in fields like `Category`, `Brand`, `Payment_Method`       | Ensures consistency across joins or dimensions                 |\n",
    "| 5. Verify Key Relationships  | - Ensure 1:many mappings exist: `Customer` → `Order`, `Order` → `Product`                  | For proper normalization and referential integrity             |\n",
    "| 6. Normalize Derived Fields  | - Confirm `Total_Price = Price * Quantity` or drop `Total_Price` if calculated later        | Avoid storing redundant calculations in normalized schema      |\n",
    "| 7. Split Compound Columns    | - Split `Customer_Name` into `First_Name` and `Last_Name`                       | Improves normalization (optional but good practice)            |\n",
    "| 8. Validate Contact Info     | - Basic regex or null check on `Email`, `Phone_Number`                                     | Prevent invalid records from entering DB                       |\n"
   ]
  },
  {
   "cell_type": "markdown",
   "id": "63011faa-6903-4a61-8bee-20fd78c24b84",
   "metadata": {
    "jp-MarkdownHeadingCollapsed": true
   },
   "source": [
    "### **Data Modelling (OLTP)**"
   ]
  },
  {
   "cell_type": "markdown",
   "id": "9faa1046-6070-4678-a540-b4f2a2ed7e77",
   "metadata": {},
   "source": [
    "#### **Data Model**\n",
    "*Splitting the data into normalized tables like:*  `Customers`, `Products`, `Orders`, `Location`, `Payments`"
   ]
  },
  {
   "cell_type": "markdown",
   "id": "a671e1c1-b541-4a20-aa23-3bd5b43e47bb",
   "metadata": {
    "jupyter": {
     "source_hidden": true
    }
   },
   "source": [
    "![alt text](db_model.png)"
   ]
  },
  {
   "cell_type": "markdown",
   "id": "252728e7-6992-4d73-9e9c-7d6fc2b374a9",
   "metadata": {},
   "source": [
    "### Clean & Normalise df to 3NF"
   ]
  },
  {
   "cell_type": "code",
   "execution_count": 5,
   "id": "cd2ca98c-5d8e-4025-8250-487ecfae073b",
   "metadata": {
    "collapsed": true,
    "jupyter": {
     "outputs_hidden": true
    },
    "scrolled": true
   },
   "outputs": [
    {
     "data": {
      "text/plain": [
       "Order_ID               990\n",
       "Customer_ID            990\n",
       "Customer_Name          986\n",
       "Product_ID            1000\n",
       "Product_Name           628\n",
       "Brand                  968\n",
       "Category                 2\n",
       "Price                  995\n",
       "Quantity                10\n",
       "Total_Price            999\n",
       "Order_Date            1000\n",
       "Shipping_Address      1000\n",
       "City                   969\n",
       "State                   50\n",
       "Country                240\n",
       "Postal_Code            994\n",
       "Email                  999\n",
       "Phone_Number          1000\n",
       "Payment_Method           3\n",
       "Transaction_Status       2\n",
       "dtype: int64"
      ]
     },
     "execution_count": 5,
     "metadata": {},
     "output_type": "execute_result"
    }
   ],
   "source": [
    "raw_df.nunique()"
   ]
  },
  {
   "cell_type": "code",
   "execution_count": 11,
   "id": "b6083e3b-8039-41e8-8744-75cf919e2dbe",
   "metadata": {
    "scrolled": true
   },
   "outputs": [
    {
     "name": "stdout",
     "output_type": "stream",
     "text": [
      "\n",
      "🔁 Processing yanki_ecom...\n",
      "\n",
      "🧪 Processing source: yanki_ecom\n",
      "[ensure_correct_dtypes] ✅ Converted 'Order_Date' to datetime (mixed format, normalized).\n",
      "[remove_duplicates] Removed 20 duplicate row(s) based on all columns.\n",
      "[handle_missing_critical] Dropped 10 rows with nulls in ['Order_ID', 'Customer_ID']\n",
      "[split_compound_column] ✅ Split 'Customer_Name' into ['First_Name', 'Last_Name']\n",
      "[validate_contact_info] Cleaned email in column 'Email'\n",
      "[validate_contact_info] Cleaned phone in column 'Phone_Number'\n",
      "[normalize_derived_fields] Created 'Total_Price' from Price * Quantity, rounded to 2dp.\n",
      "[standardize_categoricals] Standardized fields: ['Order_ID', 'Customer_ID', 'Customer_Name', 'Product_ID', 'Product_Name', 'Brand', 'Category', 'Shipping_Address', 'City', 'State', 'Country', 'Email', 'Phone_Number', 'Payment_Method', 'Transaction_Status', 'First_Name', 'Last_Name']\n",
      "✅ Finished processing: yanki_ecom — 990 rows, 22 columns\n",
      "ℹ️ Skipping date_dim — OLAP pipeline or date mapping not configured.\n",
      "\n",
      "🔑 Inferring or generating primary keys (before split)...\n",
      "✅ Inferred PK for 'customers' from critical column: customer_id\n",
      "✅ Inferred PK for 'products' from critical column: product_id\n",
      "✅ Inferred PK for 'orders' from critical column: order_id\n",
      "⚠️ No critical PK found for 'locations' — will generate after split.\n",
      "✅ Inferred PK for 'payments' from critical column: order_id\n",
      "\n",
      "🔄 Normalising (3NF) raw data and splitting into OLTP tables...\n",
      "\n",
      "🧩 Splitting and normalizing tables...\n",
      "✅ Created 'customers': 990 rows (0 removed: nulls/dupes)\n",
      "✅ Created 'products': 990 rows (0 removed: nulls/dupes)\n",
      "✅ Created 'orders': 990 rows (0 removed: nulls/dupes)\n",
      "✅ Created 'locations': 990 rows (0 removed: nulls/dupes)\n",
      "✅ Created 'payments': 990 rows (0 removed: nulls/dupes)\n",
      "\n",
      "🔁 Revalidating PKs post-split...\n",
      "⚠️ No valid PK found for 'locations'. Generating synthetic: 'location_id'\n",
      "\n",
      "🔗 Applying configured foreign key relationships...\n",
      "ℹ️ FK 'customer_id' already exists in 'orders' — skipping.\n",
      "ℹ️ FK 'customer_id' already exists in 'locations' — skipping.\n",
      "ℹ️ FK 'product_id' already exists in 'orders' — skipping.\n",
      "✅ Added FK column 'location_id' to 'orders' (→ locations.location_id)\n",
      "ℹ️ FK 'order_id' already exists in 'payments' — skipping.\n",
      "ℹ️ Skipping SK detection — OLAP pipeline not enabled.\n",
      "\n",
      "✅ Transformation complete. 5 tables ready with PKs and FKs.\n",
      "\n",
      "🔢 Ensuring PK columns are Int64 where applicable...\n",
      "🔢 Converted 'locations.location_id' to Int64\n"
     ]
    }
   ],
   "source": [
    "# Clean, split to normalised tables, check for missing pks and insert missing fk from config\n",
    "oltp_tables, pk_dict, fk_dict, sk_dict = transform_oltp(dataset_key, cfg, raw_df)"
   ]
  },
  {
   "cell_type": "code",
   "execution_count": 7,
   "id": "3cde729c-432a-4d8c-835c-873b3e29aab1",
   "metadata": {
    "collapsed": true,
    "jupyter": {
     "outputs_hidden": true,
     "source_hidden": true
    },
    "scrolled": true
   },
   "outputs": [
    {
     "name": "stdout",
     "output_type": "stream",
     "text": [
      "\n",
      " OLTP Tables:\n"
     ]
    },
    {
     "data": {
      "text/plain": [
       "['customers', 'accounts', 'loans', 'transactions', 'date_dim']"
      ]
     },
     "metadata": {},
     "output_type": "display_data"
    },
    {
     "name": "stdout",
     "output_type": "stream",
     "text": [
      "\n",
      " Primary Keys:\n"
     ]
    },
    {
     "data": {
      "text/plain": [
       "{'customers': ['customer_id'],\n",
       " 'accounts': ['account_id'],\n",
       " 'loans': ['loan_id'],\n",
       " 'transactions': ['transaction_id'],\n",
       " 'date_dim': ['date_id']}"
      ]
     },
     "metadata": {},
     "output_type": "display_data"
    },
    {
     "name": "stdout",
     "output_type": "stream",
     "text": [
      "\n",
      " Foreign Keys:\n"
     ]
    },
    {
     "data": {
      "text/plain": [
       "{'accounts': [('customer_id', 'customers', 'customer_id')],\n",
       " 'loans': [('customer_id', 'customers', 'customer_id')],\n",
       " 'transactions': [('account_id', 'accounts', 'account_id'),\n",
       "  ('customer_id', 'customers', 'customer_id')]}"
      ]
     },
     "metadata": {},
     "output_type": "display_data"
    },
    {
     "name": "stdout",
     "output_type": "stream",
     "text": [
      "\n",
      " Surrogate  Keys:\n"
     ]
    },
    {
     "data": {
      "text/plain": [
       "{'customers': ['customer_id'],\n",
       " 'accounts': ['account_id', 'customer_id', 'opening_date_id'],\n",
       " 'loans': ['customer_id', 'start_date_id', 'end_date_id'],\n",
       " 'transactions': ['transaction_id',\n",
       "  'account_id',\n",
       "  'customer_id',\n",
       "  'transaction_date_id'],\n",
       " 'date_dim': ['date_id']}"
      ]
     },
     "metadata": {},
     "output_type": "display_data"
    },
    {
     "name": "stdout",
     "output_type": "stream",
     "text": [
      "\n",
      "📄 Table: customers — 87 rows, 5 columns\n"
     ]
    },
    {
     "data": {
      "text/html": [
       "<div>\n",
       "<style scoped>\n",
       "    .dataframe tbody tr th:only-of-type {\n",
       "        vertical-align: middle;\n",
       "    }\n",
       "\n",
       "    .dataframe tbody tr th {\n",
       "        vertical-align: top;\n",
       "    }\n",
       "\n",
       "    .dataframe thead th {\n",
       "        text-align: right;\n",
       "    }\n",
       "</style>\n",
       "<table border=\"1\" class=\"dataframe\">\n",
       "  <thead>\n",
       "    <tr style=\"text-align: right;\">\n",
       "      <th></th>\n",
       "      <th>customer_id</th>\n",
       "      <th>first_name</th>\n",
       "      <th>last_name</th>\n",
       "      <th>email</th>\n",
       "      <th>phone</th>\n",
       "    </tr>\n",
       "  </thead>\n",
       "  <tbody>\n",
       "    <tr>\n",
       "      <th>0</th>\n",
       "      <td>85</td>\n",
       "      <td>carol</td>\n",
       "      <td>miller</td>\n",
       "      <td>yfisher@example.org</td>\n",
       "      <td>6088279027</td>\n",
       "    </tr>\n",
       "    <tr>\n",
       "      <th>1</th>\n",
       "      <td>91</td>\n",
       "      <td>geoffrey</td>\n",
       "      <td>banks</td>\n",
       "      <td>gonzalesgeorge@example.net</td>\n",
       "      <td>00154685765185359</td>\n",
       "    </tr>\n",
       "    <tr>\n",
       "      <th>2</th>\n",
       "      <td>89</td>\n",
       "      <td>eric</td>\n",
       "      <td>phillips</td>\n",
       "      <td>mark13@example.com</td>\n",
       "      <td>699516763882918</td>\n",
       "    </tr>\n",
       "  </tbody>\n",
       "</table>\n",
       "</div>"
      ],
      "text/plain": [
       "   customer_id first_name last_name                       email  \\\n",
       "0           85      carol    miller         yfisher@example.org   \n",
       "1           91   geoffrey     banks  gonzalesgeorge@example.net   \n",
       "2           89       eric  phillips          mark13@example.com   \n",
       "\n",
       "               phone  \n",
       "0         6088279027  \n",
       "1  00154685765185359  \n",
       "2    699516763882918  "
      ]
     },
     "metadata": {},
     "output_type": "display_data"
    },
    {
     "name": "stdout",
     "output_type": "stream",
     "text": [
      "\n",
      "📋 Schema Info:\n",
      "<class 'pandas.core.frame.DataFrame'>\n",
      "RangeIndex: 87 entries, 0 to 86\n",
      "Data columns (total 5 columns):\n",
      " #   Column       Non-Null Count  Dtype \n",
      "---  ------       --------------  ----- \n",
      " 0   customer_id  87 non-null     Int64 \n",
      " 1   first_name   87 non-null     object\n",
      " 2   last_name    87 non-null     object\n",
      " 3   email        87 non-null     object\n",
      " 4   phone        87 non-null     object\n",
      "dtypes: Int64(1), object(4)\n",
      "memory usage: 3.6+ KB\n"
     ]
    },
    {
     "data": {
      "text/plain": [
       "None"
      ]
     },
     "metadata": {},
     "output_type": "display_data"
    },
    {
     "name": "stdout",
     "output_type": "stream",
     "text": [
      "\n",
      "📄 Table: accounts — 198 rows, 6 columns\n"
     ]
    },
    {
     "data": {
      "text/html": [
       "<div>\n",
       "<style scoped>\n",
       "    .dataframe tbody tr th:only-of-type {\n",
       "        vertical-align: middle;\n",
       "    }\n",
       "\n",
       "    .dataframe tbody tr th {\n",
       "        vertical-align: top;\n",
       "    }\n",
       "\n",
       "    .dataframe thead th {\n",
       "        text-align: right;\n",
       "    }\n",
       "</style>\n",
       "<table border=\"1\" class=\"dataframe\">\n",
       "  <thead>\n",
       "    <tr style=\"text-align: right;\">\n",
       "      <th></th>\n",
       "      <th>account_id</th>\n",
       "      <th>customer_id</th>\n",
       "      <th>account_type</th>\n",
       "      <th>balance</th>\n",
       "      <th>opening_date</th>\n",
       "      <th>opening_date_id</th>\n",
       "    </tr>\n",
       "  </thead>\n",
       "  <tbody>\n",
       "    <tr>\n",
       "      <th>0</th>\n",
       "      <td>88</td>\n",
       "      <td>85</td>\n",
       "      <td>savings</td>\n",
       "      <td>5652.16</td>\n",
       "      <td>2019-08-12</td>\n",
       "      <td>20190812</td>\n",
       "    </tr>\n",
       "    <tr>\n",
       "      <th>1</th>\n",
       "      <td>26</td>\n",
       "      <td>91</td>\n",
       "      <td>credit</td>\n",
       "      <td>2881.24</td>\n",
       "      <td>2019-05-06</td>\n",
       "      <td>20190506</td>\n",
       "    </tr>\n",
       "    <tr>\n",
       "      <th>2</th>\n",
       "      <td>152</td>\n",
       "      <td>89</td>\n",
       "      <td>savings</td>\n",
       "      <td>2391.90</td>\n",
       "      <td>2020-09-17</td>\n",
       "      <td>20200917</td>\n",
       "    </tr>\n",
       "  </tbody>\n",
       "</table>\n",
       "</div>"
      ],
      "text/plain": [
       "   account_id  customer_id account_type  balance opening_date  opening_date_id\n",
       "0          88           85      savings  5652.16   2019-08-12         20190812\n",
       "1          26           91       credit  2881.24   2019-05-06         20190506\n",
       "2         152           89      savings  2391.90   2020-09-17         20200917"
      ]
     },
     "metadata": {},
     "output_type": "display_data"
    },
    {
     "name": "stdout",
     "output_type": "stream",
     "text": [
      "\n",
      "📋 Schema Info:\n",
      "<class 'pandas.core.frame.DataFrame'>\n",
      "RangeIndex: 198 entries, 0 to 197\n",
      "Data columns (total 6 columns):\n",
      " #   Column           Non-Null Count  Dtype         \n",
      "---  ------           --------------  -----         \n",
      " 0   account_id       198 non-null    Int64         \n",
      " 1   customer_id      198 non-null    int64         \n",
      " 2   account_type     198 non-null    object        \n",
      " 3   balance          198 non-null    float64       \n",
      " 4   opening_date     198 non-null    datetime64[ns]\n",
      " 5   opening_date_id  198 non-null    Int64         \n",
      "dtypes: Int64(2), datetime64[ns](1), float64(1), int64(1), object(1)\n",
      "memory usage: 9.8+ KB\n"
     ]
    },
    {
     "data": {
      "text/plain": [
       "None"
      ]
     },
     "metadata": {},
     "output_type": "display_data"
    },
    {
     "name": "stdout",
     "output_type": "stream",
     "text": [
      "\n",
      "📄 Table: loans — 129 rows, 9 columns\n"
     ]
    },
    {
     "data": {
      "text/html": [
       "<div>\n",
       "<style scoped>\n",
       "    .dataframe tbody tr th:only-of-type {\n",
       "        vertical-align: middle;\n",
       "    }\n",
       "\n",
       "    .dataframe tbody tr th {\n",
       "        vertical-align: top;\n",
       "    }\n",
       "\n",
       "    .dataframe thead th {\n",
       "        text-align: right;\n",
       "    }\n",
       "</style>\n",
       "<table border=\"1\" class=\"dataframe\">\n",
       "  <thead>\n",
       "    <tr style=\"text-align: right;\">\n",
       "      <th></th>\n",
       "      <th>loan_id</th>\n",
       "      <th>customer_id</th>\n",
       "      <th>loan_amount</th>\n",
       "      <th>loan_type</th>\n",
       "      <th>start_date</th>\n",
       "      <th>end_date</th>\n",
       "      <th>interest</th>\n",
       "      <th>start_date_id</th>\n",
       "      <th>end_date_id</th>\n",
       "    </tr>\n",
       "  </thead>\n",
       "  <tbody>\n",
       "    <tr>\n",
       "      <th>0</th>\n",
       "      <td>44</td>\n",
       "      <td>91</td>\n",
       "      <td>32428.90</td>\n",
       "      <td>mortgage</td>\n",
       "      <td>2021-06-24</td>\n",
       "      <td>2050-01-08</td>\n",
       "      <td>68749.27</td>\n",
       "      <td>20210624</td>\n",
       "      <td>20500108</td>\n",
       "    </tr>\n",
       "    <tr>\n",
       "      <th>1</th>\n",
       "      <td>48</td>\n",
       "      <td>91</td>\n",
       "      <td>31406.77</td>\n",
       "      <td>personal</td>\n",
       "      <td>2021-02-27</td>\n",
       "      <td>2038-10-12</td>\n",
       "      <td>145413.35</td>\n",
       "      <td>20210227</td>\n",
       "      <td>20381012</td>\n",
       "    </tr>\n",
       "    <tr>\n",
       "      <th>2</th>\n",
       "      <td>76</td>\n",
       "      <td>91</td>\n",
       "      <td>27834.00</td>\n",
       "      <td>personal</td>\n",
       "      <td>2019-12-05</td>\n",
       "      <td>2037-08-15</td>\n",
       "      <td>59843.10</td>\n",
       "      <td>20191205</td>\n",
       "      <td>20370815</td>\n",
       "    </tr>\n",
       "  </tbody>\n",
       "</table>\n",
       "</div>"
      ],
      "text/plain": [
       "   loan_id  customer_id  loan_amount loan_type start_date   end_date  \\\n",
       "0       44           91     32428.90  mortgage 2021-06-24 2050-01-08   \n",
       "1       48           91     31406.77  personal 2021-02-27 2038-10-12   \n",
       "2       76           91     27834.00  personal 2019-12-05 2037-08-15   \n",
       "\n",
       "    interest  start_date_id  end_date_id  \n",
       "0   68749.27       20210624     20500108  \n",
       "1  145413.35       20210227     20381012  \n",
       "2   59843.10       20191205     20370815  "
      ]
     },
     "metadata": {},
     "output_type": "display_data"
    },
    {
     "name": "stdout",
     "output_type": "stream",
     "text": [
      "\n",
      "📋 Schema Info:\n",
      "<class 'pandas.core.frame.DataFrame'>\n",
      "RangeIndex: 129 entries, 0 to 128\n",
      "Data columns (total 9 columns):\n",
      " #   Column         Non-Null Count  Dtype         \n",
      "---  ------         --------------  -----         \n",
      " 0   loan_id        129 non-null    Int64         \n",
      " 1   customer_id    129 non-null    int64         \n",
      " 2   loan_amount    129 non-null    float64       \n",
      " 3   loan_type      129 non-null    object        \n",
      " 4   start_date     129 non-null    datetime64[ns]\n",
      " 5   end_date       129 non-null    datetime64[ns]\n",
      " 6   interest       129 non-null    float64       \n",
      " 7   start_date_id  129 non-null    Int64         \n",
      " 8   end_date_id    129 non-null    Int64         \n",
      "dtypes: Int64(3), datetime64[ns](2), float64(2), int64(1), object(1)\n",
      "memory usage: 9.6+ KB\n"
     ]
    },
    {
     "data": {
      "text/plain": [
       "None"
      ]
     },
     "metadata": {},
     "output_type": "display_data"
    },
    {
     "name": "stdout",
     "output_type": "stream",
     "text": [
      "\n",
      "📄 Table: transactions — 1000 rows, 7 columns\n"
     ]
    },
    {
     "data": {
      "text/html": [
       "<div>\n",
       "<style scoped>\n",
       "    .dataframe tbody tr th:only-of-type {\n",
       "        vertical-align: middle;\n",
       "    }\n",
       "\n",
       "    .dataframe tbody tr th {\n",
       "        vertical-align: top;\n",
       "    }\n",
       "\n",
       "    .dataframe thead th {\n",
       "        text-align: right;\n",
       "    }\n",
       "</style>\n",
       "<table border=\"1\" class=\"dataframe\">\n",
       "  <thead>\n",
       "    <tr style=\"text-align: right;\">\n",
       "      <th></th>\n",
       "      <th>transaction_id</th>\n",
       "      <th>transaction_type</th>\n",
       "      <th>amount</th>\n",
       "      <th>transaction_date</th>\n",
       "      <th>account_id</th>\n",
       "      <th>customer_id</th>\n",
       "      <th>transaction_date_id</th>\n",
       "    </tr>\n",
       "  </thead>\n",
       "  <tbody>\n",
       "    <tr>\n",
       "      <th>0</th>\n",
       "      <td>1</td>\n",
       "      <td>withdrawal</td>\n",
       "      <td>102.15</td>\n",
       "      <td>2023-04-26</td>\n",
       "      <td>88</td>\n",
       "      <td>85</td>\n",
       "      <td>20230426</td>\n",
       "    </tr>\n",
       "    <tr>\n",
       "      <th>1</th>\n",
       "      <td>2</td>\n",
       "      <td>withdrawal</td>\n",
       "      <td>358.80</td>\n",
       "      <td>2020-06-13</td>\n",
       "      <td>26</td>\n",
       "      <td>91</td>\n",
       "      <td>20200613</td>\n",
       "    </tr>\n",
       "    <tr>\n",
       "      <th>2</th>\n",
       "      <td>3</td>\n",
       "      <td>deposit</td>\n",
       "      <td>112.41</td>\n",
       "      <td>2019-05-17</td>\n",
       "      <td>152</td>\n",
       "      <td>89</td>\n",
       "      <td>20190517</td>\n",
       "    </tr>\n",
       "  </tbody>\n",
       "</table>\n",
       "</div>"
      ],
      "text/plain": [
       "   transaction_id transaction_type  amount transaction_date  account_id  \\\n",
       "0               1       withdrawal  102.15       2023-04-26          88   \n",
       "1               2       withdrawal  358.80       2020-06-13          26   \n",
       "2               3          deposit  112.41       2019-05-17         152   \n",
       "\n",
       "   customer_id  transaction_date_id  \n",
       "0           85             20230426  \n",
       "1           91             20200613  \n",
       "2           89             20190517  "
      ]
     },
     "metadata": {},
     "output_type": "display_data"
    },
    {
     "name": "stdout",
     "output_type": "stream",
     "text": [
      "\n",
      "📋 Schema Info:\n",
      "<class 'pandas.core.frame.DataFrame'>\n",
      "RangeIndex: 1000 entries, 0 to 999\n",
      "Data columns (total 7 columns):\n",
      " #   Column               Non-Null Count  Dtype         \n",
      "---  ------               --------------  -----         \n",
      " 0   transaction_id       1000 non-null   Int64         \n",
      " 1   transaction_type     1000 non-null   object        \n",
      " 2   amount               1000 non-null   float64       \n",
      " 3   transaction_date     1000 non-null   datetime64[ns]\n",
      " 4   account_id           1000 non-null   int64         \n",
      " 5   customer_id          1000 non-null   int64         \n",
      " 6   transaction_date_id  1000 non-null   Int64         \n",
      "dtypes: Int64(2), datetime64[ns](1), float64(1), int64(2), object(1)\n",
      "memory usage: 56.8+ KB\n"
     ]
    },
    {
     "data": {
      "text/plain": [
       "None"
      ]
     },
     "metadata": {},
     "output_type": "display_data"
    },
    {
     "name": "stdout",
     "output_type": "stream",
     "text": [
      "\n",
      "📄 Table: date_dim — 1094 rows, 11 columns\n"
     ]
    },
    {
     "data": {
      "text/html": [
       "<div>\n",
       "<style scoped>\n",
       "    .dataframe tbody tr th:only-of-type {\n",
       "        vertical-align: middle;\n",
       "    }\n",
       "\n",
       "    .dataframe tbody tr th {\n",
       "        vertical-align: top;\n",
       "    }\n",
       "\n",
       "    .dataframe thead th {\n",
       "        text-align: right;\n",
       "    }\n",
       "</style>\n",
       "<table border=\"1\" class=\"dataframe\">\n",
       "  <thead>\n",
       "    <tr style=\"text-align: right;\">\n",
       "      <th></th>\n",
       "      <th>full_date</th>\n",
       "      <th>date_id</th>\n",
       "      <th>day</th>\n",
       "      <th>month</th>\n",
       "      <th>year</th>\n",
       "      <th>quarter</th>\n",
       "      <th>week</th>\n",
       "      <th>day_name</th>\n",
       "      <th>month_name</th>\n",
       "      <th>is_weekend</th>\n",
       "      <th>is_holiday</th>\n",
       "    </tr>\n",
       "  </thead>\n",
       "  <tbody>\n",
       "    <tr>\n",
       "      <th>379</th>\n",
       "      <td>2019-02-09</td>\n",
       "      <td>20190209</td>\n",
       "      <td>9</td>\n",
       "      <td>2</td>\n",
       "      <td>2019</td>\n",
       "      <td>1</td>\n",
       "      <td>6</td>\n",
       "      <td>Saturday</td>\n",
       "      <td>February</td>\n",
       "      <td>True</td>\n",
       "      <td>False</td>\n",
       "    </tr>\n",
       "    <tr>\n",
       "      <th>137</th>\n",
       "      <td>2019-02-11</td>\n",
       "      <td>20190211</td>\n",
       "      <td>11</td>\n",
       "      <td>2</td>\n",
       "      <td>2019</td>\n",
       "      <td>1</td>\n",
       "      <td>7</td>\n",
       "      <td>Monday</td>\n",
       "      <td>February</td>\n",
       "      <td>False</td>\n",
       "      <td>False</td>\n",
       "    </tr>\n",
       "    <tr>\n",
       "      <th>1157</th>\n",
       "      <td>2019-02-12</td>\n",
       "      <td>20190212</td>\n",
       "      <td>12</td>\n",
       "      <td>2</td>\n",
       "      <td>2019</td>\n",
       "      <td>1</td>\n",
       "      <td>7</td>\n",
       "      <td>Tuesday</td>\n",
       "      <td>February</td>\n",
       "      <td>False</td>\n",
       "      <td>False</td>\n",
       "    </tr>\n",
       "  </tbody>\n",
       "</table>\n",
       "</div>"
      ],
      "text/plain": [
       "      full_date   date_id  day  month  year  quarter  week  day_name  \\\n",
       "379  2019-02-09  20190209    9      2  2019        1     6  Saturday   \n",
       "137  2019-02-11  20190211   11      2  2019        1     7    Monday   \n",
       "1157 2019-02-12  20190212   12      2  2019        1     7   Tuesday   \n",
       "\n",
       "     month_name  is_weekend  is_holiday  \n",
       "379    February        True       False  \n",
       "137    February       False       False  \n",
       "1157   February       False       False  "
      ]
     },
     "metadata": {},
     "output_type": "display_data"
    },
    {
     "name": "stdout",
     "output_type": "stream",
     "text": [
      "\n",
      "📋 Schema Info:\n",
      "<class 'pandas.core.frame.DataFrame'>\n",
      "Index: 1094 entries, 379 to 1017\n",
      "Data columns (total 11 columns):\n",
      " #   Column      Non-Null Count  Dtype         \n",
      "---  ------      --------------  -----         \n",
      " 0   full_date   1094 non-null   datetime64[ns]\n",
      " 1   date_id     1094 non-null   Int64         \n",
      " 2   day         1094 non-null   int32         \n",
      " 3   month       1094 non-null   int32         \n",
      " 4   year        1094 non-null   int32         \n",
      " 5   quarter     1094 non-null   int32         \n",
      " 6   week        1094 non-null   UInt32        \n",
      " 7   day_name    1094 non-null   object        \n",
      " 8   month_name  1094 non-null   object        \n",
      " 9   is_weekend  1094 non-null   bool          \n",
      " 10  is_holiday  1094 non-null   bool          \n",
      "dtypes: Int64(1), UInt32(1), bool(2), datetime64[ns](1), int32(4), object(2)\n",
      "memory usage: 68.4+ KB\n"
     ]
    },
    {
     "data": {
      "text/plain": [
       "None"
      ]
     },
     "metadata": {},
     "output_type": "display_data"
    }
   ],
   "source": [
    "# Visualize and inspect all OLTP tables\n",
    "print(\"\\n OLTP Tables:\")\n",
    "display(list(oltp_tables.keys()))\n",
    "\n",
    "# Show PKs and table list\n",
    "print(\"\\n Primary Keys:\")\n",
    "display(pk_dict)\n",
    "\n",
    "# Show FKs and table list\n",
    "print(\"\\n Foreign Keys:\")\n",
    "display(fk_dict)\n",
    "\n",
    "# Show SKs and table list\n",
    "print(\"\\n Surrogate  Keys:\")\n",
    "display(sk_dict)\n",
    "\n",
    "for name, df in oltp_tables.items():\n",
    "    print(f\"\\n📄 Table: {name} — {df.shape[0]} rows, {df.shape[1]} columns\")\n",
    "    display(df.head(3))\n",
    "    print(\"\\n📋 Schema Info:\")\n",
    "    display(df.info())  # .info() returns None but prints to console"
   ]
  },
  {
   "cell_type": "markdown",
   "id": "b92787ea-2870-4ccf-9973-8a1a1f347767",
   "metadata": {},
   "source": [
    "### Save normalised tables to csv (optional)"
   ]
  },
  {
   "cell_type": "code",
   "execution_count": null,
   "id": "83b814d3-7fe1-4a84-93ba-af2b2e3123c1",
   "metadata": {
    "scrolled": true
   },
   "outputs": [],
   "source": [
    "#save_tables_to_csv(tables=oltp_tables, export_dir=\"dataset/\")"
   ]
  },
  {
   "cell_type": "markdown",
   "id": "162fceb0-adc8-4ea3-8491-6b5619cb6304",
   "metadata": {},
   "source": [
    "## Load to postgresSQL (*connection already made*)"
   ]
  },
  {
   "cell_type": "code",
   "execution_count": 12,
   "id": "ffe2336d-2c91-4513-a20d-30943b187eaf",
   "metadata": {},
   "outputs": [
    {
     "name": "stderr",
     "output_type": "stream",
     "text": [
      "ERROR:root:[UPSERT] ❌ Error: relation \"temp_customers\" already exists\n",
      "\n",
      "ERROR:root:[UPSERT] ❌ Error: missing data for column \"city\"\n",
      "CONTEXT:  COPY temp_locations, line 1: \"1\te0d6cb3c-c4b0-4cfe-8225-b65d094d2424\t\"psc 2224, box 2284\"\n",
      "\n"
     ]
    },
    {
     "name": "stdout",
     "output_type": "stream",
     "text": [
      "🔀 Table creation order: ['customers', 'products', 'locations', 'orders', 'payments']\n",
      "⏩ Table yanki_oltp.customers exists - skipping creation\n",
      "⏩ Table yanki_oltp.products exists - skipping creation\n",
      "⏩ Table yanki_oltp.locations exists - skipping creation\n",
      "⏩ Table yanki_oltp.orders exists - skipping creation\n",
      "⏩ Table yanki_oltp.payments exists - skipping creation\n",
      "📌 Loading: customers — PK: ['customer_id'], FK: []\n",
      "[UPSERT] ❌ Failed to upsert 'yanki_oltp.customers': relation \"temp_customers\" already exists\n",
      "\n",
      "📌 Loading: products — PK: ['product_id'], FK: []\n",
      "[UPSERT] ✅ Successfully upserted 990 rows to yanki_oltp.products\n",
      "📌 Loading: locations — PK: ['location_id'], FK: [('customer_id', 'customers', 'customer_id')]\n",
      "[UPSERT] ❌ Failed to upsert 'yanki_oltp.locations': missing data for column \"city\"\n",
      "CONTEXT:  COPY temp_locations, line 1: \"1\te0d6cb3c-c4b0-4cfe-8225-b65d094d2424\t\"psc 2224, box 2284\"\n",
      "\n",
      "📌 Loading: orders — PK: ['order_id'], FK: [('customer_id', 'customers', 'customer_id'), ('product_id', 'products', 'product_id'), ('location_id', 'locations', 'location_id')]\n",
      "[UPSERT] ✅ Successfully upserted 990 rows to yanki_oltp.orders\n",
      "📌 Loading: payments — PK: ['order_id'], FK: [('order_id', 'orders', 'order_id')]\n",
      "[UPSERT] ✅ Successfully upserted 990 rows to yanki_oltp.payments\n",
      "✅ ETL pipeline complete for: yanki_ecom\n",
      "{'start_time': '2025-04-13T22:33:08.950206', 'stages': {}, 'success': True, 'end_time': '2025-04-13T22:33:09.178144'}\n"
     ]
    }
   ],
   "source": [
    "result = run_dynamic_etl_pipeline(conn, dataset_key, raw_df, cfg, oltp_tables,pk_dict,fk_dict)\n",
    "print(result)"
   ]
  },
  {
   "cell_type": "code",
   "execution_count": null,
   "id": "8f48716a-bb82-4d4d-b312-d0dbe8c290d0",
   "metadata": {},
   "outputs": [],
   "source": []
  },
  {
   "cell_type": "code",
   "execution_count": null,
   "id": "ec7d044f-a5f6-44e1-b2d3-de9af4a14fff",
   "metadata": {},
   "outputs": [],
   "source": []
  },
  {
   "cell_type": "code",
   "execution_count": null,
   "id": "8def72e2-45ce-400b-b493-7dcdacd38a84",
   "metadata": {},
   "outputs": [],
   "source": [
    "# create and execute schema + tables\n",
    "create_and_execute_schema_and_tables(\n",
    "    conn=conn,\n",
    "    schema=\"yanki\",\n",
    "    tables=normalized_tables,\n",
    "    primary_keys=primary_keys,\n",
    "    foreign_keys=foreign_keys\n",
    ")"
   ]
  },
  {
   "cell_type": "code",
   "execution_count": null,
   "id": "5d5a7eca-7c85-461e-a94c-839899bb936e",
   "metadata": {
    "scrolled": true
   },
   "outputs": [],
   "source": [
    "# Load data to the database table\n",
    "load_db(\n",
    "    conn=conn,\n",
    "    tables=normalized_tables,\n",
    "    foreign_keys=foreign_keys,\n",
    "    schema=\"yanki\"\n",
    ")"
   ]
  },
  {
   "cell_type": "code",
   "execution_count": null,
   "id": "75ddd0fc-2329-4cd5-b805-76c4212f17cb",
   "metadata": {},
   "outputs": [],
   "source": [
    "# Generate SQL script to insert to the database table (Optional)\n",
    "export_sql_script(\n",
    "    schema= \"yanki\",\n",
    "    tables= normalized_tables,\n",
    "    foreign_keys= foreign_keys,\n",
    "    output_sql_path= \"dataset/yanki_insert.sql\"\n",
    ")"
   ]
  },
  {
   "cell_type": "markdown",
   "id": "b6c543bd-b42d-4806-98f1-cbc29aca75dc",
   "metadata": {},
   "source": [
    "![ERD](schemaERD.pgerd.png)"
   ]
  },
  {
   "cell_type": "code",
   "execution_count": null,
   "id": "5bff600c-8f57-47ef-b672-46403a47a9e8",
   "metadata": {},
   "outputs": [],
   "source": []
  },
  {
   "cell_type": "code",
   "execution_count": null,
   "id": "4a143840-c22c-4c1b-9b2b-4a2f67bcad49",
   "metadata": {},
   "outputs": [],
   "source": [
    "# 2. Create the OLT schema and tables\n",
    "\n",
    "create_and_execute_schema_and_tables(\n",
    "    conn=conn,\n",
    "    schema=\"zulo_oltp\",\n",
    "    tables=oltp_tables,\n",
    "    primary_keys=pk_dict,\n",
    "    foreign_keys=fk_dict,\n",
    "    surrogate_keys={}  # Not needed here for OLTP\n",
    ")\n",
    "\n",
    "\n",
    "# 2. map dateids to oltp tables\n",
    "from config import CONFIG\n",
    "cfg = CONFIG[\"zulo_bank\"]\n",
    "date_map = cfg[\"oltp\"][\"date_mapping\"]\n",
    "\n",
    "oltp_with_date_ids = apply_configured_date_mapping(\n",
    "    tables=oltp_tables,\n",
    "    date_dim=dim_date,         # Must include 'full_date' and 'date_id' or 'date_sk'\n",
    "    date_mapping=date_map,\n",
    "    date_key=\"date_sk\"         # Match your dim_date schema\n",
    ")\n",
    "\n",
    "\n",
    "# 2. Create the OLAP schema and tables\n",
    "reate_and_execute_schema_and_tables(\n",
    "    conn=conn,\n",
    "    schema=\"zulo_olap\",\n",
    "    tables=olap_structure,     # built from config\n",
    "    primary_keys={},           # OLAP doesn't use natural PKs\n",
    "    foreign_keys={},           # You can add FK logic later\n",
    "    surrogate_keys=surrogate_keys\n",
    "\n",
    "\n",
    " # Load all OLTP tables (with FK-safe order)\n",
    "sorted_tables = topological_sort_tables(oltp_tables, foreign_keys)\n",
    "\n",
    "for table_name in sorted_tables:\n",
    "    df = oltp_tables[table_name]\n",
    "    copy_dataframe_to_table(\n",
    "        conn=conn,\n",
    "        df=df,\n",
    "        table_name=table_name,\n",
    "        schema=\"zulo_oltp\"\n",
    "    )\n",
    "\n",
    "# load dim tables\n",
    "from config import CONFIG\n",
    "\n",
    "cfg = CONFIG[\"zulo_bank\"]\n",
    "olap_dims = cfg[\"olap\"][\"dimensions\"]\n",
    "\n",
    "dim_lookups = build_and_load_all_dimensions(\n",
    "    conn=conn,\n",
    "    oltp_tables=oltp_tables,       # Your normalized OLTP data\n",
    "    dimension_defs=olap_dims,\n",
    "    schema=\"zulo_olap\"\n",
    ")\n",
    "\n",
    "\n",
    "# load fact tables\n",
    "from config import CONFIG\n",
    "\n",
    "cfg = CONFIG[\"zulo_bank\"]\n",
    "fact_defs = cfg[\"olap\"][\"facts\"]\n",
    "\n",
    "build_and_load_all_facts(\n",
    "    conn=conn,\n",
    "    oltp_tables=oltp_tables,\n",
    "    fact_defs=fact_defs,\n",
    "    dim_lookups=dim_lookups,\n",
    "    schema=\"zulo_olap\"\n",
    ")\n",
    "\n",
    "\n",
    "## validation checks\n",
    "passed = qa_runner_with_pass(\n",
    "    oltp_tables=oltp_tables,\n",
    "    dim_lookups=dim_lookups,\n",
    "    fact_tables={\n",
    "        \"fact_transactions\": fact_transactions_df,\n",
    "        \"fact_loans\": fact_loans_df\n",
    "    },\n",
    "    checks={\n",
    "        \"fact_transactions\": {\n",
    "            \"check_not_null\": [\"account_sk\", \"transaction_date_id\"],\n",
    "            \"fk_checks\": {\"account_sk\": \"dim_accounts\"}\n",
    "        },\n",
    "        \"fact_loans\": {\n",
    "            \"check_not_null\": [\"customer_sk\", \"start_date_id\"],\n",
    "            \"fk_checks\": {\"customer_sk\": \"dim_customers\"}\n",
    "        }\n",
    "    }\n",
    ")\n",
    "\n",
    "if passed:\n",
    "    print(\"🎉 All QA checks passed. Pipeline can continue.\")\n",
    "else:\n",
    "    print(\"🚫 QA checks failed. Review before proceeding.\")\n",
    "\n",
    "\n",
    "# index generator\n",
    "generate_indexes_on_sk_and_date_ids(conn, fact_tables, schema=\"zulo_olap\")\n",
    "\n",
    "\n",
    "# materialised view\n",
    "create_materialized_fact_summary(\n",
    "    conn=conn,\n",
    "    fact_table=\"fact_transactions\",\n",
    "    dim_date=\"dim_date\",\n",
    "    date_fk=\"transaction_date_id\",\n",
    "    group_fields=[\"d.year\", \"d.month\", \"f.account_sk\"],\n",
    "    measures={\"amount\": \"SUM\", \"transaction_sk\": \"COUNT\"},\n",
    "    schema=\"zulo_olap\"\n",
    ")\n",
    "\n",
    "\n"
   ]
  }
 ],
 "metadata": {
  "kernelspec": {
   "display_name": "Python (myenv)",
   "language": "python",
   "name": "myenv"
  },
  "language_info": {
   "codemirror_mode": {
    "name": "ipython",
    "version": 3
   },
   "file_extension": ".py",
   "mimetype": "text/x-python",
   "name": "python",
   "nbconvert_exporter": "python",
   "pygments_lexer": "ipython3",
   "version": "3.11.5"
  },
  "widgets": {
   "application/vnd.jupyter.widget-state+json": {
    "state": {
     "05e98b9b2fce4456a0ec8b4e695b4b44": {
      "model_module": "@jupyter-widgets/controls",
      "model_module_version": "2.0.0",
      "model_name": "DescriptionStyleModel",
      "state": {
       "description_width": ""
      }
     },
     "4598cfc5eb734202b1ac7631882e71a4": {
      "model_module": "@jupyter-widgets/base",
      "model_module_version": "2.0.0",
      "model_name": "LayoutModel",
      "state": {}
     },
     "5217ab6bde3348c383086fe440d76bab": {
      "model_module": "@jupyter-widgets/output",
      "model_module_version": "1.0.0",
      "model_name": "OutputModel",
      "state": {
       "layout": "IPY_MODEL_4598cfc5eb734202b1ac7631882e71a4",
       "outputs": [
        {
         "name": "stdout",
         "output_type": "stream",
         "text": "🔗 Loading from Google Drive ID: 1lPmrM-4EJLfM14E_3pWF2aLl_Y7HsoHa\n✅ Loaded: yanki_ecom\n📊 Shape: (1020, 20)\n"
        },
        {
         "data": {
          "text/html": "<div>\n<style scoped>\n    .dataframe tbody tr th:only-of-type {\n        vertical-align: middle;\n    }\n\n    .dataframe tbody tr th {\n        vertical-align: top;\n    }\n\n    .dataframe thead th {\n        text-align: right;\n    }\n</style>\n<table border=\"1\" class=\"dataframe\">\n  <thead>\n    <tr style=\"text-align: right;\">\n      <th></th>\n      <th>Order_ID</th>\n      <th>Customer_ID</th>\n      <th>Customer_Name</th>\n      <th>Product_ID</th>\n      <th>Product_Name</th>\n      <th>Brand</th>\n      <th>Category</th>\n      <th>Price</th>\n      <th>Quantity</th>\n      <th>Total_Price</th>\n      <th>Order_Date</th>\n      <th>Shipping_Address</th>\n      <th>City</th>\n      <th>State</th>\n      <th>Country</th>\n      <th>Postal_Code</th>\n      <th>Email</th>\n      <th>Phone_Number</th>\n      <th>Payment_Method</th>\n      <th>Transaction_Status</th>\n    </tr>\n  </thead>\n  <tbody>\n    <tr>\n      <th>0</th>\n      <td>NaN</td>\n      <td>NaN</td>\n      <td>NaN</td>\n      <td>64b689a8-bf03-47d2-a5cc-0723baeb1606</td>\n      <td>major</td>\n      <td>Haynes PLC</td>\n      <td>perfume</td>\n      <td>52.34</td>\n      <td>2</td>\n      <td>104.68</td>\n      <td>27/05/2020 14:20</td>\n      <td>1648 Brown Bridge Apt. 846\\nCaitlinland, MI 57992</td>\n      <td>Davidstad</td>\n      <td>Utah</td>\n      <td>China</td>\n      <td>50247</td>\n      <td>karen64@example.com</td>\n      <td>001-217-511-0290x8262</td>\n      <td>Credit Card</td>\n      <td>completed</td>\n    </tr>\n    <tr>\n      <th>1</th>\n      <td>NaN</td>\n      <td>NaN</td>\n      <td>NaN</td>\n      <td>64b689a8-bf03-47d2-a5cc-0723baeb1606</td>\n      <td>major</td>\n      <td>Haynes PLC</td>\n      <td>perfume</td>\n      <td>52.34</td>\n      <td>2</td>\n      <td>104.68</td>\n      <td>27/05/2020 14:20</td>\n      <td>1648 Brown Bridge Apt. 846\\nCaitlinland, MI 57992</td>\n      <td>Davidstad</td>\n      <td>Utah</td>\n      <td>China</td>\n      <td>50247</td>\n      <td>karen64@example.com</td>\n      <td>001-217-511-0290x8262</td>\n      <td>Credit Card</td>\n      <td>completed</td>\n    </tr>\n    <tr>\n      <th>2</th>\n      <td>e32af09a-b6ab-497e-af3a-331e4d4ed6e7</td>\n      <td>e0d6cb3c-c4b0-4cfe-8225-b65d094d2424</td>\n      <td>Dominic Buchanan</td>\n      <td>2ef6e8fa-6a36-4515-b1c2-a0a700abf386</td>\n      <td>despite</td>\n      <td>Lawson, Stone and Campos</td>\n      <td>perfume oil</td>\n      <td>250.57</td>\n      <td>2</td>\n      <td>501.14</td>\n      <td>06/03/2020 06:49</td>\n      <td>PSC 2224, Box 2284\\nAPO AP 65880</td>\n      <td>Jordanborough</td>\n      <td>Arkansas</td>\n      <td>Kuwait</td>\n      <td>27879</td>\n      <td>margaret97@example.com</td>\n      <td>259.603.6134</td>\n      <td>Debit Card</td>\n      <td>completed</td>\n    </tr>\n  </tbody>\n</table>\n</div>",
          "text/plain": "                               Order_ID                           Customer_ID  \\\n0                                   NaN                                   NaN   \n1                                   NaN                                   NaN   \n2  e32af09a-b6ab-497e-af3a-331e4d4ed6e7  e0d6cb3c-c4b0-4cfe-8225-b65d094d2424   \n\n      Customer_Name                            Product_ID Product_Name  \\\n0               NaN  64b689a8-bf03-47d2-a5cc-0723baeb1606        major   \n1               NaN  64b689a8-bf03-47d2-a5cc-0723baeb1606        major   \n2  Dominic Buchanan  2ef6e8fa-6a36-4515-b1c2-a0a700abf386      despite   \n\n                      Brand     Category   Price  Quantity  Total_Price  \\\n0                Haynes PLC      perfume   52.34         2       104.68   \n1                Haynes PLC      perfume   52.34         2       104.68   \n2  Lawson, Stone and Campos  perfume oil  250.57         2       501.14   \n\n         Order_Date                                   Shipping_Address  \\\n0  27/05/2020 14:20  1648 Brown Bridge Apt. 846\\nCaitlinland, MI 57992   \n1  27/05/2020 14:20  1648 Brown Bridge Apt. 846\\nCaitlinland, MI 57992   \n2  06/03/2020 06:49                   PSC 2224, Box 2284\\nAPO AP 65880   \n\n            City     State Country  Postal_Code                   Email  \\\n0      Davidstad      Utah   China        50247     karen64@example.com   \n1      Davidstad      Utah   China        50247     karen64@example.com   \n2  Jordanborough  Arkansas  Kuwait        27879  margaret97@example.com   \n\n            Phone_Number Payment_Method Transaction_Status  \n0  001-217-511-0290x8262    Credit Card          completed  \n1  001-217-511-0290x8262    Credit Card          completed  \n2           259.603.6134     Debit Card          completed  "
         },
         "metadata": {},
         "output_type": "display_data"
        },
        {
         "data": {
          "text/html": "<pre><class 'pandas.core.frame.DataFrame'>\nRangeIndex: 1020 entries, 0 to 1019\nData columns (total 20 columns):\n #   Column              Non-Null Count  Dtype  \n---  ------              --------------  -----  \n 0   Order_ID            1000 non-null   object \n 1   Customer_ID         1000 non-null   object \n 2   Customer_Name       1000 non-null   object \n 3   Product_ID          1020 non-null   object \n 4   Product_Name        1020 non-null   object \n 5   Brand               1020 non-null   object \n 6   Category            1020 non-null   object \n 7   Price               1020 non-null   float64\n 8   Quantity            1020 non-null   int64  \n 9   Total_Price         1020 non-null   float64\n 10  Order_Date          1020 non-null   object \n 11  Shipping_Address    1020 non-null   object \n 12  City                1020 non-null   object \n 13  State               1019 non-null   object \n 14  Country             1020 non-null   object \n 15  Postal_Code         1020 non-null   int64  \n 16  Email               1020 non-null   object \n 17  Phone_Number        1020 non-null   object \n 18  Payment_Method      1020 non-null   object \n 19  Transaction_Status  1020 non-null   object \ndtypes: float64(2), int64(2), object(16)\nmemory usage: 159.5+ KB\n</pre>",
          "text/plain": "<IPython.core.display.HTML object>"
         },
         "metadata": {},
         "output_type": "display_data"
        },
        {
         "name": "stdout",
         "output_type": "stream",
         "text": "✅ You can now access result['raw_df'], result['selected_source']\n"
        }
       ]
      }
     },
     "5774ea20d74e40f482ab9d060be93f37": {
      "model_module": "@jupyter-widgets/base",
      "model_module_version": "2.0.0",
      "model_name": "LayoutModel",
      "state": {}
     },
     "80da5b5b46264b96896868125feab97b": {
      "model_module": "@jupyter-widgets/base",
      "model_module_version": "2.0.0",
      "model_name": "LayoutModel",
      "state": {}
     },
     "a02eeb3ff4ae49c9a2bdd29205dfb3ca": {
      "model_module": "@jupyter-widgets/output",
      "model_module_version": "1.0.0",
      "model_name": "OutputModel",
      "state": {
       "layout": "IPY_MODEL_80da5b5b46264b96896868125feab97b",
       "outputs": [
        {
         "name": "stdout",
         "output_type": "stream",
         "text": "📂 Loading local file: dataset/zulo_bank.csv\n✅ Loaded: zulo_bank\n📊 Shape: (1554, 18)\n"
        },
        {
         "data": {
          "text/html": "<div>\n<style scoped>\n    .dataframe tbody tr th:only-of-type {\n        vertical-align: middle;\n    }\n\n    .dataframe tbody tr th {\n        vertical-align: top;\n    }\n\n    .dataframe thead th {\n        text-align: right;\n    }\n</style>\n<table border=\"1\" class=\"dataframe\">\n  <thead>\n    <tr style=\"text-align: right;\">\n      <th></th>\n      <th>TransactionID</th>\n      <th>TransactionType</th>\n      <th>Amount</th>\n      <th>TransactionDate</th>\n      <th>CustomerID</th>\n      <th>FullName</th>\n      <th>Email</th>\n      <th>Phone</th>\n      <th>AccountID</th>\n      <th>AccountType</th>\n      <th>Balance</th>\n      <th>OpeningDate</th>\n      <th>LoanID</th>\n      <th>LoanAmount</th>\n      <th>LoanType</th>\n      <th>StartDate</th>\n      <th>EndDate</th>\n      <th>InterestRate</th>\n    </tr>\n  </thead>\n  <tbody>\n    <tr>\n      <th>0</th>\n      <td>1</td>\n      <td>withdrawal</td>\n      <td>102.15</td>\n      <td>2023-04-26</td>\n      <td>85</td>\n      <td>Carol Miller</td>\n      <td>yfisher@example.org</td>\n      <td>6088279027</td>\n      <td>88</td>\n      <td>Savings</td>\n      <td>5652.16</td>\n      <td>2019-08-12</td>\n      <td>NaN</td>\n      <td>NaN</td>\n      <td>NaN</td>\n      <td>NaN</td>\n      <td>NaN</td>\n      <td>NaN</td>\n    </tr>\n    <tr>\n      <th>1</th>\n      <td>2</td>\n      <td>withdrawal</td>\n      <td>358.80</td>\n      <td>2020-06-13</td>\n      <td>91</td>\n      <td>Geoffrey Banks</td>\n      <td>gonzalesgeorge@example.net</td>\n      <td>001-546-857-6518x5359</td>\n      <td>26</td>\n      <td>Credit</td>\n      <td>2881.24</td>\n      <td>2019-05-06</td>\n      <td>44.0</td>\n      <td>32428.90</td>\n      <td>Mortgage</td>\n      <td>2021-06-24</td>\n      <td>2050-01-08 04:59:17.907588</td>\n      <td>2.12</td>\n    </tr>\n    <tr>\n      <th>2</th>\n      <td>2</td>\n      <td>withdrawal</td>\n      <td>358.80</td>\n      <td>2020-06-13</td>\n      <td>91</td>\n      <td>Geoffrey Banks</td>\n      <td>gonzalesgeorge@example.net</td>\n      <td>001-546-857-6518x5359</td>\n      <td>26</td>\n      <td>Credit</td>\n      <td>2881.24</td>\n      <td>2019-05-06</td>\n      <td>48.0</td>\n      <td>31406.77</td>\n      <td>Personal</td>\n      <td>2021-02-27</td>\n      <td>2038-10-12 04:59:17.907821</td>\n      <td>4.63</td>\n    </tr>\n  </tbody>\n</table>\n</div>",
          "text/plain": "   TransactionID TransactionType  Amount TransactionDate  CustomerID  \\\n0              1      withdrawal  102.15      2023-04-26          85   \n1              2      withdrawal  358.80      2020-06-13          91   \n2              2      withdrawal  358.80      2020-06-13          91   \n\n         FullName                       Email                  Phone  \\\n0    Carol Miller         yfisher@example.org             6088279027   \n1  Geoffrey Banks  gonzalesgeorge@example.net  001-546-857-6518x5359   \n2  Geoffrey Banks  gonzalesgeorge@example.net  001-546-857-6518x5359   \n\n   AccountID AccountType  Balance OpeningDate  LoanID  LoanAmount  LoanType  \\\n0         88     Savings  5652.16  2019-08-12     NaN         NaN       NaN   \n1         26      Credit  2881.24  2019-05-06    44.0    32428.90  Mortgage   \n2         26      Credit  2881.24  2019-05-06    48.0    31406.77  Personal   \n\n    StartDate                     EndDate  InterestRate  \n0         NaN                         NaN           NaN  \n1  2021-06-24  2050-01-08 04:59:17.907588          2.12  \n2  2021-02-27  2038-10-12 04:59:17.907821          4.63  "
         },
         "metadata": {},
         "output_type": "display_data"
        },
        {
         "data": {
          "text/html": "<pre><class 'pandas.core.frame.DataFrame'>\nRangeIndex: 1554 entries, 0 to 1553\nData columns (total 18 columns):\n #   Column           Non-Null Count  Dtype  \n---  ------           --------------  -----  \n 0   TransactionID    1554 non-null   int64  \n 1   TransactionType  1554 non-null   object \n 2   Amount           1554 non-null   float64\n 3   TransactionDate  1554 non-null   object \n 4   CustomerID       1554 non-null   int64  \n 5   FullName         1554 non-null   object \n 6   Email            1554 non-null   object \n 7   Phone            1554 non-null   object \n 8   AccountID        1554 non-null   int64  \n 9   AccountType      1554 non-null   object \n 10  Balance          1554 non-null   float64\n 11  OpeningDate      1554 non-null   object \n 12  LoanID           1278 non-null   float64\n 13  LoanAmount       1278 non-null   float64\n 14  LoanType         1278 non-null   object \n 15  StartDate        1278 non-null   object \n 16  EndDate          1278 non-null   object \n 17  InterestRate     1278 non-null   float64\ndtypes: float64(5), int64(3), object(10)\nmemory usage: 218.7+ KB\n</pre>",
          "text/plain": "<IPython.core.display.HTML object>"
         },
         "metadata": {},
         "output_type": "display_data"
        },
        {
         "name": "stdout",
         "output_type": "stream",
         "text": "✅ You can now access result['raw_df'], result['selected_source']\n"
        }
       ]
      }
     },
     "ab82de38605849fb8ddd0af5c08b9011": {
      "model_module": "@jupyter-widgets/controls",
      "model_module_version": "2.0.0",
      "model_name": "DropdownModel",
      "state": {
       "_options_labels": [
        "all",
        "zulo_bank",
        "yanki_ecom",
        "csv_ex",
        "url_ex"
       ],
       "description": "Data Source:",
       "index": 2,
       "layout": "IPY_MODEL_dc1932320d304968a2fc176b556ea5ae",
       "style": "IPY_MODEL_05e98b9b2fce4456a0ec8b4e695b4b44"
      }
     },
     "dc1932320d304968a2fc176b556ea5ae": {
      "model_module": "@jupyter-widgets/base",
      "model_module_version": "2.0.0",
      "model_name": "LayoutModel",
      "state": {}
     },
     "e041fe64221f4924a35b7f6b83926dc0": {
      "model_module": "@jupyter-widgets/controls",
      "model_module_version": "2.0.0",
      "model_name": "DropdownModel",
      "state": {
       "_options_labels": [
        "all",
        "zulo_bank",
        "yanki_ecom",
        "csv_ex",
        "url_ex"
       ],
       "description": "Data Source:",
       "index": 1,
       "layout": "IPY_MODEL_5774ea20d74e40f482ab9d060be93f37",
       "style": "IPY_MODEL_e4437bea3983440e900aeba699e3a890"
      }
     },
     "e4437bea3983440e900aeba699e3a890": {
      "model_module": "@jupyter-widgets/controls",
      "model_module_version": "2.0.0",
      "model_name": "DescriptionStyleModel",
      "state": {
       "description_width": ""
      }
     }
    },
    "version_major": 2,
    "version_minor": 0
   }
  }
 },
 "nbformat": 4,
 "nbformat_minor": 5
}
