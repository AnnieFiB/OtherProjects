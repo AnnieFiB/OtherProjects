{
 "cells": [
  {
   "cell_type": "markdown",
   "id": "bd1e3395-7d97-4e60-9a7e-514fd7a0ea57",
   "metadata": {},
   "source": [
    "# Sales Performance Analysis for Product Insights\n",
    "<p align=\"center\"><strong>Author: Anthonia, Tool: Panda, SQL</strong></p>"
   ]
  },
  {
   "cell_type": "code",
   "execution_count": 10,
   "id": "c4150cdb-a254-4433-9bb2-afbcce5a56ad",
   "metadata": {
    "jupyter": {
     "source_hidden": true
    }
   },
   "outputs": [],
   "source": [
    "%matplotlib inline\n",
    "\n",
    "import numpy as np\n",
    "import pandas as pd\n",
    "import seaborn as sns\n",
    "import matplotlib.pyplot as plt\n",
    "from datetime import datetime\n",
    "import sys\n",
    "import io\n",
    "import re"
   ]
  },
  {
   "cell_type": "markdown",
   "id": "cd851698-99de-4bd7-a954-bdb98c780618",
   "metadata": {},
   "source": [
    "## Load data"
   ]
  },
  {
   "cell_type": "code",
   "execution_count": 3,
   "id": "3f1a5e10-9e12-4bf1-8605-6df3136ac4d4",
   "metadata": {
    "jupyter": {
     "source_hidden": true
    },
    "scrolled": true
   },
   "outputs": [
    {
     "data": {
      "text/html": [
       "<div>\n",
       "<style scoped>\n",
       "    .dataframe tbody tr th:only-of-type {\n",
       "        vertical-align: middle;\n",
       "    }\n",
       "\n",
       "    .dataframe tbody tr th {\n",
       "        vertical-align: top;\n",
       "    }\n",
       "\n",
       "    .dataframe thead th {\n",
       "        text-align: right;\n",
       "    }\n",
       "</style>\n",
       "<table border=\"1\" class=\"dataframe\">\n",
       "  <thead>\n",
       "    <tr style=\"text-align: right;\">\n",
       "      <th></th>\n",
       "      <th>Order ID</th>\n",
       "      <th>Amount</th>\n",
       "      <th>Profit</th>\n",
       "      <th>Quantity</th>\n",
       "      <th>Category</th>\n",
       "      <th>Sub-Category</th>\n",
       "      <th>PaymentMode</th>\n",
       "      <th>Order Date</th>\n",
       "      <th>CustomerName</th>\n",
       "      <th>State</th>\n",
       "      <th>City</th>\n",
       "      <th>Year-Month</th>\n",
       "    </tr>\n",
       "  </thead>\n",
       "  <tbody>\n",
       "    <tr>\n",
       "      <th>0</th>\n",
       "      <td>B-26776</td>\n",
       "      <td>9726</td>\n",
       "      <td>1275</td>\n",
       "      <td>5</td>\n",
       "      <td>Electronics</td>\n",
       "      <td>Electronic Games</td>\n",
       "      <td>UPI</td>\n",
       "      <td>2023-06-27</td>\n",
       "      <td>David Padilla</td>\n",
       "      <td>Florida</td>\n",
       "      <td>Miami</td>\n",
       "      <td>2023-06</td>\n",
       "    </tr>\n",
       "    <tr>\n",
       "      <th>1</th>\n",
       "      <td>B-26776</td>\n",
       "      <td>9726</td>\n",
       "      <td>1275</td>\n",
       "      <td>5</td>\n",
       "      <td>Electronics</td>\n",
       "      <td>Electronic Games</td>\n",
       "      <td>UPI</td>\n",
       "      <td>2024-12-27</td>\n",
       "      <td>Connor Morgan</td>\n",
       "      <td>Illinois</td>\n",
       "      <td>Chicago</td>\n",
       "      <td>2024-12</td>\n",
       "    </tr>\n",
       "    <tr>\n",
       "      <th>2</th>\n",
       "      <td>B-26776</td>\n",
       "      <td>9726</td>\n",
       "      <td>1275</td>\n",
       "      <td>5</td>\n",
       "      <td>Electronics</td>\n",
       "      <td>Electronic Games</td>\n",
       "      <td>UPI</td>\n",
       "      <td>2021-07-25</td>\n",
       "      <td>Robert Stone</td>\n",
       "      <td>New York</td>\n",
       "      <td>Buffalo</td>\n",
       "      <td>2021-07</td>\n",
       "    </tr>\n",
       "    <tr>\n",
       "      <th>3</th>\n",
       "      <td>B-26776</td>\n",
       "      <td>4975</td>\n",
       "      <td>1330</td>\n",
       "      <td>14</td>\n",
       "      <td>Electronics</td>\n",
       "      <td>Printers</td>\n",
       "      <td>UPI</td>\n",
       "      <td>2023-06-27</td>\n",
       "      <td>David Padilla</td>\n",
       "      <td>Florida</td>\n",
       "      <td>Miami</td>\n",
       "      <td>2023-06</td>\n",
       "    </tr>\n",
       "    <tr>\n",
       "      <th>4</th>\n",
       "      <td>B-26776</td>\n",
       "      <td>4975</td>\n",
       "      <td>1330</td>\n",
       "      <td>14</td>\n",
       "      <td>Electronics</td>\n",
       "      <td>Printers</td>\n",
       "      <td>UPI</td>\n",
       "      <td>2024-12-27</td>\n",
       "      <td>Connor Morgan</td>\n",
       "      <td>Illinois</td>\n",
       "      <td>Chicago</td>\n",
       "      <td>2024-12</td>\n",
       "    </tr>\n",
       "  </tbody>\n",
       "</table>\n",
       "</div>"
      ],
      "text/plain": [
       "  Order ID  Amount  Profit  Quantity     Category      Sub-Category  \\\n",
       "0  B-26776    9726    1275         5  Electronics  Electronic Games   \n",
       "1  B-26776    9726    1275         5  Electronics  Electronic Games   \n",
       "2  B-26776    9726    1275         5  Electronics  Electronic Games   \n",
       "3  B-26776    4975    1330        14  Electronics          Printers   \n",
       "4  B-26776    4975    1330        14  Electronics          Printers   \n",
       "\n",
       "  PaymentMode  Order Date   CustomerName     State     City Year-Month  \n",
       "0         UPI  2023-06-27  David Padilla   Florida    Miami    2023-06  \n",
       "1         UPI  2024-12-27  Connor Morgan  Illinois  Chicago    2024-12  \n",
       "2         UPI  2021-07-25   Robert Stone  New York  Buffalo    2021-07  \n",
       "3         UPI  2023-06-27  David Padilla   Florida    Miami    2023-06  \n",
       "4         UPI  2024-12-27  Connor Morgan  Illinois  Chicago    2024-12  "
      ]
     },
     "execution_count": 3,
     "metadata": {},
     "output_type": "execute_result"
    }
   ],
   "source": [
    "raw_df = pd.read_csv(\"sales_historical_data.csv\") #\n",
    "raw_df.head()"
   ]
  },
  {
   "cell_type": "markdown",
   "id": "14eaa40f-0c4d-4310-a5ec-5edec30eab45",
   "metadata": {},
   "source": [
    "### Understanding dataset"
   ]
  },
  {
   "cell_type": "markdown",
   "id": "0dc50adb-2a13-4958-a2e0-f2537e78ac69",
   "metadata": {},
   "source": [
    "| **Column Name**   | **Description**                                                                 |\n",
    "|-------------------|----------------------------------------------------------------------------------|\n",
    "| Order ID          |Identifier for each order line.                                               |\n",
    "| Amount            | **Total sale value** of the order (includes both cost and profit).              |\n",
    "| Profit            | Profit earned from the order (i.e., `Amount - Cost`).         \n",
    "| Quantity          | Number of items sold in the order.                                              |\n",
    "| Category          | Broad classification of the product (e.g., Electronics).                        |\n",
    "| Sub-Category      | Specific type of product within the category (e.g., Printers, Electronic Games).|\n",
    "| PaymentMode       | Payment method used (e.g., UPI, Credit Card).                                   |\n",
    "| Order Date        | Date when the order was placed.                                                 |\n",
    "| CustomerName      | Name of the customer who placed the order.                                      |\n",
    "| State             | State where the order was delivered.                                            |\n",
    "\n",
    "Order ID isnt unique as same ID is assigned to different customers . This will be renamed to **orderlineID** and a new surrogate key used as the primary key to prevent failure into db table.\n"
   ]
  },
  {
   "cell_type": "markdown",
   "id": "aace9aa6-f80e-4c6b-94a7-7f0802ec09da",
   "metadata": {},
   "source": [
    "## Data-Preprocessing"
   ]
  },
  {
   "cell_type": "code",
   "execution_count": 4,
   "id": "d394bd2f-7661-47e0-a425-8e1d97fc94f8",
   "metadata": {
    "jupyter": {
     "source_hidden": true
    }
   },
   "outputs": [
    {
     "name": "stdout",
     "output_type": "stream",
     "text": [
      "✅ Loaded 1194 rows and 12 columns.\n"
     ]
    }
   ],
   "source": [
    "orders_df = raw_df.copy()\n",
    "print(f\"✅ Loaded {len(orders_df)} rows and {len(orders_df.columns)} columns.\")"
   ]
  },
  {
   "cell_type": "markdown",
   "id": "5df1b4bc-0c6e-427b-9159-9cb0e391c336",
   "metadata": {},
   "source": [
    "### Step 2: Standardize column names to snake_case"
   ]
  },
  {
   "cell_type": "code",
   "execution_count": 8,
   "id": "527c1a5c-61de-4bc2-8af9-d33ef128b8b9",
   "metadata": {
    "jupyter": {
     "source_hidden": true
    }
   },
   "outputs": [],
   "source": [
    "def standardize_column_names(df: pd.DataFrame) -> pd.DataFrame:\n",
    "    \"\"\"\n",
    "    Standardize DataFrame column names:\n",
    "    - If the column has underscores, assume it's already snake_case and just lowercase it.\n",
    "    - Otherwise, convert camelCase, PascalCase, or space-separated to snake_case.\n",
    "    \"\"\"\n",
    "    def clean_name(name: str) -> str:\n",
    "        if '_' in name:\n",
    "            return name.lower()\n",
    "        # Convert to snake_case\n",
    "        name = re.sub(r\"[\\s\\-]+\", \"_\", name)  # Replace spaces and hyphens with underscore\n",
    "        name = re.sub(r\"(.)([A-Z][a-z]+)\", r\"\\1_\\2\", name)  # camelCase to snake\n",
    "        name = re.sub(r\"([a-z0-9])([A-Z])\", r\"\\1_\\2\", name)  # PascalCase to snake\n",
    "        name = re.sub(r\"__+\", \"_\", name)  # Collapse multiple underscores\n",
    "        name = re.sub(r\"[^\\w_]\", \"\", name)  # Remove non-alphanumeric\n",
    "\n",
    "        return name.lower()\n",
    "\n",
    "    df.columns = [clean_name(col) for col in df.columns]\n",
    "    return df\n"
   ]
  },
  {
   "cell_type": "code",
   "execution_count": 11,
   "id": "0b064e93-a42e-4474-8ddc-7a62ab3fcc61",
   "metadata": {
    "jupyter": {
     "source_hidden": true
    },
    "scrolled": true
   },
   "outputs": [
    {
     "name": "stdout",
     "output_type": "stream",
     "text": [
      " Step 2: Standardizing column names...\n",
      "✅ Columns after cleaning: ['order_id', 'amount', 'profit', 'quantity', 'category', 'sub_category', 'payment_mode', 'order_date', 'customer_name', 'state', 'city', 'year_month']\n"
     ]
    }
   ],
   "source": [
    "# Step 2: Standardize column names to snake_case\n",
    "print(\" Step 2: Standardizing column names...\")\n",
    "orders_df = standardize_column_names(orders_df)\n",
    "print(f\"✅ Columns after cleaning: {list(orders_df.columns)}\")"
   ]
  },
  {
   "cell_type": "markdown",
   "id": "bd1c31c0-8c5b-458d-946c-79a4213a3515",
   "metadata": {},
   "source": [
    "### Step 3: Handle missing values in critical fields"
   ]
  },
  {
   "cell_type": "code",
   "execution_count": 12,
   "id": "775aec6b-b1ba-4bd4-b3fb-127653a7ed15",
   "metadata": {
    "jupyter": {
     "source_hidden": true
    }
   },
   "outputs": [
    {
     "name": "stdout",
     "output_type": "stream",
     "text": [
      " Step 3: Dropping rows with nulls in ['order_id']...\n",
      "✅ Remaining rows: 1194\n"
     ]
    }
   ],
   "source": [
    "critical_cols = [\"order_id\"]\n",
    "print(f\" Step 3: Dropping rows with nulls in {critical_cols}...\")\n",
    "orders_df = orders_df.dropna(subset=critical_cols)\n",
    "print(f\"✅ Remaining rows: {len(orders_df)}\")"
   ]
  },
  {
   "cell_type": "markdown",
   "id": "4b38f5e4-21fb-4cf3-9ecf-7cff9d0b4bf2",
   "metadata": {},
   "source": [
    "### Step 4: Convert date fields"
   ]
  },
  {
   "cell_type": "code",
   "execution_count": 13,
   "id": "ae0af778-0b78-4d49-b564-9cce6d38d33f",
   "metadata": {
    "jupyter": {
     "source_hidden": true
    }
   },
   "outputs": [
    {
     "name": "stdout",
     "output_type": "stream",
     "text": [
      " Step 4: Converting 'order_date' and year_month'  to datetime...\n",
      "✅ Converted. Dropped 0 rows with invalid dates.\n"
     ]
    }
   ],
   "source": [
    "print(\" Step 4: Converting 'order_date' and year_month'  to datetime...\")\n",
    "orders_df[\"order_date\"] = pd.to_datetime(orders_df[\"order_date\"], errors=\"coerce\")\n",
    "orders_df[\"year_month\"] = pd.to_datetime(orders_df[\"year_month\"], format=\"%Y-%m\")\n",
    "\n",
    "before = len(orders_df)\n",
    "orders_df = orders_df.dropna(subset=[\"order_date\"])\n",
    "print(f\"✅ Converted. Dropped {before - len(orders_df)} rows with invalid dates.\")"
   ]
  },
  {
   "cell_type": "markdown",
   "id": "0bc3e887-214d-45df-8798-3437a6929165",
   "metadata": {},
   "source": [
    "### Step 5: Remove full duplicates (across all columns)"
   ]
  },
  {
   "cell_type": "code",
   "execution_count": 14,
   "id": "0d776be3-2707-469f-afa9-a6ca2a95e81f",
   "metadata": {
    "jupyter": {
     "source_hidden": true
    }
   },
   "outputs": [
    {
     "name": "stdout",
     "output_type": "stream",
     "text": [
      " Step 5: Removing full duplicate rows (based on all columns)...\n",
      "✅ Removed 0 full duplicate rows.\n"
     ]
    }
   ],
   "source": [
    "print(\" Step 5: Removing full duplicate rows (based on all columns)...\")\n",
    "before = len(orders_df)\n",
    "orders_df = orders_df.drop_duplicates()\n",
    "print(f\"✅ Removed {before - len(orders_df)} full duplicate rows.\")"
   ]
  },
  {
   "cell_type": "markdown",
   "id": "905a5107-37e9-47f0-9666-2db0d4e52165",
   "metadata": {},
   "source": [
    "### Step 6: Standardize object columns (text cleanup) with non-ID categorical fields"
   ]
  },
  {
   "cell_type": "code",
   "execution_count": 15,
   "id": "1b7a1faf-227b-497a-b28c-0557774517c9",
   "metadata": {
    "jupyter": {
     "source_hidden": true
    }
   },
   "outputs": [
    {
     "name": "stdout",
     "output_type": "stream",
     "text": [
      "Step 6: Standardizing categorical fields (excluding ID columns)...\n",
      "✅ Standardized fields: ['category', 'sub_category', 'payment_mode', 'customer_name', 'state', 'city']\n"
     ]
    }
   ],
   "source": [
    "print(\"Step 6: Standardizing categorical fields (excluding ID columns)...\")\n",
    "categorical_cols = [\n",
    "    col for col in orders_df.select_dtypes(include=[\"object\", \"string\"]).columns\n",
    "    if \"id\" not in col.lower()\n",
    "]\n",
    "\n",
    "for col in categorical_cols:\n",
    "    orders_df[col] = orders_df[col].astype(str).str.strip().str.lower()\n",
    "\n",
    "print(f\"✅ Standardized fields: {categorical_cols}\")\n"
   ]
  },
  {
   "cell_type": "code",
   "execution_count": 16,
   "id": "92f57b13-182b-4bec-b3d8-3d12c860bf2b",
   "metadata": {
    "jupyter": {
     "source_hidden": true
    },
    "scrolled": true
   },
   "outputs": [
    {
     "name": "stdout",
     "output_type": "stream",
     "text": [
      "\n",
      "🔎 Unique values in 'category':\n",
      "['electronics' 'office supplies' 'furniture']\n",
      "\n",
      "🔎 Unique values in 'sub_category':\n",
      "['electronic games' 'printers' 'pens' 'laptops' 'tables' 'chairs'\n",
      " 'markers' 'sofas' 'paper' 'binders' 'phones' 'bookcases']\n",
      "\n",
      "🔎 Unique values in 'payment_mode':\n",
      "['upi' 'debit card' 'emi' 'credit card' 'cod']\n",
      "\n",
      "🔎 Unique values in 'state':\n",
      "['florida' 'illinois' 'new york' 'california' 'texas' 'ohio']\n",
      "\n",
      "🔎 Unique values in 'city':\n",
      "['miami' 'chicago' 'buffalo' 'orlando' 'los angeles' 'new york city'\n",
      " 'springfield' 'rochester' 'dallas' 'san diego' 'austin' 'san francisco'\n",
      " 'columbus' 'cincinnati' 'cleveland' 'houston' 'tampa' 'peoria']\n"
     ]
    }
   ],
   "source": [
    "# Show unique values per column\n",
    "exclude_cols = [\"customer_name\"]\n",
    "filtered_cols = [col for col in categorical_cols if col not in exclude_cols]\n",
    "\n",
    "for col in filtered_cols:\n",
    "    print(f\"\\n🔎 Unique values in '{col}':\")\n",
    "    print(orders_df[col].unique())"
   ]
  },
  {
   "cell_type": "code",
   "execution_count": 24,
   "id": "96c1a69e-59bd-498c-8da2-189160972c49",
   "metadata": {
    "jupyter": {
     "source_hidden": true
    },
    "scrolled": true
   },
   "outputs": [
    {
     "data": {
      "image/png": "[encoded data removed]",
      "text/plain": [
       "<Figure size 1400x1500 with 5 Axes>"
      ]
     },
     "metadata": {},
     "output_type": "display_data"
    }
   ],
   "source": [
    "# Plot top 10 values for each categorical column\n",
    "fig, axes = plt.subplots((len(filtered_cols) + 1) // 2, 2, figsize=(14, 5 * ((len(filtered_cols) + 1) // 2)))\n",
    "axes = axes.flatten()\n",
    "\n",
    "for i, col in enumerate(filtered_cols):\n",
    "    counts = orders_df[col].value_counts().head(10)\n",
    "    sns.barplot(x=counts.values, y=counts.index, hue=counts.index, ax=axes[i], palette=\"viridis\", legend=False)\n",
    "    axes[i].set_title(f\"Top 10: {col}\")\n",
    "    axes[i].set_xlabel(\"Frequency\")\n",
    "    axes[i].set_ylabel(\"\")\n",
    "    \n",
    "    # Hide unused subplots\n",
    "    if i == len(filtered_cols) - 1:\n",
    "        for j in range(i + 1, len(axes)):\n",
    "            fig.delaxes(axes[j])\n",
    "\n",
    "plt.tight_layout()\n",
    "plt.show()"
   ]
  },
  {
   "cell_type": "markdown",
   "id": "7338f35d-e9ce-4df0-aed4-8d5c78296484",
   "metadata": {},
   "source": [
    "### Step 7: Split 'customername' into 'first_name' and 'last_name'"
   ]
  },
  {
   "cell_type": "code",
   "execution_count": 25,
   "id": "aaf17997-d3d9-4134-ae9b-17117b536a7e",
   "metadata": {
    "jupyter": {
     "source_hidden": true
    }
   },
   "outputs": [
    {
     "name": "stdout",
     "output_type": "stream",
     "text": [
      " Step 7: Splitting 'customer_name' into 'first_name' and 'last_name'...\n",
      "✅ Name split complete.\n"
     ]
    }
   ],
   "source": [
    "print(\" Step 7: Splitting 'customer_name' into 'first_name' and 'last_name'...\")\n",
    "orders_df[[\"first_name\", \"last_name\"]] = orders_df[\"customer_name\"].str.strip().str.split(\" \", n=1, expand=True)\n",
    "print(\"✅ Name split complete.\")"
   ]
  },
  {
   "cell_type": "markdown",
   "id": "4049b307-e879-4a3a-9cdb-bebdcdf2b73b",
   "metadata": {},
   "source": [
    "### Step 8: Add derived field 'cost'"
   ]
  },
  {
   "cell_type": "code",
   "execution_count": 26,
   "id": "d1ec3f91-ad98-4f32-a6ec-9e89c5aac0d9",
   "metadata": {
    "jupyter": {
     "source_hidden": true
    }
   },
   "outputs": [
    {
     "name": "stdout",
     "output_type": "stream",
     "text": [
      " Step 8: Calculating 'cost' = amount - profit...\n",
      "✅ cost column added.\n"
     ]
    }
   ],
   "source": [
    "print(\" Step 8: Calculating 'cost' = amount - profit...\")\n",
    "orders_df[\"cost\"] = (orders_df[\"amount\"] - orders_df[\"profit\"]).round(2)\n",
    "print(\"✅ cost column added.\")"
   ]
  },
  {
   "cell_type": "markdown",
   "id": "a440ca35-6039-41c7-a5d6-42c770cb2d87",
   "metadata": {},
   "source": [
    "### Step 9: Rename 'order_id' to 'orderline_id'"
   ]
  },
  {
   "cell_type": "code",
   "execution_count": 28,
   "id": "d260d527-2957-48a4-84bb-600e52e33af4",
   "metadata": {
    "jupyter": {
     "source_hidden": true
    }
   },
   "outputs": [
    {
     "name": "stdout",
     "output_type": "stream",
     "text": [
      " Step 9: order_id column renamed to 'orderline_id' \n"
     ]
    }
   ],
   "source": [
    "orders_df.rename(columns={\"order_id\": \"orderline_id\"}, inplace=True)\n",
    "print(\" Step 9: order_id column renamed to 'orderline_id' \")"
   ]
  },
  {
   "cell_type": "markdown",
   "id": "664e28fc-7c4c-48e1-8828-0f8105a208e2",
   "metadata": {},
   "source": [
    "### Step 10: Add surrogate key ==="
   ]
  },
  {
   "cell_type": "code",
   "execution_count": 29,
   "id": "45c72719-6f11-419a-bfb7-5ab31b9cbe39",
   "metadata": {
    "jupyter": {
     "source_hidden": true
    }
   },
   "outputs": [
    {
     "name": "stdout",
     "output_type": "stream",
     "text": [
      " Step 10: Surrogate key order_sk added as primary key for 'orders' table...\n"
     ]
    }
   ],
   "source": [
    "orders_df.insert(0, \"order_sk\", range(1, len(orders_df) + 1))\n",
    "print(\" Step 10: Surrogate key order_sk added as primary key for 'orders' table...\")"
   ]
  },
  {
   "cell_type": "markdown",
   "id": "c27eb10a-3d23-4131-840d-3508af33498b",
   "metadata": {},
   "source": [
    "### Step 11: Final table for orders"
   ]
  },
  {
   "cell_type": "code",
   "execution_count": 30,
   "id": "21ac7e9d-e89a-4783-8ce4-149ed9de2eb4",
   "metadata": {
    "jupyter": {
     "source_hidden": true
    },
    "scrolled": true
   },
   "outputs": [
    {
     "name": "stdout",
     "output_type": "stream",
     "text": [
      " Step 11: Preparing final cleaned DataFrame for 'orders' table...\n",
      " Final cleaned dataset ready with 1194 rows.\n"
     ]
    },
    {
     "data": {
      "text/html": [
       "<div>\n",
       "<style scoped>\n",
       "    .dataframe tbody tr th:only-of-type {\n",
       "        vertical-align: middle;\n",
       "    }\n",
       "\n",
       "    .dataframe tbody tr th {\n",
       "        vertical-align: top;\n",
       "    }\n",
       "\n",
       "    .dataframe thead th {\n",
       "        text-align: right;\n",
       "    }\n",
       "</style>\n",
       "<table border=\"1\" class=\"dataframe\">\n",
       "  <thead>\n",
       "    <tr style=\"text-align: right;\">\n",
       "      <th></th>\n",
       "      <th>column</th>\n",
       "      <th>dtype</th>\n",
       "    </tr>\n",
       "  </thead>\n",
       "  <tbody>\n",
       "    <tr>\n",
       "      <th>0</th>\n",
       "      <td>order_sk</td>\n",
       "      <td>int64</td>\n",
       "    </tr>\n",
       "    <tr>\n",
       "      <th>1</th>\n",
       "      <td>orderline_id</td>\n",
       "      <td>object</td>\n",
       "    </tr>\n",
       "    <tr>\n",
       "      <th>2</th>\n",
       "      <td>amount</td>\n",
       "      <td>int64</td>\n",
       "    </tr>\n",
       "    <tr>\n",
       "      <th>3</th>\n",
       "      <td>profit</td>\n",
       "      <td>int64</td>\n",
       "    </tr>\n",
       "    <tr>\n",
       "      <th>4</th>\n",
       "      <td>cost</td>\n",
       "      <td>int64</td>\n",
       "    </tr>\n",
       "    <tr>\n",
       "      <th>5</th>\n",
       "      <td>quantity</td>\n",
       "      <td>int64</td>\n",
       "    </tr>\n",
       "    <tr>\n",
       "      <th>6</th>\n",
       "      <td>order_date</td>\n",
       "      <td>datetime64[ns]</td>\n",
       "    </tr>\n",
       "    <tr>\n",
       "      <th>7</th>\n",
       "      <td>year_month</td>\n",
       "      <td>datetime64[ns]</td>\n",
       "    </tr>\n",
       "    <tr>\n",
       "      <th>8</th>\n",
       "      <td>payment_mode</td>\n",
       "      <td>object</td>\n",
       "    </tr>\n",
       "    <tr>\n",
       "      <th>9</th>\n",
       "      <td>first_name</td>\n",
       "      <td>object</td>\n",
       "    </tr>\n",
       "    <tr>\n",
       "      <th>10</th>\n",
       "      <td>last_name</td>\n",
       "      <td>object</td>\n",
       "    </tr>\n",
       "    <tr>\n",
       "      <th>11</th>\n",
       "      <td>state</td>\n",
       "      <td>object</td>\n",
       "    </tr>\n",
       "    <tr>\n",
       "      <th>12</th>\n",
       "      <td>city</td>\n",
       "      <td>object</td>\n",
       "    </tr>\n",
       "    <tr>\n",
       "      <th>13</th>\n",
       "      <td>category</td>\n",
       "      <td>object</td>\n",
       "    </tr>\n",
       "    <tr>\n",
       "      <th>14</th>\n",
       "      <td>sub_category</td>\n",
       "      <td>object</td>\n",
       "    </tr>\n",
       "  </tbody>\n",
       "</table>\n",
       "</div>"
      ],
      "text/plain": [
       "          column           dtype\n",
       "0       order_sk           int64\n",
       "1   orderline_id          object\n",
       "2         amount           int64\n",
       "3         profit           int64\n",
       "4           cost           int64\n",
       "5       quantity           int64\n",
       "6     order_date  datetime64[ns]\n",
       "7     year_month  datetime64[ns]\n",
       "8   payment_mode          object\n",
       "9     first_name          object\n",
       "10     last_name          object\n",
       "11         state          object\n",
       "12          city          object\n",
       "13      category          object\n",
       "14  sub_category          object"
      ]
     },
     "metadata": {},
     "output_type": "display_data"
    }
   ],
   "source": [
    "print(\" Step 11: Preparing final cleaned DataFrame for 'orders' table...\")\n",
    "orders_df = orders_df[\n",
    "    [\"order_sk\", \"orderline_id\", \"amount\", \"profit\", \"cost\", \"quantity\", \"order_date\",\"year_month\",\n",
    "     \"payment_mode\", \"first_name\", \"last_name\", \"state\", \"city\", \"category\", \"sub_category\"]\n",
    "].copy()\n",
    "print(f\" Final cleaned dataset ready with {len(orders_df)} rows.\")\n",
    "\n",
    "dtype_df = pd.DataFrame({\n",
    "    \"column\": orders_df.columns,\n",
    "    \"dtype\": [str(dtype) for dtype in orders_df.dtypes]\n",
    "})\n",
    "from IPython.display import display\n",
    "display(dtype_df)\n"
   ]
  },
  {
   "cell_type": "markdown",
   "id": "eafc612e-9b96-49b0-b8f6-2b5b03624514",
   "metadata": {},
   "source": [
    "## Save cleaned df to file (optional)"
   ]
  },
  {
   "cell_type": "code",
   "execution_count": 20,
   "id": "994400dc-0bcb-4a5d-896a-862f824bcec5",
   "metadata": {
    "jupyter": {
     "source_hidden": true
    }
   },
   "outputs": [
    {
     "name": "stdout",
     "output_type": "stream",
     "text": [
      " Cleaned file saved as 'retailx_orders_cleaned.csv'\n"
     ]
    }
   ],
   "source": [
    "orders_df.to_csv(\"retailx_orders_cleaned.csv\", index=False)\n",
    "print(\" Cleaned file saved as 'retailx_orders_cleaned.csv'\")"
   ]
  },
  {
   "cell_type": "markdown",
   "id": "409e92be-c0d7-4f94-a1f2-effbf2161d98",
   "metadata": {},
   "source": [
    "## Load Cleaned Data into pgAdmin with Error Handling"
   ]
  },
  {
   "cell_type": "markdown",
   "id": "b00132c8-4544-46c1-91f6-22ff9d0305f7",
   "metadata": {},
   "source": [
    "###  Step 1: Connect to PostgreSQL"
   ]
  },
  {
   "cell_type": "code",
   "execution_count": 25,
   "id": "8a490f84-bd11-4cb7-b659-74ca1dd0d989",
   "metadata": {
    "jupyter": {
     "source_hidden": true
    }
   },
   "outputs": [
    {
     "name": "stdout",
     "output_type": "stream",
     "text": [
      "[get_db_connection] ✅ Connected to 'user=postgres password=xxx dbname=retailx_db host=localhost port=5432' using prefix 'SALES_DB_'\n",
      "✅ Connected to PostgreSQL\n"
     ]
    }
   ],
   "source": [
    "conn = get_db_connection(env_prefix=\"SALES_DB_\")  # uses default prefix DB_\n",
    "cur = conn.cursor()\n",
    "print(\"✅ Connected to PostgreSQL\")"
   ]
  },
  {
   "cell_type": "markdown",
   "id": "75cda82f-3a19-444d-ada6-f9eff1380ac2",
   "metadata": {},
   "source": [
    "###  Step 2: Schema + Table Creation with Error Handling"
   ]
  },
  {
   "cell_type": "code",
   "execution_count": 26,
   "id": "18403c2e-5273-4e5a-a264-9c3b0bc8bffe",
   "metadata": {
    "jupyter": {
     "source_hidden": true
    }
   },
   "outputs": [
    {
     "name": "stdout",
     "output_type": "stream",
     "text": [
      "✅ Schema and table created.\n"
     ]
    }
   ],
   "source": [
    "try:\n",
    "    cur.execute(\"CREATE SCHEMA IF NOT EXISTS retailx_oltp;\")\n",
    "    \n",
    "    cur.execute(\"\"\"\n",
    "    CREATE TABLE IF NOT EXISTS retailx_oltp.orders (\n",
    "        order_sk INT PRIMARY KEY,\n",
    "        orderline_id TEXT,\n",
    "        amount DOUBLE PRECISION,\n",
    "        profit DOUBLE PRECISION,\n",
    "        cost DOUBLE PRECISION,\n",
    "        quantity INT,\n",
    "        order_date DATE,\n",
    "        year_month DATE,\n",
    "        payment_mode TEXT,\n",
    "        first_name TEXT,\n",
    "        last_name TEXT,\n",
    "        state TEXT,\n",
    "        city TEXT,\n",
    "        category TEXT,\n",
    "        sub_category TEXT\n",
    "    );\n",
    "    \"\"\")\n",
    "    conn.commit()\n",
    "    print(\"✅ Schema and table created.\")\n",
    "except Exception as e:\n",
    "    conn.rollback()\n",
    "    print(f\"❌ Failed to create schema or table: {e}\")"
   ]
  },
  {
   "cell_type": "markdown",
   "id": "10a7455a-0c5e-4822-8167-03a143d30c0c",
   "metadata": {},
   "source": [
    "### Step 3: Load Data Using copy_expert with Error Handling"
   ]
  },
  {
   "cell_type": "code",
   "execution_count": 27,
   "id": "b1c0af05-8554-45a2-9d5b-cb5fbe2f40ab",
   "metadata": {
    "jupyter": {
     "source_hidden": true
    }
   },
   "outputs": [
    {
     "name": "stdout",
     "output_type": "stream",
     "text": [
      "Loading data into PostgreSQL using buffer...\n",
      "✅ Data loaded into table.\n"
     ]
    }
   ],
   "source": [
    "try:\n",
    "    print(\"Loading data into PostgreSQL using buffer...\")\n",
    "    buffer = io.StringIO()\n",
    "    orders_df.to_csv(buffer, index=False, header=False)\n",
    "    buffer.seek(0)\n",
    "\n",
    "    cur.copy_expert(\n",
    "        \"\"\"\n",
    "        COPY retailx_oltp.orders (\n",
    "            order_sk, orderline_id, amount, profit, cost, quantity, order_date,year_month,\n",
    "            payment_mode, first_name, last_name, state, city,\n",
    "            category, sub_category\n",
    "        ) FROM STDIN WITH (FORMAT CSV)\n",
    "        \"\"\", buffer\n",
    "    )\n",
    "    conn.commit()\n",
    "    print(\"✅ Data loaded into table.\")\n",
    "except Exception as e:\n",
    "    conn.rollback()\n",
    "    print(f\"❌ Data load failed: {e}\")"
   ]
  },
  {
   "cell_type": "markdown",
   "id": "4ae059b0-867c-4f26-bf37-1d54a79706bb",
   "metadata": {},
   "source": [
    "### Step 4: verify load success"
   ]
  },
  {
   "cell_type": "code",
   "execution_count": 28,
   "id": "cccd2a60-815d-4bd2-beeb-579c78beff03",
   "metadata": {
    "jupyter": {
     "source_hidden": true
    }
   },
   "outputs": [
    {
     "name": "stdout",
     "output_type": "stream",
     "text": [
      "✅ Query executed successfully.\n"
     ]
    },
    {
     "name": "stderr",
     "output_type": "stream",
     "text": [
      "C:\\Users\\Probook\\AppData\\Local\\Temp\\ipykernel_37628\\444601185.py:4: UserWarning: pandas only supports SQLAlchemy connectable (engine/connection) or database string URI or sqlite3 DBAPI2 connection. Other DBAPI2 objects are not tested. Please consider using SQLAlchemy.\n",
      "  df = pd.read_sql_query(query, conn)\n"
     ]
    },
    {
     "data": {
      "text/html": [
       "<div>\n",
       "<style scoped>\n",
       "    .dataframe tbody tr th:only-of-type {\n",
       "        vertical-align: middle;\n",
       "    }\n",
       "\n",
       "    .dataframe tbody tr th {\n",
       "        vertical-align: top;\n",
       "    }\n",
       "\n",
       "    .dataframe thead th {\n",
       "        text-align: right;\n",
       "    }\n",
       "</style>\n",
       "<table border=\"1\" class=\"dataframe\">\n",
       "  <thead>\n",
       "    <tr style=\"text-align: right;\">\n",
       "      <th></th>\n",
       "      <th>order_sk</th>\n",
       "      <th>orderline_id</th>\n",
       "      <th>amount</th>\n",
       "      <th>profit</th>\n",
       "      <th>cost</th>\n",
       "      <th>quantity</th>\n",
       "      <th>order_date</th>\n",
       "      <th>year_month</th>\n",
       "      <th>payment_mode</th>\n",
       "      <th>first_name</th>\n",
       "      <th>last_name</th>\n",
       "      <th>state</th>\n",
       "      <th>city</th>\n",
       "      <th>category</th>\n",
       "      <th>sub_category</th>\n",
       "    </tr>\n",
       "  </thead>\n",
       "  <tbody>\n",
       "    <tr>\n",
       "      <th>0</th>\n",
       "      <td>1</td>\n",
       "      <td>B-26776</td>\n",
       "      <td>9726.0</td>\n",
       "      <td>1275.0</td>\n",
       "      <td>8451.0</td>\n",
       "      <td>5</td>\n",
       "      <td>2023-06-27</td>\n",
       "      <td>2023-06-01</td>\n",
       "      <td>upi</td>\n",
       "      <td>david</td>\n",
       "      <td>padilla</td>\n",
       "      <td>florida</td>\n",
       "      <td>miami</td>\n",
       "      <td>electronics</td>\n",
       "      <td>electronic games</td>\n",
       "    </tr>\n",
       "    <tr>\n",
       "      <th>1</th>\n",
       "      <td>2</td>\n",
       "      <td>B-26776</td>\n",
       "      <td>9726.0</td>\n",
       "      <td>1275.0</td>\n",
       "      <td>8451.0</td>\n",
       "      <td>5</td>\n",
       "      <td>2024-12-27</td>\n",
       "      <td>2024-12-01</td>\n",
       "      <td>upi</td>\n",
       "      <td>connor</td>\n",
       "      <td>morgan</td>\n",
       "      <td>illinois</td>\n",
       "      <td>chicago</td>\n",
       "      <td>electronics</td>\n",
       "      <td>electronic games</td>\n",
       "    </tr>\n",
       "    <tr>\n",
       "      <th>2</th>\n",
       "      <td>3</td>\n",
       "      <td>B-26776</td>\n",
       "      <td>9726.0</td>\n",
       "      <td>1275.0</td>\n",
       "      <td>8451.0</td>\n",
       "      <td>5</td>\n",
       "      <td>2021-07-25</td>\n",
       "      <td>2021-07-01</td>\n",
       "      <td>upi</td>\n",
       "      <td>robert</td>\n",
       "      <td>stone</td>\n",
       "      <td>new york</td>\n",
       "      <td>buffalo</td>\n",
       "      <td>electronics</td>\n",
       "      <td>electronic games</td>\n",
       "    </tr>\n",
       "  </tbody>\n",
       "</table>\n",
       "</div>"
      ],
      "text/plain": [
       "   order_sk orderline_id  amount  profit    cost  quantity  order_date  \\\n",
       "0         1      B-26776  9726.0  1275.0  8451.0         5  2023-06-27   \n",
       "1         2      B-26776  9726.0  1275.0  8451.0         5  2024-12-27   \n",
       "2         3      B-26776  9726.0  1275.0  8451.0         5  2021-07-25   \n",
       "\n",
       "   year_month payment_mode first_name last_name     state     city  \\\n",
       "0  2023-06-01          upi      david   padilla   florida    miami   \n",
       "1  2024-12-01          upi     connor    morgan  illinois  chicago   \n",
       "2  2021-07-01          upi     robert     stone  new york  buffalo   \n",
       "\n",
       "      category      sub_category  \n",
       "0  electronics  electronic games  \n",
       "1  electronics  electronic games  \n",
       "2  electronics  electronic games  "
      ]
     },
     "execution_count": 28,
     "metadata": {},
     "output_type": "execute_result"
    }
   ],
   "source": [
    "\n",
    "try:\n",
    "    query = \"SELECT * FROM retailx_oltp.orders LIMIT 10;\"\n",
    "    df = pd.read_sql_query(query, conn)\n",
    "    print(\"✅ Query executed successfully.\")\n",
    "except Exception as e:\n",
    "    print(f\"❌ Failed to execute query: {e}\")\n",
    "df.head(3)"
   ]
  },
  {
   "cell_type": "markdown",
   "id": "6abf8f6c-bb4a-49ad-846e-59aa3302c8c8",
   "metadata": {},
   "source": [
    "###  Step 5: Final Cleanup"
   ]
  },
  {
   "cell_type": "code",
   "execution_count": 29,
   "id": "c70b8632-18e3-4cea-883e-c09e011554bc",
   "metadata": {
    "jupyter": {
     "source_hidden": true
    }
   },
   "outputs": [
    {
     "name": "stdout",
     "output_type": "stream",
     "text": [
      "Connection closed.\n"
     ]
    }
   ],
   "source": [
    "cur.close()\n",
    "conn.close()\n",
    "print(\"Connection closed.\")"
   ]
  },
  {
   "cell_type": "markdown",
   "id": "e7c197e7-f58d-4aa2-99de-24598c302392",
   "metadata": {},
   "source": [
    "## Analysis"
   ]
  },
  {
   "cell_type": "code",
   "execution_count": null,
   "id": "eaf95958-333a-4495-831a-6322dab3976d",
   "metadata": {
    "jupyter": {
     "source_hidden": true
    }
   },
   "outputs": [],
   "source": [
    "script = \"retailx_dashboard_queries.sql\"\n",
    "dashboard_views = \"retailx_dashboard_views.json\""
   ]
  },
  {
   "cell_type": "markdown",
   "id": "4954ce06-c29c-474a-8950-2e08b51e98f7",
   "metadata": {},
   "source": [
    "### Outcome Summary"
   ]
  },
  {
   "cell_type": "markdown",
   "id": "1cf8b563-21d3-445d-b507-022ee20f6430",
   "metadata": {},
   "source": [
    "#### 1. Top 5 selling products by quantity (using sub_category as product identifier)"
   ]
  },
  {
   "cell_type": "markdown",
   "id": "5f99b7f1-3596-4282-b9b6-473224769038",
   "metadata": {},
   "source": [
    "![top5_products](charts/top5_products.png)\n",
    "\n",
    "Tables top the sales volume (**1,306 units**), followed closely by **sofas (1,258 units)** and **electronic games (1,240 units)**. These represent high-demand categories, ideal for promotional bundling, stock optimization, and inventory prioritization"
   ]
  },
  {
   "cell_type": "markdown",
   "id": "4fc0aeb6-4da9-4bac-8994-eb735a042b08",
   "metadata": {},
   "source": [
    "#### 2. Total revenue per product"
   ]
  },
  {
   "cell_type": "markdown",
   "id": "4a5f3bcb-b6f5-499a-a913-c632ca45132f",
   "metadata": {},
   "source": [
    "![total_revenue_per_product](charts/total_revenue_per_product.png)\n",
    "\n",
    "`Markers` lead in revenue (`£630,428`)**, just ahead of **tables (`£627,585`)** and **sofas (`£578,789`)**. Despite not topping the quantity chart, markers likely benefit from **higher unit prices** or **bulk sales**, making them a key profit driver. Furniture and electronics — such as **printers (`£568,943`)** and **electronic games (`£568,711`)** — are also top-performing revenue categories, supporting strategic focus on these product lines."
   ]
  },
  {
   "cell_type": "markdown",
   "id": "73a810b4-8ecc-43e8-911f-394359f1552a",
   "metadata": {},
   "source": [
    "#### 3.  Regional Sales Insight (Sales performance by state)"
   ]
  },
  {
   "cell_type": "markdown",
   "id": "fdb67a01-ff8a-4405-b99a-325276a1ba10",
   "metadata": {},
   "source": [
    "![Regional Sales](charts/salesperf_states.png)\n",
    "\n",
    "**Top States by Sales:**\n",
    "- **New York** — `£1.13M` from 226 orders\n",
    "- **Florida** — `£1.09M` from 200 orders\n",
    "- **California** — `£1.08M` from 218 orders\n",
    "\n",
    "*High sales are concentrated in large, populous states, highlighting the influence of **regional demand** and **urban market density**. These states are ideal targets for **geo-focused campaigns** and **regional inventory strategies** to maximizegrowth*"
   ]
  },
  {
   "cell_type": "markdown",
   "id": "ac468bb7-8aa0-45c8-95bc-704a0949090b",
   "metadata": {},
   "source": [
    "#### 4. Customers contributing most to revenue?"
   ]
  },
  {
   "cell_type": "markdown",
   "id": "faf4cf30-618c-4905-bf03-565f24376e26",
   "metadata": {},
   "source": [
    "![top_customers](charts/top_customers.png)\n",
    "\n",
    "The top 10 customers are high-value contributors, each generating over `$23,000` in revenue.\n",
    "\n",
    "- `Cory Evans` — `$28,440`  \n",
    "- `Nicholas Anderson` — `$27,680`  \n",
    "- `Emily Ellison` — `$27,500`  \n",
    "- Other top customers include:  \n",
    "  `George Foster`, `Katherine Williams`, `Jacqueline Harris`,  \n",
    "  `Randy Johnson`, `Tammy Bell`, `Brian Green`, `Zachary Perez`\n",
    "\n",
    "*These loyal, high-spending customers drive a substantial portion of sales. They are ideal candidates for `loyalty programs`, `exclusive deals`, or `personalized marketing` to increase lifetime value.*"
   ]
  },
  {
   "cell_type": "markdown",
   "id": "9ae673e8-74e9-4f4b-95eb-600d1dd5574d",
   "metadata": {},
   "source": [
    "#### 5. Month with the most sales?  "
   ]
  },
  {
   "cell_type": "markdown",
   "id": "af4339e9-6e75-4e93-8449-48a4a59c3fb0",
   "metadata": {},
   "source": [
    "![year_month_trend](charts/year_month_trend.png)\n",
    "\n",
    "![month_trend](charts/month_trend.png)\n",
    "\n",
    "![top_salesmonth](charts/top_salesmonth.png)\n",
    "\n",
    " From 2020 to 2025, sales show irregular month-to-month variation, with sharp spikes in June 2022 and December 2022 (each over £200,000)\n",
    "- Aggregated by calendar month, sales rise steadily from January through May, peaking around `£580,000`\n",
    "- September sees a notable dip `(~£410,000)`, followed by strong recoveries in October `(~£640,000)` and December `(~£670,000)`\n",
    "- `December 2022` stands out as the highest-performing single month with total sales of `£204,413` — driven by holiday season demand"
   ]
  },
  {
   "cell_type": "markdown",
   "id": "86bc30da-6ea0-40a8-a371-531be3dc0787",
   "metadata": {},
   "source": [
    "#### 6. Top 5 recurring customers"
   ]
  },
  {
   "cell_type": "markdown",
   "id": "eadf5e13-3b8a-4414-9b56-04ac8dadba10",
   "metadata": {},
   "source": [
    "![top5_rec_cust](charts/top5_rec_cust.png)\n",
    "\n",
    "Each of these customers placed **4 repeat orders**, making them the most consistent buyers in the dataset:\n",
    "- `Scott Lewis`, `Cory Evans`, `Jacqueline Harris`, `Sabrina Hartman`,`Christina Davis`  \n",
    "\n",
    "*These customers show strong retention and engagement. They are excellent candidates for loyalty rewards, referral incentives, or early access to promotions.*"
   ]
  },
  {
   "cell_type": "markdown",
   "id": "25428d61-763f-42eb-b28f-d1774f04086e",
   "metadata": {},
   "source": [
    "#### 7. Best performing product categories (top 5 by revenue)"
   ]
  },
  {
   "cell_type": "markdown",
   "id": "e63e50b1-a435-4d0b-a656-aa849982f200",
   "metadata": {},
   "source": [
    "![top5_prdtcateg](charts/top5_prdtcateg.png)\n",
    "\n",
    "![top5_prdtcateg1](charts/top5_prdtcateg1.png)\n",
    "\n",
    "- `Office Supplies` leads with **£2,089,510**\n",
    "- Followed by `Electronics` at **£2,054,456**\n",
    "- Then `Furniture` with **£2,038,673**\n",
    "\n",
    "*While all three categories contribute almost equally to total revenue, **Office Supplies** has a slight edge, indicating strong, consistent demand across business needs. Balanced category performance also suggests a **diversified sales portfolio** with opportunity to optimize category-specific promotions.*\n"
   ]
  },
  {
   "cell_type": "markdown",
   "id": "a09d665b-2b9e-4c12-b79c-fd211c327fe7",
   "metadata": {},
   "source": [
    "#### 8. Best performing sub-categories (top 5 by revenue)"
   ]
  },
  {
   "cell_type": "markdown",
   "id": "6e730667-5a1a-4572-b7f7-64895ff4a29f",
   "metadata": {},
   "source": [
    "![top5_subcat](charts/top5_subcat.png)\n",
    "\n",
    "![top5_subcat1](charts/top5_subcat1.png)\n",
    "\n",
    "- `Markers` lead with `627,875`\n",
    "- Followed closely by `Tables` at `625,177`\n",
    "- `Sofas`, `Printers`, and `Electronic Games` all generate over `565,000` each\n",
    "\n",
    "*These top sub-categories represent strong revenue streams across both office and home product segments. Their balanced performance indicates stable customer demand, making them ideal for continued investment in stock and targeted marketing.*"
   ]
  },
  {
   "cell_type": "markdown",
   "id": "ff1d1a3f-665f-4c51-9457-52e8a6f4483d",
   "metadata": {},
   "source": [
    "#### 9. Most frequent payment method"
   ]
  },
  {
   "cell_type": "markdown",
   "id": "b27b0e7a-aa1a-41b2-a7a9-91b0344a0c15",
   "metadata": {},
   "source": [
    "![payment_mode](charts/payment_mode.png)\n",
    "\n",
    "- The most commonly used payment method is **Debit Card**, with **260 transactions**\n",
    "\n",
    "*This highlights a strong preference for **debit-based payments** among customers, suggesting the importance of maintaining smooth, reliable debit processing and potentially offering promotions for this payment type.*\n"
   ]
  },
  {
   "cell_type": "markdown",
   "id": "b0e34cba-4f22-456b-847c-11bfec2eb785",
   "metadata": {},
   "source": [
    "#### 10. City with the highest sales"
   ]
  },
  {
   "cell_type": "markdown",
   "id": "95447032-fc67-4552-b4e6-fbd11b742b47",
   "metadata": {},
   "source": [
    "![top_city](charts/top_city.png)\n",
    "\n",
    "- The top-performing city is **Orlando**, with total sales of `452,158`\n",
    "\n",
    "*This makes Orlando a strategic hub for customer demand — an ideal location for localized marketing, inventory prioritization, or future fulfillment optimization.*\n"
   ]
  },
  {
   "cell_type": "markdown",
   "id": "02db6740-2982-4db6-90b0-2cc063c89f92",
   "metadata": {},
   "source": [
    "## Outcome Summary Aligned with Project Objective & Problem Statement"
   ]
  },
  {
   "cell_type": "markdown",
   "id": "bb3a535f-e477-4402-8b69-7ee547444c98",
   "metadata": {},
   "source": [
    "- **Product Performance:**  \n",
    "  - `Tables` topped sales volume (1,306 units), while `Markers` led in total revenue (£627K), showing that high-margin items may not always be top-selling by quantity.  \n",
    "  - Sub-category performance shows balanced demand across both office and home product segments, supporting informed inventory and bundling strategies.\n",
    "\n",
    "- **Regional & Geographic Trends:**  \n",
    "  - High revenue concentrations were found in `New York (£1.13M)`, `Florida (£1.09M)`, and `California (£1.08M)`, with `Orlando (£452K)` leading all cities.  \n",
    "  - These insights emphasize the need for geo-targeted marketing and localized fulfillment.\n",
    "\n",
    "- **Customer Insights:**  \n",
    "  - The top customers (e.g., `Cory Evans` – £28.4K) significantly influence revenue, while recurring buyers (e.g., `Scott Lewis`, `Christina Davis`) show high retention potential.  \n",
    "  - Tailored engagement strategies such as loyalty programs and personalized offers can further boost lifetime value.\n",
    "\n",
    "- **Time-Based Trends:**  \n",
    "  - Sales patterns across `2020–2025` show seasonal peaks in `May (~£580K)` and `December (~£670K)`, with `December 2022` alone bringing in **£204,413**.  \n",
    "  - These findings validate the need for seasonal campaigns and supply planning aligned with demand spikes.\n",
    "\n",
    "- **Consumer Behavior:**  \n",
    "  - `Debit Card` was the most frequent payment method (260 transactions), signaling a customer preference that can inform payment channel reliability and promotions."
   ]
  },
  {
   "cell_type": "markdown",
   "id": "1abdc915",
   "metadata": {},
   "source": [
    "## Restoring a PostgreSQL Database from a `.backup` File"
   ]
  },
  {
   "cell_type": "markdown",
   "id": "74f80612-d37d-415b-b40d-25c054c0cf8f",
   "metadata": {},
   "source": [
    "# To restore the `.backup` file (custom format), ensure:\n",
    "\n",
    "- PostgreSQL is installed and running\n",
    "- The `pg_restore` tool is available in your terminal\n",
    "- You know the PostgreSQL username (postgres) and have appropriate access\n",
    "\n",
    "```bash\n",
    "pg_restore -U your_user -C -d postgres retailx_backup_2024_04_17.backup\n",
    "\n"
   ]
  }
 ],
 "metadata": {
  "kernelspec": {
   "display_name": "Python (myenv)",
   "language": "python",
   "name": "myenv"
  },
  "language_info": {
   "codemirror_mode": {
    "name": "ipython",
    "version": 3
   },
   "file_extension": ".py",
   "mimetype": "text/x-python",
   "name": "python",
   "nbconvert_exporter": "python",
   "pygments_lexer": "ipython3",
   "version": "3.11.5"
  },
  "widgets": {
   "application/vnd.jupyter.widget-state+json": {
    "state": {},
    "version_major": 2,
    "version_minor": 0
   }
  }
 },
 "nbformat": 4,
 "nbformat_minor": 5
}
