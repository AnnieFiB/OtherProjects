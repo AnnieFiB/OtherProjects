{
 "cells": [
  {
   "cell_type": "markdown",
   "id": "b44ab307-1fbf-45f4-aae0-4805fd17cba4",
   "metadata": {
    "jp-MarkdownHeadingCollapsed": true
   },
   "source": [
    "## Comparison Operators, Loops and Functions:"
   ]
  },
  {
   "cell_type": "markdown",
   "id": "6e2f2c3c-c824-444f-8662-ce9e120d3737",
   "metadata": {
    "jp-MarkdownHeadingCollapsed": true
   },
   "source": [
    "### list dict tupl etc"
   ]
  },
  {
   "cell_type": "code",
   "execution_count": 15,
   "id": "15e2f45e-e2e5-4e58-acdb-a519600b9961",
   "metadata": {},
   "outputs": [
    {
     "name": "stdin",
     "output_type": "stream",
     "text": [
      "What is your first test score ? 1\n",
      "What is your second test score ? 6\n",
      "What is your attendance score ? 9\n",
      "What is yourexam score ? 30\n"
     ]
    },
    {
     "data": {
      "text/plain": [
       "46.0"
      ]
     },
     "execution_count": 15,
     "metadata": {},
     "output_type": "execute_result"
    }
   ],
   "source": [
    "f_test = float(input(\"What is your first test score ?\"))\n",
    "s_test = float(input(\"What is your second test score ?\"))\n",
    "attdnce = float(input(\"What is your attendance score ?\"))\n",
    "exam = float(input(\"What is yourexam score ?\"))\n",
    "\n",
    "total_score = f_test + s_test + attdnce+exam\n",
    "total_score"
   ]
  },
  {
   "cell_type": "code",
   "execution_count": 16,
   "id": "e36407d3-654b-4876-b633-388eb97039ac",
   "metadata": {},
   "outputs": [
    {
     "name": "stdin",
     "output_type": "stream",
     "text": [
      "What is your first name ? keith\n",
      "What is your last name ? bishop\n"
     ]
    },
    {
     "data": {
      "text/plain": [
       "'keith bishop'"
      ]
     },
     "execution_count": 16,
     "metadata": {},
     "output_type": "execute_result"
    }
   ],
   "source": [
    "first_name = str(input(\"What is your first name ?\"))\n",
    "last_name = str(input(\"What is your last name ?\"))\n",
    "\n",
    "full_name = first_name + \" \" + last_name\n",
    "full_name"
   ]
  },
  {
   "cell_type": "code",
   "execution_count": 27,
   "id": "20a2f000-d3b6-4578-8cc3-d090a0c499cb",
   "metadata": {},
   "outputs": [
    {
     "data": {
      "text/plain": [
       "'keith'"
      ]
     },
     "execution_count": 27,
     "metadata": {},
     "output_type": "execute_result"
    }
   ],
   "source": [
    "#Slicing sequence[start:stop:step]\n",
    "full_name[0:5]"
   ]
  },
  {
   "cell_type": "code",
   "execution_count": 26,
   "id": "39f9f5b1-0d2a-463a-8c2b-f24f35dfc2e4",
   "metadata": {},
   "outputs": [
    {
     "data": {
      "text/plain": [
       "'ace'"
      ]
     },
     "execution_count": 26,
     "metadata": {},
     "output_type": "execute_result"
    }
   ],
   "source": [
    "text = \"abcdef\"\n",
    "text[0::2]"
   ]
  },
  {
   "cell_type": "code",
   "execution_count": 1,
   "id": "2edceef9-dda4-4cf3-bd52-2478ddf6f0cc",
   "metadata": {},
   "outputs": [
    {
     "name": "stdin",
     "output_type": "stream",
     "text": [
      "What is your  name ? annie\n",
      "How old are you? 42\n"
     ]
    },
    {
     "name": "stdout",
     "output_type": "stream",
     "text": [
      "my name is annie and I am 42 years old\n"
     ]
    }
   ],
   "source": [
    "name = str(input(\"What is your  name ?\"))\n",
    "age = int(input(\"How old are you?\"))\n",
    "\n",
    "print(\"my name is {} and I am {} years old\".format(name,age))\n"
   ]
  },
  {
   "cell_type": "code",
   "execution_count": 5,
   "id": "93a96488-5969-4385-9055-a705f8928b42",
   "metadata": {},
   "outputs": [
    {
     "name": "stdin",
     "output_type": "stream",
     "text": [
      "What is your  name ? bis\n",
      "How old are you? 66\n"
     ]
    },
    {
     "name": "stdout",
     "output_type": "stream",
     "text": [
      "my name is bis and I am 66 years old\n"
     ]
    }
   ],
   "source": [
    "name = str(input(\"What is your  name ?\"))\n",
    "age = int(input(\"How old are you?\"))\n",
    "\n",
    "print(\"my name is %s and I am %s years old\" %(name,age))"
   ]
  },
  {
   "cell_type": "code",
   "execution_count": 6,
   "id": "45865341-fae4-4fd7-b21f-3ca9d0222de7",
   "metadata": {},
   "outputs": [
    {
     "name": "stdin",
     "output_type": "stream",
     "text": [
      "What is your  name ? hh\n",
      "How old are you? 88\n"
     ]
    },
    {
     "name": "stdout",
     "output_type": "stream",
     "text": [
      "my name is (name) and I am (age) years old\n"
     ]
    }
   ],
   "source": [
    "name = str(input(\"What is your  name ?\"))\n",
    "age = int(input(\"How old are you?\"))\n",
    "\n",
    "print(f\"my name is (name) and I am (age) years old\")"
   ]
  },
  {
   "cell_type": "code",
   "execution_count": 7,
   "id": "98e40cc0-f00f-45fc-a559-a21527ed5174",
   "metadata": {},
   "outputs": [
    {
     "data": {
      "text/plain": [
       "{'key1': 'value1'}"
      ]
     },
     "execution_count": 7,
     "metadata": {},
     "output_type": "execute_result"
    }
   ],
   "source": [
    "#dictionaries= ordered sequence of items that can be modified\n",
    "my_dict={\"key1\": \"value1\"}\n",
    "my_dict"
   ]
  },
  {
   "cell_type": "code",
   "execution_count": 8,
   "id": "a4e1fd56-9878-4ac4-bdac-a3bdd575dd80",
   "metadata": {},
   "outputs": [
    {
     "data": {
      "text/plain": [
       "'value1'"
      ]
     },
     "execution_count": 8,
     "metadata": {},
     "output_type": "execute_result"
    }
   ],
   "source": [
    "my_dict[\"key1\"]"
   ]
  },
  {
   "cell_type": "code",
   "execution_count": 11,
   "id": "3162cbe8-367f-4d3f-8bb5-db7e29a14165",
   "metadata": {},
   "outputs": [
    {
     "data": {
      "text/plain": [
       "('sign', 10, 9.77, 'bis', 'clan')"
      ]
     },
     "execution_count": 11,
     "metadata": {},
     "output_type": "execute_result"
    }
   ],
   "source": [
    "#tuples =ordered sequence of items that cannot be modified\n",
    "tum=(\"sign\", 10,9.77,\"bis\",\"clan\")\n",
    "tum"
   ]
  },
  {
   "cell_type": "code",
   "execution_count": 12,
   "id": "6d17bc05-7bb7-4269-aba1-1c20f9aeb970",
   "metadata": {},
   "outputs": [
    {
     "ename": "TypeError",
     "evalue": "'tuple' object does not support item assignment",
     "output_type": "error",
     "traceback": [
      "\u001b[1;31m---------------------------------------------------------------------------\u001b[0m",
      "\u001b[1;31mTypeError\u001b[0m                                 Traceback (most recent call last)",
      "Cell \u001b[1;32mIn[12], line 1\u001b[0m\n\u001b[1;32m----> 1\u001b[0m tum[\u001b[38;5;241m0\u001b[39m]\u001b[38;5;241m=\u001b[39m\u001b[38;5;241m44\u001b[39m\n",
      "\u001b[1;31mTypeError\u001b[0m: 'tuple' object does not support item assignment"
     ]
    }
   ],
   "source": [
    "tum[0]=44"
   ]
  },
  {
   "cell_type": "code",
   "execution_count": 14,
   "id": "52edf090-c798-43f4-8689-dc3f52f42c28",
   "metadata": {},
   "outputs": [
    {
     "data": {
      "text/plain": [
       "{0, 1, 2, 3, 4, 5, 6, 7, 9, 11, 22}"
      ]
     },
     "execution_count": 14,
     "metadata": {},
     "output_type": "execute_result"
    }
   ],
   "source": [
    "#set collection of uniques items that are not ordered\n",
    "num={0,0,0,0,9,9,9,9,7,7,6,5,4,4,4,3,3,2,22,2,2,11,1,1}\n",
    "num\n"
   ]
  },
  {
   "cell_type": "code",
   "execution_count": 15,
   "id": "424775a9-d25d-4526-9e80-70f32b1aa227",
   "metadata": {},
   "outputs": [
    {
     "data": {
      "text/plain": [
       "{0, 1, 2, 3, 4, 5, 6, 7, 9, 11, 22, 56}"
      ]
     },
     "execution_count": 15,
     "metadata": {},
     "output_type": "execute_result"
    }
   ],
   "source": [
    "num.add(56)\n",
    "num"
   ]
  },
  {
   "cell_type": "code",
   "execution_count": 16,
   "id": "3043384c-1543-4aad-8328-3bd89eeaf287",
   "metadata": {},
   "outputs": [
    {
     "data": {
      "text/plain": [
       "('bish', 'bish', 'joe', 'lua', 'clan')"
      ]
     },
     "execution_count": 16,
     "metadata": {},
     "output_type": "execute_result"
    }
   ],
   "source": [
    "names =(\"bish\", \"bish\",\"joe\",\"lua\",\"clan\")\n",
    "names"
   ]
  },
  {
   "cell_type": "code",
   "execution_count": 19,
   "id": "a4bf3c50-c155-4820-9940-b19c9249ed16",
   "metadata": {},
   "outputs": [],
   "source": [
    "u_names= set(names)"
   ]
  },
  {
   "cell_type": "code",
   "execution_count": 20,
   "id": "8c271f90-e1b1-471e-a928-771205d934fe",
   "metadata": {},
   "outputs": [
    {
     "data": {
      "text/plain": [
       "{'annie', 'bish', 'clan', 'joe', 'lua'}"
      ]
     },
     "execution_count": 20,
     "metadata": {},
     "output_type": "execute_result"
    }
   ],
   "source": [
    "u_names.add(\"annie\")\n",
    "u_names"
   ]
  },
  {
   "cell_type": "code",
   "execution_count": null,
   "id": "45adddeb-1206-4d9f-ae49-d7fce0ef7a72",
   "metadata": {},
   "outputs": [],
   "source": [
    "#boolean\n"
   ]
  },
  {
   "cell_type": "code",
   "execution_count": 23,
   "id": "addcd6c3-3473-4f0b-b858-f84eb93e4aac",
   "metadata": {},
   "outputs": [
    {
     "name": "stdin",
     "output_type": "stream",
     "text": [
      "Enter your password:  nhjg6\n"
     ]
    },
    {
     "name": "stdout",
     "output_type": "stream",
     "text": [
      "Error: Password must be at least 8 characters long.\n",
      "Attempt 1/3. Please try again.\n",
      "\n"
     ]
    },
    {
     "name": "stdin",
     "output_type": "stream",
     "text": [
      "Enter your password:  kliAq124\n"
     ]
    },
    {
     "name": "stdout",
     "output_type": "stream",
     "text": [
      "Error: Password must contain at least one special character (!@#$%^&* etc.).\n",
      "Attempt 2/3. Please try again.\n",
      "\n"
     ]
    },
    {
     "name": "stdin",
     "output_type": "stream",
     "text": [
      "Enter your password:  hyut456\n"
     ]
    },
    {
     "name": "stdout",
     "output_type": "stream",
     "text": [
      "Error: Password must be at least 8 characters long.\n",
      "Too many failed attempts. Exiting...\n"
     ]
    }
   ],
   "source": [
    "import re\n",
    "\n",
    "def verify_password(password):\n",
    "    \"\"\"Checks if a password meets security criteria and returns error messages if invalid.\"\"\"\n",
    "    if len(password) < 8:\n",
    "        return \"Password must be at least 8 characters long.\"\n",
    "\n",
    "    if not re.search(r\"[A-Z]\", password):\n",
    "        return \"Password must contain at least one uppercase letter.\"\n",
    "\n",
    "    if not re.search(r\"[a-z]\", password):\n",
    "        return \"Password must contain at least one lowercase letter.\"\n",
    "\n",
    "    if not re.search(r\"\\d\", password):\n",
    "        return \"Password must contain at least one digit.\"\n",
    "\n",
    "    if not re.search(r\"[!@#$%^&*(),.?\\\":{}|<>]\", password):\n",
    "        return \"Password must contain at least one special character (!@#$%^&* etc.).\"\n",
    "\n",
    "    return None  # Password is valid\n",
    "\n",
    "# Maximum allowed attempts\n",
    "max_attempts = 3\n",
    "attempts = 0\n",
    "\n",
    "while attempts < max_attempts:\n",
    "    password = input(\"Enter your password: \")\n",
    "    error = verify_password(password)\n",
    "    \n",
    "    if error is None:\n",
    "        print(\"Password is strong and valid.\")\n",
    "        break  # Exit the loop when the password is valid\n",
    "    else:\n",
    "        attempts += 1\n",
    "        print(f\"Error: {error}\")\n",
    "        if attempts < max_attempts:\n",
    "            print(f\"Attempt {attempts}/{max_attempts}. Please try again.\\n\")\n",
    "        else:\n",
    "            print(\"Too many failed attempts. Exiting...\")"
   ]
  },
  {
   "cell_type": "code",
   "execution_count": 28,
   "id": "21137ac5-cff8-47c0-ba92-d3cc8dceb4e0",
   "metadata": {},
   "outputs": [],
   "source": [
    "# Example usage\n",
    "verify_password(\"&123Aergjjj\")"
   ]
  },
  {
   "cell_type": "code",
   "execution_count": 30,
   "id": "517d7ee5-a984-4639-be57-f3fb171803a5",
   "metadata": {},
   "outputs": [
    {
     "data": {
      "text/plain": [
       "'mefe'"
      ]
     },
     "execution_count": 30,
     "metadata": {},
     "output_type": "execute_result"
    }
   ],
   "source": [
    "name = \"efem\"\n",
    "name[::-1]"
   ]
  },
  {
   "cell_type": "markdown",
   "id": "f0fb8657-3f87-4a45-b250-aa65ae3cefdb",
   "metadata": {},
   "source": [
    "### filter map, lambda"
   ]
  },
  {
   "cell_type": "code",
   "execution_count": 34,
   "id": "a396156b-026c-4f29-ade8-ce1c4261f09e",
   "metadata": {},
   "outputs": [
    {
     "data": {
      "text/plain": [
       "['efe', 'level', 'civic']"
      ]
     },
     "execution_count": 34,
     "metadata": {},
     "output_type": "execute_result"
    }
   ],
   "source": [
    "words= [\"efe\", \"hello\", \"world\", \"level\", \"civic\"]\n",
    "\n",
    "def palindrome(x):\n",
    "    return x == x[::-1]\n",
    "\n",
    "pali = filter(palindrome, words)\n",
    "list(pali)"
   ]
  },
  {
   "cell_type": "code",
   "execution_count": 36,
   "id": "dd05f07b-7cbe-4c74-a07c-16a2309d9009",
   "metadata": {},
   "outputs": [
    {
     "data": {
      "text/plain": [
       "[50.0, 77.0, 113.0, 194.0, 32.0, -49.0]"
      ]
     },
     "execution_count": 36,
     "metadata": {},
     "output_type": "execute_result"
    }
   ],
   "source": [
    "# map function\n",
    "# applys a function to each item in a list\n",
    "\n",
    "def cal_fah(degree):\n",
    "    return (degree * 9/5) + 32\n",
    "\n",
    "temp_c = [10,25,45,90,0,-45]\n",
    "\n",
    "#apply the map function\n",
    "temp_f = map(cal_fah, temp_c)\n",
    "list(temp_f)"
   ]
  },
  {
   "cell_type": "code",
   "execution_count": 41,
   "id": "665f7626-bb41-4866-920f-a85ab7f21af4",
   "metadata": {},
   "outputs": [
    {
     "name": "stdout",
     "output_type": "stream",
     "text": [
      "[18, 19, 20, 21, 22, 23, 24, 25, 26, 27, 28, 29, 30]\n",
      "[28, 29, 30, 31, 32, 33, 34, 35, 36, 37, 38, 39, 40]\n"
     ]
    }
   ],
   "source": [
    "#lambda function (anonymous func)\n",
    "\n",
    "age = list(range(18,31))\n",
    "age_10 = map(lambda x: x+10, age)\n",
    "\n",
    "print(age)\n",
    "print(list(age_10))"
   ]
  },
  {
   "cell_type": "markdown",
   "id": "78edb6c9-339d-4cce-bc50-efdc0391df22",
   "metadata": {
    "jp-MarkdownHeadingCollapsed": true
   },
   "source": [
    "## Introduction to Data Engineering and Common Challenges"
   ]
  },
  {
   "cell_type": "code",
   "execution_count": 43,
   "id": "4ed4317b-0e35-4c5f-a769-9c27fab965d1",
   "metadata": {},
   "outputs": [
    {
     "name": "stdout",
     "output_type": "stream",
     "text": [
      "False\n"
     ]
    }
   ],
   "source": [
    "print(bool(\"\"))"
   ]
  },
  {
   "cell_type": "markdown",
   "id": "57f24d42-e0d6-4c21-b50c-c8f5516677a1",
   "metadata": {
    "jp-MarkdownHeadingCollapsed": true
   },
   "source": [
    "## 2. Logging"
   ]
  },
  {
   "cell_type": "code",
   "execution_count": 1,
   "id": "b6ece1c0-4612-4784-84fe-b64f8c7b81c5",
   "metadata": {},
   "outputs": [
    {
     "name": "stderr",
     "output_type": "stream",
     "text": [
      "INFO:root:This is an info message\n"
     ]
    }
   ],
   "source": [
    "import logging\n",
    "\n",
    "# This sets up basic logging and records an informational message.\n",
    "logging.basicConfig(level=logging.INFO)\n",
    "logging.info(\"This is an info message\")"
   ]
  },
  {
   "cell_type": "code",
   "execution_count": 2,
   "id": "a40a909e-c903-4d3d-bbd9-397689e60072",
   "metadata": {},
   "outputs": [
    {
     "name": "stderr",
     "output_type": "stream",
     "text": [
      "WARNING:root:This is a warning message\n"
     ]
    }
   ],
   "source": [
    "# Records messages of different severity levels.\n",
    "logging.debug(\"This is for debugging\")\n",
    "logging.warning(\"This is a warning message\")"
   ]
  },
  {
   "cell_type": "code",
   "execution_count": 3,
   "id": "70232c6f-e428-4112-9133-95438d0a5414",
   "metadata": {},
   "outputs": [
    {
     "name": "stderr",
     "output_type": "stream",
     "text": [
      "ERROR:root:An error has occurred\n"
     ]
    }
   ],
   "source": [
    "logging.basicConfig(filename='example.log', level=logging.ERROR)\n",
    "logging.error(\"An error has occurred\")"
   ]
  },
  {
   "cell_type": "markdown",
   "id": "0f13f291-b97e-4606-8572-1a81775eff4c",
   "metadata": {},
   "source": [
    "## 3. Unit Testing"
   ]
  },
  {
   "cell_type": "markdown",
   "id": "17b5bec0-3fc4-45bf-b2d5-a14b02919b90",
   "metadata": {},
   "source": [
    "- Unit testing ensures that individual components of the data pipeline work as expected. Python's unittest or pytest frameworks are commonly used.\n",
    "- **Example 1: Testing a Function**\n",
    "- **Example 2: Testing for an Exception**\n",
    "- **Example 3: Testing a Data Processing Function**"
   ]
  },
  {
   "cell_type": "code",
   "execution_count": null,
   "id": "83f2bcd4-6206-407d-bf8b-9eaa6eb1f06b",
   "metadata": {},
   "outputs": [],
   "source": [
    "#  Testing a Function\n",
    "import unittest\n",
    "\n",
    "def add(a, b):\n",
    "    return a + b\n",
    "\n",
    "class TestAddFunction(unittest.TestCase):\n",
    "    def test_add(self):\n",
    "        self.assertEqual(add(1, 2), 3)\n",
    "\n",
    "unittest.main()"
   ]
  },
  {
   "cell_type": "markdown",
   "id": "cdd2e388-efc6-4fd1-a7bc-239739426309",
   "metadata": {},
   "source": [
    "**Explanation of Test Cases** <br>\n",
    "\n",
    "1. **test_whitespace_removal**: Verifies that leading and trailing whitespaces are removed.\n",
    "2. **test_lowercase_conversion**: Checks if the function converts all characters to lowercase.\n",
    "3. **test_special_character_removal**: Tests if special characters (non-alphanumeric) are removed.\n",
    "4. **test_combined_cleaning**: A comprehensive test to ensure the function performs all cleaning tasks together correctly.\n",
    "5. **test_empty_string**: Checks the behavior of the function with an empty string as input.\n",
    "\n",
    "Each of these test cases calls the **`clean_data`** function with different input strings and checks if the output matches the expected cleaned string. This way, we can ensure that our data cleaning function behaves as intended for a variety of input scenarios.\n",
    "\n",
    "By running these tests, especially after modifications to the function, you can quickly catch and fix any regressions or bugs, ensuring the reliability and correctness of your data cleaning logic.\n"
   ]
  },
  {
   "cell_type": "markdown",
   "id": "b56e0f46-b664-4e15-8759-2f6ea2bb7768",
   "metadata": {},
   "source": [
    "- **There is also the concept of End-to-End Testing**"
   ]
  },
  {
   "cell_type": "code",
   "execution_count": null,
   "id": "503d1900-9b43-47de-9a34-091d3fa47af1",
   "metadata": {},
   "outputs": [],
   "source": []
  },
  {
   "cell_type": "code",
   "execution_count": null,
   "id": "282a1c83-ee59-4532-938a-43d0761889ee",
   "metadata": {},
   "outputs": [],
   "source": []
  },
  {
   "cell_type": "code",
   "execution_count": null,
   "id": "de2e721c-e0f1-43f3-b8e5-7149660eccaf",
   "metadata": {},
   "outputs": [],
   "source": []
  },
  {
   "cell_type": "code",
   "execution_count": null,
   "id": "87764d4f-5680-4160-bbdb-737a0a11e287",
   "metadata": {},
   "outputs": [],
   "source": []
  },
  {
   "cell_type": "code",
   "execution_count": null,
   "id": "0648887b-39d7-4015-b152-e53cec627c45",
   "metadata": {},
   "outputs": [],
   "source": []
  },
  {
   "cell_type": "code",
   "execution_count": null,
   "id": "c136619e-99bb-46e5-9877-f127b002439c",
   "metadata": {},
   "outputs": [],
   "source": []
  },
  {
   "cell_type": "code",
   "execution_count": null,
   "id": "be2fabfa-fc56-43cb-840a-ff177e9d994d",
   "metadata": {},
   "outputs": [],
   "source": []
  }
 ],
 "metadata": {
  "kernelspec": {
   "display_name": "Python 3 (ipykernel)",
   "language": "python",
   "name": "python3"
  },
  "language_info": {
   "codemirror_mode": {
    "name": "ipython",
    "version": 3
   },
   "file_extension": ".py",
   "mimetype": "text/x-python",
   "name": "python",
   "nbconvert_exporter": "python",
   "pygments_lexer": "ipython3",
   "version": "3.11.7"
  },
  "widgets": {
   "application/vnd.jupyter.widget-state+json": {
    "state": {},
    "version_major": 2,
    "version_minor": 0
   }
  }
 },
 "nbformat": 4,
 "nbformat_minor": 5
}
