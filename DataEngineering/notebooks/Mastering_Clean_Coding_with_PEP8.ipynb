{
  "nbformat": 4,
  "nbformat_minor": 0,
  "metadata": {
    "colab": {
      "provenance": []
    },
    "kernelspec": {
      "name": "python3",
      "display_name": "Python 3"
    },
    "language_info": {
      "name": "python"
    }
  },
  "cells": [
    {
      "cell_type": "markdown",
      "source": [
        "# Mastering Clean Coding with PEP8\n",
        "**`© 10alytics`**"
      ],
      "metadata": {
        "id": "7xMoxrJsKT3A"
      }
    },
    {
      "cell_type": "markdown",
      "source": [
        "## Educational Aims\n",
        "\n",
        "This training module will equip you with the skills to:\n",
        "\n",
        "- Adhere to PEP-8 standards for pristine code writing\n",
        "- Apply proper indentation and adhere to recommended comment formatting\n",
        "- Craft docstrings effectively and employ PEP-8 compliant variable naming conventions\n",
        "\n",
        "## Training Structure\n",
        "\n",
        "The module is organized in the following manner:\n",
        "\n",
        "- An introductory overview of PEP-8 guidelines for refined code writing\n",
        "- Best practices for imports, indentation, and overall code layout\n",
        "- Methods for integrating comments and docstrings into your code\n",
        "- Guidance on naming conventions and the strategic use of whitespace in expressions and statements"
      ],
      "metadata": {
        "id": "MybV8yZmKll2"
      }
    },
    {
      "cell_type": "markdown",
      "source": [
        "## Introduction\n",
        "\n",
        "As you delve into code writing, understanding the art of styling your code becomes essential. Coding transcends the mere act of typing words and expecting them to function; it's about the organization and style of those words. Imagine trying to comprehend an essay with poor punctuation; similarly, unformatted code can be challenging to decipher. To enhance the readability of our code, we turn to the Python Enhancement Proposal (PEP) guidelines, specifically PEP-8.\n",
        "\n",
        "A Python Enhancement Proposal (PEP) is a document submitted for proposing significant changes or improvements to the Python language. PEP-8, one of the earliest PEPs, provides a collection of rules and recommendations for formatting Python code. This is crucial in projects involving cross-departmental collaboration, as cleanly written code fosters better communication and efficiency within teams.\n",
        "\n",
        "Below is a *PEP-8 Cheat Sheet* image for your reference. In this training, we will delve deeper into each of these guidelines."
      ],
      "metadata": {
        "id": "4zZ1w6a9LFAE"
      }
    },
    {
      "cell_type": "markdown",
      "source": [
        "![Pep-8 Image](https://github.com/ehiughele/Project-COVID19-DE-PROJECT/blob/main/image/PEP_8_Guide.jpg?raw=true)"
      ],
      "metadata": {
        "id": "LxhA4Xf47PG5"
      }
    },
    {
      "cell_type": "markdown",
      "source": [
        "## Managing Imports\n",
        "\n",
        "In Python data science, it's typical to use various libraries and modules. The initial step in script creation should be to position your library imports at the beginning of the document.\n",
        "\n",
        "Place imports right after any initial comments, docstrings, and declarations of global modules or constants. For clarity and organization, each library should be imported on its own line."
      ],
      "metadata": {
        "id": "7SB-ucnN8Ake"
      }
    },
    {
      "cell_type": "markdown",
      "source": [
        "* **Good Import Practices**\n",
        "\n",
        "Here are some examples of effective techniques for importing libraries."
      ],
      "metadata": {
        "id": "xCFqnsLL8aEs"
      }
    },
    {
      "cell_type": "code",
      "source": [
        "# Proper Import Example (1)\n",
        "import matplotlib.pyplot as plt\n"
      ],
      "metadata": {
        "id": "iIi127kM67Cf"
      },
      "execution_count": null,
      "outputs": []
    },
    {
      "cell_type": "code",
      "source": [
        "# Additional Example of Effective Imports (2)\n",
        "from datetime import datetime\n",
        "import seaborn as sns"
      ],
      "metadata": {
        "id": "KqOdqyGLPGW9"
      },
      "execution_count": null,
      "outputs": []
    },
    {
      "cell_type": "markdown",
      "source": [
        " * **Inadvisable Import Methods**\n",
        "\n",
        "Below are examples of import practices that are best avoided in your coding efforts. Utilizing wildcard imports (2) can be problematic because it's possible for two modules within a library to share the same name but function differently; one might be a native Python3 module, while the other could be from a third-party extension. This practice can also complicate the process of pinpointing which module is responsible for any bugs in your code."
      ],
      "metadata": {
        "id": "sKFWr9Cd9f46"
      }
    },
    {
      "cell_type": "code",
      "source": [
        "# Improper Import Example (1)\n",
        "from math, random import sqrt, randint\n"
      ],
      "metadata": {
        "id": "9uI96b7H8YQZ"
      },
      "execution_count": null,
      "outputs": []
    },
    {
      "cell_type": "code",
      "source": [
        "# Further Example of Inadvisable Imports (2)\n",
        "import matplotlib., scipy."
      ],
      "metadata": {
        "id": "-xOPGiWYPJOp"
      },
      "execution_count": null,
      "outputs": []
    },
    {
      "cell_type": "markdown",
      "source": [
        "## Managing Indentation\n",
        "\n",
        "Python sets itself apart from languages like Java and C++ by using indentation instead of braces for structuring its syntax. It's important to note that using tab indents is generally more reliable than spaces. This is due to the uniform nature of tabs, which reduces the likelihood of errors compared to varying numbers of spaces in code blocks. In Python, a standard indent equates to four spaces, and it's easy to mistakenly use three or five spaces instead. Therefore, utilizing the Tab key (on Windows) for indents is advisable. Also, it's a good practice to keep a line of code within 80 characters; if it exceeds, it should be continued on the next line.\n",
        "\n",
        "The importance of these guidelines will be evident in the upcoming examples."
      ],
      "metadata": {
        "id": "qHqMA_zQ-dXm"
      }
    },
    {
      "cell_type": "markdown",
      "source": [
        "* **Effective Indentation Practices**\n",
        "\n",
        "In the example below, tabs are utilized to create uniform spaces between the blocks of code."
      ],
      "metadata": {
        "id": "fbQyfiAjABo-"
      }
    },
    {
      "cell_type": "code",
      "source": [
        "# Example of Clear Indentation\n",
        "def calculate_area(shape, dimensions):\n",
        "    if shape == 'circle': # 4 white spaces used\n",
        "        radius = dimensions[0] # 8 white spaces used\n",
        "        return 3.14 * radius ** 2\n",
        "    elif shape == 'square':\n",
        "        side = dimensions[0]\n",
        "        return side * side\n",
        "    else:\n",
        "        return 'Shape not recognized'"
      ],
      "metadata": {
        "id": "JBA3KUN3-Ks6"
      },
      "execution_count": null,
      "outputs": []
    },
    {
      "cell_type": "code",
      "source": [
        "# Example of Readable Function Definition\n",
        "def calculate_volume(length, width, height):\n",
        "    if length > 0 and width > 0 and height > 0: # 4 white spaces used\n",
        "        volume = length * width * height # 8 white spaces used\n",
        "        return volume\n",
        "    else:\n",
        "        return 'Invalid dimensions'"
      ],
      "metadata": {
        "id": "TfLY4ukxPgE-"
      },
      "execution_count": null,
      "outputs": []
    },
    {
      "cell_type": "code",
      "source": [
        "# Example of Well-Indented Conditional Statements\n",
        "def check_eligibility(age, citizenship):\n",
        "    if age >= 18 and citizenship == 'Yes': # 4 white spaces used\n",
        "        return 'Eligible to vote'\n",
        "    else:\n",
        "        return 'Not eligible to vote'"
      ],
      "metadata": {
        "id": "4r_fdw1oPjB_"
      },
      "execution_count": null,
      "outputs": []
    },
    {
      "cell_type": "markdown",
      "source": [
        "* **Incorrect Indentation Practices**\n",
        "\n",
        "The example below demonstrates a mix of tabs and white spaces for indentation. Python 3 disallows this combination, leading to errors. Consistency is key, and it's preferable to stick to using tabs exclusively throughout the code."
      ],
      "metadata": {
        "id": "icizSUgSAHoU"
      }
    },
    {
      "cell_type": "code",
      "source": [
        "# Example of Incorrect Indentation\n",
        "def calculate_discount(price, discount):\n",
        "    if price > 100: # 4 white spaces used\n",
        "      discount_rate = 0.10 # 6 white spaces used\n",
        "    elif price > 50: # 4 white spaces used\n",
        "       discount_rate = 0.05 # 7 white spaces used\n",
        "    else: # 4 white spaces used\n",
        "        discount_rate = 0.02 # 8 white spaces used\n",
        "        return price - (price * discount_rate)"
      ],
      "metadata": {
        "id": "QoAIdijAATjY"
      },
      "execution_count": null,
      "outputs": []
    },
    {
      "cell_type": "code",
      "source": [
        "# Incorrect Indentation in Loop\n",
        "def list_even_numbers(numbers):\n",
        "    for number in numbers: # 4 white spaces used\n",
        "     if number % 2 == 0: # 5 white spaces used\n",
        "        print(number) # 8 white spaces used\n",
        "      else: # 6 white spaces used\n",
        "          continue"
      ],
      "metadata": {
        "id": "aqbRHrM8PxiT"
      },
      "execution_count": null,
      "outputs": []
    },
    {
      "cell_type": "code",
      "source": [
        "# Mismatched Indentation in Function\n",
        "def find_max_value(values):\n",
        "    max_value = values[0] # 4 white spaces used\n",
        "     for value in values: # 5 white spaces used\n",
        "        if value > max_value: # 8 white spaces used\n",
        "            max_value = value # 12 white spaces used\n",
        "    return max_value\n"
      ],
      "metadata": {
        "id": "GVjsFth7Pzst"
      },
      "execution_count": null,
      "outputs": []
    },
    {
      "cell_type": "markdown",
      "source": [
        "## Organizing Code Layout\n",
        "\n",
        "The structure of your code significantly influences its readability. To create code that is both clear and adheres to PEP-8 standards, consider these key points about using blank lines and managing line length."
      ],
      "metadata": {
        "id": "dbd-54MdCIEl"
      }
    },
    {
      "cell_type": "markdown",
      "source": [
        "### Utilizing Blank Lines\n",
        "\n",
        "Strategically placed blank lines can enhance the readability of your code. Compact code can be hard to follow, while too many blank lines can make your code appear disjointed and lead to excessive scrolling. Here are essential guidelines for using blank lines effectively in your code.\n",
        "\n",
        "\n",
        "Surround top-level functions and classes with two blank lines. These elements should be relatively independent, and functions should be treated as distinct units. Adding extra blank lines between each function helps in making them easily identifiable in your code:"
      ],
      "metadata": {
        "id": "gq5kJyklCN8n"
      }
    },
    {
      "cell_type": "code",
      "source": [
        "def first_function():\n",
        "    print(\"This is the first function\")\n",
        "    return None\n",
        "\n",
        "\n",
        "def second_function():\n",
        "    print(\"This is the second function\")\n",
        "    return None\n",
        "\n",
        "\n",
        "def third_function():\n",
        "    print(\"This is the third function\")\n",
        "    return None"
      ],
      "metadata": {
        "id": "Fdh6DKB4CNAe"
      },
      "execution_count": null,
      "outputs": []
    },
    {
      "cell_type": "markdown",
      "source": [
        "On the other hand, when defining multiple functions within the same script or module, it's recommended to use a single blank line between them. This practice, applicable to functions created with def, helps to differentiate each function while acknowledging their collective relevance within the same context:"
      ],
      "metadata": {
        "id": "8B9EKGA6x0pt"
      }
    },
    {
      "cell_type": "code",
      "source": [
        "def calculate_sum(a, b):\n",
        "    return a + b\n",
        "\n",
        "def multiply_numbers(x, y):\n",
        "    return x * y\n",
        "\n",
        "def divide_numbers(m, n):\n",
        "    if n != 0:\n",
        "        return m / n\n",
        "    else:\n",
        "        return \"Division by zero is not allowed\""
      ],
      "metadata": {
        "id": "o9cY3yOix1F8"
      },
      "execution_count": null,
      "outputs": []
    },
    {
      "cell_type": "markdown",
      "source": [
        "### Managing Line Length\n",
        "\n",
        "PEP 8 recommends keeping lines to a maximum of 79 characters for code and 72 for docstrings/comments. This recommendation originates from the display limitations of older computer terminals, which could only accommodate 79 characters on a single line. Adhering to this limit facilitates side-by-side file viewing and reduces the need for line wrapping. However, it's worth noting that some teams may opt for a 99-character limit, reflecting a more flexible approach to this guideline.\n",
        "\n",
        "For wrapping longer lines, Python encourages the use of implied line continuation within parentheses, brackets, and braces, favoring this method over using a backslash for line breaks. This approach allows for splitting long expressions over several lines, enhancing readability. Below is an example illustrating this practice:"
      ],
      "metadata": {
        "id": "kV20Ml48ytob"
      }
    },
    {
      "cell_type": "markdown",
      "source": [
        "with open('/path/to/the/source/file') as source_file, \\\n",
        "     open('/path/to/the/destination/file', 'w') as destination_file:\n",
        "    destination_file.write(source_file.read())"
      ],
      "metadata": {
        "id": "5R5bU33EI3qg"
      }
    },
    {
      "cell_type": "markdown",
      "source": [
        "## Utilizing Comments\n",
        "\n",
        "Comments serve as guides for readers to understand the intentions behind code segments. This is especially valuable in scenarios where project responsibilities are transferred, allowing newcomers to grasp the existing work more easily.\n",
        "\n",
        "Python, unlike C++ or Java, doesn't distinguish between block and inline comments through syntax; it uses the hash symbol \"#\" for both. Comments should be employed to clarify: the reasoning behind specific code decisions, and to highlight crucial aspects of the problem your code addresses.\n",
        "\n",
        "A key principle to remember is that while code illustrates the process, comments should elucidate the rationale."
      ],
      "metadata": {
        "id": "RcPbmMLkI3nJ"
      }
    },
    {
      "cell_type": "code",
      "source": [
        "# Example of a bLOCK comment\n",
        "tasks = ['walk barefoot', 'maintain positivity', 'explore boldly', 'prioritize development'] # Example of an inline comment\n",
        "goals = ['develop a remarkable project', 'commit to team goals'] # Another inline comment"
      ],
      "metadata": {
        "id": "XjKB4Cz1IbGb"
      },
      "execution_count": null,
      "outputs": []
    },
    {
      "cell_type": "code",
      "source": [
        "# This is a block comment explaining the purpose of the function\n",
        "# It calculates the average of a list of numbers and prints the result\n",
        "def calculate_average(numbers):\n",
        "    total_sum = sum(numbers)  # Inline comment: summing the list of numbers\n",
        "    count = len(numbers)  # Inline comment: getting the count of numbers\n",
        "    average = total_sum / count  # Inline comment: calculating the average\n",
        "    print(\"The average is:\", average)"
      ],
      "metadata": {
        "id": "bExSB_yEQaH2"
      },
      "execution_count": null,
      "outputs": []
    },
    {
      "cell_type": "code",
      "source": [
        "# Here we define a function to check if a number is prime\n",
        "# This is useful for mathematical computations and algorithms\n",
        "def is_prime(number):\n",
        "    if number > 1:  # Inline comment: all primes are greater than 1\n",
        "        for i in range(2, number):\n",
        "            if (number % i) == 0:  # Inline comment: checking for factors\n",
        "                print(number, \"is not a prime number\")\n",
        "                break\n",
        "        else:\n",
        "            print(number, \"is a prime number\")\n",
        "    else:\n",
        "        print(number, \"is not a prime number\")  # Inline comment: 1 is not prime"
      ],
      "metadata": {
        "id": "36CUyvdgQdAX"
      },
      "execution_count": null,
      "outputs": []
    },
    {
      "cell_type": "markdown",
      "source": [
        "## Documenting with Docstrings\n",
        "\n",
        "Effective coding, especially in Object-Oriented Programming (OOP), necessitates the inclusion of docstrings for methods, classes, and functions. Docstrings, short for documentation strings, are textual annotations enclosed within triple double quotes (\"\"\") or triple single quotes (''') situated at the beginning of any function, class, method, or module. Their purpose is to provide a concise description and documentation of a code segment. Adhering to the PEP-257 guidelines, docstrings play a critical role in maintaining clean and understandable code.\n",
        "\n",
        "For comprehensive examples of docstrings, refer to the PEP-257 documentation."
      ],
      "metadata": {
        "id": "PDUEu3NcKjSV"
      }
    },
    {
      "cell_type": "code",
      "source": [
        "# Single-line docstring\n",
        "\"\"\"This is an example of a single-line docstring\"\"\"\n",
        "# Example function\n",
        "def greet(name):\n",
        "    \"\"\"Greets a person with their name.\"\"\"\n",
        "    print(f\"Hello, {name}!\")\n"
      ],
      "metadata": {
        "id": "QcfBejm_Kp3n"
      },
      "execution_count": null,
      "outputs": []
    },
    {
      "cell_type": "code",
      "source": [
        "# Multi-line docstring\n",
        "\"\"\"Performs a division\n",
        "\n",
        "Takes two numbers and divides the first by the second.\n",
        "\"\"\"\n",
        "# Example function\n",
        "def divide(x, y):\n",
        "    \"\"\"Divides the first number by the second and returns the result.\n",
        "    Parameters\n",
        "    ----------\n",
        "    x: float\n",
        "        The numerator\n",
        "    y: float\n",
        "        The denominator, should not be zero\n",
        "\n",
        "    Returns\n",
        "    -------\n",
        "    result: float\n",
        "        The division of x by y\n",
        "    \"\"\"\n",
        "    result = x / y\n",
        "    return result\n"
      ],
      "metadata": {
        "id": "T0IF-9iAQiyp"
      },
      "execution_count": null,
      "outputs": []
    },
    {
      "cell_type": "markdown",
      "source": [
        "## Adhering to Naming Conventions\n",
        "\n",
        "Maintaining a consistent naming scheme is crucial for the clarity and readability of code. While several styles exist, this course will focus on specific conventions that enhance code cleanliness. For a more thorough exploration, refer to the PEP-8 documentation (see appendix for link).\n",
        "\n",
        "- `lowercase`: Used for naming variables.\n",
        "- `UPPERCASE`: Designates constants.\n",
        "- `camelCase`: Though rarely employed in Python, it's mentioned for completeness.\n",
        "- `CapitalizedWords` (or CamelCase): Recommended for class names.\n",
        "- Use `underscores` (`_`) to represent spaces."
      ],
      "metadata": {
        "id": "s6JMTy1wMUrX"
      }
    },
    {
      "cell_type": "code",
      "source": [
        "# lowercase (for variable names)\n",
        "age = 25\n",
        "city = 'london'\n",
        "\n",
        "# lowercase_underscores (suitable for function names)\n",
        "def calculate_tax():\n",
        "tax_rate = 0.2\n",
        "\n",
        "# UPPERCASE (ideal for constants)\n",
        "MAX_SPEED = 120\n",
        "EARTH_RADIUS = 6371\n",
        "\n",
        "# UPPERCASE_UNDERSCORES (also ideal for constants)\n",
        "WATER_BOILING_POINT = 100\n",
        "DEFAULT_LANGUAGE = 'EN'\n",
        "\n",
        "# camelCase (more common in Java and C++, less in Python)\n",
        "userAge = 30\n",
        "userName = 'John'\n",
        "\n",
        "# CapitalizedWords (preferred for class names)\n",
        "class UserAccount:\n",
        "defaultStatus = 'active'\n",
        "\n",
        "# Capitalized_Words (not recommended in Python coding standards)\n",
        "Social_Security_Number = '123-45-6789'\n",
        "Full_Name = 'Jane Doe'"
      ],
      "metadata": {
        "id": "SZ-E5wYXMl2J"
      },
      "execution_count": null,
      "outputs": []
    },
    {
      "cell_type": "markdown",
      "source": [
        "## Managing Whitespace\n",
        "While whitespace can significantly improve the readability of code, its overuse or incorrect application can lead to cluttered and hard-to-read code. This section will cover fundamental guidelines to ensure your code remains clean and well-organized by judicious use of whitespace."
      ],
      "metadata": {
        "id": "nTU9hBKGNReq"
      }
    },
    {
      "cell_type": "markdown",
      "source": [
        "```python\n",
        "# Proper use of whitespace\n",
        "calculate_area(width[1:10], height[5:15])\n",
        "coffee = (4,)\n",
        "serve_drink(3)\n",
        "\n",
        "# Improper use of whitespace\n",
        "calculate_area( width [ 1 : 10 ], height [ 5 : 15 ] )\n",
        "coffee = (4, )\n",
        "serve_drink (3)\n",
        "```"
      ],
      "metadata": {
        "id": "84x9MyJGNs-w"
      }
    },
    {
      "cell_type": "markdown",
      "source": [
        "# Appendix\n",
        "\n",
        "- [PEP8 Guidelines](https://pep8.org/)\n",
        "\n",
        "- [Official PEP8 Python Guide](https://www.python.org/dev/peps/pep-0008/)\n",
        "\n",
        "- [Python Coding Style and Layout](https://realpython.com/python-pep8/#code-layout)\n",
        "\n",
        "- [Python Unittest Documentation](https://docs.python.org/3/library/unittest.html)"
      ],
      "metadata": {
        "id": "slQW_EYtEbMY"
      }
    }
  ]
}