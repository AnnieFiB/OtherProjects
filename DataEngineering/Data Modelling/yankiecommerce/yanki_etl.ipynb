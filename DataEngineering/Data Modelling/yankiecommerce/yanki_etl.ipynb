{
 "cells": [
  {
   "cell_type": "markdown",
   "id": "1c3868ca-f81d-4ad4-a26b-23cd38e39ccb",
   "metadata": {},
   "source": [
    "# YANKI E-COMMERCE ETL PROJECT "
   ]
  },
  {
   "cell_type": "code",
   "execution_count": 18,
   "id": "00a82a33-20d8-456b-a97b-dbf50c7991d3",
   "metadata": {},
   "outputs": [],
   "source": [
    "import sys\n",
    "from pathlib import Path\n",
    "sys.path.append(str(Path.cwd().parent)) # Add parent directory\n",
    "import importlib\n",
    "\n",
    "import pandas as pd\n",
    "import numpy as np\n",
    "\n",
    "from etl_end_to_end import *\n"
   ]
  },
  {
   "cell_type": "markdown",
   "id": "14c48eaf-718e-4f1c-b83c-16ae1aa34ef1",
   "metadata": {},
   "source": [
    "## EXTRACT"
   ]
  },
  {
   "cell_type": "code",
   "execution_count": 19,
   "id": "b8473bdd-a551-42b6-a937-7f793ba56837",
   "metadata": {
    "jupyter": {
     "source_hidden": true
    }
   },
   "outputs": [],
   "source": [
    "# df = read_data(\"data.csv\")  # Local file\n",
    "# df = read_data(\"1DdmNsrdBRLfzBdgtvzvFHZ7ejFpLlpwW\", \"gdrive\")  # Google Drive\n",
    "# df = read_data(\"https://example.com/data.csv\")  # URL (auto-detected)\n",
    "# df.head()"
   ]
  },
  {
   "cell_type": "code",
   "execution_count": 20,
   "id": "f82253d4-1b1e-425c-967c-3dcd55202fde",
   "metadata": {
    "collapsed": true,
    "jupyter": {
     "outputs_hidden": true,
     "source_hidden": true
    }
   },
   "outputs": [
    {
     "data": {
      "text/html": [
       "<div>\n",
       "<style scoped>\n",
       "    .dataframe tbody tr th:only-of-type {\n",
       "        vertical-align: middle;\n",
       "    }\n",
       "\n",
       "    .dataframe tbody tr th {\n",
       "        vertical-align: top;\n",
       "    }\n",
       "\n",
       "    .dataframe thead th {\n",
       "        text-align: right;\n",
       "    }\n",
       "</style>\n",
       "<table border=\"1\" class=\"dataframe\">\n",
       "  <thead>\n",
       "    <tr style=\"text-align: right;\">\n",
       "      <th></th>\n",
       "      <th>Order_ID</th>\n",
       "      <th>Customer_ID</th>\n",
       "      <th>Customer_Name</th>\n",
       "      <th>Product_ID</th>\n",
       "      <th>Product_Name</th>\n",
       "      <th>Brand</th>\n",
       "      <th>Category</th>\n",
       "      <th>Price</th>\n",
       "      <th>Quantity</th>\n",
       "      <th>Total_Price</th>\n",
       "      <th>Order_Date</th>\n",
       "      <th>Shipping_Address</th>\n",
       "      <th>City</th>\n",
       "      <th>State</th>\n",
       "      <th>Country</th>\n",
       "      <th>Postal_Code</th>\n",
       "      <th>Email</th>\n",
       "      <th>Phone_Number</th>\n",
       "      <th>Payment_Method</th>\n",
       "      <th>Transaction_Status</th>\n",
       "    </tr>\n",
       "  </thead>\n",
       "  <tbody>\n",
       "    <tr>\n",
       "      <th>0</th>\n",
       "      <td>NaN</td>\n",
       "      <td>NaN</td>\n",
       "      <td>NaN</td>\n",
       "      <td>64b689a8-bf03-47d2-a5cc-0723baeb1606</td>\n",
       "      <td>major</td>\n",
       "      <td>Haynes PLC</td>\n",
       "      <td>perfume</td>\n",
       "      <td>52.34</td>\n",
       "      <td>2</td>\n",
       "      <td>104.68</td>\n",
       "      <td>27/05/2020 14:20</td>\n",
       "      <td>1648 Brown Bridge Apt. 846\\nCaitlinland, MI 57992</td>\n",
       "      <td>Davidstad</td>\n",
       "      <td>Utah</td>\n",
       "      <td>China</td>\n",
       "      <td>50247</td>\n",
       "      <td>karen64@example.com</td>\n",
       "      <td>001-217-511-0290x8262</td>\n",
       "      <td>Credit Card</td>\n",
       "      <td>completed</td>\n",
       "    </tr>\n",
       "    <tr>\n",
       "      <th>1</th>\n",
       "      <td>NaN</td>\n",
       "      <td>NaN</td>\n",
       "      <td>NaN</td>\n",
       "      <td>64b689a8-bf03-47d2-a5cc-0723baeb1606</td>\n",
       "      <td>major</td>\n",
       "      <td>Haynes PLC</td>\n",
       "      <td>perfume</td>\n",
       "      <td>52.34</td>\n",
       "      <td>2</td>\n",
       "      <td>104.68</td>\n",
       "      <td>27/05/2020 14:20</td>\n",
       "      <td>1648 Brown Bridge Apt. 846\\nCaitlinland, MI 57992</td>\n",
       "      <td>Davidstad</td>\n",
       "      <td>Utah</td>\n",
       "      <td>China</td>\n",
       "      <td>50247</td>\n",
       "      <td>karen64@example.com</td>\n",
       "      <td>001-217-511-0290x8262</td>\n",
       "      <td>Credit Card</td>\n",
       "      <td>completed</td>\n",
       "    </tr>\n",
       "    <tr>\n",
       "      <th>2</th>\n",
       "      <td>e32af09a-b6ab-497e-af3a-331e4d4ed6e7</td>\n",
       "      <td>e0d6cb3c-c4b0-4cfe-8225-b65d094d2424</td>\n",
       "      <td>Dominic Buchanan</td>\n",
       "      <td>2ef6e8fa-6a36-4515-b1c2-a0a700abf386</td>\n",
       "      <td>despite</td>\n",
       "      <td>Lawson, Stone and Campos</td>\n",
       "      <td>perfume oil</td>\n",
       "      <td>250.57</td>\n",
       "      <td>2</td>\n",
       "      <td>501.14</td>\n",
       "      <td>06/03/2020 06:49</td>\n",
       "      <td>PSC 2224, Box 2284\\nAPO AP 65880</td>\n",
       "      <td>Jordanborough</td>\n",
       "      <td>Arkansas</td>\n",
       "      <td>Kuwait</td>\n",
       "      <td>27879</td>\n",
       "      <td>margaret97@example.com</td>\n",
       "      <td>259.603.6134</td>\n",
       "      <td>Debit Card</td>\n",
       "      <td>completed</td>\n",
       "    </tr>\n",
       "    <tr>\n",
       "      <th>3</th>\n",
       "      <td>86eb8859-14ab-4d4e-9267-c5826f4e0c8e</td>\n",
       "      <td>fa3ca35a-5540-404b-a7eb-9001cdcbd840</td>\n",
       "      <td>Daniel Allen</td>\n",
       "      <td>3ba38e01-f8e7-4af2-9246-87ef0961d4f5</td>\n",
       "      <td>sea</td>\n",
       "      <td>Washington Group</td>\n",
       "      <td>perfume oil</td>\n",
       "      <td>179.81</td>\n",
       "      <td>6</td>\n",
       "      <td>1078.86</td>\n",
       "      <td>31/07/2020 07:09</td>\n",
       "      <td>83909 Johnson Mall\\nTranberg, MS 99017</td>\n",
       "      <td>Lake Ginatown</td>\n",
       "      <td>Georgia</td>\n",
       "      <td>Saint Vincent and the Grenadines</td>\n",
       "      <td>39336</td>\n",
       "      <td>angela55@example.com</td>\n",
       "      <td>+1-869-659-4272x982</td>\n",
       "      <td>Credit Card</td>\n",
       "      <td>completed</td>\n",
       "    </tr>\n",
       "    <tr>\n",
       "      <th>4</th>\n",
       "      <td>7379b560-8897-4623-92a2-523ddcdc43a1</td>\n",
       "      <td>7ad4de53-e6d7-4cd3-99b8-13fb70fe7a34</td>\n",
       "      <td>Daniel Schmidt</td>\n",
       "      <td>a58c53bd-a34b-4541-b926-bec9eb84cac2</td>\n",
       "      <td>suddenly</td>\n",
       "      <td>Rodgers Ltd</td>\n",
       "      <td>perfume oil</td>\n",
       "      <td>600.55</td>\n",
       "      <td>7</td>\n",
       "      <td>4203.85</td>\n",
       "      <td>11/05/2021 04:33</td>\n",
       "      <td>82101 Johnson Flat\\nWest Ryan, MS 29075</td>\n",
       "      <td>Sarahville</td>\n",
       "      <td>Ohio</td>\n",
       "      <td>France</td>\n",
       "      <td>30845</td>\n",
       "      <td>wayne59@example.org</td>\n",
       "      <td>292.840.0975x724</td>\n",
       "      <td>PayPal</td>\n",
       "      <td>pending</td>\n",
       "    </tr>\n",
       "  </tbody>\n",
       "</table>\n",
       "</div>"
      ],
      "text/plain": [
       "                               Order_ID                           Customer_ID  \\\n",
       "0                                   NaN                                   NaN   \n",
       "1                                   NaN                                   NaN   \n",
       "2  e32af09a-b6ab-497e-af3a-331e4d4ed6e7  e0d6cb3c-c4b0-4cfe-8225-b65d094d2424   \n",
       "3  86eb8859-14ab-4d4e-9267-c5826f4e0c8e  fa3ca35a-5540-404b-a7eb-9001cdcbd840   \n",
       "4  7379b560-8897-4623-92a2-523ddcdc43a1  7ad4de53-e6d7-4cd3-99b8-13fb70fe7a34   \n",
       "\n",
       "      Customer_Name                            Product_ID Product_Name  \\\n",
       "0               NaN  64b689a8-bf03-47d2-a5cc-0723baeb1606        major   \n",
       "1               NaN  64b689a8-bf03-47d2-a5cc-0723baeb1606        major   \n",
       "2  Dominic Buchanan  2ef6e8fa-6a36-4515-b1c2-a0a700abf386      despite   \n",
       "3      Daniel Allen  3ba38e01-f8e7-4af2-9246-87ef0961d4f5          sea   \n",
       "4    Daniel Schmidt  a58c53bd-a34b-4541-b926-bec9eb84cac2     suddenly   \n",
       "\n",
       "                      Brand     Category   Price  Quantity  Total_Price  \\\n",
       "0                Haynes PLC      perfume   52.34         2       104.68   \n",
       "1                Haynes PLC      perfume   52.34         2       104.68   \n",
       "2  Lawson, Stone and Campos  perfume oil  250.57         2       501.14   \n",
       "3          Washington Group  perfume oil  179.81         6      1078.86   \n",
       "4               Rodgers Ltd  perfume oil  600.55         7      4203.85   \n",
       "\n",
       "         Order_Date                                   Shipping_Address  \\\n",
       "0  27/05/2020 14:20  1648 Brown Bridge Apt. 846\\nCaitlinland, MI 57992   \n",
       "1  27/05/2020 14:20  1648 Brown Bridge Apt. 846\\nCaitlinland, MI 57992   \n",
       "2  06/03/2020 06:49                   PSC 2224, Box 2284\\nAPO AP 65880   \n",
       "3  31/07/2020 07:09             83909 Johnson Mall\\nTranberg, MS 99017   \n",
       "4  11/05/2021 04:33            82101 Johnson Flat\\nWest Ryan, MS 29075   \n",
       "\n",
       "            City     State                           Country  Postal_Code  \\\n",
       "0      Davidstad      Utah                             China        50247   \n",
       "1      Davidstad      Utah                             China        50247   \n",
       "2  Jordanborough  Arkansas                            Kuwait        27879   \n",
       "3  Lake Ginatown   Georgia  Saint Vincent and the Grenadines        39336   \n",
       "4     Sarahville      Ohio                            France        30845   \n",
       "\n",
       "                    Email           Phone_Number Payment_Method  \\\n",
       "0     karen64@example.com  001-217-511-0290x8262    Credit Card   \n",
       "1     karen64@example.com  001-217-511-0290x8262    Credit Card   \n",
       "2  margaret97@example.com           259.603.6134     Debit Card   \n",
       "3    angela55@example.com    +1-869-659-4272x982    Credit Card   \n",
       "4     wayne59@example.org       292.840.0975x724         PayPal   \n",
       "\n",
       "  Transaction_Status  \n",
       "0          completed  \n",
       "1          completed  \n",
       "2          completed  \n",
       "3          completed  \n",
       "4            pending  "
      ]
     },
     "execution_count": 20,
     "metadata": {},
     "output_type": "execute_result"
    }
   ],
   "source": [
    "source =\"1lPmrM-4EJLfM14E_3pWF2aLl_Y7HsoHa\"\n",
    "yanki_df =  read_data(source, \"gdrive\")  # Google Drive\n",
    "yanki_df.head()"
   ]
  },
  {
   "cell_type": "code",
   "execution_count": 21,
   "id": "7136f203-31c0-4a5a-97f2-02640c8c6ad2",
   "metadata": {
    "collapsed": true,
    "jupyter": {
     "outputs_hidden": true,
     "source_hidden": true
    },
    "scrolled": true
   },
   "outputs": [
    {
     "name": "stdout",
     "output_type": "stream",
     "text": [
      "<class 'pandas.core.frame.DataFrame'>\n",
      "RangeIndex: 1020 entries, 0 to 1019\n",
      "Data columns (total 20 columns):\n",
      " #   Column              Non-Null Count  Dtype  \n",
      "---  ------              --------------  -----  \n",
      " 0   Order_ID            1000 non-null   object \n",
      " 1   Customer_ID         1000 non-null   object \n",
      " 2   Customer_Name       1000 non-null   object \n",
      " 3   Product_ID          1020 non-null   object \n",
      " 4   Product_Name        1020 non-null   object \n",
      " 5   Brand               1020 non-null   object \n",
      " 6   Category            1020 non-null   object \n",
      " 7   Price               1020 non-null   float64\n",
      " 8   Quantity            1020 non-null   int64  \n",
      " 9   Total_Price         1020 non-null   float64\n",
      " 10  Order_Date          1020 non-null   object \n",
      " 11  Shipping_Address    1020 non-null   object \n",
      " 12  City                1020 non-null   object \n",
      " 13  State               1019 non-null   object \n",
      " 14  Country             1020 non-null   object \n",
      " 15  Postal_Code         1020 non-null   int64  \n",
      " 16  Email               1020 non-null   object \n",
      " 17  Phone_Number        1020 non-null   object \n",
      " 18  Payment_Method      1020 non-null   object \n",
      " 19  Transaction_Status  1020 non-null   object \n",
      "dtypes: float64(2), int64(2), object(16)\n",
      "memory usage: 159.5+ KB\n",
      "Index(['Order_ID', 'Customer_ID', 'Customer_Name', 'Product_ID',\n",
      "       'Product_Name', 'Brand', 'Category', 'Price', 'Quantity', 'Total_Price',\n",
      "       'Order_Date', 'Shipping_Address', 'City', 'State', 'Country',\n",
      "       'Postal_Code', 'Email', 'Phone_Number', 'Payment_Method',\n",
      "       'Transaction_Status'],\n",
      "      dtype='object')\n"
     ]
    }
   ],
   "source": [
    "yanki_df.info()\n",
    "print(yanki_df.columns)"
   ]
  },
  {
   "cell_type": "markdown",
   "id": "4abfc727-b658-4b3e-9722-745451c596ed",
   "metadata": {},
   "source": [
    "## TRANSFORM "
   ]
  },
  {
   "cell_type": "markdown",
   "id": "6af7c4bf-a361-4c29-9522-b6d55cc7e83a",
   "metadata": {},
   "source": [
    "### **Cleaning Steps for Data Modeling & Normalization**"
   ]
  },
  {
   "cell_type": "markdown",
   "id": "05329763-b3dd-4ea1-b3c9-22dac246f7fd",
   "metadata": {
    "jupyter": {
     "source_hidden": true
    }
   },
   "source": [
    "| Step                         | Action                                                                                       | Purpose                                                       |\n",
    "|------------------------------|----------------------------------------------------------------------------------------------|----------------------------------------------------------------|\n",
    "| 1. Handle Missing Values     | - Drop rows with missing `Order_ID`, `Customer_ID`                      | These are core entity identifiers; nulls would break relationships |\n",
    "|                              | - Optionally handle or impute 1 missing value in `State`                                    | Tolerable since it's likely a lookup/dimension table           |\n",
    "| 2. Ensure Correct Data Types | - Convert `Order_Date` to datetime format                                                   | Enables partitioning and relationship with a Date dimension   |\n",
    "|                              | - Ensure `Postal_Code` is treated as string if needed (for leading zeros)                   | Maintains data integrity, especially in US/UK postal codes     |\n",
    "| 3. Remove Duplicates         | - Check for and drop duplicates in `Order_ID`, `Product_ID`, `Customer_ID` combinations     | Avoids redundant relationships or many-to-many mapping noise   |\n",
    "| 4. Standardize Categorical Fields | - Lowercase and strip spaces in fields like `Category`, `Brand`, `Payment_Method`       | Ensures consistency across joins or dimensions                 |\n",
    "| 5. Verify Key Relationships  | - Ensure 1:many mappings exist: `Customer` → `Order`, `Order` → `Product`                  | For proper normalization and referential integrity             |\n",
    "| 6. Normalize Derived Fields  | - Confirm `Total_Price = Price * Quantity` or drop `Total_Price` if calculated later        | Avoid storing redundant calculations in normalized schema      |\n",
    "| 7. Split Compound Columns    | - Split `Customer_Name` into `First_Name` and `Last_Name`                       | Improves normalization (optional but good practice)            |\n",
    "| 8. Validate Contact Info     | - Basic regex or null check on `Email`, `Phone_Number`                                     | Prevent invalid records from entering DB                       |\n"
   ]
  },
  {
   "cell_type": "markdown",
   "id": "5db1cd4e-16f1-407b-8862-3439372d89d5",
   "metadata": {},
   "source": [
    "### **Data Cleaning**"
   ]
  },
  {
   "cell_type": "code",
   "execution_count": 22,
   "id": "a658dbe1-2f33-459e-bd55-20226c9b156f",
   "metadata": {},
   "outputs": [],
   "source": [
    "yanki_cleaned = yanki_df.copy()"
   ]
  },
  {
   "cell_type": "code",
   "execution_count": 23,
   "id": "58ff84ee-116c-4ed7-bbc0-849e87f32883",
   "metadata": {
    "collapsed": true,
    "jupyter": {
     "outputs_hidden": true,
     "source_hidden": true
    }
   },
   "outputs": [
    {
     "name": "stdout",
     "output_type": "stream",
     "text": [
      "[handle_missing_critical] Dropped 20 rows with nulls in ['Order_ID', 'Customer_ID']\n",
      "[ensure_correct_dtypes] Converted 'Order_Date' to datetime using day-first format.\n",
      "[standardize_categoricals] Standardized fields: ['Order_ID', 'Customer_ID', 'Customer_Name', 'Product_ID', 'Product_Name', 'Brand', 'Category', 'Shipping_Address', 'City', 'State', 'Country', 'Email', 'Phone_Number', 'Payment_Method', 'Transaction_Status']\n",
      "[split_compound_column] Split 'Customer_Name' into ['First_Name', 'Last_Name']\n",
      "[validate_contact_info] Cleaned email in column 'Email'\n",
      "[validate_contact_info] Cleaned phone in column 'Phone_Number'\n",
      "[normalize_derived_fields] Created 'computed_total' from Price * Quantity, rounded to 2dp.\n",
      "[verify_key_relationships] Column 'Customer_ID' has 0 missing foreign key values.\n",
      "[verify_key_relationships] Column 'Order_ID' has 0 missing foreign key values.\n",
      "[verify_key_relationships] Column 'Product_ID' has 0 missing foreign key values.\n",
      "[lowercase_columns] Column names converted to lowercase.\n",
      "<class 'pandas.core.frame.DataFrame'>\n",
      "Index: 1000 entries, 2 to 1019\n",
      "Data columns (total 23 columns):\n",
      " #   Column              Non-Null Count  Dtype         \n",
      "---  ------              --------------  -----         \n",
      " 0   order_id            1000 non-null   object        \n",
      " 1   customer_id         1000 non-null   object        \n",
      " 2   customer_name       1000 non-null   object        \n",
      " 3   product_id          1000 non-null   object        \n",
      " 4   product_name        1000 non-null   object        \n",
      " 5   brand               1000 non-null   object        \n",
      " 6   category            1000 non-null   object        \n",
      " 7   price               1000 non-null   float64       \n",
      " 8   quantity            1000 non-null   int64         \n",
      " 9   total_price         1000 non-null   float64       \n",
      " 10  order_date          1000 non-null   datetime64[ns]\n",
      " 11  shipping_address    1000 non-null   object        \n",
      " 12  city                1000 non-null   object        \n",
      " 13  state               1000 non-null   object        \n",
      " 14  country             1000 non-null   object        \n",
      " 15  postal_code         1000 non-null   int64         \n",
      " 16  email               1000 non-null   object        \n",
      " 17  phone_number        1000 non-null   object        \n",
      " 18  payment_method      1000 non-null   object        \n",
      " 19  transaction_status  1000 non-null   object        \n",
      " 20  first_name          1000 non-null   object        \n",
      " 21  last_name           1000 non-null   object        \n",
      " 22  computed_total      1000 non-null   float64       \n",
      "dtypes: datetime64[ns](1), float64(3), int64(2), object(17)\n",
      "memory usage: 187.5+ KB\n"
     ]
    }
   ],
   "source": [
    "yanki_cleaned= handle_missing_critical(yanki_cleaned, ['Order_ID', 'Customer_ID'])\n",
    "yanki_cleaned= ensure_correct_dtypes(yanki_cleaned, ['Order_Date'])\n",
    "yanki_cleaned= standardize_categoricals(yanki_cleaned)\n",
    "yanki_cleaned= split_compound_column(yanki_cleaned, 'Customer_Name', ['First_Name', 'Last_Name'])\n",
    "yanki_cleaned= validate_contact_info(yanki_cleaned, email_col='Email', phone_col='Phone_Number')\n",
    "#yanki_cleaned= remove_duplicates_by_keys(yanki_cleaned, ['Order_ID', 'Product_ID', 'Customer_ID'])\n",
    "yanki_cleaned= normalize_derived_fields(yanki_cleaned, price_col='Price', qty_col='Quantity')\n",
    "yanki_cleaned= verify_key_relationships(yanki_cleaned, ['Customer_ID','Order_ID','Product_ID'])\n",
    "yanki_cleaned = lowercase_columns(yanki_cleaned)\n",
    "yanki_cleaned.info()"
   ]
  },
  {
   "cell_type": "markdown",
   "id": "4b9b5672-d26e-4ce0-8bf3-d9afa95d40f1",
   "metadata": {},
   "source": [
    "### **Data Modelling**"
   ]
  },
  {
   "cell_type": "markdown",
   "id": "fdb31766-a884-44da-a607-96f6b626f2b4",
   "metadata": {},
   "source": [
    "#### **Data Model**\n",
    "*Splitting the data into normalized tables like:*  `Customers`, `Products`, `Orders`, `Location`, `Payments`"
   ]
  },
  {
   "cell_type": "markdown",
   "id": "024da585-d0f9-4aac-9203-cbf403fda6fc",
   "metadata": {},
   "source": [
    "![alt text](db_model.png)"
   ]
  },
  {
   "cell_type": "code",
   "execution_count": 24,
   "id": "56a059a0-21c5-4371-ab6a-efb762b300cf",
   "metadata": {
    "scrolled": true
   },
   "outputs": [
    {
     "name": "stdout",
     "output_type": "stream",
     "text": [
      "[split_normalized_tables] Column names normalized to lowercase.\n",
      "[split_normalized_tables] Created table 'customers' with 990 rows.\n",
      "[split_normalized_tables] Created table 'products' with 990 rows.\n",
      "[split_normalized_tables] Created table 'orders' with 990 rows.\n",
      "[split_normalized_tables] Created table 'locations' with 990 rows.\n",
      "[split_normalized_tables] Created table 'payments' with 990 rows.\n"
     ]
    }
   ],
   "source": [
    "# Define the table specifications\n",
    "table_definitions = {\n",
    "    \"customers\": ['customer_id', 'first_name', 'last_name', 'email', 'phone_number'],\n",
    "    \"products\": ['product_id', 'product_name', 'brand', 'category', 'price'],\n",
    "    \"orders\": ['order_id', 'customer_id', 'product_id', 'quantity', 'computed_total', 'order_date'],\n",
    "    \"locations\": ['customer_id', 'shipping_address', 'city', 'state', 'country', 'postal_code'],\n",
    "    \"payments\": ['order_id', 'payment_method', 'transaction_status']\n",
    "}\n",
    "normalized_tables = split_normalized_tables(yanki_cleaned, table_definitions)\n",
    "globals().update(normalized_tables) #access the tables as standalone variables\n"
   ]
  },
  {
   "cell_type": "code",
   "execution_count": 25,
   "id": "50b7ce6f-4b05-44af-93ae-4614b19fce78",
   "metadata": {
    "scrolled": true
   },
   "outputs": [],
   "source": [
    "# Add a surrogate key to the desired table (e.g., 'location_df')\n",
    "locations.insert(0, 'location_id', range(1, len(locations) + 1))\n",
    "normalized_tables['locations'] = locations"
   ]
  },
  {
   "cell_type": "code",
   "execution_count": 26,
   "id": "97a9dd9e-4069-41c6-8e4e-ae9d84156eba",
   "metadata": {},
   "outputs": [],
   "source": [
    "# Add location_ to orders table using customer_id match\n",
    "orders = orders.merge(locations[['customer_id', 'location_id']], on='customer_id', how='left')\n",
    "normalized_tables['orders'] = orders # Update the dictionary again"
   ]
  },
  {
   "cell_type": "markdown",
   "id": "a40468b6-c4d8-4bcd-a8f5-312f3f299d0f",
   "metadata": {},
   "source": [
    "### Save to csv (optional)"
   ]
  },
  {
   "cell_type": "code",
   "execution_count": 27,
   "id": "83b814d3-7fe1-4a84-93ba-af2b2e3123c1",
   "metadata": {
    "scrolled": true
   },
   "outputs": [],
   "source": [
    "#save_tables_to_csv(tables=normalized_tables, export_dir=\"dataset/\")"
   ]
  },
  {
   "cell_type": "markdown",
   "id": "162fceb0-adc8-4ea3-8491-6b5619cb6304",
   "metadata": {},
   "source": [
    "## LOAD"
   ]
  },
  {
   "cell_type": "code",
   "execution_count": 28,
   "id": "150c80b3-166d-4148-adc3-2bf431112a8a",
   "metadata": {
    "jupyter": {
     "source_hidden": true
    }
   },
   "outputs": [
    {
     "name": "stdout",
     "output_type": "stream",
     "text": [
      "[get_db_connection] Connection to PostgreSQL successful.\n"
     ]
    }
   ],
   "source": [
    "# initiate connection to pgadmin db\n",
    "conn = get_db_connection()"
   ]
  },
  {
   "cell_type": "code",
   "execution_count": 29,
   "id": "5fa97a72-f17f-4ccb-b580-7532f24bc736",
   "metadata": {
    "jupyter": {
     "source_hidden": true
    }
   },
   "outputs": [
    {
     "name": "stdout",
     "output_type": "stream",
     "text": [
      "\n",
      "[infer_keys_from_normalized_tables] 🔍 Starting key inference...\n",
      "\n",
      "✅ PRIMARY KEY for 'customers': customer_id\n",
      "✅ PRIMARY KEY for 'products': product_id\n",
      "✅ PRIMARY KEY for 'orders': order_id\n",
      "✅ PRIMARY KEY for 'locations': location_id\n",
      "❌ No PK found in 'payments'\n",
      "ℹ️ 'customers' has a PK but no FKs.\n",
      "ℹ️ 'products' has a PK but no FKs.\n",
      "🔗 FOREIGN KEY in 'orders': customer_id → customers.customer_id\n",
      "🔗 FOREIGN KEY in 'orders': product_id → products.product_id\n",
      "🔗 FOREIGN KEY in 'orders': location_id → locations.location_id\n",
      "🔗 FOREIGN KEY in 'locations': customer_id → customers.customer_id\n",
      "🔗 FOREIGN KEY in 'payments': order_id → orders.order_id\n",
      "\n",
      "✅ Inference Summary: 4 PKs and 5 FKs across 3 tables.\n",
      "\n"
     ]
    }
   ],
   "source": [
    "# Infer PK & FK\n",
    "primary_keys, foreign_keys = infer_keys_from_normalized_tables(normalized_tables)\n"
   ]
  },
  {
   "cell_type": "code",
   "execution_count": 30,
   "id": "b9da84e3-2499-4888-ab1b-96d421065dcc",
   "metadata": {
    "jupyter": {
     "source_hidden": true
    }
   },
   "outputs": [
    {
     "name": "stdout",
     "output_type": "stream",
     "text": [
      "['customers', 'products', 'locations', 'orders', 'payments']\n"
     ]
    }
   ],
   "source": [
    "# Perform a dependency-aware sort on your tables based on foreign key references:\n",
    "creation_order = topological_sort_tables(\n",
    "    tables=normalized_tables,\n",
    "    foreign_keys=foreign_keys\n",
    ")\n",
    "print(creation_order)\n"
   ]
  },
  {
   "cell_type": "code",
   "execution_count": 35,
   "id": "8def72e2-45ce-400b-b493-7dcdacd38a84",
   "metadata": {
    "collapsed": true,
    "jupyter": {
     "outputs_hidden": true
    }
   },
   "outputs": [
    {
     "name": "stdout",
     "output_type": "stream",
     "text": [
      "[create_and_execute_schema_and_tables] ❌ Dropping schema 'yanki' if it exists...\n",
      "[create_and_execute_schema_and_tables] ✅ Creating schema 'yanki'...\n",
      "[create_and_execute_schema_and_tables] ❌ Dropping table 'customers' if it exists...\n",
      "[create_and_execute_schema_and_tables] ✅ Creating table 'customers'...\n",
      "[create_and_execute_schema_and_tables] ❌ Dropping table 'products' if it exists...\n",
      "[create_and_execute_schema_and_tables] ✅ Creating table 'products'...\n",
      "[create_and_execute_schema_and_tables] ❌ Dropping table 'locations' if it exists...\n",
      "[create_and_execute_schema_and_tables] ✅ Creating table 'locations'...\n",
      "[create_and_execute_schema_and_tables] ❌ Dropping table 'orders' if it exists...\n",
      "[create_and_execute_schema_and_tables] ✅ Creating table 'orders'...\n",
      "[create_and_execute_schema_and_tables] ❌ Dropping table 'payments' if it exists...\n",
      "[create_and_execute_schema_and_tables] ✅ Creating table 'payments'...\n",
      "\n",
      "[create_and_execute_schema_and_tables] ✅ Execution finished for schema 'yanki'.\n",
      "📊 Summary: 5 tables created, 0 failed.\n"
     ]
    }
   ],
   "source": [
    "# create and execute schema + tables\n",
    "create_and_execute_schema_and_tables(\n",
    "    conn=conn,\n",
    "    schema=\"yanki\",\n",
    "    tables=normalized_tables,\n",
    "    primary_keys=primary_keys,\n",
    "    foreign_keys=foreign_keys\n",
    ")"
   ]
  },
  {
   "cell_type": "code",
   "execution_count": 36,
   "id": "5d5a7eca-7c85-461e-a94c-839899bb936e",
   "metadata": {
    "collapsed": true,
    "jupyter": {
     "outputs_hidden": true
    },
    "scrolled": true
   },
   "outputs": [
    {
     "name": "stdout",
     "output_type": "stream",
     "text": [
      "🚚 Loading 'yanki.customers'...\n",
      "✅ 990 rows loaded into 'yanki.customers'.\n",
      "🚚 Loading 'yanki.products'...\n",
      "✅ 990 rows loaded into 'yanki.products'.\n",
      "🚚 Loading 'yanki.locations'...\n",
      "✅ 990 rows loaded into 'yanki.locations'.\n",
      "🚚 Loading 'yanki.orders'...\n",
      "✅ 990 rows loaded into 'yanki.orders'.\n",
      "🚚 Loading 'yanki.payments'...\n",
      "✅ 990 rows loaded into 'yanki.payments'.\n",
      "\n",
      "📊 Load complete for all tables.\n"
     ]
    }
   ],
   "source": [
    "# Load data to the database table\n",
    "load_db(\n",
    "    conn=conn,\n",
    "    tables=normalized_tables,\n",
    "    foreign_keys=foreign_keys,\n",
    "    schema=\"yanki\"\n",
    ")"
   ]
  },
  {
   "cell_type": "code",
   "execution_count": 38,
   "id": "75ddd0fc-2329-4cd5-b805-76c4212f17cb",
   "metadata": {},
   "outputs": [
    {
     "name": "stdout",
     "output_type": "stream",
     "text": [
      "📝 SQL script saved to dataset/yanki_insert.sql\n"
     ]
    }
   ],
   "source": [
    "# Generate SQL script to insert to the database table (Optional)\n",
    "export_sql_script(\n",
    "    schema= \"yanki\",\n",
    "    tables= normalized_tables,\n",
    "    foreign_keys= foreign_keys,\n",
    "    output_sql_path= \"dataset/yanki_insert.sql\"\n",
    ")"
   ]
  },
  {
   "cell_type": "code",
   "execution_count": null,
   "id": "d2afbc73-8c8f-404a-801b-bb4627a5b4b8",
   "metadata": {},
   "outputs": [],
   "source": []
  }
 ],
 "metadata": {
  "kernelspec": {
   "display_name": "Python (myenv)",
   "language": "python",
   "name": "myenv"
  },
  "language_info": {
   "codemirror_mode": {
    "name": "ipython",
    "version": 3
   },
   "file_extension": ".py",
   "mimetype": "text/x-python",
   "name": "python",
   "nbconvert_exporter": "python",
   "pygments_lexer": "ipython3",
   "version": "3.11.5"
  },
  "widgets": {
   "application/vnd.jupyter.widget-state+json": {
    "state": {},
    "version_major": 2,
    "version_minor": 0
   }
  }
 },
 "nbformat": 4,
 "nbformat_minor": 5
}
