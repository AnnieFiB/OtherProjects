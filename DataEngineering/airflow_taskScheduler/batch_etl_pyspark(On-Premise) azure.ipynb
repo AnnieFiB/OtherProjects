{
 "cells": [
  {
   "cell_type": "markdown",
   "id": "8b64f165",
   "metadata": {},
   "source": [
    "# Batch ETL Pipeline and Task Scheduler Orchestration (On-Premise)"
   ]
  },
  {
   "cell_type": "markdown",
   "id": "007bc6f1",
   "metadata": {},
   "source": [
    "## Notes"
   ]
  },
  {
   "cell_type": "code",
   "execution_count": null,
   "id": "a849d836",
   "metadata": {},
   "outputs": [],
   "source": [
    "from IPython.display import Image, display\n",
    "display(Image(\"images/de_process_flow.png\"))\n",
    "display(Image(\"images/staging.png\"))\n",
    "display(Image(\"images/schematypes.png\"))\n",
    "display(Image(\"images/datapipeline.png\"))"
   ]
  },
  {
   "cell_type": "markdown",
   "id": "98e18199",
   "metadata": {},
   "source": [
    "## Libraries and Dependencies"
   ]
  },
  {
   "cell_type": "code",
   "execution_count": 24,
   "id": "c8bbb64f",
   "metadata": {},
   "outputs": [],
   "source": [
    "# Import necessary dependencies\n",
    "import pandas as pd\n",
    "import gdown\n",
    "import tempfile\n",
    "import shutil\n",
    "import os\n",
    "from dotenv import load_dotenv\n",
    "load_dotenv()\n",
    "#import psycopg2\n",
    "from psycopg2 import sql\n",
    "from sqlalchemy import create_engine, Column, Integer, String, Float, BigInteger, Text, TIMESTAMP, ForeignKey, MetaData, Table\n",
    "\n",
    "import io\n",
    "from azure.storage.blob import BlobServiceClient, BlobClient, ContainerClient"
   ]
  },
  {
   "cell_type": "markdown",
   "id": "b06d9adf",
   "metadata": {},
   "source": [
    "## Case Study - On-Premises -Azure Blob Storage"
   ]
  },
  {
   "cell_type": "markdown",
   "id": "0665fb7a",
   "metadata": {},
   "source": [
    "### Dataset & Data Architecture\n",
    "- [Azure: zikologistics dataset](\"https://drive.google.com/file/d/1O-wEH1FYyeAE3hygOUjmso0GgaOIsAVm/view?usp=drive_link\")\n",
    "- [Spark: nugabank dataset](\"https://drive.google.com/file/d/1bHbh1M5cExdzwhzSaHNUVz3s9Jxtm2E5/view?usp=sharing)"
   ]
  },
  {
   "cell_type": "code",
   "execution_count": null,
   "id": "379249fd",
   "metadata": {},
   "outputs": [],
   "source": [
    "display(Image(\"images/data architecture.png\"))"
   ]
  },
  {
   "cell_type": "markdown",
   "id": "1fc3b14a",
   "metadata": {},
   "source": [
    "### Extraction Layer\n",
    "- Download CSV content from Google Drive into a temporary file path "
   ]
  },
  {
   "cell_type": "code",
   "execution_count": 2,
   "id": "03f41485",
   "metadata": {},
   "outputs": [
    {
     "name": "stderr",
     "output_type": "stream",
     "text": [
      "Downloading...\n",
      "From: https://drive.google.com/uc?id=1O-wEH1FYyeAE3hygOUjmso0GgaOIsAVm\n",
      "To: C:\\Users\\Probook\\AppData\\Local\\Temp\\tmpm73bzoqp.csv\n",
      "100%|██████████| 267k/267k [00:00<00:00, 3.38MB/s]\n"
     ]
    },
    {
     "data": {
      "application/vnd.microsoft.datawrangler.viewer.v0+json": {
       "columns": [
        {
         "name": "index",
         "rawType": "int64",
         "type": "integer"
        },
        {
         "name": "Transaction_ID",
         "rawType": "int64",
         "type": "integer"
        },
        {
         "name": "Date",
         "rawType": "object",
         "type": "string"
        },
        {
         "name": "Customer_ID",
         "rawType": "int64",
         "type": "integer"
        },
        {
         "name": "Product_ID",
         "rawType": "int64",
         "type": "integer"
        },
        {
         "name": "Quantity",
         "rawType": "int64",
         "type": "integer"
        },
        {
         "name": "Unit_Price",
         "rawType": "float64",
         "type": "float"
        },
        {
         "name": "Total_Cost",
         "rawType": "float64",
         "type": "float"
        },
        {
         "name": "Discount_Rate",
         "rawType": "float64",
         "type": "float"
        },
        {
         "name": "Sales_Channel",
         "rawType": "object",
         "type": "string"
        },
        {
         "name": "Order_Priority",
         "rawType": "object",
         "type": "string"
        },
        {
         "name": "Warehouse_Code",
         "rawType": "object",
         "type": "string"
        },
        {
         "name": "Ship_Mode",
         "rawType": "object",
         "type": "string"
        },
        {
         "name": "Delivery_Status",
         "rawType": "object",
         "type": "string"
        },
        {
         "name": "Customer_Satisfaction",
         "rawType": "object",
         "type": "string"
        },
        {
         "name": "Item_Returned",
         "rawType": "bool",
         "type": "boolean"
        },
        {
         "name": "Return_Reason",
         "rawType": "object",
         "type": "string"
        },
        {
         "name": "Payment_Type",
         "rawType": "object",
         "type": "string"
        },
        {
         "name": "Taxable",
         "rawType": "bool",
         "type": "boolean"
        },
        {
         "name": "Region",
         "rawType": "object",
         "type": "string"
        },
        {
         "name": "Country",
         "rawType": "object",
         "type": "string"
        },
        {
         "name": "Customer_Name",
         "rawType": "object",
         "type": "string"
        },
        {
         "name": "Customer_Phone",
         "rawType": "object",
         "type": "string"
        },
        {
         "name": "Customer_Email",
         "rawType": "object",
         "type": "string"
        },
        {
         "name": "Customer_Address",
         "rawType": "object",
         "type": "string"
        },
        {
         "name": "Product_List_Title",
         "rawType": "object",
         "type": "string"
        }
       ],
       "ref": "fde2f1c7-d664-4efd-99c0-99772aa7d23d",
       "rows": [
        [
         "0",
         "200",
         "2020-01-01 20:32:25.945945945",
         "1086",
         "536",
         "3",
         "120.43682132331526",
         "8265.37454940804",
         "0.2",
         "Online",
         "High",
         "WH-3",
         "2-Day",
         "Cancelled",
         "Neutral",
         "False",
         "Wrong Item",
         "Wire Transfer",
         "False",
         "West",
         "Canada",
         "Customer 200",
         "+1-652-572-9306",
         "customer.200.78@example.com",
         "275 Second St, Phoenix, USA",
         "Product 53"
        ],
        [
         "1",
         "321",
         "2020-01-02 06:55:08.108108108",
         "1078",
         "523",
         "6",
         "475.7249935818949",
         "4047.8504787607",
         null,
         "Reseller",
         "Critical",
         "WH-1",
         "Overnight",
         "Backorder",
         "Satisfied",
         "True",
         "Damaged",
         "PayPal",
         "True",
         "South",
         "Mexico",
         "Customer 321",
         "+1-311-186-5760",
         "customer.321.13@sample.com",
         "478 Third St, New York, USA",
         "Product 33"
        ],
        [
         "2",
         "989",
         "2020-01-06 08:12:58.378378378",
         "1077",
         "535",
         "3",
         "146.40055601470172",
         null,
         "0.05",
         "Direct",
         "Critical",
         "WH-1",
         "Overnight",
         "Pending",
         "Unsatisfied",
         "True",
         "Damaged",
         "PayPal",
         "True",
         "West",
         "Canada",
         "Customer 989",
         "+1-922-606-9032",
         "customer.989.99@example.com",
         "843 Second St, Phoenix, USA",
         "Product 6"
        ]
       ],
       "shape": {
        "columns": 25,
        "rows": 3
       }
      },
      "text/html": [
       "<div>\n",
       "<style scoped>\n",
       "    .dataframe tbody tr th:only-of-type {\n",
       "        vertical-align: middle;\n",
       "    }\n",
       "\n",
       "    .dataframe tbody tr th {\n",
       "        vertical-align: top;\n",
       "    }\n",
       "\n",
       "    .dataframe thead th {\n",
       "        text-align: right;\n",
       "    }\n",
       "</style>\n",
       "<table border=\"1\" class=\"dataframe\">\n",
       "  <thead>\n",
       "    <tr style=\"text-align: right;\">\n",
       "      <th></th>\n",
       "      <th>Transaction_ID</th>\n",
       "      <th>Date</th>\n",
       "      <th>Customer_ID</th>\n",
       "      <th>Product_ID</th>\n",
       "      <th>Quantity</th>\n",
       "      <th>Unit_Price</th>\n",
       "      <th>Total_Cost</th>\n",
       "      <th>Discount_Rate</th>\n",
       "      <th>Sales_Channel</th>\n",
       "      <th>Order_Priority</th>\n",
       "      <th>...</th>\n",
       "      <th>Return_Reason</th>\n",
       "      <th>Payment_Type</th>\n",
       "      <th>Taxable</th>\n",
       "      <th>Region</th>\n",
       "      <th>Country</th>\n",
       "      <th>Customer_Name</th>\n",
       "      <th>Customer_Phone</th>\n",
       "      <th>Customer_Email</th>\n",
       "      <th>Customer_Address</th>\n",
       "      <th>Product_List_Title</th>\n",
       "    </tr>\n",
       "  </thead>\n",
       "  <tbody>\n",
       "    <tr>\n",
       "      <th>0</th>\n",
       "      <td>200</td>\n",
       "      <td>2020-01-01 20:32:25.945945945</td>\n",
       "      <td>1086</td>\n",
       "      <td>536</td>\n",
       "      <td>3</td>\n",
       "      <td>120.436821</td>\n",
       "      <td>8265.374549</td>\n",
       "      <td>0.20</td>\n",
       "      <td>Online</td>\n",
       "      <td>High</td>\n",
       "      <td>...</td>\n",
       "      <td>Wrong Item</td>\n",
       "      <td>Wire Transfer</td>\n",
       "      <td>False</td>\n",
       "      <td>West</td>\n",
       "      <td>Canada</td>\n",
       "      <td>Customer 200</td>\n",
       "      <td>+1-652-572-9306</td>\n",
       "      <td>customer.200.78@example.com</td>\n",
       "      <td>275 Second St, Phoenix, USA</td>\n",
       "      <td>Product 53</td>\n",
       "    </tr>\n",
       "    <tr>\n",
       "      <th>1</th>\n",
       "      <td>321</td>\n",
       "      <td>2020-01-02 06:55:08.108108108</td>\n",
       "      <td>1078</td>\n",
       "      <td>523</td>\n",
       "      <td>6</td>\n",
       "      <td>475.724994</td>\n",
       "      <td>4047.850479</td>\n",
       "      <td>NaN</td>\n",
       "      <td>Reseller</td>\n",
       "      <td>Critical</td>\n",
       "      <td>...</td>\n",
       "      <td>Damaged</td>\n",
       "      <td>PayPal</td>\n",
       "      <td>True</td>\n",
       "      <td>South</td>\n",
       "      <td>Mexico</td>\n",
       "      <td>Customer 321</td>\n",
       "      <td>+1-311-186-5760</td>\n",
       "      <td>customer.321.13@sample.com</td>\n",
       "      <td>478 Third St, New York, USA</td>\n",
       "      <td>Product 33</td>\n",
       "    </tr>\n",
       "    <tr>\n",
       "      <th>2</th>\n",
       "      <td>989</td>\n",
       "      <td>2020-01-06 08:12:58.378378378</td>\n",
       "      <td>1077</td>\n",
       "      <td>535</td>\n",
       "      <td>3</td>\n",
       "      <td>146.400556</td>\n",
       "      <td>NaN</td>\n",
       "      <td>0.05</td>\n",
       "      <td>Direct</td>\n",
       "      <td>Critical</td>\n",
       "      <td>...</td>\n",
       "      <td>Damaged</td>\n",
       "      <td>PayPal</td>\n",
       "      <td>True</td>\n",
       "      <td>West</td>\n",
       "      <td>Canada</td>\n",
       "      <td>Customer 989</td>\n",
       "      <td>+1-922-606-9032</td>\n",
       "      <td>customer.989.99@example.com</td>\n",
       "      <td>843 Second St, Phoenix, USA</td>\n",
       "      <td>Product 6</td>\n",
       "    </tr>\n",
       "  </tbody>\n",
       "</table>\n",
       "<p>3 rows × 25 columns</p>\n",
       "</div>"
      ],
      "text/plain": [
       "   Transaction_ID                           Date  Customer_ID  Product_ID  \\\n",
       "0             200  2020-01-01 20:32:25.945945945         1086         536   \n",
       "1             321  2020-01-02 06:55:08.108108108         1078         523   \n",
       "2             989  2020-01-06 08:12:58.378378378         1077         535   \n",
       "\n",
       "   Quantity  Unit_Price   Total_Cost  Discount_Rate Sales_Channel  \\\n",
       "0         3  120.436821  8265.374549           0.20        Online   \n",
       "1         6  475.724994  4047.850479            NaN      Reseller   \n",
       "2         3  146.400556          NaN           0.05        Direct   \n",
       "\n",
       "  Order_Priority  ... Return_Reason   Payment_Type Taxable Region  Country  \\\n",
       "0           High  ...    Wrong Item  Wire Transfer   False   West   Canada   \n",
       "1       Critical  ...       Damaged         PayPal    True  South   Mexico   \n",
       "2       Critical  ...       Damaged         PayPal    True   West   Canada   \n",
       "\n",
       "  Customer_Name   Customer_Phone               Customer_Email  \\\n",
       "0  Customer 200  +1-652-572-9306  customer.200.78@example.com   \n",
       "1  Customer 321  +1-311-186-5760   customer.321.13@sample.com   \n",
       "2  Customer 989  +1-922-606-9032  customer.989.99@example.com   \n",
       "\n",
       "              Customer_Address Product_List_Title  \n",
       "0  275 Second St, Phoenix, USA         Product 53  \n",
       "1  478 Third St, New York, USA         Product 33  \n",
       "2  843 Second St, Phoenix, USA          Product 6  \n",
       "\n",
       "[3 rows x 25 columns]"
      ]
     },
     "metadata": {},
     "output_type": "display_data"
    }
   ],
   "source": [
    "with tempfile.NamedTemporaryFile(delete=False, suffix=\".csv\") as tmp:\n",
    "    temp_path = tmp.name\n",
    "\n",
    "file_id = \"1O-wEH1FYyeAE3hygOUjmso0GgaOIsAVm\"\n",
    "gdown.download(f\"https://drive.google.com/uc?id={file_id}\", temp_path, quiet=False)\n",
    "#shutil.copy(temp_path, \"ziko_logistics.csv\") # Save a permanent copy of the downloaded CSV\n",
    "\n",
    "ziko_df = pd.read_csv(temp_path)\n",
    "display(ziko_df.head(3))\n",
    "\n",
    "# Clean up the temporary file\n",
    "os.remove(temp_path)"
   ]
  },
  {
   "cell_type": "markdown",
   "id": "9e7bec06",
   "metadata": {},
   "source": [
    "### Transformation Layer"
   ]
  },
  {
   "cell_type": "code",
   "execution_count": 3,
   "id": "09c63972",
   "metadata": {},
   "outputs": [
    {
     "name": "stdout",
     "output_type": "stream",
     "text": [
      "Index(['Transaction_ID', 'Date', 'Customer_ID', 'Product_ID', 'Quantity',\n",
      "       'Unit_Price', 'Total_Cost', 'Discount_Rate', 'Sales_Channel',\n",
      "       'Order_Priority', 'Warehouse_Code', 'Ship_Mode', 'Delivery_Status',\n",
      "       'Customer_Satisfaction', 'Item_Returned', 'Return_Reason',\n",
      "       'Payment_Type', 'Taxable', 'Region', 'Country', 'Customer_Name',\n",
      "       'Customer_Phone', 'Customer_Email', 'Customer_Address',\n",
      "       'Product_List_Title'],\n",
      "      dtype='object')\n",
      "<class 'pandas.core.frame.DataFrame'>\n",
      "RangeIndex: 1005 entries, 0 to 1004\n",
      "Data columns (total 25 columns):\n",
      " #   Column                 Non-Null Count  Dtype  \n",
      "---  ------                 --------------  -----  \n",
      " 0   Transaction_ID         1005 non-null   int64  \n",
      " 1   Date                   1005 non-null   object \n",
      " 2   Customer_ID            1005 non-null   int64  \n",
      " 3   Product_ID             1005 non-null   int64  \n",
      " 4   Quantity               1005 non-null   int64  \n",
      " 5   Unit_Price             904 non-null    float64\n",
      " 6   Total_Cost             905 non-null    float64\n",
      " 7   Discount_Rate          714 non-null    float64\n",
      " 8   Sales_Channel          1005 non-null   object \n",
      " 9   Order_Priority         1005 non-null   object \n",
      " 10  Warehouse_Code         1005 non-null   object \n",
      " 11  Ship_Mode              1005 non-null   object \n",
      " 12  Delivery_Status        1005 non-null   object \n",
      " 13  Customer_Satisfaction  1005 non-null   object \n",
      " 14  Item_Returned          1005 non-null   bool   \n",
      " 15  Return_Reason          904 non-null    object \n",
      " 16  Payment_Type           1005 non-null   object \n",
      " 17  Taxable                1005 non-null   bool   \n",
      " 18  Region                 1005 non-null   object \n",
      " 19  Country                1005 non-null   object \n",
      " 20  Customer_Name          1005 non-null   object \n",
      " 21  Customer_Phone         1005 non-null   object \n",
      " 22  Customer_Email         1005 non-null   object \n",
      " 23  Customer_Address       1005 non-null   object \n",
      " 24  Product_List_Title     1005 non-null   object \n",
      "dtypes: bool(2), float64(3), int64(4), object(16)\n",
      "memory usage: 182.7+ KB\n"
     ]
    },
    {
     "data": {
      "text/plain": [
       "None"
      ]
     },
     "metadata": {},
     "output_type": "display_data"
    }
   ],
   "source": [
    "print(ziko_df.columns)\n",
    "display(ziko_df.info())"
   ]
  },
  {
   "cell_type": "markdown",
   "id": "1eebbfd2",
   "metadata": {},
   "source": [
    "#### Data Modelling with storage into Azure"
   ]
  },
  {
   "cell_type": "markdown",
   "id": "8e62d3cb",
   "metadata": {},
   "source": [
    "Fact Table: fact_sales\n",
    "Captures transactional and measurable data:\n",
    "| Column                  | Type    | Notes                            |\n",
    "| ----------------------- | ------- | -------------------------------- |\n",
    "| `transaction_id`        | PK      | Primary key                      |\n",
    "| `date`                  | FK      | → `dim_date.date`                |\n",
    "| `customer_id`           | FK      | → `dim_customer.customer_id`     |\n",
    "| `product_id`            | FK      | → `dim_product.product_id`       |\n",
    "| `warehouse_code`        | FK      | → `dim_warehouse.warehouse_code` |\n",
    "| `payment_type`          | FK      | → `dim_payment.payment_type`     |\n",
    "| `quantity`              | Integer | Metric                           |\n",
    "| `unit_price`            | Float   | Metric                           |\n",
    "| `total_cost`            | Float   | Metric                           |\n",
    "| `discount_rate`         | Float   | Metric                           |\n",
    "| `taxable`               | Boolean | Metric                           |\n",
    "| `customer_satisfaction` | String  | Could be moved to attribute dim  |\n",
    "| `item_returned`         | Boolean | Metric                           |\n",
    "\n",
    "\n",
    "Dimension Tables\n",
    "dim_customer\n",
    "| Column             | Type   |\n",
    "| ------------------ | ------ |\n",
    "| `customer_id`      | PK     |\n",
    "| `customer_name`    | String |\n",
    "| `customer_email`   | String |\n",
    "| `customer_phone`   | String |\n",
    "| `customer_address` | String |\n",
    "| `region`           | String |\n",
    "| `country`          | String |\n",
    "\n",
    "dim_product\n",
    "| Column               | Type   |\n",
    "| -------------------- | ------ |\n",
    "| `product_id`         | PK     |\n",
    "| `product_list_title` | String |\n",
    "\n",
    "dim_warehouse\n",
    "| Column            | Type   |\n",
    "| ----------------- | ------ |\n",
    "| `warehouse_code`  | PK     |\n",
    "| `ship_mode`       | String |\n",
    "| `delivery_status` | String |\n",
    "\n",
    "dim_payment\n",
    "| Column         | Type |\n",
    "| -------------- | ---- |\n",
    "| `payment_type` | PK   |\n",
    "\n",
    "dim_order\n",
    "| Column           | Type               |\n",
    "| ---------------- | ------------------ |\n",
    "| `transaction_id` | PK (or FK to fact) |\n",
    "| `sales_channel`  | String             |\n",
    "| `order_priority` | String             |\n",
    "| `return_reason`  | String             |\n",
    "\n",
    "Optional — if sales channel and priority have analytical value.\n",
    "\n",
    "dim_date\n",
    "| Column                                        | Type |\n",
    "| --------------------------------------------- | ---- |\n",
    "| `date`                                        | PK   |\n",
    "| Add year, month, etc. for hierarchy if needed |      |\n"
   ]
  },
  {
   "cell_type": "markdown",
   "id": "8055d136",
   "metadata": {},
   "source": [
    "#### Cleaning and transformation"
   ]
  },
  {
   "cell_type": "code",
   "execution_count": 4,
   "id": "de53bef6",
   "metadata": {},
   "outputs": [
    {
     "data": {
      "application/vnd.microsoft.datawrangler.viewer.v0+json": {
       "columns": [
        {
         "name": "index",
         "rawType": "int64",
         "type": "integer"
        },
        {
         "name": "Transaction_ID",
         "rawType": "int64",
         "type": "integer"
        },
        {
         "name": "Date",
         "rawType": "object",
         "type": "string"
        },
        {
         "name": "Customer_ID",
         "rawType": "int64",
         "type": "integer"
        },
        {
         "name": "Product_ID",
         "rawType": "int64",
         "type": "integer"
        },
        {
         "name": "Quantity",
         "rawType": "int64",
         "type": "integer"
        },
        {
         "name": "Unit_Price",
         "rawType": "float64",
         "type": "float"
        },
        {
         "name": "Total_Cost",
         "rawType": "float64",
         "type": "float"
        },
        {
         "name": "Discount_Rate",
         "rawType": "float64",
         "type": "float"
        },
        {
         "name": "Sales_Channel",
         "rawType": "object",
         "type": "string"
        },
        {
         "name": "Order_Priority",
         "rawType": "object",
         "type": "string"
        },
        {
         "name": "Warehouse_Code",
         "rawType": "object",
         "type": "string"
        },
        {
         "name": "Ship_Mode",
         "rawType": "object",
         "type": "string"
        },
        {
         "name": "Delivery_Status",
         "rawType": "object",
         "type": "string"
        },
        {
         "name": "Customer_Satisfaction",
         "rawType": "object",
         "type": "string"
        },
        {
         "name": "Item_Returned",
         "rawType": "bool",
         "type": "boolean"
        },
        {
         "name": "Return_Reason",
         "rawType": "object",
         "type": "string"
        },
        {
         "name": "Payment_Type",
         "rawType": "object",
         "type": "string"
        },
        {
         "name": "Taxable",
         "rawType": "bool",
         "type": "boolean"
        },
        {
         "name": "Region",
         "rawType": "object",
         "type": "string"
        },
        {
         "name": "Country",
         "rawType": "object",
         "type": "string"
        },
        {
         "name": "Customer_Name",
         "rawType": "object",
         "type": "string"
        },
        {
         "name": "Customer_Phone",
         "rawType": "object",
         "type": "string"
        },
        {
         "name": "Customer_Email",
         "rawType": "object",
         "type": "string"
        },
        {
         "name": "Customer_Address",
         "rawType": "object",
         "type": "string"
        },
        {
         "name": "Product_List_Title",
         "rawType": "object",
         "type": "string"
        }
       ],
       "ref": "0f93774a-635e-4cf2-9250-c8c46f67309b",
       "rows": [
        [
         "0",
         "200",
         "2020-01-01 20:32:25.945945945",
         "1086",
         "536",
         "3",
         "120.43682132331526",
         "8265.37454940804",
         "0.2",
         "Online",
         "High",
         "WH-3",
         "2-Day",
         "Cancelled",
         "Neutral",
         "False",
         "Wrong Item",
         "Wire Transfer",
         "False",
         "West",
         "Canada",
         "Customer 200",
         "+1-652-572-9306",
         "customer.200.78@example.com",
         "275 Second St, Phoenix, USA",
         "Product 53"
        ],
        [
         "1",
         "321",
         "2020-01-02 06:55:08.108108108",
         "1078",
         "523",
         "6",
         "475.7249935818949",
         "4047.8504787607",
         "0.0",
         "Reseller",
         "Critical",
         "WH-1",
         "Overnight",
         "Backorder",
         "Satisfied",
         "True",
         "Damaged",
         "PayPal",
         "True",
         "South",
         "Mexico",
         "Customer 321",
         "+1-311-186-5760",
         "customer.321.13@sample.com",
         "478 Third St, New York, USA",
         "Product 33"
        ],
        [
         "2",
         "989",
         "2020-01-06 08:12:58.378378378",
         "1077",
         "535",
         "3",
         "146.40055601470172",
         "5096.553818483975",
         "0.05",
         "Direct",
         "Critical",
         "WH-1",
         "Overnight",
         "Pending",
         "Unsatisfied",
         "True",
         "Damaged",
         "PayPal",
         "True",
         "West",
         "Canada",
         "Customer 989",
         "+1-922-606-9032",
         "customer.989.99@example.com",
         "843 Second St, Phoenix, USA",
         "Product 6"
        ]
       ],
       "shape": {
        "columns": 25,
        "rows": 3
       }
      },
      "text/html": [
       "<div>\n",
       "<style scoped>\n",
       "    .dataframe tbody tr th:only-of-type {\n",
       "        vertical-align: middle;\n",
       "    }\n",
       "\n",
       "    .dataframe tbody tr th {\n",
       "        vertical-align: top;\n",
       "    }\n",
       "\n",
       "    .dataframe thead th {\n",
       "        text-align: right;\n",
       "    }\n",
       "</style>\n",
       "<table border=\"1\" class=\"dataframe\">\n",
       "  <thead>\n",
       "    <tr style=\"text-align: right;\">\n",
       "      <th></th>\n",
       "      <th>Transaction_ID</th>\n",
       "      <th>Date</th>\n",
       "      <th>Customer_ID</th>\n",
       "      <th>Product_ID</th>\n",
       "      <th>Quantity</th>\n",
       "      <th>Unit_Price</th>\n",
       "      <th>Total_Cost</th>\n",
       "      <th>Discount_Rate</th>\n",
       "      <th>Sales_Channel</th>\n",
       "      <th>Order_Priority</th>\n",
       "      <th>...</th>\n",
       "      <th>Return_Reason</th>\n",
       "      <th>Payment_Type</th>\n",
       "      <th>Taxable</th>\n",
       "      <th>Region</th>\n",
       "      <th>Country</th>\n",
       "      <th>Customer_Name</th>\n",
       "      <th>Customer_Phone</th>\n",
       "      <th>Customer_Email</th>\n",
       "      <th>Customer_Address</th>\n",
       "      <th>Product_List_Title</th>\n",
       "    </tr>\n",
       "  </thead>\n",
       "  <tbody>\n",
       "    <tr>\n",
       "      <th>0</th>\n",
       "      <td>200</td>\n",
       "      <td>2020-01-01 20:32:25.945945945</td>\n",
       "      <td>1086</td>\n",
       "      <td>536</td>\n",
       "      <td>3</td>\n",
       "      <td>120.436821</td>\n",
       "      <td>8265.374549</td>\n",
       "      <td>0.20</td>\n",
       "      <td>Online</td>\n",
       "      <td>High</td>\n",
       "      <td>...</td>\n",
       "      <td>Wrong Item</td>\n",
       "      <td>Wire Transfer</td>\n",
       "      <td>False</td>\n",
       "      <td>West</td>\n",
       "      <td>Canada</td>\n",
       "      <td>Customer 200</td>\n",
       "      <td>+1-652-572-9306</td>\n",
       "      <td>customer.200.78@example.com</td>\n",
       "      <td>275 Second St, Phoenix, USA</td>\n",
       "      <td>Product 53</td>\n",
       "    </tr>\n",
       "    <tr>\n",
       "      <th>1</th>\n",
       "      <td>321</td>\n",
       "      <td>2020-01-02 06:55:08.108108108</td>\n",
       "      <td>1078</td>\n",
       "      <td>523</td>\n",
       "      <td>6</td>\n",
       "      <td>475.724994</td>\n",
       "      <td>4047.850479</td>\n",
       "      <td>0.00</td>\n",
       "      <td>Reseller</td>\n",
       "      <td>Critical</td>\n",
       "      <td>...</td>\n",
       "      <td>Damaged</td>\n",
       "      <td>PayPal</td>\n",
       "      <td>True</td>\n",
       "      <td>South</td>\n",
       "      <td>Mexico</td>\n",
       "      <td>Customer 321</td>\n",
       "      <td>+1-311-186-5760</td>\n",
       "      <td>customer.321.13@sample.com</td>\n",
       "      <td>478 Third St, New York, USA</td>\n",
       "      <td>Product 33</td>\n",
       "    </tr>\n",
       "    <tr>\n",
       "      <th>2</th>\n",
       "      <td>989</td>\n",
       "      <td>2020-01-06 08:12:58.378378378</td>\n",
       "      <td>1077</td>\n",
       "      <td>535</td>\n",
       "      <td>3</td>\n",
       "      <td>146.400556</td>\n",
       "      <td>5096.553818</td>\n",
       "      <td>0.05</td>\n",
       "      <td>Direct</td>\n",
       "      <td>Critical</td>\n",
       "      <td>...</td>\n",
       "      <td>Damaged</td>\n",
       "      <td>PayPal</td>\n",
       "      <td>True</td>\n",
       "      <td>West</td>\n",
       "      <td>Canada</td>\n",
       "      <td>Customer 989</td>\n",
       "      <td>+1-922-606-9032</td>\n",
       "      <td>customer.989.99@example.com</td>\n",
       "      <td>843 Second St, Phoenix, USA</td>\n",
       "      <td>Product 6</td>\n",
       "    </tr>\n",
       "  </tbody>\n",
       "</table>\n",
       "<p>3 rows × 25 columns</p>\n",
       "</div>"
      ],
      "text/plain": [
       "   Transaction_ID                           Date  Customer_ID  Product_ID  \\\n",
       "0             200  2020-01-01 20:32:25.945945945         1086         536   \n",
       "1             321  2020-01-02 06:55:08.108108108         1078         523   \n",
       "2             989  2020-01-06 08:12:58.378378378         1077         535   \n",
       "\n",
       "   Quantity  Unit_Price   Total_Cost  Discount_Rate Sales_Channel  \\\n",
       "0         3  120.436821  8265.374549           0.20        Online   \n",
       "1         6  475.724994  4047.850479           0.00      Reseller   \n",
       "2         3  146.400556  5096.553818           0.05        Direct   \n",
       "\n",
       "  Order_Priority  ... Return_Reason   Payment_Type Taxable Region  Country  \\\n",
       "0           High  ...    Wrong Item  Wire Transfer   False   West   Canada   \n",
       "1       Critical  ...       Damaged         PayPal    True  South   Mexico   \n",
       "2       Critical  ...       Damaged         PayPal    True   West   Canada   \n",
       "\n",
       "  Customer_Name   Customer_Phone               Customer_Email  \\\n",
       "0  Customer 200  +1-652-572-9306  customer.200.78@example.com   \n",
       "1  Customer 321  +1-311-186-5760   customer.321.13@sample.com   \n",
       "2  Customer 989  +1-922-606-9032  customer.989.99@example.com   \n",
       "\n",
       "              Customer_Address Product_List_Title  \n",
       "0  275 Second St, Phoenix, USA         Product 53  \n",
       "1  478 Third St, New York, USA         Product 33  \n",
       "2  843 Second St, Phoenix, USA          Product 6  \n",
       "\n",
       "[3 rows x 25 columns]"
      ]
     },
     "execution_count": 4,
     "metadata": {},
     "output_type": "execute_result"
    }
   ],
   "source": [
    "# Step 1: Handle missing values\n",
    "df = ziko_df.copy()\n",
    "df.fillna({\n",
    "    \"Unit_Price\": df[\"Unit_Price\"].mean(),\n",
    "    \"Total_Cost\": df[\"Total_Cost\"].mean(),\n",
    "    \"Discount_Rate\": 0.0,\n",
    "    \"Return_Reason\": \"Unknown\"\n",
    "}, inplace=True)\n",
    "df.head(3)"
   ]
  },
  {
   "cell_type": "code",
   "execution_count": 5,
   "id": "b6fe9940",
   "metadata": {},
   "outputs": [
    {
     "data": {
      "application/vnd.microsoft.datawrangler.viewer.v0+json": {
       "columns": [
        {
         "name": "index",
         "rawType": "int64",
         "type": "integer"
        },
        {
         "name": "Transaction_ID",
         "rawType": "int64",
         "type": "integer"
        },
        {
         "name": "Date",
         "rawType": "datetime64[ns]",
         "type": "datetime"
        },
        {
         "name": "Customer_ID",
         "rawType": "int64",
         "type": "integer"
        },
        {
         "name": "Product_ID",
         "rawType": "int64",
         "type": "integer"
        },
        {
         "name": "Quantity",
         "rawType": "int64",
         "type": "integer"
        },
        {
         "name": "Unit_Price",
         "rawType": "float64",
         "type": "float"
        },
        {
         "name": "Total_Cost",
         "rawType": "float64",
         "type": "float"
        },
        {
         "name": "Discount_Rate",
         "rawType": "float64",
         "type": "float"
        },
        {
         "name": "Sales_Channel",
         "rawType": "object",
         "type": "string"
        },
        {
         "name": "Order_Priority",
         "rawType": "object",
         "type": "string"
        },
        {
         "name": "Warehouse_Code",
         "rawType": "object",
         "type": "string"
        },
        {
         "name": "Ship_Mode",
         "rawType": "object",
         "type": "string"
        },
        {
         "name": "Delivery_Status",
         "rawType": "object",
         "type": "string"
        },
        {
         "name": "Customer_Satisfaction",
         "rawType": "object",
         "type": "string"
        },
        {
         "name": "Item_Returned",
         "rawType": "bool",
         "type": "boolean"
        },
        {
         "name": "Return_Reason",
         "rawType": "object",
         "type": "string"
        },
        {
         "name": "Payment_Type",
         "rawType": "object",
         "type": "string"
        },
        {
         "name": "Taxable",
         "rawType": "bool",
         "type": "boolean"
        },
        {
         "name": "Region",
         "rawType": "object",
         "type": "string"
        },
        {
         "name": "Country",
         "rawType": "object",
         "type": "string"
        },
        {
         "name": "Customer_Name",
         "rawType": "object",
         "type": "string"
        },
        {
         "name": "Customer_Phone",
         "rawType": "object",
         "type": "string"
        },
        {
         "name": "Customer_Email",
         "rawType": "object",
         "type": "string"
        },
        {
         "name": "Customer_Address",
         "rawType": "object",
         "type": "string"
        },
        {
         "name": "Product_List_Title",
         "rawType": "object",
         "type": "string"
        }
       ],
       "ref": "1c03893a-58d7-47ef-bac8-4f83fd8172a8",
       "rows": [
        [
         "0",
         "200",
         "2020-01-01 20:32:25.945945945",
         "1086",
         "536",
         "3",
         "120.43682132331526",
         "8265.37454940804",
         "0.2",
         "online",
         "high",
         "wh-3",
         "2-day",
         "cancelled",
         "neutral",
         "False",
         "wrong item",
         "wire transfer",
         "False",
         "west",
         "canada",
         "customer 200",
         "+1-652-572-9306",
         "customer.200.78@example.com",
         "275 second st, phoenix, usa",
         "product 53"
        ],
        [
         "1",
         "321",
         "2020-01-02 06:55:08.108108108",
         "1078",
         "523",
         "6",
         "475.7249935818949",
         "4047.8504787607",
         "0.0",
         "reseller",
         "critical",
         "wh-1",
         "overnight",
         "backorder",
         "satisfied",
         "True",
         "damaged",
         "paypal",
         "True",
         "south",
         "mexico",
         "customer 321",
         "+1-311-186-5760",
         "customer.321.13@sample.com",
         "478 third st, new york, usa",
         "product 33"
        ],
        [
         "2",
         "989",
         "2020-01-06 08:12:58.378378378",
         "1077",
         "535",
         "3",
         "146.40055601470172",
         "5096.553818483975",
         "0.05",
         "direct",
         "critical",
         "wh-1",
         "overnight",
         "pending",
         "unsatisfied",
         "True",
         "damaged",
         "paypal",
         "True",
         "west",
         "canada",
         "customer 989",
         "+1-922-606-9032",
         "customer.989.99@example.com",
         "843 second st, phoenix, usa",
         "product 6"
        ]
       ],
       "shape": {
        "columns": 25,
        "rows": 3
       }
      },
      "text/html": [
       "<div>\n",
       "<style scoped>\n",
       "    .dataframe tbody tr th:only-of-type {\n",
       "        vertical-align: middle;\n",
       "    }\n",
       "\n",
       "    .dataframe tbody tr th {\n",
       "        vertical-align: top;\n",
       "    }\n",
       "\n",
       "    .dataframe thead th {\n",
       "        text-align: right;\n",
       "    }\n",
       "</style>\n",
       "<table border=\"1\" class=\"dataframe\">\n",
       "  <thead>\n",
       "    <tr style=\"text-align: right;\">\n",
       "      <th></th>\n",
       "      <th>Transaction_ID</th>\n",
       "      <th>Date</th>\n",
       "      <th>Customer_ID</th>\n",
       "      <th>Product_ID</th>\n",
       "      <th>Quantity</th>\n",
       "      <th>Unit_Price</th>\n",
       "      <th>Total_Cost</th>\n",
       "      <th>Discount_Rate</th>\n",
       "      <th>Sales_Channel</th>\n",
       "      <th>Order_Priority</th>\n",
       "      <th>...</th>\n",
       "      <th>Return_Reason</th>\n",
       "      <th>Payment_Type</th>\n",
       "      <th>Taxable</th>\n",
       "      <th>Region</th>\n",
       "      <th>Country</th>\n",
       "      <th>Customer_Name</th>\n",
       "      <th>Customer_Phone</th>\n",
       "      <th>Customer_Email</th>\n",
       "      <th>Customer_Address</th>\n",
       "      <th>Product_List_Title</th>\n",
       "    </tr>\n",
       "  </thead>\n",
       "  <tbody>\n",
       "    <tr>\n",
       "      <th>0</th>\n",
       "      <td>200</td>\n",
       "      <td>2020-01-01 20:32:25.945945945</td>\n",
       "      <td>1086</td>\n",
       "      <td>536</td>\n",
       "      <td>3</td>\n",
       "      <td>120.436821</td>\n",
       "      <td>8265.374549</td>\n",
       "      <td>0.20</td>\n",
       "      <td>online</td>\n",
       "      <td>high</td>\n",
       "      <td>...</td>\n",
       "      <td>wrong item</td>\n",
       "      <td>wire transfer</td>\n",
       "      <td>False</td>\n",
       "      <td>west</td>\n",
       "      <td>canada</td>\n",
       "      <td>customer 200</td>\n",
       "      <td>+1-652-572-9306</td>\n",
       "      <td>customer.200.78@example.com</td>\n",
       "      <td>275 second st, phoenix, usa</td>\n",
       "      <td>product 53</td>\n",
       "    </tr>\n",
       "    <tr>\n",
       "      <th>1</th>\n",
       "      <td>321</td>\n",
       "      <td>2020-01-02 06:55:08.108108108</td>\n",
       "      <td>1078</td>\n",
       "      <td>523</td>\n",
       "      <td>6</td>\n",
       "      <td>475.724994</td>\n",
       "      <td>4047.850479</td>\n",
       "      <td>0.00</td>\n",
       "      <td>reseller</td>\n",
       "      <td>critical</td>\n",
       "      <td>...</td>\n",
       "      <td>damaged</td>\n",
       "      <td>paypal</td>\n",
       "      <td>True</td>\n",
       "      <td>south</td>\n",
       "      <td>mexico</td>\n",
       "      <td>customer 321</td>\n",
       "      <td>+1-311-186-5760</td>\n",
       "      <td>customer.321.13@sample.com</td>\n",
       "      <td>478 third st, new york, usa</td>\n",
       "      <td>product 33</td>\n",
       "    </tr>\n",
       "    <tr>\n",
       "      <th>2</th>\n",
       "      <td>989</td>\n",
       "      <td>2020-01-06 08:12:58.378378378</td>\n",
       "      <td>1077</td>\n",
       "      <td>535</td>\n",
       "      <td>3</td>\n",
       "      <td>146.400556</td>\n",
       "      <td>5096.553818</td>\n",
       "      <td>0.05</td>\n",
       "      <td>direct</td>\n",
       "      <td>critical</td>\n",
       "      <td>...</td>\n",
       "      <td>damaged</td>\n",
       "      <td>paypal</td>\n",
       "      <td>True</td>\n",
       "      <td>west</td>\n",
       "      <td>canada</td>\n",
       "      <td>customer 989</td>\n",
       "      <td>+1-922-606-9032</td>\n",
       "      <td>customer.989.99@example.com</td>\n",
       "      <td>843 second st, phoenix, usa</td>\n",
       "      <td>product 6</td>\n",
       "    </tr>\n",
       "  </tbody>\n",
       "</table>\n",
       "<p>3 rows × 25 columns</p>\n",
       "</div>"
      ],
      "text/plain": [
       "   Transaction_ID                          Date  Customer_ID  Product_ID  \\\n",
       "0             200 2020-01-01 20:32:25.945945945         1086         536   \n",
       "1             321 2020-01-02 06:55:08.108108108         1078         523   \n",
       "2             989 2020-01-06 08:12:58.378378378         1077         535   \n",
       "\n",
       "   Quantity  Unit_Price   Total_Cost  Discount_Rate Sales_Channel  \\\n",
       "0         3  120.436821  8265.374549           0.20        online   \n",
       "1         6  475.724994  4047.850479           0.00      reseller   \n",
       "2         3  146.400556  5096.553818           0.05        direct   \n",
       "\n",
       "  Order_Priority  ... Return_Reason   Payment_Type Taxable Region  Country  \\\n",
       "0           high  ...    wrong item  wire transfer   False   west   canada   \n",
       "1       critical  ...       damaged         paypal    True  south   mexico   \n",
       "2       critical  ...       damaged         paypal    True   west   canada   \n",
       "\n",
       "  Customer_Name   Customer_Phone               Customer_Email  \\\n",
       "0  customer 200  +1-652-572-9306  customer.200.78@example.com   \n",
       "1  customer 321  +1-311-186-5760   customer.321.13@sample.com   \n",
       "2  customer 989  +1-922-606-9032  customer.989.99@example.com   \n",
       "\n",
       "              Customer_Address Product_List_Title  \n",
       "0  275 second st, phoenix, usa         product 53  \n",
       "1  478 third st, new york, usa         product 33  \n",
       "2  843 second st, phoenix, usa          product 6  \n",
       "\n",
       "[3 rows x 25 columns]"
      ]
     },
     "execution_count": 5,
     "metadata": {},
     "output_type": "execute_result"
    }
   ],
   "source": [
    "# Step 2: Normalize columns — cast to correct types\n",
    "df[\"Date\"] = pd.to_datetime(df[\"Date\"], errors='coerce')\n",
    "\n",
    "# Convert all object-type columns to lowercase strings (where applicable)\n",
    "df = df.apply(lambda col: col.str.lower() if col.dtype == \"object\" else col)\n",
    "\n",
    "# clean column names to snake_case if needed\n",
    "#df.columns = df.columns.str.lower().str.replace(\" \", \"_\")\n",
    "df.head(3)  "
   ]
  },
  {
   "cell_type": "markdown",
   "id": "5fedb414",
   "metadata": {},
   "source": [
    "#### Step 3: Create Dimension Tables"
   ]
  },
  {
   "cell_type": "code",
   "execution_count": 6,
   "id": "f36573c5",
   "metadata": {},
   "outputs": [
    {
     "data": {
      "application/vnd.microsoft.datawrangler.viewer.v0+json": {
       "columns": [
        {
         "name": "index",
         "rawType": "int64",
         "type": "integer"
        },
        {
         "name": "Customer_ID",
         "rawType": "int64",
         "type": "integer"
        },
        {
         "name": "Customer_Name",
         "rawType": "object",
         "type": "string"
        },
        {
         "name": "Customer_Phone",
         "rawType": "object",
         "type": "string"
        },
        {
         "name": "Customer_Email",
         "rawType": "object",
         "type": "string"
        },
        {
         "name": "Customer_Address",
         "rawType": "object",
         "type": "string"
        },
        {
         "name": "Region",
         "rawType": "object",
         "type": "string"
        },
        {
         "name": "Country",
         "rawType": "object",
         "type": "string"
        }
       ],
       "ref": "ab654200-ca6b-4a05-8b9f-1e52276db918",
       "rows": [
        [
         "0",
         "1086",
         "customer 200",
         "+1-652-572-9306",
         "customer.200.78@example.com",
         "275 second st, phoenix, usa",
         "west",
         "canada"
        ],
        [
         "1",
         "1078",
         "customer 321",
         "+1-311-186-5760",
         "customer.321.13@sample.com",
         "478 third st, new york, usa",
         "south",
         "mexico"
        ],
        [
         "2",
         "1077",
         "customer 989",
         "+1-922-606-9032",
         "customer.989.99@example.com",
         "843 second st, phoenix, usa",
         "west",
         "canada"
        ]
       ],
       "shape": {
        "columns": 7,
        "rows": 3
       }
      },
      "text/html": [
       "<div>\n",
       "<style scoped>\n",
       "    .dataframe tbody tr th:only-of-type {\n",
       "        vertical-align: middle;\n",
       "    }\n",
       "\n",
       "    .dataframe tbody tr th {\n",
       "        vertical-align: top;\n",
       "    }\n",
       "\n",
       "    .dataframe thead th {\n",
       "        text-align: right;\n",
       "    }\n",
       "</style>\n",
       "<table border=\"1\" class=\"dataframe\">\n",
       "  <thead>\n",
       "    <tr style=\"text-align: right;\">\n",
       "      <th></th>\n",
       "      <th>Customer_ID</th>\n",
       "      <th>Customer_Name</th>\n",
       "      <th>Customer_Phone</th>\n",
       "      <th>Customer_Email</th>\n",
       "      <th>Customer_Address</th>\n",
       "      <th>Region</th>\n",
       "      <th>Country</th>\n",
       "    </tr>\n",
       "  </thead>\n",
       "  <tbody>\n",
       "    <tr>\n",
       "      <th>0</th>\n",
       "      <td>1086</td>\n",
       "      <td>customer 200</td>\n",
       "      <td>+1-652-572-9306</td>\n",
       "      <td>customer.200.78@example.com</td>\n",
       "      <td>275 second st, phoenix, usa</td>\n",
       "      <td>west</td>\n",
       "      <td>canada</td>\n",
       "    </tr>\n",
       "    <tr>\n",
       "      <th>1</th>\n",
       "      <td>1078</td>\n",
       "      <td>customer 321</td>\n",
       "      <td>+1-311-186-5760</td>\n",
       "      <td>customer.321.13@sample.com</td>\n",
       "      <td>478 third st, new york, usa</td>\n",
       "      <td>south</td>\n",
       "      <td>mexico</td>\n",
       "    </tr>\n",
       "    <tr>\n",
       "      <th>2</th>\n",
       "      <td>1077</td>\n",
       "      <td>customer 989</td>\n",
       "      <td>+1-922-606-9032</td>\n",
       "      <td>customer.989.99@example.com</td>\n",
       "      <td>843 second st, phoenix, usa</td>\n",
       "      <td>west</td>\n",
       "      <td>canada</td>\n",
       "    </tr>\n",
       "  </tbody>\n",
       "</table>\n",
       "</div>"
      ],
      "text/plain": [
       "   Customer_ID Customer_Name   Customer_Phone               Customer_Email  \\\n",
       "0         1086  customer 200  +1-652-572-9306  customer.200.78@example.com   \n",
       "1         1078  customer 321  +1-311-186-5760   customer.321.13@sample.com   \n",
       "2         1077  customer 989  +1-922-606-9032  customer.989.99@example.com   \n",
       "\n",
       "              Customer_Address Region Country  \n",
       "0  275 second st, phoenix, usa   west  canada  \n",
       "1  478 third st, new york, usa  south  mexico  \n",
       "2  843 second st, phoenix, usa   west  canada  "
      ]
     },
     "execution_count": 6,
     "metadata": {},
     "output_type": "execute_result"
    }
   ],
   "source": [
    "dim_customer = df[[\n",
    "    \"Customer_ID\", \"Customer_Name\", \"Customer_Phone\", \"Customer_Email\",\n",
    "    \"Customer_Address\", \"Region\", \"Country\"\n",
    "]].drop_duplicates(subset=[\"Customer_ID\"]).reset_index(drop=True)\n",
    "\n",
    "\n",
    "dim_customer.head(3)"
   ]
  },
  {
   "cell_type": "code",
   "execution_count": 7,
   "id": "ab59c550",
   "metadata": {},
   "outputs": [
    {
     "data": {
      "application/vnd.microsoft.datawrangler.viewer.v0+json": {
       "columns": [
        {
         "name": "index",
         "rawType": "int64",
         "type": "integer"
        },
        {
         "name": "Product_ID",
         "rawType": "int64",
         "type": "integer"
        },
        {
         "name": "Product_List_Title",
         "rawType": "object",
         "type": "string"
        }
       ],
       "ref": "9e6f5aee-cbe9-4056-aa44-d8e3323f83db",
       "rows": [
        [
         "0",
         "536",
         "product 53"
        ],
        [
         "1",
         "523",
         "product 33"
        ],
        [
         "2",
         "535",
         "product 6"
        ],
        [
         "3",
         "546",
         "product 68"
        ],
        [
         "4",
         "556",
         "product 89"
        ]
       ],
       "shape": {
        "columns": 2,
        "rows": 5
       }
      },
      "text/html": [
       "<div>\n",
       "<style scoped>\n",
       "    .dataframe tbody tr th:only-of-type {\n",
       "        vertical-align: middle;\n",
       "    }\n",
       "\n",
       "    .dataframe tbody tr th {\n",
       "        vertical-align: top;\n",
       "    }\n",
       "\n",
       "    .dataframe thead th {\n",
       "        text-align: right;\n",
       "    }\n",
       "</style>\n",
       "<table border=\"1\" class=\"dataframe\">\n",
       "  <thead>\n",
       "    <tr style=\"text-align: right;\">\n",
       "      <th></th>\n",
       "      <th>Product_ID</th>\n",
       "      <th>Product_List_Title</th>\n",
       "    </tr>\n",
       "  </thead>\n",
       "  <tbody>\n",
       "    <tr>\n",
       "      <th>0</th>\n",
       "      <td>536</td>\n",
       "      <td>product 53</td>\n",
       "    </tr>\n",
       "    <tr>\n",
       "      <th>1</th>\n",
       "      <td>523</td>\n",
       "      <td>product 33</td>\n",
       "    </tr>\n",
       "    <tr>\n",
       "      <th>2</th>\n",
       "      <td>535</td>\n",
       "      <td>product 6</td>\n",
       "    </tr>\n",
       "    <tr>\n",
       "      <th>3</th>\n",
       "      <td>546</td>\n",
       "      <td>product 68</td>\n",
       "    </tr>\n",
       "    <tr>\n",
       "      <th>4</th>\n",
       "      <td>556</td>\n",
       "      <td>product 89</td>\n",
       "    </tr>\n",
       "  </tbody>\n",
       "</table>\n",
       "</div>"
      ],
      "text/plain": [
       "   Product_ID Product_List_Title\n",
       "0         536         product 53\n",
       "1         523         product 33\n",
       "2         535          product 6\n",
       "3         546         product 68\n",
       "4         556         product 89"
      ]
     },
     "execution_count": 7,
     "metadata": {},
     "output_type": "execute_result"
    }
   ],
   "source": [
    "dim_product = df[[\n",
    "    \"Product_ID\", \"Product_List_Title\"\n",
    "]].drop_duplicates(subset=[\"Product_ID\"]).reset_index(drop=True)\n",
    "dim_product.head()"
   ]
  },
  {
   "cell_type": "code",
   "execution_count": 8,
   "id": "15a9a0bc",
   "metadata": {},
   "outputs": [
    {
     "data": {
      "application/vnd.microsoft.datawrangler.viewer.v0+json": {
       "columns": [
        {
         "name": "index",
         "rawType": "int64",
         "type": "integer"
        },
        {
         "name": "Warehouse_ID",
         "rawType": "int64",
         "type": "integer"
        },
        {
         "name": "Warehouse_Code",
         "rawType": "object",
         "type": "string"
        },
        {
         "name": "Ship_Mode",
         "rawType": "object",
         "type": "string"
        },
        {
         "name": "Delivery_Status",
         "rawType": "object",
         "type": "string"
        }
       ],
       "ref": "2d4cbc04-5918-48e0-968f-d06a984bf3cf",
       "rows": [
        [
         "0",
         "1",
         "wh-3",
         "2-day",
         "cancelled"
        ],
        [
         "1",
         "2",
         "wh-1",
         "overnight",
         "backorder"
        ],
        [
         "2",
         "3",
         "wh-2",
         "2-day",
         "delivered"
        ]
       ],
       "shape": {
        "columns": 4,
        "rows": 3
       }
      },
      "text/html": [
       "<div>\n",
       "<style scoped>\n",
       "    .dataframe tbody tr th:only-of-type {\n",
       "        vertical-align: middle;\n",
       "    }\n",
       "\n",
       "    .dataframe tbody tr th {\n",
       "        vertical-align: top;\n",
       "    }\n",
       "\n",
       "    .dataframe thead th {\n",
       "        text-align: right;\n",
       "    }\n",
       "</style>\n",
       "<table border=\"1\" class=\"dataframe\">\n",
       "  <thead>\n",
       "    <tr style=\"text-align: right;\">\n",
       "      <th></th>\n",
       "      <th>Warehouse_ID</th>\n",
       "      <th>Warehouse_Code</th>\n",
       "      <th>Ship_Mode</th>\n",
       "      <th>Delivery_Status</th>\n",
       "    </tr>\n",
       "  </thead>\n",
       "  <tbody>\n",
       "    <tr>\n",
       "      <th>0</th>\n",
       "      <td>1</td>\n",
       "      <td>wh-3</td>\n",
       "      <td>2-day</td>\n",
       "      <td>cancelled</td>\n",
       "    </tr>\n",
       "    <tr>\n",
       "      <th>1</th>\n",
       "      <td>2</td>\n",
       "      <td>wh-1</td>\n",
       "      <td>overnight</td>\n",
       "      <td>backorder</td>\n",
       "    </tr>\n",
       "    <tr>\n",
       "      <th>2</th>\n",
       "      <td>3</td>\n",
       "      <td>wh-2</td>\n",
       "      <td>2-day</td>\n",
       "      <td>delivered</td>\n",
       "    </tr>\n",
       "  </tbody>\n",
       "</table>\n",
       "</div>"
      ],
      "text/plain": [
       "   Warehouse_ID Warehouse_Code  Ship_Mode Delivery_Status\n",
       "0             1           wh-3      2-day       cancelled\n",
       "1             2           wh-1  overnight       backorder\n",
       "2             3           wh-2      2-day       delivered"
      ]
     },
     "execution_count": 8,
     "metadata": {},
     "output_type": "execute_result"
    }
   ],
   "source": [
    "dim_warehouse = df[[\n",
    "    \"Warehouse_Code\", \"Ship_Mode\", \"Delivery_Status\"]].drop_duplicates(subset=[\"Warehouse_Code\"]).reset_index(drop=True)\n",
    "\n",
    "dim_warehouse[\"Warehouse_ID\"] = dim_warehouse.index + 1\n",
    "dim_warehouse = dim_warehouse[[\"Warehouse_ID\", \"Warehouse_Code\", \"Ship_Mode\", \"Delivery_Status\"]]\n",
    "\n",
    "dim_warehouse.head()   "
   ]
  },
  {
   "cell_type": "code",
   "execution_count": 9,
   "id": "b9cf80a0",
   "metadata": {},
   "outputs": [
    {
     "data": {
      "application/vnd.microsoft.datawrangler.viewer.v0+json": {
       "columns": [
        {
         "name": "index",
         "rawType": "int64",
         "type": "integer"
        },
        {
         "name": "Payment_ID",
         "rawType": "int64",
         "type": "integer"
        },
        {
         "name": "Payment_Type",
         "rawType": "object",
         "type": "string"
        }
       ],
       "ref": "60a5d6e2-4c8f-405f-8f8b-6bdb8c54da9a",
       "rows": [
        [
         "0",
         "1",
         "wire transfer"
        ],
        [
         "1",
         "2",
         "paypal"
        ],
        [
         "2",
         "3",
         "cash"
        ],
        [
         "3",
         "4",
         "credit card"
        ]
       ],
       "shape": {
        "columns": 2,
        "rows": 4
       }
      },
      "text/html": [
       "<div>\n",
       "<style scoped>\n",
       "    .dataframe tbody tr th:only-of-type {\n",
       "        vertical-align: middle;\n",
       "    }\n",
       "\n",
       "    .dataframe tbody tr th {\n",
       "        vertical-align: top;\n",
       "    }\n",
       "\n",
       "    .dataframe thead th {\n",
       "        text-align: right;\n",
       "    }\n",
       "</style>\n",
       "<table border=\"1\" class=\"dataframe\">\n",
       "  <thead>\n",
       "    <tr style=\"text-align: right;\">\n",
       "      <th></th>\n",
       "      <th>Payment_ID</th>\n",
       "      <th>Payment_Type</th>\n",
       "    </tr>\n",
       "  </thead>\n",
       "  <tbody>\n",
       "    <tr>\n",
       "      <th>0</th>\n",
       "      <td>1</td>\n",
       "      <td>wire transfer</td>\n",
       "    </tr>\n",
       "    <tr>\n",
       "      <th>1</th>\n",
       "      <td>2</td>\n",
       "      <td>paypal</td>\n",
       "    </tr>\n",
       "    <tr>\n",
       "      <th>2</th>\n",
       "      <td>3</td>\n",
       "      <td>cash</td>\n",
       "    </tr>\n",
       "    <tr>\n",
       "      <th>3</th>\n",
       "      <td>4</td>\n",
       "      <td>credit card</td>\n",
       "    </tr>\n",
       "  </tbody>\n",
       "</table>\n",
       "</div>"
      ],
      "text/plain": [
       "   Payment_ID   Payment_Type\n",
       "0           1  wire transfer\n",
       "1           2         paypal\n",
       "2           3           cash\n",
       "3           4    credit card"
      ]
     },
     "execution_count": 9,
     "metadata": {},
     "output_type": "execute_result"
    }
   ],
   "source": [
    "dim_payment = df[[\"Payment_Type\"]].drop_duplicates().reset_index(drop=True)\n",
    "dim_payment[\"Payment_ID\"] = dim_payment.index + 1\n",
    "dim_payment = dim_payment[[\"Payment_ID\", \"Payment_Type\"]]\n",
    "\n",
    "dim_payment.head()     "
   ]
  },
  {
   "cell_type": "code",
   "execution_count": 10,
   "id": "9e26ff84",
   "metadata": {},
   "outputs": [
    {
     "data": {
      "application/vnd.microsoft.datawrangler.viewer.v0+json": {
       "columns": [
        {
         "name": "index",
         "rawType": "int64",
         "type": "integer"
        },
        {
         "name": "Transaction_ID",
         "rawType": "int64",
         "type": "integer"
        },
        {
         "name": "Sales_Channel",
         "rawType": "object",
         "type": "string"
        },
        {
         "name": "Order_Priority",
         "rawType": "object",
         "type": "string"
        },
        {
         "name": "Taxable",
         "rawType": "bool",
         "type": "boolean"
        },
        {
         "name": "Item_Returned",
         "rawType": "bool",
         "type": "boolean"
        },
        {
         "name": "Return_Reason",
         "rawType": "object",
         "type": "string"
        },
        {
         "name": "Customer_Satisfaction",
         "rawType": "object",
         "type": "string"
        }
       ],
       "ref": "e3c002cc-ae37-4481-8e25-8846072c79b3",
       "rows": [
        [
         "0",
         "200",
         "online",
         "high",
         "False",
         "False",
         "wrong item",
         "neutral"
        ],
        [
         "1",
         "321",
         "reseller",
         "critical",
         "True",
         "True",
         "damaged",
         "satisfied"
        ],
        [
         "2",
         "989",
         "direct",
         "critical",
         "True",
         "True",
         "damaged",
         "unsatisfied"
        ],
        [
         "3",
         "682",
         "reseller",
         "medium",
         "True",
         "False",
         "wrong item",
         "unsatisfied"
        ],
        [
         "4",
         "484",
         "direct",
         "low",
         "False",
         "True",
         "late",
         "satisfied"
        ]
       ],
       "shape": {
        "columns": 7,
        "rows": 5
       }
      },
      "text/html": [
       "<div>\n",
       "<style scoped>\n",
       "    .dataframe tbody tr th:only-of-type {\n",
       "        vertical-align: middle;\n",
       "    }\n",
       "\n",
       "    .dataframe tbody tr th {\n",
       "        vertical-align: top;\n",
       "    }\n",
       "\n",
       "    .dataframe thead th {\n",
       "        text-align: right;\n",
       "    }\n",
       "</style>\n",
       "<table border=\"1\" class=\"dataframe\">\n",
       "  <thead>\n",
       "    <tr style=\"text-align: right;\">\n",
       "      <th></th>\n",
       "      <th>Transaction_ID</th>\n",
       "      <th>Sales_Channel</th>\n",
       "      <th>Order_Priority</th>\n",
       "      <th>Taxable</th>\n",
       "      <th>Item_Returned</th>\n",
       "      <th>Return_Reason</th>\n",
       "      <th>Customer_Satisfaction</th>\n",
       "    </tr>\n",
       "  </thead>\n",
       "  <tbody>\n",
       "    <tr>\n",
       "      <th>0</th>\n",
       "      <td>200</td>\n",
       "      <td>online</td>\n",
       "      <td>high</td>\n",
       "      <td>False</td>\n",
       "      <td>False</td>\n",
       "      <td>wrong item</td>\n",
       "      <td>neutral</td>\n",
       "    </tr>\n",
       "    <tr>\n",
       "      <th>1</th>\n",
       "      <td>321</td>\n",
       "      <td>reseller</td>\n",
       "      <td>critical</td>\n",
       "      <td>True</td>\n",
       "      <td>True</td>\n",
       "      <td>damaged</td>\n",
       "      <td>satisfied</td>\n",
       "    </tr>\n",
       "    <tr>\n",
       "      <th>2</th>\n",
       "      <td>989</td>\n",
       "      <td>direct</td>\n",
       "      <td>critical</td>\n",
       "      <td>True</td>\n",
       "      <td>True</td>\n",
       "      <td>damaged</td>\n",
       "      <td>unsatisfied</td>\n",
       "    </tr>\n",
       "    <tr>\n",
       "      <th>3</th>\n",
       "      <td>682</td>\n",
       "      <td>reseller</td>\n",
       "      <td>medium</td>\n",
       "      <td>True</td>\n",
       "      <td>False</td>\n",
       "      <td>wrong item</td>\n",
       "      <td>unsatisfied</td>\n",
       "    </tr>\n",
       "    <tr>\n",
       "      <th>4</th>\n",
       "      <td>484</td>\n",
       "      <td>direct</td>\n",
       "      <td>low</td>\n",
       "      <td>False</td>\n",
       "      <td>True</td>\n",
       "      <td>late</td>\n",
       "      <td>satisfied</td>\n",
       "    </tr>\n",
       "  </tbody>\n",
       "</table>\n",
       "</div>"
      ],
      "text/plain": [
       "   Transaction_ID Sales_Channel Order_Priority  Taxable  Item_Returned  \\\n",
       "0             200        online           high    False          False   \n",
       "1             321      reseller       critical     True           True   \n",
       "2             989        direct       critical     True           True   \n",
       "3             682      reseller         medium     True          False   \n",
       "4             484        direct            low    False           True   \n",
       "\n",
       "  Return_Reason Customer_Satisfaction  \n",
       "0    wrong item               neutral  \n",
       "1       damaged             satisfied  \n",
       "2       damaged           unsatisfied  \n",
       "3    wrong item           unsatisfied  \n",
       "4          late             satisfied  "
      ]
     },
     "execution_count": 10,
     "metadata": {},
     "output_type": "execute_result"
    }
   ],
   "source": [
    "dim_order = df[[\n",
    "    \"Transaction_ID\", \"Sales_Channel\", \"Order_Priority\", \"Taxable\",\n",
    "    \"Item_Returned\", \"Return_Reason\", \"Customer_Satisfaction\"\n",
    "]].drop_duplicates(subset=[\"Transaction_ID\"]).reset_index(drop=True)\n",
    "\n",
    "dim_order.head()"
   ]
  },
  {
   "cell_type": "code",
   "execution_count": 11,
   "id": "949d8fe1",
   "metadata": {},
   "outputs": [
    {
     "data": {
      "application/vnd.microsoft.datawrangler.viewer.v0+json": {
       "columns": [
        {
         "name": "index",
         "rawType": "int64",
         "type": "integer"
        },
        {
         "name": "Date_ID",
         "rawType": "int64",
         "type": "integer"
        },
        {
         "name": "Date",
         "rawType": "datetime64[ns]",
         "type": "datetime"
        }
       ],
       "ref": "a3da65a1-c12b-4370-b41e-52006ceac8a1",
       "rows": [
        [
         "0",
         "1",
         "2020-01-01 20:32:25.945945945"
        ],
        [
         "1",
         "2",
         "2020-01-02 06:55:08.108108108"
        ],
        [
         "2",
         "3",
         "2020-01-06 08:12:58.378378378"
        ],
        [
         "3",
         "4",
         "2020-01-07 22:03:14.594594594"
        ],
        [
         "4",
         "5",
         "2020-01-07 07:08:06.486486486"
        ]
       ],
       "shape": {
        "columns": 2,
        "rows": 5
       }
      },
      "text/html": [
       "<div>\n",
       "<style scoped>\n",
       "    .dataframe tbody tr th:only-of-type {\n",
       "        vertical-align: middle;\n",
       "    }\n",
       "\n",
       "    .dataframe tbody tr th {\n",
       "        vertical-align: top;\n",
       "    }\n",
       "\n",
       "    .dataframe thead th {\n",
       "        text-align: right;\n",
       "    }\n",
       "</style>\n",
       "<table border=\"1\" class=\"dataframe\">\n",
       "  <thead>\n",
       "    <tr style=\"text-align: right;\">\n",
       "      <th></th>\n",
       "      <th>Date_ID</th>\n",
       "      <th>Date</th>\n",
       "    </tr>\n",
       "  </thead>\n",
       "  <tbody>\n",
       "    <tr>\n",
       "      <th>0</th>\n",
       "      <td>1</td>\n",
       "      <td>2020-01-01 20:32:25.945945945</td>\n",
       "    </tr>\n",
       "    <tr>\n",
       "      <th>1</th>\n",
       "      <td>2</td>\n",
       "      <td>2020-01-02 06:55:08.108108108</td>\n",
       "    </tr>\n",
       "    <tr>\n",
       "      <th>2</th>\n",
       "      <td>3</td>\n",
       "      <td>2020-01-06 08:12:58.378378378</td>\n",
       "    </tr>\n",
       "    <tr>\n",
       "      <th>3</th>\n",
       "      <td>4</td>\n",
       "      <td>2020-01-07 22:03:14.594594594</td>\n",
       "    </tr>\n",
       "    <tr>\n",
       "      <th>4</th>\n",
       "      <td>5</td>\n",
       "      <td>2020-01-07 07:08:06.486486486</td>\n",
       "    </tr>\n",
       "  </tbody>\n",
       "</table>\n",
       "</div>"
      ],
      "text/plain": [
       "   Date_ID                          Date\n",
       "0        1 2020-01-01 20:32:25.945945945\n",
       "1        2 2020-01-02 06:55:08.108108108\n",
       "2        3 2020-01-06 08:12:58.378378378\n",
       "3        4 2020-01-07 22:03:14.594594594\n",
       "4        5 2020-01-07 07:08:06.486486486"
      ]
     },
     "execution_count": 11,
     "metadata": {},
     "output_type": "execute_result"
    }
   ],
   "source": [
    "dim_date = df[[\"Date\"]].drop_duplicates().reset_index(drop=True)\n",
    "dim_date[\"Date_ID\"] = dim_date.index + 1\n",
    "dim_date = dim_date[[\"Date_ID\", \"Date\"]]\n",
    "\n",
    "dim_date.head()  "
   ]
  },
  {
   "cell_type": "code",
   "execution_count": 12,
   "id": "83c5235e",
   "metadata": {},
   "outputs": [],
   "source": [
    "# Derived Metrics\n",
    "df[\"Revenue\"] = df[\"Quantity\"] * df[\"Unit_Price\"]\n",
    "df[\"Discount_Amount\"] = df[\"Revenue\"] * df[\"Discount_Rate\"]\n",
    "df[\"Net_Revenue\"] = df[\"Revenue\"] - df[\"Discount_Amount\"]\n",
    "df[\"Profit\"] = df[\"Net_Revenue\"] - df[\"Total_Cost\"]\n",
    "\n",
    "df[[\"Revenue\", \"Discount_Amount\", \"Net_Revenue\", \"Unit_Price\", \"Total_Cost\", \"Profit\"]] = \\\n",
    "    df[[\"Revenue\", \"Discount_Amount\", \"Net_Revenue\",\"Unit_Price\" , \"Total_Cost\", \"Profit\"]].round(2)\n"
   ]
  },
  {
   "cell_type": "markdown",
   "id": "f9d0bd86",
   "metadata": {},
   "source": [
    "#### Step 4: Build Fact Table"
   ]
  },
  {
   "cell_type": "code",
   "execution_count": 13,
   "id": "122e5c04",
   "metadata": {},
   "outputs": [
    {
     "data": {
      "application/vnd.microsoft.datawrangler.viewer.v0+json": {
       "columns": [
        {
         "name": "index",
         "rawType": "int64",
         "type": "integer"
        },
        {
         "name": "Transaction_ID",
         "rawType": "int64",
         "type": "integer"
        },
        {
         "name": "Date_ID",
         "rawType": "int64",
         "type": "integer"
        },
        {
         "name": "Customer_ID",
         "rawType": "int64",
         "type": "integer"
        },
        {
         "name": "Product_ID",
         "rawType": "int64",
         "type": "integer"
        },
        {
         "name": "Warehouse_ID",
         "rawType": "int64",
         "type": "integer"
        },
        {
         "name": "Payment_ID",
         "rawType": "int64",
         "type": "integer"
        },
        {
         "name": "Quantity",
         "rawType": "int64",
         "type": "integer"
        },
        {
         "name": "Unit_Price",
         "rawType": "float64",
         "type": "float"
        },
        {
         "name": "Total_Cost",
         "rawType": "float64",
         "type": "float"
        },
        {
         "name": "Revenue",
         "rawType": "float64",
         "type": "float"
        },
        {
         "name": "Discount_Amount",
         "rawType": "float64",
         "type": "float"
        },
        {
         "name": "Net_Revenue",
         "rawType": "float64",
         "type": "float"
        },
        {
         "name": "Profit",
         "rawType": "float64",
         "type": "float"
        }
       ],
       "ref": "b91a5949-3892-4fd1-a1af-9af3e24f939c",
       "rows": [
        [
         "0",
         "200",
         "1",
         "1086",
         "536",
         "1",
         "1",
         "3",
         "120.44",
         "8265.37",
         "361.31",
         "72.26",
         "289.05",
         "-7976.33"
        ],
        [
         "1",
         "321",
         "2",
         "1078",
         "523",
         "2",
         "2",
         "6",
         "475.72",
         "4047.85",
         "2854.35",
         "0.0",
         "2854.35",
         "-1193.5"
        ],
        [
         "2",
         "989",
         "3",
         "1077",
         "535",
         "2",
         "2",
         "3",
         "146.4",
         "5096.55",
         "439.2",
         "21.96",
         "417.24",
         "-4679.31"
        ],
        [
         "3",
         "682",
         "4",
         "1027",
         "546",
         "2",
         "3",
         "6",
         "19.37",
         "8194.28",
         "116.24",
         "0.0",
         "116.24",
         "-8078.04"
        ],
        [
         "4",
         "484",
         "5",
         "1052",
         "556",
         "3",
         "3",
         "8",
         "193.22",
         "8331.33",
         "1545.77",
         "309.15",
         "1236.62",
         "-7094.71"
        ]
       ],
       "shape": {
        "columns": 13,
        "rows": 5
       }
      },
      "text/html": [
       "<div>\n",
       "<style scoped>\n",
       "    .dataframe tbody tr th:only-of-type {\n",
       "        vertical-align: middle;\n",
       "    }\n",
       "\n",
       "    .dataframe tbody tr th {\n",
       "        vertical-align: top;\n",
       "    }\n",
       "\n",
       "    .dataframe thead th {\n",
       "        text-align: right;\n",
       "    }\n",
       "</style>\n",
       "<table border=\"1\" class=\"dataframe\">\n",
       "  <thead>\n",
       "    <tr style=\"text-align: right;\">\n",
       "      <th></th>\n",
       "      <th>Transaction_ID</th>\n",
       "      <th>Date_ID</th>\n",
       "      <th>Customer_ID</th>\n",
       "      <th>Product_ID</th>\n",
       "      <th>Warehouse_ID</th>\n",
       "      <th>Payment_ID</th>\n",
       "      <th>Quantity</th>\n",
       "      <th>Unit_Price</th>\n",
       "      <th>Total_Cost</th>\n",
       "      <th>Revenue</th>\n",
       "      <th>Discount_Amount</th>\n",
       "      <th>Net_Revenue</th>\n",
       "      <th>Profit</th>\n",
       "    </tr>\n",
       "  </thead>\n",
       "  <tbody>\n",
       "    <tr>\n",
       "      <th>0</th>\n",
       "      <td>200</td>\n",
       "      <td>1</td>\n",
       "      <td>1086</td>\n",
       "      <td>536</td>\n",
       "      <td>1</td>\n",
       "      <td>1</td>\n",
       "      <td>3</td>\n",
       "      <td>120.44</td>\n",
       "      <td>8265.37</td>\n",
       "      <td>361.31</td>\n",
       "      <td>72.26</td>\n",
       "      <td>289.05</td>\n",
       "      <td>-7976.33</td>\n",
       "    </tr>\n",
       "    <tr>\n",
       "      <th>1</th>\n",
       "      <td>321</td>\n",
       "      <td>2</td>\n",
       "      <td>1078</td>\n",
       "      <td>523</td>\n",
       "      <td>2</td>\n",
       "      <td>2</td>\n",
       "      <td>6</td>\n",
       "      <td>475.72</td>\n",
       "      <td>4047.85</td>\n",
       "      <td>2854.35</td>\n",
       "      <td>0.00</td>\n",
       "      <td>2854.35</td>\n",
       "      <td>-1193.50</td>\n",
       "    </tr>\n",
       "    <tr>\n",
       "      <th>2</th>\n",
       "      <td>989</td>\n",
       "      <td>3</td>\n",
       "      <td>1077</td>\n",
       "      <td>535</td>\n",
       "      <td>2</td>\n",
       "      <td>2</td>\n",
       "      <td>3</td>\n",
       "      <td>146.40</td>\n",
       "      <td>5096.55</td>\n",
       "      <td>439.20</td>\n",
       "      <td>21.96</td>\n",
       "      <td>417.24</td>\n",
       "      <td>-4679.31</td>\n",
       "    </tr>\n",
       "    <tr>\n",
       "      <th>3</th>\n",
       "      <td>682</td>\n",
       "      <td>4</td>\n",
       "      <td>1027</td>\n",
       "      <td>546</td>\n",
       "      <td>2</td>\n",
       "      <td>3</td>\n",
       "      <td>6</td>\n",
       "      <td>19.37</td>\n",
       "      <td>8194.28</td>\n",
       "      <td>116.24</td>\n",
       "      <td>0.00</td>\n",
       "      <td>116.24</td>\n",
       "      <td>-8078.04</td>\n",
       "    </tr>\n",
       "    <tr>\n",
       "      <th>4</th>\n",
       "      <td>484</td>\n",
       "      <td>5</td>\n",
       "      <td>1052</td>\n",
       "      <td>556</td>\n",
       "      <td>3</td>\n",
       "      <td>3</td>\n",
       "      <td>8</td>\n",
       "      <td>193.22</td>\n",
       "      <td>8331.33</td>\n",
       "      <td>1545.77</td>\n",
       "      <td>309.15</td>\n",
       "      <td>1236.62</td>\n",
       "      <td>-7094.71</td>\n",
       "    </tr>\n",
       "  </tbody>\n",
       "</table>\n",
       "</div>"
      ],
      "text/plain": [
       "   Transaction_ID  Date_ID  Customer_ID  Product_ID  Warehouse_ID  Payment_ID  \\\n",
       "0             200        1         1086         536             1           1   \n",
       "1             321        2         1078         523             2           2   \n",
       "2             989        3         1077         535             2           2   \n",
       "3             682        4         1027         546             2           3   \n",
       "4             484        5         1052         556             3           3   \n",
       "\n",
       "   Quantity  Unit_Price  Total_Cost  Revenue  Discount_Amount  Net_Revenue  \\\n",
       "0         3      120.44     8265.37   361.31            72.26       289.05   \n",
       "1         6      475.72     4047.85  2854.35             0.00      2854.35   \n",
       "2         3      146.40     5096.55   439.20            21.96       417.24   \n",
       "3         6       19.37     8194.28   116.24             0.00       116.24   \n",
       "4         8      193.22     8331.33  1545.77           309.15      1236.62   \n",
       "\n",
       "    Profit  \n",
       "0 -7976.33  \n",
       "1 -1193.50  \n",
       "2 -4679.31  \n",
       "3 -8078.04  \n",
       "4 -7094.71  "
      ]
     },
     "metadata": {},
     "output_type": "display_data"
    },
    {
     "name": "stdout",
     "output_type": "stream",
     "text": [
      "✅ Data cleaned and transformed.\n"
     ]
    }
   ],
   "source": [
    "fact_sales = df \\\n",
    "    .merge(dim_customer[[\"Customer_ID\"]], on=\"Customer_ID\", how=\"left\") \\\n",
    "    .merge(dim_product[[\"Product_ID\"]], on=\"Product_ID\", how=\"left\") \\\n",
    "    .merge(dim_warehouse, on=[\"Warehouse_Code\"], how=\"left\") \\\n",
    "    .merge(dim_payment, on=\"Payment_Type\", how=\"left\") \\\n",
    "    .merge(dim_order[[\"Transaction_ID\"]], on=\"Transaction_ID\", how=\"left\") \\\n",
    "    .merge(dim_date, on=\"Date\", how=\"left\")\n",
    "\n",
    "fact_sales = fact_sales[[  \n",
    "    \"Transaction_ID\",      # (natural key)\n",
    "    \"Date_ID\",\n",
    "    \"Customer_ID\",\n",
    "    \"Product_ID\",\n",
    "    \"Warehouse_ID\",\n",
    "    \"Payment_ID\",\n",
    "\n",
    "    # Measures\n",
    "    \"Quantity\",\n",
    "    \"Unit_Price\",\n",
    "    \"Total_Cost\",\n",
    "    \"Revenue\",\n",
    "    \"Discount_Amount\",\n",
    "    \"Net_Revenue\",        \n",
    "    \"Profit\"           \n",
    "]]\n",
    "\n",
    "# Optional: clean column names to snake_case if needed\n",
    "#fact_sales.columns = fact_sales.columns.str.lower().str.replace(\" \", \"_\")\n",
    "display(fact_sales.head())\n",
    "print(\"✅ Data cleaned and transformed.\")"
   ]
  },
  {
   "cell_type": "markdown",
   "id": "46464d45",
   "metadata": {},
   "source": [
    "### Loading Layer using columnar packages"
   ]
  },
  {
   "cell_type": "markdown",
   "id": "66cd3621",
   "metadata": {},
   "source": [
    "#### Storage in Azure Blob Storage"
   ]
  },
  {
   "cell_type": "markdown",
   "id": "998891e6",
   "metadata": {},
   "source": [
    "visit azure portal:  \n",
    "- create subscription\n",
    "- create resource group (RG) in subscription\n",
    "- create storage account in RG (LRS)\n",
    "- in storage account, create a container\n",
    "- get acces key connection string and container name"
   ]
  },
  {
   "cell_type": "markdown",
   "id": "b5f1b450",
   "metadata": {},
   "source": [
    "#### Set up a connection to azure blob storage"
   ]
  },
  {
   "cell_type": "code",
   "execution_count": 14,
   "id": "e94ae807",
   "metadata": {},
   "outputs": [],
   "source": [
    "# Set up a connection to azure blob storage\n",
    "connection_string = os.getenv(\"ZIKO_AZURE_STORAGE_CONNECTION_STRING\")\n",
    "blob_service_client = BlobServiceClient.from_connection_string(connection_string)\n",
    "\n",
    "container_name = os.getenv(\"ziko_container_name\")\n",
    "container_client = blob_service_client.get_container_client(container_name)"
   ]
  },
  {
   "cell_type": "markdown",
   "id": "25c55b88",
   "metadata": {},
   "source": [
    "#### Load data into azure storage blob uing parquet file"
   ]
  },
  {
   "cell_type": "code",
   "execution_count": 22,
   "id": "7d2bd3f9",
   "metadata": {},
   "outputs": [],
   "source": [
    "# create a function to upload a DataFrame to Azure Blob Storage\n",
    "\n",
    "def upload_dataframe_to_blob(df, container_name, blob_name, table_name):\n",
    "    # Convert DataFrame to Parquet format\n",
    "    buffer = io.BytesIO()\n",
    "    df.to_parquet(buffer, index=False)\n",
    "    buffer.seek(0)  # Reset buffer position to the beginning\n",
    "\n",
    "    # Upload to Azure Blob Storage\n",
    "    blob_client = container_client.get_blob_client(blob_name)\n",
    "    blob_client.upload_blob(buffer, overwrite=True)\n",
    "    print(f\"✅ Table '{table_name}' uploaded to '{container_name}/{blob_name}' with {df.shape[0]} rows.\")   \n",
    "    "
   ]
  },
  {
   "cell_type": "code",
   "execution_count": 23,
   "id": "2d1ed119",
   "metadata": {},
   "outputs": [
    {
     "name": "stdout",
     "output_type": "stream",
     "text": [
      "✅ Table 'dim_customer' uploaded to 'zikologisticscontainer/rawdata/dim_customer.parquet' with 100 rows.\n",
      "✅ Table 'dim_product' uploaded to 'zikologisticscontainer/rawdata/dim_product.parquet' with 60 rows.\n",
      "✅ Table 'dim_warehouse' uploaded to 'zikologisticscontainer/rawdata/dim_warehouse.parquet' with 3 rows.\n",
      "✅ Table 'dim_payment' uploaded to 'zikologisticscontainer/rawdata/dim_payment.parquet' with 4 rows.\n",
      "✅ Table 'dim_order' uploaded to 'zikologisticscontainer/rawdata/dim_order.parquet' with 1000 rows.\n",
      "✅ Table 'dim_date' uploaded to 'zikologisticscontainer/rawdata/dim_date.parquet' with 615 rows.\n",
      "✅ Table 'fact_sales' uploaded to 'zikologisticscontainer/rawdata/fact_sales.parquet' with 1005 rows.\n",
      "\n",
      " ✅ All DataFrames uploaded successfully to Azure Blob Storage Container: zikologisticscontainer.\n"
     ]
    }
   ],
   "source": [
    "# Load the DataFrames to Azure Blob Storage\n",
    "upload_dataframe_to_blob(dim_customer, container_name, \"rawdata/dim_customer.parquet\", \"dim_customer\")\n",
    "upload_dataframe_to_blob(dim_product, container_name, \"rawdata/dim_product.parquet\", \"dim_product\")\n",
    "upload_dataframe_to_blob(dim_warehouse, container_name, \"rawdata/dim_warehouse.parquet\", \"dim_warehouse\")\n",
    "upload_dataframe_to_blob(dim_payment, container_name, \"rawdata/dim_payment.parquet\", \"dim_payment\")\n",
    "upload_dataframe_to_blob(dim_order, container_name, \"rawdata/dim_order.parquet\", \"dim_order\")\n",
    "upload_dataframe_to_blob(dim_date, container_name, \"rawdata/dim_date.parquet\", \"dim_date\")\n",
    "upload_dataframe_to_blob(fact_sales, container_name, \"rawdata/fact_sales.parquet\", \"fact_sales\")\n",
    "\n",
    "\n",
    "# Display confirmation message\n",
    "print(f\"\\n ✅ All DataFrames uploaded successfully to Azure Blob Storage Container: {container_name}.\")"
   ]
  },
  {
   "cell_type": "markdown",
   "id": "50251b6c",
   "metadata": {},
   "source": [
    "### Create a ETL Pipeline automation\n",
    "- create a py file using all steps above\n",
    "- open task scheduler on windows : create a task and set run time; specify python.exe, .py to run and location of .py file\n",
    "- enable task"
   ]
  },
  {
   "cell_type": "markdown",
   "id": "882df2ce",
   "metadata": {},
   "source": [
    "## Case Study 2 : PYSPARK"
   ]
  },
  {
   "cell_type": "markdown",
   "id": "760d1523",
   "metadata": {},
   "source": [
    "### Load Libraries"
   ]
  },
  {
   "cell_type": "code",
   "execution_count": 1,
   "id": "d03db2ff",
   "metadata": {},
   "outputs": [],
   "source": [
    "# import libraries\n",
    "from IPython.display import Image, display\n",
    "from pyspark.sql import SparkSession, DataFrameWriter\n",
    "from pyspark.sql.functions import monotonically_increasing_id\n",
    "import os\n",
    "import psycopg2\n",
    "from dotenv import load_dotenv\n",
    "load_dotenv()\n",
    "from urllib.parse import urlparse\n",
    "import gdown"
   ]
  },
  {
   "cell_type": "code",
   "execution_count": 2,
   "id": "206aca76",
   "metadata": {},
   "outputs": [
    {
     "data": {
      "text/html": [
       "\n",
       "            <div>\n",
       "                <p><b>SparkSession - in-memory</b></p>\n",
       "                \n",
       "        <div>\n",
       "            <p><b>SparkContext</b></p>\n",
       "\n",
       "            <p><a href=\"http://AnnieMona:4040\">Spark UI</a></p>\n",
       "\n",
       "            <dl>\n",
       "              <dt>Version</dt>\n",
       "                <dd><code>v3.5.5</code></dd>\n",
       "              <dt>Master</dt>\n",
       "                <dd><code>local[*]</code></dd>\n",
       "              <dt>AppName</dt>\n",
       "                <dd><code>pyspark batch case study</code></dd>\n",
       "            </dl>\n",
       "        </div>\n",
       "        \n",
       "            </div>\n",
       "        "
      ],
      "text/plain": [
       "<pyspark.sql.session.SparkSession at 0x22f4b68d6d0>"
      ]
     },
     "execution_count": 2,
     "metadata": {},
     "output_type": "execute_result"
    }
   ],
   "source": [
    "## Initiate Spark Session\n",
    "spark = SparkSession.builder \\\n",
    "    .appName(\"pyspark batch case study\") \\\n",
    "    .getOrCreate()\n",
    "spark\n"
   ]
  },
  {
   "cell_type": "markdown",
   "id": "d02869fa",
   "metadata": {},
   "source": [
    "### Extraction Layer"
   ]
  },
  {
   "cell_type": "code",
   "execution_count": 3,
   "id": "d9f77d1b",
   "metadata": {},
   "outputs": [],
   "source": [
    "# Download CSV content from Google Drive into a temporary file path \n",
    "'''\n",
    "with tempfile.NamedTemporaryFile(delete=False, suffix=\".csv\") as tmp:\n",
    "    temp_path = tmp.name\n",
    "\n",
    "file_id = \"1WvnxUWIUQcRSXB5so7-PoGPxU9ekSkYb\"\n",
    "gdown.download(f\"https://drive.google.com/uc?id={file_id}\", temp_path, quiet=False)\n",
    "\n",
    "shutil.copy(temp_path, \"nuga_bank_transactions.csv\") # Save a permanent copy of the downloaded CSV\n",
    "\n",
    "nuga_bank_df = spark.read.csv(temp_path, header=True, inferSchema=True) # Load into Spark\n",
    "\n",
    "nuga_bank_df.cache()  # Force read and keep in memory\n",
    "nuga_bank_df.count()  # Triggers actual file read\n",
    "os.remove(temp_path) # delete temp file\n",
    "'''\n",
    "\n",
    "df = spark.read.csv(r'D:\\Portfolio\\my_projects\\DataEngineering\\PySpark\\nuga_bank_transactions.csv', header=True, inferSchema=True)"
   ]
  },
  {
   "cell_type": "code",
   "execution_count": 4,
   "id": "428925e5",
   "metadata": {},
   "outputs": [
    {
     "name": "stdout",
     "output_type": "stream",
     "text": [
      "Data Shape: 1000000 rows × 23 columns\n",
      "+--------------------+------+----------------+--------------+--------------------+------------------+--------------+--------------------+--------------------+--------------------+--------------------+-------------------+------------------+--------------------+-------------+-------------+--------+-----+---------+--------------------+--------------------+------+--------------+\n",
      "|    Transaction_Date|Amount|Transaction_Type| Customer_Name|    Customer_Address|     Customer_City|Customer_State|    Customer_Country|             Company|           Job_Title|               Email|       Phone_Number|Credit_Card_Number|                IBAN|Currency_Code|Random_Number|Category|Group|Is_Active|        Last_Updated|         Description|Gender|Marital_Status|\n",
      "+--------------------+------+----------------+--------------+--------------------+------------------+--------------+--------------------+--------------------+--------------------+--------------------+-------------------+------------------+--------------------+-------------+-------------+--------+-----+---------+--------------------+--------------------+------+--------------+\n",
      "|2024-03-23 15:38:...| 34.76|      Withdrawal|    James Neal|54912 Holmes Lodg...| West Keithborough|       Florida|                Togo|Benson, Johnson a...|                NULL|                NULL|  493.720.6609x7545|  3592901394693441|GB98RBPP090285271...|          MAD|       3167.0|       C|    Z|       No|2020-06-20 03:04:...|Yeah food anythin...| Other|      Divorced|\n",
      "|2024-04-22 19:15:...|163.92|      Withdrawal|   Thomas Long| 1133 Collin Passage|        Joshuabury|   Connecticut|Lao People's Demo...|                NULL|   Food technologist|michellelynch@exa...|      (497)554-3317|              NULL|GB03KFZR339662263...|          VEF|       2122.0|       B|    Z|     NULL|2020-12-27 13:23:...|Teach edge make n...|Female|       Married|\n",
      "|2024-04-12 19:46:...|386.32|      Withdrawal|Ashley Shelton|5297 Johnson Port...|       North Maria|    New Jersey|              Bhutan|       Jones-Mueller|Database administ...| ljordan@example.org|      (534)769-3072|      675983949974|GB59QYRN446730519...|          COP|       7796.0|       C|    Z|       No|2020-01-24 01:23:...|Again line face c...| Other|          NULL|\n",
      "|2024-04-17 15:29:...|407.15|         Deposit| James Rosario|56955 Moore Glens...|North Michellefurt|    New Mexico|             Iceland|       Vargas-Harris|Horticultural the...|parkerjames@examp...|+1-447-900-1320x257|     4761202519057|GB74FTDO268299438...|          BWP|       6284.0|       C|    Z|      Yes|2023-09-27 03:01:...|     Bag my a drive.|  NULL|          NULL|\n",
      "|2024-02-10 01:51:...|161.31|         Deposit|Miguel Leonard|262 Beck Expressw...|              NULL| West Virginia|             Eritrea|Richardson, Gonza...|   Minerals surveyor| zweaver@example.net|               NULL|   213156729655186|GB94EWRN587847592...|          SOS|       9179.0|       C|    Y|       No|2022-01-22 19:08:...|Husband find ok w...|Female|       Married|\n",
      "+--------------------+------+----------------+--------------+--------------------+------------------+--------------+--------------------+--------------------+--------------------+--------------------+-------------------+------------------+--------------------+-------------+-------------+--------+-----+---------+--------------------+--------------------+------+--------------+\n",
      "only showing top 5 rows\n",
      "\n"
     ]
    }
   ],
   "source": [
    "print(f\"Data Shape: {df.count()} rows × {len(df.columns)} columns\")\n",
    "df.show(5)"
   ]
  },
  {
   "cell_type": "code",
   "execution_count": 5,
   "id": "7a1e73e1",
   "metadata": {},
   "outputs": [
    {
     "name": "stdout",
     "output_type": "stream",
     "text": [
      "root\n",
      " |-- Transaction_Date: timestamp (nullable = true)\n",
      " |-- Amount: double (nullable = true)\n",
      " |-- Transaction_Type: string (nullable = true)\n",
      " |-- Customer_Name: string (nullable = true)\n",
      " |-- Customer_Address: string (nullable = true)\n",
      " |-- Customer_City: string (nullable = true)\n",
      " |-- Customer_State: string (nullable = true)\n",
      " |-- Customer_Country: string (nullable = true)\n",
      " |-- Company: string (nullable = true)\n",
      " |-- Job_Title: string (nullable = true)\n",
      " |-- Email: string (nullable = true)\n",
      " |-- Phone_Number: string (nullable = true)\n",
      " |-- Credit_Card_Number: long (nullable = true)\n",
      " |-- IBAN: string (nullable = true)\n",
      " |-- Currency_Code: string (nullable = true)\n",
      " |-- Random_Number: double (nullable = true)\n",
      " |-- Category: string (nullable = true)\n",
      " |-- Group: string (nullable = true)\n",
      " |-- Is_Active: string (nullable = true)\n",
      " |-- Last_Updated: timestamp (nullable = true)\n",
      " |-- Description: string (nullable = true)\n",
      " |-- Gender: string (nullable = true)\n",
      " |-- Marital_Status: string (nullable = true)\n",
      "\n"
     ]
    }
   ],
   "source": [
    "df.printSchema()"
   ]
  },
  {
   "cell_type": "markdown",
   "id": "80c71bce",
   "metadata": {},
   "source": [
    "### Data Cleaning and Modelling"
   ]
  },
  {
   "cell_type": "code",
   "execution_count": 6,
   "id": "ad571d33",
   "metadata": {},
   "outputs": [
    {
     "name": "stdout",
     "output_type": "stream",
     "text": [
      "Transaction_Date Nulls:  0\n",
      "Amount Nulls:  0\n",
      "Transaction_Type Nulls:  0\n",
      "Customer_Name Nulls:  100425\n",
      "Customer_Address Nulls:  100087\n",
      "Customer_City Nulls:  100034\n",
      "Customer_State Nulls:  100009\n",
      "Customer_Country Nulls:  100672\n",
      "Company Nulls:  100295\n",
      "Job_Title Nulls:  99924\n",
      "Email Nulls:  100043\n",
      "Phone_Number Nulls:  100524\n",
      "Credit_Card_Number Nulls:  100085\n",
      "IBAN Nulls:  100300\n",
      "Currency_Code Nulls:  99342\n",
      "Random_Number Nulls:  99913\n",
      "Category Nulls:  100332\n",
      "Group Nulls:  100209\n",
      "Is_Active Nulls:  100259\n",
      "Last_Updated Nulls:  100321\n",
      "Description Nulls:  100403\n",
      "Gender Nulls:  99767\n",
      "Marital_Status Nulls:  99904\n"
     ]
    }
   ],
   "source": [
    "# Checking for null values\n",
    "for col in df.columns:\n",
    "      print(col, 'Nulls: ' ,df.filter(df[col].isNull()).count() )\n"
   ]
  },
  {
   "cell_type": "code",
   "execution_count": 7,
   "id": "d68f3c8d",
   "metadata": {},
   "outputs": [
    {
     "name": "stdout",
     "output_type": "stream",
     "text": [
      "+-------+------------------+----------------+-------------+--------------------+-------------+--------------+----------------+-------------+------------------+-------------------+--------------------+--------------------+--------------------+-------------+------------------+--------+------+---------+--------------------+------+--------------+\n",
      "|summary|            Amount|Transaction_Type|Customer_Name|    Customer_Address|Customer_City|Customer_State|Customer_Country|      Company|         Job_Title|              Email|        Phone_Number|  Credit_Card_Number|                IBAN|Currency_Code|     Random_Number|Category| Group|Is_Active|         Description|Gender|Marital_Status|\n",
      "+-------+------------------+----------------+-------------+--------------------+-------------+--------------+----------------+-------------+------------------+-------------------+--------------------+--------------------+--------------------+-------------+------------------+--------+------+---------+--------------------+------+--------------+\n",
      "|  count|           1000000|         1000000|       899575|              899913|       899966|        899991|          899328|       899705|            900076|             899957|              899476|              899915|              899700|       900658|            900087|  899668|899791|   899741|              899597|900233|        900096|\n",
      "|   mean|504.97371121999805|            NULL|         NULL|                NULL|         NULL|          NULL|            NULL|         NULL|              NULL|               NULL|  6.00341888622502E9|3.785330130644789...|                NULL|         NULL| 5504.445295843624|    NULL|  NULL|     NULL|                NULL|  NULL|          NULL|\n",
      "| stddev|285.79972024412314|            NULL|         NULL|                NULL|         NULL|          NULL|            NULL|         NULL|              NULL|               NULL|2.3071119812223926E9|1.247765855631417...|                NULL|         NULL|2598.1680843741265|    NULL|  NULL|     NULL|                NULL|  NULL|          NULL|\n",
      "|    min|              10.0|         Deposit| Aaron Abbott|000 Aaron Landing...|    Aaronberg|       Alabama|     Afghanistan| Abbott Group|Academic librarian|aabbott@example.com|       (200)201-4254|         60400015693|GB02AAAU191993009...|          AED|            1000.0|       A|     X|       No|A American and to...|Female|      Divorced|\n",
      "|    max|            1000.0|      Withdrawal|    Zoe Young|    99999 Mark Vista|  Zunigaville|       Wyoming|        Zimbabwe|Zuniga-Wilson|      Youth worker|zzuniga@example.org|          9999777682| 4999984361512569455|GB98ZZXM257326775...|          ZWD|            9999.0|       D|     Z|      Yes|Yourself young ev...| Other|        Single|\n",
      "+-------+------------------+----------------+-------------+--------------------+-------------+--------------+----------------+-------------+------------------+-------------------+--------------------+--------------------+--------------------+-------------+------------------+--------+------+---------+--------------------+------+--------------+\n",
      "\n"
     ]
    }
   ],
   "source": [
    "df.describe().show()"
   ]
  },
  {
   "cell_type": "code",
   "execution_count": 8,
   "id": "d2582661",
   "metadata": {},
   "outputs": [],
   "source": [
    "# 1. Handle null\n",
    "df_clean = df.fillna ({\n",
    "    \"Customer_Name\": \"Unknown\",\n",
    "    \"Customer_Address\": \"Unknown\",\n",
    "    \"Customer_City\": \"Unknown\",\n",
    "    \"Customer_State\": \"Unknown\",\n",
    "    \"Customer_Country\": \"Unknown\",\n",
    "    \"Email\": \"unknown@example.com\",\n",
    "    \"Phone_Number\": \"Unknown\",\n",
    "    \"Company\": \"Undisclosed\",\n",
    "    \"Job_Title\": \"Unemployed\",\n",
    "    \"Currency_Code\": \"N/A\",\n",
    "    \"Category\": \"N/A\",\n",
    "    \"Group\": \"N/A\",\n",
    "    \"Is_Active\": \"Unknown\",\n",
    "    \"Description\": \"No description provided\",\n",
    "    \"Gender\": \"Unspecified\",\n",
    "    \"Marital_Status\": \"Unspecified\",\n",
    "    \"IBAN\": \"Unknown\",\n",
    "    \"Random_Number\": -1.0,\n",
    "    \"Credit_Card_Number\": 0 \n",
    "  #  \"Last_Updated\": \"1900-01-01\"\n",
    "})"
   ]
  },
  {
   "cell_type": "code",
   "execution_count": 9,
   "id": "33d53f9a",
   "metadata": {},
   "outputs": [],
   "source": [
    "# Drop last updated null rows\n",
    "df_clean = df_clean.na.drop(subset=[\"Last_Updated\"])"
   ]
  },
  {
   "cell_type": "code",
   "execution_count": 10,
   "id": "2d076eae",
   "metadata": {},
   "outputs": [
    {
     "name": "stdout",
     "output_type": "stream",
     "text": [
      "All null values handled: \n",
      " New Data Shape: 899679 rows × 23 columns\n"
     ]
    }
   ],
   "source": [
    "# Checking for null values again\n",
    "for col in df_clean.columns:\n",
    "    null_count = df_clean.filter(df_clean[col].isNull()).count()\n",
    "    if null_count > 0:\n",
    "        print(f\"{col}: {null_count} nulls\")\n",
    "print(f\"All null values handled: \\n New Data Shape: {df_clean.count()} rows × {len(df_clean.columns)} columns\")"
   ]
  },
  {
   "cell_type": "code",
   "execution_count": 11,
   "id": "306a315b",
   "metadata": {},
   "outputs": [],
   "source": [
    "#  Convert all column names to lowercase\n",
    "from pyspark.sql.functions import col\n",
    "df_clean = df_clean.select([col(c).alias(c.lower()) for c in df_clean.columns])"
   ]
  },
  {
   "cell_type": "code",
   "execution_count": 12,
   "id": "1b9eb313",
   "metadata": {},
   "outputs": [
    {
     "data": {
      "image/png": "[encoded data removed]",
      "text/plain": [
       "<IPython.core.display.Image object>"
      ]
     },
     "metadata": {},
     "output_type": "display_data"
    }
   ],
   "source": [
    "display(Image(\"sparkpsql.png\"))"
   ]
  },
  {
   "cell_type": "markdown",
   "id": "7e9b8689",
   "metadata": {},
   "source": [
    "### Transformation Layer"
   ]
  },
  {
   "cell_type": "code",
   "execution_count": 13,
   "id": "02f9224b",
   "metadata": {},
   "outputs": [
    {
     "name": "stdout",
     "output_type": "stream",
     "text": [
      "root\n",
      " |-- transaction_id: long (nullable = false)\n",
      " |-- transaction_date: timestamp (nullable = true)\n",
      " |-- amount: double (nullable = true)\n",
      " |-- transaction_type: string (nullable = true)\n",
      " |-- description: string (nullable = false)\n",
      "\n",
      "None\n",
      "+--------------+--------------------+------+----------------+--------------------+\n",
      "|transaction_id|    transaction_date|amount|transaction_type|         description|\n",
      "+--------------+--------------------+------+----------------+--------------------+\n",
      "|             0|2024-04-09 03:24:...|476.48|      Withdrawal|No description pr...|\n",
      "|             1|2024-03-30 05:54:...|886.65|      Withdrawal|Boy artist genera...|\n",
      "|             2|2024-01-31 18:09:...|755.02|         Deposit|Least claim remai...|\n",
      "|             3|2024-01-02 16:16:...| 820.0|         Deposit|Measure season ta...|\n",
      "|             4|2024-04-03 03:58:...|926.21|      Withdrawal|Born plan after f...|\n",
      "|             5|2024-01-10 00:17:...|757.12|         Deposit|Morning change ar...|\n",
      "|             6|2024-03-16 07:49:...|691.52|        Transfer|Rest others civil...|\n",
      "|             7|2024-01-26 02:29:...| 86.71|      Withdrawal|From game figure ...|\n",
      "|             8|2024-02-09 18:20:...| 268.5|        Transfer|World difference ...|\n",
      "|             9|2024-03-07 21:53:...|172.58|      Withdrawal|Guy gun raise wan...|\n",
      "|            10|2024-04-17 13:27:...|443.42|        Transfer|Beyond lay wonder...|\n",
      "|            11|2024-04-19 11:31:...|423.97|         Deposit|Everything practi...|\n",
      "|            12|2024-03-10 00:30:...|386.75|        Transfer|Close pull next. ...|\n",
      "|            13|2024-02-20 23:55:...|769.69|      Withdrawal|Exist factor know...|\n",
      "|            14|2024-04-26 19:02:...|201.37|         Deposit|Consider ball ani...|\n",
      "|            15|2024-01-06 15:18:...|710.66|      Withdrawal|Wear our necessar...|\n",
      "|            16|2024-04-03 22:49:...|150.86|        Transfer|Clear election bo...|\n",
      "|            17|2024-04-21 07:37:...|314.62|      Withdrawal|No description pr...|\n",
      "|            18|2024-02-01 00:05:...|491.72|      Withdrawal|Democrat hour chu...|\n",
      "|            19|2024-02-18 03:56:...| 437.3|      Withdrawal|Alone race pull u...|\n",
      "+--------------+--------------------+------+----------------+--------------------+\n",
      "only showing top 20 rows\n",
      "\n"
     ]
    }
   ],
   "source": [
    "transaction = df_clean \\\n",
    "    .select('transaction_date',  'amount','transaction_type','description') \\\n",
    "    .distinct() \\\n",
    "    .withColumn(\"transaction_id\", monotonically_increasing_id()).cache()\n",
    "transaction = transaction.select('transaction_id','transaction_date',  'amount','transaction_type','description')\n",
    "print(transaction.printSchema())\n",
    "transaction.show()"
   ]
  },
  {
   "cell_type": "code",
   "execution_count": 14,
   "id": "43cd0f82",
   "metadata": {},
   "outputs": [
    {
     "name": "stdout",
     "output_type": "stream",
     "text": [
      "root\n",
      " |-- customer_id: long (nullable = false)\n",
      " |-- customer_name: string (nullable = false)\n",
      " |-- customer_address: string (nullable = false)\n",
      " |-- customer_city: string (nullable = false)\n",
      " |-- customer_state: string (nullable = false)\n",
      " |-- customer_country: string (nullable = false)\n",
      "\n",
      "None\n",
      "+-----------+--------------------+--------------------+------------------+--------------+-------------------+\n",
      "|customer_id|       customer_name|    customer_address|     customer_city|customer_state|   customer_country|\n",
      "+-----------+--------------------+--------------------+------------------+--------------+-------------------+\n",
      "|          0| Dr. Steven Sandoval|71969 Casey Mountain|North Belindaville|     Wisconsin|            Uruguay|\n",
      "|          1|         Jamie Dixon|0146 Veronica Mou...|         Jonesland|      Delaware|       Saint Martin|\n",
      "|          2|         Amber Jones|37115 Peterson Vi...|    West Kellyside|      Delaware|            Unknown|\n",
      "|          3|    Joseph Cervantes|59506 Christensen...|      Theresamouth|        Oregon|      French Guiana|\n",
      "|          4|             Unknown|     3758 Randy Fork|       New Michael|      Missouri|              Chile|\n",
      "|          5|      Julie Anderson|81866 Burton Circles|       Swansonview| West Virginia|            Mayotte|\n",
      "|          6|      Christian Wood|162 Jessica Squar...|       North Alvin|       Vermont|             Cyprus|\n",
      "|          7|        Sarah Taylor|445 Evans Lodge A...|          Clarkton|       Unknown|       Turkmenistan|\n",
      "|          8|         Corey Reyes|283 George Cliff ...|  West Dennisville|    California|           Bulgaria|\n",
      "|          9|Christopher Chris...|     585 Avila Creek|      Port William|    New Jersey|              Ghana|\n",
      "|         10|       Alicia Curtis|27812 Cheyenne La...|       Ryanborough|        Alaska|Antigua and Barbuda|\n",
      "|         11|          Kevin Mora|    181 Amanda River|           Unknown| West Virginia|             Greece|\n",
      "|         12|        Sherry Marks|299 Eric Haven Ap...|    East Katherine|     Louisiana|            Iceland|\n",
      "|         13|Mr. Antonio Zimme...|  0217 Brenda Knolls|        East Karen| Massachusetts|            Ecuador|\n",
      "|         14|        Kevin Jacobs| 91890 Matthew Locks|         Kellerton|       Unknown|            Georgia|\n",
      "|         15|          Mary Green|790 Warren Statio...|       Elliottview|      Maryland|        El Salvador|\n",
      "|         16|       Jordan Coffey|73342 Randolph Mo...|       Triciaville|     Louisiana|            Namibia|\n",
      "|         17|           Lee Green|0925 James Greens...|        East James|       Florida|              China|\n",
      "|         18|        Cynthia Bass|61594 Jacobs Park...|        New George|       Unknown|            Namibia|\n",
      "|         19|      Sharon Wilkins| 10678 Steven Circle|           Unknown|      Maryland|         Uzbekistan|\n",
      "+-----------+--------------------+--------------------+------------------+--------------+-------------------+\n",
      "only showing top 20 rows\n",
      "\n"
     ]
    }
   ],
   "source": [
    "customer = df_clean \\\n",
    "    .select('customer_name', 'customer_address', 'customer_city', 'customer_state', 'customer_country') \\\n",
    "    .distinct() \\\n",
    "    .withColumn(\"customer_id\", monotonically_increasing_id()).cache()\n",
    "customer =customer.select('customer_id','customer_name', 'customer_address', 'customer_city', 'customer_state','customer_country')\n",
    "print(customer.printSchema())\n",
    "customer.show()"
   ]
  },
  {
   "cell_type": "code",
   "execution_count": 15,
   "id": "c990f27e",
   "metadata": {},
   "outputs": [
    {
     "name": "stdout",
     "output_type": "stream",
     "text": [
      "root\n",
      " |-- employee_id: long (nullable = false)\n",
      " |-- company: string (nullable = false)\n",
      " |-- job_title: string (nullable = false)\n",
      " |-- email: string (nullable = false)\n",
      " |-- phone_number: string (nullable = false)\n",
      " |-- gender: string (nullable = false)\n",
      " |-- marital_status: string (nullable = false)\n",
      "\n",
      "None\n",
      "+-----------+--------------------+--------------------+--------------------+--------------------+-----------+--------------+\n",
      "|employee_id|             company|           job_title|               email|        phone_number|     gender|marital_status|\n",
      "+-----------+--------------------+--------------------+--------------------+--------------------+-----------+--------------+\n",
      "|          0|         Undisclosed|Sport and exercis...| unknown@example.com|    001-817-207-5116|       Male|        Single|\n",
      "|          1|       Park and Sons|Race relations of...|   joy43@example.org|          4942627537|     Female|       Married|\n",
      "|          2|       Walker-Hanson|      Hydrogeologist|mendozabrett@exam...|001-617-706-0471x...|       Male|        Single|\n",
      "|          3|        Acosta Group|          Unemployed| unknown@example.com|       (939)448-0792|       Male|        Single|\n",
      "|          4|         Davis-Davis|Engineer, manufac...|  jbaker@example.com|001-609-353-3848x311|       Male|        Single|\n",
      "|          5|Bell, Hogan and M...|      Phytotherapist|johnsonaaron@exam...|          5186355463|       Male|       Married|\n",
      "|          6|       Cortez-Barber|Environmental edu...|   fneal@example.org|    456-712-3026x400|      Other|      Divorced|\n",
      "|          7|   Stevenson-Herrera|Engineer, control...| mbrooks@example.org|   355.290.5208x8977|     Female|        Single|\n",
      "|          8|Taylor, George an...|Public relations ...|schultzalex@examp...|        671-841-3532|Unspecified|   Unspecified|\n",
      "|          9|Keith, Ward and A...|Chief Strategy Of...| unknown@example.com|  348-749-5017x39142|       Male|      Divorced|\n",
      "|         10|    Jimenez-Martinez|   Ceramics designer|lrichard@example.org|    801.552.4366x307|       Male|        Single|\n",
      "|         11|      Mahoney-Coffey|             Barista|michaelking@examp...|  (689)220-1787x9102|     Female|        Single|\n",
      "|         12|      Sanchez-Morris|   Food technologist|macdonaldricky@ex...|             Unknown|       Male|       Married|\n",
      "|         13|       Cunningham-Ho|          Unemployed|barneskimberly@ex...|    767.679.2623x450|Unspecified|   Unspecified|\n",
      "|         14|        Thompson PLC|Aeronautical engi...|edwardmorse@examp...|001-687-795-1557x470|       Male|      Divorced|\n",
      "|         15|    Hansen-Hernandez|       Advice worker|philipgomez@examp...|   448.506.0936x0346|     Female|      Divorced|\n",
      "|         16|Wolf, Zimmerman a...|   Software engineer|richardsonnathan@...|    631-673-4285x621|      Other|        Single|\n",
      "|         17|         Undisclosed|Occupational psyc...|kristenthompson@e...|    001-271-658-0089|Unspecified|      Divorced|\n",
      "|         18|            Hunt PLC|   Librarian, public|   fcook@example.net|             Unknown|       Male|        Single|\n",
      "|         19|Krause, Bell and ...|                 Sub|melissalozano@exa...|    001-274-563-3817|      Other|      Divorced|\n",
      "+-----------+--------------------+--------------------+--------------------+--------------------+-----------+--------------+\n",
      "only showing top 20 rows\n",
      "\n"
     ]
    }
   ],
   "source": [
    "employee = df_clean \\\n",
    "    .select('company', 'job_title', 'email', 'phone_number','gender', 'marital_status') \\\n",
    "    .distinct() \\\n",
    "    .withColumn(\"employee_id\", monotonically_increasing_id()).cache()\n",
    "\n",
    "employee = employee.select('employee_id','company', 'job_title', 'email', 'phone_number','gender', 'marital_status')\n",
    "print(employee.printSchema())\n",
    "employee.show()"
   ]
  },
  {
   "cell_type": "code",
   "execution_count": 16,
   "id": "20d298d2",
   "metadata": {},
   "outputs": [
    {
     "name": "stdout",
     "output_type": "stream",
     "text": [
      "root\n",
      " |-- transaction_id: long (nullable = false)\n",
      " |-- customer_id: long (nullable = false)\n",
      " |-- employee_id: long (nullable = false)\n",
      " |-- amount: double (nullable = true)\n",
      " |-- credit_card_number: long (nullable = false)\n",
      " |-- iban: string (nullable = false)\n",
      " |-- currency_code: string (nullable = false)\n",
      " |-- random_number: double (nullable = false)\n",
      " |-- category: string (nullable = false)\n",
      " |-- group: string (nullable = false)\n",
      " |-- is_active: string (nullable = false)\n",
      " |-- last_updated: timestamp (nullable = true)\n",
      "\n",
      "None\n",
      "+--------------+-------------+-----------+------+------------------+--------------------+-------------+-------------+--------+-----+---------+--------------------+\n",
      "|transaction_id|  customer_id|employee_id|amount|credit_card_number|                iban|currency_code|random_number|category|group|is_active|        last_updated|\n",
      "+--------------+-------------+-----------+------+------------------+--------------------+-------------+-------------+--------+-----+---------+--------------------+\n",
      "|  764504179103| 592705487263|        385| 168.9|  3507961876561668|GB53UQPW219997948...|          HUF|       9413.0|     N/A|    X|  Unknown|2022-12-19 06:38:...|\n",
      "|   85899347112|1357209666730|       1113|296.21|  2385069742279942|GB28LGFQ238823670...|          N/A|       1009.0|       A|    Y|      Yes|2020-11-26 12:50:...|\n",
      "|  618475294861|  94489284841|       4201|481.71|   213112185282510|GB33IDTQ056260532...|          MYR|       7060.0|       B|    Y|      Yes|2022-12-12 17:16:...|\n",
      "|  300647712011|1108101563585|       1154|969.73|  3582922375193740|GB34DQBB776799715...|          MOP|       7494.0|       D|    Z|       No|2024-01-31 10:59:...|\n",
      "|   85899350157| 369367191536|       4105|489.78|  2284903380560209|GB33CIBB797301419...|          XAF|       7332.0|       A|    X|       No|2023-03-23 18:46:...|\n",
      "+--------------+-------------+-----------+------+------------------+--------------------+-------------+-------------+--------+-----+---------+--------------------+\n",
      "only showing top 5 rows\n",
      "\n"
     ]
    }
   ],
   "source": [
    "# Build fact_transaction with LEFT JOINs to preserve as many rows as possible\n",
    "fact_table = df_clean \\\n",
    "      .join(transaction,['transaction_date', 'amount','transaction_type', 'description'],'inner')\\\n",
    "      .join(customer, ['customer_name', 'customer_address', 'customer_city','customer_state', 'customer_country'],'inner')\\\n",
    "      .join(employee, ['company', 'job_title', 'email', 'phone_number','gender', 'marital_status'], 'inner') \\\n",
    "      .select('transaction_id','customer_id', 'employee_id','amount', 'credit_card_number', 'iban','currency_code', 'random_number',\\\n",
    "        'category', 'group','is_active','last_updated' )\n",
    "print(fact_table.printSchema())\n",
    "fact_table.show(5)"
   ]
  },
  {
   "cell_type": "markdown",
   "id": "50269788",
   "metadata": {},
   "source": [
    "### Loading Layer"
   ]
  },
  {
   "cell_type": "code",
   "execution_count": 17,
   "id": "30ce4299",
   "metadata": {},
   "outputs": [],
   "source": [
    "# connect to db\n",
    "def get_db_connection(db_url):\n",
    "    conn = psycopg2.connect(db_url)\n",
    "    print(\"✅ Database connected successfully.\")\n",
    "    return conn"
   ]
  },
  {
   "cell_type": "code",
   "execution_count": 18,
   "id": "71cb89f4",
   "metadata": {},
   "outputs": [
    {
     "name": "stdout",
     "output_type": "stream",
     "text": [
      "✅ Database connected successfully.\n"
     ]
    }
   ],
   "source": [
    "db_url = os.getenv(\"NUGA_BANK\") \n",
    "conn = get_db_connection(db_url)"
   ]
  },
  {
   "cell_type": "code",
   "execution_count": 19,
   "id": "635b2607",
   "metadata": {},
   "outputs": [],
   "source": [
    "# Create a function to create all tables\n",
    "def create_tables(db_url):\n",
    "    conn = get_db_connection(db_url)\n",
    "    cursor = conn.cursor()\n",
    "\n",
    "    create_table_query = '''\n",
    "        DROP TABLE IF EXISTS fact_table;\n",
    "        DROP TABLE IF EXISTS employee;\n",
    "        DROP TABLE IF EXISTS transaction;\n",
    "        DROP TABLE IF EXISTS customer;\n",
    "\n",
    "        CREATE TABLE customer (\n",
    "            customer_id BIGINT PRIMARY KEY,\n",
    "            customer_name TEXT NOT NULL,\n",
    "            customer_address TEXT NOT NULL,\n",
    "            customer_city TEXT NOT NULL,\n",
    "            customer_state TEXT NOT NULL,\n",
    "            customer_country TEXT NOT NULL\n",
    "        );\n",
    "\n",
    "        CREATE TABLE transaction (\n",
    "            transaction_id BIGINT PRIMARY KEY,\n",
    "            transaction_date TIMESTAMP NOT NULL,\n",
    "            amount FLOAT NOT NULL,\n",
    "            transaction_type TEXT NOT NULL,\n",
    "            description TEXT NOT NULL\n",
    "        );\n",
    "\n",
    "        CREATE TABLE employee (\n",
    "            employee_id BIGINT PRIMARY KEY,\n",
    "            company TEXT NOT NULL,\n",
    "            job_title TEXT NOT NULL,\n",
    "            email TEXT NOT NULL,\n",
    "            phone_number TEXT NOT NULL,\n",
    "            gender TEXT NOT NULL,\n",
    "            marital_status TEXT NOT NULL\n",
    "        );\n",
    "\n",
    "        CREATE TABLE fact_table (\n",
    "            transaction_id BIGINT REFERENCES transaction(transaction_id) ON DELETE CASCADE,\n",
    "            customer_id BIGINT REFERENCES customer(customer_id) ON DELETE CASCADE,\n",
    "            employee_id BIGINT REFERENCES employee(employee_id) ON DELETE CASCADE,\n",
    "            amount FLOAT NOT NULL,\n",
    "            credit_card_number BIGINT NOT NULL,\n",
    "            iban TEXT NOT NULL,\n",
    "            currency_code VARCHAR(10) NOT NULL,\n",
    "            random_number FLOAT NOT NULL,\n",
    "            category TEXT NOT NULL,\n",
    "            \"group\" TEXT NOT NULL, -- group is a reserved word\n",
    "            is_active TEXT NOT NULL,\n",
    "            last_updated TIMESTAMP NOT NULL\n",
    "        );\n",
    "    '''\n",
    "\n",
    "    cursor.execute(create_table_query)\n",
    "    conn.commit()\n",
    "    print(\"✅ All tables created successfully.\")\n",
    "    cursor.close()\n",
    "    conn.close()\n"
   ]
  },
  {
   "cell_type": "code",
   "execution_count": 20,
   "id": "0487d235",
   "metadata": {},
   "outputs": [
    {
     "name": "stdout",
     "output_type": "stream",
     "text": [
      "✅ Database connected successfully.\n",
      "✅ All tables created successfully.\n"
     ]
    }
   ],
   "source": [
    "create_tables(db_url)"
   ]
  },
  {
   "cell_type": "code",
   "execution_count": 55,
   "id": "2b0e0eca",
   "metadata": {},
   "outputs": [
    {
     "data": {
      "image/png": "[encoded data removed]",
      "text/plain": [
       "<IPython.core.display.Image object>"
      ]
     },
     "metadata": {},
     "output_type": "display_data"
    }
   ],
   "source": [
    "display(Image(\"sparkerd.png\"))"
   ]
  },
  {
   "cell_type": "code",
   "execution_count": 27,
   "id": "3d0f626a",
   "metadata": {},
   "outputs": [
    {
     "name": "stdout",
     "output_type": "stream",
     "text": [
      "jdbc connection: jdbc:postgresql://localhost:5432/nuga_spark_db\n"
     ]
    }
   ],
   "source": [
    "# Define JDBC Settings\n",
    "parsed = urlparse(db_url);\\\n",
    "jdbc_url = f\"jdbc:postgresql://{parsed.hostname}:{parsed.port}{parsed.path}\";\\\n",
    "jdbc_props= {\"user\": parsed.username, \"password\": parsed.password, \"driver\": \"org.postgresql.Driver\"}\n",
    "print(f\"jdbc connection: {jdbc_url}\")"
   ]
  },
  {
   "cell_type": "code",
   "execution_count": 25,
   "id": "e7187ff5",
   "metadata": {},
   "outputs": [],
   "source": [
    "# 3. Create a Write Function\n",
    "def write_to_postgres(df, table_name, jdbc_url, jdbc_props, mode=\"append\"):\n",
    "    try:\n",
    "        print(f\"📝 Writing table: {table_name} ({df.count()} rows)...\")\n",
    "        df.write.jdbc(\n",
    "            url=jdbc_url,\n",
    "            table=table_name,\n",
    "            mode=mode,\n",
    "            properties=jdbc_props\n",
    "        )\n",
    "        print(f\"✅ Successfully wrote: {table_name}\")\n",
    "        \n",
    "    except Exception as e:\n",
    "        print(f\"❌ Failed to write table: {table_name}\")\n",
    "        print(f\"Error: {str(e)}\")\n"
   ]
  },
  {
   "cell_type": "code",
   "execution_count": 26,
   "id": "affe4c20",
   "metadata": {},
   "outputs": [
    {
     "name": "stdout",
     "output_type": "stream",
     "text": [
      "📝 Writing table: transaction (899679 rows)...\n",
      "✅ Successfully wrote: transaction\n",
      "📝 Writing table: customer (899581 rows)...\n",
      "✅ Successfully wrote: customer\n",
      "📝 Writing table: employee (899550 rows)...\n",
      "✅ Successfully wrote: employee\n",
      "📝 Writing table: fact_table (899679 rows)...\n",
      "✅ Successfully wrote: fact_table\n"
     ]
    }
   ],
   "source": [
    "write_to_postgres(transaction,\"transaction\",jdbc_url,jdbc_props)\n",
    "write_to_postgres(customer,\"customer\",jdbc_url,jdbc_props)\n",
    "write_to_postgres(employee,\"employee\",jdbc_url,jdbc_props)\n",
    "write_to_postgres(fact_table,\"fact_table\",jdbc_url,jdbc_props)"
   ]
  },
  {
   "cell_type": "code",
   "execution_count": 29,
   "id": "c2d82001",
   "metadata": {},
   "outputs": [
    {
     "name": "stdout",
     "output_type": "stream",
     "text": [
      "\n",
      " ✅ All DataFrames uploaded successfully to postgres db: /nuga_spark_db.\n"
     ]
    }
   ],
   "source": [
    "# Display confirmation message\n",
    "print(f\"\\n ✅ All DataFrames uploaded successfully to postgres db: {parsed.path}.\")"
   ]
  },
  {
   "cell_type": "code",
   "execution_count": null,
   "id": "d786ed08",
   "metadata": {},
   "outputs": [],
   "source": [
    "# Stop existing session\n",
    "spark.stop()"
   ]
  },
  {
   "cell_type": "markdown",
   "id": "1f7a1dbc",
   "metadata": {},
   "source": [
    "### Automate using task scheduler\n",
    " - convert notrbook to .py file\n",
    " - create task in task scheduler \n",
    " - pip uninstall pyspark ; pip install pyspark==3.4.1 ; Java 8\n",
    "\n"
   ]
  }
 ],
 "metadata": {
  "kernelspec": {
   "display_name": "pyspark-env",
   "language": "python",
   "name": "python3"
  },
  "language_info": {
   "codemirror_mode": {
    "name": "ipython",
    "version": 3
   },
   "file_extension": ".py",
   "mimetype": "text/x-python",
   "name": "python",
   "nbconvert_exporter": "python",
   "pygments_lexer": "ipython3",
   "version": "3.11.5"
  }
 },
 "nbformat": 4,
 "nbformat_minor": 5
}
