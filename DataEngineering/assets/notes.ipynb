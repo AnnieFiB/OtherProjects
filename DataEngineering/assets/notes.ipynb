{
 "cells": [
  {
   "cell_type": "markdown",
   "id": "807dcf53",
   "metadata": {},
   "source": [
    "# Table of Contents\n",
    "- [Data Engineering Debugging Techniques](#Data-Engineering-Debugging-Techniques)\n",
    "- [Mastering Clean Coding with PEP8](#Mastering-Clean-Coding-with-PEP8)\n",
    "- [Notes](#CNotes)"
   ]
  },
  {
   "cell_type": "markdown",
   "id": "NBbkgObh6gjl",
   "metadata": {
    "id": "NBbkgObh6gjl",
    "jp-MarkdownHeadingCollapsed": true
   },
   "source": [
    "# Introduction to Data Engineering and Common Challenges"
   ]
  },
  {
   "cell_type": "markdown",
   "id": "7080c3e1-8878-4c1c-b884-5a542608dc2b",
   "metadata": {
    "jupyter": {
     "source_hidden": true
    }
   },
   "source": [
    "1. Brief introduction to data engineering.\n",
    "  - Overview of common challenges and errors faced in data engineering.\n",
    "\n",
    "2. Types of Errors in Data Engineering\n",
    "\n",
    "  - Syntax Errors: Explain with examples of incorrect code syntax.\n",
    "  - Logical Errors: Demonstrate through examples where the logic of a data pipeline is flawed.\n",
    "  - Runtime Errors: Discuss errors that occur during execution, like connection failures, with examples.\n",
    "  - Data-Related Errors: Explain errors related to data quality, format inconsistencies, etc.\n",
    "\n",
    "3. Debugging Techniques\n",
    "  - Understanding Error Messages: How to read and understand error messages and stack traces.\n",
    "  - Logging: Implementing logging in data pipelines. Show examples using Python's logging module.\n",
    "  - Unit Testing: Writing and running unit tests for data processing functions. Use Python's unittest or pytest framework for examples.\n",
    "  - Interactive Debugging: Demonstrate the use of interactive debugging tools (e.g., Python Debugger (pdb)).\n",
    "  - Version Control for Debugging: Using git to track changes and find when bugs were introduced.\n",
    "\n",
    "4. Case Studies and Use Cases\n",
    "  - Case Study 1: Debugging a Data Pipeline Failure.\n",
    "  - Case Study 2: Solving Data Quality Issues in a Data Lake.\n",
    "  - Case Study 3: Performance Tuning in Data Processing.\n",
    "\n",
    "5. Best Practices in Error Handling and Prevention\n",
    "  - Writing robust error handling code.\n",
    "  - Strategies to prevent common errors in data engineering.\n",
    "\n",
    "6. Conclusion\n",
    "  - Summary of key points."
   ]
  },
  {
   "cell_type": "markdown",
   "id": "a83b00c6",
   "metadata": {
    "id": "a83b00c6",
    "jupyter": {
     "source_hidden": true
    }
   },
   "source": [
    "Data engineering involves the design and management of data workflows and pipelines. In this field, professionals often encounter various challenges, including data inconsistency, pipeline failures, and performance issues.\n",
    "\n",
    "In this notebook, we will explore common errors in data engineering and discuss effective debugging techniques.\n"
   ]
  },
  {
   "cell_type": "markdown",
   "id": "b94f08a4",
   "metadata": {
    "id": "b94f08a4",
    "jp-MarkdownHeadingCollapsed": true
   },
   "source": [
    "## Types of Errors in Data Engineering:"
   ]
  },
  {
   "cell_type": "markdown",
   "id": "87924d59",
   "metadata": {
    "id": "87924d59",
    "jp-MarkdownHeadingCollapsed": true
   },
   "source": [
    "### Syntax Errors"
   ]
  },
  {
   "cell_type": "markdown",
   "id": "07782a94",
   "metadata": {
    "id": "07782a94",
    "jupyter": {
     "source_hidden": true
    }
   },
   "source": [
    "Syntax errors occur when the code written does not conform to the rules of the programming language.\n",
    "\n",
    "Imagine you're writing a recipe for a cake in a language you're still learning. If you misuse grammar or vocabulary, the person reading the recipe might not understand what you're trying to say. In programming, syntax errors are similar. They occur when the code is not written according to the grammatical rules of the programming language. For instance, missing a comma or a parenthesis in Python can lead to a syntax error. It's like forgetting a full stop in a sentence.\n",
    "\n",
    "**Example 1: Missing the colon for the `for` loop**"
   ]
  },
  {
   "cell_type": "code",
   "execution_count": null,
   "id": "5161d964",
   "metadata": {
    "id": "5161d964",
    "jupyter": {
     "source_hidden": true
    }
   },
   "outputs": [],
   "source": [
    "for i in range(10)\n",
    "    print(i)"
   ]
  },
  {
   "cell_type": "markdown",
   "id": "cb70818c",
   "metadata": {
    "id": "cb70818c"
   },
   "source": [
    "This will cause a syntax error because the colon (:) after range(10) is missing."
   ]
  },
  {
   "cell_type": "markdown",
   "id": "VwdM2gXxDtHz",
   "metadata": {
    "id": "VwdM2gXxDtHz"
   },
   "source": [
    "**Example 2: Missing Quotes in String**"
   ]
  },
  {
   "cell_type": "code",
   "execution_count": null,
   "id": "D0sT3o_dD140",
   "metadata": {
    "id": "D0sT3o_dD140"
   },
   "outputs": [],
   "source": [
    "name = 'Alice  # Missing closing quote\n",
    "print(name)"
   ]
  },
  {
   "cell_type": "markdown",
   "id": "ytCsU0PsD4nL",
   "metadata": {
    "id": "ytCsU0PsD4nL"
   },
   "source": [
    "Error: SyntaxError due to the unclosed string."
   ]
  },
  {
   "cell_type": "markdown",
   "id": "ik8xjDusD8Hn",
   "metadata": {
    "id": "ik8xjDusD8Hn"
   },
   "source": [
    "**Example 3: Incorrect Indentation**"
   ]
  },
  {
   "cell_type": "code",
   "execution_count": null,
   "id": "P7IwtHpfD-87",
   "metadata": {
    "id": "P7IwtHpfD-87"
   },
   "outputs": [],
   "source": [
    "def greet(name):\n",
    "print(\"Hello, \" + name)"
   ]
  },
  {
   "cell_type": "markdown",
   "id": "hIp2qQvBEBWL",
   "metadata": {
    "id": "hIp2qQvBEBWL"
   },
   "source": [
    "Error: IndentationError because the print statement is not correctly indented within the function."
   ]
  },
  {
   "cell_type": "markdown",
   "id": "4LL75m_IEI9k",
   "metadata": {
    "id": "4LL75m_IEI9k"
   },
   "source": [
    "**Example 4: Misplaced Brackets**"
   ]
  },
  {
   "cell_type": "code",
   "execution_count": null,
   "id": "LfbmZXrsEODB",
   "metadata": {
    "id": "LfbmZXrsEODB"
   },
   "outputs": [],
   "source": [
    "list = [1, 2, 3, 4\n",
    "print(list[2])"
   ]
  },
  {
   "cell_type": "markdown",
   "id": "PKjLjw-VEPAY",
   "metadata": {
    "id": "PKjLjw-VEPAY"
   },
   "source": [
    "Error: SyntaxError due to a missing closing bracket for the list."
   ]
  },
  {
   "cell_type": "markdown",
   "id": "a2be7a52",
   "metadata": {
    "id": "a2be7a52",
    "jp-MarkdownHeadingCollapsed": true
   },
   "source": [
    "### Logical Errors"
   ]
  },
  {
   "cell_type": "markdown",
   "id": "408af163-52ea-4804-b4b9-b8fc2596ef95",
   "metadata": {},
   "source": [
    "Logical errors arise when the code does not perform the intended task due to incorrect logic.\n",
    "\n",
    "Suppose you successfully wrote the cake recipe, but you accidentally wrote \"bake for 5 hours\" instead of \"bake for 50 minutes.\" While the recipe is grammatically correct, the logic (baking time) is incorrect. In programming, logical errors are when the syntax is right, but the code doesn't do what you intend it to do. The program runs but gives the wrong result."
   ]
  },
  {
   "cell_type": "markdown",
   "id": "IEVZbdH9Fgcb",
   "metadata": {
    "id": "IEVZbdH9Fgcb"
   },
   "source": [
    "**Example 1:**"
   ]
  },
  {
   "cell_type": "code",
   "execution_count": null,
   "id": "74cc1e3a",
   "metadata": {
    "id": "74cc1e3a"
   },
   "outputs": [],
   "source": [
    "def double_number(num):\n",
    "    return num + num  # Intended to multiply by 2, but added instead"
   ]
  },
  {
   "cell_type": "markdown",
   "id": "fcf939fc",
   "metadata": {
    "id": "fcf939fc"
   },
   "source": [
    "Here, the function incorrectly adds the number to itself instead of doubling it (multiplying by 2)."
   ]
  },
  {
   "cell_type": "markdown",
   "id": "enRIkPY_Eh-L",
   "metadata": {
    "id": "enRIkPY_Eh-L"
   },
   "source": [
    "**Example 2: Incorrect Comparison**"
   ]
  },
  {
   "cell_type": "code",
   "execution_count": null,
   "id": "Mr_t-ggFEpE6",
   "metadata": {
    "id": "Mr_t-ggFEpE6"
   },
   "outputs": [],
   "source": [
    "def is_adult(age):\n",
    "    return age < 18  # Logic should be 'age >= 18'\n",
    "\n",
    "print(is_adult(20))"
   ]
  },
  {
   "cell_type": "markdown",
   "id": "0kQpPoteEr6p",
   "metadata": {
    "id": "0kQpPoteEr6p"
   },
   "source": [
    "Issue: The function incorrectly returns `False` for an adult age."
   ]
  },
  {
   "cell_type": "markdown",
   "id": "PDMIF6sFEuma",
   "metadata": {
    "id": "PDMIF6sFEuma"
   },
   "source": [
    "**Example 3: Wrong Arithmetic Operation**"
   ]
  },
  {
   "cell_type": "code",
   "execution_count": null,
   "id": "6Q2UI4mVE6iD",
   "metadata": {
    "id": "6Q2UI4mVE6iD"
   },
   "outputs": [],
   "source": [
    "def calculate_discount(price):\n",
    "    return price / 0.1  # Should be 'price * 0.1' for a 10% discount\n",
    "\n",
    "print(calculate_discount(100))"
   ]
  },
  {
   "cell_type": "markdown",
   "id": "Jv-yfnXSE9XT",
   "metadata": {
    "id": "Jv-yfnXSE9XT"
   },
   "source": [
    "Issue: The function calculates the wrong discount value."
   ]
  },
  {
   "cell_type": "markdown",
   "id": "QxHa9xVhE-w-",
   "metadata": {
    "id": "QxHa9xVhE-w-"
   },
   "source": [
    "**Example 4: Incorrect Loop Condition**"
   ]
  },
  {
   "cell_type": "code",
   "execution_count": null,
   "id": "7SRuNsSPFQwt",
   "metadata": {
    "id": "7SRuNsSPFQwt"
   },
   "outputs": [],
   "source": [
    "i = 0\n",
    "while i != 10:\n",
    "    i += 2"
   ]
  },
  {
   "cell_type": "markdown",
   "id": "bt46qM4OFUes",
   "metadata": {
    "id": "bt46qM4OFUes"
   },
   "source": [
    "Issue: This loop will never terminate because i will never equal 10 (it increments by 2).\n"
   ]
  },
  {
   "cell_type": "markdown",
   "id": "fda9eca7-524b-4313-9f63-02620c697ae8",
   "metadata": {},
   "source": [
    "### Runtime Errors"
   ]
  },
  {
   "cell_type": "markdown",
   "id": "72ed9152",
   "metadata": {
    "id": "72ed9152",
    "jupyter": {
     "source_hidden": true
    }
   },
   "source": [
    "Runtime errors are encountered during the execution of a program, such as database connection failures.\n",
    "\n",
    "Imagine you've written the perfect cake recipe, but when someone tries to make it, they realize they don't have a crucial ingredient, like flour. This is a runtime error - an error that occurs during the execution of the program. It could be due to external factors like missing data, a failed database connection, or insufficient memory."
   ]
  },
  {
   "cell_type": "markdown",
   "id": "j_25wnucFkrj",
   "metadata": {
    "id": "j_25wnucFkrj"
   },
   "source": [
    "**Example 1:**"
   ]
  },
  {
   "cell_type": "code",
   "execution_count": null,
   "id": "ad9e6ca6",
   "metadata": {
    "id": "ad9e6ca6"
   },
   "outputs": [],
   "source": [
    "numbers = [1, 2, 3]\n",
    "print(numbers[3])  # Index out of range error"
   ]
  },
  {
   "cell_type": "markdown",
   "id": "5a55a35d",
   "metadata": {
    "id": "5a55a35d"
   },
   "source": [
    "Here, you're trying to access the fourth element (index 3) of a list that only has three elements."
   ]
  },
  {
   "cell_type": "markdown",
   "id": "PgwmHkI4FoPz",
   "metadata": {
    "id": "PgwmHkI4FoPz"
   },
   "source": [
    "**Example 2: Division by Zero**"
   ]
  },
  {
   "cell_type": "code",
   "execution_count": null,
   "id": "DIKVRJqQFvaz",
   "metadata": {
    "id": "DIKVRJqQFvaz"
   },
   "outputs": [],
   "source": [
    "x = 10\n",
    "y = 0\n",
    "print(x / y)"
   ]
  },
  {
   "cell_type": "markdown",
   "id": "zMUFrPrUFwZF",
   "metadata": {
    "id": "zMUFrPrUFwZF"
   },
   "source": [
    "Error: ZeroDivisionError at runtime."
   ]
  },
  {
   "cell_type": "markdown",
   "id": "gglSikxXF0e4",
   "metadata": {
    "id": "gglSikxXF0e4"
   },
   "source": [
    "**Example 3: Accessing Invalid List Index**"
   ]
  },
  {
   "cell_type": "code",
   "execution_count": null,
   "id": "yFCGcDU-F0Jj",
   "metadata": {
    "id": "yFCGcDU-F0Jj"
   },
   "outputs": [],
   "source": [
    "my_list = [1, 2, 3]\n",
    "print(my_list[5])"
   ]
  },
  {
   "cell_type": "markdown",
   "id": "CxY4sq2rF6QX",
   "metadata": {
    "id": "CxY4sq2rF6QX"
   },
   "source": [
    "Error: IndexError as the index 5 does not exist in `my_list`."
   ]
  },
  {
   "cell_type": "markdown",
   "id": "FIJvBcFBGAob",
   "metadata": {
    "id": "FIJvBcFBGAob"
   },
   "source": [
    "**Example 4: File Not Found**"
   ]
  },
  {
   "cell_type": "code",
   "execution_count": null,
   "id": "5PtZcRoUGF6r",
   "metadata": {
    "id": "5PtZcRoUGF6r"
   },
   "outputs": [],
   "source": [
    "with open('nonexistent_file.txt', 'r') as file:\n",
    "    data = file.read()"
   ]
  },
  {
   "cell_type": "markdown",
   "id": "i_gOlimpGIQt",
   "metadata": {
    "id": "i_gOlimpGIQt"
   },
   "source": [
    "Error: FileNotFoundError because the specified file does not exist."
   ]
  },
  {
   "cell_type": "markdown",
   "id": "2ec5b031-0fa2-4961-98d4-e031846069b8",
   "metadata": {},
   "source": [
    "### Data-Related Errors"
   ]
  },
  {
   "cell_type": "markdown",
   "id": "b53ed3b7",
   "metadata": {
    "id": "b53ed3b7"
   },
   "source": [
    "These errors are related to the quality and consistency of data, including missing values or incorrect data formats.\n",
    "\n",
    "Finally, let's say you write a recipe calling for \"a cup of sugar,\" but don't specify what kind of cup (metric or imperial). If someone uses the wrong type, the cake won't turn out as expected. In data engineering, data-related errors occur when the data is not what your program expects. This could be due to incorrect data formats, missing values, or inconsistent data."
   ]
  },
  {
   "cell_type": "markdown",
   "id": "DnM196OvGNR7",
   "metadata": {
    "id": "DnM196OvGNR7"
   },
   "source": [
    "**Example 1:**"
   ]
  },
  {
   "cell_type": "code",
   "execution_count": null,
   "id": "55fef2dd",
   "metadata": {
    "id": "55fef2dd"
   },
   "outputs": [],
   "source": [
    "data = {\"name\": \"Alice\", \"age\": \"Twenty-five\"}\n",
    "age = int(data[\"age\"])  # Error: cannot convert the string \"Twenty-five\" to an integer\n"
   ]
  },
  {
   "cell_type": "markdown",
   "id": "065b79b6",
   "metadata": {
    "id": "065b79b6"
   },
   "source": [
    "Here, the program expects a numeric value for age, but it receives a string, leading to an error."
   ]
  },
  {
   "cell_type": "markdown",
   "id": "ouhpLIiqGUyD",
   "metadata": {
    "id": "ouhpLIiqGUyD"
   },
   "source": [
    "**Example 2: Incorrect Data Type**"
   ]
  },
  {
   "cell_type": "code",
   "execution_count": null,
   "id": "xOJXKPbBGbcj",
   "metadata": {
    "id": "xOJXKPbBGbcj"
   },
   "outputs": [],
   "source": [
    "age = \"twenty-five\"  # Age is a string, not a number\n",
    "if age > 20:\n",
    "    print(\"Adult\")"
   ]
  },
  {
   "cell_type": "markdown",
   "id": "HYqHUmEhGeDG",
   "metadata": {
    "id": "HYqHUmEhGeDG"
   },
   "source": [
    "Issue: TypeError as the comparison is between a string and an integer."
   ]
  },
  {
   "cell_type": "markdown",
   "id": "rbwwPR3oGgkl",
   "metadata": {
    "id": "rbwwPR3oGgkl"
   },
   "source": [
    "**Example 3: Missing Data**"
   ]
  },
  {
   "cell_type": "code",
   "execution_count": null,
   "id": "2kDrJNhNGkfs",
   "metadata": {
    "id": "2kDrJNhNGkfs"
   },
   "outputs": [],
   "source": [
    "data = {'name': 'Alice', 'age': None}\n",
    "print(\"Age:\", data['age'] + 1)"
   ]
  },
  {
   "cell_type": "markdown",
   "id": "FWS-IB9rGnXD",
   "metadata": {
    "id": "FWS-IB9rGnXD"
   },
   "source": [
    "Issue: TypeError or logic error due to attempting an arithmetic operation with `None`."
   ]
  },
  {
   "cell_type": "markdown",
   "id": "pbOlIBEKGvZt",
   "metadata": {
    "id": "pbOlIBEKGvZt"
   },
   "source": [
    "**Example 4: Unexpected Data Format**"
   ]
  },
  {
   "cell_type": "code",
   "execution_count": null,
   "id": "5bQFpzSJGycB",
   "metadata": {
    "id": "5bQFpzSJGycB"
   },
   "outputs": [],
   "source": [
    "date_str = \"2020-31-02\"  # Unusual date format, looks like YYYY-DD-MM\n",
    "try:\n",
    "    year, day, month = map(int, date_str.split('-'))\n",
    "except ValueError as e:\n",
    "    print(\"Error:\", e)"
   ]
  },
  {
   "cell_type": "markdown",
   "id": "sLdcg4nNG2bD",
   "metadata": {
    "id": "sLdcg4nNG2bD"
   },
   "source": [
    "Issue: This code will run into a **`ValueError`** when trying to use this date, as there is no 31st month. The error arises due to the incorrect assumption about the format of the date string. This is a common issue in data engineering where data comes in unexpected or inconsistent formats, leading to processing errors.\n",
    "\n",
    "In this example, the code expects the date in the format **`YYYY-MM-DD`**, but the input is in a different format. This leads to a logical error when interpreting the date components.\n",
    "\n"
   ]
  },
  {
   "cell_type": "markdown",
   "id": "0YdqPsLBGTxz",
   "metadata": {
    "id": "0YdqPsLBGTxz"
   },
   "source": [
    "Understanding these errors with everyday analogies can help you better grasp the concepts and apply them in their work."
   ]
  },
  {
   "cell_type": "markdown",
   "id": "e92c15db",
   "metadata": {
    "id": "e92c15db"
   },
   "source": [
    "## Debugging Techniques"
   ]
  },
  {
   "cell_type": "markdown",
   "id": "f698a112-0aba-4c4f-9a77-086645293f62",
   "metadata": {},
   "source": [
    "Effective debugging is crucial in data engineering. Here are some techniques:"
   ]
  },
  {
   "cell_type": "markdown",
   "id": "4f3339d8-6fc5-497b-b630-82a95ef0cc2f",
   "metadata": {
    "jp-MarkdownHeadingCollapsed": true
   },
   "source": [
    "### 1. Understanding Error Messages"
   ]
  },
  {
   "cell_type": "markdown",
   "id": "1ca6be50",
   "metadata": {
    "id": "1ca6be50"
   },
   "source": [
    "Error messages provide clues about what went wrong. It's essential to understand how to interpret these messages.\n",
    "\n",
    "Imagine you're assembling a complicated piece of IKEA furniture but something goes wrong. The instruction manual often has troubleshooting tips pointing out common mistakes. Error messages in programming are similar. They are like hints or specific instructions pointing out what might have gone wrong in your code. Learning to understand these messages is like learning to decipher those troubleshooting tips to figure out where you might have made a mistake.\n",
    "\n",
    "Analogy: A furniture assembly manual saying, \"Screw A should not be used with Panel B.\" This is similar to an error message in programming, guiding you to the exact problem."
   ]
  },
  {
   "cell_type": "markdown",
   "id": "AAS3Ttv5JO8N",
   "metadata": {
    "id": "AAS3Ttv5JO8N"
   },
   "source": [
    "**Example 1: Index Error**"
   ]
  },
  {
   "cell_type": "code",
   "execution_count": null,
   "id": "Cp1Wv65bJS_O",
   "metadata": {
    "id": "Cp1Wv65bJS_O"
   },
   "outputs": [],
   "source": [
    "my_list = [1, 2, 3]\n",
    "print(my_list[3])"
   ]
  },
  {
   "cell_type": "markdown",
   "id": "liwsUaK9JWBE",
   "metadata": {
    "id": "liwsUaK9JWBE"
   },
   "source": [
    "Error Message: **`IndexError: list index out of range`** <br>\n",
    "Interpretation: The code is trying to access an index that doesn't exist in **`my_list`**."
   ]
  },
  {
   "cell_type": "markdown",
   "id": "j3H5BzEjJg0z",
   "metadata": {
    "id": "j3H5BzEjJg0z"
   },
   "source": [
    "**Example 2: Type Error**"
   ]
  },
  {
   "cell_type": "code",
   "execution_count": null,
   "id": "L8_3FSmyJimd",
   "metadata": {
    "id": "L8_3FSmyJimd"
   },
   "outputs": [],
   "source": [
    "age = \"25\"\n",
    "print(age + 5)"
   ]
  },
  {
   "cell_type": "markdown",
   "id": "VuFaQui4Jqcu",
   "metadata": {
    "id": "VuFaQui4Jqcu"
   },
   "source": [
    "Error Message: **`TypeError: can only concatenate str (not \"int\") to str`** <br>\n",
    "Interpretation: The code is trying to add an integer to a string, which is not allowed."
   ]
  },
  {
   "cell_type": "markdown",
   "id": "Z7f-vThRKKMd",
   "metadata": {
    "id": "Z7f-vThRKKMd"
   },
   "source": [
    "**Example 3: Syntax Error**"
   ]
  },
  {
   "cell_type": "code",
   "execution_count": null,
   "id": "nCyncKicKa5E",
   "metadata": {
    "id": "nCyncKicKa5E"
   },
   "outputs": [],
   "source": [
    "for i in range(10)\n",
    "    print(i)"
   ]
  },
  {
   "cell_type": "markdown",
   "id": "uNuzNPeDKcZs",
   "metadata": {
    "id": "uNuzNPeDKcZs"
   },
   "source": [
    "Error Message: **`SyntaxError: invalid syntax`** <br>\n",
    "Interpretation: The code is missing a colon : at the end of the **`for`** loop."
   ]
  },
  {
   "cell_type": "markdown",
   "id": "b8769bdf-6f21-4a66-8305-60f5bac6c694",
   "metadata": {
    "jp-MarkdownHeadingCollapsed": true
   },
   "source": [
    "### 2. Logging"
   ]
  },
  {
   "cell_type": "markdown",
   "id": "9b69bcdf",
   "metadata": {
    "id": "9b69bcdf"
   },
   "source": [
    "Implementing logging helps in monitoring and troubleshooting data pipelines. Python's `logging` module can be used for this purpose.\n",
    "\n",
    "Think of logging like keeping a diary of what happens during a science experiment. In data engineering, logging is the practice of recording what your code is doing, especially when it's processing data. This can help you understand what happened leading up to an error. Python's logging module lets you easily record these events.\n",
    "\n",
    "Analogy: A lab journal that notes every step of an experiment. If the experiment fails, you can look back to see what might have caused the problem."
   ]
  },
  {
   "cell_type": "markdown",
   "id": "8mkCH7QJKuu3",
   "metadata": {
    "id": "8mkCH7QJKuu3"
   },
   "source": [
    "**Example 1: Basic Logging**"
   ]
  },
  {
   "cell_type": "code",
   "execution_count": 1,
   "id": "eyRoKAmRKx3-",
   "metadata": {
    "executionInfo": {
     "elapsed": 6,
     "status": "ok",
     "timestamp": 1705566346431,
     "user": {
      "displayName": "EHIBHAHIEMEN UGHELE",
      "userId": "14769773374767834528"
     },
     "user_tz": -60
    },
    "id": "eyRoKAmRKx3-"
   },
   "outputs": [],
   "source": [
    "import logging\n",
    "\n",
    "logging.basicConfig(level=logging.INFO)\n",
    "logging.info(\"This is an info message\")"
   ]
  },
  {
   "cell_type": "markdown",
   "id": "SBPcRdTQKz_l",
   "metadata": {
    "id": "SBPcRdTQKz_l"
   },
   "source": [
    "Explanation: This sets up basic logging and records an informational message."
   ]
  },
  {
   "cell_type": "markdown",
   "id": "quIazZ5ZK3Wb",
   "metadata": {
    "id": "quIazZ5ZK3Wb"
   },
   "source": [
    "**Example 2: Logging with Different Levels**"
   ]
  },
  {
   "cell_type": "code",
   "execution_count": null,
   "id": "XmhegtmxK5vK",
   "metadata": {
    "id": "XmhegtmxK5vK"
   },
   "outputs": [],
   "source": [
    "logging.debug(\"This is for debugging\")\n",
    "logging.warning(\"This is a warning message\")"
   ]
  },
  {
   "cell_type": "markdown",
   "id": "wNUiUUO-K9Hx",
   "metadata": {
    "id": "wNUiUUO-K9Hx"
   },
   "source": [
    "Explanation: Records messages of different severity levels."
   ]
  },
  {
   "cell_type": "markdown",
   "id": "4ib8cm8RLBcD",
   "metadata": {
    "id": "4ib8cm8RLBcD"
   },
   "source": [
    "**Example 3: Logging to a File**"
   ]
  },
  {
   "cell_type": "code",
   "execution_count": null,
   "id": "SklHVJmvK_2-",
   "metadata": {
    "id": "SklHVJmvK_2-"
   },
   "outputs": [],
   "source": [
    "logging.basicConfig(filename='example.log', level=logging.ERROR)\n",
    "logging.error(\"An error has occurred\")"
   ]
  },
  {
   "cell_type": "markdown",
   "id": "XmDUprFKLGNo",
   "metadata": {
    "id": "XmDUprFKLGNo"
   },
   "source": [
    "Explanation: This configures logging to write error messages to a file named **`example.log`**."
   ]
  },
  {
   "cell_type": "markdown",
   "id": "427c4ea7-f816-425c-8630-0866866e21a4",
   "metadata": {
    "jp-MarkdownHeadingCollapsed": true
   },
   "source": [
    "### 3. Unit Testing"
   ]
  },
  {
   "cell_type": "markdown",
   "id": "7d4dd33f",
   "metadata": {
    "id": "7d4dd33f"
   },
   "source": [
    "Unit testing ensures that individual components of the data pipeline work as expected. Python's `unittest` or `pytest` frameworks are commonly used.\n",
    "\n",
    "Unit testing in programming is like testing each individual component of a machine before assembling the whole machine. You ensure that each part (or unit) works correctly on its own. This makes it easier to pinpoint problems. Python provides frameworks like unittest or pytest for this purpose.\n",
    "\n",
    "Analogy: Before building a car, each part like the engine, brakes, and lights are tested separately to ensure they work properly.\n",
    "\n",
    "**`Note:`** There is also the concept of **End-to-End Testing** <br>\n",
    "\n"
   ]
  },
  {
   "cell_type": "markdown",
   "id": "1YQR_aVrL0Sc",
   "metadata": {
    "id": "1YQR_aVrL0Sc"
   },
   "source": [
    "#### **Example 1: Testing a Function**"
   ]
  },
  {
   "cell_type": "code",
   "execution_count": null,
   "id": "EwY9M3S3L5jE",
   "metadata": {
    "id": "EwY9M3S3L5jE"
   },
   "outputs": [],
   "source": [
    "import unittest\n",
    "\n",
    "def add(a, b):\n",
    "    return a + b\n",
    "\n",
    "class TestAddFunction(unittest.TestCase):\n",
    "    def test_add(self):\n",
    "        self.assertEqual(add(1, 2), 3)\n",
    "\n",
    "unittest.main()"
   ]
  },
  {
   "cell_type": "markdown",
   "id": "y7utvaclL8rX",
   "metadata": {
    "id": "y7utvaclL8rX"
   },
   "source": [
    "Explanation: A simple test case for a function that adds two numbers."
   ]
  },
  {
   "cell_type": "markdown",
   "id": "1k1NfXa3L_N8",
   "metadata": {
    "id": "1k1NfXa3L_N8"
   },
   "source": [
    "#### **Example 2: Testing for an Exception**"
   ]
  },
  {
   "cell_type": "code",
   "execution_count": null,
   "id": "gFpASz4WMBNm",
   "metadata": {
    "id": "gFpASz4WMBNm"
   },
   "outputs": [],
   "source": [
    "def divide(a, b):\n",
    "    if b == 0:\n",
    "        raise ValueError(\"Cannot divide by zero\")\n",
    "    return a / b\n",
    "\n",
    "class TestDivideFunction(unittest.TestCase):\n",
    "    def test_divide_zero(self):\n",
    "        with self.assertRaises(ValueError):\n",
    "            divide(10, 0)\n",
    "\n",
    "unittest.main()"
   ]
  },
  {
   "cell_type": "markdown",
   "id": "srrGD3fZMEud",
   "metadata": {
    "id": "srrGD3fZMEud"
   },
   "source": [
    "Explanation: Testing that the **`divide`** function correctly raises a **`ValueError`** when dividing by zero."
   ]
  },
  {
   "cell_type": "markdown",
   "id": "0IqMGHySQwPi",
   "metadata": {
    "id": "0IqMGHySQwPi",
    "jp-MarkdownHeadingCollapsed": true
   },
   "source": [
    "#### **Example 3: Testing a Data Processing Function**"
   ]
  },
  {
   "cell_type": "code",
   "execution_count": null,
   "id": "w9gNzY1wQ3rN",
   "metadata": {
    "id": "w9gNzY1wQ3rN"
   },
   "outputs": [],
   "source": [
    "import unittest\n",
    "\n",
    "def clean_data(data):\n",
    "    \"\"\"\n",
    "    Cleans the input string by trimming whitespace, converting to lowercase,\n",
    "    and removing special characters.\n",
    "    \"\"\"\n",
    "    # Trim whitespace\n",
    "    cleaned = data.strip()\n",
    "\n",
    "    # Convert to lowercase\n",
    "    cleaned = cleaned.lower()\n",
    "\n",
    "    # Remove special characters\n",
    "    cleaned = ''.join(char for char in cleaned if char.isalnum() or char.isspace())\n",
    "\n",
    "    return cleaned\n",
    "\n",
    "\n",
    "class TestDataCleaning(unittest.TestCase):\n",
    "\n",
    "    def test_whitespace_removal(self):\n",
    "        self.assertEqual(clean_data(\"   Hello World   \"), \"hello world\")\n",
    "\n",
    "    def test_lowercase_conversion(self):\n",
    "        self.assertEqual(clean_data(\"HeLLo WorLD\"), \"hello world\")\n",
    "\n",
    "    def test_special_character_removal(self):\n",
    "        self.assertEqual(clean_data(\"Hello@#World!!\"), \"hello world\")\n",
    "\n",
    "    def test_combined_cleaning(self):\n",
    "        self.assertEqual(clean_data(\"  HeLLo@# WoRLD!!  \"), \"hello world\")\n",
    "\n",
    "    def test_empty_string(self):\n",
    "        self.assertEqual(clean_data(\"\"), \"\")\n",
    "\n",
    "if __name__ == '__main__':\n",
    "    unittest.main()\n"
   ]
  },
  {
   "cell_type": "markdown",
   "id": "2379808b-6bc0-46f0-a529-34c2ed9b1ad5",
   "metadata": {
    "jp-MarkdownHeadingCollapsed": true
   },
   "source": [
    "#### **Explanation of Test Cases** <br>"
   ]
  },
  {
   "cell_type": "markdown",
   "id": "IqdVyqSeRHc4",
   "metadata": {
    "id": "IqdVyqSeRHc4"
   },
   "source": [
    "1. **test_whitespace_removal**: Verifies that leading and trailing whitespaces are removed.\n",
    "2. **test_lowercase_conversion**: Checks if the function converts all characters to lowercase.\n",
    "3. **test_special_character_removal**: Tests if special characters (non-alphanumeric) are removed.\n",
    "4. **test_combined_cleaning**: A comprehensive test to ensure the function performs all cleaning tasks together correctly.\n",
    "5. **test_empty_string**: Checks the behavior of the function with an empty string as input.\n",
    "\n",
    "Each of these test cases calls the **`clean_data`** function with different input strings and checks if the output matches the expected cleaned string. This way, we can ensure that our data cleaning function behaves as intended for a variety of input scenarios.\n",
    "\n",
    "By running these tests, especially after modifications to the function, you can quickly catch and fix any regressions or bugs, ensuring the reliability and correctness of your data cleaning logic.\n",
    "\n",
    "\n",
    "\n",
    "\n",
    "\n",
    "\n"
   ]
  },
  {
   "cell_type": "markdown",
   "id": "4e7b481f-caee-4647-af57-28d300c3e37e",
   "metadata": {
    "jp-MarkdownHeadingCollapsed": true
   },
   "source": [
    "#### **End-to-End Testing** <br>"
   ]
  },
  {
   "cell_type": "markdown",
   "id": "5GRNLq64LkDc",
   "metadata": {
    "id": "5GRNLq64LkDc"
   },
   "source": [
    "End-to-end testing, on the other hand, is like testing the whole car after it has been fully assembled to ensure all parts work well together. This involves running scenarios that mimic real-world use of the entire system to validate the complete flow of data or processes.\n",
    "\n",
    "**Analogy:** Once the car is fully assembled, you take it for a test drive. This checks how well the engine, brakes, lights, and other components work together in real-world conditions. In data engineering, end-to-end testing would mean running the entire data pipeline from data ingestion, processing, to storage and ensuring the whole process works as expected.\n",
    "\n",
    "**Key Points:**\n",
    "\n",
    "- Tests the entire system as a whole.\n",
    "- Validates the integration and interaction between different components.\n",
    "- Mimics real-world usage and checks the overall system behavior.\n",
    "\n",
    "**Differences and Importance**\n",
    "\n",
    "- Scope: Unit testing checks individual components, while end-to-end testing evaluates the entire system.\n",
    "- Complexity: Unit tests are simpler and focus on the logic of small parts. End-to-end tests are more complex and involve testing the system as a whole.\n",
    "- Purpose: Unit testing ensures that each component functions correctly on its own, while end-to-end testing ensures that all parts of the system work together correctly in a real-world scenario.\n",
    "- Detection of Issues: Unit testing can quickly identify which specific component has a problem. End-to-end testing helps to identify issues in the interaction between different components."
   ]
  },
  {
   "cell_type": "markdown",
   "id": "1c8b36a6-a1a7-477b-b9bc-43b4e1dbdaf9",
   "metadata": {
    "jp-MarkdownHeadingCollapsed": true
   },
   "source": [
    "#### **Example 1: Testing a Data Pipeline** <br>"
   ]
  },
  {
   "cell_type": "markdown",
   "id": "qPfVVn5qUlvX",
   "metadata": {
    "id": "qPfVVn5qUlvX"
   },
   "source": [
    "Suppose you have a data pipeline that extracts data from a source, transforms it, and then loads it into a database. An end-to-end test would check this entire process.\n",
    "\n",
    "**Python Pseudocode:**"
   ]
  },
  {
   "cell_type": "code",
   "execution_count": null,
   "id": "qWt9xcTVUki9",
   "metadata": {
    "id": "qWt9xcTVUki9"
   },
   "outputs": [],
   "source": [
    "import unittest\n",
    "from my_data_pipeline import DataPipeline\n",
    "\n",
    "class TestDataPipeline(unittest.TestCase):\n",
    "    def test_pipeline_flow(self):\n",
    "        pipeline = DataPipeline()\n",
    "        pipeline.extract_data(\"source_data.csv\")\n",
    "        pipeline.transform_data()\n",
    "        success = pipeline.load_data(\"destination_database\")\n",
    "        self.assertTrue(success)\n",
    "\n",
    "if __name__ == '__main__':\n",
    "    unittest.main()"
   ]
  },
  {
   "cell_type": "markdown",
   "id": "ERQjOLzWU4VH",
   "metadata": {
    "id": "ERQjOLzWU4VH"
   },
   "source": [
    "Explanation: This test simulates running the entire pipeline with a specific dataset and checks whether the data is successfully loaded into the destination database.\n",
    "\n",
    "**Expected Output:** <br>\n",
    "For this test case, the expected output is a confirmation message indicating the test passed. This means the data pipeline successfully extracted, transformed, and loaded the data as intended.\n",
    "\n",
    "If the test passes, the output will typically be along the lines of:"
   ]
  },
  {
   "cell_type": "markdown",
   "id": "WWMZWVQvjCgs",
   "metadata": {
    "id": "WWMZWVQvjCgs"
   },
   "source": [
    "![Success report](https://raw.githubusercontent.com/ehiughele/Project-COVID19-DE-PROJECT/main/image/test%201.png)"
   ]
  },
  {
   "cell_type": "markdown",
   "id": "PKTnSucdjaBW",
   "metadata": {
    "id": "PKTnSucdjaBW"
   },
   "source": [
    "If there's a failure at any stage of the pipeline (e.g., extraction, transformation, or loading fails), the test framework will report a failure, and the output will look something like this:"
   ]
  },
  {
   "cell_type": "markdown",
   "id": "IgZJMWhKkEVE",
   "metadata": {
    "id": "IgZJMWhKkEVE"
   },
   "source": [
    "![Failure report](https://github.com/ehiughele/Project-COVID19-DE-PROJECT/blob/main/image/test%202.png?raw=true)"
   ]
  },
  {
   "cell_type": "markdown",
   "id": "73db124d-26c5-48b2-8755-2e6f5d0b112d",
   "metadata": {
    "jp-MarkdownHeadingCollapsed": true
   },
   "source": [
    "#### **Example 2: Testing an API End-to-End** <br>"
   ]
  },
  {
   "cell_type": "markdown",
   "id": "2Q288hJVU-CO",
   "metadata": {
    "id": "2Q288hJVU-CO"
   },
   "source": [
    "If you have a REST API that processes data requests, an end-to-end test would involve sending a request and verifying the response and the state of the system.\n",
    "\n",
    "**Python with Requests:**"
   ]
  },
  {
   "cell_type": "code",
   "execution_count": null,
   "id": "WVi90R3MVWif",
   "metadata": {
    "id": "WVi90R3MVWif"
   },
   "outputs": [],
   "source": [
    "import requests\n",
    "import unittest\n",
    "\n",
    "class TestApiEndToEnd(unittest.TestCase):\n",
    "    def test_data_processing(self):\n",
    "        response = requests.post(\"http://example.com/api/process\", json={\"data\": \"test\"})\n",
    "        self.assertEqual(response.status_code, 200)\n",
    "        # Further checks can be added to verify database changes or other side effects\n",
    "\n",
    "if __name__ == '__main__':\n",
    "    unittest.main()"
   ]
  },
  {
   "cell_type": "markdown",
   "id": "Bs0DAIHpVZhJ",
   "metadata": {
    "id": "Bs0DAIHpVZhJ"
   },
   "source": [
    "Explanation: This test sends a POST request to the API and verifies that the response indicates success. Additional checks can be added to ensure the data was processed correctly in the backend.\n",
    "\n",
    "**Expected Output:** <br>\n",
    "For the API test, a successful test will output a message indicating the test passed, confirming that the API responded correctly to the POST request and any subsequent checks (like database validation) were successful.\n",
    "\n",
    "A successful test output might look like:"
   ]
  },
  {
   "cell_type": "markdown",
   "id": "ung3YlLrkgV_",
   "metadata": {
    "id": "ung3YlLrkgV_"
   },
   "source": [
    "![Success report](https://github.com/ehiughele/Project-COVID19-DE-PROJECT/blob/main/image/test%203.png?raw=true)"
   ]
  },
  {
   "cell_type": "markdown",
   "id": "sNpbWV43k26f",
   "metadata": {
    "id": "sNpbWV43k26f"
   },
   "source": [
    "If the API does not respond as expected or if the subsequent data checks fail, the output will indicate a failure:"
   ]
  },
  {
   "cell_type": "markdown",
   "id": "HVYGprmJlu2s",
   "metadata": {
    "id": "HVYGprmJlu2s"
   },
   "source": [
    "![Failure report](https://github.com/ehiughele/Project-COVID19-DE-PROJECT/blob/main/image/test%203-1.png?raw=true)"
   ]
  },
  {
   "cell_type": "markdown",
   "id": "f5fb4d25-3044-47bd-b07c-0121b4c72de1",
   "metadata": {},
   "source": [
    "#### **Example 3: Testing a Batch Data Processing Job** <br>"
   ]
  },
  {
   "cell_type": "markdown",
   "id": "tIaGlEX2Vg5h",
   "metadata": {
    "id": "tIaGlEX2Vg5h"
   },
   "source": [
    "In many data engineering contexts, batch data processing is a common task. An end-to-end test for such a job would involve running the job with a predefined dataset and then verifying that it produced the correct output.\n",
    "\n",
    "**Python Pseudocode for a Batch Job Test:**"
   ]
  },
  {
   "cell_type": "code",
   "execution_count": null,
   "id": "MK0xI-uoVl7O",
   "metadata": {
    "id": "MK0xI-uoVl7O"
   },
   "outputs": [],
   "source": [
    "import unittest\n",
    "from batch_processor import BatchProcessor\n",
    "\n",
    "class TestBatchProcessing(unittest.TestCase):\n",
    "    def test_batch_job(self):\n",
    "        processor = BatchProcessor()\n",
    "        processor.load_data(\"input_dataset.csv\")\n",
    "        processor.run_job()\n",
    "        success = processor.verify_output(\"expected_output.csv\")\n",
    "        self.assertTrue(success)\n",
    "\n",
    "if __name__ == '__main__':\n",
    "    unittest.main()\n"
   ]
  },
  {
   "cell_type": "markdown",
   "id": "56vd40D2Vq7E",
   "metadata": {
    "id": "56vd40D2Vq7E"
   },
   "source": [
    "Explanation: This test simulates the execution of a batch processing job, ensuring that the job processes the input data as expected and produces the correct output. The **`verify_output`** method is assumed to compare the job's output against a predefined expected output, validating the correctness of the job.\n",
    "\n",
    "**Expected Output:** <br>\n",
    "For the batch job testing, a passing test indicates that the batch processing job correctly processed the input data and produced the correct output, as verified against the expected result.\n",
    "\n",
    "A successful test will show:"
   ]
  },
  {
   "cell_type": "markdown",
   "id": "nsavXr7smJ8O",
   "metadata": {
    "id": "nsavXr7smJ8O"
   },
   "source": [
    "![Success report](https://github.com/ehiughele/Project-COVID19-DE-PROJECT/blob/main/image/test%204.png?raw=true)"
   ]
  },
  {
   "cell_type": "markdown",
   "id": "NNEk5RtKmXFW",
   "metadata": {
    "id": "NNEk5RtKmXFW"
   },
   "source": [
    "If the batch job fails to produce the correct output, the test will fail, and the output might look like this:"
   ]
  },
  {
   "cell_type": "markdown",
   "id": "6s2bccS-mhog",
   "metadata": {
    "id": "6s2bccS-mhog"
   },
   "source": [
    "![Failure report](https://github.com/ehiughele/Project-COVID19-DE-PROJECT/blob/main/image/test%204-1.png?raw=true)"
   ]
  },
  {
   "cell_type": "markdown",
   "id": "0523bc1f-a7b2-4591-877e-b135d7fe51df",
   "metadata": {
    "jp-MarkdownHeadingCollapsed": true
   },
   "source": [
    "### 4. Interactive Debugging"
   ]
  },
  {
   "cell_type": "markdown",
   "id": "185f2a45",
   "metadata": {
    "id": "185f2a45"
   },
   "source": [
    "Tools like Python Debugger (pdb) can be used for interactive debugging.\n",
    "\n",
    "Interactive debugging is akin to having a conversation with someone while trying to solve a puzzle. You ask questions (commands) and get immediate responses that help you understand the puzzle better. Tools like Python Debugger (pdb) allow you to pause your program, inspect variables, and step through your code line by line to find out where things are going wrong.\n",
    "\n",
    "Analogy: It's like having a guide who helps you through each step of a maze, providing immediate feedback on each decision you make."
   ]
  },
  {
   "cell_type": "markdown",
   "id": "bce7156e-793b-4b26-99ff-8be75e5853d2",
   "metadata": {
    "jp-MarkdownHeadingCollapsed": true
   },
   "source": [
    "#### **Example 1: Using Python Debugger (pdb)**"
   ]
  },
  {
   "cell_type": "markdown",
   "id": "0SuVErI2nEa5",
   "metadata": {
    "id": "0SuVErI2nEa5"
   },
   "source": [
    "Imagine you have a script where you're unsure why a loop is behaving unexpectedly. You can insert a breakpoint using **`pdb`** to inspect it."
   ]
  },
  {
   "cell_type": "code",
   "execution_count": null,
   "id": "Ypvwf9nonMkS",
   "metadata": {
    "id": "Ypvwf9nonMkS"
   },
   "outputs": [],
   "source": [
    "import pdb\n",
    "\n",
    "for i in range(5):\n",
    "    pdb.set_trace()  # Breakpoint\n",
    "    print(i)\n"
   ]
  },
  {
   "cell_type": "markdown",
   "id": "MfjuroeTnNaN",
   "metadata": {
    "id": "MfjuroeTnNaN"
   },
   "source": [
    "Explanation: When you run this script, it will pause at the **`pdb.set_trace()`** line. You can inspect variables, step through the code, and continue execution interactively.\n",
    "\n",
    "**Expected Interaction and Output:** <br>\n",
    "When the script encounters the **`pdb.set_trace()`** line, it will pause execution and enter the debugger. You'll see a prompt like this:"
   ]
  },
  {
   "cell_type": "markdown",
   "id": "PFyeodCbszXp",
   "metadata": {
    "id": "PFyeodCbszXp"
   },
   "source": [
    "![Output](https://github.com/ehiughele/Project-COVID19-DE-PROJECT/blob/main/image/test%205.png?raw=true)"
   ]
  },
  {
   "cell_type": "markdown",
   "id": "40uUJ-aMtReR",
   "metadata": {
    "id": "40uUJ-aMtReR"
   },
   "source": [
    "Here, you can type commands like **`p i`** to print the current value of **`i`**, or **`c`** to continue execution. The script will stop at the breakpoint each time the loop iterates"
   ]
  },
  {
   "cell_type": "markdown",
   "id": "z4RhqEt4tmxg",
   "metadata": {
    "id": "z4RhqEt4tmxg"
   },
   "source": [
    "#### **Example 2: Exploring Variables with pdb**"
   ]
  },
  {
   "cell_type": "code",
   "execution_count": null,
   "id": "CYKkVcCl0AJC",
   "metadata": {
    "id": "CYKkVcCl0AJC"
   },
   "outputs": [],
   "source": [
    "def compute_sum(numbers):\n",
    "    sum = 0\n",
    "    for number in numbers:\n",
    "        pdb.set_trace()  # Breakpoint\n",
    "        sum += number\n",
    "    return sum\n",
    "\n",
    "compute_sum([1, 2, 3])\n"
   ]
  },
  {
   "cell_type": "markdown",
   "id": "V68-jQPSz4bC",
   "metadata": {
    "id": "V68-jQPSz4bC"
   },
   "source": [
    "Explanation: During each iteration of the loop, you can use pdb to inspect the **`number`** and **`sum`** variables.\n",
    "\n",
    "**Expected Interaction and Output:**\n",
    "Similar to Example 1, the script will pause at the **`pdb.set_trace()`** line inside the loop. The debugger prompt will be shown:"
   ]
  },
  {
   "cell_type": "markdown",
   "id": "2nNc_DO6t7SU",
   "metadata": {
    "id": "2nNc_DO6t7SU"
   },
   "source": [
    "![Output](https://github.com/ehiughele/Project-COVID19-DE-PROJECT/blob/main/image/test%206.png?raw=true)"
   ]
  },
  {
   "cell_type": "markdown",
   "id": "9GPrNCh2vXXJ",
   "metadata": {
    "id": "9GPrNCh2vXXJ"
   },
   "source": [
    "At this point, you can inspect variables like **`number`** and **`sum`** using commands like **`p number`** or **`p sum`**. After inspecting, you can continue (**`c`**) to the next iteration or exit (**`q`**) the debugger."
   ]
  },
  {
   "cell_type": "markdown",
   "id": "996caf51-ed24-4d51-a0fb-50a924ad3cc5",
   "metadata": {},
   "source": [
    "#### **Example 3: Using pdb to Identify Logical Errors**"
   ]
  },
  {
   "cell_type": "code",
   "execution_count": null,
   "id": "AKbWRolTyaxC",
   "metadata": {
    "id": "AKbWRolTyaxC"
   },
   "outputs": [],
   "source": [
    "def find_max(numbers):\n",
    "    max_number = numbers[0]\n",
    "    for number in numbers:\n",
    "        pdb.set_trace()  # Breakpoint\n",
    "        if number > max_number:\n",
    "            max_number = number\n",
    "    return max_number\n",
    "\n",
    "find_max([1, 3, 2])\n"
   ]
  },
  {
   "cell_type": "markdown",
   "id": "GkAnsK-Cx55C",
   "metadata": {
    "id": "GkAnsK-Cx55C"
   },
   "source": [
    "Explanation: By stepping through the function, you can watch how **`max_number`** is updated and verify the logic.\n",
    "\n",
    "**Expected Interaction and Output:** <br>\n",
    "As the function executes, it will hit the breakpoint. The debugger will open:"
   ]
  },
  {
   "cell_type": "markdown",
   "id": "P1PhZAOgy-4q",
   "metadata": {
    "id": "P1PhZAOgy-4q"
   },
   "source": [
    "![Output](https://github.com/ehiughele/Project-COVID19-DE-PROJECT/blob/main/image/test%207.png?raw=true)"
   ]
  },
  {
   "cell_type": "markdown",
   "id": "VfN7Xmdlze86",
   "metadata": {
    "id": "VfN7Xmdlze86"
   },
   "source": [
    "In the debugger, you can step through each line (**`n`** for next line), inspect variables (**`p max_number `**and**` p number`**), and understand how max_number is updated in each iteration. This interactive session helps you trace the logic step-by-step and identify where it might be going wrong.\n",
    "\n",
    "In each of these examples, **`pdb`** serves as an interactive tool that allows you to pause execution, inspect the state of your program, and execute commands to understand how your code is behaving. This is particularly useful for identifying and resolving logical errors and understanding the flow of execution."
   ]
  },
  {
   "cell_type": "markdown",
   "id": "2f4b1952-a4c7-4394-82ba-a82835930d9f",
   "metadata": {
    "jp-MarkdownHeadingCollapsed": true
   },
   "source": [
    "### 5. Version Control for Debugging"
   ]
  },
  {
   "cell_type": "markdown",
   "id": "e3b8e300",
   "metadata": {
    "id": "e3b8e300"
   },
   "source": [
    "Using version control systems like git helps in tracking changes and identifying when bugs were introduced.\n",
    "\n",
    "Using version control systems like git in programming is similar to keeping a detailed history of the drafts of a novel. Each change is recorded, and if something goes wrong, you can look back through the changes to find out where the error was introduced. It's a powerful tool for collaboration and tracking the evolution of your codebase.\n",
    "\n",
    "Analogy: Imagine writing a book with multiple drafts. If the latest draft has a problem, you can compare it with earlier drafts to see what changed and find where the error might have started."
   ]
  },
  {
   "cell_type": "markdown",
   "id": "T8hnHrLYBw1u",
   "metadata": {
    "id": "T8hnHrLYBw1u"
   },
   "source": [
    "#### **Example 1: Browsing History with git**"
   ]
  },
  {
   "cell_type": "markdown",
   "id": "esTx-J1sG2y-",
   "metadata": {
    "id": "esTx-J1sG2y-"
   },
   "source": [
    "![Output](https://github.com/ehiughele/Project-COVID19-DE-PROJECT/blob/main/image/test%208.png?raw=true)"
   ]
  },
  {
   "cell_type": "markdown",
   "id": "mP3RD1_HHFcW",
   "metadata": {
    "id": "mP3RD1_HHFcW"
   },
   "source": [
    "Explanation: By reviewing commit messages and diffs, you can identify when a specific change was made that may have introduced a bug.\n",
    "\n",
    "**Expected Output:** <br>\n",
    "The **`git log`** command provides a list of recent commits in the repository, including the commit message, author, and date."
   ]
  },
  {
   "cell_type": "markdown",
   "id": "LFmlT1kEItfJ",
   "metadata": {
    "id": "LFmlT1kEItfJ"
   },
   "source": [
    "![Output](https://github.com/ehiughele/Project-COVID19-DE-PROJECT/blob/main/image/test%2011.png?raw=true)"
   ]
  },
  {
   "cell_type": "markdown",
   "id": "u7DWRbGjHh9H",
   "metadata": {
    "id": "u7DWRbGjHh9H"
   },
   "source": [
    "####  **Example 2: Comparing Changes**"
   ]
  },
  {
   "cell_type": "markdown",
   "id": "tjwUl128HmYH",
   "metadata": {
    "id": "tjwUl128HmYH"
   },
   "source": [
    "![Output](https://github.com/ehiughele/Project-COVID19-DE-PROJECT/blob/main/image/test%209.png?raw=true)"
   ]
  },
  {
   "cell_type": "markdown",
   "id": "6JMjG3ntH3SG",
   "metadata": {
    "id": "6JMjG3ntH3SG"
   },
   "source": [
    "Explanation: This command allows you to see what changed between two commits, which can be useful in pinpointing when a bug was introduced.\n",
    "\n",
    "**Expected Output:** <br>\n",
    "Using **`git diff <commit_id_1> <commit_id_2>`**, you'll see a detailed comparison between two commits. It shows what has been added or removed in the files that changed."
   ]
  },
  {
   "cell_type": "markdown",
   "id": "Dt2Z7DkgJK-d",
   "metadata": {
    "id": "Dt2Z7DkgJK-d"
   },
   "source": [
    "![Output](https://github.com/ehiughele/Project-COVID19-DE-PROJECT/blob/main/image/test%2012.png?raw=true)"
   ]
  },
  {
   "cell_type": "markdown",
   "id": "FqAvZK86H6Nl",
   "metadata": {
    "id": "FqAvZK86H6Nl"
   },
   "source": [
    "####  **Example 3: Checking Out an Older Version**"
   ]
  },
  {
   "cell_type": "markdown",
   "id": "tE0CglHSIAj3",
   "metadata": {
    "id": "tE0CglHSIAj3"
   },
   "source": [
    "![Output](https://github.com/ehiughele/Project-COVID19-DE-PROJECT/blob/main/image/test%2010.png?raw=true)"
   ]
  },
  {
   "cell_type": "markdown",
   "id": "8cD_tsRwITun",
   "metadata": {
    "id": "8cD_tsRwITun"
   },
   "source": [
    "Explanation: If you suspect a recent change caused a bug, you can revert to an older version of the code to see if the problem persists.\n",
    "\n",
    "**Expected Output:** <br>\n",
    "When you run **`git checkout <commit_id>`**, git switches your working directory to the state it was in at the specified commit. The output confirms the switch."
   ]
  },
  {
   "cell_type": "markdown",
   "id": "6pCbUKg3J1AV",
   "metadata": {
    "id": "6pCbUKg3J1AV"
   },
   "source": [
    "![Output](https://github.com/ehiughele/Project-COVID19-DE-PROJECT/blob/main/image/test%2013.png?raw=true)"
   ]
  },
  {
   "cell_type": "markdown",
   "id": "jrKk9EzrKRnu",
   "metadata": {
    "id": "jrKk9EzrKRnu"
   },
   "source": [
    "In these examples, the outputs from git provide valuable information for debugging. They allow you to explore the history of changes, compare different states of the code, and even revert to previous versions to understand when and how bugs were introduced. This is a crucial part of the debugging process, especially in complex projects where changes are continuously integrated."
   ]
  },
  {
   "cell_type": "markdown",
   "id": "d4b0b805-67cd-44a3-aef5-57f56b4716be",
   "metadata": {
    "jp-MarkdownHeadingCollapsed": true
   },
   "source": [
    "## Case Studies and Use Cases"
   ]
  },
  {
   "cell_type": "markdown",
   "id": "55d965ef-9c7b-4738-91e4-a6275a55e3fa",
   "metadata": {
    "jp-MarkdownHeadingCollapsed": true
   },
   "source": [
    "## Case Study 1: Debugging a Data Pipeline Failure"
   ]
  },
  {
   "cell_type": "markdown",
   "id": "29d68db7",
   "metadata": {
    "id": "29d68db7"
   },
   "source": [
    "This case study explores the steps taken to debug a failing data pipeline.\n",
    "\n",
    "Analogy: Imagine a water pipeline system in a city. One day, water stops flowing to certain areas. The engineers must find the cause: Is it a blockage, a leak, or a pump failure? They check the pipeline segment by segment until they locate the problem.\n",
    "\n",
    "In data engineering, debugging a data pipeline is similar. You check each part of the pipeline - data ingestion, processing, and storage - to locate the issue. It might be a failed data source connection, a processing error in the transformation stage, or an issue with the final data load into the storage system.\n",
    "\n",
    "**Steps for Debugging:**\n",
    "\n",
    "- Check logs to identify where the pipeline failed.\n",
    "- Test each component individually (source, processing, storage).\n",
    "- Correct the identified issue and monitor the pipeline to ensure it's resolved."
   ]
  },
  {
   "cell_type": "markdown",
   "id": "05adce61-f39d-49ae-a3f4-0a8d8a1bbc6d",
   "metadata": {
    "jp-MarkdownHeadingCollapsed": true
   },
   "source": [
    "## Case Study 2: Solving Data Quality Issues in a Data Lake"
   ]
  },
  {
   "cell_type": "markdown",
   "id": "6d487b3e",
   "metadata": {
    "id": "6d487b3e"
   },
   "source": [
    "Here, we discuss strategies to address and rectify data quality issues in a data lake.\n",
    "\n",
    "Analogy: Consider a librarian organizing a library. If books are randomly placed without any system, finding a specific book becomes difficult. The librarian must organize and possibly clean out old, irrelevant books.\n",
    "\n",
    "In a data lake, solving data quality issues is akin to organizing this library. The data might be in various formats, incomplete, outdated, or inaccurate. The task is to clean (remove inaccuracies), organize (correct formats, schema), and update (ensure data is current and relevant).\n",
    "\n",
    "**Strategies:**\n",
    "\n",
    "- Implement data cleaning processes to remove or correct inaccurate records.\n",
    "- Standardize data formats and schemas for consistency.\n",
    "- Regularly update the data and remove outdated or irrelevant information."
   ]
  },
  {
   "cell_type": "markdown",
   "id": "3ee92a80-3da8-4213-a9d7-3dbc3f46ed03",
   "metadata": {
    "jp-MarkdownHeadingCollapsed": true
   },
   "source": [
    "## Case Study 3: Performance Tuning in Data Processing"
   ]
  },
  {
   "cell_type": "markdown",
   "id": "d8fb36d0",
   "metadata": {
    "id": "d8fb36d0"
   },
   "source": [
    "This case focuses on optimizing the performance of data processing tasks.\n",
    "\n",
    "Analogy: Think of a factory assembly line. If one part of the line is slower, it bottlenecks the entire production. To optimize, each segment of the line must operate efficiently.\n",
    "\n",
    "Similarly, in data processing, performance tuning involves identifying bottlenecks or inefficient code segments in your data processing tasks. This could be an inefficient database query, a slow data transformation process, or inadequate resource allocation.\n",
    "\n",
    "**Optimization Techniques:**\n",
    "\n",
    "- Profile the processing tasks to identify slow operations.\n",
    "- Optimize resource-intensive processes, like using more efficient algorithms or indexing in databases.\n",
    "- Scale resources as needed, such as increasing computational power or optimizing storage."
   ]
  },
  {
   "cell_type": "markdown",
   "id": "a8c94fdc-2b52-46d7-a7f9-905cd57e290e",
   "metadata": {},
   "source": [
    "## Best Practices in Error Handling and Prevention"
   ]
  },
  {
   "cell_type": "markdown",
   "id": "1032059c",
   "metadata": {
    "id": "1032059c"
   },
   "source": [
    "- Writing robust error handling code to gracefully manage unexpected failures.\n",
    "- Proactively preventing common errors through best practices in code development and data management.\n"
   ]
  },
  {
   "cell_type": "markdown",
   "id": "000509eb-256b-4a26-9fc0-bb7443ccd226",
   "metadata": {},
   "source": [
    "## Conclusion"
   ]
  },
  {
   "cell_type": "markdown",
   "id": "624b3613",
   "metadata": {
    "id": "624b3613"
   },
   "source": [
    "In this notebook, we have covered various aspects of debugging in data engineering, from understanding different types of errors to applying practical debugging techniques. Remember, effective error handling and debugging are key to maintaining reliable and efficient data pipelines.\n"
   ]
  },
  {
   "cell_type": "markdown",
   "id": "a149ae0b",
   "metadata": {
    "id": "7xMoxrJsKT3A",
    "jp-MarkdownHeadingCollapsed": true
   },
   "source": [
    "# Mastering Clean Coding with PEP8"
   ]
  },
  {
   "cell_type": "markdown",
   "id": "b6e82d31",
   "metadata": {
    "id": "MybV8yZmKll2"
   },
   "source": [
    "## Educational Aims\n",
    "\n",
    "This training module will equip you with the skills to:\n",
    "\n",
    "- Adhere to PEP-8 standards for pristine code writing\n",
    "- Apply proper indentation and adhere to recommended comment formatting\n",
    "- Craft docstrings effectively and employ PEP-8 compliant variable naming conventions\n",
    "\n",
    "## Training Structure\n",
    "\n",
    "The module is organized in the following manner:\n",
    "\n",
    "- An introductory overview of PEP-8 guidelines for refined code writing\n",
    "- Best practices for imports, indentation, and overall code layout\n",
    "- Methods for integrating comments and docstrings into your code\n",
    "- Guidance on naming conventions and the strategic use of whitespace in expressions and statements"
   ]
  },
  {
   "cell_type": "markdown",
   "id": "e27bbe65-837a-4ac4-a2bb-ed1c314c0b5c",
   "metadata": {
    "jp-MarkdownHeadingCollapsed": true
   },
   "source": [
    "## Introduction"
   ]
  },
  {
   "cell_type": "markdown",
   "id": "37e3388e",
   "metadata": {
    "id": "4zZ1w6a9LFAE"
   },
   "source": [
    "As you delve into code writing, understanding the art of styling your code becomes essential. Coding transcends the mere act of typing words and expecting them to function; it's about the organization and style of those words. Imagine trying to comprehend an essay with poor punctuation; similarly, unformatted code can be challenging to decipher. To enhance the readability of our code, we turn to the Python Enhancement Proposal (PEP) guidelines, specifically PEP-8.\n",
    "\n",
    "A Python Enhancement Proposal (PEP) is a document submitted for proposing significant changes or improvements to the Python language. PEP-8, one of the earliest PEPs, provides a collection of rules and recommendations for formatting Python code. This is crucial in projects involving cross-departmental collaboration, as cleanly written code fosters better communication and efficiency within teams.\n",
    "\n",
    "Below is a *PEP-8 Cheat Sheet* image for your reference. In this training, we will delve deeper into each of these guidelines."
   ]
  },
  {
   "cell_type": "markdown",
   "id": "2b8d677e",
   "metadata": {
    "id": "LxhA4Xf47PG5"
   },
   "source": [
    "![Pep-8 Image](https://github.com/ehiughele/Project-COVID19-DE-PROJECT/blob/main/image/PEP_8_Guide.jpg?raw=true)"
   ]
  },
  {
   "cell_type": "markdown",
   "id": "90a583e3-ef93-451c-b2e4-221bc4f9a574",
   "metadata": {
    "jp-MarkdownHeadingCollapsed": true
   },
   "source": [
    "## Managing Imports"
   ]
  },
  {
   "cell_type": "markdown",
   "id": "e7b9c52c",
   "metadata": {
    "id": "7SB-ucnN8Ake"
   },
   "source": [
    "In Python data science, it's typical to use various libraries and modules. The initial step in script creation should be to position your library imports at the beginning of the document.\n",
    "\n",
    "Place imports right after any initial comments, docstrings, and declarations of global modules or constants. For clarity and organization, each library should be imported on its own line."
   ]
  },
  {
   "cell_type": "markdown",
   "id": "862efa87",
   "metadata": {
    "id": "xCFqnsLL8aEs"
   },
   "source": [
    "* **Good Import Practices**\n",
    "\n",
    "Here are some examples of effective techniques for importing libraries."
   ]
  },
  {
   "cell_type": "code",
   "execution_count": null,
   "id": "8db5f4ec",
   "metadata": {
    "id": "iIi127kM67Cf"
   },
   "outputs": [],
   "source": [
    "# Proper Import Example (1)\n",
    "import matplotlib.pyplot as plt\n"
   ]
  },
  {
   "cell_type": "code",
   "execution_count": null,
   "id": "787c78a9",
   "metadata": {
    "id": "KqOdqyGLPGW9"
   },
   "outputs": [],
   "source": [
    "# Additional Example of Effective Imports (2)\n",
    "from datetime import datetime\n",
    "import seaborn as sns"
   ]
  },
  {
   "cell_type": "markdown",
   "id": "0660d0fb",
   "metadata": {
    "id": "sKFWr9Cd9f46"
   },
   "source": [
    " * **Inadvisable Import Methods**\n",
    "\n",
    "Below are examples of import practices that are best avoided in your coding efforts. Utilizing wildcard imports (2) can be problematic because it's possible for two modules within a library to share the same name but function differently; one might be a native Python3 module, while the other could be from a third-party extension. This practice can also complicate the process of pinpointing which module is responsible for any bugs in your code."
   ]
  },
  {
   "cell_type": "code",
   "execution_count": null,
   "id": "601c5d89",
   "metadata": {
    "id": "9uI96b7H8YQZ"
   },
   "outputs": [],
   "source": [
    "# Improper Import Example (1)\n",
    "from math, random import sqrt, randint\n"
   ]
  },
  {
   "cell_type": "code",
   "execution_count": null,
   "id": "2bf769eb",
   "metadata": {
    "id": "-xOPGiWYPJOp"
   },
   "outputs": [],
   "source": [
    "# Further Example of Inadvisable Imports (2)\n",
    "import matplotlib., scipy."
   ]
  },
  {
   "cell_type": "markdown",
   "id": "0c5ff2ad-e48a-46b8-800e-d6fcd53eb629",
   "metadata": {
    "jp-MarkdownHeadingCollapsed": true
   },
   "source": [
    "## Managing Indentation"
   ]
  },
  {
   "cell_type": "markdown",
   "id": "6ddc3613",
   "metadata": {
    "id": "qHqMA_zQ-dXm"
   },
   "source": [
    "Python sets itself apart from languages like Java and C++ by using indentation instead of braces for structuring its syntax. It's important to note that using tab indents is generally more reliable than spaces. This is due to the uniform nature of tabs, which reduces the likelihood of errors compared to varying numbers of spaces in code blocks. In Python, a standard indent equates to four spaces, and it's easy to mistakenly use three or five spaces instead. Therefore, utilizing the Tab key (on Windows) for indents is advisable. Also, it's a good practice to keep a line of code within 80 characters; if it exceeds, it should be continued on the next line.\n",
    "\n",
    "The importance of these guidelines will be evident in the upcoming examples."
   ]
  },
  {
   "cell_type": "markdown",
   "id": "e8994d80",
   "metadata": {
    "id": "fbQyfiAjABo-"
   },
   "source": [
    "* **Effective Indentation Practices**\n",
    "\n",
    "In the example below, tabs are utilized to create uniform spaces between the blocks of code."
   ]
  },
  {
   "cell_type": "code",
   "execution_count": null,
   "id": "1a3b15a1",
   "metadata": {
    "id": "JBA3KUN3-Ks6"
   },
   "outputs": [],
   "source": [
    "# Example of Clear Indentation\n",
    "def calculate_area(shape, dimensions):\n",
    "    if shape == 'circle': # 4 white spaces used\n",
    "        radius = dimensions[0] # 8 white spaces used\n",
    "        return 3.14 * radius ** 2\n",
    "    elif shape == 'square':\n",
    "        side = dimensions[0]\n",
    "        return side * side\n",
    "    else:\n",
    "        return 'Shape not recognized'"
   ]
  },
  {
   "cell_type": "code",
   "execution_count": null,
   "id": "7094fbe1",
   "metadata": {
    "id": "TfLY4ukxPgE-"
   },
   "outputs": [],
   "source": [
    "# Example of Readable Function Definition\n",
    "def calculate_volume(length, width, height):\n",
    "    if length > 0 and width > 0 and height > 0: # 4 white spaces used\n",
    "        volume = length * width * height # 8 white spaces used\n",
    "        return volume\n",
    "    else:\n",
    "        return 'Invalid dimensions'"
   ]
  },
  {
   "cell_type": "code",
   "execution_count": null,
   "id": "9b5add63",
   "metadata": {
    "id": "4r_fdw1oPjB_"
   },
   "outputs": [],
   "source": [
    "# Example of Well-Indented Conditional Statements\n",
    "def check_eligibility(age, citizenship):\n",
    "    if age >= 18 and citizenship == 'Yes': # 4 white spaces used\n",
    "        return 'Eligible to vote'\n",
    "    else:\n",
    "        return 'Not eligible to vote'"
   ]
  },
  {
   "cell_type": "markdown",
   "id": "98ebb4bd",
   "metadata": {
    "id": "icizSUgSAHoU"
   },
   "source": [
    "* **Incorrect Indentation Practices**\n",
    "\n",
    "The example below demonstrates a mix of tabs and white spaces for indentation. Python 3 disallows this combination, leading to errors. Consistency is key, and it's preferable to stick to using tabs exclusively throughout the code."
   ]
  },
  {
   "cell_type": "code",
   "execution_count": null,
   "id": "022d78d0",
   "metadata": {
    "id": "QoAIdijAATjY"
   },
   "outputs": [],
   "source": [
    "# Example of Incorrect Indentation\n",
    "def calculate_discount(price, discount):\n",
    "    if price > 100: # 4 white spaces used\n",
    "      discount_rate = 0.10 # 6 white spaces used\n",
    "    elif price > 50: # 4 white spaces used\n",
    "       discount_rate = 0.05 # 7 white spaces used\n",
    "    else: # 4 white spaces used\n",
    "        discount_rate = 0.02 # 8 white spaces used\n",
    "        return price - (price * discount_rate)"
   ]
  },
  {
   "cell_type": "code",
   "execution_count": null,
   "id": "53c8085e",
   "metadata": {
    "id": "aqbRHrM8PxiT"
   },
   "outputs": [],
   "source": [
    "# Incorrect Indentation in Loop\n",
    "def list_even_numbers(numbers):\n",
    "    for number in numbers: # 4 white spaces used\n",
    "     if number % 2 == 0: # 5 white spaces used\n",
    "        print(number) # 8 white spaces used\n",
    "      else: # 6 white spaces used\n",
    "          continue"
   ]
  },
  {
   "cell_type": "code",
   "execution_count": null,
   "id": "65852020",
   "metadata": {
    "id": "GVjsFth7Pzst"
   },
   "outputs": [],
   "source": [
    "# Mismatched Indentation in Function\n",
    "def find_max_value(values):\n",
    "    max_value = values[0] # 4 white spaces used\n",
    "     for value in values: # 5 white spaces used\n",
    "        if value > max_value: # 8 white spaces used\n",
    "            max_value = value # 12 white spaces used\n",
    "    return max_value\n"
   ]
  },
  {
   "cell_type": "markdown",
   "id": "f07b79b8-ed4c-425c-bf40-028fcb61227e",
   "metadata": {
    "jp-MarkdownHeadingCollapsed": true
   },
   "source": [
    "## Organizing Code Layout"
   ]
  },
  {
   "cell_type": "markdown",
   "id": "8ffe20d5",
   "metadata": {
    "id": "dbd-54MdCIEl"
   },
   "source": [
    "The structure of your code significantly influences its readability. To create code that is both clear and adheres to PEP-8 standards, consider these key points about using blank lines and managing line length."
   ]
  },
  {
   "cell_type": "markdown",
   "id": "a629ea8f-a3c4-4d50-9548-7d4dd6b7d569",
   "metadata": {},
   "source": [
    "### Utilizing Blank Lines"
   ]
  },
  {
   "cell_type": "markdown",
   "id": "f7e5a634",
   "metadata": {
    "id": "gq5kJyklCN8n"
   },
   "source": [
    "Strategically placed blank lines can enhance the readability of your code. Compact code can be hard to follow, while too many blank lines can make your code appear disjointed and lead to excessive scrolling. Here are essential guidelines for using blank lines effectively in your code.\n",
    "\n",
    "\n",
    "Surround top-level functions and classes with two blank lines. These elements should be relatively independent, and functions should be treated as distinct units. Adding extra blank lines between each function helps in making them easily identifiable in your code:"
   ]
  },
  {
   "cell_type": "code",
   "execution_count": null,
   "id": "8f5c93f9",
   "metadata": {
    "id": "Fdh6DKB4CNAe"
   },
   "outputs": [],
   "source": [
    "def first_function():\n",
    "    print(\"This is the first function\")\n",
    "    return None\n",
    "\n",
    "\n",
    "def second_function():\n",
    "    print(\"This is the second function\")\n",
    "    return None\n",
    "\n",
    "\n",
    "def third_function():\n",
    "    print(\"This is the third function\")\n",
    "    return None"
   ]
  },
  {
   "cell_type": "markdown",
   "id": "5ec81679",
   "metadata": {
    "id": "8B9EKGA6x0pt"
   },
   "source": [
    "On the other hand, when defining multiple functions within the same script or module, it's recommended to use a single blank line between them. This practice, applicable to functions created with def, helps to differentiate each function while acknowledging their collective relevance within the same context:"
   ]
  },
  {
   "cell_type": "code",
   "execution_count": null,
   "id": "da247d7b",
   "metadata": {
    "id": "o9cY3yOix1F8"
   },
   "outputs": [],
   "source": [
    "def calculate_sum(a, b):\n",
    "    return a + b\n",
    "\n",
    "def multiply_numbers(x, y):\n",
    "    return x * y\n",
    "\n",
    "def divide_numbers(m, n):\n",
    "    if n != 0:\n",
    "        return m / n\n",
    "    else:\n",
    "        return \"Division by zero is not allowed\""
   ]
  },
  {
   "cell_type": "markdown",
   "id": "1e7bfaef-6fda-4196-9f39-78536ced5afd",
   "metadata": {},
   "source": [
    "### Managing Line Length"
   ]
  },
  {
   "cell_type": "markdown",
   "id": "c1d22eb3",
   "metadata": {
    "id": "kV20Ml48ytob"
   },
   "source": [
    "PEP 8 recommends keeping lines to a maximum of 79 characters for code and 72 for docstrings/comments. This recommendation originates from the display limitations of older computer terminals, which could only accommodate 79 characters on a single line. Adhering to this limit facilitates side-by-side file viewing and reduces the need for line wrapping. However, it's worth noting that some teams may opt for a 99-character limit, reflecting a more flexible approach to this guideline.\n",
    "\n",
    "For wrapping longer lines, Python encourages the use of implied line continuation within parentheses, brackets, and braces, favoring this method over using a backslash for line breaks. This approach allows for splitting long expressions over several lines, enhancing readability. Below is an example illustrating this practice:"
   ]
  },
  {
   "cell_type": "markdown",
   "id": "73051496",
   "metadata": {
    "id": "5R5bU33EI3qg"
   },
   "source": [
    "with open('/path/to/the/source/file') as source_file, \\\n",
    "     open('/path/to/the/destination/file', 'w') as destination_file:\n",
    "    destination_file.write(source_file.read())"
   ]
  },
  {
   "cell_type": "markdown",
   "id": "9ddbc91e-f218-4632-81ed-3a257ce3e295",
   "metadata": {
    "jp-MarkdownHeadingCollapsed": true
   },
   "source": [
    "## Utilizing Comments"
   ]
  },
  {
   "cell_type": "markdown",
   "id": "8da0088e",
   "metadata": {
    "id": "RcPbmMLkI3nJ"
   },
   "source": [
    "Comments serve as guides for readers to understand the intentions behind code segments. This is especially valuable in scenarios where project responsibilities are transferred, allowing newcomers to grasp the existing work more easily.\n",
    "\n",
    "Python, unlike C++ or Java, doesn't distinguish between block and inline comments through syntax; it uses the hash symbol \"#\" for both. Comments should be employed to clarify: the reasoning behind specific code decisions, and to highlight crucial aspects of the problem your code addresses.\n",
    "\n",
    "A key principle to remember is that while code illustrates the process, comments should elucidate the rationale."
   ]
  },
  {
   "cell_type": "code",
   "execution_count": null,
   "id": "a712e946",
   "metadata": {
    "id": "XjKB4Cz1IbGb"
   },
   "outputs": [],
   "source": [
    "# Example of a bLOCK comment\n",
    "tasks = ['walk barefoot', 'maintain positivity', 'explore boldly', 'prioritize development'] # Example of an inline comment\n",
    "goals = ['develop a remarkable project', 'commit to team goals'] # Another inline comment"
   ]
  },
  {
   "cell_type": "code",
   "execution_count": null,
   "id": "11c1fa2f",
   "metadata": {
    "id": "bExSB_yEQaH2"
   },
   "outputs": [],
   "source": [
    "# This is a block comment explaining the purpose of the function\n",
    "# It calculates the average of a list of numbers and prints the result\n",
    "def calculate_average(numbers):\n",
    "    total_sum = sum(numbers)  # Inline comment: summing the list of numbers\n",
    "    count = len(numbers)  # Inline comment: getting the count of numbers\n",
    "    average = total_sum / count  # Inline comment: calculating the average\n",
    "    print(\"The average is:\", average)"
   ]
  },
  {
   "cell_type": "code",
   "execution_count": null,
   "id": "77f1a9dd",
   "metadata": {
    "id": "36CUyvdgQdAX"
   },
   "outputs": [],
   "source": [
    "# Here we define a function to check if a number is prime\n",
    "# This is useful for mathematical computations and algorithms\n",
    "def is_prime(number):\n",
    "    if number > 1:  # Inline comment: all primes are greater than 1\n",
    "        for i in range(2, number):\n",
    "            if (number % i) == 0:  # Inline comment: checking for factors\n",
    "                print(number, \"is not a prime number\")\n",
    "                break\n",
    "        else:\n",
    "            print(number, \"is a prime number\")\n",
    "    else:\n",
    "        print(number, \"is not a prime number\")  # Inline comment: 1 is not prime"
   ]
  },
  {
   "cell_type": "markdown",
   "id": "edc500e3-4d26-40ce-b92b-17f0fbf2e2c7",
   "metadata": {
    "jp-MarkdownHeadingCollapsed": true
   },
   "source": [
    "## Documenting with Docstrings"
   ]
  },
  {
   "cell_type": "markdown",
   "id": "b407ce8d",
   "metadata": {
    "id": "PDUEu3NcKjSV"
   },
   "source": [
    "Effective coding, especially in Object-Oriented Programming (OOP), necessitates the inclusion of docstrings for methods, classes, and functions. Docstrings, short for documentation strings, are textual annotations enclosed within triple double quotes (\"\"\") or triple single quotes (''') situated at the beginning of any function, class, method, or module. Their purpose is to provide a concise description and documentation of a code segment. Adhering to the PEP-257 guidelines, docstrings play a critical role in maintaining clean and understandable code.\n",
    "\n",
    "For comprehensive examples of docstrings, refer to the PEP-257 documentation."
   ]
  },
  {
   "cell_type": "code",
   "execution_count": null,
   "id": "7f048f63",
   "metadata": {
    "id": "QcfBejm_Kp3n"
   },
   "outputs": [],
   "source": [
    "# Single-line docstring\n",
    "\"\"\"This is an example of a single-line docstring\"\"\"\n",
    "# Example function\n",
    "def greet(name):\n",
    "    \"\"\"Greets a person with their name.\"\"\"\n",
    "    print(f\"Hello, {name}!\")\n"
   ]
  },
  {
   "cell_type": "code",
   "execution_count": null,
   "id": "50067ec9",
   "metadata": {
    "id": "T0IF-9iAQiyp"
   },
   "outputs": [],
   "source": [
    "# Multi-line docstring\n",
    "\"\"\"Performs a division\n",
    "\n",
    "Takes two numbers and divides the first by the second.\n",
    "\"\"\"\n",
    "# Example function\n",
    "def divide(x, y):\n",
    "    \"\"\"Divides the first number by the second and returns the result.\n",
    "    Parameters\n",
    "    ----------\n",
    "    x: float\n",
    "        The numerator\n",
    "    y: float\n",
    "        The denominator, should not be zero\n",
    "\n",
    "    Returns\n",
    "    -------\n",
    "    result: float\n",
    "        The division of x by y\n",
    "    \"\"\"\n",
    "    result = x / y\n",
    "    return result\n"
   ]
  },
  {
   "cell_type": "markdown",
   "id": "261c013c-58d4-4828-aa10-640ea4cc19bf",
   "metadata": {},
   "source": [
    "## Adhering to Naming Conventions"
   ]
  },
  {
   "cell_type": "markdown",
   "id": "4e34cca2",
   "metadata": {
    "id": "s6JMTy1wMUrX"
   },
   "source": [
    "Maintaining a consistent naming scheme is crucial for the clarity and readability of code. While several styles exist, this course will focus on specific conventions that enhance code cleanliness. For a more thorough exploration, refer to the PEP-8 documentation (see appendix for link).\n",
    "\n",
    "- `lowercase`: Used for naming variables.\n",
    "- `UPPERCASE`: Designates constants.\n",
    "- `camelCase`: Though rarely employed in Python, it's mentioned for completeness.\n",
    "- `CapitalizedWords` (or CamelCase): Recommended for class names.\n",
    "- Use `underscores` (`_`) to represent spaces."
   ]
  },
  {
   "cell_type": "code",
   "execution_count": null,
   "id": "b75b7c43",
   "metadata": {
    "id": "SZ-E5wYXMl2J"
   },
   "outputs": [],
   "source": [
    "# lowercase (for variable names)\n",
    "age = 25\n",
    "city = 'london'\n",
    "\n",
    "# lowercase_underscores (suitable for function names)\n",
    "def calculate_tax():\n",
    "tax_rate = 0.2\n",
    "\n",
    "# UPPERCASE (ideal for constants)\n",
    "MAX_SPEED = 120\n",
    "EARTH_RADIUS = 6371\n",
    "\n",
    "# UPPERCASE_UNDERSCORES (also ideal for constants)\n",
    "WATER_BOILING_POINT = 100\n",
    "DEFAULT_LANGUAGE = 'EN'\n",
    "\n",
    "# camelCase (more common in Java and C++, less in Python)\n",
    "userAge = 30\n",
    "userName = 'John'\n",
    "\n",
    "# CapitalizedWords (preferred for class names)\n",
    "class UserAccount:\n",
    "defaultStatus = 'active'\n",
    "\n",
    "# Capitalized_Words (not recommended in Python coding standards)\n",
    "Social_Security_Number = '123-45-6789'\n",
    "Full_Name = 'Jane Doe'"
   ]
  },
  {
   "cell_type": "markdown",
   "id": "71723c67-febd-43e1-a927-f49ddcf18e5f",
   "metadata": {},
   "source": [
    "## Managing Whitespace"
   ]
  },
  {
   "cell_type": "markdown",
   "id": "becfaaee",
   "metadata": {
    "id": "nTU9hBKGNReq"
   },
   "source": [
    "While whitespace can significantly improve the readability of code, its overuse or incorrect application can lead to cluttered and hard-to-read code. This section will cover fundamental guidelines to ensure your code remains clean and well-organized by judicious use of whitespace."
   ]
  },
  {
   "cell_type": "markdown",
   "id": "40d7c1c8",
   "metadata": {
    "id": "84x9MyJGNs-w"
   },
   "source": [
    "```python\n",
    "# Proper use of whitespace\n",
    "calculate_area(width[1:10], height[5:15])\n",
    "coffee = (4,)\n",
    "serve_drink(3)\n",
    "\n",
    "# Improper use of whitespace\n",
    "calculate_area( width [ 1 : 10 ], height [ 5 : 15 ] )\n",
    "coffee = (4, )\n",
    "serve_drink (3)\n",
    "```"
   ]
  },
  {
   "cell_type": "markdown",
   "id": "b6672d2b-01bc-431b-9cff-739da917d9ed",
   "metadata": {},
   "source": [
    "# Appendix"
   ]
  },
  {
   "cell_type": "markdown",
   "id": "e4f85e69",
   "metadata": {
    "id": "slQW_EYtEbMY"
   },
   "source": [
    "- [PEP8 Guidelines](https://pep8.org/)\n",
    "\n",
    "- [Official PEP8 Python Guide](https://www.python.org/dev/peps/pep-0008/)\n",
    "\n",
    "- [Python Coding Style and Layout](https://realpython.com/python-pep8/#code-layout)\n",
    "\n",
    "- [Python Unittest Documentation](https://docs.python.org/3/library/unittest.html)"
   ]
  },
  {
   "cell_type": "markdown",
   "id": "cfd49135-633f-4eff-8f5b-8d5f218f7cbf",
   "metadata": {},
   "source": [
    "# Notes"
   ]
  },
  {
   "cell_type": "markdown",
   "id": "b44ab307-1fbf-45f4-aae0-4805fd17cba4",
   "metadata": {
    "jp-MarkdownHeadingCollapsed": true
   },
   "source": [
    "## Comparison Operators, Loops and Functions:"
   ]
  },
  {
   "cell_type": "markdown",
   "id": "6e2f2c3c-c824-444f-8662-ce9e120d3737",
   "metadata": {
    "jp-MarkdownHeadingCollapsed": true
   },
   "source": [
    "### list dict tupl etc"
   ]
  },
  {
   "cell_type": "code",
   "execution_count": 15,
   "id": "15e2f45e-e2e5-4e58-acdb-a519600b9961",
   "metadata": {},
   "outputs": [
    {
     "name": "stdin",
     "output_type": "stream",
     "text": [
      "What is your first test score ? 1\n",
      "What is your second test score ? 6\n",
      "What is your attendance score ? 9\n",
      "What is yourexam score ? 30\n"
     ]
    },
    {
     "data": {
      "text/plain": [
       "46.0"
      ]
     },
     "execution_count": 15,
     "metadata": {},
     "output_type": "execute_result"
    }
   ],
   "source": [
    "f_test = float(input(\"What is your first test score ?\"))\n",
    "s_test = float(input(\"What is your second test score ?\"))\n",
    "attdnce = float(input(\"What is your attendance score ?\"))\n",
    "exam = float(input(\"What is yourexam score ?\"))\n",
    "\n",
    "total_score = f_test + s_test + attdnce+exam\n",
    "total_score"
   ]
  },
  {
   "cell_type": "code",
   "execution_count": 16,
   "id": "e36407d3-654b-4876-b633-388eb97039ac",
   "metadata": {},
   "outputs": [
    {
     "name": "stdin",
     "output_type": "stream",
     "text": [
      "What is your first name ? keith\n",
      "What is your last name ? bishop\n"
     ]
    },
    {
     "data": {
      "text/plain": [
       "'keith bishop'"
      ]
     },
     "execution_count": 16,
     "metadata": {},
     "output_type": "execute_result"
    }
   ],
   "source": [
    "first_name = str(input(\"What is your first name ?\"))\n",
    "last_name = str(input(\"What is your last name ?\"))\n",
    "\n",
    "full_name = first_name + \" \" + last_name\n",
    "full_name"
   ]
  },
  {
   "cell_type": "code",
   "execution_count": 27,
   "id": "20a2f000-d3b6-4578-8cc3-d090a0c499cb",
   "metadata": {},
   "outputs": [
    {
     "data": {
      "text/plain": [
       "'keith'"
      ]
     },
     "execution_count": 27,
     "metadata": {},
     "output_type": "execute_result"
    }
   ],
   "source": [
    "#Slicing sequence[start:stop:step]\n",
    "full_name[0:5]"
   ]
  },
  {
   "cell_type": "code",
   "execution_count": 26,
   "id": "39f9f5b1-0d2a-463a-8c2b-f24f35dfc2e4",
   "metadata": {},
   "outputs": [
    {
     "data": {
      "text/plain": [
       "'ace'"
      ]
     },
     "execution_count": 26,
     "metadata": {},
     "output_type": "execute_result"
    }
   ],
   "source": [
    "text = \"abcdef\"\n",
    "text[0::2]"
   ]
  },
  {
   "cell_type": "code",
   "execution_count": 1,
   "id": "2edceef9-dda4-4cf3-bd52-2478ddf6f0cc",
   "metadata": {},
   "outputs": [
    {
     "name": "stdin",
     "output_type": "stream",
     "text": [
      "What is your  name ? annie\n",
      "How old are you? 42\n"
     ]
    },
    {
     "name": "stdout",
     "output_type": "stream",
     "text": [
      "my name is annie and I am 42 years old\n"
     ]
    }
   ],
   "source": [
    "name = str(input(\"What is your  name ?\"))\n",
    "age = int(input(\"How old are you?\"))\n",
    "\n",
    "print(\"my name is {} and I am {} years old\".format(name,age))\n"
   ]
  },
  {
   "cell_type": "code",
   "execution_count": 5,
   "id": "93a96488-5969-4385-9055-a705f8928b42",
   "metadata": {},
   "outputs": [
    {
     "name": "stdin",
     "output_type": "stream",
     "text": [
      "What is your  name ? bis\n",
      "How old are you? 66\n"
     ]
    },
    {
     "name": "stdout",
     "output_type": "stream",
     "text": [
      "my name is bis and I am 66 years old\n"
     ]
    }
   ],
   "source": [
    "name = str(input(\"What is your  name ?\"))\n",
    "age = int(input(\"How old are you?\"))\n",
    "\n",
    "print(\"my name is %s and I am %s years old\" %(name,age))"
   ]
  },
  {
   "cell_type": "code",
   "execution_count": 6,
   "id": "45865341-fae4-4fd7-b21f-3ca9d0222de7",
   "metadata": {},
   "outputs": [
    {
     "name": "stdin",
     "output_type": "stream",
     "text": [
      "What is your  name ? hh\n",
      "How old are you? 88\n"
     ]
    },
    {
     "name": "stdout",
     "output_type": "stream",
     "text": [
      "my name is (name) and I am (age) years old\n"
     ]
    }
   ],
   "source": [
    "name = str(input(\"What is your  name ?\"))\n",
    "age = int(input(\"How old are you?\"))\n",
    "\n",
    "print(f\"my name is (name) and I am (age) years old\")"
   ]
  },
  {
   "cell_type": "code",
   "execution_count": 7,
   "id": "98e40cc0-f00f-45fc-a559-a21527ed5174",
   "metadata": {},
   "outputs": [
    {
     "data": {
      "text/plain": [
       "{'key1': 'value1'}"
      ]
     },
     "execution_count": 7,
     "metadata": {},
     "output_type": "execute_result"
    }
   ],
   "source": [
    "#dictionaries= ordered sequence of items that can be modified\n",
    "my_dict={\"key1\": \"value1\"}\n",
    "my_dict"
   ]
  },
  {
   "cell_type": "code",
   "execution_count": 8,
   "id": "a4e1fd56-9878-4ac4-bdac-a3bdd575dd80",
   "metadata": {},
   "outputs": [
    {
     "data": {
      "text/plain": [
       "'value1'"
      ]
     },
     "execution_count": 8,
     "metadata": {},
     "output_type": "execute_result"
    }
   ],
   "source": [
    "my_dict[\"key1\"]"
   ]
  },
  {
   "cell_type": "code",
   "execution_count": 11,
   "id": "3162cbe8-367f-4d3f-8bb5-db7e29a14165",
   "metadata": {},
   "outputs": [
    {
     "data": {
      "text/plain": [
       "('sign', 10, 9.77, 'bis', 'clan')"
      ]
     },
     "execution_count": 11,
     "metadata": {},
     "output_type": "execute_result"
    }
   ],
   "source": [
    "#tuples =ordered sequence of items that cannot be modified\n",
    "tum=(\"sign\", 10,9.77,\"bis\",\"clan\")\n",
    "tum"
   ]
  },
  {
   "cell_type": "code",
   "execution_count": 12,
   "id": "6d17bc05-7bb7-4269-aba1-1c20f9aeb970",
   "metadata": {},
   "outputs": [
    {
     "ename": "TypeError",
     "evalue": "'tuple' object does not support item assignment",
     "output_type": "error",
     "traceback": [
      "\u001b[1;31m---------------------------------------------------------------------------\u001b[0m",
      "\u001b[1;31mTypeError\u001b[0m                                 Traceback (most recent call last)",
      "Cell \u001b[1;32mIn[12], line 1\u001b[0m\n\u001b[1;32m----> 1\u001b[0m tum[\u001b[38;5;241m0\u001b[39m]\u001b[38;5;241m=\u001b[39m\u001b[38;5;241m44\u001b[39m\n",
      "\u001b[1;31mTypeError\u001b[0m: 'tuple' object does not support item assignment"
     ]
    }
   ],
   "source": [
    "tum[0]=44"
   ]
  },
  {
   "cell_type": "code",
   "execution_count": 14,
   "id": "52edf090-c798-43f4-8689-dc3f52f42c28",
   "metadata": {},
   "outputs": [
    {
     "data": {
      "text/plain": [
       "{0, 1, 2, 3, 4, 5, 6, 7, 9, 11, 22}"
      ]
     },
     "execution_count": 14,
     "metadata": {},
     "output_type": "execute_result"
    }
   ],
   "source": [
    "#set collection of uniques items that are not ordered\n",
    "num={0,0,0,0,9,9,9,9,7,7,6,5,4,4,4,3,3,2,22,2,2,11,1,1}\n",
    "num\n"
   ]
  },
  {
   "cell_type": "code",
   "execution_count": 15,
   "id": "424775a9-d25d-4526-9e80-70f32b1aa227",
   "metadata": {},
   "outputs": [
    {
     "data": {
      "text/plain": [
       "{0, 1, 2, 3, 4, 5, 6, 7, 9, 11, 22, 56}"
      ]
     },
     "execution_count": 15,
     "metadata": {},
     "output_type": "execute_result"
    }
   ],
   "source": [
    "num.add(56)\n",
    "num"
   ]
  },
  {
   "cell_type": "code",
   "execution_count": 16,
   "id": "3043384c-1543-4aad-8328-3bd89eeaf287",
   "metadata": {},
   "outputs": [
    {
     "data": {
      "text/plain": [
       "('bish', 'bish', 'joe', 'lua', 'clan')"
      ]
     },
     "execution_count": 16,
     "metadata": {},
     "output_type": "execute_result"
    }
   ],
   "source": [
    "names =(\"bish\", \"bish\",\"joe\",\"lua\",\"clan\")\n",
    "names"
   ]
  },
  {
   "cell_type": "code",
   "execution_count": 19,
   "id": "a4bf3c50-c155-4820-9940-b19c9249ed16",
   "metadata": {},
   "outputs": [],
   "source": [
    "u_names= set(names)"
   ]
  },
  {
   "cell_type": "code",
   "execution_count": 20,
   "id": "8c271f90-e1b1-471e-a928-771205d934fe",
   "metadata": {},
   "outputs": [
    {
     "data": {
      "text/plain": [
       "{'annie', 'bish', 'clan', 'joe', 'lua'}"
      ]
     },
     "execution_count": 20,
     "metadata": {},
     "output_type": "execute_result"
    }
   ],
   "source": [
    "u_names.add(\"annie\")\n",
    "u_names"
   ]
  },
  {
   "cell_type": "code",
   "execution_count": null,
   "id": "45adddeb-1206-4d9f-ae49-d7fce0ef7a72",
   "metadata": {},
   "outputs": [],
   "source": [
    "#boolean\n"
   ]
  },
  {
   "cell_type": "code",
   "execution_count": 23,
   "id": "addcd6c3-3473-4f0b-b858-f84eb93e4aac",
   "metadata": {},
   "outputs": [
    {
     "name": "stdin",
     "output_type": "stream",
     "text": [
      "Enter your password:  nhjg6\n"
     ]
    },
    {
     "name": "stdout",
     "output_type": "stream",
     "text": [
      "Error: Password must be at least 8 characters long.\n",
      "Attempt 1/3. Please try again.\n",
      "\n"
     ]
    },
    {
     "name": "stdin",
     "output_type": "stream",
     "text": [
      "Enter your password:  kliAq124\n"
     ]
    },
    {
     "name": "stdout",
     "output_type": "stream",
     "text": [
      "Error: Password must contain at least one special character (!@#$%^&* etc.).\n",
      "Attempt 2/3. Please try again.\n",
      "\n"
     ]
    },
    {
     "name": "stdin",
     "output_type": "stream",
     "text": [
      "Enter your password:  hyut456\n"
     ]
    },
    {
     "name": "stdout",
     "output_type": "stream",
     "text": [
      "Error: Password must be at least 8 characters long.\n",
      "Too many failed attempts. Exiting...\n"
     ]
    }
   ],
   "source": [
    "import re\n",
    "\n",
    "def verify_password(password):\n",
    "    \"\"\"Checks if a password meets security criteria and returns error messages if invalid.\"\"\"\n",
    "    if len(password) < 8:\n",
    "        return \"Password must be at least 8 characters long.\"\n",
    "\n",
    "    if not re.search(r\"[A-Z]\", password):\n",
    "        return \"Password must contain at least one uppercase letter.\"\n",
    "\n",
    "    if not re.search(r\"[a-z]\", password):\n",
    "        return \"Password must contain at least one lowercase letter.\"\n",
    "\n",
    "    if not re.search(r\"\\d\", password):\n",
    "        return \"Password must contain at least one digit.\"\n",
    "\n",
    "    if not re.search(r\"[!@#$%^&*(),.?\\\":{}|<>]\", password):\n",
    "        return \"Password must contain at least one special character (!@#$%^&* etc.).\"\n",
    "\n",
    "    return None  # Password is valid\n",
    "\n",
    "# Maximum allowed attempts\n",
    "max_attempts = 3\n",
    "attempts = 0\n",
    "\n",
    "while attempts < max_attempts:\n",
    "    password = input(\"Enter your password: \")\n",
    "    error = verify_password(password)\n",
    "    \n",
    "    if error is None:\n",
    "        print(\"Password is strong and valid.\")\n",
    "        break  # Exit the loop when the password is valid\n",
    "    else:\n",
    "        attempts += 1\n",
    "        print(f\"Error: {error}\")\n",
    "        if attempts < max_attempts:\n",
    "            print(f\"Attempt {attempts}/{max_attempts}. Please try again.\\n\")\n",
    "        else:\n",
    "            print(\"Too many failed attempts. Exiting...\")"
   ]
  },
  {
   "cell_type": "code",
   "execution_count": 28,
   "id": "21137ac5-cff8-47c0-ba92-d3cc8dceb4e0",
   "metadata": {},
   "outputs": [],
   "source": [
    "# Example usage\n",
    "verify_password(\"&123Aergjjj\")"
   ]
  },
  {
   "cell_type": "code",
   "execution_count": 30,
   "id": "517d7ee5-a984-4639-be57-f3fb171803a5",
   "metadata": {},
   "outputs": [
    {
     "data": {
      "text/plain": [
       "'mefe'"
      ]
     },
     "execution_count": 30,
     "metadata": {},
     "output_type": "execute_result"
    }
   ],
   "source": [
    "name = \"efem\"\n",
    "name[::-1]"
   ]
  },
  {
   "cell_type": "markdown",
   "id": "f0fb8657-3f87-4a45-b250-aa65ae3cefdb",
   "metadata": {},
   "source": [
    "### filter map, lambda"
   ]
  },
  {
   "cell_type": "code",
   "execution_count": 34,
   "id": "a396156b-026c-4f29-ade8-ce1c4261f09e",
   "metadata": {},
   "outputs": [
    {
     "data": {
      "text/plain": [
       "['efe', 'level', 'civic']"
      ]
     },
     "execution_count": 34,
     "metadata": {},
     "output_type": "execute_result"
    }
   ],
   "source": [
    "words= [\"efe\", \"hello\", \"world\", \"level\", \"civic\"]\n",
    "\n",
    "def palindrome(x):\n",
    "    return x == x[::-1]\n",
    "\n",
    "pali = filter(palindrome, words)\n",
    "list(pali)"
   ]
  },
  {
   "cell_type": "code",
   "execution_count": 36,
   "id": "dd05f07b-7cbe-4c74-a07c-16a2309d9009",
   "metadata": {},
   "outputs": [
    {
     "data": {
      "text/plain": [
       "[50.0, 77.0, 113.0, 194.0, 32.0, -49.0]"
      ]
     },
     "execution_count": 36,
     "metadata": {},
     "output_type": "execute_result"
    }
   ],
   "source": [
    "# map function\n",
    "# applys a function to each item in a list\n",
    "\n",
    "def cal_fah(degree):\n",
    "    return (degree * 9/5) + 32\n",
    "\n",
    "temp_c = [10,25,45,90,0,-45]\n",
    "\n",
    "#apply the map function\n",
    "temp_f = map(cal_fah, temp_c)\n",
    "list(temp_f)"
   ]
  },
  {
   "cell_type": "code",
   "execution_count": 41,
   "id": "665f7626-bb41-4866-920f-a85ab7f21af4",
   "metadata": {},
   "outputs": [
    {
     "name": "stdout",
     "output_type": "stream",
     "text": [
      "[18, 19, 20, 21, 22, 23, 24, 25, 26, 27, 28, 29, 30]\n",
      "[28, 29, 30, 31, 32, 33, 34, 35, 36, 37, 38, 39, 40]\n"
     ]
    }
   ],
   "source": [
    "#lambda function (anonymous func)\n",
    "\n",
    "age = list(range(18,31))\n",
    "age_10 = map(lambda x: x+10, age)\n",
    "\n",
    "print(age)\n",
    "print(list(age_10))"
   ]
  },
  {
   "cell_type": "markdown",
   "id": "57f24d42-e0d6-4c21-b50c-c8f5516677a1",
   "metadata": {
    "jp-MarkdownHeadingCollapsed": true
   },
   "source": [
    "## Logging"
   ]
  },
  {
   "cell_type": "code",
   "execution_count": 3,
   "id": "b6ece1c0-4612-4784-84fe-b64f8c7b81c5",
   "metadata": {},
   "outputs": [
    {
     "name": "stderr",
     "output_type": "stream",
     "text": [
      "INFO:root:This is an info message\n"
     ]
    }
   ],
   "source": [
    "import logging\n",
    "\n",
    "# This sets up basic logging and records an informational message.\n",
    "logging.basicConfig(level=logging.INFO)\n",
    "logging.info(\"This is an info message\")"
   ]
  },
  {
   "cell_type": "code",
   "execution_count": 4,
   "id": "a40a909e-c903-4d3d-bbd9-397689e60072",
   "metadata": {},
   "outputs": [
    {
     "name": "stderr",
     "output_type": "stream",
     "text": [
      "WARNING:root:This is a warning message\n"
     ]
    }
   ],
   "source": [
    "# Records messages of different severity levels.\n",
    "logging.debug(\"This is for debugging\")\n",
    "logging.warning(\"This is a warning message\")"
   ]
  },
  {
   "cell_type": "code",
   "execution_count": 5,
   "id": "70232c6f-e428-4112-9133-95438d0a5414",
   "metadata": {},
   "outputs": [
    {
     "name": "stderr",
     "output_type": "stream",
     "text": [
      "ERROR:root:An error has occurred\n"
     ]
    }
   ],
   "source": [
    "logging.basicConfig(filename='example.log', level=logging.ERROR)\n",
    "logging.error(\"An error has occurred\")"
   ]
  },
  {
   "cell_type": "markdown",
   "id": "0f13f291-b97e-4606-8572-1a81775eff4c",
   "metadata": {
    "jp-MarkdownHeadingCollapsed": true
   },
   "source": [
    "## Unit Testing"
   ]
  },
  {
   "cell_type": "markdown",
   "id": "17b5bec0-3fc4-45bf-b2d5-a14b02919b90",
   "metadata": {},
   "source": [
    "- Unit testing ensures that individual components of the data pipeline work as expected. Python's unittest or pytest frameworks are commonly used.\n",
    "- **Example 1: Testing a Function**\n",
    "- **Example 2: Testing for an Exception**\n",
    "- **Example 3: Testing a Data Processing Function**"
   ]
  },
  {
   "cell_type": "markdown",
   "id": "5bfcb0ec-1db9-4b2a-b365-281113912ba2",
   "metadata": {
    "jp-MarkdownHeadingCollapsed": true
   },
   "source": [
    "## Fully Automate Data Cleaning with Python in 5 Steps"
   ]
  },
  {
   "cell_type": "markdown",
   "id": "b23c8a3f-3a0f-4cc1-a832-12bb110a6ed2",
   "metadata": {},
   "source": [
    "Step 1: Run Basic Data Quality \n",
    "- ChecksMissing values in each column, Duplicate rows, Basic data characteristics"
   ]
  },
  {
   "cell_type": "code",
   "execution_count": null,
   "id": "de2e721c-e0f1-43f3-b8e5-7149660eccaf",
   "metadata": {},
   "outputs": [],
   "source": [
    "def check_data_quality(df):\n",
    "    # Store initial data quality metrics\n",
    "    quality_report = {\n",
    "        'missing_values': df.isnull().sum().to_dict(),\n",
    "        'duplicates': df.duplicated().sum(),\n",
    "        'total_rows': len(df),\n",
    "        'memory_usage': df.memory_usage().sum() / 1024**2  # in MB\n",
    "    }\n",
    "    return quality_report"
   ]
  },
  {
   "cell_type": "markdown",
   "id": "07c0fe5a-e29e-4216-a58c-5db5f1028104",
   "metadata": {},
   "source": [
    "Step 2 – Standardize Data Types\n",
    "- Converting string dates to datetime objects, Identifying and converting numeric strings to actual numbers, Ensuring categorical variables are properly encoded\n"
   ]
  },
  {
   "cell_type": "code",
   "execution_count": null,
   "id": "0648887b-39d7-4015-b152-e53cec627c45",
   "metadata": {},
   "outputs": [],
   "source": [
    "def standardize_datatypes(df):\n",
    "    for column in df.columns:\n",
    "        # Try converting string dates to datetime\n",
    "        if df[column].dtype == 'object':\n",
    "            try:\n",
    "                df[column] = pd.to_datetime(df[column])\n",
    "                print(f\"Converted {column} to datetime\")\n",
    "            except ValueError:\n",
    "                # Try converting to numeric if datetime fails\n",
    "                try:\n",
    "                    df[column] = pd.to_numeric(df[column].str.replace('$', '').str.replace(',', ''))\n",
    "                    print(f\"Converted {column} to numeric\")\n",
    "                except:\n",
    "                    pass\n",
    "    return df"
   ]
  },
  {
   "cell_type": "markdown",
   "id": "8ea6ee4e-1759-47ed-9580-aea772837b9e",
   "metadata": {},
   "source": [
    "Step 3 – Handle Missing Values\n",
    "- Using median imputation for numeric columns, Applying mode imputation for categorical data, Maintaining the statistical properties of the dataset while filling gaps"
   ]
  },
  {
   "cell_type": "code",
   "execution_count": null,
   "id": "be2fabfa-fc56-43cb-840a-ff177e9d994d",
   "metadata": {},
   "outputs": [],
   "source": [
    "\n",
    "from sklearn.impute import SimpleImputer\n",
    "\n",
    "def handle_missing_values(df):\n",
    "    # Handle numeric columns\n",
    "    numeric_columns = df.select_dtypes(include=['int64', 'float64']).columns\n",
    "    if len(numeric_columns) > 0:\n",
    "        num_imputer = SimpleImputer(strategy='median')\n",
    "        df[numeric_columns] = num_imputer.fit_transform(df[numeric_columns])\n",
    "\n",
    "    # Handle categorical columns\n",
    "    categorical_columns = df.select_dtypes(include=['object']).columns\n",
    "    if len(categorical_columns) > 0:\n",
    "        cat_imputer = SimpleImputer(strategy='most_frequent')\n",
    "        df[categorical_columns] = cat_imputer.fit_transform(df[categorical_columns])\n",
    "\n",
    "    return df"
   ]
  },
  {
   "cell_type": "markdown",
   "id": "3b0d859c-50e3-40d6-9068-36bac8a14b40",
   "metadata": {},
   "source": [
    "Step 4 – Detect and Handle Outliers\n",
    "- an approach using the Interquartile Range (IQR) method:\n",
    "> Calculate Interquartile Range (IQR) for numeric columns, Identify values beyond 1.5 * IQR from quartiles, Apply capping to extreme values rather than removing them, This preserves data while managing extreme values."
   ]
  },
  {
   "cell_type": "code",
   "execution_count": null,
   "id": "2929e7f4-0757-4166-867d-d2cde1ba5220",
   "metadata": {},
   "outputs": [],
   "source": [
    "def remove_outliers(df):\n",
    "    numeric_columns = df.select_dtypes(include=['int64', 'float64']).columns\n",
    "    outliers_removed = {}\n",
    "\n",
    "    for column in numeric_columns:\n",
    "        Q1 = df[column].quantile(0.25)\n",
    "        Q3 = df[column].quantile(0.75)\n",
    "        IQR = Q3 - Q1\n",
    "        lower_bound = Q1 - 1.5 * IQR\n",
    "        upper_bound = Q3 + 1.5 * IQR\n",
    "\n",
    "        # Count outliers before removing\n",
    "        outliers = df[(df[column] < lower_bound) | (df[column] > upper_bound)].shape[0]\n",
    "\n",
    "        # Cap the values instead of removing them\n",
    "        df[column] = df[column].clip(lower=lower_bound, upper=upper_bound)\n",
    "\n",
    "        if outliers > 0:\n",
    "            outliers_removed[column] = outliers\n",
    "\n",
    "    return df, outliers_removed"
   ]
  },
  {
   "cell_type": "markdown",
   "id": "ba569497-5ea9-43fd-89e8-fa78152ddb89",
   "metadata": {},
   "source": [
    "Step 5 – Validate the Results\n",
    "- Confirm no remaining missing values, Check for any remaining duplicates, Validate data integrity and consistency, Generate a comprehensive cleaning report"
   ]
  },
  {
   "cell_type": "code",
   "execution_count": null,
   "id": "8d31057e-4c39-4712-b11b-a7721de5d750",
   "metadata": {},
   "outputs": [],
   "source": [
    "def validate_cleaning(df, original_shape, cleaning_report):\n",
    "    validation_results = {\n",
    "        'rows_remaining': len(df),\n",
    "        'missing_values_remaining': df.isnull().sum().sum(),\n",
    "        'duplicates_remaining': df.duplicated().sum(),\n",
    "        'data_loss_percentage': (1 - len(df)/original_shape[0]) * 100\n",
    "    }\n",
    "\n",
    "    # Add validation results to the cleaning report\n",
    "    cleaning_report['validation'] = validation_results\n",
    "    return cleaning_report\n",
    "\n",
    "     "
   ]
  },
  {
   "cell_type": "markdown",
   "id": "2b70f233-dbe4-4ecf-82ae-3061e9c37ce0",
   "metadata": {},
   "source": [
    "## Putting It All Together in a complete pipeline:"
   ]
  },
  {
   "cell_type": "code",
   "execution_count": null,
   "id": "80ba2696-001f-4dbc-8417-9ab0ab893fa7",
   "metadata": {},
   "outputs": [],
   "source": [
    "def automated_cleaning_pipeline(df):\n",
    "    # Store original shape for reporting\n",
    "    original_shape = df.shape\n",
    "\n",
    "    # Initialize cleaning report\n",
    "    cleaning_report = {}\n",
    "\n",
    "    # Execute each step and collect metrics\n",
    "    cleaning_report['initial_quality'] = check_data_quality(df)\n",
    "\n",
    "    df = standardize_datatypes(df)\n",
    "    df = handle_missing_values(df)\n",
    "    df, outliers = remove_outliers(df)\n",
    "    cleaning_report['outliers_removed'] = outliers\n",
    "\n",
    "    # Validate and finalize report\n",
    "    cleaning_report = validate_cleaning(df, original_shape, cleaning_report)\n",
    "\n",
    "    return df, cleaning_report"
   ]
  },
  {
   "cell_type": "markdown",
   "id": "e94ce5d4-2fb6-4944-9177-62f42aebc92b",
   "metadata": {},
   "source": [
    "# Web Scraping Fundamentals"
   ]
  },
  {
   "cell_type": "markdown",
   "id": "8a1b2c5d-9d77-4bd2-a88e-6ee8fa238afa",
   "metadata": {},
   "source": [
    "> Beautifulsoup\n",
    "> [Selenium](https://www.selenium.dev/documentation/overview/details/)\n",
    "> [Scrapy](https://docs.scrapy.org/en/latest/)\n",
    "> [website](http://quotes.toscrape.com/)"
   ]
  },
  {
   "cell_type": "code",
   "execution_count": null,
   "id": "128080f4-9873-40d2-94d2-fcea36ebbfd3",
   "metadata": {},
   "outputs": [],
   "source": []
  }
 ],
 "metadata": {
  "kernelspec": {
   "display_name": "Python 3 (ipykernel)",
   "language": "python",
   "name": "python3"
  },
  "language_info": {
   "codemirror_mode": {
    "name": "ipython",
    "version": 3
   },
   "file_extension": ".py",
   "mimetype": "text/x-python",
   "name": "python",
   "nbconvert_exporter": "python",
   "pygments_lexer": "ipython3",
   "version": "3.11.5"
  },
  "widgets": {
   "application/vnd.jupyter.widget-state+json": {
    "state": {},
    "version_major": 2,
    "version_minor": 0
   }
  }
 },
 "nbformat": 4,
 "nbformat_minor": 5
}
