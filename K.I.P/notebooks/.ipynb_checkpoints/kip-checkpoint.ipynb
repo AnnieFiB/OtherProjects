{
 "cells": [
  {
   "cell_type": "markdown",
   "id": "bc50169e-fed6-4bc7-b710-3888daf3014a",
   "metadata": {},
   "source": [
    "# KIP PRODUCTS DATA COLLECTION"
   ]
  },
  {
   "cell_type": "code",
   "execution_count": 1,
   "id": "7e4ee375-5aa4-405f-9743-b4aad2c9d054",
   "metadata": {},
   "outputs": [],
   "source": [
    "import sys\n",
    "import os\n",
    "import pandas as pd\n",
    "import asyncio\n",
    "\n",
    "# Get the absolute path of the 'scripts' directory\n",
    "scripts_path = os.path.abspath(os.path.join(os.getcwd(), '..', 'pscripts'))\n",
    "sys.path.append(scripts_path) # Add 'scripts' directory to sys.path\n",
    "\n",
    "#import placeAPI as gpl\n",
    "import gplacesAPI as gpapi #Google Place API\n",
    "import yelpAPI as yapi #Yelp API\n",
    "import scrape_data as bsp #Scrape additional data\n",
    "import fetch_business_details_async as fbda"
   ]
  },
  {
   "cell_type": "markdown",
   "id": "333cb76f-0d64-45d5-85b1-576f4d122091",
   "metadata": {
    "jp-MarkdownHeadingCollapsed": true
   },
   "source": [
    "## GOOGLE PLACE DATA"
   ]
  },
  {
   "cell_type": "code",
   "execution_count": 8,
   "id": "785b79f4-39e8-4c5d-8e54-c453cf35ab65",
   "metadata": {},
   "outputs": [
    {
     "data": {
      "text/plain": [
       "<module 'gplacesAPI' from 'D:\\\\Portfolio\\\\my_projects\\\\K.I.P\\\\pscripts\\\\gplacesAPI.py'>"
      ]
     },
     "execution_count": 8,
     "metadata": {},
     "output_type": "execute_result"
    }
   ],
   "source": [
    "from importlib import reload\n",
    "reload(gpapi)"
   ]
  },
  {
   "cell_type": "code",
   "execution_count": 9,
   "id": "91444f8e-caf2-4fea-87d2-a2ab84c97a8f",
   "metadata": {
    "scrolled": true
   },
   "outputs": [
    {
     "name": "stdin",
     "output_type": "stream",
     "text": [
      "Enter the location (e.g., 'Mexico City, Mexico'):  Mexico City, Mexico\n",
      "Enter the search radius in meters (e.g., 5000):  5000\n",
      "Enter the maximum number of results (e.g., 100):  100\n"
     ]
    },
    {
     "name": "stdout",
     "output_type": "stream",
     "text": [
      "\n",
      "=== New Search ===\n"
     ]
    },
    {
     "name": "stdin",
     "output_type": "stream",
     "text": [
      "Enter the search type (e.g., 'beauty_salon,spa,pharmacy,department_store,store'):  beauty supply\n"
     ]
    },
    {
     "name": "stdout",
     "output_type": "stream",
     "text": [
      "❌ API Error for beauty supply in Mexico City, Mexico: {\n",
      "  \"error\": {\n",
      "    \"code\": 400,\n",
      "    \"message\": \"Unsupported types: beauty supply.\",\n",
      "    \"status\": \"INVALID_ARGUMENT\"\n",
      "  }\n",
      "}\n",
      "\n",
      "⚠️ No stores found for the given location and search type.\n"
     ]
    },
    {
     "name": "stdin",
     "output_type": "stream",
     "text": [
      "Do you want to perform another search? (y/n):  y\n"
     ]
    },
    {
     "name": "stdout",
     "output_type": "stream",
     "text": [
      "\n",
      "=== New Search ===\n"
     ]
    },
    {
     "name": "stdin",
     "output_type": "stream",
     "text": [
      "Enter the search type (e.g., 'beauty_salon,spa,pharmacy,department_store,store'):  beauty_supply\n"
     ]
    },
    {
     "name": "stdout",
     "output_type": "stream",
     "text": [
      "❌ API Error for beauty_supply in Mexico City, Mexico: {\n",
      "  \"error\": {\n",
      "    \"code\": 400,\n",
      "    \"message\": \"Unsupported types: beauty_supply.\",\n",
      "    \"status\": \"INVALID_ARGUMENT\"\n",
      "  }\n",
      "}\n",
      "\n",
      "⚠️ No stores found for the given location and search type.\n"
     ]
    },
    {
     "name": "stdin",
     "output_type": "stream",
     "text": [
      "Do you want to perform another search? (y/n):  y\n"
     ]
    },
    {
     "name": "stdout",
     "output_type": "stream",
     "text": [
      "\n",
      "=== New Search ===\n"
     ]
    },
    {
     "name": "stdin",
     "output_type": "stream",
     "text": [
      "Enter the search type (e.g., 'beauty_salon,spa,pharmacy,department_store,store'):  beauty_salon\n"
     ]
    },
    {
     "name": "stdout",
     "output_type": "stream",
     "text": [
      "✅ Successfully saved 19 records to datasets\\beauty_stores_dynamic.csv.\n"
     ]
    },
    {
     "name": "stdin",
     "output_type": "stream",
     "text": [
      "Do you want to perform another search? (y/n):  y\n"
     ]
    },
    {
     "name": "stdout",
     "output_type": "stream",
     "text": [
      "\n",
      "=== New Search ===\n"
     ]
    },
    {
     "name": "stdin",
     "output_type": "stream",
     "text": [
      "Enter the search type (e.g., 'beauty_salon,spa,pharmacy,department_store,store'):  beauty_supplier\n"
     ]
    },
    {
     "name": "stdout",
     "output_type": "stream",
     "text": [
      "❌ API Error for beauty_supplier in Mexico City, Mexico: {\n",
      "  \"error\": {\n",
      "    \"code\": 400,\n",
      "    \"message\": \"Unsupported types: beauty_supplier.\",\n",
      "    \"status\": \"INVALID_ARGUMENT\"\n",
      "  }\n",
      "}\n",
      "\n",
      "⚠️ No stores found for the given location and search type.\n"
     ]
    },
    {
     "name": "stdin",
     "output_type": "stream",
     "text": [
      "Do you want to perform another search? (y/n):  y\n"
     ]
    },
    {
     "name": "stdout",
     "output_type": "stream",
     "text": [
      "\n",
      "=== New Search ===\n"
     ]
    },
    {
     "name": "stdin",
     "output_type": "stream",
     "text": [
      "Enter the search type (e.g., 'beauty_salon,spa,pharmacy,department_store,store'):  pharmacy\n"
     ]
    },
    {
     "name": "stdout",
     "output_type": "stream",
     "text": [
      "✅ Successfully saved 13 records to datasets\\beauty_stores_dynamic.csv.\n"
     ]
    },
    {
     "name": "stdin",
     "output_type": "stream",
     "text": [
      "Do you want to perform another search? (y/n):  y\n"
     ]
    },
    {
     "name": "stdout",
     "output_type": "stream",
     "text": [
      "\n",
      "=== New Search ===\n"
     ]
    },
    {
     "name": "stdin",
     "output_type": "stream",
     "text": [
      "Enter the search type (e.g., 'beauty_salon,spa,pharmacy,department_store,store'):  department_store\n"
     ]
    },
    {
     "name": "stdout",
     "output_type": "stream",
     "text": [
      "✅ Successfully saved 20 records to datasets\\beauty_stores_dynamic.csv.\n"
     ]
    },
    {
     "name": "stdin",
     "output_type": "stream",
     "text": [
      "Do you want to perform another search? (y/n):  y\n"
     ]
    },
    {
     "name": "stdout",
     "output_type": "stream",
     "text": [
      "\n",
      "=== New Search ===\n"
     ]
    },
    {
     "name": "stdin",
     "output_type": "stream",
     "text": [
      "Enter the search type (e.g., 'beauty_salon,spa,pharmacy,department_store,store'):  store\n"
     ]
    },
    {
     "name": "stdout",
     "output_type": "stream",
     "text": [
      "✅ Successfully saved 19 records to datasets\\beauty_stores_dynamic.csv.\n"
     ]
    },
    {
     "name": "stdin",
     "output_type": "stream",
     "text": [
      "Do you want to perform another search? (y/n):  n\n"
     ]
    },
    {
     "name": "stdout",
     "output_type": "stream",
     "text": [
      "Exiting the program. Goodbye!\n"
     ]
    }
   ],
   "source": [
    "# Execute the main function\n",
    "if __name__ == \"__main__\":\n",
    "    gpapi.main()"
   ]
  },
  {
   "cell_type": "code",
   "execution_count": 2,
   "id": "051ccbdf-8cc2-4d6e-916d-5c2ea682ff1a",
   "metadata": {
    "scrolled": true
   },
   "outputs": [
    {
     "name": "stdout",
     "output_type": "stream",
     "text": [
      "total records and columns fetched from gogle place is:  (84, 16)\n"
     ]
    },
    {
     "data": {
      "text/html": [
       "<div>\n",
       "<style scoped>\n",
       "    .dataframe tbody tr th:only-of-type {\n",
       "        vertical-align: middle;\n",
       "    }\n",
       "\n",
       "    .dataframe tbody tr th {\n",
       "        vertical-align: top;\n",
       "    }\n",
       "\n",
       "    .dataframe thead th {\n",
       "        text-align: right;\n",
       "    }\n",
       "</style>\n",
       "<table border=\"1\" class=\"dataframe\">\n",
       "  <thead>\n",
       "    <tr style=\"text-align: right;\">\n",
       "      <th></th>\n",
       "      <th>Category</th>\n",
       "      <th>Location</th>\n",
       "      <th>Name</th>\n",
       "      <th>Business Status</th>\n",
       "      <th>Formatted Address</th>\n",
       "      <th>Place ID</th>\n",
       "      <th>Phone Number</th>\n",
       "      <th>International Phone Number</th>\n",
       "      <th>Opening Hours</th>\n",
       "      <th>Website</th>\n",
       "      <th>Delivery</th>\n",
       "      <th>Curbside Pickup</th>\n",
       "      <th>Price Level</th>\n",
       "      <th>Rating</th>\n",
       "      <th>Reviews</th>\n",
       "      <th>User Ratings Total</th>\n",
       "    </tr>\n",
       "  </thead>\n",
       "  <tbody>\n",
       "    <tr>\n",
       "      <th>0</th>\n",
       "      <td>beauty_salon</td>\n",
       "      <td>Mexico City, Mexico</td>\n",
       "      <td>BEAUTY PLAZA</td>\n",
       "      <td>OPERATIONAL</td>\n",
       "      <td>Calle de Venustiano Carranza 155, Local C.esqu...</td>\n",
       "      <td>ChIJt4bRhMv-0YURGgTkpdIEfeg</td>\n",
       "      <td>NaN</td>\n",
       "      <td>NaN</td>\n",
       "      <td>['Monday: 9:30\\u202fAM\\u2009–\\u20096:00\\u202fP...</td>\n",
       "      <td>NaN</td>\n",
       "      <td>True</td>\n",
       "      <td>NaN</td>\n",
       "      <td>NaN</td>\n",
       "      <td>4.2</td>\n",
       "      <td>[{'name': 'places/ChIJt4bRhMv-0YURGgTkpdIEfeg/...</td>\n",
       "      <td>2887</td>\n",
       "    </tr>\n",
       "    <tr>\n",
       "      <th>1</th>\n",
       "      <td>beauty_salon</td>\n",
       "      <td>Mexico City, Mexico</td>\n",
       "      <td>Caalfra - Bet</td>\n",
       "      <td>OPERATIONAL</td>\n",
       "      <td>Circunvalación 405, Centro Histórico de la Cda...</td>\n",
       "      <td>ChIJS5e_O8r-0YUR7PoPH8p7VqA</td>\n",
       "      <td>NaN</td>\n",
       "      <td>+52 55 5542 2479</td>\n",
       "      <td>['Monday: 8:00\\u202fAM\\u2009–\\u20096:30\\u202fP...</td>\n",
       "      <td>https://www.caalfrabet.com.mx/</td>\n",
       "      <td>True</td>\n",
       "      <td>NaN</td>\n",
       "      <td>NaN</td>\n",
       "      <td>4.4</td>\n",
       "      <td>[{'name': 'places/ChIJS5e_O8r-0YUR7PoPH8p7VqA/...</td>\n",
       "      <td>1397</td>\n",
       "    </tr>\n",
       "    <tr>\n",
       "      <th>2</th>\n",
       "      <td>beauty_salon</td>\n",
       "      <td>Mexico City, Mexico</td>\n",
       "      <td>DreadLocks Mexico Studio</td>\n",
       "      <td>OPERATIONAL</td>\n",
       "      <td>C. Soto 122, Guerrero, Cuauhtémoc, 06300 Ciuda...</td>\n",
       "      <td>ChIJHzEEG9b40YURgjiuLXNVNpI</td>\n",
       "      <td>NaN</td>\n",
       "      <td>+52 55 4373 9223</td>\n",
       "      <td>['Monday: 11:30\\u202fAM\\u2009–\\u20096:00\\u202f...</td>\n",
       "      <td>http://www.facebook.com/DreadLocksDf</td>\n",
       "      <td>NaN</td>\n",
       "      <td>NaN</td>\n",
       "      <td>NaN</td>\n",
       "      <td>4.4</td>\n",
       "      <td>[{'name': 'places/ChIJHzEEG9b40YURgjiuLXNVNpI/...</td>\n",
       "      <td>333</td>\n",
       "    </tr>\n",
       "    <tr>\n",
       "      <th>3</th>\n",
       "      <td>beauty_salon</td>\n",
       "      <td>Mexico City, Mexico</td>\n",
       "      <td>Alondra Nails Izazaga</td>\n",
       "      <td>OPERATIONAL</td>\n",
       "      <td>José María Izazaga 29-Local 407 Piso 4, Centro...</td>\n",
       "      <td>ChIJp7neQQD_0YURUkbWAz4jgis</td>\n",
       "      <td>NaN</td>\n",
       "      <td>+52 55 8080 4698</td>\n",
       "      <td>['Monday: 10:00\\u202fAM\\u2009–\\u20096:30\\u202f...</td>\n",
       "      <td>NaN</td>\n",
       "      <td>NaN</td>\n",
       "      <td>NaN</td>\n",
       "      <td>NaN</td>\n",
       "      <td>4.2</td>\n",
       "      <td>[{'name': 'places/ChIJp7neQQD_0YURUkbWAz4jgis/...</td>\n",
       "      <td>21</td>\n",
       "    </tr>\n",
       "    <tr>\n",
       "      <th>4</th>\n",
       "      <td>beauty_salon</td>\n",
       "      <td>Mexico City, Mexico</td>\n",
       "      <td>Centro Holistico Itzae, Spa &amp; Sauna, Masoterapia</td>\n",
       "      <td>OPERATIONAL</td>\n",
       "      <td>Calle Independencia #101 int. 10 Col, Centro H...</td>\n",
       "      <td>ChIJKx8xUG750YURd_JErtUZaQw</td>\n",
       "      <td>NaN</td>\n",
       "      <td>+52 55 2740 5971</td>\n",
       "      <td>['Monday: 9:30\\u202fAM\\u2009–\\u20096:00\\u202fP...</td>\n",
       "      <td>https://centroholisticoitzae.com/</td>\n",
       "      <td>NaN</td>\n",
       "      <td>NaN</td>\n",
       "      <td>NaN</td>\n",
       "      <td>4.6</td>\n",
       "      <td>[{'name': 'places/ChIJKx8xUG750YURd_JErtUZaQw/...</td>\n",
       "      <td>157</td>\n",
       "    </tr>\n",
       "    <tr>\n",
       "      <th>...</th>\n",
       "      <td>...</td>\n",
       "      <td>...</td>\n",
       "      <td>...</td>\n",
       "      <td>...</td>\n",
       "      <td>...</td>\n",
       "      <td>...</td>\n",
       "      <td>...</td>\n",
       "      <td>...</td>\n",
       "      <td>...</td>\n",
       "      <td>...</td>\n",
       "      <td>...</td>\n",
       "      <td>...</td>\n",
       "      <td>...</td>\n",
       "      <td>...</td>\n",
       "      <td>...</td>\n",
       "      <td>...</td>\n",
       "    </tr>\n",
       "    <tr>\n",
       "      <th>79</th>\n",
       "      <td>store</td>\n",
       "      <td>Mexico City, Mexico</td>\n",
       "      <td>Price Shoes Centro Historico</td>\n",
       "      <td>OPERATIONAL</td>\n",
       "      <td>C. de Venustiano Carranza 125, Centro Históric...</td>\n",
       "      <td>ChIJcfLTWMz-0YURwdIPbk6fCtk</td>\n",
       "      <td>NaN</td>\n",
       "      <td>+52 55 6392 4080</td>\n",
       "      <td>['Monday: 9:00\\u202fAM\\u2009–\\u20096:00\\u202fP...</td>\n",
       "      <td>NaN</td>\n",
       "      <td>True</td>\n",
       "      <td>NaN</td>\n",
       "      <td>NaN</td>\n",
       "      <td>4.0</td>\n",
       "      <td>[{'name': 'places/ChIJcfLTWMz-0YURwdIPbk6fCtk/...</td>\n",
       "      <td>12483</td>\n",
       "    </tr>\n",
       "    <tr>\n",
       "      <th>80</th>\n",
       "      <td>store</td>\n",
       "      <td>Mexico City, Mexico</td>\n",
       "      <td>Sanborns Madero | Restaurante, Tienda y Farmacia</td>\n",
       "      <td>OPERATIONAL</td>\n",
       "      <td>Av Francisco I. Madero 4, Centro Histórico de ...</td>\n",
       "      <td>ChIJU5d1n7gO0oURpi6tiQPNpxw</td>\n",
       "      <td>NaN</td>\n",
       "      <td>+52 55 5518 3525</td>\n",
       "      <td>['Monday: 7:00\\u202fAM\\u2009–\\u200912:00\\u202f...</td>\n",
       "      <td>https://www.sanborns.com.mx/</td>\n",
       "      <td>True</td>\n",
       "      <td>NaN</td>\n",
       "      <td>PRICE_LEVEL_MODERATE</td>\n",
       "      <td>4.4</td>\n",
       "      <td>[{'name': 'places/ChIJU5d1n7gO0oURpi6tiQPNpxw/...</td>\n",
       "      <td>10595</td>\n",
       "    </tr>\n",
       "    <tr>\n",
       "      <th>81</th>\n",
       "      <td>store</td>\n",
       "      <td>Mexico City, Mexico</td>\n",
       "      <td>Sams Club Portal Centro</td>\n",
       "      <td>OPERATIONAL</td>\n",
       "      <td>Lorenzo Boturini S/N, Tránsito, Cuauhtémoc, 06...</td>\n",
       "      <td>ChIJoZKwOcT-0YURC2Z-oC3nf_M</td>\n",
       "      <td>NaN</td>\n",
       "      <td>+52 800 999 7267</td>\n",
       "      <td>['Monday: 7:00\\u202fAM\\u2009–\\u200910:00\\u202f...</td>\n",
       "      <td>http://www.sams.com.mx/</td>\n",
       "      <td>True</td>\n",
       "      <td>NaN</td>\n",
       "      <td>NaN</td>\n",
       "      <td>4.4</td>\n",
       "      <td>[{'name': 'places/ChIJoZKwOcT-0YURC2Z-oC3nf_M/...</td>\n",
       "      <td>9943</td>\n",
       "    </tr>\n",
       "    <tr>\n",
       "      <th>82</th>\n",
       "      <td>store</td>\n",
       "      <td>Mexico City, Mexico</td>\n",
       "      <td>Palacio de Mineria</td>\n",
       "      <td>OPERATIONAL</td>\n",
       "      <td>C. de Tacuba 5, Centro Histórico de la Cdad. d...</td>\n",
       "      <td>ChIJcTXc1sf40YURLVbKU3SF7jM</td>\n",
       "      <td>NaN</td>\n",
       "      <td>+52 55 5623 2981</td>\n",
       "      <td>['Monday: Closed', 'Tuesday: Closed', 'Wednesd...</td>\n",
       "      <td>https://www.palaciomineria.unam.mx/</td>\n",
       "      <td>NaN</td>\n",
       "      <td>NaN</td>\n",
       "      <td>NaN</td>\n",
       "      <td>4.7</td>\n",
       "      <td>[{'name': 'places/ChIJcTXc1sf40YURLVbKU3SF7jM/...</td>\n",
       "      <td>3489</td>\n",
       "    </tr>\n",
       "    <tr>\n",
       "      <th>83</th>\n",
       "      <td>store</td>\n",
       "      <td>Mexico City, Mexico</td>\n",
       "      <td>Café El Popular</td>\n",
       "      <td>OPERATIONAL</td>\n",
       "      <td>Av. 5 de Mayo 50 y 52, Centro Histórico de la ...</td>\n",
       "      <td>ChIJOw1ZRC350YUR9g47BGXQoPM</td>\n",
       "      <td>NaN</td>\n",
       "      <td>+52 55 5518 6081</td>\n",
       "      <td>['Monday: Open 24 hours', 'Tuesday: Open 24 ho...</td>\n",
       "      <td>https://www.facebook.com/pages/Caf%C3%A9-El-Po...</td>\n",
       "      <td>True</td>\n",
       "      <td>NaN</td>\n",
       "      <td>PRICE_LEVEL_MODERATE</td>\n",
       "      <td>4.2</td>\n",
       "      <td>[{'name': 'places/ChIJOw1ZRC350YUR9g47BGXQoPM/...</td>\n",
       "      <td>18772</td>\n",
       "    </tr>\n",
       "  </tbody>\n",
       "</table>\n",
       "<p>84 rows × 16 columns</p>\n",
       "</div>"
      ],
      "text/plain": [
       "        Category             Location  \\\n",
       "0   beauty_salon  Mexico City, Mexico   \n",
       "1   beauty_salon  Mexico City, Mexico   \n",
       "2   beauty_salon  Mexico City, Mexico   \n",
       "3   beauty_salon  Mexico City, Mexico   \n",
       "4   beauty_salon  Mexico City, Mexico   \n",
       "..           ...                  ...   \n",
       "79         store  Mexico City, Mexico   \n",
       "80         store  Mexico City, Mexico   \n",
       "81         store  Mexico City, Mexico   \n",
       "82         store  Mexico City, Mexico   \n",
       "83         store  Mexico City, Mexico   \n",
       "\n",
       "                                                Name Business Status  \\\n",
       "0                                       BEAUTY PLAZA     OPERATIONAL   \n",
       "1                                      Caalfra - Bet     OPERATIONAL   \n",
       "2                           DreadLocks Mexico Studio     OPERATIONAL   \n",
       "3                              Alondra Nails Izazaga     OPERATIONAL   \n",
       "4   Centro Holistico Itzae, Spa & Sauna, Masoterapia     OPERATIONAL   \n",
       "..                                               ...             ...   \n",
       "79                      Price Shoes Centro Historico     OPERATIONAL   \n",
       "80  Sanborns Madero | Restaurante, Tienda y Farmacia     OPERATIONAL   \n",
       "81                           Sams Club Portal Centro     OPERATIONAL   \n",
       "82                                Palacio de Mineria     OPERATIONAL   \n",
       "83                                   Café El Popular     OPERATIONAL   \n",
       "\n",
       "                                    Formatted Address  \\\n",
       "0   Calle de Venustiano Carranza 155, Local C.esqu...   \n",
       "1   Circunvalación 405, Centro Histórico de la Cda...   \n",
       "2   C. Soto 122, Guerrero, Cuauhtémoc, 06300 Ciuda...   \n",
       "3   José María Izazaga 29-Local 407 Piso 4, Centro...   \n",
       "4   Calle Independencia #101 int. 10 Col, Centro H...   \n",
       "..                                                ...   \n",
       "79  C. de Venustiano Carranza 125, Centro Históric...   \n",
       "80  Av Francisco I. Madero 4, Centro Histórico de ...   \n",
       "81  Lorenzo Boturini S/N, Tránsito, Cuauhtémoc, 06...   \n",
       "82  C. de Tacuba 5, Centro Histórico de la Cdad. d...   \n",
       "83  Av. 5 de Mayo 50 y 52, Centro Histórico de la ...   \n",
       "\n",
       "                       Place ID  Phone Number International Phone Number  \\\n",
       "0   ChIJt4bRhMv-0YURGgTkpdIEfeg           NaN                        NaN   \n",
       "1   ChIJS5e_O8r-0YUR7PoPH8p7VqA           NaN           +52 55 5542 2479   \n",
       "2   ChIJHzEEG9b40YURgjiuLXNVNpI           NaN           +52 55 4373 9223   \n",
       "3   ChIJp7neQQD_0YURUkbWAz4jgis           NaN           +52 55 8080 4698   \n",
       "4   ChIJKx8xUG750YURd_JErtUZaQw           NaN           +52 55 2740 5971   \n",
       "..                          ...           ...                        ...   \n",
       "79  ChIJcfLTWMz-0YURwdIPbk6fCtk           NaN           +52 55 6392 4080   \n",
       "80  ChIJU5d1n7gO0oURpi6tiQPNpxw           NaN           +52 55 5518 3525   \n",
       "81  ChIJoZKwOcT-0YURC2Z-oC3nf_M           NaN           +52 800 999 7267   \n",
       "82  ChIJcTXc1sf40YURLVbKU3SF7jM           NaN           +52 55 5623 2981   \n",
       "83  ChIJOw1ZRC350YUR9g47BGXQoPM           NaN           +52 55 5518 6081   \n",
       "\n",
       "                                        Opening Hours  \\\n",
       "0   ['Monday: 9:30\\u202fAM\\u2009–\\u20096:00\\u202fP...   \n",
       "1   ['Monday: 8:00\\u202fAM\\u2009–\\u20096:30\\u202fP...   \n",
       "2   ['Monday: 11:30\\u202fAM\\u2009–\\u20096:00\\u202f...   \n",
       "3   ['Monday: 10:00\\u202fAM\\u2009–\\u20096:30\\u202f...   \n",
       "4   ['Monday: 9:30\\u202fAM\\u2009–\\u20096:00\\u202fP...   \n",
       "..                                                ...   \n",
       "79  ['Monday: 9:00\\u202fAM\\u2009–\\u20096:00\\u202fP...   \n",
       "80  ['Monday: 7:00\\u202fAM\\u2009–\\u200912:00\\u202f...   \n",
       "81  ['Monday: 7:00\\u202fAM\\u2009–\\u200910:00\\u202f...   \n",
       "82  ['Monday: Closed', 'Tuesday: Closed', 'Wednesd...   \n",
       "83  ['Monday: Open 24 hours', 'Tuesday: Open 24 ho...   \n",
       "\n",
       "                                              Website Delivery  \\\n",
       "0                                                 NaN     True   \n",
       "1                      https://www.caalfrabet.com.mx/     True   \n",
       "2                http://www.facebook.com/DreadLocksDf      NaN   \n",
       "3                                                 NaN      NaN   \n",
       "4                   https://centroholisticoitzae.com/      NaN   \n",
       "..                                                ...      ...   \n",
       "79                                                NaN     True   \n",
       "80                       https://www.sanborns.com.mx/     True   \n",
       "81                            http://www.sams.com.mx/     True   \n",
       "82                https://www.palaciomineria.unam.mx/      NaN   \n",
       "83  https://www.facebook.com/pages/Caf%C3%A9-El-Po...     True   \n",
       "\n",
       "   Curbside Pickup           Price Level  Rating  \\\n",
       "0              NaN                   NaN     4.2   \n",
       "1              NaN                   NaN     4.4   \n",
       "2              NaN                   NaN     4.4   \n",
       "3              NaN                   NaN     4.2   \n",
       "4              NaN                   NaN     4.6   \n",
       "..             ...                   ...     ...   \n",
       "79             NaN                   NaN     4.0   \n",
       "80             NaN  PRICE_LEVEL_MODERATE     4.4   \n",
       "81             NaN                   NaN     4.4   \n",
       "82             NaN                   NaN     4.7   \n",
       "83             NaN  PRICE_LEVEL_MODERATE     4.2   \n",
       "\n",
       "                                              Reviews  User Ratings Total  \n",
       "0   [{'name': 'places/ChIJt4bRhMv-0YURGgTkpdIEfeg/...                2887  \n",
       "1   [{'name': 'places/ChIJS5e_O8r-0YUR7PoPH8p7VqA/...                1397  \n",
       "2   [{'name': 'places/ChIJHzEEG9b40YURgjiuLXNVNpI/...                 333  \n",
       "3   [{'name': 'places/ChIJp7neQQD_0YURUkbWAz4jgis/...                  21  \n",
       "4   [{'name': 'places/ChIJKx8xUG750YURd_JErtUZaQw/...                 157  \n",
       "..                                                ...                 ...  \n",
       "79  [{'name': 'places/ChIJcfLTWMz-0YURwdIPbk6fCtk/...               12483  \n",
       "80  [{'name': 'places/ChIJU5d1n7gO0oURpi6tiQPNpxw/...               10595  \n",
       "81  [{'name': 'places/ChIJoZKwOcT-0YURC2Z-oC3nf_M/...                9943  \n",
       "82  [{'name': 'places/ChIJcTXc1sf40YURLVbKU3SF7jM/...                3489  \n",
       "83  [{'name': 'places/ChIJOw1ZRC350YUR9g47BGXQoPM/...               18772  \n",
       "\n",
       "[84 rows x 16 columns]"
      ]
     },
     "execution_count": 2,
     "metadata": {},
     "output_type": "execute_result"
    }
   ],
   "source": [
    "file_path = \"datasets/beauty_stores_dynamic.csv\"\n",
    "places = pd.read_csv(file_path)\n",
    "print(f\"total records and columns fetched from gogle place is: \", places.shape)\n",
    "places"
   ]
  },
  {
   "cell_type": "markdown",
   "id": "28dae978-f745-4d6b-986a-e4237cf21591",
   "metadata": {
    "jp-MarkdownHeadingCollapsed": true
   },
   "source": [
    "## YELP DATA"
   ]
  },
  {
   "cell_type": "code",
   "execution_count": 10,
   "id": "aeb44acf-611c-4d63-9a92-c788c6c8a424",
   "metadata": {},
   "outputs": [
    {
     "data": {
      "text/plain": [
       "<module 'yelpAPI' from 'D:\\\\Portfolio\\\\my_projects\\\\K.I.P\\\\pscripts\\\\yelpAPI.py'>"
      ]
     },
     "execution_count": 10,
     "metadata": {},
     "output_type": "execute_result"
    }
   ],
   "source": [
    "from importlib import reload\n",
    "reload(yapi)\n"
   ]
  },
  {
   "cell_type": "code",
   "execution_count": 11,
   "id": "075bc4eb-41a9-4b74-8a7c-eb2ab0722623",
   "metadata": {
    "scrolled": true
   },
   "outputs": [
    {
     "name": "stdin",
     "output_type": "stream",
     "text": [
      "Do you want to use latitude and longitude? (y/n):  n\n",
      "Enter the location (e.g., 'Mexico City, Mexico'):  Mexico City, Mexico\n",
      "Enter the search radius in meters (e.g., 5000):  5000\n",
      "Enter the maximum number of results per page (1-50):  50\n",
      "Enter the total number of results to fetch:  100\n"
     ]
    },
    {
     "name": "stdout",
     "output_type": "stream",
     "text": [
      "\n",
      "=== New Search ===\n"
     ]
    },
    {
     "name": "stdin",
     "output_type": "stream",
     "text": [
      "Enter the search type (e.g., 'beauty supply, spa, department store, pharmacy, boutique'):  beauty supply\n"
     ]
    },
    {
     "name": "stdout",
     "output_type": "stream",
     "text": [
      "Error fetching data from Yelp API: 400 Client Error: Bad Request for url: https://api.yelp.com/v3/businesses/search?latitude=19.4326077&longitude=-99.133208&term=beauty+supply&radius=5000&limit=50&offset=200\n",
      "No more results found.\n",
      "✅ Successfully saved 42 records to datasets\\yelp_businesses.csv.\n"
     ]
    },
    {
     "name": "stdin",
     "output_type": "stream",
     "text": [
      "Do you want to perform another search? (y/n):  y\n"
     ]
    },
    {
     "name": "stdout",
     "output_type": "stream",
     "text": [
      "\n",
      "=== New Search ===\n"
     ]
    },
    {
     "name": "stdin",
     "output_type": "stream",
     "text": [
      "Enter the search type (e.g., 'beauty supply, spa, department store, pharmacy, boutique'):  pharmacy\n"
     ]
    },
    {
     "name": "stdout",
     "output_type": "stream",
     "text": [
      "Error fetching data from Yelp API: 400 Client Error: Bad Request for url: https://api.yelp.com/v3/businesses/search?latitude=19.4326077&longitude=-99.133208&term=pharmacy&radius=5000&limit=50&offset=200\n",
      "No more results found.\n",
      "✅ Successfully saved 14 records to datasets\\yelp_businesses.csv.\n"
     ]
    },
    {
     "name": "stdin",
     "output_type": "stream",
     "text": [
      "Do you want to perform another search? (y/n):  y\n"
     ]
    },
    {
     "name": "stdout",
     "output_type": "stream",
     "text": [
      "\n",
      "=== New Search ===\n"
     ]
    },
    {
     "name": "stdin",
     "output_type": "stream",
     "text": [
      "Enter the search type (e.g., 'beauty supply, spa, department store, pharmacy, boutique'):  department store\n"
     ]
    },
    {
     "name": "stdout",
     "output_type": "stream",
     "text": [
      "Error fetching data from Yelp API: 400 Client Error: Bad Request for url: https://api.yelp.com/v3/businesses/search?latitude=19.4326077&longitude=-99.133208&term=department+store&radius=5000&limit=50&offset=200\n",
      "No more results found.\n",
      "✅ Successfully saved 61 records to datasets\\yelp_businesses.csv.\n"
     ]
    },
    {
     "name": "stdin",
     "output_type": "stream",
     "text": [
      "Do you want to perform another search? (y/n):  y\n"
     ]
    },
    {
     "name": "stdout",
     "output_type": "stream",
     "text": [
      "\n",
      "=== New Search ===\n"
     ]
    },
    {
     "name": "stdin",
     "output_type": "stream",
     "text": [
      "Enter the search type (e.g., 'beauty supply, spa, department store, pharmacy, boutique'):  boutique\n"
     ]
    },
    {
     "name": "stdout",
     "output_type": "stream",
     "text": [
      "No more results found.\n",
      "✅ Successfully saved 21 records to datasets\\yelp_businesses.csv.\n"
     ]
    },
    {
     "name": "stdin",
     "output_type": "stream",
     "text": [
      "Do you want to perform another search? (y/n):  n\n"
     ]
    },
    {
     "name": "stdout",
     "output_type": "stream",
     "text": [
      "Exiting the program. Goodbye!\n"
     ]
    }
   ],
   "source": [
    "# Execute the main function\n",
    "if __name__ == \"__main__\":\n",
    "    yapi.main()"
   ]
  },
  {
   "cell_type": "code",
   "execution_count": 12,
   "id": "4f23a486-f820-4df5-abe2-d620f691ddca",
   "metadata": {
    "scrolled": true
   },
   "outputs": [
    {
     "name": "stdout",
     "output_type": "stream",
     "text": [
      "total records and columns fetched:  (388, 15)\n"
     ]
    },
    {
     "data": {
      "text/html": [
       "<div>\n",
       "<style scoped>\n",
       "    .dataframe tbody tr th:only-of-type {\n",
       "        vertical-align: middle;\n",
       "    }\n",
       "\n",
       "    .dataframe tbody tr th {\n",
       "        vertical-align: top;\n",
       "    }\n",
       "\n",
       "    .dataframe thead th {\n",
       "        text-align: right;\n",
       "    }\n",
       "</style>\n",
       "<table border=\"1\" class=\"dataframe\">\n",
       "  <thead>\n",
       "    <tr style=\"text-align: right;\">\n",
       "      <th></th>\n",
       "      <th>Business ID</th>\n",
       "      <th>Name</th>\n",
       "      <th>Rating</th>\n",
       "      <th>Review Count</th>\n",
       "      <th>Address</th>\n",
       "      <th>City</th>\n",
       "      <th>State</th>\n",
       "      <th>Zip Code</th>\n",
       "      <th>Phone</th>\n",
       "      <th>Website</th>\n",
       "      <th>Categories</th>\n",
       "      <th>Brands</th>\n",
       "      <th>Quantities</th>\n",
       "      <th>Latitude</th>\n",
       "      <th>Longitude</th>\n",
       "    </tr>\n",
       "  </thead>\n",
       "  <tbody>\n",
       "    <tr>\n",
       "      <th>0</th>\n",
       "      <td>6j5aBvM4xhLCpVr3qb5C9w</td>\n",
       "      <td>Todo Barato desde $3:50</td>\n",
       "      <td>4.0</td>\n",
       "      <td>1</td>\n",
       "      <td>Av. Cuauhtémoc, División del Norte y</td>\n",
       "      <td>México, D.F.</td>\n",
       "      <td>DIF</td>\n",
       "      <td>3650</td>\n",
       "      <td>NaN</td>\n",
       "      <td>NaN</td>\n",
       "      <td>Discount Store, Cosmetics &amp; Beauty Supply</td>\n",
       "      <td>NaN</td>\n",
       "      <td>NaN</td>\n",
       "      <td>19.432608</td>\n",
       "      <td>-99.133208</td>\n",
       "    </tr>\n",
       "    <tr>\n",
       "      <th>1</th>\n",
       "      <td>eyDRfp442AUFrOJQT0w-Ww</td>\n",
       "      <td>Bella</td>\n",
       "      <td>4.3</td>\n",
       "      <td>3</td>\n",
       "      <td>Gta Metro Insurgentes CC16G</td>\n",
       "      <td>México, D.F.</td>\n",
       "      <td>DIF</td>\n",
       "      <td>6700</td>\n",
       "      <td>5.255553e+11</td>\n",
       "      <td>NaN</td>\n",
       "      <td>Cosmetics &amp; Beauty Supply</td>\n",
       "      <td>NaN</td>\n",
       "      <td>NaN</td>\n",
       "      <td>19.432608</td>\n",
       "      <td>-99.133208</td>\n",
       "    </tr>\n",
       "    <tr>\n",
       "      <th>2</th>\n",
       "      <td>ATwgbzYqB0826yPeHY7wtw</td>\n",
       "      <td>The Beauty Factor</td>\n",
       "      <td>4.0</td>\n",
       "      <td>1</td>\n",
       "      <td>Jesús María 66</td>\n",
       "      <td>México, D.F.</td>\n",
       "      <td>DIF</td>\n",
       "      <td>6060</td>\n",
       "      <td>5.255552e+11</td>\n",
       "      <td>NaN</td>\n",
       "      <td>Cosmetics &amp; Beauty Supply</td>\n",
       "      <td>NaN</td>\n",
       "      <td>NaN</td>\n",
       "      <td>19.432608</td>\n",
       "      <td>-99.133208</td>\n",
       "    </tr>\n",
       "    <tr>\n",
       "      <th>3</th>\n",
       "      <td>UiQ3g0aJc4-L2YNq9IyJOA</td>\n",
       "      <td>Distribuidora Don Juan</td>\n",
       "      <td>4.0</td>\n",
       "      <td>2</td>\n",
       "      <td>Corregidora 7A</td>\n",
       "      <td>México, D.F.</td>\n",
       "      <td>DIF</td>\n",
       "      <td>6000</td>\n",
       "      <td>5.255554e+11</td>\n",
       "      <td>NaN</td>\n",
       "      <td>Cosmetics &amp; Beauty Supply</td>\n",
       "      <td>NaN</td>\n",
       "      <td>NaN</td>\n",
       "      <td>19.432608</td>\n",
       "      <td>-99.133208</td>\n",
       "    </tr>\n",
       "    <tr>\n",
       "      <th>4</th>\n",
       "      <td>pUKi6n1mZM5qeDUl5RWsbQ</td>\n",
       "      <td>Distribuidora Alhondiga</td>\n",
       "      <td>4.0</td>\n",
       "      <td>1</td>\n",
       "      <td>Toledo 34</td>\n",
       "      <td>Juárez</td>\n",
       "      <td>DIF</td>\n",
       "      <td>6600</td>\n",
       "      <td>5.255521e+11</td>\n",
       "      <td>NaN</td>\n",
       "      <td>Cosmetics &amp; Beauty Supply</td>\n",
       "      <td>NaN</td>\n",
       "      <td>NaN</td>\n",
       "      <td>19.432608</td>\n",
       "      <td>-99.133208</td>\n",
       "    </tr>\n",
       "    <tr>\n",
       "      <th>...</th>\n",
       "      <td>...</td>\n",
       "      <td>...</td>\n",
       "      <td>...</td>\n",
       "      <td>...</td>\n",
       "      <td>...</td>\n",
       "      <td>...</td>\n",
       "      <td>...</td>\n",
       "      <td>...</td>\n",
       "      <td>...</td>\n",
       "      <td>...</td>\n",
       "      <td>...</td>\n",
       "      <td>...</td>\n",
       "      <td>...</td>\n",
       "      <td>...</td>\n",
       "      <td>...</td>\n",
       "    </tr>\n",
       "    <tr>\n",
       "      <th>383</th>\n",
       "      <td>bhJse6JETjTCHnSf8LfUiA</td>\n",
       "      <td>Zinix Boutique</td>\n",
       "      <td>5.0</td>\n",
       "      <td>1</td>\n",
       "      <td>Av. Amsterdam 12-A</td>\n",
       "      <td>Hipódromo</td>\n",
       "      <td>DIF</td>\n",
       "      <td>6100</td>\n",
       "      <td>5.255555e+11</td>\n",
       "      <td>NaN</td>\n",
       "      <td>Shoe Stores, Accessories, Women's Clothing</td>\n",
       "      <td>NaN</td>\n",
       "      <td>NaN</td>\n",
       "      <td>19.432608</td>\n",
       "      <td>-99.133208</td>\n",
       "    </tr>\n",
       "    <tr>\n",
       "      <th>384</th>\n",
       "      <td>t8Xuj27vDQ0mYqQopRWidw</td>\n",
       "      <td>Village Plaza Boutique</td>\n",
       "      <td>4.0</td>\n",
       "      <td>1</td>\n",
       "      <td>Tamaulipas 99</td>\n",
       "      <td>México, D.F.</td>\n",
       "      <td>DIF</td>\n",
       "      <td>6100</td>\n",
       "      <td>NaN</td>\n",
       "      <td>NaN</td>\n",
       "      <td>Fashion</td>\n",
       "      <td>NaN</td>\n",
       "      <td>NaN</td>\n",
       "      <td>19.432608</td>\n",
       "      <td>-99.133208</td>\n",
       "    </tr>\n",
       "    <tr>\n",
       "      <th>385</th>\n",
       "      <td>BqbLNcs4h5OoayyHNutDrw</td>\n",
       "      <td>Hola Ropa Infantil</td>\n",
       "      <td>5.0</td>\n",
       "      <td>1</td>\n",
       "      <td>Serapio Rendón 20</td>\n",
       "      <td>México, D.F.</td>\n",
       "      <td>DIF</td>\n",
       "      <td>6470</td>\n",
       "      <td>NaN</td>\n",
       "      <td>NaN</td>\n",
       "      <td>Children's Clothing</td>\n",
       "      <td>NaN</td>\n",
       "      <td>NaN</td>\n",
       "      <td>19.432608</td>\n",
       "      <td>-99.133208</td>\n",
       "    </tr>\n",
       "    <tr>\n",
       "      <th>386</th>\n",
       "      <td>gkFTJKJmv8d6EcNf3-feMg</td>\n",
       "      <td>Scalpers</td>\n",
       "      <td>5.0</td>\n",
       "      <td>1</td>\n",
       "      <td>C. C. Antara</td>\n",
       "      <td>México, D.F.</td>\n",
       "      <td>DIF</td>\n",
       "      <td>11520</td>\n",
       "      <td>5.255528e+11</td>\n",
       "      <td>NaN</td>\n",
       "      <td>Men's Clothing</td>\n",
       "      <td>NaN</td>\n",
       "      <td>NaN</td>\n",
       "      <td>19.432608</td>\n",
       "      <td>-99.133208</td>\n",
       "    </tr>\n",
       "    <tr>\n",
       "      <th>387</th>\n",
       "      <td>AqQwuAT7PM7WCoVhJi2UjA</td>\n",
       "      <td>Boutique LaVill</td>\n",
       "      <td>4.0</td>\n",
       "      <td>1</td>\n",
       "      <td>Benjamil Hill 214</td>\n",
       "      <td>México, D.F.</td>\n",
       "      <td>DIF</td>\n",
       "      <td>6100</td>\n",
       "      <td>NaN</td>\n",
       "      <td>NaN</td>\n",
       "      <td>Women's Clothing</td>\n",
       "      <td>NaN</td>\n",
       "      <td>NaN</td>\n",
       "      <td>19.432608</td>\n",
       "      <td>-99.133208</td>\n",
       "    </tr>\n",
       "  </tbody>\n",
       "</table>\n",
       "<p>388 rows × 15 columns</p>\n",
       "</div>"
      ],
      "text/plain": [
       "                Business ID                     Name  Rating  Review Count  \\\n",
       "0    6j5aBvM4xhLCpVr3qb5C9w  Todo Barato desde $3:50     4.0             1   \n",
       "1    eyDRfp442AUFrOJQT0w-Ww                    Bella     4.3             3   \n",
       "2    ATwgbzYqB0826yPeHY7wtw        The Beauty Factor     4.0             1   \n",
       "3    UiQ3g0aJc4-L2YNq9IyJOA   Distribuidora Don Juan     4.0             2   \n",
       "4    pUKi6n1mZM5qeDUl5RWsbQ  Distribuidora Alhondiga     4.0             1   \n",
       "..                      ...                      ...     ...           ...   \n",
       "383  bhJse6JETjTCHnSf8LfUiA           Zinix Boutique     5.0             1   \n",
       "384  t8Xuj27vDQ0mYqQopRWidw   Village Plaza Boutique     4.0             1   \n",
       "385  BqbLNcs4h5OoayyHNutDrw       Hola Ropa Infantil     5.0             1   \n",
       "386  gkFTJKJmv8d6EcNf3-feMg                 Scalpers     5.0             1   \n",
       "387  AqQwuAT7PM7WCoVhJi2UjA          Boutique LaVill     4.0             1   \n",
       "\n",
       "                                  Address          City State  Zip Code  \\\n",
       "0    Av. Cuauhtémoc, División del Norte y  México, D.F.   DIF      3650   \n",
       "1             Gta Metro Insurgentes CC16G  México, D.F.   DIF      6700   \n",
       "2                          Jesús María 66  México, D.F.   DIF      6060   \n",
       "3                          Corregidora 7A  México, D.F.   DIF      6000   \n",
       "4                               Toledo 34        Juárez   DIF      6600   \n",
       "..                                    ...           ...   ...       ...   \n",
       "383                    Av. Amsterdam 12-A     Hipódromo   DIF      6100   \n",
       "384                         Tamaulipas 99  México, D.F.   DIF      6100   \n",
       "385                     Serapio Rendón 20  México, D.F.   DIF      6470   \n",
       "386                          C. C. Antara  México, D.F.   DIF     11520   \n",
       "387                     Benjamil Hill 214  México, D.F.   DIF      6100   \n",
       "\n",
       "            Phone  Website                                  Categories  \\\n",
       "0             NaN      NaN   Discount Store, Cosmetics & Beauty Supply   \n",
       "1    5.255553e+11      NaN                   Cosmetics & Beauty Supply   \n",
       "2    5.255552e+11      NaN                   Cosmetics & Beauty Supply   \n",
       "3    5.255554e+11      NaN                   Cosmetics & Beauty Supply   \n",
       "4    5.255521e+11      NaN                   Cosmetics & Beauty Supply   \n",
       "..            ...      ...                                         ...   \n",
       "383  5.255555e+11      NaN  Shoe Stores, Accessories, Women's Clothing   \n",
       "384           NaN      NaN                                     Fashion   \n",
       "385           NaN      NaN                         Children's Clothing   \n",
       "386  5.255528e+11      NaN                              Men's Clothing   \n",
       "387           NaN      NaN                            Women's Clothing   \n",
       "\n",
       "     Brands  Quantities   Latitude  Longitude  \n",
       "0       NaN         NaN  19.432608 -99.133208  \n",
       "1       NaN         NaN  19.432608 -99.133208  \n",
       "2       NaN         NaN  19.432608 -99.133208  \n",
       "3       NaN         NaN  19.432608 -99.133208  \n",
       "4       NaN         NaN  19.432608 -99.133208  \n",
       "..      ...         ...        ...        ...  \n",
       "383     NaN         NaN  19.432608 -99.133208  \n",
       "384     NaN         NaN  19.432608 -99.133208  \n",
       "385     NaN         NaN  19.432608 -99.133208  \n",
       "386     NaN         NaN  19.432608 -99.133208  \n",
       "387     NaN         NaN  19.432608 -99.133208  \n",
       "\n",
       "[388 rows x 15 columns]"
      ]
     },
     "execution_count": 12,
     "metadata": {},
     "output_type": "execute_result"
    }
   ],
   "source": [
    "file_path = \"datasets/yelp_businesses.csv\"\n",
    "yelpbiz = pd.read_csv(file_path)\n",
    "print(f\"total records and columns fetched: \", yelpbiz.shape)\n",
    "yelpbiz"
   ]
  },
  {
   "cell_type": "code",
   "execution_count": 9,
   "id": "50c015bd-d404-40fe-aa0a-cda30b81bf49",
   "metadata": {},
   "outputs": [],
   "source": []
  },
  {
   "cell_type": "markdown",
   "id": "2c02e125-9f81-476b-aea0-7e887356a545",
   "metadata": {},
   "source": [
    "## SCRAPE ADDITIONAL DATA"
   ]
  },
  {
   "cell_type": "code",
   "execution_count": 13,
   "id": "e75ba31f-871f-40e0-b053-e2e07c864a78",
   "metadata": {},
   "outputs": [
    {
     "data": {
      "text/plain": [
       "<module 'fetch_business_details_async' from 'D:\\\\Portfolio\\\\my_projects\\\\K.I.P\\\\pscripts\\\\fetch_business_details_async.py'>"
      ]
     },
     "execution_count": 13,
     "metadata": {},
     "output_type": "execute_result"
    }
   ],
   "source": [
    "from importlib import reload\n",
    "reload(fbda)"
   ]
  },
  {
   "cell_type": "code",
   "execution_count": null,
   "id": "0a311670-87bf-477c-8aa1-749dd9ff9877",
   "metadata": {
    "scrolled": true
   },
   "outputs": [],
   "source": [
    "# Example usage in Jupyter Notebook\n",
    "if __name__ == \"__main__\":\n",
    "    # Run the main function using await\n",
    "    await fbda.main(yelpbiz)"
   ]
  },
  {
   "cell_type": "code",
   "execution_count": null,
   "id": "f3af3132-0d3e-446b-bd9a-8764efe9364e",
   "metadata": {},
   "outputs": [],
   "source": []
  },
  {
   "cell_type": "code",
   "execution_count": null,
   "id": "612754dd-5027-46ef-9cec-a60fadc85dec",
   "metadata": {},
   "outputs": [],
   "source": []
  },
  {
   "cell_type": "code",
   "execution_count": null,
   "id": "57a81b64-8097-429a-b614-9dbc62ab5a09",
   "metadata": {},
   "outputs": [],
   "source": []
  },
  {
   "cell_type": "code",
   "execution_count": null,
   "id": "c57cdc4b-05e8-4554-9094-a21b67705f63",
   "metadata": {
    "scrolled": true
   },
   "outputs": [],
   "source": [
    "# Example usage\n",
    "await fbda.main(yelpbiz)"
   ]
  },
  {
   "cell_type": "code",
   "execution_count": null,
   "id": "b38411f0-0e54-4bd0-9a72-8289328ceb39",
   "metadata": {},
   "outputs": [],
   "source": []
  },
  {
   "cell_type": "code",
   "execution_count": 8,
   "id": "66c84504-04eb-4879-b8e4-925f4e7a73a8",
   "metadata": {},
   "outputs": [
    {
     "data": {
      "text/plain": [
       "<module 'scrape_data' from 'D:\\\\Portfolio\\\\my_projects\\\\K.I.P\\\\pscripts\\\\scrape_data.py'>"
      ]
     },
     "execution_count": 8,
     "metadata": {},
     "output_type": "execute_result"
    }
   ],
   "source": [
    "from importlib import reload\n",
    "reload(bsp)"
   ]
  },
  {
   "cell_type": "code",
   "execution_count": null,
   "id": "14c26018-ca80-4b61-8803-2cb713d86c29",
   "metadata": {
    "scrolled": true
   },
   "outputs": [
    {
     "name": "stdout",
     "output_type": "stream",
     "text": [
      "Scraping started...\n",
      "Scraping https://www.caalfrabet.com.mx/...\n",
      "Scraping http://www.facebook.com/DreadLocksDf...\n",
      "Scraping https://centroholisticoitzae.com/...\n",
      "Scraping https://dsbmx.com/...\n",
      "Scraping https://wa.me/5215554646114...\n",
      "Scraping https://www.pestañasyuñas.com/...\n",
      "Scraping http://www.facebook.com/visagecambiodeimagen...\n",
      "Scraping https://www.facebook.com/profile.php?id=100064037258905&mibextid=ZbWKwL...\n",
      "Scraping http://www.facebook.com/davidfrancomakeup...\n",
      "Scraping https://www.instagram.com/labarberiashopandspareforma?igshid=NGVhN2U2NjQ0Yg==...\n",
      "Scraping https://www.selina.com/mexico-city-downtown/...\n",
      "Scraping https://banossenorial.mx/...\n",
      "Scraping http://www.twitter.com/sextopiso_mx...\n",
      "Scraping https://www.barcelo.com/es-mx/barcelo-mexico-reforma/bienestar/?utm_source=google&utm_medium=organic&utm_campaign=my_business&utm_content=7345spa...\n",
      "Scraping http://www.manthraspa.com/...\n",
      "Scraping https://centroholisticoitzae.com/...\n",
      "Scraping https://www.facebook.com/CasaDeMasajeTailandes/...\n",
      "Scraping https://www.facebook.com/profile.php?id=100064037258905&mibextid=ZbWKwL...\n",
      "Scraping https://www.instagram.com/labarberiashopandspareforma?igshid=NGVhN2U2NjQ0Yg==...\n",
      "Scraping https://www.instagram.com/ganesha.massage.spa?igsh=MTVnMGZhcno2dHJvcw==...\n",
      "Scraping https://www.spaelite.com.mx/...\n",
      "Scraping http://wwwbell8spa.com/...\n",
      "Scraping http://www.farmaciaparis.com/...\n",
      "Scraping http://www.farmaciaparis.com/movil/productos.html...\n",
      "Scraping https://www.sanborns.com.mx/...\n",
      "Scraping https://www.farmaciasanpablo.com.mx/...\n",
      "Scraping https://www.sanborns.com.mx/...\n",
      "Scraping https://www.sanborns.com.mx/...\n",
      "Scraping http://www.lapildora.com/index.html...\n",
      "Scraping http://www.farmaciasdesimilares.com.mx/...\n",
      "Scraping https://www.liverpool.com.mx/...\n",
      "Scraping https://www.elpalaciodehierro.com/?utm_source=gmb&utm_medium=centro&utm_campaign=sitio_web...\n",
      "Scraping http://www.walmart.com.mx/...\n",
      "Scraping https://www.sanborns.com.mx/...\n",
      "Scraping http://www.sears.com.mx/...\n",
      "Scraping https://www.suburbia.com.mx/...\n",
      "Scraping http://www.elnuevomundo.com/...\n",
      "Scraping https://www.coppel.com/ubicacion-de-tiendas-coppel/ciudad-de-mexico/cuauhtemoc/coppel-sonora...\n",
      "Scraping http://services.chanel.com/es_LX/storelocator/store/sanborns+condes+de+xala-32169.html...\n"
     ]
    }
   ],
   "source": [
    "scraped_data = bsp.scrape_data(places)\n",
    "scraped_data"
   ]
  },
  {
   "cell_type": "code",
   "execution_count": null,
   "id": "f17841e2-b177-4b1c-a3ef-29802e5c4b58",
   "metadata": {},
   "outputs": [],
   "source": [
    "# Save the scraped data to the 'datasets' folder\n",
    "bsp.save_scraped_data(scraped_data, output_folder='datasets', output_file='scraped_data.csv')\n"
   ]
  },
  {
   "cell_type": "code",
   "execution_count": null,
   "id": "02241689-4ac4-42d9-8bf0-15e8c1fbbf02",
   "metadata": {},
   "outputs": [],
   "source": []
  },
  {
   "cell_type": "code",
   "execution_count": null,
   "id": "d132418c-f741-4aee-8ce2-1c4cd9563076",
   "metadata": {},
   "outputs": [],
   "source": []
  }
 ],
 "metadata": {
  "kernelspec": {
   "display_name": "Python (myenv)",
   "language": "python",
   "name": "myenv"
  },
  "language_info": {
   "codemirror_mode": {
    "name": "ipython",
    "version": 3
   },
   "file_extension": ".py",
   "mimetype": "text/x-python",
   "name": "python",
   "nbconvert_exporter": "python",
   "pygments_lexer": "ipython3",
   "version": "3.11.5"
  },
  "widgets": {
   "application/vnd.jupyter.widget-state+json": {
    "state": {},
    "version_major": 2,
    "version_minor": 0
   }
  }
 },
 "nbformat": 4,
 "nbformat_minor": 5
}
