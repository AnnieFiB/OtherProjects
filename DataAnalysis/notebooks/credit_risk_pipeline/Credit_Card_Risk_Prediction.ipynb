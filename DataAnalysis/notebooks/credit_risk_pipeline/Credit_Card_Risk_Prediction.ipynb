{
 "cells": [
  {
   "cell_type": "markdown",
   "id": "180bd4b6-a5f9-4b7f-89ec-a349cd152942",
   "metadata": {},
   "source": [
    "<div style=\"text-align:center; border: 1px solid #808080; padding: 10px;\">\n",
    "  <h1 style=\"color: gray; font-weight: bold;\">Credit Card Predictive Analysis | EDA:</h1>\n",
    "  <h2 style=\"color: gray; font-weight: bold;\">Credit Risk Classification Using  Model of Best Fit</h2>\n",
    "</div>"
   ]
  },
  {
   "cell_type": "markdown",
   "id": "1ea162e1-f890-4767-80bf-9544f08d35a9",
   "metadata": {},
   "source": [
    "## Problem Statement"
   ]
  },
  {
   "cell_type": "markdown",
   "id": "3127b795-3dac-4c5d-9ea7-ea5ff9a4846c",
   "metadata": {
    "jp-MarkdownHeadingCollapsed": true
   },
   "source": [
    "- Credit score cards are used in the financial industry to predict the likelihood of credit card defaults and guide the issuance of credit cards. These scores rely on applicants' personal data and historical information, quantifying risk objectively.\n",
    "- **Project Goal**:\n",
    ">- The primary objective of this project is to **build a predictive model** that accurately identifies whether a customer is **high-risk** for credit card approval, enabling data-driven decision-making in the credit screening process."
   ]
  },
  {
   "cell_type": "markdown",
   "id": "0894878e",
   "metadata": {},
   "source": [
    "## Huggingface model samples"
   ]
  },
  {
   "cell_type": "markdown",
   "id": "0fab3a18-7adc-4751-8bd3-9fb1b74c0560",
   "metadata": {
    "jp-MarkdownHeadingCollapsed": true,
    "jupyter": {
     "source_hidden": true
    }
   },
   "source": [
    "\n",
    "- aegishield/credit_card_purchase_prediction\n",
    "- timhbach/Team-Gryffindor-DistilBERT-finetuned-ner-creditcardcontract\n",
    "- PabitraJiban/Credit-card-collection-intent-classification"
   ]
  },
  {
   "cell_type": "markdown",
   "id": "e2ea94f2-88e0-4c6c-b9ce-3bfb00960f37",
   "metadata": {},
   "source": [
    "## Load libraries & helpers"
   ]
  },
  {
   "cell_type": "code",
   "execution_count": 1,
   "id": "c7a87ab1-e8e9-4e1c-ac01-d2ab41197222",
   "metadata": {
    "scrolled": true
   },
   "outputs": [
    {
     "name": "stdout",
     "output_type": "stream",
     "text": [
      "Imported v0.1.905. Please call AutoViz in this sequence:\n",
      "    AV = AutoViz_Class()\n",
      "    %matplotlib inline\n",
      "    dfte = AV.AutoViz(filename, sep=',', depVar='', dfte=None, header=0, verbose=1, lowess=False,\n",
      "               chart_format='svg',max_rows_analyzed=150000,max_cols_analyzed=30, save_plot_dir=None)\n"
     ]
    },
    {
     "data": {
      "text/html": [
       "\n",
       "            <div>\n",
       "                <ins><a href=\"https://ydata.ai/register\">Upgrade to ydata-sdk</a></ins>\n",
       "                <p>\n",
       "                    Improve your data and profiling with ydata-sdk, featuring data quality scoring, redundancy detection, outlier identification, text validation, and synthetic data generation.\n",
       "                </p>\n",
       "            </div>\n",
       "            "
      ],
      "text/plain": [
       "<IPython.core.display.HTML object>"
      ]
     },
     "metadata": {},
     "output_type": "display_data"
    }
   ],
   "source": [
    "%matplotlib inline\n",
    "\n",
    "import pandas as pd\n",
    "import numpy as np\n",
    "from autoviz import AutoViz_Class\n",
    "import matplotlib.pyplot as plt\n",
    "import seaborn as sns\n",
    "from ydata_profiling import ProfileReport\n",
    "import pickle\n",
    "import joblib\n"
   ]
  },
  {
   "cell_type": "code",
   "execution_count": 1,
   "id": "2712cc10",
   "metadata": {},
   "outputs": [],
   "source": [
    "# Set up the project path\n",
    "import os, sys\n",
    "from pathlib import Path\n",
    "from IPython.display import display, Image \n",
    "sys.path.append(\"../../scripts\")\n",
    "\n",
    "from preprocessor import *\n",
    "from predict_risk import *\n",
    "from data_processing_framework import *"
   ]
  },
  {
   "cell_type": "markdown",
   "id": "0c32d551-2d62-4ec8-a34b-5b8a64540b8a",
   "metadata": {},
   "source": [
    "## Data load & understanding"
   ]
  },
  {
   "cell_type": "code",
   "execution_count": 4,
   "id": "e8bf4443-79b5-4a4b-88aa-54660b33413b",
   "metadata": {
    "scrolled": true
   },
   "outputs": [
    {
     "name": "stdout",
     "output_type": "stream",
     "text": [
      "📦 Fetching Kaggle dataset: rikdifos/credit-card-approval-prediction\n",
      "Dataset URL: https://www.kaggle.com/datasets/rikdifos/credit-card-approval-prediction\n"
     ]
    },
    {
     "data": {
      "application/vnd.jupyter.widget-view+json": {
       "model_id": "fa734cb9a5a743268912d164a90e092f",
       "version_major": 2,
       "version_minor": 0
      },
      "text/plain": [
       "Dropdown(description='Select File:', options=('application_record.csv', 'credit_record.csv'), value='applicati…"
      ]
     },
     "metadata": {},
     "output_type": "display_data"
    },
    {
     "data": {
      "application/vnd.jupyter.widget-view+json": {
       "model_id": "5858b9512ccf4bc4b11f9ca3cc5e9017",
       "version_major": 2,
       "version_minor": 0
      },
      "text/plain": [
       "Button(description='📥 Load Selected File', style=ButtonStyle())"
      ]
     },
     "metadata": {},
     "output_type": "display_data"
    },
    {
     "data": {
      "application/vnd.jupyter.widget-view+json": {
       "model_id": "737424e8fb9a4707a71aa5c4f8f67a66",
       "version_major": 2,
       "version_minor": 0
      },
      "text/plain": [
       "Output()"
      ]
     },
     "metadata": {},
     "output_type": "display_data"
    },
    {
     "name": "stdout",
     "output_type": "stream",
     "text": [
      "🔄 Select a file to load individually. You can rerun to load others.\n"
     ]
    }
   ],
   "source": [
    "path = \"rikdifos/credit-card-approval-prediction\"\n",
    "result = fetch_kaggle_dataset_by_path(path, temp_dir=\".temp_kaggle\")"
   ]
  },
  {
   "cell_type": "code",
   "execution_count": 9,
   "id": "8b0981e1-0e51-4645-b5de-32960a6b345d",
   "metadata": {
    "scrolled": true
   },
   "outputs": [],
   "source": [
    "# load dataset 1\n",
    "appl_df = raw_df\n",
    "appl_df.columns\n",
    "appl_df.to_csv(\"appl.csv\")"
   ]
  },
  {
   "cell_type": "code",
   "execution_count": 10,
   "id": "a583189f-1d73-4af8-b726-203420b62659",
   "metadata": {
    "scrolled": true
   },
   "outputs": [],
   "source": [
    "# load dataset 2\n",
    "credits_df = raw_df\n",
    "credits_df.columns\n",
    "credits_df.to_csv(\"crdt.csv\")"
   ]
  },
  {
   "cell_type": "markdown",
   "id": "5994423c-c1fa-44bc-adb3-67e7495cdccd",
   "metadata": {
    "jp-MarkdownHeadingCollapsed": true
   },
   "source": [
    "---\n",
    "*Credit df:*\n",
    "> 1048575 entries, Data columns (total 3 columns)\n",
    "\n",
    "*Application df:*\n",
    "> 438557 entries , Data columns (total 18 columns)\n",
    "\n",
    "\n",
    "| Feature Name    | Explanation     | Remarks                                                                                       |\n",
    "|-----------------|-----------------|-----------------------------------------------------------------------------------------------|\n",
    "| MONTHS_BALANCE  | Record month    | The month of the extracted data is the starting point, backwards, `0 is the current month`, `-1 is the previous month`, and so on |\n",
    "| STATUS          | Status          | `0: 1-29 days past due` `1: 30-59 days past due` `2: 60-89 days overdue` `3: 90-119 days overdue` `4: 120-149 days overdue` `5: Overdue or bad debts, write-offs for more than 150 days` `C: paid off that month` `X: No loan for the month` |\n",
    "\n",
    "---"
   ]
  },
  {
   "cell_type": "markdown",
   "id": "1101844d-5d92-470d-b1f3-28806b42adea",
   "metadata": {},
   "source": [
    "## Creating the target variable (is_high_risk)"
   ]
  },
  {
   "cell_type": "markdown",
   "id": "bcdf29ad-9653-441d-ac5c-ac2b0e7f2eac",
   "metadata": {},
   "source": [
    "---\n",
    "To create the target column Is_high_risk (binary: 1 for risky, 0 for not risky),\n",
    "\n",
    "- Step 1: Define Risky Statuses: Based on the STATUS column, classify customers as \"risky\" if they have ever had a severe delinquency (e.g., 30+ days overdue). Common thresholds include:\n",
    "- > STATUS = 1, 2, 3, 4, or 5 (60+ days past due).\n",
    "\n",
    "- Step 2: Aggregate Customer Behavior: Group the data by ID and check if the customer has any risky status in their history:\n",
    "- I will merge the two dataframes based on the `ID` column, using the `inner` parameter in the `pd.merge` function.\n",
    "- ---"
   ]
  },
  {
   "cell_type": "code",
   "execution_count": 21,
   "id": "07fcb403-a2f6-485d-8d3b-94f8dd928035",
   "metadata": {
    "jupyter": {
     "source_hidden": true
    }
   },
   "outputs": [
    {
     "data": {
      "text/html": [
       "<div>\n",
       "<style scoped>\n",
       "    .dataframe tbody tr th:only-of-type {\n",
       "        vertical-align: middle;\n",
       "    }\n",
       "\n",
       "    .dataframe tbody tr th {\n",
       "        vertical-align: top;\n",
       "    }\n",
       "\n",
       "    .dataframe thead th {\n",
       "        text-align: right;\n",
       "    }\n",
       "</style>\n",
       "<table border=\"1\" class=\"dataframe\">\n",
       "  <thead>\n",
       "    <tr style=\"text-align: center;\">\n",
       "      <th></th>\n",
       "      <th>ID</th>\n",
       "      <th>account_age_months</th>\n",
       "      <th>is_high_risk</th>\n",
       "    </tr>\n",
       "  </thead>\n",
       "  <tbody>\n",
       "    <tr>\n",
       "      <th>0</th>\n",
       "      <td>5001711</td>\n",
       "      <td>3</td>\n",
       "      <td>0</td>\n",
       "    </tr>\n",
       "    <tr>\n",
       "      <th>4</th>\n",
       "      <td>5001712</td>\n",
       "      <td>18</td>\n",
       "      <td>0</td>\n",
       "    </tr>\n",
       "    <tr>\n",
       "      <th>23</th>\n",
       "      <td>5001713</td>\n",
       "      <td>21</td>\n",
       "      <td>0</td>\n",
       "    </tr>\n",
       "    <tr>\n",
       "      <th>45</th>\n",
       "      <td>5001714</td>\n",
       "      <td>14</td>\n",
       "      <td>0</td>\n",
       "    </tr>\n",
       "    <tr>\n",
       "      <th>60</th>\n",
       "      <td>5001715</td>\n",
       "      <td>59</td>\n",
       "      <td>0</td>\n",
       "    </tr>\n",
       "    <tr>\n",
       "      <th>...</th>\n",
       "      <td>...</td>\n",
       "      <td>...</td>\n",
       "      <td>...</td>\n",
       "    </tr>\n",
       "    <tr>\n",
       "      <th>1048494</th>\n",
       "      <td>5150482</td>\n",
       "      <td>28</td>\n",
       "      <td>0</td>\n",
       "    </tr>\n",
       "    <tr>\n",
       "      <th>1048512</th>\n",
       "      <td>5150483</td>\n",
       "      <td>17</td>\n",
       "      <td>0</td>\n",
       "    </tr>\n",
       "    <tr>\n",
       "      <th>1048530</th>\n",
       "      <td>5150484</td>\n",
       "      <td>12</td>\n",
       "      <td>0</td>\n",
       "    </tr>\n",
       "    <tr>\n",
       "      <th>1048543</th>\n",
       "      <td>5150485</td>\n",
       "      <td>1</td>\n",
       "      <td>0</td>\n",
       "    </tr>\n",
       "    <tr>\n",
       "      <th>1048545</th>\n",
       "      <td>5150487</td>\n",
       "      <td>29</td>\n",
       "      <td>0</td>\n",
       "    </tr>\n",
       "  </tbody>\n",
       "</table>\n",
       "<p>45985 rows × 3 columns</p>\n",
       "</div>"
      ],
      "text/plain": [
       "           ID     account_age_months  is_high_risk\n",
       "0        5001711           3                0     \n",
       "4        5001712          18                0     \n",
       "23       5001713          21                0     \n",
       "45       5001714          14                0     \n",
       "60       5001715          59                0     \n",
       "...          ...                 ...           ...\n",
       "1048494  5150482          28                0     \n",
       "1048512  5150483          17                0     \n",
       "1048530  5150484          12                0     \n",
       "1048543  5150485           1                0     \n",
       "1048545  5150487          29                0     \n",
       "\n",
       "[45985 rows x 3 columns]"
      ]
     },
     "execution_count": 21,
     "metadata": {},
     "output_type": "execute_result"
    }
   ],
   "source": [
    "# Calculate account age and target variable:is_high_risk\n",
    "# Group by ID and find the earliest (most negative) months_balance\n",
    "account_age = credits_df.groupby('ID')['MONTHS_BALANCE'].min().abs()\n",
    "\n",
    "# Define the severity order of statuses and create target variable\n",
    "status_severity = {\n",
    "    '5': 7,  # Most severe - Overdue >150 days\n",
    "    '4': 6,  # 120-149 days overdue\n",
    "    '3': 5,  # 90-119 days overdue\n",
    "    '2': 4,  # 60-89 days overdue\n",
    "    '1': 3,  # 30-59 days past due\n",
    "    '0': 2,  # 1-29 days past due\n",
    "    'C': 1,  # Paid off\n",
    "    'X': 0   # No loan\n",
    "}\n",
    "\n",
    "target_df =credits_df.copy()\n",
    "\n",
    "# Sort by ID and months_balance (descending to get most recent first)\n",
    "target_df = target_df.sort_values(['ID', 'MONTHS_BALANCE'], ascending=[True, False])\n",
    "\n",
    "# Keep only the most recent record for each ID\n",
    "target_df = target_df.drop_duplicates(subset=['ID'], keep='first')\n",
    "\n",
    "# Create is_high_risk based on the most recent status\n",
    "target_df['is_high_risk'] = target_df['STATUS'].isin(['1','2','3', '4', '5']).astype(int)\n",
    "target_df['account_age_months'] = target_df['ID'].map(account_age)\n",
    "target_df = target_df[['ID', 'account_age_months','is_high_risk']]\n",
    "\n",
    "target_df"
   ]
  },
  {
   "cell_type": "code",
   "execution_count": 22,
   "id": "e34100fa-5737-4ff7-900f-dae4e9be3c89",
   "metadata": {
    "jupyter": {
     "source_hidden": true
    },
    "scrolled": true
   },
   "outputs": [
    {
     "data": {
      "text/html": [
       "<div>\n",
       "<style scoped>\n",
       "    .dataframe tbody tr th:only-of-type {\n",
       "        vertical-align: middle;\n",
       "    }\n",
       "\n",
       "    .dataframe tbody tr th {\n",
       "        vertical-align: top;\n",
       "    }\n",
       "\n",
       "    .dataframe thead th {\n",
       "        text-align: right;\n",
       "    }\n",
       "</style>\n",
       "<table border=\"1\" class=\"dataframe\">\n",
       "  <thead>\n",
       "    <tr style=\"text-align: center;\">\n",
       "      <th></th>\n",
       "      <th>ID</th>\n",
       "      <th>CODE_GENDER</th>\n",
       "      <th>FLAG_OWN_CAR</th>\n",
       "      <th>FLAG_OWN_REALTY</th>\n",
       "      <th>CNT_CHILDREN</th>\n",
       "      <th>AMT_INCOME_TOTAL</th>\n",
       "      <th>NAME_INCOME_TYPE</th>\n",
       "      <th>NAME_EDUCATION_TYPE</th>\n",
       "      <th>NAME_FAMILY_STATUS</th>\n",
       "      <th>NAME_HOUSING_TYPE</th>\n",
       "      <th>DAYS_BIRTH</th>\n",
       "      <th>DAYS_EMPLOYED</th>\n",
       "      <th>FLAG_MOBIL</th>\n",
       "      <th>FLAG_WORK_PHONE</th>\n",
       "      <th>FLAG_PHONE</th>\n",
       "      <th>FLAG_EMAIL</th>\n",
       "      <th>OCCUPATION_TYPE</th>\n",
       "      <th>CNT_FAM_MEMBERS</th>\n",
       "      <th>account_age_months</th>\n",
       "      <th>is_high_risk</th>\n",
       "    </tr>\n",
       "  </thead>\n",
       "  <tbody>\n",
       "    <tr>\n",
       "      <th>0</th>\n",
       "      <td>5008804</td>\n",
       "      <td>M</td>\n",
       "      <td>Y</td>\n",
       "      <td>Y</td>\n",
       "      <td>0</td>\n",
       "      <td>427500.0</td>\n",
       "      <td>Working</td>\n",
       "      <td>Higher education</td>\n",
       "      <td>Civil marriage</td>\n",
       "      <td>Rented apartment</td>\n",
       "      <td>-12005</td>\n",
       "      <td>-4542</td>\n",
       "      <td>1</td>\n",
       "      <td>1</td>\n",
       "      <td>0</td>\n",
       "      <td>0</td>\n",
       "      <td>NaN</td>\n",
       "      <td>2.0</td>\n",
       "      <td>15</td>\n",
       "      <td>0</td>\n",
       "    </tr>\n",
       "    <tr>\n",
       "      <th>1</th>\n",
       "      <td>5008805</td>\n",
       "      <td>M</td>\n",
       "      <td>Y</td>\n",
       "      <td>Y</td>\n",
       "      <td>0</td>\n",
       "      <td>427500.0</td>\n",
       "      <td>Working</td>\n",
       "      <td>Higher education</td>\n",
       "      <td>Civil marriage</td>\n",
       "      <td>Rented apartment</td>\n",
       "      <td>-12005</td>\n",
       "      <td>-4542</td>\n",
       "      <td>1</td>\n",
       "      <td>1</td>\n",
       "      <td>0</td>\n",
       "      <td>0</td>\n",
       "      <td>NaN</td>\n",
       "      <td>2.0</td>\n",
       "      <td>14</td>\n",
       "      <td>0</td>\n",
       "    </tr>\n",
       "    <tr>\n",
       "      <th>2</th>\n",
       "      <td>5008806</td>\n",
       "      <td>M</td>\n",
       "      <td>Y</td>\n",
       "      <td>Y</td>\n",
       "      <td>0</td>\n",
       "      <td>112500.0</td>\n",
       "      <td>Working</td>\n",
       "      <td>Secondary / secondary special</td>\n",
       "      <td>Married</td>\n",
       "      <td>House / apartment</td>\n",
       "      <td>-21474</td>\n",
       "      <td>-1134</td>\n",
       "      <td>1</td>\n",
       "      <td>0</td>\n",
       "      <td>0</td>\n",
       "      <td>0</td>\n",
       "      <td>Security staff</td>\n",
       "      <td>2.0</td>\n",
       "      <td>29</td>\n",
       "      <td>0</td>\n",
       "    </tr>\n",
       "    <tr>\n",
       "      <th>3</th>\n",
       "      <td>5008808</td>\n",
       "      <td>F</td>\n",
       "      <td>N</td>\n",
       "      <td>Y</td>\n",
       "      <td>0</td>\n",
       "      <td>270000.0</td>\n",
       "      <td>Commercial associate</td>\n",
       "      <td>Secondary / secondary special</td>\n",
       "      <td>Single / not married</td>\n",
       "      <td>House / apartment</td>\n",
       "      <td>-19110</td>\n",
       "      <td>-3051</td>\n",
       "      <td>1</td>\n",
       "      <td>0</td>\n",
       "      <td>1</td>\n",
       "      <td>1</td>\n",
       "      <td>Sales staff</td>\n",
       "      <td>1.0</td>\n",
       "      <td>4</td>\n",
       "      <td>0</td>\n",
       "    </tr>\n",
       "    <tr>\n",
       "      <th>4</th>\n",
       "      <td>5008809</td>\n",
       "      <td>F</td>\n",
       "      <td>N</td>\n",
       "      <td>Y</td>\n",
       "      <td>0</td>\n",
       "      <td>270000.0</td>\n",
       "      <td>Commercial associate</td>\n",
       "      <td>Secondary / secondary special</td>\n",
       "      <td>Single / not married</td>\n",
       "      <td>House / apartment</td>\n",
       "      <td>-19110</td>\n",
       "      <td>-3051</td>\n",
       "      <td>1</td>\n",
       "      <td>0</td>\n",
       "      <td>1</td>\n",
       "      <td>1</td>\n",
       "      <td>Sales staff</td>\n",
       "      <td>1.0</td>\n",
       "      <td>26</td>\n",
       "      <td>0</td>\n",
       "    </tr>\n",
       "  </tbody>\n",
       "</table>\n",
       "</div>"
      ],
      "text/plain": [
       "     ID    CODE_GENDER FLAG_OWN_CAR FLAG_OWN_REALTY  CNT_CHILDREN  \\\n",
       "0  5008804       M           Y              Y              0        \n",
       "1  5008805       M           Y              Y              0        \n",
       "2  5008806       M           Y              Y              0        \n",
       "3  5008808       F           N              Y              0        \n",
       "4  5008809       F           N              Y              0        \n",
       "\n",
       "   AMT_INCOME_TOTAL    NAME_INCOME_TYPE        NAME_EDUCATION_TYPE        \\\n",
       "0      427500.0                   Working               Higher education   \n",
       "1      427500.0                   Working               Higher education   \n",
       "2      112500.0                   Working  Secondary / secondary special   \n",
       "3      270000.0      Commercial associate  Secondary / secondary special   \n",
       "4      270000.0      Commercial associate  Secondary / secondary special   \n",
       "\n",
       "    NAME_FAMILY_STATUS  NAME_HOUSING_TYPE   DAYS_BIRTH  DAYS_EMPLOYED  \\\n",
       "0        Civil marriage   Rented apartment    -12005       -4542        \n",
       "1        Civil marriage   Rented apartment    -12005       -4542        \n",
       "2               Married  House / apartment    -21474       -1134        \n",
       "3  Single / not married  House / apartment    -19110       -3051        \n",
       "4  Single / not married  House / apartment    -19110       -3051        \n",
       "\n",
       "   FLAG_MOBIL  FLAG_WORK_PHONE  FLAG_PHONE  FLAG_EMAIL OCCUPATION_TYPE  \\\n",
       "0       1             1              0           0                 NaN   \n",
       "1       1             1              0           0                 NaN   \n",
       "2       1             0              0           0      Security staff   \n",
       "3       1             0              1           1         Sales staff   \n",
       "4       1             0              1           1         Sales staff   \n",
       "\n",
       "   CNT_FAM_MEMBERS  account_age_months  is_high_risk  \n",
       "0        2.0                15                0       \n",
       "1        2.0                14                0       \n",
       "2        2.0                29                0       \n",
       "3        1.0                 4                0       \n",
       "4        1.0                26                0       "
      ]
     },
     "metadata": {},
     "output_type": "display_data"
    },
    {
     "name": "stdout",
     "output_type": "stream",
     "text": [
      "ID: [5008804 5008805 5008806 ... 5149838 5150049 5150337]\n",
      "CODE_GENDER: ['M' 'F']\n",
      "FLAG_OWN_CAR: ['Y' 'N']\n",
      "FLAG_OWN_REALTY: ['Y' 'N']\n",
      "CNT_CHILDREN: [ 0  1  3  2  4  5 14 19  7]\n",
      "AMT_INCOME_TOTAL: [ 427500.   112500.   270000.   283500.   135000.   130500.   157500.\n",
      "  405000.   211500.   360000.   126000.   315000.   247500.   297000.\n",
      "  225000.   166500.   216000.   255150.   148500.   202500.    94500.\n",
      "  450000.   180000.    90000.   765000.   382500.   144000.   229500.\n",
      "  292500.    74250.    40500.   337500.   193500.   267750.   139500.\n",
      "   67500.   252000.   900000.   115290.   279000.    76500.   234000.\n",
      "   81000.   108000.    99000.   198000.    45000.   238500.   117000.\n",
      "  153000.  1350000.   445500.   495000.    85500.   306000.   562500.\n",
      "  189000.   328500.   310500.   540000.   171000.   675000.   121500.\n",
      "   72000.    65250.   184500.   103500.   162000.   165150.    54000.\n",
      "  243000.   256500.    33300.   697500.   101250.    58500.   110250.\n",
      "  472500.   196650.   630000.   432000.   257625.   143100.   207000.\n",
      "  288000.   131400.   720000.   261000.    99900.    38250.   175500.\n",
      "   49500.    83250.   119250.    63000.   274500.    90900.   220500.\n",
      "   47250.   585000.   139050.    33750.   145350.   173250.   531000.\n",
      "  387000.  1125000.    36000.   179100.   206100.   265500.   118350.\n",
      "  123750.   116653.5  133650.   324000.   351000.   441000.   227250.\n",
      "   51750.   517500.   396000.   810000.   178650.   165600.    69750.\n",
      "   46948.5  616500.   378000.    89550.   234135.    42300.    74061.\n",
      "  175950.   168750.   391500.   177012.   364500.   661500.   240750.\n",
      "  333000.   342000.   167400.    50850.   141750.   176400.    30150.\n",
      "  155250.   414000.    52650.   115200.    67050.   120150.   373500.\n",
      "  146250.   213750.   121900.5  231750.   346500.   191250.   132372.\n",
      "  159750.   132750.    91530.    97731.   170302.5  265581.    73575.\n",
      "  184135.5  160200.   191700.   253800.    56700.   369000.   176175.\n",
      "  134419.5  190399.5  716323.5   31500.    57150.    78750.   236250.\n",
      "  208350.    38700.   222750.    72900.    56250.    62653.5  113400.\n",
      "   92250.   607500.   215550.    44550.   161100.   122400.    60376.5\n",
      "  254700.   787500.   140400.   185400.    31950.   129150.   612000.\n",
      "   47790.    69372.   134995.5  177750.   301500.   594000.   164250.\n",
      "   60750.    45900.   171261.   128542.5  178200.    73350.   124200.\n",
      "   82350.    38025.   360450.    39600.   634500.   459000.    87750.\n",
      "  945000.   463500.   742500.   151200.   560250.    89100.   204750.\n",
      "   36900.   187650.    32400.   147150.   119700.    27000.   990000.\n",
      "   61875.   355500.    79650.    37800.   140850.   195750.    29250.\n",
      "  423000.    87448.5  326250.    31531.5  105750.   468000.    97650.\n",
      "  114750.   418500.    95850.   652500.  1575000.    74700.    62100.\n",
      "  494100.   249750.   150750.   116100.   215100.   179271. ]\n",
      "NAME_INCOME_TYPE: ['Working' 'Commercial associate' 'Pensioner' 'State servant' 'Student']\n",
      "NAME_EDUCATION_TYPE: ['Higher education' 'Secondary / secondary special' 'Incomplete higher'\n",
      " 'Lower secondary' 'Academic degree']\n",
      "NAME_FAMILY_STATUS: ['Civil marriage' 'Married' 'Single / not married' 'Separated' 'Widow']\n",
      "NAME_HOUSING_TYPE: ['Rented apartment' 'House / apartment' 'Municipal apartment'\n",
      " 'With parents' 'Co-op apartment' 'Office apartment']\n",
      "DAYS_BIRTH: [-12005 -21474 -19110 ... -21590 -15837  -9188]\n",
      "DAYS_EMPLOYED: [ -4542  -1134  -3051 ...  -8161   -606 -11272]\n",
      "FLAG_MOBIL: [1]\n",
      "FLAG_WORK_PHONE: [1 0]\n",
      "FLAG_PHONE: [0 1]\n",
      "FLAG_EMAIL: [0 1]\n",
      "OCCUPATION_TYPE: [nan 'Security staff' 'Sales staff' 'Accountants' 'Laborers' 'Managers'\n",
      " 'Drivers' 'Core staff' 'High skill tech staff' 'Cleaning staff'\n",
      " 'Private service staff' 'Cooking staff' 'Low-skill Laborers'\n",
      " 'Medicine staff' 'Secretaries' 'Waiters/barmen staff' 'HR staff'\n",
      " 'Realty agents' 'IT staff']\n",
      "CNT_FAM_MEMBERS: [ 2.  1.  5.  3.  4.  6. 15.  7. 20.  9.]\n",
      "account_age_months: [15 14 29  4 26 38 20 16 17  5 42  8 22  7  3 25 30 31 19 34 44 24 18 39\n",
      " 13 55 43 11 46 51  0 28 27 10  2 21 45 40 48 37 36 32 23 12  9  6  1 54\n",
      " 49 58 35 59 41 33 56 47 60 53 57 50 52]\n",
      "is_high_risk: [0 1]\n"
     ]
    }
   ],
   "source": [
    "# Merge target variable (credits_df)  with latest application data\n",
    "merged_df = appl_df.merge(target_df, on='ID', how='inner')\n",
    "display(merged_df.head())\n",
    "for col in merged_df.columns:\n",
    "    print(f\"{col}: {merged_df[col].unique()}\")"
   ]
  },
  {
   "cell_type": "markdown",
   "id": "76960312-9acd-4f8b-bf3f-e3ca6376aaff",
   "metadata": {},
   "source": [
    "**Column Description of Merged Dataset:**\n",
    "\n",
    "| Feature Name        | Explanation                  | Remarks                                                  |\n",
    "|---------------------|------------------------------|----------------------------------------------------------|\n",
    "| ID                  | Client number                |                                                          |\n",
    "| CODE_GENDER         | Gender                       |                                                          |\n",
    "| FLAG_OWN_CAR        | Is there a car               |                                                          |\n",
    "| FLAG_OWN_REALTY     | Is there a property          |                                                          |\n",
    "| CNT_CHILDREN        | Number of children           |                                                          |\n",
    "| AMT_INCOME_TOTAL    | Annual income                |                                                          |\n",
    "| NAME_INCOME_TYPE    | Income category              |                                                          |\n",
    "| NAME_EDUCATION_TYPE | Education level              |                                                          |\n",
    "| NAME_FAMILY_STATUS  | Marital status               |                                                          |\n",
    "| NAME_HOUSING_TYPE   | Way of living (House Type)                |                                                          |\n",
    "| DAYS_BIRTH          | Birthday                     | Count backwards from current day (0), -1 means yesterday |\n",
    "| DAYS_EMPLOYED       | Start date of employment     | Count backwards from current day(0). If positive, it means the person is currently unemployed. |\n",
    "| FLAG_MOBIL          | Is there a mobile phone      |                                                          |\n",
    "| FLAG_WORK_PHONE     | Is there a work phone        |                                                          |\n",
    "| FLAG_PHONE          | Is there a phone             |                                                          |\n",
    "| FLAG_EMAIL          | Is there an email            |                                                          |\n",
    "| OCCUPATION_TYPE     | Occupation                   |                                                          |\n",
    "| CNT_FAM_MEMBERS     | Family size                  |                                                          |\n"
   ]
  },
  {
   "cell_type": "markdown",
   "id": "d5cdc608-b19a-4366-8089-44faf7fd8ce9",
   "metadata": {},
   "source": [
    "## Initial EDA / Data Quality Checks"
   ]
  },
  {
   "cell_type": "markdown",
   "id": "d7a658e8",
   "metadata": {},
   "source": [
    "### EDA report using ydata_profiling"
   ]
  },
  {
   "cell_type": "code",
   "execution_count": null,
   "id": "3afab0fe",
   "metadata": {},
   "outputs": [],
   "source": [
    "# EDA report using ydata_profiling\n",
    "profile = ProfileReport(merged_df, title=\"Credit Card Approval EDA\", explorative=True)\n",
    "#profile.to_file(\"reports_html\\Credit_Card_Approval_eda_report.html\")\n",
    "profile.to_notebook_iframe()"
   ]
  },
  {
   "cell_type": "markdown",
   "id": "eff5e857",
   "metadata": {
    "jp-MarkdownHeadingCollapsed": true
   },
   "source": [
    "### Autoviz report with target variable"
   ]
  },
  {
   "cell_type": "code",
   "execution_count": null,
   "id": "de4f45ab-acca-4d70-87d5-1a605e87897b",
   "metadata": {
    "collapsed": true,
    "jupyter": {
     "outputs_hidden": true,
     "source_hidden": true
    },
    "scrolled": true
   },
   "outputs": [],
   "source": [
    "# Autoviz report with target variable\n",
    "%matplotlib inline\n",
    "AV = AutoViz_Class()\n",
    "dfte = AV.AutoViz(\n",
    "    filename=\"\", \n",
    "    dfte=merged_df,        \n",
    "    depVar='is_high_risk'  \n",
    ")"
   ]
  },
  {
   "cell_type": "markdown",
   "id": "6f594bc3-e73f-43e1-819b-57fe0c73d1f4",
   "metadata": {
    "jp-MarkdownHeadingCollapsed": true
   },
   "source": [
    "### Initial EDA Summary "
   ]
  },
  {
   "cell_type": "markdown",
   "id": "2432921b-3303-4530-921f-c9162fc70ff1",
   "metadata": {
    "jp-MarkdownHeadingCollapsed": true
   },
   "source": [
    "*Project Goal (Recap)*\n",
    "\n",
    "> Build a predictive model to identify **high-risk** customers for credit card approval\n",
    "\n",
    "- **Initial EDA Summary**\n",
    "\n",
    "| **Summary**                                      | **Implication**                                                                 | **Proposed Preprocessing**                                                                 |\n",
    "|--------------------------------------------------|----------------------------------------------------------------------------------|--------------------------------------------------------------------------------------------|\n",
    "| Target variable is imbalanced                   | Model may be biased towards the majority class                                  | Apply resampling techniques (SMOTE/undersampling), or use class weights in model training |\n",
    "| Some numeric features are skewed (e.g., income) | Skewed distributions can affect model performance and assumptions               | Apply log or Box-Cox transformation to normalize distributions                            |\n",
    "| Outliers present in numeric features            | Outliers can distort model training and metrics                                 | Detect and treat outliers using IQR, Z-score, or clipping                                 |\n",
    "| Categorical variables show predictive patterns  | Important for model learning and interpretability                               | Encode using one-hot or target encoding depending on cardinality                          |\n",
    "| Weak multicollinearity overall                  | Features are largely independent                                                | Minimal action needed, retain current features                                             |\n",
    "| Some numeric features moderately correlate with target | Useful predictors identified                                                 | Prioritize these features in model; consider feature selection techniques                 |\n",
    "| Visual clusters in pairwise scatter plots       | Potential for separability between classes                                      | Normalize or scale data for algorithms sensitive to feature magnitude (e.g., SVM, KNN)    |\n",
    "\n",
    "\n",
    "\n"
   ]
  },
  {
   "cell_type": "markdown",
   "id": "97049b05-c0f5-4d5c-95a9-907365ab4567",
   "metadata": {},
   "source": [
    "## DQ Issues Summary Report & Data Preprocessing"
   ]
  },
  {
   "cell_type": "markdown",
   "id": "8f1e9558-d4f5-47ea-81f0-61e408f4e854",
   "metadata": {},
   "source": [
    "- *Data Quality Table*\n",
    "\n",
    "| **DQ Issues**                            | **Implication**                                                                 | **Suggested Action**                                                                 |\n",
    "|---------------------------------------------|----------------------------------------------------------------------------------|--------------------------------------------------------------------------------------|\n",
    "| `CNT_CHILDREN` has outliers and high correlation with `CNT_FAM_MEMBERS` | May distort analysis; redundancy present                             | Cap; drop one of the correlated columns `CNT_FAM_MEMBERS`                             |\n",
    "| `AMT_INCOME_TOTAL` contains extreme outliers | Can skew models and mean-based stats                                             | Cap                                                             |\n",
    "| Rare categories in `NAME_INCOME_TYPE`, `NAME_EDUCATION_TYPE`, `NAME_HOUSING_TYPE`, `STATUS` | Unstable model behavior due to sparse classes                        | Group categories                                                       |\n",
    "| `DAYS_EMPLOYED` has significant outliers     | Unrealistic values may affect time-based models                                 | Cap                               |\n",
    "| `OCCUPATION_TYPE` has missing values, rare categories, and mixed types | Incomplete and inconsistent data                                                 |drop                       |\n",
    "| `CNT_FAM_MEMBERS` contains outliers          | Outliers can distort predictions                                                 | Cap                                        |\n",
    "| Target class imbalance (`Is_high_risk`)      | Model may favor majority class                                                  | Apply SMOTE or class weighting                                                      |\n",
    "| Skewed numeric distributions                 | Skewed features can reduce model performance                                    | Apply log or Box-Cox transformations                                                |\n",
    "| Need to prepare data for modeling            | Model accuracy depends on clean input                                           | Scale features (StandardScaler or MinMaxScaler)                                     |\n",
    "| Feature utility may be improved              | May increase model expressiveness                                               | Create bins (e.g., for credit metrics); generate interaction features               |\n",
    "| Choice of model affects predictive power     | Some models handle imbalance and non-linearity better                           | Use tree-based models (Random Forest, XGBoost); test logistic regression as baseline |\n",
    "| Performance metric choice matters            | Affects how success is measured                                                 | Optimize using AUC, recall, and precision                                           |\n",
    "\n",
    "*In summary,*\n",
    "> - Handle Rare categories, Outliers(capping), missing values in `OCCUPATION_TYPE`== drop\n",
    "> - Scale features (StandardScaler/MinMaxScaler)\n",
    "> - Transform skewed variables (log/Box-Cox)\n",
    "> - Address class imbalance"
   ]
  },
  {
   "cell_type": "markdown",
   "id": "e9dd27a2",
   "metadata": {},
   "source": [
    "### Data Preprocessing"
   ]
  },
  {
   "cell_type": "code",
   "execution_count": 23,
   "id": "91906cf9-6637-461d-aa0f-fb5c8645cabe",
   "metadata": {},
   "outputs": [],
   "source": [
    "cleaned_df = merged_df.copy()"
   ]
  },
  {
   "cell_type": "code",
   "execution_count": 24,
   "id": "7ab68c25-88bf-4e43-a009-bee07a170ab8",
   "metadata": {
    "jupyter": {
     "source_hidden": true
    }
   },
   "outputs": [
    {
     "data": {
      "text/html": [
       "<div>\n",
       "<style scoped>\n",
       "    .dataframe tbody tr th:only-of-type {\n",
       "        vertical-align: middle;\n",
       "    }\n",
       "\n",
       "    .dataframe tbody tr th {\n",
       "        vertical-align: top;\n",
       "    }\n",
       "\n",
       "    .dataframe thead th {\n",
       "        text-align: right;\n",
       "    }\n",
       "</style>\n",
       "<table border=\"1\" class=\"dataframe\">\n",
       "  <thead>\n",
       "    <tr style=\"text-align: center;\">\n",
       "      <th></th>\n",
       "      <th>Category</th>\n",
       "      <th>Columns</th>\n",
       "      <th>Count</th>\n",
       "    </tr>\n",
       "  </thead>\n",
       "  <tbody>\n",
       "    <tr>\n",
       "      <th>0</th>\n",
       "      <td>Dates</td>\n",
       "      <td>[]</td>\n",
       "      <td>0</td>\n",
       "    </tr>\n",
       "    <tr>\n",
       "      <th>1</th>\n",
       "      <td>Numerical</td>\n",
       "      <td>[ID, CNT_CHILDREN, AMT_INCOME_TOTAL, DAYS_BIRTH, DAYS_EMPLOYED, FLAG_MOBIL, FLAG_WORK_PHONE, FLAG_PHONE, FLAG_EMAIL, CNT_FAM_MEMBERS, account_age_months, is_high_risk]</td>\n",
       "      <td>12</td>\n",
       "    </tr>\n",
       "    <tr>\n",
       "      <th>2</th>\n",
       "      <td>Binary</td>\n",
       "      <td>[CODE_GENDER, FLAG_OWN_CAR, FLAG_OWN_REALTY]</td>\n",
       "      <td>3</td>\n",
       "    </tr>\n",
       "    <tr>\n",
       "      <th>3</th>\n",
       "      <td>Multi-Category</td>\n",
       "      <td>[NAME_INCOME_TYPE, NAME_EDUCATION_TYPE, NAME_FAMILY_STATUS, NAME_HOUSING_TYPE]</td>\n",
       "      <td>4</td>\n",
       "    </tr>\n",
       "    <tr>\n",
       "      <th>4</th>\n",
       "      <td>Irrelevant</td>\n",
       "      <td>[OCCUPATION_TYPE]</td>\n",
       "      <td>1</td>\n",
       "    </tr>\n",
       "  </tbody>\n",
       "</table>\n",
       "</div>"
      ],
      "text/plain": [
       "      Category     \\\n",
       "0           Dates   \n",
       "1       Numerical   \n",
       "2          Binary   \n",
       "3  Multi-Category   \n",
       "4      Irrelevant   \n",
       "\n",
       "                                                                                  Columns                                                                                   \\\n",
       "0                                                                                                                                                                       []   \n",
       "1  [ID, CNT_CHILDREN, AMT_INCOME_TOTAL, DAYS_BIRTH, DAYS_EMPLOYED, FLAG_MOBIL, FLAG_WORK_PHONE, FLAG_PHONE, FLAG_EMAIL, CNT_FAM_MEMBERS, account_age_months, is_high_risk]   \n",
       "2                                                                                                                             [CODE_GENDER, FLAG_OWN_CAR, FLAG_OWN_REALTY]   \n",
       "3                                                                                           [NAME_INCOME_TYPE, NAME_EDUCATION_TYPE, NAME_FAMILY_STATUS, NAME_HOUSING_TYPE]   \n",
       "4                                                                                                                                                        [OCCUPATION_TYPE]   \n",
       "\n",
       "   Count  \n",
       "0    0    \n",
       "1   12    \n",
       "2    3    \n",
       "3    4    \n",
       "4    1    "
      ]
     },
     "execution_count": 24,
     "metadata": {},
     "output_type": "execute_result"
    }
   ],
   "source": [
    "# check datatypes\n",
    "detect_columns(cleaned_df)"
   ]
  },
  {
   "cell_type": "code",
   "execution_count": 25,
   "id": "444f5b5b-78f2-4c37-a929-3b968f945f90",
   "metadata": {},
   "outputs": [
    {
     "data": {
      "text/html": [
       "<div>\n",
       "<style scoped>\n",
       "    .dataframe tbody tr th:only-of-type {\n",
       "        vertical-align: middle;\n",
       "    }\n",
       "\n",
       "    .dataframe tbody tr th {\n",
       "        vertical-align: top;\n",
       "    }\n",
       "\n",
       "    .dataframe thead th {\n",
       "        text-align: right;\n",
       "    }\n",
       "</style>\n",
       "<table border=\"1\" class=\"dataframe\">\n",
       "  <thead>\n",
       "    <tr style=\"text-align: center;\">\n",
       "      <th></th>\n",
       "      <th>CODE_GENDER</th>\n",
       "      <th>FLAG_OWN_CAR</th>\n",
       "      <th>FLAG_OWN_REALTY</th>\n",
       "      <th>CNT_CHILDREN</th>\n",
       "      <th>AMT_INCOME_TOTAL</th>\n",
       "      <th>NAME_INCOME_TYPE</th>\n",
       "      <th>NAME_EDUCATION_TYPE</th>\n",
       "      <th>NAME_FAMILY_STATUS</th>\n",
       "      <th>NAME_HOUSING_TYPE</th>\n",
       "      <th>DAYS_BIRTH</th>\n",
       "      <th>DAYS_EMPLOYED</th>\n",
       "      <th>FLAG_WORK_PHONE</th>\n",
       "      <th>FLAG_PHONE</th>\n",
       "      <th>FLAG_EMAIL</th>\n",
       "      <th>account_age_months</th>\n",
       "      <th>is_high_risk</th>\n",
       "    </tr>\n",
       "  </thead>\n",
       "  <tbody>\n",
       "    <tr>\n",
       "      <th>0</th>\n",
       "      <td>M</td>\n",
       "      <td>Y</td>\n",
       "      <td>Y</td>\n",
       "      <td>0</td>\n",
       "      <td>427500.0</td>\n",
       "      <td>Working</td>\n",
       "      <td>Higher education</td>\n",
       "      <td>Civil marriage</td>\n",
       "      <td>Rented apartment</td>\n",
       "      <td>-12005</td>\n",
       "      <td>-4542</td>\n",
       "      <td>1</td>\n",
       "      <td>0</td>\n",
       "      <td>0</td>\n",
       "      <td>15</td>\n",
       "      <td>0</td>\n",
       "    </tr>\n",
       "    <tr>\n",
       "      <th>1</th>\n",
       "      <td>M</td>\n",
       "      <td>Y</td>\n",
       "      <td>Y</td>\n",
       "      <td>0</td>\n",
       "      <td>427500.0</td>\n",
       "      <td>Working</td>\n",
       "      <td>Higher education</td>\n",
       "      <td>Civil marriage</td>\n",
       "      <td>Rented apartment</td>\n",
       "      <td>-12005</td>\n",
       "      <td>-4542</td>\n",
       "      <td>1</td>\n",
       "      <td>0</td>\n",
       "      <td>0</td>\n",
       "      <td>14</td>\n",
       "      <td>0</td>\n",
       "    </tr>\n",
       "    <tr>\n",
       "      <th>2</th>\n",
       "      <td>M</td>\n",
       "      <td>Y</td>\n",
       "      <td>Y</td>\n",
       "      <td>0</td>\n",
       "      <td>112500.0</td>\n",
       "      <td>Working</td>\n",
       "      <td>Secondary / secondary special</td>\n",
       "      <td>Married</td>\n",
       "      <td>House / apartment</td>\n",
       "      <td>-21474</td>\n",
       "      <td>-1134</td>\n",
       "      <td>0</td>\n",
       "      <td>0</td>\n",
       "      <td>0</td>\n",
       "      <td>29</td>\n",
       "      <td>0</td>\n",
       "    </tr>\n",
       "    <tr>\n",
       "      <th>3</th>\n",
       "      <td>F</td>\n",
       "      <td>N</td>\n",
       "      <td>Y</td>\n",
       "      <td>0</td>\n",
       "      <td>270000.0</td>\n",
       "      <td>Commercial associate</td>\n",
       "      <td>Secondary / secondary special</td>\n",
       "      <td>Single / not married</td>\n",
       "      <td>House / apartment</td>\n",
       "      <td>-19110</td>\n",
       "      <td>-3051</td>\n",
       "      <td>0</td>\n",
       "      <td>1</td>\n",
       "      <td>1</td>\n",
       "      <td>4</td>\n",
       "      <td>0</td>\n",
       "    </tr>\n",
       "    <tr>\n",
       "      <th>4</th>\n",
       "      <td>F</td>\n",
       "      <td>N</td>\n",
       "      <td>Y</td>\n",
       "      <td>0</td>\n",
       "      <td>270000.0</td>\n",
       "      <td>Commercial associate</td>\n",
       "      <td>Secondary / secondary special</td>\n",
       "      <td>Single / not married</td>\n",
       "      <td>House / apartment</td>\n",
       "      <td>-19110</td>\n",
       "      <td>-3051</td>\n",
       "      <td>0</td>\n",
       "      <td>1</td>\n",
       "      <td>1</td>\n",
       "      <td>26</td>\n",
       "      <td>0</td>\n",
       "    </tr>\n",
       "  </tbody>\n",
       "</table>\n",
       "</div>"
      ],
      "text/plain": [
       "  CODE_GENDER FLAG_OWN_CAR FLAG_OWN_REALTY  CNT_CHILDREN  AMT_INCOME_TOTAL  \\\n",
       "0       M           Y              Y              0           427500.0       \n",
       "1       M           Y              Y              0           427500.0       \n",
       "2       M           Y              Y              0           112500.0       \n",
       "3       F           N              Y              0           270000.0       \n",
       "4       F           N              Y              0           270000.0       \n",
       "\n",
       "     NAME_INCOME_TYPE        NAME_EDUCATION_TYPE         NAME_FAMILY_STATUS   \\\n",
       "0               Working               Higher education        Civil marriage   \n",
       "1               Working               Higher education        Civil marriage   \n",
       "2               Working  Secondary / secondary special               Married   \n",
       "3  Commercial associate  Secondary / secondary special  Single / not married   \n",
       "4  Commercial associate  Secondary / secondary special  Single / not married   \n",
       "\n",
       "  NAME_HOUSING_TYPE   DAYS_BIRTH  DAYS_EMPLOYED  FLAG_WORK_PHONE  FLAG_PHONE  \\\n",
       "0   Rented apartment    -12005       -4542              1              0       \n",
       "1   Rented apartment    -12005       -4542              1              0       \n",
       "2  House / apartment    -21474       -1134              0              0       \n",
       "3  House / apartment    -19110       -3051              0              1       \n",
       "4  House / apartment    -19110       -3051              0              1       \n",
       "\n",
       "   FLAG_EMAIL  account_age_months  is_high_risk  \n",
       "0       0              15                0       \n",
       "1       0              14                0       \n",
       "2       0              29                0       \n",
       "3       1               4                0       \n",
       "4       1              26                0       "
      ]
     },
     "metadata": {},
     "output_type": "display_data"
    }
   ],
   "source": [
    "# Drop redundant/ID Column\n",
    "cleaned_df.drop(['OCCUPATION_TYPE','CNT_FAM_MEMBERS','ID','FLAG_MOBIL'], axis=\"columns\", inplace=True)\n",
    "display(cleaned_df.head())"
   ]
  },
  {
   "cell_type": "markdown",
   "id": "24d7bcc0-a8af-40dc-bf25-947d2f29c41a",
   "metadata": {},
   "source": [
    "#### Address column inconsistencies"
   ]
  },
  {
   "cell_type": "code",
   "execution_count": 26,
   "id": "3ee75fe9",
   "metadata": {},
   "outputs": [],
   "source": [
    "# Apply lowercase and Strip extra whitespace to object (string) columns\n",
    "for col in cleaned_df.select_dtypes(include='object').columns:\n",
    "    cleaned_df[col] = cleaned_df[col].str.lower().str.strip()"
   ]
  },
  {
   "cell_type": "code",
   "execution_count": 27,
   "id": "280be529-5aa6-4ede-9431-9ce9726d87bb",
   "metadata": {
    "scrolled": true
   },
   "outputs": [
    {
     "data": {
      "text/html": [
       "<div>\n",
       "<style scoped>\n",
       "    .dataframe tbody tr th:only-of-type {\n",
       "        vertical-align: middle;\n",
       "    }\n",
       "\n",
       "    .dataframe tbody tr th {\n",
       "        vertical-align: top;\n",
       "    }\n",
       "\n",
       "    .dataframe thead th {\n",
       "        text-align: right;\n",
       "    }\n",
       "</style>\n",
       "<table border=\"1\" class=\"dataframe\">\n",
       "  <thead>\n",
       "    <tr style=\"text-align: center;\">\n",
       "      <th></th>\n",
       "      <th>CODE_GENDER</th>\n",
       "      <th>FLAG_OWN_CAR</th>\n",
       "      <th>FLAG_OWN_REALTY</th>\n",
       "      <th>CNT_CHILDREN</th>\n",
       "      <th>AMT_INCOME_TOTAL</th>\n",
       "      <th>NAME_INCOME_TYPE</th>\n",
       "      <th>NAME_EDUCATION_TYPE</th>\n",
       "      <th>NAME_FAMILY_STATUS</th>\n",
       "      <th>NAME_HOUSING_TYPE</th>\n",
       "      <th>FLAG_WORK_PHONE</th>\n",
       "      <th>FLAG_PHONE</th>\n",
       "      <th>FLAG_EMAIL</th>\n",
       "      <th>account_age_months</th>\n",
       "      <th>is_high_risk</th>\n",
       "      <th>AGE_YEARS</th>\n",
       "      <th>EMPLOYMENT_YEARS</th>\n",
       "    </tr>\n",
       "  </thead>\n",
       "  <tbody>\n",
       "    <tr>\n",
       "      <th>0</th>\n",
       "      <td>m</td>\n",
       "      <td>y</td>\n",
       "      <td>y</td>\n",
       "      <td>0</td>\n",
       "      <td>427500.0</td>\n",
       "      <td>working</td>\n",
       "      <td>higher</td>\n",
       "      <td>civil marriage</td>\n",
       "      <td>rented</td>\n",
       "      <td>1</td>\n",
       "      <td>0</td>\n",
       "      <td>0</td>\n",
       "      <td>15</td>\n",
       "      <td>0</td>\n",
       "      <td>32</td>\n",
       "      <td>12</td>\n",
       "    </tr>\n",
       "    <tr>\n",
       "      <th>1</th>\n",
       "      <td>m</td>\n",
       "      <td>y</td>\n",
       "      <td>y</td>\n",
       "      <td>0</td>\n",
       "      <td>427500.0</td>\n",
       "      <td>working</td>\n",
       "      <td>higher</td>\n",
       "      <td>civil marriage</td>\n",
       "      <td>rented</td>\n",
       "      <td>1</td>\n",
       "      <td>0</td>\n",
       "      <td>0</td>\n",
       "      <td>14</td>\n",
       "      <td>0</td>\n",
       "      <td>32</td>\n",
       "      <td>12</td>\n",
       "    </tr>\n",
       "    <tr>\n",
       "      <th>2</th>\n",
       "      <td>m</td>\n",
       "      <td>y</td>\n",
       "      <td>y</td>\n",
       "      <td>0</td>\n",
       "      <td>112500.0</td>\n",
       "      <td>working</td>\n",
       "      <td>secondary</td>\n",
       "      <td>married</td>\n",
       "      <td>owned</td>\n",
       "      <td>0</td>\n",
       "      <td>0</td>\n",
       "      <td>0</td>\n",
       "      <td>29</td>\n",
       "      <td>0</td>\n",
       "      <td>58</td>\n",
       "      <td>3</td>\n",
       "    </tr>\n",
       "  </tbody>\n",
       "</table>\n",
       "</div>"
      ],
      "text/plain": [
       "  CODE_GENDER FLAG_OWN_CAR FLAG_OWN_REALTY  CNT_CHILDREN  AMT_INCOME_TOTAL  \\\n",
       "0       m           y              y              0           427500.0       \n",
       "1       m           y              y              0           427500.0       \n",
       "2       m           y              y              0           112500.0       \n",
       "\n",
       "  NAME_INCOME_TYPE NAME_EDUCATION_TYPE NAME_FAMILY_STATUS NAME_HOUSING_TYPE  \\\n",
       "0      working              higher       civil marriage         rented        \n",
       "1      working              higher       civil marriage         rented        \n",
       "2      working           secondary              married          owned        \n",
       "\n",
       "   FLAG_WORK_PHONE  FLAG_PHONE  FLAG_EMAIL  account_age_months  is_high_risk  \\\n",
       "0         1              0           0              15                0        \n",
       "1         1              0           0              14                0        \n",
       "2         0              0           0              29                0        \n",
       "\n",
       "   AGE_YEARS  EMPLOYMENT_YEARS  \n",
       "0     32             12         \n",
       "1     32             12         \n",
       "2     58              3         "
      ]
     },
     "execution_count": 27,
     "metadata": {},
     "output_type": "execute_result"
    }
   ],
   "source": [
    "# Convert days to years for better interpretability\n",
    "cleaned_df['AGE_YEARS'] = ((cleaned_df['DAYS_BIRTH']).astype(\"Int64\") / -365).astype(\"Int64\")\n",
    "cleaned_df['EMPLOYMENT_YEARS'] = cleaned_df['DAYS_EMPLOYED'].apply(\n",
    "    lambda x: 0 if x > 0 else int(abs(x) / 365)) # change days of employments of retirees to 0\n",
    "\n",
    "# Drop original columns that have been transformed or are redundant\n",
    "columns_to_drop = ['DAYS_BIRTH', 'DAYS_EMPLOYED']\n",
    "cleaned_df = cleaned_df.drop(columns=columns_to_drop)\n",
    "\n",
    "# Clean and map education type\n",
    "education_map = {\n",
    "    'lower secondary': 'lower secondary',\n",
    "    'incomplete higher': 'incomplete higher',\n",
    "    'secondary / secondary special': 'secondary',\n",
    "    'higher education': 'higher',\n",
    "    'academic degree': 'degree'\n",
    "}\n",
    "cleaned_df['NAME_EDUCATION_TYPE'] = cleaned_df['NAME_EDUCATION_TYPE'].map(education_map)\n",
    "\n",
    "\n",
    "# Group rare housing types and map to cleaner labels\n",
    "housing_map = {\n",
    "    'rented apartment': 'rented',\n",
    "    'house / apartment': 'owned',\n",
    "    'municipal apartment': 'municipal',\n",
    "    'with parents': 'with_parents',\n",
    "    'co-op apartment': 'other',\n",
    "    'office apartment': 'other'\n",
    "}\n",
    "cleaned_df['NAME_HOUSING_TYPE'] = cleaned_df['NAME_HOUSING_TYPE'].map(housing_map)\n",
    "cleaned_df.head(3)"
   ]
  },
  {
   "cell_type": "code",
   "execution_count": 28,
   "id": "88a5e8ab-31ff-4bd7-967e-3d23c46dadde",
   "metadata": {
    "scrolled": true
   },
   "outputs": [
    {
     "data": {
      "text/html": [
       "<div>\n",
       "<style scoped>\n",
       "    .dataframe tbody tr th:only-of-type {\n",
       "        vertical-align: middle;\n",
       "    }\n",
       "\n",
       "    .dataframe tbody tr th {\n",
       "        vertical-align: top;\n",
       "    }\n",
       "\n",
       "    .dataframe thead th {\n",
       "        text-align: right;\n",
       "    }\n",
       "</style>\n",
       "<table border=\"1\" class=\"dataframe\">\n",
       "  <thead>\n",
       "    <tr style=\"text-align: center;\">\n",
       "      <th></th>\n",
       "      <th>gender</th>\n",
       "      <th>own_car</th>\n",
       "      <th>own_property</th>\n",
       "      <th>children_count</th>\n",
       "      <th>income</th>\n",
       "      <th>employment_status</th>\n",
       "      <th>education_level</th>\n",
       "      <th>married_status</th>\n",
       "      <th>dwelling</th>\n",
       "      <th>work_phone</th>\n",
       "      <th>phone</th>\n",
       "      <th>email</th>\n",
       "      <th>account_age_months</th>\n",
       "      <th>age</th>\n",
       "      <th>employment_length</th>\n",
       "      <th>is_high_risk</th>\n",
       "    </tr>\n",
       "  </thead>\n",
       "  <tbody>\n",
       "    <tr>\n",
       "      <th>0</th>\n",
       "      <td>m</td>\n",
       "      <td>y</td>\n",
       "      <td>y</td>\n",
       "      <td>0</td>\n",
       "      <td>427500.0</td>\n",
       "      <td>working</td>\n",
       "      <td>higher</td>\n",
       "      <td>civil marriage</td>\n",
       "      <td>rented</td>\n",
       "      <td>1</td>\n",
       "      <td>0</td>\n",
       "      <td>0</td>\n",
       "      <td>15</td>\n",
       "      <td>32</td>\n",
       "      <td>12</td>\n",
       "      <td>0</td>\n",
       "    </tr>\n",
       "    <tr>\n",
       "      <th>1</th>\n",
       "      <td>m</td>\n",
       "      <td>y</td>\n",
       "      <td>y</td>\n",
       "      <td>0</td>\n",
       "      <td>427500.0</td>\n",
       "      <td>working</td>\n",
       "      <td>higher</td>\n",
       "      <td>civil marriage</td>\n",
       "      <td>rented</td>\n",
       "      <td>1</td>\n",
       "      <td>0</td>\n",
       "      <td>0</td>\n",
       "      <td>14</td>\n",
       "      <td>32</td>\n",
       "      <td>12</td>\n",
       "      <td>0</td>\n",
       "    </tr>\n",
       "    <tr>\n",
       "      <th>2</th>\n",
       "      <td>m</td>\n",
       "      <td>y</td>\n",
       "      <td>y</td>\n",
       "      <td>0</td>\n",
       "      <td>112500.0</td>\n",
       "      <td>working</td>\n",
       "      <td>secondary</td>\n",
       "      <td>married</td>\n",
       "      <td>owned</td>\n",
       "      <td>0</td>\n",
       "      <td>0</td>\n",
       "      <td>0</td>\n",
       "      <td>29</td>\n",
       "      <td>58</td>\n",
       "      <td>3</td>\n",
       "      <td>0</td>\n",
       "    </tr>\n",
       "    <tr>\n",
       "      <th>3</th>\n",
       "      <td>f</td>\n",
       "      <td>n</td>\n",
       "      <td>y</td>\n",
       "      <td>0</td>\n",
       "      <td>270000.0</td>\n",
       "      <td>commercial associate</td>\n",
       "      <td>secondary</td>\n",
       "      <td>single / not married</td>\n",
       "      <td>owned</td>\n",
       "      <td>0</td>\n",
       "      <td>1</td>\n",
       "      <td>1</td>\n",
       "      <td>4</td>\n",
       "      <td>52</td>\n",
       "      <td>8</td>\n",
       "      <td>0</td>\n",
       "    </tr>\n",
       "  </tbody>\n",
       "</table>\n",
       "</div>"
      ],
      "text/plain": [
       "  gender own_car own_property  children_count   income    employment_status    \\\n",
       "0    m       y         y              0        427500.0               working   \n",
       "1    m       y         y              0        427500.0               working   \n",
       "2    m       y         y              0        112500.0               working   \n",
       "3    f       n         y              0        270000.0  commercial associate   \n",
       "\n",
       "  education_level     married_status    dwelling  work_phone  phone  email  \\\n",
       "0        higher          civil marriage  rented        1        0      0     \n",
       "1        higher          civil marriage  rented        1        0      0     \n",
       "2     secondary                 married   owned        0        0      0     \n",
       "3     secondary    single / not married   owned        0        1      1     \n",
       "\n",
       "   account_age_months  age  employment_length  is_high_risk  \n",
       "0          15          32          12                0       \n",
       "1          14          32          12                0       \n",
       "2          29          58           3                0       \n",
       "3           4          52           8                0       "
      ]
     },
     "metadata": {},
     "output_type": "display_data"
    },
    {
     "name": "stdout",
     "output_type": "stream",
     "text": [
      "<class 'pandas.core.frame.DataFrame'>\n",
      "RangeIndex: 36457 entries, 0 to 36456\n",
      "Data columns (total 16 columns):\n",
      " #   Column              Non-Null Count  Dtype  \n",
      "---  ------              --------------  -----  \n",
      " 0   gender              36457 non-null  object \n",
      " 1   own_car             36457 non-null  object \n",
      " 2   own_property        36457 non-null  object \n",
      " 3   children_count      36457 non-null  int64  \n",
      " 4   income              36457 non-null  float64\n",
      " 5   employment_status   36457 non-null  object \n",
      " 6   education_level     36457 non-null  object \n",
      " 7   married_status      36457 non-null  object \n",
      " 8   dwelling            36457 non-null  object \n",
      " 9   work_phone          36457 non-null  int64  \n",
      " 10  phone               36457 non-null  int64  \n",
      " 11  email               36457 non-null  int64  \n",
      " 12  account_age_months  36457 non-null  int64  \n",
      " 13  age                 36457 non-null  Int64  \n",
      " 14  employment_length   36457 non-null  int64  \n",
      " 15  is_high_risk        36457 non-null  Int64  \n",
      "dtypes: Int64(2), float64(1), int64(6), object(7)\n",
      "memory usage: 4.5+ MB\n"
     ]
    },
    {
     "data": {
      "text/plain": [
       "None"
      ]
     },
     "metadata": {},
     "output_type": "display_data"
    }
   ],
   "source": [
    "# Rename and Reorder Columns\n",
    "column_mapping = {\n",
    "    'CODE_GENDER': 'gender',\n",
    "    'FLAG_OWN_CAR': 'own_car',\n",
    "    'FLAG_OWN_REALTY': 'own_property',\n",
    "    'CNT_CHILDREN': 'children_count',\n",
    "    'AMT_INCOME_TOTAL': 'income',\n",
    "    'NAME_INCOME_TYPE': 'employment_status',\n",
    "    'NAME_EDUCATION_TYPE': 'education_level',\n",
    "    'NAME_FAMILY_STATUS': 'married_status',\n",
    "    'NAME_HOUSING_TYPE': 'dwelling',\n",
    "    'FLAG_WORK_PHONE': 'work_phone',\n",
    "    'FLAG_PHONE': 'phone',\n",
    "    'FLAG_EMAIL': 'email',\n",
    "    'account_age_months' : 'account_age_months',\n",
    "    'AGE_YEARS': 'age',\n",
    "    'EMPLOYMENT_YEARS': 'employment_length'   \n",
    "}\n",
    "cleaned_df = cleaned_df.rename(columns=column_mapping)[list(column_mapping.values()) + ['is_high_risk']]\n",
    "cleaned_df['is_high_risk'] = cleaned_df['is_high_risk'].astype(\"Int64\")\n",
    "display(cleaned_df.head(4))\n",
    "display(cleaned_df.info())\n"
   ]
  },
  {
   "cell_type": "code",
   "execution_count": 29,
   "id": "5ab6cfa3-807d-4eda-aee9-903ac75f5997",
   "metadata": {},
   "outputs": [
    {
     "data": {
      "text/html": [
       "<div>\n",
       "<style scoped>\n",
       "    .dataframe tbody tr th:only-of-type {\n",
       "        vertical-align: middle;\n",
       "    }\n",
       "\n",
       "    .dataframe tbody tr th {\n",
       "        vertical-align: top;\n",
       "    }\n",
       "\n",
       "    .dataframe thead th {\n",
       "        text-align: right;\n",
       "    }\n",
       "</style>\n",
       "<table border=\"1\" class=\"dataframe\">\n",
       "  <thead>\n",
       "    <tr style=\"text-align: center;\">\n",
       "      <th></th>\n",
       "      <th>children_count</th>\n",
       "      <th>income</th>\n",
       "      <th>work_phone</th>\n",
       "      <th>phone</th>\n",
       "      <th>email</th>\n",
       "      <th>account_age_months</th>\n",
       "      <th>age</th>\n",
       "      <th>employment_length</th>\n",
       "      <th>is_high_risk</th>\n",
       "    </tr>\n",
       "  </thead>\n",
       "  <tbody>\n",
       "    <tr>\n",
       "      <th>count</th>\n",
       "      <td>36457.000000</td>\n",
       "      <td>3.645700e+04</td>\n",
       "      <td>36457.000000</td>\n",
       "      <td>36457.000000</td>\n",
       "      <td>36457.000000</td>\n",
       "      <td>36457.000000</td>\n",
       "      <td>36457.0</td>\n",
       "      <td>36457.000000</td>\n",
       "      <td>36457.0</td>\n",
       "    </tr>\n",
       "    <tr>\n",
       "      <th>mean</th>\n",
       "      <td>0.430315</td>\n",
       "      <td>1.866857e+05</td>\n",
       "      <td>0.225526</td>\n",
       "      <td>0.294813</td>\n",
       "      <td>0.089722</td>\n",
       "      <td>26.164193</td>\n",
       "      <td>43.260334</td>\n",
       "      <td>5.614560</td>\n",
       "      <td>0.010478</td>\n",
       "    </tr>\n",
       "    <tr>\n",
       "      <th>std</th>\n",
       "      <td>0.742367</td>\n",
       "      <td>1.017892e+05</td>\n",
       "      <td>0.417934</td>\n",
       "      <td>0.455965</td>\n",
       "      <td>0.285787</td>\n",
       "      <td>16.501854</td>\n",
       "      <td>11.510414</td>\n",
       "      <td>6.417027</td>\n",
       "      <td>0.101826</td>\n",
       "    </tr>\n",
       "    <tr>\n",
       "      <th>min</th>\n",
       "      <td>0.000000</td>\n",
       "      <td>2.700000e+04</td>\n",
       "      <td>0.000000</td>\n",
       "      <td>0.000000</td>\n",
       "      <td>0.000000</td>\n",
       "      <td>0.000000</td>\n",
       "      <td>20.0</td>\n",
       "      <td>0.000000</td>\n",
       "      <td>0.0</td>\n",
       "    </tr>\n",
       "    <tr>\n",
       "      <th>25%</th>\n",
       "      <td>0.000000</td>\n",
       "      <td>1.215000e+05</td>\n",
       "      <td>0.000000</td>\n",
       "      <td>0.000000</td>\n",
       "      <td>0.000000</td>\n",
       "      <td>12.000000</td>\n",
       "      <td>34.0</td>\n",
       "      <td>1.000000</td>\n",
       "      <td>0.0</td>\n",
       "    </tr>\n",
       "    <tr>\n",
       "      <th>50%</th>\n",
       "      <td>0.000000</td>\n",
       "      <td>1.575000e+05</td>\n",
       "      <td>0.000000</td>\n",
       "      <td>0.000000</td>\n",
       "      <td>0.000000</td>\n",
       "      <td>24.000000</td>\n",
       "      <td>42.0</td>\n",
       "      <td>4.000000</td>\n",
       "      <td>0.0</td>\n",
       "    </tr>\n",
       "    <tr>\n",
       "      <th>75%</th>\n",
       "      <td>1.000000</td>\n",
       "      <td>2.250000e+05</td>\n",
       "      <td>0.000000</td>\n",
       "      <td>1.000000</td>\n",
       "      <td>0.000000</td>\n",
       "      <td>39.000000</td>\n",
       "      <td>53.0</td>\n",
       "      <td>8.000000</td>\n",
       "      <td>0.0</td>\n",
       "    </tr>\n",
       "    <tr>\n",
       "      <th>max</th>\n",
       "      <td>19.000000</td>\n",
       "      <td>1.575000e+06</td>\n",
       "      <td>1.000000</td>\n",
       "      <td>1.000000</td>\n",
       "      <td>1.000000</td>\n",
       "      <td>60.000000</td>\n",
       "      <td>68.0</td>\n",
       "      <td>43.000000</td>\n",
       "      <td>1.0</td>\n",
       "    </tr>\n",
       "  </tbody>\n",
       "</table>\n",
       "</div>"
      ],
      "text/plain": [
       "       children_count     income      work_phone       phone         email     \\\n",
       "count   36457.000000   3.645700e+04  36457.000000  36457.000000  36457.000000   \n",
       "mean        0.430315   1.866857e+05      0.225526      0.294813      0.089722   \n",
       "std         0.742367   1.017892e+05      0.417934      0.455965      0.285787   \n",
       "min         0.000000   2.700000e+04      0.000000      0.000000      0.000000   \n",
       "25%         0.000000   1.215000e+05      0.000000      0.000000      0.000000   \n",
       "50%         0.000000   1.575000e+05      0.000000      0.000000      0.000000   \n",
       "75%         1.000000   2.250000e+05      0.000000      1.000000      0.000000   \n",
       "max        19.000000   1.575000e+06      1.000000      1.000000      1.000000   \n",
       "\n",
       "       account_age_months     age     employment_length  is_high_risk  \n",
       "count     36457.000000       36457.0    36457.000000        36457.0    \n",
       "mean         26.164193     43.260334        5.614560       0.010478    \n",
       "std          16.501854     11.510414        6.417027       0.101826    \n",
       "min           0.000000          20.0        0.000000            0.0    \n",
       "25%          12.000000          34.0        1.000000            0.0    \n",
       "50%          24.000000          42.0        4.000000            0.0    \n",
       "75%          39.000000          53.0        8.000000            0.0    \n",
       "max          60.000000          68.0       43.000000            1.0    "
      ]
     },
     "execution_count": 29,
     "metadata": {},
     "output_type": "execute_result"
    }
   ],
   "source": [
    "cleaned_df.describe()"
   ]
  },
  {
   "cell_type": "markdown",
   "id": "ab70fdb2-c9b6-418e-be79-d45dfa15a6f3",
   "metadata": {},
   "source": [
    "#### Handling outliers (cap)"
   ]
  },
  {
   "cell_type": "code",
   "execution_count": 30,
   "id": "7620a581-8d06-465c-bcf8-311be0806a75",
   "metadata": {},
   "outputs": [
    {
     "data": {
      "text/html": [
       "<div>\n",
       "<style scoped>\n",
       "    .dataframe tbody tr th:only-of-type {\n",
       "        vertical-align: middle;\n",
       "    }\n",
       "\n",
       "    .dataframe tbody tr th {\n",
       "        vertical-align: top;\n",
       "    }\n",
       "\n",
       "    .dataframe thead th {\n",
       "        text-align: right;\n",
       "    }\n",
       "</style>\n",
       "<table border=\"1\" class=\"dataframe\">\n",
       "  <thead>\n",
       "    <tr style=\"text-align: center;\">\n",
       "      <th></th>\n",
       "      <th>outlier_count</th>\n",
       "    </tr>\n",
       "  </thead>\n",
       "  <tbody>\n",
       "    <tr>\n",
       "      <th>children_count</th>\n",
       "      <td>508</td>\n",
       "    </tr>\n",
       "    <tr>\n",
       "      <th>income</th>\n",
       "      <td>1529</td>\n",
       "    </tr>\n",
       "    <tr>\n",
       "      <th>account_age_months</th>\n",
       "      <td>0</td>\n",
       "    </tr>\n",
       "    <tr>\n",
       "      <th>age</th>\n",
       "      <td>0</td>\n",
       "    </tr>\n",
       "    <tr>\n",
       "      <th>employment_length</th>\n",
       "      <td>1999</td>\n",
       "    </tr>\n",
       "  </tbody>\n",
       "</table>\n",
       "</div>"
      ],
      "text/plain": [
       "                    outlier_count\n",
       "children_count           508     \n",
       "income                  1529     \n",
       "account_age_months         0     \n",
       "age                        0     \n",
       "employment_length       1999     "
      ]
     },
     "execution_count": 30,
     "metadata": {},
     "output_type": "execute_result"
    }
   ],
   "source": [
    "# Check for outliers across all numeric columns using IQR\n",
    "outlier_counts = detect_outliers_all(cleaned_df)\n",
    "outlier_counts"
   ]
  },
  {
   "cell_type": "code",
   "execution_count": 31,
   "id": "692c6ee9-6e3b-4084-8303-9fb43b9b814f",
   "metadata": {},
   "outputs": [
    {
     "data": {
      "image/png": "[encoded data removed]",
      "text/plain": [
       "<Figure size 1500x600 with 1 Axes>"
      ]
     },
     "metadata": {},
     "output_type": "display_data"
    }
   ],
   "source": [
    "# plot outlier\n",
    "%matplotlib inline\n",
    "plot_outliers_boxplot(cleaned_df, title=\"Outlier Boxplot\", figsize=(15, 6))"
   ]
  },
  {
   "cell_type": "code",
   "execution_count": 32,
   "id": "7b38ae6e",
   "metadata": {},
   "outputs": [
    {
     "data": {
      "text/plain": [
       "['children_count', 'income', 'employment_length']"
      ]
     },
     "execution_count": 32,
     "metadata": {},
     "output_type": "execute_result"
    }
   ],
   "source": [
    "#cap all outliers\n",
    "capped_df= cleaned_df.copy()\n",
    "columns_with_outliers = outlier_counts[outlier_counts['outlier_count'] > 0].index.tolist()\n",
    "columns_with_outliers"
   ]
  },
  {
   "cell_type": "code",
   "execution_count": 33,
   "id": "9f48d073-356e-4b3a-aea1-4465573f59aa",
   "metadata": {},
   "outputs": [
    {
     "name": "stdout",
     "output_type": "stream",
     "text": [
      "\n",
      "Processing children_count for outliers...\n",
      "Found 508 outliers (1.39% of data)\n",
      "Lower bound: -1.50, Upper bound: 2.50\n",
      "Remaining outliers after capping: 0\n",
      "\n",
      "Processing income for outliers...\n",
      "Found 1529 outliers (4.19% of data)\n",
      "Lower bound: -33750.00, Upper bound: 380250.00\n",
      "Remaining outliers after capping: 0\n",
      "\n",
      "Processing employment_length for outliers...\n",
      "Found 1999 outliers (5.48% of data)\n",
      "Lower bound: -9.50, Upper bound: 18.50\n",
      "Remaining outliers after capping: 0\n"
     ]
    }
   ],
   "source": [
    "for col in columns_with_outliers:\n",
    "    capped_df = cap_outliers(capped_df, col)"
   ]
  },
  {
   "cell_type": "code",
   "execution_count": 34,
   "id": "32dd0954-b4e8-45b7-a3f5-8f9ec3726ea9",
   "metadata": {
    "scrolled": true
   },
   "outputs": [
    {
     "data": {
      "image/png": "[encoded data removed]",
      "text/plain": [
       "<Figure size 1200x500 with 2 Axes>"
      ]
     },
     "metadata": {},
     "output_type": "display_data"
    },
    {
     "data": {
      "image/png": "[encoded data removed]",
      "text/plain": [
       "<Figure size 1200x500 with 2 Axes>"
      ]
     },
     "metadata": {},
     "output_type": "display_data"
    },
    {
     "data": {
      "image/png": "[encoded data removed]",
      "text/plain": [
       "<Figure size 1200x500 with 2 Axes>"
      ]
     },
     "metadata": {},
     "output_type": "display_data"
    }
   ],
   "source": [
    "# Get columns with outliers (where count > 0)\n",
    "%matplotlib inline\n",
    "columns_with_outliers = outlier_counts[outlier_counts['outlier_count'] > 0].index.tolist()\n",
    "\n",
    "for col in columns_with_outliers:\n",
    "    plot_outlier_distributions(cleaned_df, capped_df, col)"
   ]
  },
  {
   "cell_type": "markdown",
   "id": "980290c4-1686-4d35-8d95-d19c45dcbb87",
   "metadata": {},
   "source": [
    "## Correlations & Hypothesis Testing (CHI-SQUARE & ANOVA)"
   ]
  },
  {
   "cell_type": "markdown",
   "id": "657b91f8-30a4-4d2f-9d57-d80973770375",
   "metadata": {},
   "source": [
    "- This section uses Chi-Square Test to test if a categorical column has a relation with is_high_risk label while also presenting visualizations to explore how each feature is distributed across risky and non-risky customers."
   ]
  },
  {
   "cell_type": "code",
   "execution_count": 35,
   "id": "43bb5926-783c-48d3-acb3-23feaff04cfe",
   "metadata": {},
   "outputs": [
    {
     "data": {
      "text/html": [
       "<div>\n",
       "<style scoped>\n",
       "    .dataframe tbody tr th:only-of-type {\n",
       "        vertical-align: middle;\n",
       "    }\n",
       "\n",
       "    .dataframe tbody tr th {\n",
       "        vertical-align: top;\n",
       "    }\n",
       "\n",
       "    .dataframe thead th {\n",
       "        text-align: right;\n",
       "    }\n",
       "</style>\n",
       "<table border=\"1\" class=\"dataframe\">\n",
       "  <thead>\n",
       "    <tr style=\"text-align: center;\">\n",
       "      <th></th>\n",
       "      <th>feature</th>\n",
       "      <th>p_value</th>\n",
       "      <th>significant</th>\n",
       "    </tr>\n",
       "  </thead>\n",
       "  <tbody>\n",
       "    <tr>\n",
       "      <th>0</th>\n",
       "      <td>gender</td>\n",
       "      <td>0.0102</td>\n",
       "      <td>True</td>\n",
       "    </tr>\n",
       "    <tr>\n",
       "      <th>3</th>\n",
       "      <td>employment_status</td>\n",
       "      <td>0.1148</td>\n",
       "      <td>False</td>\n",
       "    </tr>\n",
       "    <tr>\n",
       "      <th>4</th>\n",
       "      <td>education_level</td>\n",
       "      <td>0.2536</td>\n",
       "      <td>False</td>\n",
       "    </tr>\n",
       "    <tr>\n",
       "      <th>2</th>\n",
       "      <td>own_property</td>\n",
       "      <td>0.3094</td>\n",
       "      <td>False</td>\n",
       "    </tr>\n",
       "    <tr>\n",
       "      <th>5</th>\n",
       "      <td>married_status</td>\n",
       "      <td>0.4002</td>\n",
       "      <td>False</td>\n",
       "    </tr>\n",
       "    <tr>\n",
       "      <th>6</th>\n",
       "      <td>dwelling</td>\n",
       "      <td>0.5896</td>\n",
       "      <td>False</td>\n",
       "    </tr>\n",
       "    <tr>\n",
       "      <th>1</th>\n",
       "      <td>own_car</td>\n",
       "      <td>0.9537</td>\n",
       "      <td>False</td>\n",
       "    </tr>\n",
       "  </tbody>\n",
       "</table>\n",
       "</div>"
      ],
      "text/plain": [
       "       feature        p_value  significant\n",
       "0             gender  0.0102       True   \n",
       "3  employment_status  0.1148      False   \n",
       "4    education_level  0.2536      False   \n",
       "2       own_property  0.3094      False   \n",
       "5     married_status  0.4002      False   \n",
       "6           dwelling  0.5896      False   \n",
       "1            own_car  0.9537      False   "
      ]
     },
     "execution_count": 35,
     "metadata": {},
     "output_type": "execute_result"
    }
   ],
   "source": [
    "# Step 1: Run batch chi-square test\n",
    "cat_cols = capped_df.select_dtypes(include='object').columns.tolist()\n",
    "chi_summary = chi_square_test_batch(capped_df, cat_cols, target_column='is_high_risk', plot=False)\n",
    "chi_summary.sort_values('p_value')"
   ]
  },
  {
   "cell_type": "code",
   "execution_count": 36,
   "id": "c7784a60-a24b-4052-bda6-224a3ec9c418",
   "metadata": {},
   "outputs": [
    {
     "data": {
      "image/png": "[encoded data removed]",
      "text/plain": [
       "<Figure size 800x400 with 1 Axes>"
      ]
     },
     "metadata": {},
     "output_type": "display_data"
    }
   ],
   "source": [
    "# Step 1b: Dynamically select significant features (excluding is_high_risk itself)\n",
    "%matplotlib inline\n",
    "significant_features = chi_summary[\n",
    "    (chi_summary['significant'] == True) &\n",
    "    (chi_summary['feature'] != 'is_high_risk')\n",
    "]['feature'].tolist()\n",
    "\n",
    "# Step 3: Plot proportions\n",
    "plot_significant_categorical_proportions(capped_df, significant_features, target_column='is_high_risk')"
   ]
  },
  {
   "cell_type": "code",
   "execution_count": 37,
   "id": "285ee0ee-1daa-4733-89de-bb13bf84a8d7",
   "metadata": {
    "scrolled": true
   },
   "outputs": [
    {
     "data": {
      "image/png": "[encoded data removed]",
      "text/plain": [
       "<Figure size 800x400 with 1 Axes>"
      ]
     },
     "metadata": {},
     "output_type": "display_data"
    },
    {
     "data": {
      "image/png": "[encoded data removed]",
      "text/plain": [
       "<Figure size 800x400 with 1 Axes>"
      ]
     },
     "metadata": {},
     "output_type": "display_data"
    },
    {
     "data": {
      "image/png": "[encoded data removed]",
      "text/plain": [
       "<Figure size 800x400 with 1 Axes>"
      ]
     },
     "metadata": {},
     "output_type": "display_data"
    },
    {
     "data": {
      "image/png": "[encoded data removed]",
      "text/plain": [
       "<Figure size 800x400 with 1 Axes>"
      ]
     },
     "metadata": {},
     "output_type": "display_data"
    },
    {
     "data": {
      "image/png": "[encoded data removed]",
      "text/plain": [
       "<Figure size 800x400 with 1 Axes>"
      ]
     },
     "metadata": {},
     "output_type": "display_data"
    },
    {
     "data": {
      "image/png": "[encoded data removed]",
      "text/plain": [
       "<Figure size 800x400 with 1 Axes>"
      ]
     },
     "metadata": {},
     "output_type": "display_data"
    },
    {
     "data": {
      "image/png": "[encoded data removed]",
      "text/plain": [
       "<Figure size 800x400 with 1 Axes>"
      ]
     },
     "metadata": {},
     "output_type": "display_data"
    },
    {
     "data": {
      "image/png": "[encoded data removed]",
      "text/plain": [
       "<Figure size 800x400 with 1 Axes>"
      ]
     },
     "metadata": {},
     "output_type": "display_data"
    },
    {
     "data": {
      "text/html": [
       "<div>\n",
       "<style scoped>\n",
       "    .dataframe tbody tr th:only-of-type {\n",
       "        vertical-align: middle;\n",
       "    }\n",
       "\n",
       "    .dataframe tbody tr th {\n",
       "        vertical-align: top;\n",
       "    }\n",
       "\n",
       "    .dataframe thead th {\n",
       "        text-align: right;\n",
       "    }\n",
       "</style>\n",
       "<table border=\"1\" class=\"dataframe\">\n",
       "  <thead>\n",
       "    <tr style=\"text-align: center;\">\n",
       "      <th></th>\n",
       "      <th>feature</th>\n",
       "      <th>p_value</th>\n",
       "      <th>significant</th>\n",
       "    </tr>\n",
       "  </thead>\n",
       "  <tbody>\n",
       "    <tr>\n",
       "      <th>5</th>\n",
       "      <td>account_age_months</td>\n",
       "      <td>0.0000</td>\n",
       "      <td>True</td>\n",
       "    </tr>\n",
       "    <tr>\n",
       "      <th>4</th>\n",
       "      <td>email</td>\n",
       "      <td>0.0008</td>\n",
       "      <td>True</td>\n",
       "    </tr>\n",
       "    <tr>\n",
       "      <th>1</th>\n",
       "      <td>income</td>\n",
       "      <td>0.1234</td>\n",
       "      <td>False</td>\n",
       "    </tr>\n",
       "    <tr>\n",
       "      <th>7</th>\n",
       "      <td>employment_length</td>\n",
       "      <td>0.1463</td>\n",
       "      <td>False</td>\n",
       "    </tr>\n",
       "    <tr>\n",
       "      <th>2</th>\n",
       "      <td>work_phone</td>\n",
       "      <td>0.1700</td>\n",
       "      <td>False</td>\n",
       "    </tr>\n",
       "    <tr>\n",
       "      <th>6</th>\n",
       "      <td>age</td>\n",
       "      <td>0.3116</td>\n",
       "      <td>False</td>\n",
       "    </tr>\n",
       "    <tr>\n",
       "      <th>3</th>\n",
       "      <td>phone</td>\n",
       "      <td>0.8551</td>\n",
       "      <td>False</td>\n",
       "    </tr>\n",
       "    <tr>\n",
       "      <th>0</th>\n",
       "      <td>children_count</td>\n",
       "      <td>0.9975</td>\n",
       "      <td>False</td>\n",
       "    </tr>\n",
       "  </tbody>\n",
       "</table>\n",
       "</div>"
      ],
      "text/plain": [
       "        feature        p_value  significant\n",
       "5  account_age_months  0.0000       True   \n",
       "4               email  0.0008       True   \n",
       "1              income  0.1234      False   \n",
       "7   employment_length  0.1463      False   \n",
       "2          work_phone  0.1700      False   \n",
       "6                 age  0.3116      False   \n",
       "3               phone  0.8551      False   \n",
       "0      children_count  0.9975      False   "
      ]
     },
     "execution_count": 37,
     "metadata": {},
     "output_type": "execute_result"
    }
   ],
   "source": [
    "#Step 2: ANOVA test\n",
    "%matplotlib inline\n",
    "anova_results = anova_test_numerical_features(capped_df, target_column='is_high_risk', plot=True)\n",
    "anova_results.sort_values('p_value')"
   ]
  },
  {
   "cell_type": "markdown",
   "id": "6f190aae-3291-4b80-b04e-af221b6fb54f",
   "metadata": {},
   "source": [
    "## Prepare capped data for modelling (Feature Engineering)"
   ]
  },
  {
   "cell_type": "markdown",
   "id": "26cfd3ac-c5b8-429f-be9e-6d7f46fd81d5",
   "metadata": {},
   "source": [
    "**Steps:**\n",
    "- Feature Relevance Analysis\n",
    "- Feature Engineering\n",
    "    > - Drop feature : `account_age_months`\n",
    "    > - Transform skewed features (log/Box-Cox): `age` `income`\n",
    "    > - One-hot Encode (multi-category columns): `married_status` `dwelling` `employment_status`\n",
    "    > - Ordinal encode (binary columns): `gender`  `own_car` `own_property` `work_phone` `phone` `email`\n",
    "    > - Encode target column if it's not numeric (LabelEncoder)   "
   ]
  },
  {
   "cell_type": "markdown",
   "id": "7ea5c00f",
   "metadata": {},
   "source": [
    "### Feature Relevance Analysis"
   ]
  },
  {
   "cell_type": "code",
   "execution_count": 38,
   "id": "ae7eca4f",
   "metadata": {},
   "outputs": [
    {
     "data": {
      "image/png": "[encoded data removed]",
      "text/plain": [
       "<Figure size 1000x600 with 1 Axes>"
      ]
     },
     "metadata": {},
     "output_type": "display_data"
    }
   ],
   "source": [
    "# feature importance\n",
    "importance_df = compute_combined_feature_importance(capped_df, target_column='is_high_risk', top_n=15, plot=True)\n",
    "#print(importance_df)"
   ]
  },
  {
   "cell_type": "markdown",
   "id": "b46a1d96",
   "metadata": {},
   "source": [
    "### Combined Insights from Feature Importance (RF vs MI) and Statistical Significance (p-values)"
   ]
  },
  {
   "cell_type": "markdown",
   "id": "65847e74",
   "metadata": {},
   "source": [
    "\n",
    "✅ **Significant & Predictive Features (Keep)**\n",
    "\n",
    "These features are both **statistically significant (p < 0.05)** and have **high RF importance**:\n",
    "\n",
    "| Feature              | Reason for Retention                             |\n",
    "| -------------------- | ------------------------------------------------ |\n",
    "| `account_age_months` | Most important feature (RF), p = 0.000  will be dropped because it was used to create the target variable, reusing will make our model to overfit. Plus, this information is unknown while applying for a credit card.  |\n",
    "| `email`              | Significant (p = 0.0008), modest RF              |\n",
    "| `gender`             | Statistically significant (p = 0.0102), minor RF (e.g., females more/less likely flagged) |\n",
    "\n",
    "---\n",
    "\n",
    "⚠️ **Predictive But Not Statistically Significant**\n",
    "\n",
    "Features with **strong RF importance** but **p > 0.05**:\n",
    "\n",
    "| Feature             | Insight                                               |\n",
    "| ------------------- | ----------------------------------------------------- |\n",
    "| `age`               | High RF importance, but not statistically significant |\n",
    "| `income`            | Important in RF, borderline p-value (0.12)            |\n",
    "| `employment_length` | Relevant in RF, p = 0.14                              |\n",
    "\n",
    "**Interpretation:** These may have **non-linear or interaction effects**, justifying retention in ML models even if not individually significant.\n",
    "\n",
    "---\n",
    "\n",
    "❌ **Weak and Non-significant (Consider Dropping)**\n",
    "\n",
    "Features that are **low in RF importance** and **not statistically significant**:\n",
    "\n",
    "| Feature           | p-value | RF Importance | Action |\n",
    "| ----------------- | ------- | ------------- | ------ |\n",
    "| `phone`           | 0.8551  | Low           | Drop   |\n",
    "| `children_count`  | 0.9975  | Low           | Drop   |\n",
    "| `work_phone`      | 0.17    | Low           | Drop   |\n",
    "| `own_car`         | 0.9537  | Low           | Drop   |\n",
    "| `dwelling`        | 0.5896  | Low           | Drop   |\n",
    "| `own_property`    | 0.3094  | Low           | Drop   |\n",
    "| `education_level` | 0.2536  | Low           | Drop   |\n",
    "| `married_status`  | 0.4002  | Low           | Drop   |\n",
    "\n",
    "---\n",
    "\n",
    "**Final Recommendation**\n",
    "- **Keep (Strong candidates)**: `age`, `income`, `employment_length`, `email`, `gender`\n",
    "- **Drop (Redundant or weak)**: `phone`, `work_phone`, `own_car`, `own_property`, `dwelling`, `education_level`, `married_status`, `children_count`,`account_age_months`\n",
    "\n",
    "---\n",
    "- **Typical profile of an applicant is:**\n",
    "> *a Female in her early 40s, married with a partner and no child. She has been employed for 5 years with a salary of 157,500. She has completed her secondary education. She does not own a car but owns a property (a house/apartment). Her account is 26 months old.*\n",
    "---"
   ]
  },
  {
   "cell_type": "markdown",
   "id": "22a61e0a",
   "metadata": {},
   "source": [
    "### Feature Engineering"
   ]
  },
  {
   "cell_type": "code",
   "execution_count": 39,
   "id": "51b64f40-8823-48d6-850f-90d096ea67dd",
   "metadata": {},
   "outputs": [
    {
     "name": "stdout",
     "output_type": "stream",
     "text": [
      "processed_df.shape: (36457, 7)\n"
     ]
    },
    {
     "data": {
      "text/html": [
       "<div>\n",
       "<style scoped>\n",
       "    .dataframe tbody tr th:only-of-type {\n",
       "        vertical-align: middle;\n",
       "    }\n",
       "\n",
       "    .dataframe tbody tr th {\n",
       "        vertical-align: top;\n",
       "    }\n",
       "\n",
       "    .dataframe thead th {\n",
       "        text-align: right;\n",
       "    }\n",
       "</style>\n",
       "<table border=\"1\" class=\"dataframe\">\n",
       "  <thead>\n",
       "    <tr style=\"text-align: center;\">\n",
       "      <th></th>\n",
       "      <th>gender</th>\n",
       "      <th>income</th>\n",
       "      <th>employment_status</th>\n",
       "      <th>email</th>\n",
       "      <th>age</th>\n",
       "      <th>employment_length</th>\n",
       "      <th>is_high_risk</th>\n",
       "    </tr>\n",
       "  </thead>\n",
       "  <tbody>\n",
       "    <tr>\n",
       "      <th>0</th>\n",
       "      <td>m</td>\n",
       "      <td>380250.0</td>\n",
       "      <td>working</td>\n",
       "      <td>0</td>\n",
       "      <td>32</td>\n",
       "      <td>12.0</td>\n",
       "      <td>0</td>\n",
       "    </tr>\n",
       "    <tr>\n",
       "      <th>1</th>\n",
       "      <td>m</td>\n",
       "      <td>380250.0</td>\n",
       "      <td>working</td>\n",
       "      <td>0</td>\n",
       "      <td>32</td>\n",
       "      <td>12.0</td>\n",
       "      <td>0</td>\n",
       "    </tr>\n",
       "    <tr>\n",
       "      <th>2</th>\n",
       "      <td>m</td>\n",
       "      <td>112500.0</td>\n",
       "      <td>working</td>\n",
       "      <td>0</td>\n",
       "      <td>58</td>\n",
       "      <td>3.0</td>\n",
       "      <td>0</td>\n",
       "    </tr>\n",
       "  </tbody>\n",
       "</table>\n",
       "</div>"
      ],
      "text/plain": [
       "  gender   income  employment_status  email  age  employment_length  \\\n",
       "0    m    380250.0       working        0    32         12.0          \n",
       "1    m    380250.0       working        0    32         12.0          \n",
       "2    m    112500.0       working        0    58          3.0          \n",
       "\n",
       "   is_high_risk  \n",
       "0        0       \n",
       "1        0       \n",
       "2        0       "
      ]
     },
     "execution_count": 39,
     "metadata": {},
     "output_type": "execute_result"
    }
   ],
   "source": [
    "# Drop low-importance features\n",
    "low_importance_features = [\n",
    "    'phone',\n",
    "    'work_phone',\n",
    "    'own_car',\n",
    "    'own_property',\n",
    "    'dwelling',\n",
    "    'education_level',\n",
    "    'married_status',\n",
    "    'account_age_months',\n",
    "    'children_count',\n",
    "]\n",
    "\n",
    "processed_df = capped_df.drop(columns=low_importance_features)\n",
    "\n",
    "print(f\"processed_df.shape: {processed_df.shape}\")\n",
    "processed_df.head(3)\n"
   ]
  },
  {
   "cell_type": "code",
   "execution_count": 41,
   "id": "ecd2a7b4-4c79-4d69-82bc-fc55def15ac2",
   "metadata": {},
   "outputs": [
    {
     "data": {
      "text/html": [
       "<div>\n",
       "<style scoped>\n",
       "    .dataframe tbody tr th:only-of-type {\n",
       "        vertical-align: middle;\n",
       "    }\n",
       "\n",
       "    .dataframe tbody tr th {\n",
       "        vertical-align: top;\n",
       "    }\n",
       "\n",
       "    .dataframe thead th {\n",
       "        text-align: right;\n",
       "    }\n",
       "</style>\n",
       "<table border=\"1\" class=\"dataframe\">\n",
       "  <thead>\n",
       "    <tr style=\"text-align: center;\">\n",
       "      <th></th>\n",
       "      <th>gender</th>\n",
       "      <th>income</th>\n",
       "      <th>employment_status</th>\n",
       "      <th>email</th>\n",
       "      <th>age</th>\n",
       "      <th>employment_length</th>\n",
       "      <th>is_high_risk</th>\n",
       "    </tr>\n",
       "  </thead>\n",
       "  <tbody>\n",
       "    <tr>\n",
       "      <th>0</th>\n",
       "      <td>m</td>\n",
       "      <td>72.4</td>\n",
       "      <td>working</td>\n",
       "      <td>0</td>\n",
       "      <td>3.2</td>\n",
       "      <td>12.0</td>\n",
       "      <td>0</td>\n",
       "    </tr>\n",
       "    <tr>\n",
       "      <th>1</th>\n",
       "      <td>m</td>\n",
       "      <td>72.4</td>\n",
       "      <td>working</td>\n",
       "      <td>0</td>\n",
       "      <td>3.2</td>\n",
       "      <td>12.0</td>\n",
       "      <td>0</td>\n",
       "    </tr>\n",
       "    <tr>\n",
       "      <th>2</th>\n",
       "      <td>m</td>\n",
       "      <td>48.3</td>\n",
       "      <td>working</td>\n",
       "      <td>0</td>\n",
       "      <td>3.9</td>\n",
       "      <td>3.0</td>\n",
       "      <td>0</td>\n",
       "    </tr>\n",
       "  </tbody>\n",
       "</table>\n",
       "</div>"
      ],
      "text/plain": [
       "  gender  income employment_status  email  age  employment_length  \\\n",
       "0    m     72.4        working        0    3.2        12.0          \n",
       "1    m     72.4        working        0    3.2        12.0          \n",
       "2    m     48.3        working        0    3.9         3.0          \n",
       "\n",
       "   is_high_risk  \n",
       "0        0       \n",
       "1        0       \n",
       "2        0       "
      ]
     },
     "execution_count": 41,
     "metadata": {},
     "output_type": "execute_result"
    }
   ],
   "source": [
    "# Log-transform skewed features with skew > 1\n",
    "transformed_df = transform_skewed_columns(processed_df, columns=['income', 'age'], method='cbrt')\n",
    "transformed_df.head(3)"
   ]
  },
  {
   "cell_type": "code",
   "execution_count": 42,
   "id": "cb4efc8c",
   "metadata": {
    "scrolled": true
   },
   "outputs": [
    {
     "data": {
      "image/png": "[encoded data removed]",
      "text/plain": [
       "<Figure size 800x400 with 1 Axes>"
      ]
     },
     "metadata": {},
     "output_type": "display_data"
    },
    {
     "data": {
      "image/png": "[encoded data removed]",
      "text/plain": [
       "<Figure size 800x400 with 1 Axes>"
      ]
     },
     "metadata": {},
     "output_type": "display_data"
    }
   ],
   "source": [
    "columns = ['income', 'age']\n",
    "\n",
    "for col in columns:\n",
    "    plt.figure(figsize=(8, 4))\n",
    "    sns.histplot(data=transformed_df, x=col, bins=30, kde=True)  \n",
    "    plt.title(f'Histogram of {col}')\n",
    "    plt.xlabel(col)\n",
    "    plt.ylabel('Frequency')\n",
    "    plt.tight_layout()\n",
    "    plt.show()"
   ]
  },
  {
   "cell_type": "code",
   "execution_count": 43,
   "id": "702e9ec3-28c0-4d8a-ba26-20adf4651b05",
   "metadata": {},
   "outputs": [
    {
     "data": {
      "text/html": [
       "<div>\n",
       "<style scoped>\n",
       "    .dataframe tbody tr th:only-of-type {\n",
       "        vertical-align: middle;\n",
       "    }\n",
       "\n",
       "    .dataframe tbody tr th {\n",
       "        vertical-align: top;\n",
       "    }\n",
       "\n",
       "    .dataframe thead th {\n",
       "        text-align: right;\n",
       "    }\n",
       "</style>\n",
       "<table border=\"1\" class=\"dataframe\">\n",
       "  <thead>\n",
       "    <tr style=\"text-align: center;\">\n",
       "      <th></th>\n",
       "      <th>gender</th>\n",
       "      <th>income</th>\n",
       "      <th>email</th>\n",
       "      <th>age</th>\n",
       "      <th>employment_length</th>\n",
       "      <th>employment_status_pensioner</th>\n",
       "      <th>employment_status_state servant</th>\n",
       "      <th>employment_status_student</th>\n",
       "      <th>employment_status_working</th>\n",
       "      <th>is_high_risk</th>\n",
       "    </tr>\n",
       "  </thead>\n",
       "  <tbody>\n",
       "    <tr>\n",
       "      <th>0</th>\n",
       "      <td>1.0</td>\n",
       "      <td>72.4</td>\n",
       "      <td>0</td>\n",
       "      <td>3.2</td>\n",
       "      <td>12.0</td>\n",
       "      <td>0.0</td>\n",
       "      <td>0.0</td>\n",
       "      <td>0.0</td>\n",
       "      <td>1.0</td>\n",
       "      <td>0</td>\n",
       "    </tr>\n",
       "    <tr>\n",
       "      <th>1</th>\n",
       "      <td>1.0</td>\n",
       "      <td>72.4</td>\n",
       "      <td>0</td>\n",
       "      <td>3.2</td>\n",
       "      <td>12.0</td>\n",
       "      <td>0.0</td>\n",
       "      <td>0.0</td>\n",
       "      <td>0.0</td>\n",
       "      <td>1.0</td>\n",
       "      <td>0</td>\n",
       "    </tr>\n",
       "    <tr>\n",
       "      <th>2</th>\n",
       "      <td>1.0</td>\n",
       "      <td>48.3</td>\n",
       "      <td>0</td>\n",
       "      <td>3.9</td>\n",
       "      <td>3.0</td>\n",
       "      <td>0.0</td>\n",
       "      <td>0.0</td>\n",
       "      <td>0.0</td>\n",
       "      <td>1.0</td>\n",
       "      <td>0</td>\n",
       "    </tr>\n",
       "  </tbody>\n",
       "</table>\n",
       "</div>"
      ],
      "text/plain": [
       "   gender  income  email  age  employment_length  employment_status_pensioner  \\\n",
       "0    1.0    72.4     0    3.2        12.0                     0.0               \n",
       "1    1.0    72.4     0    3.2        12.0                     0.0               \n",
       "2    1.0    48.3     0    3.9         3.0                     0.0               \n",
       "\n",
       "   employment_status_state servant  employment_status_student  \\\n",
       "0                0.0                           0.0              \n",
       "1                0.0                           0.0              \n",
       "2                0.0                           0.0              \n",
       "\n",
       "   employment_status_working  is_high_risk  \n",
       "0             1.0                   0       \n",
       "1             1.0                   0       \n",
       "2             1.0                   0       "
      ]
     },
     "execution_count": 43,
     "metadata": {},
     "output_type": "execute_result"
    }
   ],
   "source": [
    "# Encoding categorical variables (binary encoding and one-hot encoding).\n",
    "encoded_df = encode_columns(transformed_df, target_col='is_high_risk')\n",
    "encoded_df.head(3)"
   ]
  },
  {
   "cell_type": "code",
   "execution_count": null,
   "id": "d9645bb4",
   "metadata": {},
   "outputs": [],
   "source": [
    "'''# scale for numerical attributes\n",
    "scaled_df = apply_min_max_scaling(encoded_df, target_col='is_high_risk')\n",
    "scaled_df.head(3)'''"
   ]
  },
  {
   "cell_type": "markdown",
   "id": "80bfa993",
   "metadata": {},
   "source": [
    "## Predictive Modeling Approach"
   ]
  },
  {
   "cell_type": "markdown",
   "id": "444bb3b5-0a81-428b-be59-913225f524d5",
   "metadata": {},
   "source": [
    "- Scale (MinMax) and split dataset\n",
    "- Balance training set using SMOTE\n",
    "- Use tree-based models (Random Forest, XGBoost)\n",
    "- Try logistic regression as baseline\n",
    "- Optimize using AUC/recall/precision"
   ]
  },
  {
   "cell_type": "code",
   "execution_count": 44,
   "id": "4c0dbf82-4f15-4732-b537-a1cd07d1938a",
   "metadata": {},
   "outputs": [
    {
     "data": {
      "text/plain": [
       "(29165, 9)"
      ]
     },
     "metadata": {},
     "output_type": "display_data"
    },
    {
     "data": {
      "text/plain": [
       "(7292, 9)"
      ]
     },
     "metadata": {},
     "output_type": "display_data"
    },
    {
     "data": {
      "text/plain": [
       "is_high_risk\n",
       "0    28859\n",
       "1      306\n",
       "Name: count, dtype: Int64"
      ]
     },
     "metadata": {},
     "output_type": "display_data"
    },
    {
     "data": {
      "text/plain": [
       "\"\\n# Get feature names from the pipeline if available\\nfeature_names = encoded_df.drop(columns=['is_high_risk']).columns  # or however you excluded the target\\n\\n# Reconstruct the DataFrame\\nX_train_scaled_df = pd.DataFrame(X_train, columns=feature_names)\\ndisplay(X_train_scaled_df.head(3))\\n\""
      ]
     },
     "execution_count": 44,
     "metadata": {},
     "output_type": "execute_result"
    }
   ],
   "source": [
    "# scale for numerical attributes and split df for modelling\n",
    "X_train, X_test, y_train, y_test, pipeline = scale_and_split(\n",
    "    encoded_df,\n",
    "    target_column='is_high_risk'\n",
    ")\n",
    "display(X_train.shape, X_test.shape)\n",
    "display(y_train.value_counts())\n",
    "\n",
    "'''\n",
    "# Get feature names from the pipeline if available\n",
    "feature_names = encoded_df.drop(columns=['is_high_risk']).columns  # or however you excluded the target\n",
    "\n",
    "# Reconstruct the DataFrame\n",
    "X_train_scaled_df = pd.DataFrame(X_train, columns=feature_names)\n",
    "display(X_train_scaled_df.head(3))\n",
    "'''"
   ]
  },
  {
   "cell_type": "markdown",
   "id": "42be0a79",
   "metadata": {},
   "source": [
    "### Using SMOTE to balance the classes"
   ]
  },
  {
   "cell_type": "code",
   "execution_count": 45,
   "id": "da7e2b3e-deaf-4a0b-91c5-d3820e7ed363",
   "metadata": {},
   "outputs": [
    {
     "name": "stdout",
     "output_type": "stream",
     "text": [
      "is_high_risk\n",
      "0    28859\n",
      "1    28859\n",
      "Name: count, dtype: Int64\n"
     ]
    }
   ],
   "source": [
    "# Using SMOTE to balance the classes\n",
    "X_train_resampled, y_train_resampled = balance_classes_smote(X_train, y_train)\n",
    "print(y_train_resampled.value_counts())"
   ]
  },
  {
   "cell_type": "code",
   "execution_count": 47,
   "id": "ef1188c3-5ead-4906-839b-82c7c95422e2",
   "metadata": {},
   "outputs": [
    {
     "data": {
      "text/plain": [
       "array([[0.        , 0.7       , 0.        , ..., 0.        , 0.        ,\n",
       "        1.        ],\n",
       "       [0.        , 0.3       , 0.        , ..., 1.        , 0.        ,\n",
       "        0.        ],\n",
       "       [0.        , 0.4       , 0.        , ..., 0.        , 0.        ,\n",
       "        0.        ],\n",
       "       ...,\n",
       "       [0.        , 0.77299298, 0.        , ..., 0.        , 0.        ,\n",
       "        1.        ],\n",
       "       [0.        , 0.65179933, 0.        , ..., 0.        , 0.        ,\n",
       "        1.        ],\n",
       "       [0.        , 0.4       , 1.        , ..., 0.        , 0.        ,\n",
       "        1.        ]])"
      ]
     },
     "metadata": {},
     "output_type": "display_data"
    }
   ],
   "source": [
    "display(X_train_resampled)"
   ]
  },
  {
   "cell_type": "markdown",
   "id": "48de9434",
   "metadata": {},
   "source": [
    "### Post-SMOTE Modeling and Evaluation"
   ]
  },
  {
   "cell_type": "code",
   "execution_count": null,
   "id": "4eb831df-bd29-4d10-8a7c-a744e78e7192",
   "metadata": {},
   "outputs": [],
   "source": [
    "# Train baseline and other models using cross validation ==10\n",
    "selected = [ \"Logistic Regression\",\"Random Forest\", \"XGBoost\", \"Gradient Boosting\" ,\"LightGBM\", \"CatBoost\", \"KNN\",\"Decision Tree\", \"Naive Bayes\", \"Neural Network\"]\n",
    "results, trained_models =  train_and_evaluate_models(X_train_resampled, y_train_resampled, selected_models=selected)"
   ]
  },
  {
   "cell_type": "code",
   "execution_count": null,
   "id": "4ccdfec4",
   "metadata": {},
   "outputs": [],
   "source": [
    "print(results['Logistic Regression']['classification_report'].keys())\n"
   ]
  },
  {
   "cell_type": "code",
   "execution_count": null,
   "id": "dd86d8e3",
   "metadata": {},
   "outputs": [],
   "source": [
    "# Observe Metrics\n",
    "summary_df = results_to_dataframe(results)\n",
    "summary_df"
   ]
  },
  {
   "cell_type": "code",
   "execution_count": null,
   "id": "fd918161",
   "metadata": {},
   "outputs": [],
   "source": [
    "# plt model metric\n",
    "%matplotlib inline\n",
    "plot_model_evaluations(trained_models, X_test, y_test)"
   ]
  },
  {
   "cell_type": "markdown",
   "id": "881d72f0",
   "metadata": {},
   "source": [
    "### Predictive Modeling Insights"
   ]
  },
  {
   "cell_type": "markdown",
   "id": "b602737a",
   "metadata": {},
   "source": [
    "To support the project goal of identifying **at-risk customers** during credit card approval, model selection must prioritize evaluation metrics that highlight the model’s ability to correctly flag high-risk individuals while ensuring fair decisions. \n",
    "\n",
    "| **Metric**           | **Why It Matters**                                                         |\n",
    "| -------------------- | -------------------------------------------------------------------------- |\n",
    "| **Recall**           | Captures more high-risk customers, reducing missed defaults.   it ensures the model effectively identifies those likely to default or pose financial risk — minimizing false negatives.             |\n",
    "| **Precision**        | Avoids wrongly flagging reliable applicants as high-risk. avoids unnecessarily rejecting reliable applicants.                 |\n",
    "| **F1 Score**         | Balances recall and precision for risk-sensitive decisions when both types of misclassification (false positives and false negatives) are costly.                |\n",
    "| **ROC-AUC**          | Evaluates model performance across thresholds.                             |\n",
    "| **Confusion Matrix** | Visualizes prediction breakdown — aids transparency and stakeholder trust. |\n",
    "\n",
    "---\n",
    "\n",
    "Since the objective of this problem is to minimize the risk of credit default for the financial institution, there is always a trade-off between precision and recall. Choosing the right metrics depends on the problem being solved. In our case, we will use recall as our metric.\n",
    "\n",
    "✅ Best Models to Tune Compared to Logistic Regression\n",
    "\n",
    "| **Model**    | **Recall (1)** | **F1-score (1)** | **Reason to Tune**                                                                    |\n",
    "| ------------ | -------------- | ---------------- | ------------------------------------------------------------------------------------- |\n",
    "| **CatBoost** | **0.99**       | **0.95**         | Highest recall with excellent F1-score — ideal for minimizing missed high-risk cases. |\n",
    "| **XGBoost**  | **0.98**       | **0.93**         | Very high recall and robust F1-score — effective and widely used in credit scoring.   |\n",
    "\n",
    "---\n",
    "I'd tune and evaluate:\n",
    "\n",
    "1. **CatBoost** — great recall + generalization + handles categorical data natively.\n",
    "2. **XGBoost** — robust and tunable, with consistent high performance."
   ]
  },
  {
   "cell_type": "markdown",
   "id": "80c21905",
   "metadata": {},
   "source": [
    "### Model Tuning using RandomizedSearchCV "
   ]
  },
  {
   "cell_type": "code",
   "execution_count": null,
   "id": "aff8875b",
   "metadata": {},
   "outputs": [],
   "source": [
    "#Tune selected models and save best model\n",
    "models_and_params = load_models_and_params() # Load all models and params\n",
    "\n",
    "# Pick specific models to tune\n",
    "selected = [\"CatBoost\", \"XGBoost\"]\n",
    "selected_models_and_params = {\n",
    "    name: models_and_params[name] for name in selected\n",
    "}"
   ]
  },
  {
   "cell_type": "code",
   "execution_count": null,
   "id": "1a234f7b-239c-4170-ac37-90c4e565079d",
   "metadata": {},
   "outputs": [],
   "source": [
    "best_model, best_name, best_scores = tune_and_select_best_model(\n",
    "    X_train, y_train,\n",
    "    models_and_params=selected_models_and_params,\n",
    "    save_path=\"cc_approval_risk_best_model.joblib\"\n",
    ")"
   ]
  },
  {
   "cell_type": "markdown",
   "id": "fa3cd2e7",
   "metadata": {},
   "source": [
    "### Recommend Data-Driven Strategies to Reduce Risk"
   ]
  },
  {
   "cell_type": "code",
   "execution_count": null,
   "id": "ee81cd49",
   "metadata": {},
   "outputs": [],
   "source": [
    "# Load the best saved risk model\n",
    "best_model = joblib.load(\"cc_approval_risk_best_model.joblib\")\n",
    "tn, fp, fn, tp = sum(results[best_name]['confusion_matrix'], [])\n",
    "\n",
    "print(f\" Best Model: {best_name}\")\n",
    "print(f\"\"\"\n",
    "Actionable Insights (Credit Card Approval Risk Prediction):\n",
    "\n",
    "-Approve low-risk customers confidently (TN): {tn} \n",
    "  → These applicants are correctly identified as low-risk. Proceed with approval and standard onboarding procedures.\n",
    "\n",
    "- Block high-risk applications effectively (TP): {tp} \n",
    "  → These customers are correctly flagged as high-risk. Decline or route for manual review and risk mitigation..\n",
    "\n",
    "- Address approval errors (FN): {fn}\n",
    "  → These customers were high-risk but not flagged. Investigate additional risk signals or consider model retraining to reduce approval of defaulters.\n",
    "\n",
    "- Minimize unnecessary rejections (FP): {fp}\n",
    "  → These applicants were wrongly flagged as high-risk. Optimize threshold or feature selection to prevent rejecting creditworthy applicants.\n",
    "\"\"\")\n"
   ]
  },
  {
   "cell_type": "code",
   "execution_count": null,
   "id": "fa22c3ae",
   "metadata": {},
   "outputs": [],
   "source": []
  },
  {
   "cell_type": "code",
   "execution_count": null,
   "id": "ccc0af31",
   "metadata": {},
   "outputs": [],
   "source": [
    "import ml_pipeline_utils \n",
    "from ml_pipeline_utils import *\n",
    "# Reload the module to ensure all changes are reflected\n",
    "import importlib\n",
    "importlib.reload(ml_pipeline_utils)\n"
   ]
  },
  {
   "cell_type": "code",
   "execution_count": null,
   "id": "4c4f0d71-28ed-4db8-bb74-daaade37da26",
   "metadata": {},
   "outputs": [],
   "source": [
    "import streamlit as st\n",
    "import eda\n",
    "import prediction\n",
    "\n",
    "page = st.sidebar.selectbox('Pilih Halaman', ('EDA', 'Prediction'))\n",
    "\n",
    "if page=='EDA':\n",
    "    eda.run()\n",
    "else:\n",
    "    prediction.run()"
   ]
  },
  {
   "cell_type": "code",
   "execution_count": null,
   "id": "ace157c1-f5e1-4c5d-ae32-01ba63ee0817",
   "metadata": {},
   "outputs": [],
   "source": [
    "import streamlit as st\n",
    "import json\n",
    "import pandas as pd\n",
    "import matplotlib.pyplot as plt\n",
    "import seaborn as sns\n",
    "import plotly.express as px\n",
    "from PIL import Image\n",
    "\n",
    "def run():\n",
    "\n",
    "    #Membuat judul\n",
    "    st.title('Credit Card Analysis and Prediction')\n",
    "\n",
    "    image = Image.open('credit_card.jpeg')\n",
    "    st.image(image, caption='Credit Card')\n",
    "\n",
    "    st.markdown('------')\n",
    "\n",
    "    #Sub judul untuk Exploratory Data Analysis\n",
    "    st.subheader('Exploratory Data Analysis Credit Card')\n",
    "\n",
    "    #Memanggil dataset\n",
    "    credit_card_data = pd.read_csv('P1G5_Set_1_Christopher.csv')\n",
    "    credit_card_data\n",
    "\n",
    "    st.write(\"#### Penggunaan Credit Card berdasarkan Age\")\n",
    "    fig = plt.figure(figsize=(20, 15))\n",
    "    sns.countplot(credit_card_data, x=\"age\")\n",
    "    st.pyplot(fig)\n",
    "\n",
    "    st.write(\"#### Limit Balance menurut Education Level\")\n",
    "    limit_by_education = credit_card_data.groupby('education_level')['limit_balance'].sum().sort_values(ascending=False).reset_index()\n",
    "    fig, ax = plt.subplots(figsize=(20, 10))\n",
    "\n",
    "    ax.bar(limit_by_education.education_level, limit_by_education.limit_balance, label=limit_by_education.limit_balance)\n",
    "\n",
    "    ax.set_ylabel('Education Level')\n",
    "    ax.set_title('Limit Balance')\n",
    "    ax.legend(title='Limit Balance menurut Education Level')\n",
    "    st.pyplot(fig, ax)\n",
    "\n",
    "    st.write(\"#### Limit Balance menurut Age\")\n",
    "    limit_by_age = credit_card_data.groupby('age')['limit_balance'].sum().sort_values(ascending=False).reset_index()\n",
    "    fig, ax = plt.subplots(figsize=(20, 10))\n",
    "\n",
    "    ax.bar(limit_by_age.age, limit_by_age.limit_balance)\n",
    "\n",
    "    ax.set_ylabel('Education Level')\n",
    "    ax.set_title('Limit Balance')\n",
    "    ax.legend(title='Limit Balance menurut Education Level')\n",
    "    st.pyplot(fig, ax)\n",
    "\n",
    "if __name__ == \"__main__\":\n",
    "    run()"
   ]
  },
  {
   "cell_type": "code",
   "execution_count": null,
   "id": "ed7d6d09-972e-4c9f-af9e-584b00ead7e9",
   "metadata": {},
   "outputs": [],
   "source": [
    "import streamlit as st\n",
    "import pandas as pd\n",
    "import numpy as np\n",
    "import json\n",
    "import pickle\n",
    "from sklearn import *\n",
    "\n",
    "with open('best_models_knc.pkl', 'rb') as file_3:\n",
    "  knc_model = pickle.load(file_3)\n",
    "\n",
    "with open('best_models_svc.pkl', 'rb') as file_6:\n",
    "  svc_model = pickle.load(file_6)\n",
    "\n",
    "with open('best_models_logreg.pkl', 'rb') as file_7:\n",
    "  logreg_model = pickle.load(file_7)\n",
    "\n",
    "def run():\n",
    "    st.title('Prediction Credit Card Default or Not')\n",
    "\n",
    "    with st.form('form_credit_card'):\n",
    "       limit_balance = st.slider('Limit Balance', min_value = 0, max_value = 500000, value = 150000, help='Slide limit balance anda')\n",
    "       pay_amt_1 = st.slider('Input Payment 1', min_value = 0, max_value = 300000, value = 150000, help='Slide jumlah payment pertama anda')\n",
    "       pay_amt_2 = st.slider('Input Payment 2', min_value = 0, max_value = 300000, value = 150000, help='Slide jumlah payment kedua anda')\n",
    "       pay_amt_3 = st.slider('Input Payment 3', min_value = 0, max_value = 300000, value = 150000, help='Slide jumlah payment ketiga anda')\n",
    "       pay_amt_4 = st.slider('Input Payment 4', min_value = 0, max_value = 300000, value = 150000, help='Slide jumlah payment keempat anda')\n",
    "       pay_amt_5 = st.slider('Input Payment 5', min_value = 0, max_value = 300000, value = 150000, help='Slide jumlah payment kelima anda')\n",
    "       pay_amt_6 = st.slider('Input Payment 6', min_value = 0, max_value = 300000, value = 150000, help='Slide jumlah payment keenam anda')\n",
    "       education_level = st.slider('Education Level', min_value = 0, max_value = 6, value = 3, help='Slide education level anda')\n",
    "       pay_0 = st.slider('Input Payment 1', min_value = -2, max_value = 9, value = 3, help='Slide status payment pertama anda')\n",
    "       pay_2 = st.slider('Input Payment 2', min_value = -2, max_value = 9, value = 3, help='Slide status payment kedua anda')\n",
    "       pay_3 = st.slider('Input Payment 3', min_value = -2, max_value = 9, value = 3, help='Slide status payment ketiga anda')\n",
    "       pay_4 = st.slider('Input Payment 4', min_value = -2, max_value = 9, value = 3, help='Slide status payment keempat anda')\n",
    "       pay_5 = st.slider('Input Payment 5', min_value = -2, max_value = 9, value = 3, help='Slide status payment kelima anda')\n",
    "       pay_6 = st.slider('Input Payment 6', min_value = -2, max_value = 9, value = 3, help='Slide status payment keenam anda')\n",
    "       bill_amt_1 = st.slider('Input Jumlah Tagihan 1', min_value = 0, max_value = 500000, value = 150000, help='Slide jumlah tagihan pertama anda')\n",
    "       bill_amt_2 = st.slider('Input Jumlah Tagihan 2', min_value = 0, max_value = 500000, value = 150000, help='Slide jumlah tagihan kedua anda')\n",
    "       bill_amt_3 = st.slider('Input Jumlah Tagihan 3', min_value = 0, max_value = 500000, value = 150000, help='Slide jumlah tagihan ketiga anda')\n",
    "       bill_amt_4 = st.slider('Input Jumlah Tagihan 4', min_value = 0, max_value = 500000, value = 150000, help='Slide jumlah tagihan keempat anda')\n",
    "       bill_amt_5 = st.slider('Input Jumlah Tagihan 5', min_value = 0, max_value = 500000, value = 150000, help='Slide jumlah tagihan kelima anda')\n",
    "       bill_amt_6 = st.slider('Input Jumlah Tagihan 6', min_value = 0, max_value = 300000, value = 150000, help='Slide jumlah tagihan keenam anda')\n",
    "\n",
    "       #submit button\n",
    "       submitted = st.form_submit_button('Predict')\n",
    "\n",
    "    data_inf = {\n",
    "    \"limit_balance\"  :               limit_balance,\n",
    "    \"pay_amt_1\"      :                pay_amt_1,\n",
    "    \"pay_amt_2\"      :                pay_amt_2,\n",
    "    \"pay_amt_3\"      :                pay_amt_3,\n",
    "    \"pay_amt_4\"      :                pay_amt_4,\n",
    "    \"pay_amt_5\"      :                pay_amt_5,\n",
    "    \"pay_amt_6\"      :                pay_amt_6,\n",
    "    \"education_level\":          education_level,\n",
    "    \"pay_0\"          :                   pay_0,\n",
    "    \"pay_2\"          :                   pay_2,\n",
    "    \"pay_3\"          :                   pay_3,\n",
    "    \"pay_4\"          :                   pay_4,\n",
    "    \"pay_5\"          :                   pay_5,\n",
    "    \"pay_6\"          :                   pay_6,\n",
    "    \"bill_amt_1\"     :               bill_amt_1,\n",
    "    \"bill_amt_2\"     :               bill_amt_2,\n",
    "    \"bill_amt_3\"     :               bill_amt_3,\n",
    "    \"bill_amt_4\"     :               bill_amt_4,\n",
    "    \"bill_amt_5\"     :               bill_amt_5,\n",
    "    \"bill_amt_6\"     :               bill_amt_6\n",
    "    }       \n",
    "\n",
    "    data_inf = pd.DataFrame([data_inf])\n",
    "    data_inf\n",
    "\n",
    "    if submitted:\n",
    "\n",
    "        y_pred_inf = logreg_model.predict(data_inf)\n",
    "        y_pred_inf\n",
    "\n",
    "        st.write('### Default Payment Next Month: ', str(int(y_pred_inf)))\n",
    "\n",
    "\n",
    "if __name__ == \"__main__\":\n",
    "    run()"
   ]
  }
 ],
 "metadata": {
  "kernelspec": {
   "display_name": "Python (myenv)",
   "language": "python",
   "name": "myenv"
  },
  "language_info": {
   "codemirror_mode": {
    "name": "ipython",
    "version": 3
   },
   "file_extension": ".py",
   "mimetype": "text/x-python",
   "name": "python",
   "nbconvert_exporter": "python",
   "pygments_lexer": "ipython3",
   "version": "3.11.5"
  },
  "widgets": {
   "application/vnd.jupyter.widget-state+json": {
    "state": {},
    "version_major": 2,
    "version_minor": 0
   }
  }
 },
 "nbformat": 4,
 "nbformat_minor": 5
}
