{
 "cells": [
  {
   "cell_type": "markdown",
   "id": "31996bf2-af46-4f62-8aa9-4dedfd11305c",
   "metadata": {},
   "source": [
    "# Pipeline for Credit card Prediction"
   ]
  },
  {
   "cell_type": "markdown",
   "id": "ab9444d4-0761-45e4-92eb-347085ebefe4",
   "metadata": {},
   "source": [
    "## Data Load & Understanding"
   ]
  },
  {
   "cell_type": "code",
   "execution_count": 1,
   "id": "b1d9dfc4-536f-446b-bb59-c5ee5a53617a",
   "metadata": {},
   "outputs": [
    {
     "data": {
      "text/html": [
       "\n",
       "            <div>\n",
       "                <ins><a href=\"https://ydata.ai/register\">Upgrade to ydata-sdk</a></ins>\n",
       "                <p>\n",
       "                    Improve your data and profiling with ydata-sdk, featuring data quality scoring, redundancy detection, outlier identification, text validation, and synthetic data generation.\n",
       "                </p>\n",
       "            </div>\n",
       "            "
      ],
      "text/plain": [
       "<IPython.core.display.HTML object>"
      ]
     },
     "metadata": {},
     "output_type": "display_data"
    }
   ],
   "source": [
    "%matplotlib inline\n",
    "\n",
    "import pandas as pd\n",
    "import numpy as np\n",
    "import matplotlib.pyplot as plt\n",
    "import seaborn as sns\n",
    "from ydata_profiling import ProfileReport\n",
    "import joblib\n",
    "\n",
    "import os, sys\n",
    "from pathlib import Path\n",
    "from IPython.display import display, Image \n",
    "sys.path.append(\"../../scripts\")\n",
    "\n",
    "\n",
    "from preprocessor import *\n",
    "from predict_risk import *\n",
    "from data_processing_framework import *\n"
   ]
  },
  {
   "cell_type": "code",
   "execution_count": null,
   "id": "fe113a40-6b09-428c-ad13-9fbf7549cd59",
   "metadata": {
    "scrolled": true
   },
   "outputs": [
    {
     "name": "stdout",
     "output_type": "stream",
     "text": [
      "📦 Fetching Kaggle dataset: rikdifos/credit-card-approval-prediction\n",
      "Dataset URL: https://www.kaggle.com/datasets/rikdifos/credit-card-approval-prediction\n"
     ]
    },
    {
     "data": {
      "application/vnd.jupyter.widget-view+json": {
       "model_id": "e7f3d81b434e4c8c9234b50004babde1",
       "version_major": 2,
       "version_minor": 0
      },
      "text/plain": [
       "Dropdown(description='Select File:', options=('application_record.csv', 'credit_record.csv'), value='applicati…"
      ]
     },
     "metadata": {},
     "output_type": "display_data"
    },
    {
     "data": {
      "application/vnd.jupyter.widget-view+json": {
       "model_id": "73faec37b08a49bbb09f2cea70c48692",
       "version_major": 2,
       "version_minor": 0
      },
      "text/plain": [
       "Button(description='📥 Load Selected File', style=ButtonStyle())"
      ]
     },
     "metadata": {},
     "output_type": "display_data"
    },
    {
     "data": {
      "application/vnd.jupyter.widget-view+json": {
       "model_id": "dda173fe5f4d43b0b9d39a627f0abfee",
       "version_major": 2,
       "version_minor": 0
      },
      "text/plain": [
       "Output()"
      ]
     },
     "metadata": {},
     "output_type": "display_data"
    },
    {
     "name": "stdout",
     "output_type": "stream",
     "text": [
      "🔄 Select a file to load individually. You can rerun to load others.\n"
     ]
    }
   ],
   "source": [
    "path = \"rikdifos/credit-card-approval-prediction\"\n",
    "result = fetch_kaggle_dataset_by_path(path, temp_dir=\".temp_kaggle\")"
   ]
  },
  {
   "cell_type": "code",
   "execution_count": 3,
   "id": "9b9be2b4-d9fa-4019-818c-da998e7ca476",
   "metadata": {},
   "outputs": [
    {
     "data": {
      "application/vnd.microsoft.datawrangler.viewer.v0+json": {
       "columns": [
        {
         "name": "index",
         "rawType": "int64",
         "type": "integer"
        },
        {
         "name": "ID",
         "rawType": "int64",
         "type": "integer"
        },
        {
         "name": "CODE_GENDER",
         "rawType": "object",
         "type": "string"
        },
        {
         "name": "FLAG_OWN_CAR",
         "rawType": "object",
         "type": "string"
        },
        {
         "name": "FLAG_OWN_REALTY",
         "rawType": "object",
         "type": "string"
        },
        {
         "name": "CNT_CHILDREN",
         "rawType": "int64",
         "type": "integer"
        },
        {
         "name": "AMT_INCOME_TOTAL",
         "rawType": "float64",
         "type": "float"
        },
        {
         "name": "NAME_INCOME_TYPE",
         "rawType": "object",
         "type": "string"
        },
        {
         "name": "NAME_EDUCATION_TYPE",
         "rawType": "object",
         "type": "string"
        },
        {
         "name": "NAME_FAMILY_STATUS",
         "rawType": "object",
         "type": "string"
        },
        {
         "name": "NAME_HOUSING_TYPE",
         "rawType": "object",
         "type": "string"
        },
        {
         "name": "DAYS_BIRTH",
         "rawType": "int64",
         "type": "integer"
        },
        {
         "name": "DAYS_EMPLOYED",
         "rawType": "int64",
         "type": "integer"
        },
        {
         "name": "FLAG_MOBIL",
         "rawType": "int64",
         "type": "integer"
        },
        {
         "name": "FLAG_WORK_PHONE",
         "rawType": "int64",
         "type": "integer"
        },
        {
         "name": "FLAG_PHONE",
         "rawType": "int64",
         "type": "integer"
        },
        {
         "name": "FLAG_EMAIL",
         "rawType": "int64",
         "type": "integer"
        },
        {
         "name": "OCCUPATION_TYPE",
         "rawType": "object",
         "type": "unknown"
        },
        {
         "name": "CNT_FAM_MEMBERS",
         "rawType": "float64",
         "type": "float"
        }
       ],
       "ref": "4954755e-62b6-449d-bdc0-fea73dd26ed4",
       "rows": [
        [
         "0",
         "5008804",
         "M",
         "Y",
         "Y",
         "0",
         "427500.0",
         "Working",
         "Higher education",
         "Civil marriage",
         "Rented apartment",
         "-12005",
         "-4542",
         "1",
         "1",
         "0",
         "0",
         null,
         "2.0"
        ],
        [
         "1",
         "5008805",
         "M",
         "Y",
         "Y",
         "0",
         "427500.0",
         "Working",
         "Higher education",
         "Civil marriage",
         "Rented apartment",
         "-12005",
         "-4542",
         "1",
         "1",
         "0",
         "0",
         null,
         "2.0"
        ],
        [
         "2",
         "5008806",
         "M",
         "Y",
         "Y",
         "0",
         "112500.0",
         "Working",
         "Secondary / secondary special",
         "Married",
         "House / apartment",
         "-21474",
         "-1134",
         "1",
         "0",
         "0",
         "0",
         "Security staff",
         "2.0"
        ]
       ],
       "shape": {
        "columns": 18,
        "rows": 3
       }
      },
      "text/html": [
       "<div>\n",
       "<style scoped>\n",
       "    .dataframe tbody tr th:only-of-type {\n",
       "        vertical-align: middle;\n",
       "    }\n",
       "\n",
       "    .dataframe tbody tr th {\n",
       "        vertical-align: top;\n",
       "    }\n",
       "\n",
       "    .dataframe thead th {\n",
       "        text-align: right;\n",
       "    }\n",
       "</style>\n",
       "<table border=\"1\" class=\"dataframe\">\n",
       "  <thead>\n",
       "    <tr style=\"text-align: right;\">\n",
       "      <th></th>\n",
       "      <th>ID</th>\n",
       "      <th>CODE_GENDER</th>\n",
       "      <th>FLAG_OWN_CAR</th>\n",
       "      <th>FLAG_OWN_REALTY</th>\n",
       "      <th>CNT_CHILDREN</th>\n",
       "      <th>AMT_INCOME_TOTAL</th>\n",
       "      <th>NAME_INCOME_TYPE</th>\n",
       "      <th>NAME_EDUCATION_TYPE</th>\n",
       "      <th>NAME_FAMILY_STATUS</th>\n",
       "      <th>NAME_HOUSING_TYPE</th>\n",
       "      <th>DAYS_BIRTH</th>\n",
       "      <th>DAYS_EMPLOYED</th>\n",
       "      <th>FLAG_MOBIL</th>\n",
       "      <th>FLAG_WORK_PHONE</th>\n",
       "      <th>FLAG_PHONE</th>\n",
       "      <th>FLAG_EMAIL</th>\n",
       "      <th>OCCUPATION_TYPE</th>\n",
       "      <th>CNT_FAM_MEMBERS</th>\n",
       "    </tr>\n",
       "  </thead>\n",
       "  <tbody>\n",
       "    <tr>\n",
       "      <th>0</th>\n",
       "      <td>5008804</td>\n",
       "      <td>M</td>\n",
       "      <td>Y</td>\n",
       "      <td>Y</td>\n",
       "      <td>0</td>\n",
       "      <td>427500.0</td>\n",
       "      <td>Working</td>\n",
       "      <td>Higher education</td>\n",
       "      <td>Civil marriage</td>\n",
       "      <td>Rented apartment</td>\n",
       "      <td>-12005</td>\n",
       "      <td>-4542</td>\n",
       "      <td>1</td>\n",
       "      <td>1</td>\n",
       "      <td>0</td>\n",
       "      <td>0</td>\n",
       "      <td>NaN</td>\n",
       "      <td>2.0</td>\n",
       "    </tr>\n",
       "    <tr>\n",
       "      <th>1</th>\n",
       "      <td>5008805</td>\n",
       "      <td>M</td>\n",
       "      <td>Y</td>\n",
       "      <td>Y</td>\n",
       "      <td>0</td>\n",
       "      <td>427500.0</td>\n",
       "      <td>Working</td>\n",
       "      <td>Higher education</td>\n",
       "      <td>Civil marriage</td>\n",
       "      <td>Rented apartment</td>\n",
       "      <td>-12005</td>\n",
       "      <td>-4542</td>\n",
       "      <td>1</td>\n",
       "      <td>1</td>\n",
       "      <td>0</td>\n",
       "      <td>0</td>\n",
       "      <td>NaN</td>\n",
       "      <td>2.0</td>\n",
       "    </tr>\n",
       "    <tr>\n",
       "      <th>2</th>\n",
       "      <td>5008806</td>\n",
       "      <td>M</td>\n",
       "      <td>Y</td>\n",
       "      <td>Y</td>\n",
       "      <td>0</td>\n",
       "      <td>112500.0</td>\n",
       "      <td>Working</td>\n",
       "      <td>Secondary / secondary special</td>\n",
       "      <td>Married</td>\n",
       "      <td>House / apartment</td>\n",
       "      <td>-21474</td>\n",
       "      <td>-1134</td>\n",
       "      <td>1</td>\n",
       "      <td>0</td>\n",
       "      <td>0</td>\n",
       "      <td>0</td>\n",
       "      <td>Security staff</td>\n",
       "      <td>2.0</td>\n",
       "    </tr>\n",
       "  </tbody>\n",
       "</table>\n",
       "</div>"
      ],
      "text/plain": [
       "        ID CODE_GENDER FLAG_OWN_CAR FLAG_OWN_REALTY  CNT_CHILDREN  \\\n",
       "0  5008804           M            Y               Y             0   \n",
       "1  5008805           M            Y               Y             0   \n",
       "2  5008806           M            Y               Y             0   \n",
       "\n",
       "   AMT_INCOME_TOTAL NAME_INCOME_TYPE            NAME_EDUCATION_TYPE  \\\n",
       "0          427500.0          Working               Higher education   \n",
       "1          427500.0          Working               Higher education   \n",
       "2          112500.0          Working  Secondary / secondary special   \n",
       "\n",
       "  NAME_FAMILY_STATUS  NAME_HOUSING_TYPE  DAYS_BIRTH  DAYS_EMPLOYED  \\\n",
       "0     Civil marriage   Rented apartment      -12005          -4542   \n",
       "1     Civil marriage   Rented apartment      -12005          -4542   \n",
       "2            Married  House / apartment      -21474          -1134   \n",
       "\n",
       "   FLAG_MOBIL  FLAG_WORK_PHONE  FLAG_PHONE  FLAG_EMAIL OCCUPATION_TYPE  \\\n",
       "0           1                1           0           0             NaN   \n",
       "1           1                1           0           0             NaN   \n",
       "2           1                0           0           0  Security staff   \n",
       "\n",
       "   CNT_FAM_MEMBERS  \n",
       "0              2.0  \n",
       "1              2.0  \n",
       "2              2.0  "
      ]
     },
     "metadata": {},
     "output_type": "display_data"
    }
   ],
   "source": [
    "# load dataset 1\n",
    "appl_df = raw_df\n",
    "#appl_df = pd.read_csv(\"appl.csv\")\n",
    "display(appl_df.head(3))"
   ]
  },
  {
   "cell_type": "code",
   "execution_count": 3,
   "id": "0a7945f9-e3b2-490f-90b3-6b6734089455",
   "metadata": {},
   "outputs": [
    {
     "data": {
      "application/vnd.microsoft.datawrangler.viewer.v0+json": {
       "columns": [
        {
         "name": "index",
         "rawType": "int64",
         "type": "integer"
        },
        {
         "name": "Unnamed: 0",
         "rawType": "int64",
         "type": "integer"
        },
        {
         "name": "ID",
         "rawType": "int64",
         "type": "integer"
        },
        {
         "name": "MONTHS_BALANCE",
         "rawType": "int64",
         "type": "integer"
        },
        {
         "name": "STATUS",
         "rawType": "object",
         "type": "string"
        }
       ],
       "ref": "96606c1c-c1fd-40b4-8532-df8442c19d75",
       "rows": [
        [
         "0",
         "0",
         "5001711",
         "0",
         "X"
        ],
        [
         "1",
         "1",
         "5001711",
         "-1",
         "0"
        ],
        [
         "2",
         "2",
         "5001711",
         "-2",
         "0"
        ]
       ],
       "shape": {
        "columns": 4,
        "rows": 3
       }
      },
      "text/html": [
       "<div>\n",
       "<style scoped>\n",
       "    .dataframe tbody tr th:only-of-type {\n",
       "        vertical-align: middle;\n",
       "    }\n",
       "\n",
       "    .dataframe tbody tr th {\n",
       "        vertical-align: top;\n",
       "    }\n",
       "\n",
       "    .dataframe thead th {\n",
       "        text-align: right;\n",
       "    }\n",
       "</style>\n",
       "<table border=\"1\" class=\"dataframe\">\n",
       "  <thead>\n",
       "    <tr style=\"text-align: right;\">\n",
       "      <th></th>\n",
       "      <th>Unnamed: 0</th>\n",
       "      <th>ID</th>\n",
       "      <th>MONTHS_BALANCE</th>\n",
       "      <th>STATUS</th>\n",
       "    </tr>\n",
       "  </thead>\n",
       "  <tbody>\n",
       "    <tr>\n",
       "      <th>0</th>\n",
       "      <td>0</td>\n",
       "      <td>5001711</td>\n",
       "      <td>0</td>\n",
       "      <td>X</td>\n",
       "    </tr>\n",
       "    <tr>\n",
       "      <th>1</th>\n",
       "      <td>1</td>\n",
       "      <td>5001711</td>\n",
       "      <td>-1</td>\n",
       "      <td>0</td>\n",
       "    </tr>\n",
       "    <tr>\n",
       "      <th>2</th>\n",
       "      <td>2</td>\n",
       "      <td>5001711</td>\n",
       "      <td>-2</td>\n",
       "      <td>0</td>\n",
       "    </tr>\n",
       "  </tbody>\n",
       "</table>\n",
       "</div>"
      ],
      "text/plain": [
       "   Unnamed: 0       ID  MONTHS_BALANCE STATUS\n",
       "0           0  5001711               0      X\n",
       "1           1  5001711              -1      0\n",
       "2           2  5001711              -2      0"
      ]
     },
     "metadata": {},
     "output_type": "display_data"
    }
   ],
   "source": [
    "# load dataset 2\n",
    "#crdt_df = raw_df\n",
    "crdt_df = pd.read_csv(\"crdt.csv\")\n",
    "display(crdt_df.head(3))"
   ]
  },
  {
   "cell_type": "markdown",
   "id": "58b9e7a0-09b5-47f3-9dbd-0db2df978902",
   "metadata": {
    "jp-MarkdownHeadingCollapsed": true
   },
   "source": [
    "###  Dataset Overview"
   ]
  },
  {
   "cell_type": "markdown",
   "id": "7f2728cf-d23e-4d49-a26d-5eee58cef092",
   "metadata": {},
   "source": [
    "appl_df — Application Data (per customer): Contains:\n",
    "- Demographics and application info\n",
    "- Key columns: ID, CODE_GENDER, AMT_INCOME_TOTAL, DAYS_BIRTH, DAYS_EMPLOYED, etc.\n",
    "\n",
    "crdt_df — Credit History Data (per record/month): Contains:\n",
    "- Credit status over time for each ID\n",
    "- Columns: ID, MONTHS_BALANCE, STATUS (e.g., '0', '1', 'C', 'X')"
   ]
  },
  {
   "cell_type": "markdown",
   "id": "1524668b-a16c-4217-9d85-2defaa79c4b3",
   "metadata": {
    "jp-MarkdownHeadingCollapsed": true
   },
   "source": [
    "## Project Goal"
   ]
  },
  {
   "cell_type": "markdown",
   "id": "d8e41c22-94f3-45aa-a817-231d9701efe8",
   "metadata": {},
   "source": [
    "1. Merge both datasets\n",
    "2. Create a target: is_high_risk (from latest STATUS per ID)\n",
    "3. Preprocesses application data\n",
    "4. Build and train a pipeline model\n",
    "5. Save the pipeline and model\n",
    "6. Make predictions on raw application forms"
   ]
  },
  {
   "cell_type": "markdown",
   "id": "7d5a8f0b-a13a-41ef-a799-b71108db3a31",
   "metadata": {},
   "source": [
    "## Data Preparation + Target Creation."
   ]
  },
  {
   "cell_type": "markdown",
   "id": "43d7e20a-e199-4d43-a339-56335d053f99",
   "metadata": {},
   "source": [
    "### Step 1: Map credit STATUS codes to risk levels"
   ]
  },
  {
   "cell_type": "code",
   "execution_count": null,
   "id": "7523cc66-265a-4533-b48a-c3608770a5dc",
   "metadata": {},
   "outputs": [],
   "source": [
    "# Step 1.1: Map credit STATUS codes to risk levels\n",
    "status_severity = {\n",
    "    '5': 7,  # Overdue >150 days\n",
    "    '4': 6,\n",
    "    '3': 5,\n",
    "    '2': 4,\n",
    "    '1': 3,\n",
    "    '0': 2,  # Some delay\n",
    "    'C': 1,  # Closed\n",
    "    'X': 0   # No loan\n",
    "}\n",
    "\n",
    "# Step 1.2: Get the most recent status per ID\n",
    "latest_status = crdt_df.sort_values(['ID', 'MONTHS_BALANCE'], ascending=[True, False])\n",
    "latest_status = latest_status.drop_duplicates(subset=['ID'], keep='first')\n",
    "\n",
    "# Step 1.3: Define is_high_risk = 1 if most recent status in ['1','2','3','4','5']\n",
    "latest_status['is_high_risk'] = latest_status['STATUS'].isin(['1', '2', '3', '4', '5']).astype(int)\n",
    "\n",
    "# Step 1.4: Create account age (in months)\n",
    "account_age = crdt_df.groupby('ID')['MONTHS_BALANCE'].min().abs()\n",
    "latest_status['account_age_months'] = latest_status['ID'].map(account_age)\n",
    "\n",
    "# Final target table\n",
    "target_df = latest_status[['ID', 'is_high_risk', 'account_age_months']]"
   ]
  },
  {
   "cell_type": "markdown",
   "id": "e4117796-4cff-40d5-ba80-8e504a1ec15f",
   "metadata": {},
   "source": [
    "### Step 2: Merge target into application data"
   ]
  },
  {
   "cell_type": "code",
   "execution_count": null,
   "id": "e215c00e-d55d-438b-b9e9-03ecd59aa7e0",
   "metadata": {},
   "outputs": [],
   "source": [
    "# Step 2: Merge target into application data\n",
    "# Merge target with application data\n",
    "merged_df = appl_df.merge(target_df, on='ID', how='inner')\n",
    "\n",
    "# Drop columns we won’t use\n",
    "merged_df.drop(columns=['Unnamed: 0'], inplace=True, errors='ignore')\n",
    "\n",
    "# Preview\n",
    "print(merged_df.shape)\n",
    "merged_df.head()"
   ]
  },
  {
   "cell_type": "markdown",
   "id": "edee4cf5-93c6-4fdb-8193-82a28af0dd3b",
   "metadata": {},
   "source": [
    "## Feature Selection"
   ]
  },
  {
   "cell_type": "markdown",
   "id": "bffaa47a-d9bf-49b7-9ccf-ff41002e9071",
   "metadata": {},
   "source": [
    "### Ensure binary target and Select Features using CHI_SQUARE and ANOVA Tests"
   ]
  },
  {
   "cell_type": "code",
   "execution_count": null,
   "id": "22a18add-c278-47b6-8b1f-46d2692a3ffc",
   "metadata": {},
   "outputs": [],
   "source": [
    "# Ensure binary target\n",
    "merged_df['is_high_risk'] = merged_df['is_high_risk'].astype(int)\n",
    "\n",
    "# Step 1: Detect column types\n",
    "detected = detect_columns(merged_df)\n",
    "display(detected)\n",
    "\n",
    "# Extract column groups\n",
    "config = {\n",
    "    \"binary\": detected.loc[detected[\"Category\"] == \"Binary\", \"Columns\"].values[0],\n",
    "    \"multi_cat\": detected.loc[detected[\"Category\"] == \"Multi-Category\", \"Columns\"].values[0],\n",
    "    \"numeric\": detected.loc[detected[\"Category\"] == \"Numerical\", \"Columns\"].values[0],\n",
    "}\n",
    "\n",
    "# Step 2: Chi-square test for categorical (binary + multi)\n",
    "cat_cols = config[\"binary\"] + config[\"multi_cat\"]\n",
    "chi_results = chi_square_test_batch(merged_df, cat_cols, target_column=\"is_high_risk\", plot=False)\n",
    "significant_cat = chi_results[chi_results[\"significant\"]][\"feature\"].tolist()\n",
    "\n",
    "# Step 3: ANOVA for numerical columns\n",
    "anova_results = anova_test_numerical_features(merged_df, target_column=\"is_high_risk\", plot=False)\n",
    "significant_num = anova_results[anova_results[\"significant\"]][\"feature\"].tolist()\n",
    "\n",
    "# Combine selected features\n",
    "selected_features = significant_cat + significant_num\n",
    "print(\"✅ Selected features:\", selected_features)"
   ]
  },
  {
   "cell_type": "code",
   "execution_count": null,
   "id": "7e2ad432-5557-43d8-b6d8-bb8c4bb1d5fe",
   "metadata": {},
   "outputs": [],
   "source": [
    "#importance_df = merged_df.copy()\n",
    "importance_df = merged_df.copy().drop(columns=['ID', 'OCCUPATION_TYPE', 'account_age_months'])\n",
    "importance_df = compute_combined_feature_importance(\n",
    "    importance_df,\n",
    "    target_column='is_high_risk',\n",
    "    top_n=10,\n",
    "    plot=True\n",
    ")\n",
    "\n",
    "#print(importance_df)"
   ]
  },
  {
   "cell_type": "markdown",
   "id": "6c2b73cb-2854-4d49-92b1-63273dbfd655",
   "metadata": {},
   "source": [
    "### Include Domain Knowledge Features with Significant Features"
   ]
  },
  {
   "cell_type": "markdown",
   "id": "a622776d-647a-44f8-9a1e-d5f59dbca396",
   "metadata": {},
   "source": [
    "Since account_age_months is derived from the same credit history used to generate is_high_risk, using it as a feature would leak information from the target generation process. **Remove account_age_months from the training features to prevent label leakage and potential overfitting and FLAG_MOBILE (only 1 unique value)**\n",
    "\n",
    "✅ Best practice: Add domain-informed features that are: Easy to compute, Not derived from the credit history (i.e., safe to use), Known to influence credit risk\n",
    "\n",
    "Recommended Additional Features:\n",
    "[\n",
    "    'AMT_INCOME_TOTAL',\n",
    "    'DAYS_BIRTH',\n",
    "    'DAYS_EMPLOYED',\n",
    "    'NAME_INCOME_TYPE',\n",
    "    'NAME_FAMILY_STATUS',\n",
    "    'NAME_EDUCATION_TYPE',\n",
    "    'CNT_CHILDREN',\n",
    "     'FLAG_OWN_CAR', \n",
    "    'FLAG_PHONE',\n",
    "    'FLAG_OWN_REALTY'\n",
    "]"
   ]
  },
  {
   "cell_type": "code",
   "execution_count": null,
   "id": "b4d88077-d4c5-4e6f-a3a5-2f2e7334b0aa",
   "metadata": {
    "scrolled": true
   },
   "outputs": [],
   "source": [
    "domain_features = [ 'AMT_INCOME_TOTAL', 'DAYS_BIRTH', 'DAYS_EMPLOYED', 'NAME_INCOME_TYPE', 'NAME_FAMILY_STATUS', 'NAME_EDUCATION_TYPE', 'CNT_CHILDREN', 'FLAG_OWN_CAR', 'FLAG_PHONE', 'FLAG_OWN_REALTY' ]\n",
    "features = selected_features + domain_features\n",
    "\n",
    "df = merged_df[features + ['is_high_risk']].copy()\n",
    "df.drop(columns=['account_age_months'], inplace=True)\n",
    "df.head()\n"
   ]
  },
  {
   "cell_type": "markdown",
   "id": "0c42f5a1-5d20-4631-b099-b8a4e481665b",
   "metadata": {},
   "source": [
    "## Data Preprocessing"
   ]
  },
  {
   "cell_type": "markdown",
   "id": "b4370f50-aeae-4760-a4b1-92a54d3b691a",
   "metadata": {},
   "source": [
    "### Initial EDA / Data Quality Checks"
   ]
  },
  {
   "cell_type": "code",
   "execution_count": null,
   "id": "7eeb88b0-cc74-4705-aa9d-a303b45ff38f",
   "metadata": {
    "scrolled": true
   },
   "outputs": [],
   "source": [
    "# EDA report using ydata_profiling\n",
    "profile = ProfileReport(df, title=\"Credit Card Approval EDA\", explorative=True)\n",
    "#profile.to_file(\"reports_html\\Credit_Card_Approval_eda_report.html\")\n",
    "profile.to_notebook_iframe()"
   ]
  },
  {
   "cell_type": "markdown",
   "id": "ef1a218d-ec36-47b3-b686-dfa2cb83a725",
   "metadata": {},
   "source": [
    "📊 Profile-Driven Cleaning Required:\n",
    "| Column                        | Issue                | Action                |\n",
    "| ----------------------------- | -------------------- | --------------------- |\n",
    "| `CNT_CHILDREN`                | Outliers, high corr. | Cap, keep             |\n",
    "| `AMT_INCOME_TOTAL`            | Skewed, outliers     | Cube root + cap       |\n",
    "| `DAYS_BIRTH`, `DAYS_EMPLOYED` | Skewed               | Convert to years, cap |\n",
    "| `NAME_*` features             | Rare categories      | Group \"Other\"     \n",
    "|`is_high_risk`  |Imbalanced target|Use class weighting or SMOTE|     |\n",
    "   |\n"
   ]
  },
  {
   "cell_type": "markdown",
   "id": "47915aab-c2c9-4a6b-a2b6-58454a095539",
   "metadata": {},
   "source": [
    "### Clean the raw data"
   ]
  },
  {
   "cell_type": "code",
   "execution_count": null,
   "id": "e407721c-680d-476a-b88b-028befeca39a",
   "metadata": {},
   "outputs": [],
   "source": [
    "# Clean the raw data\n",
    "def clean_credit_data(df):\n",
    "    df = df.copy()\n",
    "\n",
    "    # Convert DAYS_BIRTH and DAYS_EMPLOYED to years\n",
    "    df['AGE_YEARS'] = (-df['DAYS_BIRTH'] / 365).round(1)\n",
    "    df['EMPLOYMENT_YEARS'] = df['DAYS_EMPLOYED'].apply(lambda x: 0 if x > 0 else round(abs(x) / 365, 1))\n",
    "    df.drop(columns=['DAYS_BIRTH', 'DAYS_EMPLOYED'], inplace=True)\n",
    "\n",
    "    # Cap outliers (based on profile insight)\n",
    "    df = cap_outliers(df, \"CNT_CHILDREN\")\n",
    "\n",
    "    # Apply cube root to skewed numerical columns\n",
    "    df = transform_skewed_columns(df, ['AMT_INCOME_TOTAL', 'AGE_YEARS' ,'EMPLOYMENT_YEARS'], method='cbrt')\n",
    "\n",
    "    # Group rare categories into 'Other' for high-cardinality categoricals\n",
    "    rare_threshold = 0.01 * len(df)\n",
    "    for col in ['NAME_INCOME_TYPE', 'NAME_EDUCATION_TYPE', 'NAME_HOUSING_TYPE']:\n",
    "        freq = df[col].value_counts()\n",
    "        rare_vals = freq[freq < rare_threshold].index\n",
    "        df[col] = df[col].replace(rare_vals, 'Other')\n",
    "\n",
    "    return df"
   ]
  },
  {
   "cell_type": "markdown",
   "id": "3bff2993-d711-46c8-ac53-48d4fd3ab593",
   "metadata": {},
   "source": [
    "## Build PreprocessingPipeline using ColumnTransformer"
   ]
  },
  {
   "cell_type": "markdown",
   "id": "9f6d693d-8ac3-4324-b15a-976e3708c3cb",
   "metadata": {},
   "source": [
    "### Define Feature Columns & Select Models for Training"
   ]
  },
  {
   "cell_type": "code",
   "execution_count": null,
   "id": "7ea555b1-f11c-4579-a33b-e7f41483f6e3",
   "metadata": {},
   "outputs": [],
   "source": [
    "# Define feature columns\n",
    "binary_features = ['CODE_GENDER', 'FLAG_EMAIL']\n",
    "categorical_features = ['NAME_INCOME_TYPE', 'NAME_FAMILY_STATUS', 'NAME_EDUCATION_TYPE', 'NAME_HOUSING_TYPE']\n",
    "numeric_features = ['AMT_INCOME_TOTAL', 'AGE_YEARS', 'EMPLOYMENT_YEARS', 'CNT_CHILDREN']\n",
    "all_features = binary_features + categorical_features + numeric_features\n",
    "\n",
    "selected_models = [\n",
    "    \"Logistic Regression\",     #  Baseline + interpretable\n",
    "    \"Random Forest\",           #  Robust, handles nonlinearity\n",
    "    \"XGBoost\",                 #  Highly performant, handles imbalance\n",
    "    \"LightGBM\",                #  Fast and scalable, similar to XGBoost\n",
    "    \"CatBoost\",                #  Categorical-friendly, no OHE needed\n",
    "    \"Gradient Boosting\"        #  Solid traditional boosting\n",
    "]"
   ]
  },
  {
   "cell_type": "markdown",
   "id": "d4026ef6-46ae-4dec-84ad-55897302786c",
   "metadata": {},
   "source": [
    "### Define Train Pipeline Function"
   ]
  },
  {
   "cell_type": "markdown",
   "id": "8109cb2d-071e-41a0-9566-4e7eb8e22199",
   "metadata": {},
   "source": [
    "> Since the objective of this problem is to minimize the risk of credit default for the financial institution, there is always a trade-off between precision and recall. Choosing the right metrics depends on the problem being solved. In our case, we will use recall as our metric with a fall back to F1_Score if tied."
   ]
  },
  {
   "cell_type": "code",
   "execution_count": null,
   "id": "814e9d0b-82ed-4db4-8f59-ba833fc07efd",
   "metadata": {},
   "outputs": [],
   "source": [
    "def train_and_save_best_pipeline(df: pd.DataFrame, features, binary_features, categorical_features, numeric_features, selected_models, target: str = 'is_high_risk'):\n",
    "\n",
    "    print(\"🔄 Cleaning and preprocessing input data...\")\n",
    "    df_cleaned = clean_credit_data(df)\n",
    "\n",
    "    print(\"✅ Data cleaning complete. Preparing features and target...\")\n",
    "    \n",
    "    X = df_cleaned[features]\n",
    "    y = df_cleaned[target]\n",
    "\n",
    "    preprocessor = ColumnTransformer([\n",
    "        ('bin', OrdinalEncoder(), binary_features),\n",
    "        ('cat', OneHotEncoder(handle_unknown='ignore', sparse_output=False), categorical_features),\n",
    "        ('num', MinMaxScaler(), numeric_features)\n",
    "    ])\n",
    "\n",
    "    print(\"\\n=== Splitting data and applying preprocessing...\")\n",
    "    X_train, X_test, y_train, y_test = train_test_split(X, y, stratify=y, random_state=42)\n",
    "    X_train_prep = pd.DataFrame(\n",
    "            preprocessor.fit_transform(X_train),\n",
    "            columns=preprocessor.get_feature_names_out(),\n",
    "            index=X_train.index\n",
    "        )\n",
    "    X_test_prep = pd.DataFrame(\n",
    "            preprocessor.transform(X_test),\n",
    "            columns=preprocessor.get_feature_names_out(),\n",
    "            index=X_test.index\n",
    "        )\n",
    "\n",
    "    #smote = SMOTE(random_state=42)\n",
    "    print(\"\\n=== Applying SMOTE to balance training data...\")\n",
    "   # X_train_bal, y_train_bal = smote.fit_resample(X_train_prep, y_train)\n",
    "    X_train_bal, y_train_bal = balance_classes_smote(X_train_prep, y_train)\n",
    "    print(y_train_bal.value_counts())\n",
    "\n",
    "    print(\"\\n=== Training and evaluating models...\")\n",
    "    results, trained_models = train_and_evaluate_models(X_train_bal, y_train_bal, selected_models=selected_models)\n",
    "\n",
    "    print(\"\\n=== Model training complete. Selecting best model using Recall...\")\n",
    "    results_df = results_to_dataframe(results).sort_values(\"Recall (1)\", ascending=False)\n",
    "    best_model_name = results_df.sort_values(\"F1-score (1)\", ascending=False).iloc[0][\"Model\"]\n",
    "    best_model = trained_models[best_model_name]\n",
    "\n",
    "    print(\"\\n=== Model training complete. Selecting best model...\")\n",
    "    results_df = results_to_dataframe(results).sort_values(\"Recall (1)\", ascending=False)\n",
    "    top_recall = results_df.iloc[0]['Recall (1)']\n",
    "    top_models = results_df[results_df['Recall (1)'] == top_recall]\n",
    "    top_models = top_models.sort_values(\"F1-score (1)\", ascending=False)\n",
    "    best_model_name = top_models.iloc[0]['Model']  # pick highest recall, break ties by F1-score  # still pick the first as tie breaker\n",
    "    best_model = trained_models[best_model_name]\n",
    "\n",
    "\n",
    "    print(\"\\n=== Saving best model...\")\n",
    "    joblib.dump(preprocessor, \"cc_risk_preprocessor.joblib\")\n",
    "    model_path = f\"cc_risk_model_{best_model_name.lower().replace(' ', '_')}.joblib\"\n",
    "    joblib.dump(best_model, model_path)\n",
    "    with open(\"cc_risk_model_path.txt\", \"w\") as f:\n",
    "        f.write(model_path)\n",
    "\n",
    "    print(\"\\n=== Preprocessor and best model saved.\")\n",
    "    print(f\"🏆 Best model: {best_model_name}\")\n",
    "    print(f\"📦 Model path: {model_path}\")\n",
    "    print(\"\\n*** Top models by Recall (1):\")\n",
    "    print(top_models[['Model', 'Recall (1)', 'F1-score (1)']].to_string(index=False))\n",
    "    print(\"\\n*** All model's output\")\n",
    "    display(results_df)\n",
    "    \n",
    "    return results, best_model_name"
   ]
  },
  {
   "cell_type": "markdown",
   "id": "4caf9a99-6fa1-48f2-a62b-523884bbe957",
   "metadata": {},
   "source": [
    "### Train & Save Best Model"
   ]
  },
  {
   "cell_type": "code",
   "execution_count": null,
   "id": "1d271545-3ed7-4ae2-b8a6-f5db1e1fce95",
   "metadata": {
    "scrolled": true
   },
   "outputs": [],
   "source": [
    "results_dict, best_model_name = train_and_save_best_pipeline(df, all_features, binary_features, categorical_features, numeric_features, selected_models, 'is_high_risk')   \n"
   ]
  },
  {
   "cell_type": "markdown",
   "id": "935fd718-e45e-4bbe-a38d-ec93aa1a27cd",
   "metadata": {},
   "source": [
    "### Read best model result to generate insights"
   ]
  },
  {
   "cell_type": "code",
   "execution_count": null,
   "id": "bf690bc6-5c76-49a8-b1d4-86e7014468a9",
   "metadata": {},
   "outputs": [],
   "source": [
    "print(\"Available model keys:\", list(results_dict.keys()))\n",
    "print(\"Best model selected:\", best_model_name)\n"
   ]
  },
  {
   "cell_type": "code",
   "execution_count": null,
   "id": "5e9d4a3c-2e7c-4df6-b2ba-51184bac9ed6",
   "metadata": {},
   "outputs": [],
   "source": [
    "# Load the best saved risk model\n",
    "with open(\"cc_risk_model_path.txt\", \"r\") as f:\n",
    "    model_path = f.read().strip()\n",
    "    best_model = joblib.load(model_path)\n",
    "\n",
    "# Extract confusion matrix\n",
    "conf_matrix = results_dict[best_model_name][\"confusion_matrix\"]\n",
    "tn, fp, fn, tp = conf_matrix.ravel() if hasattr(conf_matrix, \"ravel\") else sum(conf_matrix, [])"
   ]
  },
  {
   "cell_type": "markdown",
   "id": "11f9796a-7f9b-4e0f-a456-f13ced13cc29",
   "metadata": {},
   "source": [
    "## Business Findings and Recommendations"
   ]
  },
  {
   "cell_type": "markdown",
   "id": "e1399966-d4d8-4d2a-b780-faaeb977e2b5",
   "metadata": {},
   "source": [
    "---\n",
    "- **Typical profile of an applicant is:**\n",
    "> *a Female in her early 40s, married with a partner and no child. She has been employed for 5 years with a salary of 157,500. She has completed her secondary education. She does not own a car but owns a property (a house/apartment). Her account is 26 months old.*\n",
    "---"
   ]
  },
  {
   "cell_type": "code",
   "execution_count": null,
   "id": "fb7a518d-1c73-4593-9944-164d03b4f351",
   "metadata": {
    "jupyter": {
     "source_hidden": true
    }
   },
   "outputs": [],
   "source": [
    "print(f\"\\n🏆 Best Model: {best_model_name}\\n\")\n",
    "print(f\"\"\"\n",
    "📊 Actionable Insights (Credit Card Approval Risk Prediction)\n",
    "\n",
    "✅ Approve low-risk customers confidently (TN): {tn}\n",
    "   → Correctly predicted as low-risk. Proceed with approval.\n",
    "\n",
    "🚫 Block high-risk applications effectively (TP): {tp}\n",
    "   → Correctly flagged as high-risk. Decline or refer for manual review.\n",
    "\n",
    "⚠️ Missed high-risk approvals (FN): {fn}\n",
    "   → High-risk customers approved. Investigate features or retrain to reduce false negatives.\n",
    "\n",
    "📉 Unnecessary rejections (FP): {fp}\n",
    "   → Low-risk applicants incorrectly flagged. Consider tuning threshold or feature set.\n",
    "\"\"\")"
   ]
  },
  {
   "cell_type": "markdown",
   "id": "904e9b52-fec9-4b7b-ad1e-2346c8e276c8",
   "metadata": {},
   "source": [
    " ## Predict New Data Using the Best Model"
   ]
  },
  {
   "cell_type": "markdown",
   "id": "201b1b23-5482-4b2b-b27e-31e6134976b9",
   "metadata": {},
   "source": [
    "### Define predict_on_raw Function"
   ]
  },
  {
   "cell_type": "code",
   "execution_count": null,
   "id": "22d489a8-96b3-4062-b95f-451cc92cf0f6",
   "metadata": {},
   "outputs": [],
   "source": [
    "def predict_on_raw(raw_df: pd.DataFrame):\n",
    "    print(\"\\n=== Loading saved model and preprocessor...\")\n",
    "    preprocessor = joblib.load(\"cc_risk_preprocessor.joblib\")\n",
    "    with open(\"cc_risk_model_path.txt\", \"r\") as f:\n",
    "        model_path = f.read().strip()\n",
    "    model = joblib.load(model_path)\n",
    "\n",
    "    print(\"\\n=== Cleaning and transforming raw input...\")\n",
    "    df_cleaned = clean_credit_data(raw_df)\n",
    "\n",
    "    # Dynamically infer all features except target\n",
    "    features = df_cleaned.columns.difference(['is_high_risk']).tolist()\n",
    "    X_input = df_cleaned[features]\n",
    "\n",
    "    X_prepped = pd.DataFrame(\n",
    "        preprocessor.transform(X_input),\n",
    "        columns=preprocessor.get_feature_names_out(),\n",
    "        index=X_input.index\n",
    "    )\n",
    "\n",
    "    print(\"\\n🔮 Making predictions...\")\n",
    "    predictions = model.predict(X_prepped)\n",
    "    probabilities = model.predict_proba(X_prepped)[:, 1]\n",
    "\n",
    "    # ✅ Labeled and formatted output\n",
    "    result = pd.DataFrame({\n",
    "        \"prediction_label\": predictions,\n",
    "        \"risk_probability (%)\": (probabilities * 100).round(2)\n",
    "    })\n",
    "    result[\"risk_category\"] = result[\"prediction_label\"].map({0: \"Low Risk\", 1: \"High Risk\"})\n",
    "\n",
    "    return result\n"
   ]
  },
  {
   "cell_type": "code",
   "execution_count": null,
   "id": "543093bd-83c2-41e7-887b-0be4547ba45c",
   "metadata": {},
   "outputs": [],
   "source": [
    "def predict_on_raw(raw_df: pd.DataFrame):\n",
    "    \n",
    "    print(\"\\n📥 Loading saved model and preprocessor...\")\n",
    "    preprocessor = joblib.load(\"cc_risk_preprocessor.joblib\")\n",
    "    with open(\"cc_risk_model_path.txt\", \"r\") as f:\n",
    "        model_path = f.read().strip()\n",
    "    model = joblib.load(model_path)  # or set dynamically based on what's saved\n",
    "\n",
    "    print(\"\\n🧼 Cleaning and transforming raw input...\")\n",
    "    df_cleaned = clean_credit_data(raw_df)\n",
    "    \n",
    "    # Dynamically infer all features except target\n",
    "    features = df_cleaned.columns.difference(['is_high_risk']).tolist()\n",
    "    X_input = df_cleaned[features]\n",
    "\n",
    "    X_input = df_cleaned[features]\n",
    "    X_prepped = pd.DataFrame(\n",
    "        preprocessor.transform(X_input),\n",
    "        columns=preprocessor.get_feature_names_out(),\n",
    "        index=X_input.index\n",
    "    )\n",
    "\n",
    "    print(\"\\n🔮 Making predictions...\")\n",
    "    predictions = model.predict(X_prepped)\n",
    "    probabilities = model.predict_proba(X_prepped)[:, 1]\n",
    "    print(\"\\nPredicted probabilities:\", probabilities.round(4))\n",
    "\n",
    "    # Apply custom threshold\n",
    "    threshold = 0.9 # You can tune this\n",
    "    predictions = (probabilities >= threshold).astype(int)\n",
    "\n",
    "    result = pd.DataFrame({\n",
    "        \"prediction_label\": predictions,\n",
    "        \"risk_probability (%)\": (probabilities * 100).round(2)\n",
    "    })\n",
    "    result[\"risk_category\"] = result[\"prediction_label\"].map({0: \"Low Risk\", 1: \"High Risk\"})\n",
    "    return result"
   ]
  },
  {
   "cell_type": "markdown",
   "id": "c588f20d-d8b5-4cd3-a720-3ec9e633b530",
   "metadata": {},
   "source": [
    "### Import raw data or read from file /df"
   ]
  },
  {
   "cell_type": "code",
   "execution_count": null,
   "id": "4c61379d-f2ba-4371-afca-10b162af461a",
   "metadata": {},
   "outputs": [],
   "source": [
    "raw_data = pd.DataFrame([{\n",
    "    \"CODE_GENDER\": \"M\",\n",
    "    \"FLAG_EMAIL\": 0,\n",
    "    \"NAME_INCOME_TYPE\": \"Working\",\n",
    "    \"NAME_FAMILY_STATUS\": \"Single\",\n",
    "    \"NAME_EDUCATION_TYPE\": \"Higher education\",\n",
    "    \"NAME_HOUSING_TYPE\": \"House / apartment\",\n",
    "    \"AMT_INCOME_TOTAL\": 120000,\n",
    "    \"DAYS_BIRTH\": -12000,\n",
    "    \"DAYS_EMPLOYED\": -3000,\n",
    "    \"CNT_CHILDREN\": 5\n",
    "}])\n",
    "\n",
    "\n",
    "mraw_data = pd.DataFrame([\n",
    "    {\n",
    "        \"CODE_GENDER\": \"M\",\n",
    "        \"FLAG_EMAIL\": 0,\n",
    "        \"NAME_INCOME_TYPE\": \"Working\",\n",
    "        \"NAME_FAMILY_STATUS\": \"Single\",\n",
    "        \"NAME_EDUCATION_TYPE\": \"Higher education\",\n",
    "        \"NAME_HOUSING_TYPE\": \"House / apartment\",\n",
    "        \"AMT_INCOME_TOTAL\": 120000,\n",
    "        \"DAYS_BIRTH\": -12000,\n",
    "        \"DAYS_EMPLOYED\": -3000,\n",
    "        \"CNT_CHILDREN\": 5\n",
    "    },\n",
    "    {\n",
    "        \"CODE_GENDER\": \"F\",\n",
    "        \"FLAG_EMAIL\": 1,\n",
    "        \"NAME_INCOME_TYPE\": \"Pensioner\",\n",
    "        \"NAME_FAMILY_STATUS\": \"Widow\",\n",
    "        \"NAME_EDUCATION_TYPE\": \"Secondary / secondary special\",\n",
    "        \"NAME_HOUSING_TYPE\": \"Municipal apartment\",\n",
    "        \"AMT_INCOME_TOTAL\": 80000,\n",
    "        \"DAYS_BIRTH\": -24000,\n",
    "        \"DAYS_EMPLOYED\": -10000,\n",
    "        \"CNT_CHILDREN\": 0\n",
    "    },\n",
    "    {\n",
    "        \"CODE_GENDER\": \"M\",\n",
    "        \"FLAG_EMAIL\": 1,\n",
    "        \"NAME_INCOME_TYPE\": \"Student\",\n",
    "        \"NAME_FAMILY_STATUS\": \"Single\",\n",
    "        \"NAME_EDUCATION_TYPE\": \"Incomplete higher\",\n",
    "        \"NAME_HOUSING_TYPE\": \"With parents\",\n",
    "        \"AMT_INCOME_TOTAL\": 30000,\n",
    "        \"DAYS_BIRTH\": -9000,\n",
    "        \"DAYS_EMPLOYED\": -200,\n",
    "        \"CNT_CHILDREN\": 0\n",
    "    },\n",
    "    {\n",
    "        \"CODE_GENDER\": \"F\",\n",
    "        \"FLAG_EMAIL\": 0,\n",
    "        \"NAME_INCOME_TYPE\": \"Commercial associate\",\n",
    "        \"NAME_FAMILY_STATUS\": \"Married\",\n",
    "        \"NAME_EDUCATION_TYPE\": \"Higher education\",\n",
    "        \"NAME_HOUSING_TYPE\": \"Rented apartment\",\n",
    "        \"AMT_INCOME_TOTAL\": 200000,\n",
    "        \"DAYS_BIRTH\": -18000,\n",
    "        \"DAYS_EMPLOYED\": -4000,\n",
    "        \"CNT_CHILDREN\": 2\n",
    "    },\n",
    "    {\n",
    "        \"CODE_GENDER\": \"F\",\n",
    "        \"FLAG_EMAIL\": 1,\n",
    "        \"NAME_INCOME_TYPE\": \"Student\",\n",
    "        \"NAME_FAMILY_STATUS\": \"Single\",\n",
    "        \"NAME_EDUCATION_TYPE\": \"Secondary / secondary special\",\n",
    "        \"NAME_HOUSING_TYPE\": \"With parents\",\n",
    "        \"AMT_INCOME_TOTAL\": 0,\n",
    "        \"DAYS_BIRTH\": -5000,\n",
    "        \"DAYS_EMPLOYED\": -0,\n",
    "        \"CNT_CHILDREN\": 0\n",
    "    }\n",
    "])\n",
    "\n"
   ]
  },
  {
   "cell_type": "markdown",
   "id": "e2254dac-4677-4b1d-b4b4-b915ad6d92f4",
   "metadata": {},
   "source": [
    "### Predict is_high_risk"
   ]
  },
  {
   "cell_type": "code",
   "execution_count": null,
   "id": "2b35284d-21e2-4898-8488-0166fffb4cc5",
   "metadata": {},
   "outputs": [],
   "source": [
    "result_df = predict_on_raw(raw_data)\n",
    "display(result_df)"
   ]
  },
  {
   "cell_type": "code",
   "execution_count": null,
   "id": "0f163d2d-29d7-40bc-9fff-a29dce1621e8",
   "metadata": {},
   "outputs": [],
   "source": [
    "result1_df = predict_on_raw(mraw_data)\n",
    "display(result1_df)"
   ]
  },
  {
   "cell_type": "code",
   "execution_count": null,
   "id": "25ca8c0c-b35a-4d3f-a3bf-727b8a3ec4bf",
   "metadata": {},
   "outputs": [],
   "source": []
  }
 ],
 "metadata": {
  "kernelspec": {
   "display_name": "Python (myenv)",
   "language": "python",
   "name": "myenv"
  },
  "language_info": {
   "codemirror_mode": {
    "name": "ipython",
    "version": 3
   },
   "file_extension": ".py",
   "mimetype": "text/x-python",
   "name": "python",
   "nbconvert_exporter": "python",
   "pygments_lexer": "ipython3",
   "version": "3.11.5"
  },
  "widgets": {
   "application/vnd.jupyter.widget-state+json": {
    "state": {},
    "version_major": 2,
    "version_minor": 0
   }
  }
 },
 "nbformat": 4,
 "nbformat_minor": 5
}
