{
 "cells": [
  {
   "cell_type": "markdown",
   "id": "3d951038-0839-4822-8785-99136faec70e",
   "metadata": {},
   "source": [
    "Credit Card Prediction"
   ]
  },
  {
   "cell_type": "code",
   "execution_count": null,
   "id": "2a55deba-5ea8-4f3d-a4bf-ae18a45a258c",
   "metadata": {},
   "outputs": [],
   "source": []
  },
  {
   "cell_type": "code",
   "execution_count": null,
   "id": "77bb7c96-9bb4-43d4-9bb6-5418476dbd0b",
   "metadata": {},
   "outputs": [],
   "source": []
  }
 ],
 "metadata": {
  "kernelspec": {
   "display_name": "Python 3 (ipykernel)",
   "language": "python",
   "name": "python3"
  },
  "language_info": {
   "codemirror_mode": {
    "name": "ipython",
    "version": 3
   },
   "file_extension": ".py",
   "mimetype": "text/x-python",
   "name": "python",
   "nbconvert_exporter": "python",
   "pygments_lexer": "ipython3",
   "version": "3.11.5"
  },
  "widgets": {
   "application/vnd.jupyter.widget-state+json": {
    "state": {},
    "version_major": 2,
    "version_minor": 0
   }
  }
 },
 "nbformat": 4,
 "nbformat_minor": 5
}
