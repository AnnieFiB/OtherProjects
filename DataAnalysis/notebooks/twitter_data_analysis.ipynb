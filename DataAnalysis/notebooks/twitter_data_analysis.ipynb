{
 "cells": [
  {
   "cell_type": "markdown",
   "id": "31bb39c0",
   "metadata": {},
   "source": [
    "# Twitter Data Analysis\n",
    "\n",
    "This notebook demonstrates how to use the Twitter API v2 script and analyze the collected data."
   ]
  },
  {
   "cell_type": "code",
   "execution_count": 1,
   "id": "af23154b",
   "metadata": {},
   "outputs": [],
   "source": [
    "# Import necessary libraries\n",
    "import json\n",
    "import pandas as pd\n",
    "import matplotlib.pyplot as plt\n",
    "import seaborn as sns\n",
    "import sys, os\n",
    "sys.path.append(\"../scripts\")\n",
    "\n",
    "from twitterapiv2 import get_all_tweets, default_query_parameters, request_headers\n",
    "import os"
   ]
  },
  {
   "cell_type": "markdown",
   "id": "ad8e06f2",
   "metadata": {},
   "source": [
    "## Step 1: Fetch Tweets\n",
    "\n",
    "First, let's fetch tweets using our Twitter API script."
   ]
  },
  {
   "cell_type": "code",
   "execution_count": null,
   "id": "b0b8d5da",
   "metadata": {},
   "outputs": [],
   "source": [
    "# Set up headers with your bearer token\n",
    "bearer_token = os.getenv(\"X_BEARER_TOKEN\")\n",
    "headers = request_headers(bearer_token)"
   ]
  },
  {
   "cell_type": "code",
   "execution_count": null,
   "id": "18521a4e",
   "metadata": {},
   "outputs": [],
   "source": [
    "# Fetch tweets\n",
    "tweets = get_all_tweets(\n",
    "    \"https://api.twitter.com/2/tweets/search/recent\",\n",
    "    headers,\n",
    "    default_query_parameters,\n",
    "    max_pages=3 # Adjust this number based on your needs\n",
    ")\n",
    "\n",
    "print(f\"Fetched {len(tweets)} tweets\")"
   ]
  },
  {
   "cell_type": "markdown",
   "id": "7fc34836",
   "metadata": {},
   "source": [
    "## Step 2: Convert to DataFrame\n",
    "\n",
    "Let's convert the tweets data into a pandas DataFrame for easier analysis."
   ]
  },
  {
   "cell_type": "code",
   "execution_count": null,
   "id": "6fa57fc4",
   "metadata": {},
   "outputs": [],
   "source": [
    "# Convert to DataFrame\n",
    "df = pd.DataFrame(tweets)\n",
    "\n",
    "# Display basic information\n",
    "print(\"DataFrame Info:\")\n",
    "df.info()\n",
    "\n",
    "print(\"\\nFirst few tweets:\")\n",
    "df.head()"
   ]
  },
  {
   "cell_type": "markdown",
   "id": "067d7fb3",
   "metadata": {},
   "source": [
    "## Step 3: Basic Analysis\n",
    "\n",
    "Let's perform some basic analysis on the tweets."
   ]
  },
  {
   "cell_type": "code",
   "execution_count": null,
   "id": "2f3ce6dc",
   "metadata": {},
   "outputs": [],
   "source": [
    "# Convert created_at to datetime\n",
    "df['created_at'] = pd.to_datetime(df['created_at'])\n",
    "\n",
    "# Extract engagement metrics\n",
    "df['retweet_count'] = df['public_metrics'].apply(lambda x: x['retweet_count'])\n",
    "df['reply_count'] = df['public_metrics'].apply(lambda x: x['reply_count'])\n",
    "df['like_count'] = df['public_metrics'].apply(lambda x: x['like_count'])\n",
    "df['quote_count'] = df['public_metrics'].apply(lambda x: x['quote_count'])\n",
    "\n",
    "# Display basic statistics\n",
    "print(\"Engagement Statistics:\")\n",
    "df[['retweet_count', 'reply_count', 'like_count', 'quote_count']].describe()"
   ]
  },
  {
   "cell_type": "markdown",
   "id": "b1e2c70c",
   "metadata": {},
   "source": [
    "## Step 4: Visualization\n",
    "\n",
    "Let's create some visualizations to better understand the data."
   ]
  },
  {
   "cell_type": "code",
   "execution_count": null,
   "id": "a2ce7aa6",
   "metadata": {},
   "outputs": [],
   "source": [
    "# Set style\n",
    "plt.style.use('seaborn')\n",
    "\n",
    "# Create a figure with subplots\n",
    "fig, axes = plt.subplots(2, 2, figsize=(15, 10))\n",
    "\n",
    "# Plot 1: Tweet timeline\n",
    "df.set_index('created_at').resample('D').size().plot(ax=axes[0,0], title='Tweets per Day')\n",
    "\n",
    "# Plot 2: Engagement metrics\n",
    "engagement_metrics = ['retweet_count', 'reply_count', 'like_count', 'quote_count']\n",
    "df[engagement_metrics].boxplot(ax=axes[0,1])\n",
    "axes[0,1].set_title('Engagement Metrics Distribution')\n",
    "axes[0,1].tick_params(axis='x', rotation=45)\n",
    "\n",
    "# Plot 3: Correlation heatmap\n",
    "sns.heatmap(df[engagement_metrics].corr(), annot=True, ax=axes[1,0])\n",
    "axes[1,0].set_title('Engagement Metrics Correlation')\n",
    "\n",
    "# Plot 4: Top 10 most liked tweets\n",
    "top_liked = df.nlargest(10, 'like_count')[['text', 'like_count']]\n",
    "top_liked.plot(kind='barh', x='text', y='like_count', ax=axes[1,1])\n",
    "axes[1,1].set_title('Top 10 Most Liked Tweets')\n",
    "\n",
    "plt.tight_layout()\n",
    "plt.show()"
   ]
  },
  {
   "cell_type": "markdown",
   "id": "3ccef642",
   "metadata": {},
   "source": [
    "## Step 5: Save Processed Data\n",
    "\n",
    "Finally, let's save our processed data for future use."
   ]
  },
  {
   "cell_type": "code",
   "execution_count": null,
   "id": "801da45b",
   "metadata": {},
   "outputs": [],
   "source": [
    "# Save to CSV\n",
    "df.to_csv('processed_tweets.csv', index=False)\n",
    "print(\"Data saved to processed_tweets.csv\")"
   ]
  }
 ],
 "metadata": {
  "kernelspec": {
   "display_name": "Python (myenv)",
   "language": "python",
   "name": "myenv"
  },
  "language_info": {
   "codemirror_mode": {
    "name": "ipython",
    "version": 3
   },
   "file_extension": ".py",
   "mimetype": "text/x-python",
   "name": "python",
   "nbconvert_exporter": "python",
   "pygments_lexer": "ipython3",
   "version": "3.11.5"
  },
  "widgets": {
   "application/vnd.jupyter.widget-state+json": {
    "state": {},
    "version_major": 2,
    "version_minor": 0
   }
  }
 },
 "nbformat": 4,
 "nbformat_minor": 5
}
